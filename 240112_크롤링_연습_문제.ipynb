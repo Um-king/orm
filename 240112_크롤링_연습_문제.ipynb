{
  "nbformat": 4,
  "nbformat_minor": 0,
  "metadata": {
    "colab": {
      "provenance": [],
      "authorship_tag": "ABX9TyPMUhQRQ7jw4eDe0Zd+26ME",
      "include_colab_link": true
    },
    "kernelspec": {
      "name": "python3",
      "display_name": "Python 3"
    },
    "language_info": {
      "name": "python"
    }
  },
  "cells": [
    {
      "cell_type": "markdown",
      "metadata": {
        "id": "view-in-github",
        "colab_type": "text"
      },
      "source": [
        "<a href=\"https://colab.research.google.com/github/Um-king/orm/blob/main/240112_%ED%81%AC%EB%A1%A4%EB%A7%81_%EC%97%B0%EC%8A%B5_%EB%AC%B8%EC%A0%9C.ipynb\" target=\"_parent\"><img src=\"https://colab.research.google.com/assets/colab-badge.svg\" alt=\"Open In Colab\"/></a>"
      ]
    },
    {
      "cell_type": "markdown",
      "source": [
        "# 크롤링 후 클래스에 저장하는 미션\n"
      ],
      "metadata": {
        "id": "kNflhXqYQ68b"
      }
    },
    {
      "cell_type": "code",
      "source": [
        "# 한번 requests 요청을 했으면 더는 요청 못하게 -> 최초 요청만 하고 나머지 작업들은 다음 코드에 작성한다.\n",
        "\n",
        "import requests # 통신을 해서 서버에서 제공해주는 값을 가져올 수 있다.\n",
        "from bs4 import BeautifulSoup # 가져온 값을 '파싱'해주는 모듈\n",
        "\n",
        "response = requests.get('https://paullab.co.kr/bookservice/')\n",
        "soup = BeautifulSoup(response.text, 'html.parser')"
      ],
      "metadata": {
        "colab": {
          "base_uri": "https://localhost:8080/"
        },
        "id": "J0k8BeywQ-HY",
        "outputId": "82b9d80f-dbdf-4059-943e-31ffb06d47ec"
      },
      "execution_count": 1,
      "outputs": [
        {
          "output_type": "stream",
          "name": "stdout",
          "text": [
            "[<h2 class=\"book_name\" style=\"margin-top: 0;\">메모혁신 Notion(노션) 활용 가이드</h2>, <h2 class=\"book_name\" style=\"margin-top: 0;\">이력서 작성 가이드</h2>, <h2 class=\"book_name\" style=\"margin-top: 0;\">제주코딩베이스캠프 Code Festival: Python 100제 1부</h2>, <h2 class=\"book_name\" style=\"margin-top: 0;\">튜토리얼로 배우는 HTML&amp;CSS</h2>, <h2 class=\"book_name\" style=\"margin-top: 0;\">코딩도장 튜토리얼로 배우는 Python 1편 object</h2>, <h2 class=\"book_name\" style=\"margin-top: 0;\">코딩도장 튜토리얼로 배우는 python 2편 제어문</h2>, <h2 class=\"book_name\" style=\"margin-top: 0;\">코딩도장 튜토리얼로 배우는 Python 문제풀이</h2>, <h2 class=\"book_name\" style=\"margin-top: 0;\">타노스의 건틀릿 알고리즘 With Python</h2>, <h2 class=\"book_name\" style=\"margin-top: 0;\">xlsxwriter 튜토리얼로 배우는 Python 엑셀 프로그래밍</h2>, <h2 class=\"book_name\" style=\"margin-top: 0;\">러플 튜토리얼로 배우는 Python</h2>, <h2 class=\"book_name\" style=\"margin-top: 0;\">인공지능을 활용한 업무자동화 With Google Developers Group JEJU</h2>]\n",
            "[<p class=\"book_info\" style=\"margin-bottom: 0;\">가격: 7,000원</p>, <p class=\"book_info\" style=\"margin-bottom: 0;\">저자: 이호준, 이준호, 김혜원, 김유진, 차경림, 김진, 현지연, 정승한</p>, <p class=\"book_info\" style=\"margin-bottom: 0;\">Notion의 기본 사용 방법부터 Notion을 활용한 홈페이지 제작 방법까지 다양하게 다루고 있으며 특히 개발자가 원하는 Notion의 활용 방법을 다루고 있습니다.</p>, <p class=\"book_info\" style=\"margin-bottom: 0;\">가격: 10,000원</p>, <p class=\"book_info\" style=\"margin-bottom: 0;\">저자: 강혜진, 김유진, 김혜원, 김진, 이범재, 이호준, 원유선, 박누리, 차경림, 최원범, 한재현</p>, <p class=\"book_info\" style=\"margin-bottom: 0;\">개발자 역량을 갖추는 것뿐만 아니라 회사에 뽑힐 확률을 높이는 전략과 방법도 필요합니다. 개발자 이력서는 그 첫걸음입니다.</p>, <p class=\"book_info\" style=\"margin-bottom: 0;\">가격: 무료</p>, <p class=\"book_info\" style=\"margin-bottom: 0;\">저자: 이호준, 강민정, 김유진, 정윤하, 최원범</p>, <p class=\"book_info\" style=\"margin-bottom: 0;\">파이썬으로 풀 수 있는 100문제를 만들었습니다. 50문제씩 1부(초급, 중급)와 2부(중급, 고급)로 나누어져있습니다.</p>, <p class=\"book_info\" style=\"margin-bottom: 0;\">가격: 4,900원</p>, <p class=\"book_info\" style=\"margin-bottom: 0;\">저자: 이호준, 박민균, 양지혜, 정민준, 박소영, 전유빈</p>, <p class=\"book_info\" style=\"margin-bottom: 0;\">튜토리얼을 통해 일단 만들어 봅시다! 무엇이든 일단 만들어 보면 길이 보이기 시작합니다. 그 다음 웹 동작방법, 태그의 동작 방식, 브라우저 렌더링 엔진 등에 대하여 부담이 되지 않을 만큼씩 배워가세요.</p>, <p class=\"book_info\" style=\"margin-bottom: 0;\">가격: 3,000원</p>, <p class=\"book_info\" style=\"margin-bottom: 0;\">저자: 이호준, 정민준, 배희성, 김덕주, 한승협</p>, <p class=\"book_info\" style=\"margin-bottom: 0;\">파이썬은 이해하기 쉽고 간결한 문법으로 생산성이 높아 교육을 포함한 다양한 분야 에서 활용되고 있는 언어입니다. 빅데이터 분석, 머신러닝, 웹 개발 등 다양하게 쓰이는 Python을 예제를 통해 배워보세요. 이 책은 여러 미션을 스토리텔링 형식으로 제공하며 튜토리얼 별로 코드를 제공하여 쉽고 재미있게 코딩 개념을 익힐 수 있도록 도와줄 것입니다.\n",
            "                    </p>, <p class=\"book_info\" style=\"margin-bottom: 0;\">가격: 4,900원</p>, <p class=\"book_info\" style=\"margin-bottom: 0;\">저자: 이호준, 우지훈, 박소영, 허재영</p>, <p class=\"book_info\" style=\"margin-bottom: 0;\">파이썬 튜토리얼 시리즈는 1편 Object 2편 제어문 3편 문제풀이로 구성되어 있습니다.</p>, <p class=\"book_info\" style=\"margin-bottom: 0;\">가격: 무료</p>, <p class=\"book_info\" style=\"margin-bottom: 0;\">저자: 이호준, 전유빈, 김태범, 한승협, 김혜원, 강민정</p>, <p class=\"book_info\" style=\"margin-bottom: 0;\">\n",
            "                          이 책은 Python 문법을 이제 막 끝낸 분에게 추천해 드립니다. \n",
            "                          코딩도장 사이트에 문제를 풀어보며 Python에 보다 깊게 다가가 보세요.\n",
            "                          다양한 문제들이 여러분의 실력을 향상시켜 줄 것입니다.</p>, <p class=\"book_info\" style=\"margin-bottom: 0;\">가격: 무료</p>, <p class=\"book_info\" style=\"margin-bottom: 0;\">저자: 이호준, 한승협, 강민정, 신민욱</p>, <p class=\"book_info\" style=\"margin-bottom: 0;\">이 책은 Python 문법을 이제 막 끝낸 분에게 추천해 드립니다. \n",
            "                          타노스의 핑거스냅 문제를 다양한 시각으로 풀어보며 Python에 보다 깊게 다가가 보세요. \n",
            "                          다양한 시각이 여러분의 실력을 향상시켜줄 것입니다.</p>, <p class=\"book_info\" style=\"margin-bottom: 0;\">가격: 무료</p>, <p class=\"book_info\" style=\"margin-bottom: 0;\">저자: 이호준, 강상권, 오재원, 전진환, 문형철, 이현창</p>, <p class=\"book_info\" style=\"margin-bottom: 0;\">이 책은 빅데이터를 가공하여 엑셀로 가시화 시키기 원하는 업무 담당자와 단순 업무를 Python을 이용하여 자동화 시키려 하는 업무 담당자에게 추천해드립니다. \n",
            "                          또한 부서의 업무 고도화, 효율화를 위해 적절한 자동화 프로그램을 찾지 못한 기업과 학문적 호기심을 가진 개인에게도 추천해 드립니다. \n",
            "                          세계에서 유행중인 Python은 타 언어에 비해 다루기 쉬우며 풍성한 라이브러리로 원하는 프로그램을 직접 만들기에 적합합니다.</p>, <p class=\"book_info\" style=\"margin-bottom: 0;\">가격: 4,900</p>, <p class=\"book_info\" style=\"margin-bottom: 0;\">저자: 이호준, 배희성, 양지혜, 박소영, 김수연, 정민준</p>, <p class=\"book_info\" style=\"margin-bottom: 0;\">이 책은 소프트웨어 교육을 처음 접했거나 스크래치, \n",
            "                              엔트리 등 블록기반 교육용 소프트웨어 다음으로 무엇을 배워야 할 지 모르는 초등학교 학생,\n",
            "                              중학교 학생과 소프트웨어 교육을 담당하는 선생님께 권해드립니다.\n",
            "                               파이썬 코드로 로봇을 제어하면서 코딩을 쉽게 배울 수 있는 러플은 고급 프로그래밍 언어를 처음 접하는\n",
            "                                학생들이 쉽게 언어기반 프로그래밍을 이해할 수 있도록 도와줍니다.</p>, <p class=\"book_info\" style=\"margin-bottom: 0;\">가격: 무료</p>, <p class=\"book_info\" style=\"margin-bottom: 0;\">저자: 이호준, 이준호, 현암, 윤현담, 김루비, 이동민, 유승엽, 박서윤, 김채린, 한승협, 안상우, 장성원, 전진환, 강민성, 조민구, 전창삼</p>, <p class=\"book_info\" style=\"margin-bottom: 0;\">이 책은 반복적이고 지루한 단순 업무를 Python을 이용하여 \n",
            "                          자동화 시키려 하는 업무 담당자와 데이터를 가공하여 가시화 시키기 원하는 업무 담당자에게 추천해드립니다.\n",
            "                           또한 부서의 업무 고도화, 효율화를 위해 적절한 자동화 프로그램을 찾지 못한 기업과 학문적 호기심을 가진 개인에게도 추천해 드립니다. \n",
            "                          세계에서 유행중인 Python은 타 언어에 비해 다루기 쉬우며 풍성한 라이브러리로 원하는 프로그램을 직접 만들기에 적합합니다.</p>]\n"
          ]
        }
      ]
    },
    {
      "cell_type": "code",
      "source": [
        "book_name = soup.select('.book_name')\n",
        "book_info =soup.select('.book_info')"
      ],
      "metadata": {
        "id": "BnEqa8ZGUJQc"
      },
      "execution_count": 2,
      "outputs": []
    },
    {
      "cell_type": "code",
      "source": [
        "# 필요한 데이터 호출 확인\n",
        "print(book_name[0].text)\n",
        "print(book_info[1].text)\n",
        "print(book_info[2].text)\n",
        "print(book_info[3].text)"
      ],
      "metadata": {
        "colab": {
          "base_uri": "https://localhost:8080/"
        },
        "id": "FCgE-G6eV8T7",
        "outputId": "4a7c160b-0229-47e6-e1f9-9a4376766e82"
      },
      "execution_count": 4,
      "outputs": [
        {
          "output_type": "stream",
          "name": "stdout",
          "text": [
            "메모혁신 Notion(노션) 활용 가이드\n",
            "저자: 이호준, 이준호, 김혜원, 김유진, 차경림, 김진, 현지연, 정승한\n",
            "Notion의 기본 사용 방법부터 Notion을 활용한 홈페이지 제작 방법까지 다양하게 다루고 있으며 특히 개발자가 원하는 Notion의 활용 방법을 다루고 있습니다.\n",
            "가격: 10,000원\n"
          ]
        }
      ]
    },
    {
      "cell_type": "code",
      "source": [
        "# 이렇게가 한세트\n",
        "print(book_name[1].text)\n",
        "print(book_info[3].text)\n",
        "print(book_info[4].text)\n",
        "print(book_info[5].text)"
      ],
      "metadata": {
        "id": "51iPIgkHXK5G"
      },
      "execution_count": null,
      "outputs": []
    },
    {
      "cell_type": "code",
      "source": [
        "books = []\n",
        "for i, _ in enumerate(book_name):\n",
        "    books.append({\n",
        "        '제목' : book_name[i].text,\n",
        "        '가격' : book_info[(i*3)].text,\n",
        "        '제자' : book_info[(i*3)+1].text,\n",
        "        '설명' : book_info[(i*3)+2].text\n",
        "    })\n",
        "\n",
        "books\n",
        "books[0]['가격']"
      ],
      "metadata": {
        "colab": {
          "base_uri": "https://localhost:8080/"
        },
        "id": "JJ1cCQhAV-Em",
        "outputId": "1130827c-5cc3-4ea7-b3d6-7cade203f219"
      },
      "execution_count": 5,
      "outputs": [
        {
          "output_type": "execute_result",
          "data": {
            "text/plain": [
              "[{'제목': '메모혁신 Notion(노션) 활용 가이드',\n",
              "  '가격': '가격: 7,000원',\n",
              "  '제자': '저자: 이호준, 이준호, 김혜원, 김유진, 차경림, 김진, 현지연, 정승한',\n",
              "  '설명': 'Notion의 기본 사용 방법부터 Notion을 활용한 홈페이지 제작 방법까지 다양하게 다루고 있으며 특히 개발자가 원하는 Notion의 활용 방법을 다루고 있습니다.'},\n",
              " {'제목': '이력서 작성 가이드',\n",
              "  '가격': '가격: 10,000원',\n",
              "  '제자': '저자: 강혜진, 김유진, 김혜원, 김진, 이범재, 이호준, 원유선, 박누리, 차경림, 최원범, 한재현',\n",
              "  '설명': '개발자 역량을 갖추는 것뿐만 아니라 회사에 뽑힐 확률을 높이는 전략과 방법도 필요합니다. 개발자 이력서는 그 첫걸음입니다.'},\n",
              " {'제목': '제주코딩베이스캠프 Code Festival: Python 100제 1부',\n",
              "  '가격': '가격: 무료',\n",
              "  '제자': '저자: 이호준, 강민정, 김유진, 정윤하, 최원범',\n",
              "  '설명': '파이썬으로 풀 수 있는 100문제를 만들었습니다. 50문제씩 1부(초급, 중급)와 2부(중급, 고급)로 나누어져있습니다.'},\n",
              " {'제목': '튜토리얼로 배우는 HTML&CSS',\n",
              "  '가격': '가격: 4,900원',\n",
              "  '제자': '저자: 이호준, 박민균, 양지혜, 정민준, 박소영, 전유빈',\n",
              "  '설명': '튜토리얼을 통해 일단 만들어 봅시다! 무엇이든 일단 만들어 보면 길이 보이기 시작합니다. 그 다음 웹 동작방법, 태그의 동작 방식, 브라우저 렌더링 엔진 등에 대하여 부담이 되지 않을 만큼씩 배워가세요.'},\n",
              " {'제목': '코딩도장 튜토리얼로 배우는 Python 1편 object',\n",
              "  '가격': '가격: 3,000원',\n",
              "  '제자': '저자: 이호준, 정민준, 배희성, 김덕주, 한승협',\n",
              "  '설명': '파이썬은 이해하기 쉽고 간결한 문법으로 생산성이 높아 교육을 포함한 다양한 분야 에서 활용되고 있는 언어입니다. 빅데이터 분석, 머신러닝, 웹 개발 등 다양하게 쓰이는 Python을 예제를 통해 배워보세요. 이 책은 여러 미션을 스토리텔링 형식으로 제공하며 튜토리얼 별로 코드를 제공하여 쉽고 재미있게 코딩 개념을 익힐 수 있도록 도와줄 것입니다.\\n                    '},\n",
              " {'제목': '코딩도장 튜토리얼로 배우는 python 2편 제어문',\n",
              "  '가격': '가격: 4,900원',\n",
              "  '제자': '저자: 이호준, 우지훈, 박소영, 허재영',\n",
              "  '설명': '파이썬 튜토리얼 시리즈는 1편 Object 2편 제어문 3편 문제풀이로 구성되어 있습니다.'},\n",
              " {'제목': '코딩도장 튜토리얼로 배우는 Python 문제풀이',\n",
              "  '가격': '가격: 무료',\n",
              "  '제자': '저자: 이호준, 전유빈, 김태범, 한승협, 김혜원, 강민정',\n",
              "  '설명': '\\n                          이 책은 Python 문법을 이제 막 끝낸 분에게 추천해 드립니다. \\n                          코딩도장 사이트에 문제를 풀어보며 Python에 보다 깊게 다가가 보세요.\\n                          다양한 문제들이 여러분의 실력을 향상시켜 줄 것입니다.'},\n",
              " {'제목': '타노스의 건틀릿 알고리즘 With Python',\n",
              "  '가격': '가격: 무료',\n",
              "  '제자': '저자: 이호준, 한승협, 강민정, 신민욱',\n",
              "  '설명': '이 책은 Python 문법을 이제 막 끝낸 분에게 추천해 드립니다. \\n                          타노스의 핑거스냅 문제를 다양한 시각으로 풀어보며 Python에 보다 깊게 다가가 보세요. \\n                          다양한 시각이 여러분의 실력을 향상시켜줄 것입니다.'},\n",
              " {'제목': 'xlsxwriter 튜토리얼로 배우는 Python 엑셀 프로그래밍',\n",
              "  '가격': '가격: 무료',\n",
              "  '제자': '저자: 이호준, 강상권, 오재원, 전진환, 문형철, 이현창',\n",
              "  '설명': '이 책은 빅데이터를 가공하여 엑셀로 가시화 시키기 원하는 업무 담당자와 단순 업무를 Python을 이용하여 자동화 시키려 하는 업무 담당자에게 추천해드립니다. \\n                          또한 부서의 업무 고도화, 효율화를 위해 적절한 자동화 프로그램을 찾지 못한 기업과 학문적 호기심을 가진 개인에게도 추천해 드립니다. \\n                          세계에서 유행중인 Python은 타 언어에 비해 다루기 쉬우며 풍성한 라이브러리로 원하는 프로그램을 직접 만들기에 적합합니다.'},\n",
              " {'제목': '러플 튜토리얼로 배우는 Python',\n",
              "  '가격': '가격: 4,900',\n",
              "  '제자': '저자: 이호준, 배희성, 양지혜, 박소영, 김수연, 정민준',\n",
              "  '설명': '이 책은 소프트웨어 교육을 처음 접했거나 스크래치, \\n                              엔트리 등 블록기반 교육용 소프트웨어 다음으로 무엇을 배워야 할 지 모르는 초등학교 학생,\\n                              중학교 학생과 소프트웨어 교육을 담당하는 선생님께 권해드립니다.\\n                               파이썬 코드로 로봇을 제어하면서 코딩을 쉽게 배울 수 있는 러플은 고급 프로그래밍 언어를 처음 접하는\\n                                학생들이 쉽게 언어기반 프로그래밍을 이해할 수 있도록 도와줍니다.'},\n",
              " {'제목': '인공지능을 활용한 업무자동화 With Google Developers Group JEJU',\n",
              "  '가격': '가격: 무료',\n",
              "  '제자': '저자: 이호준, 이준호, 현암, 윤현담, 김루비, 이동민, 유승엽, 박서윤, 김채린, 한승협, 안상우, 장성원, 전진환, 강민성, 조민구, 전창삼',\n",
              "  '설명': '이 책은 반복적이고 지루한 단순 업무를 Python을 이용하여 \\n                          자동화 시키려 하는 업무 담당자와 데이터를 가공하여 가시화 시키기 원하는 업무 담당자에게 추천해드립니다.\\n                           또한 부서의 업무 고도화, 효율화를 위해 적절한 자동화 프로그램을 찾지 못한 기업과 학문적 호기심을 가진 개인에게도 추천해 드립니다. \\n                          세계에서 유행중인 Python은 타 언어에 비해 다루기 쉬우며 풍성한 라이브러리로 원하는 프로그램을 직접 만들기에 적합합니다.'}]"
            ]
          },
          "metadata": {},
          "execution_count": 5
        }
      ]
    },
    {
      "cell_type": "code",
      "source": [
        "books = []\n",
        "class Book:\n",
        "    def __init__(self, name='', price=0, author='', info=''):\n",
        "        self.name = name\n",
        "        if price.replace('가격: ', '').replace('원', '').replace(',', '') == '무료':\n",
        "            self.price = 0\n",
        "        else:\n",
        "            self.price = int(price.replace('가격: ', '').replace('원', '').replace(',', ''))\n",
        "        self.author = author\n",
        "        self.info = info\n",
        "\n",
        "    def __str__(self):  # 만약 print(books) 출력시 메모리값이 출력됨 -> 해당 클래스의 __str__의 출력 내용을 수정한 것.\n",
        "        return self.name\n",
        "\n",
        "    def __repr__(self):\n",
        "        return self.name\n",
        "\n",
        "for i, _ in enumerate(book_name):\n",
        "    books.append(Book(\n",
        "        book_name[i].text,\n",
        "        book_info[(i*3)].text,\n",
        "        book_info[(i*3)+1].text,\n",
        "        book_info[(i*3)+2].text\n",
        "    ))\n",
        "\n",
        "books\n",
        "books[0].name\n",
        "books[0].price # books[0]['가격'] 코드보다 간결하고 아름답다."
      ],
      "metadata": {
        "colab": {
          "base_uri": "https://localhost:8080/"
        },
        "id": "ZPNIU1hcYxfH",
        "outputId": "5be96dc4-3907-4710-9356-8ecec572ea0d"
      },
      "execution_count": 12,
      "outputs": [
        {
          "output_type": "execute_result",
          "data": {
            "text/plain": [
              "7000"
            ]
          },
          "metadata": {},
          "execution_count": 12
        }
      ]
    },
    {
      "cell_type": "code",
      "source": [
        "import requests # 통신을 해서 서버에서 제공해주는 값을 가져올 수 있다.\n",
        "from bs4 import BeautifulSoup # 가져온 값을 '파싱'해주는 모듈\n",
        "\n",
        "response = requests.get('https://search.naver.com/search.naver?where=nexearch&sm=top_hty&fbm=0&ie=utf8&query=%EC%98%81%ED%99%94')\n",
        "soup = BeautifulSoup(response.text, 'html.parser')"
      ],
      "metadata": {
        "id": "06_6H4v-ahBa"
      },
      "execution_count": 13,
      "outputs": []
    },
    {
      "cell_type": "code",
      "source": [
        "soup.select('.this_text')[0].text"
      ],
      "metadata": {
        "colab": {
          "base_uri": "https://localhost:8080/",
          "height": 35
        },
        "id": "VpHpy40abASY",
        "outputId": "eaa657a7-4c01-485a-a815-7fabad73cae7"
      },
      "execution_count": 16,
      "outputs": [
        {
          "output_type": "execute_result",
          "data": {
            "text/plain": [
              "'인투 더 월드'"
            ],
            "application/vnd.google.colaboratory.intrinsic+json": {
              "type": "string"
            }
          },
          "metadata": {},
          "execution_count": 16
        }
      ]
    },
    {
      "cell_type": "code",
      "source": [
        "for i, j in enumerate(soup.select('.this_text'), 1):\n",
        "    print(i, j.text)"
      ],
      "metadata": {
        "colab": {
          "base_uri": "https://localhost:8080/"
        },
        "id": "x6AnTojBbDA9",
        "outputId": "672d2f26-72fe-40f3-b61d-1ef13b27de74"
      },
      "execution_count": 18,
      "outputs": [
        {
          "output_type": "stream",
          "name": "stdout",
          "text": [
            "1 인투 더 월드\n",
            "2 외계+인 2부\n",
            "3 위시\n",
            "4 노량: 죽음의 바다\n",
            "5 서울의 봄\n",
            "6 신차원! 짱구는 못말려 더 무비 초능력 대결전 ~날아라 수제김밥~\n",
            "7 길위에 김대중\n",
            "8 립세의 사계\n",
            "9 새로고침\n"
          ]
        }
      ]
    },
    {
      "cell_type": "code",
      "source": [],
      "metadata": {
        "id": "DzrvShZ_bhxF"
      },
      "execution_count": null,
      "outputs": []
    }
  ]
}