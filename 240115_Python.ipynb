{
  "nbformat": 4,
  "nbformat_minor": 0,
  "metadata": {
    "colab": {
      "provenance": [],
      "authorship_tag": "ABX9TyMFTvJS66bqKDnD+Y6WekwE",
      "include_colab_link": true
    },
    "kernelspec": {
      "name": "python3",
      "display_name": "Python 3"
    },
    "language_info": {
      "name": "python"
    }
  },
  "cells": [
    {
      "cell_type": "markdown",
      "metadata": {
        "id": "view-in-github",
        "colab_type": "text"
      },
      "source": [
        "<a href=\"https://colab.research.google.com/github/Um-king/orm/blob/main/240115_Python.ipynb\" target=\"_parent\"><img src=\"https://colab.research.google.com/assets/colab-badge.svg\" alt=\"Open In Colab\"/></a>"
      ]
    },
    {
      "cell_type": "markdown",
      "source": [
        "# class 3번째 시간\n",
        "\n",
        "* class 클래스이름 => 인스턴스\n",
        "* class Post => 게시물1, 게시물2, 게시물3...\n",
        "* class Dot => 점1, 점2, 점3...\n",
        "* class Character => Licat(주인공), Lion(빌런), Mob1(몬스터)\n",
        "* class Matrix => 행렬1, 행렬2, 행렬3...\n",
        "* class User => 유저1, 유저2, 유저3...\n",
        "* class Cart(장바구니) => Cart1, Cart2, Cart3...\n",
        "* class Commnet(댓글) => 댓글1, 댓글2, 댓글3...\n",
        "* class Product => 상품1, 상품2, 상품3...\n",
        "* class Class_ => 강의1, 강의2, 강의3...\n",
        "* class Teacher => 강사1, 강사2, 강사3..."
      ],
      "metadata": {
        "id": "Cf2hqWycgMYQ"
      }
    },
    {
      "cell_type": "code",
      "source": [
        "from datetime import datetime\n",
        "\n",
        "datetime.now() #  오늘 날짜 출력\n",
        "datetime.now().date()\n",
        "datetime.now().year\n",
        "datetime.now().month\n",
        "datetime.now().day\n",
        "datetime.now().hour\n",
        "datetime.now().minute\n",
        "datetime.now().second\n",
        "\n",
        "d = datetime.now()\n",
        "print(f'{d.year}/{d.month}/{d.day}') # 가볍게 사용하긴 좋지만, 날짜나 시간은 타입이 있다.\n"
      ],
      "metadata": {
        "colab": {
          "base_uri": "https://localhost:8080/"
        },
        "id": "GA6QBSb3gNdQ",
        "outputId": "73c2718e-8209-49a6-c80e-8d5f93d0ead0"
      },
      "execution_count": 8,
      "outputs": [
        {
          "output_type": "stream",
          "name": "stdout",
          "text": [
            "2024/1/15\n"
          ]
        }
      ]
    },
    {
      "cell_type": "code",
      "source": [
        "# date format 참고\n",
        "# https://mnworld.co.kr/entry/Programming-날짜-형식Date-Format-정리\n",
        "\n",
        "d = datetime.now()\n",
        "d.strftime(\"올해 연도는 %Y!!\") # 이런식으로 많이 사용\n",
        "d.strftime(\"%Y/%m/%d\") # 가장 많이 쓰는 date format, 하나만 기억해야한다면 이것을 기억하기\n",
        "# d.strftime(\"%y/%m/%d\")"
      ],
      "metadata": {
        "colab": {
          "base_uri": "https://localhost:8080/",
          "height": 35
        },
        "id": "bipc4TQNgYUK",
        "outputId": "d3a98c57-3f4a-4a65-8fcf-ef23bfff056d"
      },
      "execution_count": 14,
      "outputs": [
        {
          "output_type": "execute_result",
          "data": {
            "text/plain": [
              "'2024/01/15'"
            ],
            "application/vnd.google.colaboratory.intrinsic+json": {
              "type": "string"
            }
          },
          "metadata": {},
          "execution_count": 14
        }
      ]
    },
    {
      "cell_type": "code",
      "source": [
        "class User:\n",
        "    '''\n",
        "    클래스 변수\n",
        "    클래스가 공통으로 가져야하는 내용 작성\n",
        "    '''\n",
        "    user_count = 0\n",
        "    gender = ('남', '여')\n",
        "\n",
        "    def __init__(self, name, joindate, gender, age, email, password):\n",
        "        '''\n",
        "        인스턴스 고유 영역(인스턴스 변수 생성)\n",
        "        인스턴스가 갖는 각각의 교유 내용\n",
        "\n",
        "        -> self는 인스턴스를 가리킴, 인스턴스 고유의 영역을 가리키는 키워드가 self\n",
        "        '''\n",
        "        self.joindate = joindate\n",
        "        self.accessdate = joindate\n",
        "        self.name = name\n",
        "        self.gender = gender\n",
        "        self.age = age\n",
        "        self.email = email\n",
        "        self.password = password # 실무에서는 이렇게 저장 절대 안한다. (Django에서도 이렇게 저장해서 오류가 나는 경우가 많음) 패스워드는 관리자도 몰라야함(암호화 필요)\n",
        "        # Django에서는 SHA256을 사용, MD5라는 알고리즘을 암호화로 많이 사용했었는데 이게 깨졌음(레인보우 어택) 절대 MD5는 사용x\n",
        "\n",
        "\n",
        "user1 = User('이호준', '2024/01/15', '남', 15, 'hojun@gamil.com', '1q2w3e4r!')\n",
        "user1.name\n",
        "user1.accessdate"
      ],
      "metadata": {
        "colab": {
          "base_uri": "https://localhost:8080/",
          "height": 35
        },
        "id": "aSBXLkt9hXIa",
        "outputId": "99f8faca-fb53-4dda-8455-1637a42d4a03"
      },
      "execution_count": 16,
      "outputs": [
        {
          "output_type": "execute_result",
          "data": {
            "text/plain": [
              "'2024/01/15'"
            ],
            "application/vnd.google.colaboratory.intrinsic+json": {
              "type": "string"
            }
          },
          "metadata": {},
          "execution_count": 16
        }
      ]
    },
    {
      "cell_type": "code",
      "source": [
        "class User:\n",
        "    user_count = 0\n",
        "    gender = ('남', '여')\n",
        "\n",
        "    def __init__(self, name, joindate, gender, age, email, password):\n",
        "        self.joindate = joindate\n",
        "        self.accessdate = joindate\n",
        "        self.name = name\n",
        "        self.gender = gender\n",
        "        self.age = age\n",
        "        self.email = email\n",
        "        self.password = password\n",
        "\n",
        "\n",
        "user1 = User('이호준', '2024/01/15', '남', 15, 'hojun@gamil.com', '1q2w3e4r!')\n",
        "user1.name\n",
        "user1.accessdate\n",
        "\n",
        "User.user_count = 1\n",
        "\n",
        "user2 = User('홍길동', '2024/01/15', '남', 30, 'gildong@gamil.com', '1q2w3e4r!')\n",
        "user2.name\n",
        "\n",
        "print(user1.user_count)\n",
        "print(user2.user_count)\n",
        "\n",
        "# 무엇을 알 수 있나요?\n",
        "# 실제로 class와 인스턴스의 메모리 영역은 교집합 상태\n",
        "# 한 곳에서 수정되면 모두 수정된다.!\n",
        "# 그래서 처음에 클래스를 설계할 때 모든 인스턴스에 있을 변수(클래스 변수)와 인스턴스에만 있는 변수(인스턴스 변수)를 나누는 것이 매우 중요"
      ],
      "metadata": {
        "colab": {
          "base_uri": "https://localhost:8080/"
        },
        "id": "kwBWjLJdmbMA",
        "outputId": "f93224d6-a45c-4477-b48c-bfe926520a70"
      },
      "execution_count": 21,
      "outputs": [
        {
          "output_type": "stream",
          "name": "stdout",
          "text": [
            "1\n",
            "1\n"
          ]
        }
      ]
    },
    {
      "cell_type": "code",
      "source": [
        "from datetime import datetime\n",
        "\n",
        "class User:\n",
        "    user_count = 0\n",
        "    gender = ('남', '여')\n",
        "\n",
        "    def __init__(self, name, joindate, gender, age, email, password):\n",
        "        self.joindate = joindate\n",
        "        self.accessdate = joindate # 수정일자\n",
        "        self.name = name\n",
        "        self.gender = gender\n",
        "        self.age = age\n",
        "        self.email = email\n",
        "        self.password = password\n",
        "\n",
        "    def change_password(self, password):\n",
        "        self.password = password\n",
        "        self.accessdate = datetime.strftime('%Y/%m/%d') # 이런 형태의 date format을 많이 사용\n",
        "\n",
        "    def update_email(self, email):\n",
        "        self.email = email\n",
        "        self.accessdate = datetime.strftime('%Y/%m/%d')\n",
        "\n",
        "    def display_profile(self):\n",
        "        print(f'name: {self.name}')\n",
        "        print(f'joindate: {self.joindate}')\n",
        "        print(f'accessdate: {self.accessdate}')\n",
        "\n",
        "    def __str__(self):\n",
        "        return self.name\n",
        "\n",
        "    def __repr__(self):\n",
        "        return self.name\n",
        "\n",
        "user1 = User('이호준', '2024/01/15', '남', 15, 'hojun@gamil.com', '1q2w3e4r!')\n",
        "user2 = User('홍길동', '2024/01/15', '남', 30, 'gildong@gamil.com', '1q2w3e4r!')\n",
        "\n",
        "print(user1)"
      ],
      "metadata": {
        "colab": {
          "base_uri": "https://localhost:8080/"
        },
        "id": "C7_Pj0xsm0GS",
        "outputId": "6265a39f-a8fb-4e1b-9391-20fc0abf6184"
      },
      "execution_count": 22,
      "outputs": [
        {
          "output_type": "stream",
          "name": "stdout",
          "text": [
            "이호준\n"
          ]
        }
      ]
    },
    {
      "cell_type": "code",
      "source": [
        "def f():\n",
        "    return\n",
        "\n",
        "f() # return 값이 none이면 아예 출력을 안함"
      ],
      "metadata": {
        "id": "s4d97YUmqCvR"
      },
      "execution_count": null,
      "outputs": []
    },
    {
      "cell_type": "code",
      "source": [
        "# 수정된 버전\n",
        "# 이해 X, 복습 X\n",
        "import hashlib\n",
        "import re\n",
        "from datetime import datetime\n",
        "\n",
        "class User:\n",
        "    user_count = 0\n",
        "    gender = ('남', '여')\n",
        "\n",
        "    def __init__(self, name, joindate, gender, age, email, password):\n",
        "        self.joindate = joindate\n",
        "        self.accessdate = joindate\n",
        "        self.name = name\n",
        "        self.gender = gender\n",
        "        self.age = age\n",
        "        self.email = email\n",
        "        self.password = self._hash_password(password)\n",
        "\n",
        "    def _hash_password(self, password):\n",
        "        return hashlib.sha256(password.encode()).hexdigest()\n",
        "\n",
        "    def change_password(self, password): # django의 user.set_password('비밀번호')와 비슷한 역할\n",
        "        if len(password) < 8: # validate 또는 유효성 검증이라고 합니다.\n",
        "            print('너무 짧습니다!')\n",
        "            return\n",
        "        self.password = self._hash_password(password)\n",
        "        self.accessdate = datetime.now().strftime('%Y/%m/%d')\n",
        "\n",
        "    def update_email(self, email):\n",
        "        if self._validate_email(email):\n",
        "            self.email = email\n",
        "            self.accessdate = datetime.now().strftime('%Y/%m/%d')\n",
        "        else:\n",
        "            print(\"유효하지 않은 이메일 주소입니다.\")\n",
        "\n",
        "    def _validate_email(self, email):\n",
        "        pattern = r\"[\\w.-]+@[\\w.-]+\\.\\w+\"\n",
        "        return re.match(pattern, email) is not None\n",
        "\n",
        "    def display_profile(self):\n",
        "        print(f'name: {self.name}')\n",
        "        print(f'joindate: {self.joindate}')\n",
        "        print(f'accessdate: {self.accessdate}')\n",
        "        print(f'email: {self.email}')\n",
        "\n",
        "    def __str__(self):\n",
        "        return self.name\n",
        "\n",
        "    def __repr__(self):\n",
        "        return self.name\n",
        "\n",
        "user1 = User('이호준', '2024/01/15', '남', 15, 'hojun@gmail.com', '1q2w3e4r!')\n",
        "user2 = User('홍길동', '2024/01/15', '남', 30, 'gildong@gmail.com', '1q2w3e4r!!')\n",
        "\n",
        "print(user1)\n",
        "user1.display_profile()\n",
        "user1.password"
      ],
      "metadata": {
        "colab": {
          "base_uri": "https://localhost:8080/",
          "height": 126
        },
        "id": "ulUKHaj_ui-X",
        "outputId": "73d96d85-fbbc-40a2-eef4-5579afabbba8"
      },
      "execution_count": 23,
      "outputs": [
        {
          "output_type": "stream",
          "name": "stdout",
          "text": [
            "이호준\n",
            "name: 이호준\n",
            "joindate: 2024/01/15\n",
            "accessdate: 2024/01/15\n",
            "email: hojun@gmail.com\n"
          ]
        },
        {
          "output_type": "execute_result",
          "data": {
            "text/plain": [
              "'febd93f04bda1aec0d374f8fd014d062525934feb1f1b81ee7c64d61f66b84b1'"
            ],
            "application/vnd.google.colaboratory.intrinsic+json": {
              "type": "string"
            }
          },
          "metadata": {},
          "execution_count": 23
        }
      ]
    },
    {
      "cell_type": "code",
      "source": [
        "# 온라인 쇼핑몰에서 장바구니에 집어 넣기\n",
        "class Cart:\n",
        "    def __init__(self):\n",
        "        self.items = []\n",
        "\n",
        "    def add_item(self, item, count):\n",
        "        self.items.append({\n",
        "                '물품': item,\n",
        "                '갯수': count\n",
        "            })\n",
        "\n",
        "    def total_price(self):\n",
        "        total_sum = 0\n",
        "        for i in self.items:\n",
        "            total_sum += i['물품'].price * i['갯수']\n",
        "        return format(total_sum, ',') # 금액 콤마(,)\n",
        "\n",
        "\n",
        "class Product:\n",
        "    def __init__(self, product_name, price):\n",
        "        self.product_name = product_name\n",
        "        self.price = price\n",
        "\n",
        "    # 권장사항. 출력할때 유지보수를 위함..\n",
        "    def __str__(self):\n",
        "        return self.product_name\n",
        "\n",
        "    def __repr__(self):\n",
        "        return self.product_name\n",
        "\n",
        "로지텍키보드 = Product('로지텍키보드', 50000)\n",
        "LG모니터 = Product('LG모니터', 300000)\n",
        "그래픽카드4090 = Product('GTX4090', 2000000)\n",
        "\n",
        "hojun_cart = Cart()\n",
        "hojun_cart.add_item(로지텍키보드, 10)\n",
        "hojun_cart.add_item(LG모니터, 10)\n",
        "hojun_cart.add_item(그래픽카드4090, 2)\n",
        "\n",
        "print(hojun_cart.items)\n",
        "print(hojun_cart.total_price())"
      ],
      "metadata": {
        "colab": {
          "base_uri": "https://localhost:8080/"
        },
        "id": "8rDc-Os1uj3f",
        "outputId": "4cadfb72-cc08-4936-c8ac-b010d1a828bf"
      },
      "execution_count": 31,
      "outputs": [
        {
          "output_type": "stream",
          "name": "stdout",
          "text": [
            "[{'물품': 로지텍키보드, '갯수': 10}, {'물품': LG모니터, '갯수': 10}, {'물품': GTX4090, '갯수': 2}]\n",
            "7,500,000\n"
          ]
        }
      ]
    },
    {
      "cell_type": "markdown",
      "source": [
        "# 클래스 심화"
      ],
      "metadata": {
        "id": "X8XiYEEtzHtj"
      }
    },
    {
      "cell_type": "code",
      "source": [
        "# 클래스 메서드(@classmethod)\n",
        "# 클래스 상태를 변경하는데 사용될 수 있습니다.\n",
        "\n",
        "# (@classmethod) 클래스 메서드는 클래스 변수를 변경하고 싶을때 사용한다\n",
        "# 주의해야 할 점이 첫번째 인자로 오는 cls는 관습으로 고정된것. self가 a로 바꾸면 작동은 하지만 관습적으로 바꾸면 안되는 것처럼\n",
        "# cls는 class를 의미\n",
        "class MyClass:\n",
        "    count = 0\n",
        "\n",
        "    @classmethod\n",
        "    def increment(cls): # 클래스 변수를 수정\n",
        "        cls.count += 1\n",
        "\n",
        "MyClass.increment()\n",
        "print(MyClass.count)  # 출력: 1\n",
        "\n",
        "# 클래스 변수를 바꾸거나 컨트롤 하고 싶을때 함수에 클래스 메서드를 사용(@classmethod)"
      ],
      "metadata": {
        "colab": {
          "base_uri": "https://localhost:8080/"
        },
        "id": "wi1m9P_sw2yR",
        "outputId": "edb3f515-c59c-428f-b861-b621815ce049"
      },
      "execution_count": 32,
      "outputs": [
        {
          "output_type": "stream",
          "name": "stdout",
          "text": [
            "1\n"
          ]
        }
      ]
    },
    {
      "cell_type": "code",
      "source": [
        "# 정적 메서드(@staticmethod)\n",
        "# 독립적으로 작동하는 메서드\n",
        "\n",
        "# 언제 쓰느냐!? : 정적메서드는 self로 내부 변수에 접근이 안되서\n",
        "# 책 클래스 만든 것 중 할인율 같이 관련은 있는데 밖으로 함수를 빼기 부담스러운 것들을 이렇게 사용.\n",
        "class MyClass:\n",
        "    @staticmethod\n",
        "    def my_method(x, y):\n",
        "        return x + y\n",
        "\n",
        "print(MyClass.my_method(5, 3))  # 출력: 8"
      ],
      "metadata": {
        "colab": {
          "base_uri": "https://localhost:8080/"
        },
        "id": "z1Avl8GxzaC6",
        "outputId": "7764763a-1baf-4331-896f-f37dad2ba525"
      },
      "execution_count": 33,
      "outputs": [
        {
          "output_type": "stream",
          "name": "stdout",
          "text": [
            "8\n"
          ]
        }
      ]
    },
    {
      "cell_type": "code",
      "source": [
        "class Book:\n",
        "    def __init__(self, name, price):\n",
        "        self.name = name\n",
        "        self.price = price\n",
        "\n",
        "    @staticmethod\n",
        "    def 할인율(원가, 할인):\n",
        "        return 원가 * (1-(할인/100))\n",
        "\n",
        "Book.할인율(9000, 10) # 이런식으로 함수를 호출\n",
        "# 밖으로 뺄 수 있는 함수이고, 굳이 안에 들어갈 필요가 없죠?\n",
        "# 하지만 할인율은 Book과 연관이 있습니다.\n",
        "# 이렇게 코딩을 하면 유지보수하기 좋다."
      ],
      "metadata": {
        "colab": {
          "base_uri": "https://localhost:8080/"
        },
        "id": "6uJ8veRh0Ui2",
        "outputId": "fcaa93ae-bfa9-4e7a-e921-4ed8be85f50b"
      },
      "execution_count": 34,
      "outputs": [
        {
          "output_type": "execute_result",
          "data": {
            "text/plain": [
              "8100.0"
            ]
          },
          "metadata": {},
          "execution_count": 34
        }
      ]
    },
    {
      "cell_type": "code",
      "source": [
        "# 비권장하는 케이스\n",
        "class Book:\n",
        "    def __init__(self, name, price):\n",
        "        self.name = name\n",
        "        self.price = price\n",
        "\n",
        "def 할인율(원가, 할인):\n",
        "    return 원가 * (1-(할인/100))\n",
        "\n",
        "book1 = Book('python 100제', 9000)\n",
        "할인율(book1.price, 10)"
      ],
      "metadata": {
        "colab": {
          "base_uri": "https://localhost:8080/"
        },
        "id": "nC63qWdt0wXN",
        "outputId": "661a270f-bf71-4dd4-e578-7fda41e8a2e6"
      },
      "execution_count": 36,
      "outputs": [
        {
          "output_type": "execute_result",
          "data": {
            "text/plain": [
              "8100.0"
            ]
          },
          "metadata": {},
          "execution_count": 36
        }
      ]
    },
    {
      "cell_type": "code",
      "source": [
        "# 중요도 높지 않음\n",
        "\n",
        "\n",
        "# 속성 접근자 (Property)\n",
        "# 클래스의 메서드를 속성처럼 접근할 수 있게 만들 수 있습니다.\n",
        "# 객체의 내부 상태를 보호하고, 특정 속성에 대한 접근을 제어\n",
        "\n",
        "class Person:\n",
        "    def __init__(self, first_name, last_name):\n",
        "        self._first_name = first_name\n",
        "        self._last_name = last_name\n",
        "\n",
        "    @property\n",
        "    def full_name(self):\n",
        "        return f'{self._first_name}{self._last_name}'\n",
        "\n",
        "licat = Person('li', 'cat')\n",
        "print(licat._first_name)\n",
        "print(licat._last_name)\n",
        "print(licat.full_name) #  full_name은 메서드인데 함수로 호출하지 않음 -> 메서드를 속성처럼 사용\n",
        "# print(licat.full_name())\n"
      ],
      "metadata": {
        "colab": {
          "base_uri": "https://localhost:8080/"
        },
        "id": "CHu9h2Y61j-y",
        "outputId": "ea8547ce-cfb1-4010-a291-c8af960b24f2"
      },
      "execution_count": 37,
      "outputs": [
        {
          "output_type": "stream",
          "name": "stdout",
          "text": [
            "li\n",
            "cat\n",
            "licat\n"
          ]
        }
      ]
    },
    {
      "cell_type": "code",
      "source": [
        "# 덕타이핑 (별로 중요하지x)\n",
        "# 실제 타입은 상관치 않고 구현된 메서드로 확인하는 방법\n",
        "# 객체의 변수 및 메서드의 집합이 객체의 타입을 결정하는 개념을 의미합니다. 이를 통해 유연한 인터페이스를 구현할 수 있습니다.\n",
        "\n",
        "# 직관적이고 누가 움직이는지 알고 싶지 않고 주인공을 앞으로 한칸 움직이고 싶다.\n",
        "\n",
        "class Duck:\n",
        "    def quack(self):\n",
        "        print('꽥꽥!')\n",
        "\n",
        "class Person:\n",
        "    def quack(self):\n",
        "        print(\"안녕하세요!\")\n",
        "\n",
        "def quack(obj):\n",
        "    obj.quack()\n",
        "\n",
        "duck = Duck()\n",
        "person = Person()\n",
        "\n",
        "quack(duck)  # 출력: 꽥꽥! -> duck.quack() 대신 quack(duck)을 사용하겠다.\n",
        "quack(person)  # 출력: 안녕하세요! -> person.quack() 대신 quack(person)을 사용하겠다.\n",
        "\n",
        "# 그럼 해당 오브젝트의 메서드를 출력. -> 더 직관적이라서 유용하다...."
      ],
      "metadata": {
        "colab": {
          "base_uri": "https://localhost:8080/"
        },
        "id": "M0SPjZYd2Slw",
        "outputId": "bf188248-9478-4bfc-f3de-1e2bff32ba3b"
      },
      "execution_count": 38,
      "outputs": [
        {
          "output_type": "stream",
          "name": "stdout",
          "text": [
            "꽥꽥!\n",
            "안녕하세요!\n"
          ]
        }
      ]
    },
    {
      "cell_type": "code",
      "source": [
        "# 오버라이딩\n",
        "# 자식이 부모의 메서드를 덮어 쓰는 것\n",
        "\n",
        "# 파이썬에는 오버로딩은 없다.\n",
        "\n",
        "class Animal:\n",
        "    def sound(self):\n",
        "        print(\"기본 동물 울음 소리, 악!\")\n",
        "\n",
        "class Dog(Animal):\n",
        "    def sound(self):\n",
        "        print(\"왈왈!\")\n",
        "\n",
        "class Cat(Animal):\n",
        "    def sound(self):\n",
        "        print(\"냐옹!\")\n",
        "\n",
        "# super()를 사용해서 부모의 메서드를 사용할 수 있습니다.\n",
        "class Bird(Animal):\n",
        "    def sound(self):\n",
        "        super().sound() # 부모의 메서드를 사용\n",
        "        print(\"짹짹!\")\n",
        "\n",
        "b = Bird()\n",
        "b.sound()"
      ],
      "metadata": {
        "colab": {
          "base_uri": "https://localhost:8080/"
        },
        "id": "KPuy8WI94sXf",
        "outputId": "f6031fb1-e841-4c13-e33f-e4bdd6e3befb"
      },
      "execution_count": 44,
      "outputs": [
        {
          "output_type": "stream",
          "name": "stdout",
          "text": [
            "기본 동물 울음 소리, 악!\n",
            "짹짹!\n"
          ]
        }
      ]
    },
    {
      "cell_type": "code",
      "source": [
        "# super()를 통해 부모의 생성자를 호출\n",
        "class Person:\n",
        "    def __init__(self, name):\n",
        "        self.name = name\n",
        "\n",
        "class Student(Person):\n",
        "    def __init__(self, name, student_id):\n",
        "        super().__init__(name)  # 부모 클래스의 __init__ 메서드 호출\n",
        "        self.student_id = student_id\n",
        "\n",
        "s = Student(\"Alice\", \"S12345\")\n",
        "print(s.name)        # 출력: Alice\n",
        "print(s.student_id)  # 출력: S12345"
      ],
      "metadata": {
        "colab": {
          "base_uri": "https://localhost:8080/"
        },
        "id": "dxzXsxkQ7yr4",
        "outputId": "96ddcf9a-ae6d-4d95-ec26-179bba06fa0e"
      },
      "execution_count": 45,
      "outputs": [
        {
          "output_type": "stream",
          "name": "stdout",
          "text": [
            "Alice\n",
            "S12345\n"
          ]
        }
      ]
    },
    {
      "cell_type": "code",
      "source": [
        "# 추상 클래스\n",
        "# 무조건 구현해야하는 것\n",
        "# 기본적으로 구현하지 않아도 되는 메서드(추상 메서드)를 가진 클래스로 서브클래스에서 반드시 구현해야 하는 메서드를 정의하는데 사용\n",
        "# 중요도는 높지만 빈도가 낮아 별 0.5개\n",
        "# 추상클래스: 반드시 구현되어야하는 메서드를 명시하면 그것을 상속한  클래스에서는 반드시 그 메서드를 구현해야한다.\n",
        "# 언제 사용? => 예를 들어 빠트리면 안되는 메서드가 있는 경우\n",
        "# 게시판 만드는데 게시물 업데이트 날짜, 생성 날짜를 추상클래스로 구현할 수 있다.\n",
        "\n",
        "\n",
        "from abc import ABC, abstractmethod\n",
        "\n",
        "class AbstractClassExample(ABC):\n",
        "\n",
        "    @abstractmethod\n",
        "    def do_something(self):\n",
        "        pass\n",
        "\n",
        "class Person(AbstractClassExample):\n",
        "\n",
        "    def __init__(self, name):\n",
        "        self.name = name\n",
        "\n",
        "    def print_name(self):\n",
        "        print(f'제 이름은 {self.name}입니다.')\n",
        "\n",
        "    # 추상 클래스의 메서드 재정의 -> 오버라이딩\n",
        "    def do_something(self):\n",
        "        print('hello world')\n",
        "\n",
        "hojun = Person('hojun')\n",
        "hojun.print_name()\n"
      ],
      "metadata": {
        "colab": {
          "base_uri": "https://localhost:8080/"
        },
        "id": "eSfD9TXu7z9l",
        "outputId": "892138f0-22bf-4f01-8816-94220608e75a"
      },
      "execution_count": 46,
      "outputs": [
        {
          "output_type": "stream",
          "name": "stdout",
          "text": [
            "제 이름은 hojun입니다.\n"
          ]
        }
      ]
    },
    {
      "cell_type": "code",
      "source": [
        "# 파이썬에는 인터페이스가 없다.\n",
        "# 그러나 추상 클래스를 이용하여 인터페이스처럼 동작하는 클래스를 만들 수 있다."
      ],
      "metadata": {
        "id": "KlIr3yKc-DJa"
      },
      "execution_count": null,
      "outputs": []
    },
    {
      "cell_type": "code",
      "source": [
        "# 비공개 속성 (별로 중요하지x)\n",
        "# 시큐어 코딩\n",
        "\n",
        "# 클래스에서 비공개 속성을 만들수 있냐고 물어보면 비공개 속성은 있는데 실제로 비공개는 아니다.\n",
        "# 완전히 접근을 제한하는 것이 아니다. (완전히 감춰지는 변수x)\n",
        "\n",
        "# 언더스코어(__)를 붙여 해당 속성을 비공개처럼 표현할 수 있습니다.\n",
        "class MyClass:\n",
        "    __a = 10 # 비공개 속성(Private Attributes)\n",
        "    _a = 100\n",
        "    b = 20\n",
        "\n",
        "    def __init__(self, c, d):\n",
        "        self.__c = c\n",
        "        self.d = d\n",
        "\n",
        "c = MyClass(30, 40)\n",
        "c._a # 보통 다른 언어에서는 _ 한개가 private value입니다. -> 파이썬에서는 수정하지말라는 표시로 많이 사용.(실제로는 그렇지 않지만 관습..?)\n",
        "# c.__a # error -> 어? 접근이 안되네? 이걸로 변수를 감추면 되겠다!? => 이렇게 생각하면 안되는 것이다.\n",
        "\n",
        "# # c.__a #error\n",
        "# c._a # 출력: 100\n",
        "# c.b # 출력: 20\n",
        "# # c.__c # error\n",
        "# c.d # 출력: 40\n",
        "\n",
        "# 감춰진 값을 출력.. 이런식으로 출력이 가능하니 감춰졌다고 생각하면 안된다.\n",
        "print(c._MyClass__c)  # 출력: 30"
      ],
      "metadata": {
        "colab": {
          "base_uri": "https://localhost:8080/"
        },
        "id": "eL29RKk--edO",
        "outputId": "a6be5030-3df9-4625-a8e7-9e370ca8a286"
      },
      "execution_count": 49,
      "outputs": [
        {
          "output_type": "stream",
          "name": "stdout",
          "text": [
            "30\n"
          ]
        }
      ]
    },
    {
      "cell_type": "code",
      "source": [],
      "metadata": {
        "id": "1_WFw-AM_Td4"
      },
      "execution_count": null,
      "outputs": []
    }
  ]
}