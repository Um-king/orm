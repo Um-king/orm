{
  "nbformat": 4,
  "nbformat_minor": 0,
  "metadata": {
    "colab": {
      "provenance": [],
      "authorship_tag": "ABX9TyMbiZkNUlcHoX2FgTI/GDHc",
      "include_colab_link": true
    },
    "kernelspec": {
      "name": "python3",
      "display_name": "Python 3"
    },
    "language_info": {
      "name": "python"
    }
  },
  "cells": [
    {
      "cell_type": "markdown",
      "metadata": {
        "id": "view-in-github",
        "colab_type": "text"
      },
      "source": [
        "<a href=\"https://colab.research.google.com/github/Um-king/orm/blob/main/240117_Python.ipynb\" target=\"_parent\"><img src=\"https://colab.research.google.com/assets/colab-badge.svg\" alt=\"Open In Colab\"/></a>"
      ]
    },
    {
      "cell_type": "markdown",
      "source": [
        "## 문제 1: 함수를 인자로 받는 고차함수\n",
        "주어진 리스트와 함수를 인자로 받아, 리스트의 각 요소에 해당 함수를 적용한 결과를 반환하는 고차함수 `apply_function`을 작성해주세요.\n",
        "\n"
      ],
      "metadata": {
        "id": "nN58u-JOwzrq"
      }
    },
    {
      "cell_type": "code",
      "source": [
        "# 베스트 답안\n",
        "def apply_function(lst, func):\n",
        "    return list(map(func, lst))\n",
        "\n",
        "# 예제 사용\n",
        "result = apply_function([1, 2, 3, 4], lambda x: x * 2)\n",
        "print(result)  # [2, 4, 6, 8]이 출력되어야 함"
      ],
      "metadata": {
        "colab": {
          "base_uri": "https://localhost:8080/"
        },
        "id": "reTqOZaIw3Ne",
        "outputId": "ca160a67-0d3c-49c8-8418-0debcd158c37"
      },
      "execution_count": 1,
      "outputs": [
        {
          "output_type": "stream",
          "name": "stdout",
          "text": [
            "[2, 4, 6, 8]\n"
          ]
        }
      ]
    },
    {
      "cell_type": "code",
      "source": [
        "def apply_function(lst, func):\n",
        "    l = []\n",
        "    for i in lst:\n",
        "        l.append(func(i))\n",
        "    return l\n",
        "\n",
        "# 예제 사용\n",
        "result = apply_function([1, 2, 3, 4], lambda x: x * 2)\n",
        "print(result)  # [2, 4, 6, 8]이 출력되어야 함"
      ],
      "metadata": {
        "colab": {
          "base_uri": "https://localhost:8080/"
        },
        "id": "bbseWbtpxWRr",
        "outputId": "015f8d7f-8c80-466b-9daf-b3b98bb9a490"
      },
      "execution_count": 2,
      "outputs": [
        {
          "output_type": "stream",
          "name": "stdout",
          "text": [
            "[2, 4, 6, 8]\n"
          ]
        }
      ]
    },
    {
      "cell_type": "code",
      "source": [
        "# 리스트 컴프리헨션\n",
        "def apply_function(lst, func):\n",
        "    return [func(i) for i in lst]\n",
        "\n",
        "# 예제 사용\n",
        "result = apply_function([1, 2, 3, 4], lambda x: x * 2)\n",
        "print(result)  # [2, 4, 6, 8]이 출력되어야 함"
      ],
      "metadata": {
        "colab": {
          "base_uri": "https://localhost:8080/"
        },
        "id": "eGVK2h-2xu_j",
        "outputId": "f6f1e0aa-e262-4e1c-9275-c5a5e298b9ca"
      },
      "execution_count": 3,
      "outputs": [
        {
          "output_type": "stream",
          "name": "stdout",
          "text": [
            "[2, 4, 6, 8]\n"
          ]
        }
      ]
    },
    {
      "cell_type": "markdown",
      "source": [
        "## 문제 2: 함수를 반환하는 고차함수\n",
        "정수 n을 인자로 받아, 다른 정수 x에 n을 곱하는 함수를 반환하는 고차함수 `multiply_by_n`을 작성해주세요. 힌트를 드리자면 반환 값은 lambda여야 합니다.\n",
        "\n"
      ],
      "metadata": {
        "id": "FHfTc4gZw5kw"
      }
    },
    {
      "cell_type": "code",
      "source": [
        "# 고차함수 : 함수를 아규먼트로 받거나 함수를 반환하는 것\n",
        "\n",
        "\n",
        "def multiply_by_n(n):\n",
        "    return lambda x: x * n\n",
        "\n",
        "# 예제 사용\n",
        "multiplier = multiply_by_n(5)\n",
        "print(multiplier(3))  # 15가 출력되어야 함"
      ],
      "metadata": {
        "colab": {
          "base_uri": "https://localhost:8080/"
        },
        "id": "tFCF9vCDw8jV",
        "outputId": "f7f3ad0e-faf4-466b-835a-50779c1889af"
      },
      "execution_count": 4,
      "outputs": [
        {
          "output_type": "stream",
          "name": "stdout",
          "text": [
            "15\n"
          ]
        }
      ]
    },
    {
      "cell_type": "code",
      "source": [
        "# 람다를 사용하지 않았을 경우\n",
        "def multiply_by_n(n):\n",
        "    def f(x):\n",
        "        return x * n\n",
        "    return f\n",
        "\n",
        "# 예제 사용\n",
        "multiplier = multiply_by_n(5)\n",
        "print(multiplier(3))  # 15가 출력되어야 함"
      ],
      "metadata": {
        "colab": {
          "base_uri": "https://localhost:8080/"
        },
        "id": "dxxicWHVyUYj",
        "outputId": "64a6cbee-34c3-4472-d477-a2926b185ba3"
      },
      "execution_count": 6,
      "outputs": [
        {
          "output_type": "stream",
          "name": "stdout",
          "text": [
            "15\n"
          ]
        }
      ]
    },
    {
      "cell_type": "markdown",
      "source": [
        "## 어제 과제와 연관된 실습"
      ],
      "metadata": {
        "id": "1SYXcVL5zcGV"
      }
    },
    {
      "cell_type": "code",
      "source": [
        "class Calc:\n",
        "    pass\n",
        "\n",
        "\n",
        "add = Calc()\n",
        "add\n",
        "\n",
        "# 더할  수 있는 함수의 기능이 지금 Calc에 없습니다.\n",
        "\n",
        "add.oper = lambda x, y : x + y\n",
        "add.oper(10, 20)\n",
        "\n",
        "# add.oper에서 oper는 인스턴스 변수\n",
        "# 거기에 람다함수를 할당 -> 인스턴스 변수가 인스턴스 함수가 된것.\n",
        "# 클래스에는 정의되어있지 않지만 인스턴스 객체에 함수를 할당하여 함수의 기능처럼 사용 가능"
      ],
      "metadata": {
        "colab": {
          "base_uri": "https://localhost:8080/"
        },
        "id": "iu4yUY0VyzRi",
        "outputId": "9138c319-249b-4510-a7fd-7c1e9412be46"
      },
      "execution_count": 7,
      "outputs": [
        {
          "output_type": "execute_result",
          "data": {
            "text/plain": [
              "30"
            ]
          },
          "metadata": {},
          "execution_count": 7
        }
      ]
    },
    {
      "cell_type": "markdown",
      "source": [
        "# 클로저\n",
        "* 함수 내 함수가 외부 변수를 참조하여 보존하는 것을 얘기합니다."
      ],
      "metadata": {
        "id": "5j4PgHmH0Ru3"
      }
    },
    {
      "cell_type": "code",
      "source": [
        "# 클로저: 클로징 되어야 하는 변수에 접근하는 것\n",
        "# 사라져야하는 변수의 값을 기억하고 있는 것\n",
        "\n",
        "# 1번: 클로저가 아닌경우\n",
        "def outer_function():\n",
        "    def inner_function():\n",
        "        return 100 + 100\n",
        "    return inner_function\n",
        "\n",
        "# 2번: 클로저인 경우\n",
        "def outer_function(x):\n",
        "    def inner_function(y):\n",
        "        return x + y # 밖에 있는 변수 x를 참조하고 있다 -> 따라서 x의 값을 기억하고 있음\n",
        "    return inner_function\n",
        "\n",
        "inner = outer_function(100)\n",
        "inner(200) # inner 입장에서 100을 변경할 수 있는 방법이 없습니다."
      ],
      "metadata": {
        "colab": {
          "base_uri": "https://localhost:8080/"
        },
        "id": "AfFSAzakzxj-",
        "outputId": "43600d52-dfd4-4aa7-c043-a8a9973431d8"
      },
      "execution_count": 8,
      "outputs": [
        {
          "output_type": "execute_result",
          "data": {
            "text/plain": [
              "300"
            ]
          },
          "metadata": {},
          "execution_count": 8
        }
      ]
    },
    {
      "cell_type": "code",
      "source": [
        "# nonlocal : 바로 위의 블록의 변수 값을 사용하겠다.\n",
        "# counter() 함수의 상위 함수는 make_counter() -> nonlocal를 사용하여 make_counter의 count를 사용하겠다.\n",
        "def make_counter():\n",
        "    count = 0\n",
        "\n",
        "    def counter():\n",
        "        nonlocal count\n",
        "        count += 1\n",
        "        return count\n",
        "\n",
        "    return counter\n",
        "\n",
        "counter_a = make_counter()\n",
        "print(counter_a())  # 1\n",
        "print(counter_a())  # 2\n",
        "print(counter_a())  # 3\n",
        "\n",
        "# 이렇게 함으로 순서는 항상 상승된다는 것을 보장할 수 있다."
      ],
      "metadata": {
        "colab": {
          "base_uri": "https://localhost:8080/"
        },
        "id": "L4a6tpK81IjD",
        "outputId": "af8ff3c3-6e9b-400d-8e9f-a64f17155650"
      },
      "execution_count": 10,
      "outputs": [
        {
          "output_type": "stream",
          "name": "stdout",
          "text": [
            "1\n",
            "2\n",
            "3\n"
          ]
        }
      ]
    },
    {
      "cell_type": "code",
      "source": [
        "# 클로저 x -> return 시 내용이 사라짐\n",
        "def calc(oper):\n",
        "    def add(x, y):\n",
        "        return x + y\n",
        "    def sub(x, y):\n",
        "        return x - y\n",
        "\n",
        "    # 함수 반환\n",
        "    if oper == 'add':\n",
        "        return add\n",
        "    if oper == 'sub':\n",
        "        return sub\n",
        "\n",
        "add = calc('add')\n",
        "add(10, 20)"
      ],
      "metadata": {
        "colab": {
          "base_uri": "https://localhost:8080/"
        },
        "id": "S6TLAc9e4HB3",
        "outputId": "b0ae09bb-a622-4d90-ae2f-ecbc407ebb1d"
      },
      "execution_count": 12,
      "outputs": [
        {
          "output_type": "execute_result",
          "data": {
            "text/plain": [
              "30"
            ]
          },
          "metadata": {},
          "execution_count": 12
        }
      ]
    },
    {
      "cell_type": "code",
      "source": [
        "# 클로저 o -> return을 해도 즉 클로징이 되어야하는 변수인 original이 계속 살아있음\n",
        "def calc(oper, original):\n",
        "    def add(x, y):\n",
        "        return original + x + y\n",
        "    def sub(x, y):\n",
        "        return original - x - y\n",
        "\n",
        "    # 함수 반환\n",
        "    if oper == 'add':\n",
        "        return add\n",
        "    if oper == 'sub':\n",
        "        return sub\n",
        "\n",
        "add = calc('add', 1000)\n",
        "add(10, 20) # add의 입장에서 1000을 바꿀수 없다\n",
        "\n",
        "sub = calc('sub', 100)\n",
        "sub(10, 20) # sub의 입장에서 100을 바꿀수 없다"
      ],
      "metadata": {
        "colab": {
          "base_uri": "https://localhost:8080/"
        },
        "id": "NIjlhdmL49tR",
        "outputId": "703facd4-6f97-4914-cd63-61f19a9c322c"
      },
      "execution_count": 13,
      "outputs": [
        {
          "output_type": "execute_result",
          "data": {
            "text/plain": [
              "70"
            ]
          },
          "metadata": {},
          "execution_count": 13
        }
      ]
    },
    {
      "cell_type": "code",
      "source": [
        "# 아래와 같이 사용하면 문제가 발생할 수도 있습니다.\n",
        "def 은행(원금):\n",
        "    def 입금(입금금액):\n",
        "        return 원금 + 입금금액\n",
        "    return 입금\n",
        "\n",
        "이호준통장_입금함수 = 은행(1000) # 1000만원을 초기에 입금\n",
        "이호준통장_입금함수(100)\n",
        "이호준통장_입금함수(-1100)\n",
        "\n",
        "# 문제점1: 입금 금액에 커스텀 인스턴스를 넣어서 __add__를 추가할 수 있나요?\n",
        "# 문제점2: 출금은 안되나요?"
      ],
      "metadata": {
        "colab": {
          "base_uri": "https://localhost:8080/"
        },
        "id": "d4YSFx9i8JGJ",
        "outputId": "40e13cc3-8b6b-48ee-f000-ff19effc3d4a"
      },
      "execution_count": 15,
      "outputs": [
        {
          "output_type": "execute_result",
          "data": {
            "text/plain": [
              "-100"
            ]
          },
          "metadata": {},
          "execution_count": 15
        }
      ]
    },
    {
      "cell_type": "code",
      "source": [
        "# 요즘 은행에서 이런 시큐어 코딩 문제로 문제가 발생되는 경우는 극히 드뭅니다.\n",
        "# 거래소\n",
        "\n",
        "# 이더리움 <- 음수가 없습니다. 양수만 있습니다.\n",
        "# 0원 -1원 => 옜날 차 계기판 => 나올 수 있는 최댓값 => 은행 통장 잔고 전체\n",
        "# 마이너스 연산을 허락하지 않았는데 어떻게 마이너스 연산을 한 것일까요?"
      ],
      "metadata": {
        "id": "MwWhSjM9-Mm_"
      },
      "execution_count": null,
      "outputs": []
    },
    {
      "cell_type": "markdown",
      "source": [
        "# 데코레이터"
      ],
      "metadata": {
        "id": "tE19wolc3CHm"
      }
    },
    {
      "cell_type": "code",
      "source": [
        "def login(function):\n",
        "    '''\n",
        "    로그인을 확인하는 로직\n",
        "    '''\n",
        "    pass\n",
        "\n",
        "@login # 로그인 함수를 실행하겠다는 뜻 ->login함수의 파라미터로 게시판읽기 함수가 사용됨\n",
        "def 게시판읽기():\n",
        "    pass"
      ],
      "metadata": {
        "id": "xApJ_7W12P9f"
      },
      "execution_count": null,
      "outputs": []
    },
    {
      "cell_type": "code",
      "source": [
        "def 동작시간체크(function):\n",
        "    '''\n",
        "    동작 시간을 체크하는 로직\n",
        "    '''\n",
        "    pass\n",
        "\n",
        "@동작시간체크 # f() 함수 호출 시 동작시간체크 함수를 사용\n",
        "def f():\n",
        "    pass"
      ],
      "metadata": {
        "id": "nydnEBok_aXM"
      },
      "execution_count": null,
      "outputs": []
    },
    {
      "cell_type": "code",
      "source": [
        "def log(function):\n",
        "    '''\n",
        "    DB에 접속 기록을 쌓는 로직\n",
        "    '''\n",
        "    pass\n",
        "\n",
        "@log # log라는 함수가 f함수를 파라미터로 받아서 DB에 접속 기록을 쌓는 로직을 수행\n",
        "def f():\n",
        "    pass"
      ],
      "metadata": {
        "id": "NyPHy9WP_nPD"
      },
      "execution_count": null,
      "outputs": []
    },
    {
      "cell_type": "code",
      "source": [
        "# 왜 데코레이터가 필요한가? 그냥 아래와 같이 하면 안되나요?\n",
        "# >> 분명한 목적성, 가독성, 명료 의 목적으로 데코레이터를 사용\n",
        "\n",
        "def login(function):\n",
        "    pass\n",
        "\n",
        "def 게시판읽기():\n",
        "    login() # 이렇게 해도 로그인을 확인하는 로직이 들어가는데!? 굳이!? 새로운 문법을 만들면서까지 사용해야 하나요?\n",
        "    pass\n"
      ],
      "metadata": {
        "id": "lV_NnHVa_xOq"
      },
      "execution_count": null,
      "outputs": []
    },
    {
      "cell_type": "code",
      "source": [
        "def simple_decorator(function): # 파라미터 function 값으로 hello()함수가 사용된다.\n",
        "    def wrapper():\n",
        "        print(\"전\")\n",
        "        function()\n",
        "        print(\"후\")\n",
        "    return wrapper\n",
        "\n",
        "@simple_decorator # simple_decorator 데코레이터 사용 시 simple_decorator 함수가 정의 되어 있어야하고, hello라는 함수가 파라미터로 사용된다.\n",
        "def hello():\n",
        "    print(\"Hello, World!\")\n",
        "\n",
        "hello() # 데코레이터가 없는 상태에서는 simple_decorator(hello)() 와 같습니다."
      ],
      "metadata": {
        "colab": {
          "base_uri": "https://localhost:8080/"
        },
        "id": "jPs-7i71AQZf",
        "outputId": "7629368a-9087-4568-9957-bb420be39575"
      },
      "execution_count": 16,
      "outputs": [
        {
          "output_type": "stream",
          "name": "stdout",
          "text": [
            "전\n",
            "Hello, World!\n",
            "후\n"
          ]
        }
      ]
    },
    {
      "cell_type": "code",
      "source": [
        "# 매개변수가 있는 함수의 데코레이터\n",
        "\n",
        "def simple_decorator(function):\n",
        "    def wrapper(a, b): # point 1\n",
        "        print('전')\n",
        "        result = function(a, b) # point 2\n",
        "        print('후')\n",
        "        return result\n",
        "    return wrapper\n",
        "\n",
        "@simple_decorator\n",
        "def hello(a, b):\n",
        "    return a + b\n",
        "\n",
        "hello(10, 20) # => simple_decorator(hello)(10, 20) => wrapper(10, 20)"
      ],
      "metadata": {
        "colab": {
          "base_uri": "https://localhost:8080/"
        },
        "id": "6zDZ6Q0OA5f5",
        "outputId": "0e3f4634-7e49-481a-e684-7c842d259995"
      },
      "execution_count": 18,
      "outputs": [
        {
          "output_type": "stream",
          "name": "stdout",
          "text": [
            "전\n",
            "후\n"
          ]
        },
        {
          "output_type": "execute_result",
          "data": {
            "text/plain": [
              "30"
            ]
          },
          "metadata": {},
          "execution_count": 18
        }
      ]
    },
    {
      "cell_type": "code",
      "source": [
        "# 매개변수가 있는 함수의 데코레이터\n",
        "\n",
        "def simple_decorator(function):\n",
        "    def wrapper(a): # point 1\n",
        "        print('전')\n",
        "        result = function(a) # point 2\n",
        "        print('후')\n",
        "        return result\n",
        "    return wrapper\n",
        "\n",
        "@simple_decorator\n",
        "def hello(a):\n",
        "    return a ** 2\n",
        "\n",
        "hello(10)"
      ],
      "metadata": {
        "colab": {
          "base_uri": "https://localhost:8080/"
        },
        "id": "wdvTECHrDusV",
        "outputId": "9995e717-6700-47fe-c580-629003765c2a"
      },
      "execution_count": 20,
      "outputs": [
        {
          "output_type": "stream",
          "name": "stdout",
          "text": [
            "전\n",
            "후\n"
          ]
        },
        {
          "output_type": "execute_result",
          "data": {
            "text/plain": [
              "100"
            ]
          },
          "metadata": {},
          "execution_count": 20
        }
      ]
    },
    {
      "cell_type": "code",
      "source": [
        "# 강사님이 사용하는 데코레이터\n",
        "\n",
        "# sum([1, 2, '3', 4, 5, '6']) # error! 그런데 이게 되게 하고 싶다"
      ],
      "metadata": {
        "id": "8me2E513EpZE"
      },
      "execution_count": null,
      "outputs": []
    },
    {
      "cell_type": "code",
      "source": [
        "l = [1, 2, '3', 4, 5, '6']\n",
        "sum(map(int, l)) # 이렇게 하면 되는 것\n",
        "\n",
        "# l = [1, 2, '3hello', 4, 5, 'l6l'] # 이렇게 되어 있다면..."
      ],
      "metadata": {
        "colab": {
          "base_uri": "https://localhost:8080/"
        },
        "id": "Xiy0lzRiFQGw",
        "outputId": "9bfdaf03-9afb-4ce5-b78b-101a4b921933"
      },
      "execution_count": 23,
      "outputs": [
        {
          "output_type": "execute_result",
          "data": {
            "text/plain": [
              "21"
            ]
          },
          "metadata": {},
          "execution_count": 23
        }
      ]
    },
    {
      "cell_type": "code",
      "source": [
        "# step 1 : 골격을 만듭니다\n",
        "\n",
        "def data_pre(function):\n",
        "    def wrapper():\n",
        "        return None\n",
        "    return wrapper\n",
        "\n",
        "@data_pre\n",
        "def mean(l):\n",
        "    return sum(l) / len(l)\n",
        "\n",
        "mean([1, 2, '3', 4, 5, '6']) # data_pre(mean)()"
      ],
      "metadata": {
        "id": "PwGeXh-WFVyQ"
      },
      "execution_count": null,
      "outputs": []
    },
    {
      "cell_type": "code",
      "source": [
        "# step 2 : 파라미터를 설정\n",
        "# 얻어가야할 포인트(데코레이터와는 관련 x) : map은 __len__가 없어서 len()이 안된다.\n",
        "# 포인트2 : list 형변환은 부담이 있는 연산이니 주의해주세요\n",
        "\n",
        "def data_pre(function):\n",
        "    def wrapper(iter_obj):\n",
        "        return function((map(int, iter_obj)))\n",
        "    return wrapper\n",
        "\n",
        "@data_pre\n",
        "def mean(l):\n",
        "    return sum(l) / len(l) # len에서 error -> map은 len()함수가 없다.\n",
        "\n",
        "mean([1, 2, '3', 4, 5, '6']) # data_pre(mean)(iter_obj) # iter_obj에 [1, 2, '3', 4, 5, '6']"
      ],
      "metadata": {
        "colab": {
          "base_uri": "https://localhost:8080/",
          "height": 497
        },
        "id": "tM9ksU8AGp2v",
        "outputId": "7238f265-1291-4d4f-9c3e-fe99d35fecf9"
      },
      "execution_count": 28,
      "outputs": [
        {
          "output_type": "error",
          "ename": "TypeError",
          "evalue": "object of type 'map' has no len()",
          "traceback": [
            "\u001b[0;31m---------------------------------------------------------------------------\u001b[0m",
            "\u001b[0;31mTypeError\u001b[0m                                 Traceback (most recent call last)",
            "\u001b[0;32m<ipython-input-28-5fa4db22ebe8>\u001b[0m in \u001b[0;36m<cell line: 12>\u001b[0;34m()\u001b[0m\n\u001b[1;32m     10\u001b[0m     \u001b[0;32mreturn\u001b[0m \u001b[0msum\u001b[0m\u001b[0;34m(\u001b[0m\u001b[0ml\u001b[0m\u001b[0;34m)\u001b[0m \u001b[0;34m/\u001b[0m \u001b[0mlen\u001b[0m\u001b[0;34m(\u001b[0m\u001b[0ml\u001b[0m\u001b[0;34m)\u001b[0m\u001b[0;34m\u001b[0m\u001b[0;34m\u001b[0m\u001b[0m\n\u001b[1;32m     11\u001b[0m \u001b[0;34m\u001b[0m\u001b[0m\n\u001b[0;32m---> 12\u001b[0;31m \u001b[0mmean\u001b[0m\u001b[0;34m(\u001b[0m\u001b[0;34m[\u001b[0m\u001b[0;36m1\u001b[0m\u001b[0;34m,\u001b[0m \u001b[0;36m2\u001b[0m\u001b[0;34m,\u001b[0m \u001b[0;34m'3'\u001b[0m\u001b[0;34m,\u001b[0m \u001b[0;36m4\u001b[0m\u001b[0;34m,\u001b[0m \u001b[0;36m5\u001b[0m\u001b[0;34m,\u001b[0m \u001b[0;34m'6'\u001b[0m\u001b[0;34m]\u001b[0m\u001b[0;34m)\u001b[0m \u001b[0;31m# data_pre(mean)(iter_obj) # iter_obj에 [1, 2, '3', 4, 5, '6']\u001b[0m\u001b[0;34m\u001b[0m\u001b[0;34m\u001b[0m\u001b[0m\n\u001b[0m",
            "\u001b[0;32m<ipython-input-28-5fa4db22ebe8>\u001b[0m in \u001b[0;36mwrapper\u001b[0;34m(iter_obj)\u001b[0m\n\u001b[1;32m      3\u001b[0m \u001b[0;32mdef\u001b[0m \u001b[0mdata_pre\u001b[0m\u001b[0;34m(\u001b[0m\u001b[0mfunction\u001b[0m\u001b[0;34m)\u001b[0m\u001b[0;34m:\u001b[0m\u001b[0;34m\u001b[0m\u001b[0;34m\u001b[0m\u001b[0m\n\u001b[1;32m      4\u001b[0m     \u001b[0;32mdef\u001b[0m \u001b[0mwrapper\u001b[0m\u001b[0;34m(\u001b[0m\u001b[0miter_obj\u001b[0m\u001b[0;34m)\u001b[0m\u001b[0;34m:\u001b[0m\u001b[0;34m\u001b[0m\u001b[0;34m\u001b[0m\u001b[0m\n\u001b[0;32m----> 5\u001b[0;31m         \u001b[0;32mreturn\u001b[0m \u001b[0mfunction\u001b[0m\u001b[0;34m(\u001b[0m\u001b[0;34m(\u001b[0m\u001b[0mmap\u001b[0m\u001b[0;34m(\u001b[0m\u001b[0mint\u001b[0m\u001b[0;34m,\u001b[0m \u001b[0miter_obj\u001b[0m\u001b[0;34m)\u001b[0m\u001b[0;34m)\u001b[0m\u001b[0;34m)\u001b[0m\u001b[0;34m\u001b[0m\u001b[0;34m\u001b[0m\u001b[0m\n\u001b[0m\u001b[1;32m      6\u001b[0m     \u001b[0;32mreturn\u001b[0m \u001b[0mwrapper\u001b[0m\u001b[0;34m\u001b[0m\u001b[0;34m\u001b[0m\u001b[0m\n\u001b[1;32m      7\u001b[0m \u001b[0;34m\u001b[0m\u001b[0m\n",
            "\u001b[0;32m<ipython-input-28-5fa4db22ebe8>\u001b[0m in \u001b[0;36mmean\u001b[0;34m(l)\u001b[0m\n\u001b[1;32m      8\u001b[0m \u001b[0;34m@\u001b[0m\u001b[0mdata_pre\u001b[0m\u001b[0;34m\u001b[0m\u001b[0;34m\u001b[0m\u001b[0m\n\u001b[1;32m      9\u001b[0m \u001b[0;32mdef\u001b[0m \u001b[0mmean\u001b[0m\u001b[0;34m(\u001b[0m\u001b[0ml\u001b[0m\u001b[0;34m)\u001b[0m\u001b[0;34m:\u001b[0m\u001b[0;34m\u001b[0m\u001b[0;34m\u001b[0m\u001b[0m\n\u001b[0;32m---> 10\u001b[0;31m     \u001b[0;32mreturn\u001b[0m \u001b[0msum\u001b[0m\u001b[0;34m(\u001b[0m\u001b[0ml\u001b[0m\u001b[0;34m)\u001b[0m \u001b[0;34m/\u001b[0m \u001b[0mlen\u001b[0m\u001b[0;34m(\u001b[0m\u001b[0ml\u001b[0m\u001b[0;34m)\u001b[0m\u001b[0;34m\u001b[0m\u001b[0;34m\u001b[0m\u001b[0m\n\u001b[0m\u001b[1;32m     11\u001b[0m \u001b[0;34m\u001b[0m\u001b[0m\n\u001b[1;32m     12\u001b[0m \u001b[0mmean\u001b[0m\u001b[0;34m(\u001b[0m\u001b[0;34m[\u001b[0m\u001b[0;36m1\u001b[0m\u001b[0;34m,\u001b[0m \u001b[0;36m2\u001b[0m\u001b[0;34m,\u001b[0m \u001b[0;34m'3'\u001b[0m\u001b[0;34m,\u001b[0m \u001b[0;36m4\u001b[0m\u001b[0;34m,\u001b[0m \u001b[0;36m5\u001b[0m\u001b[0;34m,\u001b[0m \u001b[0;34m'6'\u001b[0m\u001b[0;34m]\u001b[0m\u001b[0;34m)\u001b[0m \u001b[0;31m# data_pre(mean)(iter_obj) # iter_obj에 [1, 2, '3', 4, 5, '6']\u001b[0m\u001b[0;34m\u001b[0m\u001b[0;34m\u001b[0m\u001b[0m\n",
            "\u001b[0;31mTypeError\u001b[0m: object of type 'map' has no len()"
          ]
        }
      ]
    },
    {
      "cell_type": "code",
      "source": [
        "# step 2 : 파라미터를 설정\n",
        "\n",
        "def data_pre(function):\n",
        "    def wrapper(iter_obj):\n",
        "        return function(list(map(int, iter_obj)))\n",
        "    return wrapper\n",
        "\n",
        "@data_pre\n",
        "def mean(l):\n",
        "    return sum(l) / len(l)\n",
        "\n",
        "mean([1, 2, '3', 4, 5, '6']) # data_pre(mean)(iter_obj) # iter_obj에 [1, 2, '3', 4, 5, '6']\n",
        "\n",
        "# 3.5는 실제 mean의 반환값인가요? -> 실제는 wrapper의 반환값입니다!!"
      ],
      "metadata": {
        "colab": {
          "base_uri": "https://localhost:8080/"
        },
        "id": "OuyGIFK_G6xY",
        "outputId": "7e19a7a5-8570-4124-a53f-3371f296d70a"
      },
      "execution_count": 29,
      "outputs": [
        {
          "output_type": "execute_result",
          "data": {
            "text/plain": [
              "3.5"
            ]
          },
          "metadata": {},
          "execution_count": 29
        }
      ]
    },
    {
      "cell_type": "code",
      "source": [
        "# step 2 : 파라미터를 설정\n",
        "\n",
        "# 정규 표현식 사용하면 간단하다 re.sub(r'[a-zA-Z]+', '') -> a~z, A~Z까지 포함되어 있으면 ''로 바꿔라\n",
        "\n",
        "def data_pre(function):\n",
        "    def wrapper(iter_obj):\n",
        "        l = []\n",
        "        for i in iter_obj:\n",
        "            if isinstance(i, str): # 문자열인지 확인\n",
        "                s = ''\n",
        "                for j in i:\n",
        "                    if j.isdigit(): # 숫자라면\n",
        "                        s += j\n",
        "                l.append(int(s))\n",
        "            else:\n",
        "                l.append(i)\n",
        "        return function(list(map(int, l)))\n",
        "    return wrapper\n",
        "\n",
        "@data_pre\n",
        "def mean(l):\n",
        "    return sum(l) / len(l)\n",
        "\n",
        "mean([1, 2, 'l3l', 4, 5, 'abc6def'])  # 문자열이 포함되어 있다면 제거 후 계산"
      ],
      "metadata": {
        "colab": {
          "base_uri": "https://localhost:8080/"
        },
        "id": "Zb8O-qFnKwQF",
        "outputId": "02594033-fb9a-45a2-f9d8-90c636785e4e"
      },
      "execution_count": 32,
      "outputs": [
        {
          "output_type": "execute_result",
          "data": {
            "text/plain": [
              "3.5"
            ]
          },
          "metadata": {},
          "execution_count": 32
        }
      ]
    },
    {
      "cell_type": "code",
      "source": [
        "# step0와 step1을 작성한것 : 골격 작성\n",
        "data = [-1, 30, 20, 31, -51] # sum을 할것인데!? 모두다 절대값을 취하는 데코레이털를 만들어서 사용하도록 할것\n",
        "\n",
        "def all_abs(f):\n",
        "    def wrapper():\n",
        "        return\n",
        "    return wrapper\n",
        "\n",
        "@all_abs\n",
        "def _sum(l):\n",
        "    return sum(l)\n",
        "\n",
        "_sum(data)"
      ],
      "metadata": {
        "id": "KQQqEecrNjF_"
      },
      "execution_count": null,
      "outputs": []
    },
    {
      "cell_type": "code",
      "source": [
        "# step2: 파라미터 작성\n",
        "data = [-1, 2, 3, 4, -5]\n",
        "\n",
        "def all_abs(f):\n",
        "    def wrapper(iter_obj):\n",
        "        return f([abs(i) for i in iter_obj])\n",
        "    return wrapper\n",
        "\n",
        "@all_abs\n",
        "def _sum(l):\n",
        "    return sum(l)\n",
        "\n",
        "_sum(data) # wrapper(data)"
      ],
      "metadata": {
        "colab": {
          "base_uri": "https://localhost:8080/"
        },
        "id": "adnmg5OPOFr7",
        "outputId": "00e3603c-e552-4393-f825-3901c2f675c8"
      },
      "execution_count": 36,
      "outputs": [
        {
          "output_type": "execute_result",
          "data": {
            "text/plain": [
              "15"
            ]
          },
          "metadata": {},
          "execution_count": 36
        }
      ]
    },
    {
      "cell_type": "markdown",
      "source": [
        "# lambda"
      ],
      "metadata": {
        "id": "E3YF0iHRNJNp"
      }
    },
    {
      "cell_type": "code",
      "source": [
        "square = lambda x: x*x\n",
        "print(square(5))  # 출력: 25"
      ],
      "metadata": {
        "colab": {
          "base_uri": "https://localhost:8080/"
        },
        "id": "JxZHudw5L5gl",
        "outputId": "3edc05ac-408d-4ea5-de71-55cbfa4ffb46"
      },
      "execution_count": 37,
      "outputs": [
        {
          "output_type": "stream",
          "name": "stdout",
          "text": [
            "25\n"
          ]
        }
      ]
    },
    {
      "cell_type": "code",
      "source": [
        "number = [1, 2, 3, 4, 5]\n",
        "print(list(filter(lambda x: x > 3, number))) # 재사용 하지 않을 것이므로 람다함수 사용"
      ],
      "metadata": {
        "colab": {
          "base_uri": "https://localhost:8080/"
        },
        "id": "T9TDSiBLQ1Az",
        "outputId": "60c6bf3f-418d-44f0-ca59-1bf38cea2c95"
      },
      "execution_count": 38,
      "outputs": [
        {
          "output_type": "stream",
          "name": "stdout",
          "text": [
            "[4, 5]\n"
          ]
        }
      ]
    },
    {
      "cell_type": "code",
      "source": [
        "# 구글 알고리즘 jam\n",
        "# https://www.acmicpc.net/category/369"
      ],
      "metadata": {
        "id": "il2MEvdxQ7UQ"
      },
      "execution_count": null,
      "outputs": []
    },
    {
      "cell_type": "code",
      "source": [
        "# 람다와 일반함수는 재사용 여부가 가장 중요\n",
        "\n",
        "# 재사용할 것 같으면 함수로\n",
        "def f(x):\n",
        "    return x > 3\n",
        "\n",
        "number = [1, 2, 3, 4, 5]\n",
        "print(list(filter(f, number)))"
      ],
      "metadata": {
        "colab": {
          "base_uri": "https://localhost:8080/"
        },
        "id": "Bz8v_oLKRRnf",
        "outputId": "57030244-b429-4138-8e00-a82aca4a0f0c"
      },
      "execution_count": 39,
      "outputs": [
        {
          "output_type": "stream",
          "name": "stdout",
          "text": [
            "[4, 5]\n"
          ]
        }
      ]
    },
    {
      "cell_type": "markdown",
      "source": [
        "# args, kwargs\n",
        " * 아규먼트와 키워드 아규먼트"
      ],
      "metadata": {
        "id": "XIQR_u6GRxuK"
      }
    },
    {
      "cell_type": "code",
      "source": [
        "# 패킹\n",
        "10, 20, 30"
      ],
      "metadata": {
        "colab": {
          "base_uri": "https://localhost:8080/"
        },
        "id": "53gvgJ4_SNXJ",
        "outputId": "e1a39a80-0227-4344-a3e1-e6966cc734f1"
      },
      "execution_count": 40,
      "outputs": [
        {
          "output_type": "execute_result",
          "data": {
            "text/plain": [
              "(10, 20, 30)"
            ]
          },
          "metadata": {},
          "execution_count": 40
        }
      ]
    },
    {
      "cell_type": "code",
      "source": [
        "# 언패킹\n",
        "a,b,c = [10, 20, 30]\n",
        "a"
      ],
      "metadata": {
        "colab": {
          "base_uri": "https://localhost:8080/"
        },
        "id": "KZ4hKsjDSPl5",
        "outputId": "0a62c656-be72-4080-ddf7-c1d8f2377c92"
      },
      "execution_count": 41,
      "outputs": [
        {
          "output_type": "execute_result",
          "data": {
            "text/plain": [
              "10"
            ]
          },
          "metadata": {},
          "execution_count": 41
        }
      ]
    },
    {
      "cell_type": "code",
      "source": [
        "# 1. *args\n",
        "# 아규먼츠(`*args`)가 함수 내 파라미터로 사용되면 여러 아규먼트를 묶어 받을 수 있습니다.\n",
        "\n",
        "# 패킹 -> 여러개의 인자값을 하나의 파라미터로 받음\n",
        "def print_args(*args):\n",
        "    print(args) # 출력: (100, True, 'Licat')\n",
        "\n",
        "print_args(100, True, 'Licat')"
      ],
      "metadata": {
        "colab": {
          "base_uri": "https://localhost:8080/"
        },
        "id": "65YSB5oFRXPJ",
        "outputId": "e581c491-b6c5-4224-c12b-2668b522627d"
      },
      "execution_count": 42,
      "outputs": [
        {
          "output_type": "stream",
          "name": "stdout",
          "text": [
            "(100, True, 'Licat')\n"
          ]
        }
      ]
    },
    {
      "cell_type": "code",
      "source": [
        "# 각 파라미터에 값이 할당된 후에 남은 것들을 전부 *arg에 담는다\n",
        "# 각각의 파라미터에 값이 할당된 후 남은 값들을 전부 패킹\n",
        "def print_args(a, b, *args):\n",
        "    print(args) # 출력: ('Licat', 'hello', 10)\n",
        "\n",
        "print_args(100, True, 'Licat', 'hello', 10)"
      ],
      "metadata": {
        "colab": {
          "base_uri": "https://localhost:8080/"
        },
        "id": "qxyTmBwwSoyg",
        "outputId": "fb0c0622-d204-4ed4-bbe9-545faafbae58"
      },
      "execution_count": 43,
      "outputs": [
        {
          "output_type": "stream",
          "name": "stdout",
          "text": [
            "('Licat', 'hello', 10)\n"
          ]
        }
      ]
    },
    {
      "cell_type": "code",
      "source": [
        "def print_args(*args, a, b):\n",
        "    print(args) # 출력: ('Licat', 'hello', 10)\n",
        "\n",
        "print_args(100, True, 'Licat', 'hello', 10)\n",
        "\n",
        "# 이 코드는 error -> args를 어디까지 패킹해야하는지 모름\n",
        "# 패킹하는 파라미터가 먼저 나오면 뒤에 있는 일반 파라미터는 사용해서는 안된다."
      ],
      "metadata": {
        "id": "vtGnILaIS8bh"
      },
      "execution_count": null,
      "outputs": []
    },
    {
      "cell_type": "code",
      "source": [
        "# 패킹\n",
        "def func(*args):\n",
        "    print(args)\n",
        "\n",
        "func(10, 20, 30)\n",
        "# 10, 20, 30 => *args => (10, 20, 30)"
      ],
      "metadata": {
        "colab": {
          "base_uri": "https://localhost:8080/"
        },
        "id": "X7XFlg-lTjnw",
        "outputId": "50b44368-1c71-4988-b7eb-27180a2751ab"
      },
      "execution_count": 44,
      "outputs": [
        {
          "output_type": "stream",
          "name": "stdout",
          "text": [
            "(10, 20, 30)\n"
          ]
        }
      ]
    },
    {
      "cell_type": "code",
      "source": [
        "# 언패킹\n",
        "def func(a, b, c):\n",
        "    print(a, b, c)\n",
        "\n",
        "args = (10, 20, 30)\n",
        "func(*args) # -> 10,20,30을 언패킹 후 func함수에 아규먼트를 전달\n",
        "# (10, 20, 30) => *args => 10, 20, 30"
      ],
      "metadata": {
        "colab": {
          "base_uri": "https://localhost:8080/"
        },
        "id": "mZeQpS5STj8V",
        "outputId": "dc8784cf-ec74-4be7-8614-59875131c581"
      },
      "execution_count": 45,
      "outputs": [
        {
          "output_type": "stream",
          "name": "stdout",
          "text": [
            "10 20 30\n"
          ]
        }
      ]
    },
    {
      "cell_type": "code",
      "source": [
        "# **kwargs\n",
        "# 키워드 아규먼츠(`**kwargs`)는 딕셔너리로 가변 아규먼트를 받을 수 있는 방법\n",
        "\n",
        "def print_kwargs(a, **kwargs): # **kwargs -> 딕셔너리를 생성\n",
        "    print(a)\n",
        "    print(kwargs)\n",
        "\n",
        "print_kwargs(100, name='Licat', age='10')"
      ],
      "metadata": {
        "colab": {
          "base_uri": "https://localhost:8080/"
        },
        "id": "m2S-9vqmTlTM",
        "outputId": "0bd38f4e-1095-4926-e529-ae13075fc255"
      },
      "execution_count": 46,
      "outputs": [
        {
          "output_type": "stream",
          "name": "stdout",
          "text": [
            "100\n",
            "{'name': 'Licat', 'age': '10'}\n"
          ]
        }
      ]
    },
    {
      "cell_type": "code",
      "source": [
        "def f(a,b,c,d,e):\n",
        "    print(a,b,c,d,e)\n",
        "\n",
        "f(1,2,e=3,d=4,c=5) # 각 파라미터에 값을 할당"
      ],
      "metadata": {
        "colab": {
          "base_uri": "https://localhost:8080/"
        },
        "id": "70QHHxr_UMwt",
        "outputId": "6a7cff85-57f5-4558-de26-18173ce10527"
      },
      "execution_count": 47,
      "outputs": [
        {
          "output_type": "stream",
          "name": "stdout",
          "text": [
            "1 2 5 4 3\n"
          ]
        }
      ]
    },
    {
      "cell_type": "code",
      "source": [
        "def f(a,b,**kwargs):\n",
        "    print(a,b,kwargs)\n",
        "\n",
        "f(1,2,e=3,d=4,c=5)"
      ],
      "metadata": {
        "colab": {
          "base_uri": "https://localhost:8080/"
        },
        "id": "SWwhMnexUcDe",
        "outputId": "df4e468b-52c1-4bba-e14b-f12b4d1038d1"
      },
      "execution_count": 48,
      "outputs": [
        {
          "output_type": "stream",
          "name": "stdout",
          "text": [
            "1 2 {'e': 3, 'd': 4, 'c': 5}\n"
          ]
        }
      ]
    },
    {
      "cell_type": "code",
      "source": [
        "def f(*args,**kwargs): # 가변적으로 parameter를 받고 싶을 때 이 형태를 많이 사용한다.\n",
        "    print(args,kwargs)\n",
        "\n",
        "f(1,2,e=3,d=4,c=5)"
      ],
      "metadata": {
        "colab": {
          "base_uri": "https://localhost:8080/"
        },
        "id": "foLIW2IEUnn6",
        "outputId": "876d6353-19d7-4450-cca6-44ac189e80b3"
      },
      "execution_count": 49,
      "outputs": [
        {
          "output_type": "stream",
          "name": "stdout",
          "text": [
            "(1, 2) {'e': 3, 'd': 4, 'c': 5}\n"
          ]
        }
      ]
    },
    {
      "cell_type": "code",
      "source": [
        "def print_args_kwargs(*args, **kwargs):\n",
        "    print('args:', args)\n",
        "    print('kwargs:', kwargs)\n",
        "\n",
        "inputlist = [100, True, 'leehojun']\n",
        "inputdic = {'score':100, 'name':'leehojun', 'age':'10'}\n",
        "print_args_kwargs(*inputlist) # 아규먼트로만 들어감\n",
        "print('--------')\n",
        "print_args_kwargs(**inputdic) # 키워드 아규먼트로만 들어감\n",
        "print('--------')\n",
        "print_args_kwargs(*inputlist, **inputdic) # 두개 다 반영"
      ],
      "metadata": {
        "colab": {
          "base_uri": "https://localhost:8080/"
        },
        "id": "3Hpz-MnrX-3f",
        "outputId": "5dcf92dc-1519-430f-b318-93c82b54ff8a"
      },
      "execution_count": 50,
      "outputs": [
        {
          "output_type": "stream",
          "name": "stdout",
          "text": [
            "args: (100, True, 'leehojun')\n",
            "kwargs: {}\n",
            "--------\n",
            "args: ()\n",
            "kwargs: {'score': 100, 'name': 'leehojun', 'age': '10'}\n",
            "--------\n",
            "args: (100, True, 'leehojun')\n",
            "kwargs: {'score': 100, 'name': 'leehojun', 'age': '10'}\n"
          ]
        }
      ]
    },
    {
      "cell_type": "code",
      "source": [
        "one, two, *three = 1, 2, 3, 4, 5\n",
        "print(one, two, three)"
      ],
      "metadata": {
        "colab": {
          "base_uri": "https://localhost:8080/"
        },
        "id": "NJ5lFy3kYQwH",
        "outputId": "b3c0cfc3-6f1a-4409-d1eb-f21ba2cdd92e"
      },
      "execution_count": 51,
      "outputs": [
        {
          "output_type": "stream",
          "name": "stdout",
          "text": [
            "1 2 [3, 4, 5]\n"
          ]
        }
      ]
    },
    {
      "cell_type": "code",
      "source": [
        "a, b, *c = 'hello world'\n",
        "c # 출력: ['l', 'l', 'o', ' ', 'w', 'o', 'r', 'l', 'd']"
      ],
      "metadata": {
        "colab": {
          "base_uri": "https://localhost:8080/"
        },
        "id": "WNFjh-bVYnVZ",
        "outputId": "8e2a6298-a915-4f1c-9ab5-81cd987fac93"
      },
      "execution_count": 52,
      "outputs": [
        {
          "output_type": "execute_result",
          "data": {
            "text/plain": [
              "['l', 'l', 'o', ' ', 'w', 'o', 'r', 'l', 'd']"
            ]
          },
          "metadata": {},
          "execution_count": 52
        }
      ]
    },
    {
      "cell_type": "markdown",
      "source": [
        "# 이터레이터와 제너레이터"
      ],
      "metadata": {
        "id": "DNObsT51ZKvc"
      }
    },
    {
      "cell_type": "code",
      "source": [
        "# 이터레이터란, 값을 차례대로 꺼낼 수 있는 객체\n",
        "# 시퀀스형 자료형이란 index가 있고 indexing, slicing이 가능한 자료형!\n",
        "\n",
        "# dict는 이터레이터인가요? Yes\n",
        "# 하지만 dict는 시퀀스형 자료형이 아니다!\n",
        "# => dict는  슬라이싱이 없다. dict[2:]=>error\n",
        "\n",
        "\n",
        "# 제너레이터란, 이터레이터를 만드는 함수\n",
        "# 이터러블한 객체를 만들면 제너레이터"
      ],
      "metadata": {
        "id": "Ywbo_lARYyLH"
      },
      "execution_count": null,
      "outputs": []
    },
    {
      "cell_type": "code",
      "source": [
        "# dict는 이터레이터인가요? Yes\n",
        "for i in {'one': 1, 'two': 2}:\n",
        "    print(i)\n",
        "\n",
        "list(map(lambda x:x[0], {'one': 1, 'two': 2}))\n",
        "\n",
        "# dict는 시퀀스형 자료형인가요? No\n",
        "# {'one': 1, 'two': 2}[2:] # error"
      ],
      "metadata": {
        "id": "0qRXAjlsaAXE"
      },
      "execution_count": null,
      "outputs": []
    },
    {
      "cell_type": "code",
      "source": [
        "# 이터레이터 예제\n",
        "class MyIterator:\n",
        "    def __init__(self, stop):\n",
        "        self.current_value = 0  # 현재 값\n",
        "        self.stop = stop  # 순회를 멈출 값\n",
        "\n",
        "    def __iter__(self):\n",
        "        return self\n",
        "\n",
        "    def __next__(self):\n",
        "        if self.current_value >= self.stop:\n",
        "            raise StopIteration\n",
        "        result = self.current_value\n",
        "        self.current_value += 1\n",
        "        return result\n",
        "\n",
        "my_iterator = MyIterator(5)\n",
        "\n",
        "for i in my_iterator:\n",
        "    print(i)"
      ],
      "metadata": {
        "colab": {
          "base_uri": "https://localhost:8080/"
        },
        "id": "x_yNjKXTaMz9",
        "outputId": "d7bde186-10a8-47bc-f1cc-dd75774e15a2"
      },
      "execution_count": 53,
      "outputs": [
        {
          "output_type": "stream",
          "name": "stdout",
          "text": [
            "0\n",
            "1\n",
            "2\n",
            "3\n",
            "4\n"
          ]
        }
      ]
    },
    {
      "cell_type": "code",
      "source": [
        "# 제너레이터 : 이터레이터를 생성해주는 함수, yield 키워드를 사용하여 만든다.\n",
        "def my_generator():\n",
        "    x = 10\n",
        "    yield x # yield : 다음 호출이 될때까지 대기한다.\n",
        "    x = 20\n",
        "    yield x # 즉 맨처음에 10을 호출하고 다음 next()함수까지 x=10의 상태로 대기한다. (다시 함수가 호출되서 10~40까지 되는게 아님 10, 20, 30, 40 순차적으로 출력)\n",
        "    x = 30\n",
        "    yield x\n",
        "    x = 40\n",
        "    yield x\n",
        "\n",
        "for i in my_generator():\n",
        "    print(i)"
      ],
      "metadata": {
        "colab": {
          "base_uri": "https://localhost:8080/"
        },
        "id": "0Wfe4hhRaYpG",
        "outputId": "e7bd9a8f-c700-41b6-ce42-c1220ccd87ad"
      },
      "execution_count": 54,
      "outputs": [
        {
          "output_type": "stream",
          "name": "stdout",
          "text": [
            "10\n",
            "20\n",
            "30\n",
            "40\n"
          ]
        }
      ]
    },
    {
      "cell_type": "code",
      "source": [
        "# 제너레이터를 실행한 값은 이터레이터다\n",
        "# yield를 사용하여 순회가능하도록 만들었고 그게 이터레이터\n",
        "def my_generator():\n",
        "    x = 10\n",
        "    yield x\n",
        "    x = 20\n",
        "    yield x\n",
        "    x = 30\n",
        "    yield x\n",
        "    x = 40\n",
        "    yield x\n",
        "\n",
        "list(zip('hello', my_generator()))\n",
        "\n",
        "# 40까지 4개의 출력값을 가지므로 4개만 zip"
      ],
      "metadata": {
        "colab": {
          "base_uri": "https://localhost:8080/"
        },
        "id": "XLLNuzqIcJnN",
        "outputId": "02b6c248-df83-476c-e285-d004498d4460"
      },
      "execution_count": 56,
      "outputs": [
        {
          "output_type": "execute_result",
          "data": {
            "text/plain": [
              "[('h', 10), ('e', 20), ('l', 30), ('l', 40)]"
            ]
          },
          "metadata": {},
          "execution_count": 56
        }
      ]
    },
    {
      "cell_type": "code",
      "source": [
        "def my_generator():\n",
        "    x = 0\n",
        "    while True: # 무한루프를 돌지만 yield에 멈춰있음(다음 next 호출 까지 멈춰있음)\n",
        "        yield x\n",
        "        x += 1\n",
        "\n",
        "list(zip('hello', my_generator())) # 함수의 메모리 값만 가지고 있으면 되서 메모리 효율이 좋다.\n",
        "\n",
        "# 무한루프지만 빠져나옴"
      ],
      "metadata": {
        "colab": {
          "base_uri": "https://localhost:8080/"
        },
        "id": "njtY0twjcY5m",
        "outputId": "0cd0d84e-d48b-4371-fdac-38fd52729893"
      },
      "execution_count": 57,
      "outputs": [
        {
          "output_type": "execute_result",
          "data": {
            "text/plain": [
              "[('h', 0), ('e', 1), ('l', 2), ('l', 3), ('o', 4)]"
            ]
          },
          "metadata": {},
          "execution_count": 57
        }
      ]
    },
    {
      "cell_type": "code",
      "source": [
        "# 예시2\n",
        "def my_generator():\n",
        "    l = ['짝', '홀']\n",
        "    while True:\n",
        "        yield l[t := False] # := 연산 => 이 문법은 시중에 어떤 책도 언급하지 않음 -> 왈러스 연산자(3.8버전 이후에 나온 연산자)\n",
        "        yield l[t := True]  # := : t에다가 True를 할당하고 True는 1로 취급되므로 l[1]을 호출 -> l리스트의 1 index 값을 호출한다.\n",
        "\n",
        "list(zip([0, 1, 2, 3, 4, 5, 6], my_generator()))"
      ],
      "metadata": {
        "colab": {
          "base_uri": "https://localhost:8080/"
        },
        "id": "fmuz7EfJdCc8",
        "outputId": "5009e2ad-cc6e-4299-d56a-2d3c1a8c3685"
      },
      "execution_count": 58,
      "outputs": [
        {
          "output_type": "execute_result",
          "data": {
            "text/plain": [
              "[(0, '짝'), (1, '홀'), (2, '짝'), (3, '홀'), (4, '짝'), (5, '홀'), (6, '짝')]"
            ]
          },
          "metadata": {},
          "execution_count": 58
        }
      ]
    },
    {
      "cell_type": "code",
      "source": [
        "# 동일한 코드\n",
        "def my_generator():\n",
        "    l = ['짝', '홀']\n",
        "    x = 0\n",
        "    while True:\n",
        "        if x == 0:\n",
        "            yield '짝'\n",
        "            x += 1\n",
        "        else:\n",
        "            yield '홀'\n",
        "            x = 0\n",
        "\n",
        "list(zip([0, 1, 2, 3, 4, 5, 6], my_generator()))"
      ],
      "metadata": {
        "colab": {
          "base_uri": "https://localhost:8080/"
        },
        "id": "OXBUj1RRdvFn",
        "outputId": "070aeedf-1c6e-47cb-eec6-1ceda1550818"
      },
      "execution_count": 59,
      "outputs": [
        {
          "output_type": "execute_result",
          "data": {
            "text/plain": [
              "[(0, '짝'), (1, '홀'), (2, '짝'), (3, '홀'), (4, '짝'), (5, '홀'), (6, '짝')]"
            ]
          },
          "metadata": {},
          "execution_count": 59
        }
      ]
    },
    {
      "cell_type": "code",
      "source": [
        "# 왈러스(:=) 연산자 예시\n",
        "\n",
        "# 0이 False라는 점을 이용\n",
        "\n",
        "x = 10\n",
        "while x := x - 1: # x가 0이 될때 멈춤 (0 = False)\n",
        "    print(x)\n"
      ],
      "metadata": {
        "colab": {
          "base_uri": "https://localhost:8080/"
        },
        "id": "JEhtS40eeB-p",
        "outputId": "33c0cb3b-2a52-4a83-c638-1a1279e5662c"
      },
      "execution_count": 1,
      "outputs": [
        {
          "output_type": "stream",
          "name": "stdout",
          "text": [
            "9\n",
            "8\n",
            "7\n",
            "6\n",
            "5\n",
            "4\n",
            "3\n",
            "2\n",
            "1\n"
          ]
        }
      ]
    },
    {
      "cell_type": "code",
      "source": [
        "# 리스트가 비어있을때 False가 되는점을 이용\n",
        "l = [10, 20, 30]\n",
        "while l:\n",
        "    print(l.pop())"
      ],
      "metadata": {
        "colab": {
          "base_uri": "https://localhost:8080/"
        },
        "id": "GchRDvmEe-3H",
        "outputId": "8b8fa782-67de-4579-cb54-73f5bbebc198"
      },
      "execution_count": 2,
      "outputs": [
        {
          "output_type": "stream",
          "name": "stdout",
          "text": [
            "30\n",
            "20\n",
            "10\n"
          ]
        }
      ]
    },
    {
      "cell_type": "markdown",
      "source": [
        "# nonlocal"
      ],
      "metadata": {
        "id": "fWeFfhXrfaGP"
      }
    },
    {
      "cell_type": "code",
      "source": [
        "# 중첩 함수 내부에서 바깥 함수의 변수를 참조할 수 있게 합니다.\n",
        "# nonlocal은 주로 클로저(closure)에서 변수의 값을 변경하고자 할 때 사용합니다.\n",
        "\n",
        "# nonlocal\n",
        "a = 10\n",
        "def f():\n",
        "    a = 100\n",
        "    print(f'f a: {a}')\n",
        "    def ff():\n",
        "        a = 1000\n",
        "        print(f'ff a: {a}')\n",
        "        def fff():\n",
        "            nonlocal a # global a로 변경해보세요.\n",
        "            a = 100\n",
        "            print(f'fff a: {a}')\n",
        "        fff()\n",
        "        print(f'ff a: {a}')\n",
        "    ff()\n",
        "f()\n",
        "print(f'global a: {a}')"
      ],
      "metadata": {
        "id": "7TqwEbehfP7d"
      },
      "execution_count": null,
      "outputs": []
    },
    {
      "cell_type": "markdown",
      "source": [
        "# 모듈\n",
        "* 모듈이란 클래스나 함수, 변수를 다른 파일(.py)에 작성하여 다른 파이썬 코드에서 재사용할 수 있도록 한 것입니다."
      ],
      "metadata": {
        "id": "xni_qHRRhG4B"
      }
    },
    {
      "cell_type": "code",
      "source": [
        "# 모듈이란 클래스나 함수, 변수를 다른 파일(.py)에 작성하여 다른 파이썬 코드에서 재사용할 수 있도록 한 것입니다.\n",
        "\n",
        "# 1번 스탭 : info.py를 생성"
      ],
      "metadata": {
        "id": "rT7dYYhShIDo"
      },
      "execution_count": null,
      "outputs": []
    },
    {
      "cell_type": "code",
      "source": [
        "import info # info.py를 가져오겠다 -> info라는 모듈을 불러와 사용\n",
        "\n",
        "print(info.name) # 이런식으로 info라는 파이썬 파일 내에 작성된 변수와 함수를 호출한다.\n",
        "info.hello()"
      ],
      "metadata": {
        "colab": {
          "base_uri": "https://localhost:8080/"
        },
        "id": "tNW76jzxh4Tj",
        "outputId": "de5a5c9c-ef48-43bb-e0e4-38cd8f7b18bb"
      },
      "execution_count": 5,
      "outputs": [
        {
          "output_type": "stream",
          "name": "stdout",
          "text": [
            "leehojun\n",
            "안녕하세요 저는 이호준입니다.\n"
          ]
        }
      ]
    },
    {
      "cell_type": "code",
      "source": [
        "import info as q # info라는 이름 대신 q를 사용하겠다.\n",
        "\n",
        "print(q.name)\n",
        "q.hello()"
      ],
      "metadata": {
        "colab": {
          "base_uri": "https://localhost:8080/"
        },
        "id": "CaVBIJW0h9Fm",
        "outputId": "c25f2cdb-e7b8-41a9-f766-7004fb7feeb4"
      },
      "execution_count": 7,
      "outputs": [
        {
          "output_type": "stream",
          "name": "stdout",
          "text": [
            "leehojun\n",
            "안녕하세요 저는 이호준입니다.\n"
          ]
        }
      ]
    },
    {
      "cell_type": "code",
      "source": [],
      "metadata": {
        "id": "pMTO7HQxiQf8"
      },
      "execution_count": null,
      "outputs": []
    }
  ]
}