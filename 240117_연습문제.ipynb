{
  "nbformat": 4,
  "nbformat_minor": 0,
  "metadata": {
    "colab": {
      "provenance": [],
      "authorship_tag": "ABX9TyMFIVMxKi+d/b/AR18uhN3L",
      "include_colab_link": true
    },
    "kernelspec": {
      "name": "python3",
      "display_name": "Python 3"
    },
    "language_info": {
      "name": "python"
    }
  },
  "cells": [
    {
      "cell_type": "markdown",
      "metadata": {
        "id": "view-in-github",
        "colab_type": "text"
      },
      "source": [
        "<a href=\"https://colab.research.google.com/github/Um-king/orm/blob/main/240117_%EC%97%B0%EC%8A%B5%EB%AC%B8%EC%A0%9C.ipynb\" target=\"_parent\"><img src=\"https://colab.research.google.com/assets/colab-badge.svg\" alt=\"Open In Colab\"/></a>"
      ]
    },
    {
      "cell_type": "markdown",
      "source": [
        "# 1. 데코레이터 문제\n",
        "\n",
        "1부터 100까지 더하는 함수를 만들고 이 함수에 데코레이터를 실행시켜 몇 초가 걸리는지 확인해주세요. 아래 힌트 코드 입니다."
      ],
      "metadata": {
        "id": "RTu9DRl_UPXY"
      }
    },
    {
      "cell_type": "code",
      "source": [
        "# 1\n",
        "\n",
        "import time\n",
        "\n",
        "def decorator(func):\n",
        "    def wrapper():\n",
        "        start_time = time.time()\n",
        "        result = func()\n",
        "        end_time = time.time()\n",
        "        print(f\"함수가 {(end_time - start_time):.10f} 초가 걸렸습니다.\")\n",
        "        return result\n",
        "    return wrapper\n",
        "\n",
        "@decorator\n",
        "def sum_number():\n",
        "    return sum(range(1,101))\n",
        "\n",
        "sum_number()"
      ],
      "metadata": {
        "colab": {
          "base_uri": "https://localhost:8080/"
        },
        "id": "1EkYDsfLUWNn",
        "outputId": "977002ca-2d23-4442-d6ea-f8f1be83d44b"
      },
      "execution_count": 3,
      "outputs": [
        {
          "output_type": "stream",
          "name": "stdout",
          "text": [
            "함수가 0.0000052452 초가 걸렸습니다.\n"
          ]
        },
        {
          "output_type": "execute_result",
          "data": {
            "text/plain": [
              "5050"
            ]
          },
          "metadata": {},
          "execution_count": 3
        }
      ]
    },
    {
      "cell_type": "markdown",
      "source": [
        "# 2. 제너레이터 문제\n",
        "\n",
        "0부터 시작하여, 매 호출 시마다 2씩 증가하는 값을 반환하는 제너레이터 함수를 작성하세요. 100이 되면 멈춰야 합니다."
      ],
      "metadata": {
        "id": "WbOk0PiAWVlF"
      }
    },
    {
      "cell_type": "code",
      "source": [
        "def gen():\n",
        "    x = 0\n",
        "    while x < 101:\n",
        "        yield x\n",
        "        x += 2\n",
        "\n",
        "for i in gen():\n",
        "    print(i)"
      ],
      "metadata": {
        "colab": {
          "base_uri": "https://localhost:8080/"
        },
        "id": "2pwX5_ooU6gi",
        "outputId": "1e02dba7-a649-4511-a9a6-f6c1ae4461bf"
      },
      "execution_count": 5,
      "outputs": [
        {
          "output_type": "stream",
          "name": "stdout",
          "text": [
            "0\n",
            "2\n",
            "4\n",
            "6\n",
            "8\n",
            "10\n",
            "12\n",
            "14\n",
            "16\n",
            "18\n",
            "20\n",
            "22\n",
            "24\n",
            "26\n",
            "28\n",
            "30\n",
            "32\n",
            "34\n",
            "36\n",
            "38\n",
            "40\n",
            "42\n",
            "44\n",
            "46\n",
            "48\n",
            "50\n",
            "52\n",
            "54\n",
            "56\n",
            "58\n",
            "60\n",
            "62\n",
            "64\n",
            "66\n",
            "68\n",
            "70\n",
            "72\n",
            "74\n",
            "76\n",
            "78\n",
            "80\n",
            "82\n",
            "84\n",
            "86\n",
            "88\n",
            "90\n",
            "92\n",
            "94\n",
            "96\n",
            "98\n",
            "100\n"
          ]
        }
      ]
    },
    {
      "cell_type": "markdown",
      "source": [
        "# 3. 예외처리 문제\n",
        "\n",
        "사용자로부터 두 개의 숫자를 입력받아 나눗셈을 수행하는 함수를 작성하세요. 이 때 0으로 나눌 때에는 예외처리를 해주세요."
      ],
      "metadata": {
        "id": "X2nyFyFdW6lW"
      }
    },
    {
      "cell_type": "code",
      "source": [
        "try:\n",
        "    num1 = input('숫자1 입력: ')\n",
        "    num2 = input('숫자2 입력: ')\n",
        "\n",
        "    print(num1 / num2)\n",
        "except: # ZeroDivisionError 발생\n",
        "    print('에러발생!')"
      ],
      "metadata": {
        "id": "iCQvC6-1WuDC"
      },
      "execution_count": null,
      "outputs": []
    }
  ]
}