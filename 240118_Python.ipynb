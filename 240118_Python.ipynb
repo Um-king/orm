{
  "nbformat": 4,
  "nbformat_minor": 0,
  "metadata": {
    "colab": {
      "provenance": [],
      "authorship_tag": "ABX9TyNGOG/KNGNwgvOGpfV0BwMk",
      "include_colab_link": true
    },
    "kernelspec": {
      "name": "python3",
      "display_name": "Python 3"
    },
    "language_info": {
      "name": "python"
    }
  },
  "cells": [
    {
      "cell_type": "markdown",
      "metadata": {
        "id": "view-in-github",
        "colab_type": "text"
      },
      "source": [
        "<a href=\"https://colab.research.google.com/github/Um-king/orm/blob/main/240118_Python.ipynb\" target=\"_parent\"><img src=\"https://colab.research.google.com/assets/colab-badge.svg\" alt=\"Open In Colab\"/></a>"
      ]
    },
    {
      "cell_type": "markdown",
      "source": [
        "# 파이썬 버전별 변경사항"
      ],
      "metadata": {
        "id": "of1IhmAOAceF"
      }
    },
    {
      "cell_type": "markdown",
      "source": [
        "* Python 3.5: async await\n",
        "* Python 3.6: Dict에 순서, f-string, 타입힌트\n",
        "* Python 3.7: dataclasses\n",
        "* Python 3.8: 왈러스 연산자(:=)\n",
        "* Python 3.9: 딕셔너리 결합 연산자(|)\n",
        "* Python 3.10: match"
      ],
      "metadata": {
        "id": "OH28vmT6AQqM"
      }
    },
    {
      "cell_type": "code",
      "execution_count": null,
      "metadata": {
        "id": "KGDQ5L8W4UaY"
      },
      "outputs": [],
      "source": [
        "# id, name, email이 각각 3번씩 반복\n",
        "# -> 이러한 현상을  보일러 플레이트(boiler-plate)라 함\n",
        "# -> print를 해도 필드값이 보이지 않아 불편\n",
        "class User:\n",
        "    def __init__(self, id, name, email):\n",
        "        self.id = id\n",
        "        self.name = name\n",
        "        self.email = email"
      ]
    },
    {
      "cell_type": "code",
      "source": [
        "# 위의 코드와 똑같은 것\n",
        "# 하지만 실무에서 사용하는 분을 아무도 못봤음..\n",
        "\n",
        "from dataclasses import dataclass\n",
        "\n",
        "@dataclass\n",
        "class User:\n",
        "    id: int\n",
        "    name: str\n",
        "    email : str\n",
        "\n",
        "user = User(123, 'hojun', 'hojun@gmail')\n",
        "user"
      ],
      "metadata": {
        "id": "XARi4hYW_Sa3"
      },
      "execution_count": null,
      "outputs": []
    },
    {
      "cell_type": "markdown",
      "source": [
        "# 파일 입출력"
      ],
      "metadata": {
        "id": "KLvAnIQ1AY81"
      }
    },
    {
      "cell_type": "code",
      "source": [
        "# open(파일이름, 파일모드)\n",
        "f = open('python.txt', 'w') # 파일모드 : r, w, a, r+,\n",
        "f.close()"
      ],
      "metadata": {
        "id": "rJ0uiakRAYL8"
      },
      "execution_count": null,
      "outputs": []
    },
    {
      "cell_type": "code",
      "source": [
        "# 파일을 열었으면 꼭 닫아야한다.\n",
        "# 닫지 않으면 메모리가 살아있다. => close() 명령을 꼭 사용\n",
        "\n",
        "# open(파일이름, 파일모드)\n",
        "f = open('python.txt', 'w') # 파일모드 : r, w, a, r+,\n",
        "f.write('hello world') # 문자열 작성\n",
        "f.close()"
      ],
      "metadata": {
        "id": "beoOU2MyAuiD"
      },
      "execution_count": null,
      "outputs": []
    },
    {
      "cell_type": "code",
      "source": [
        "# 파일 열기과 닫기를 동시에 -> 이렇게 사용하는 것을 권장\n",
        "# with문을 사용하면 open과 close를 한꺼번에 할 수 있습니다.\n",
        "\n",
        "with open('test.txt', 'w') as f:\n",
        "    f.write('hello world!')"
      ],
      "metadata": {
        "id": "TkhVCq3IBDG7"
      },
      "execution_count": null,
      "outputs": []
    },
    {
      "cell_type": "code",
      "source": [
        "# 파일 여러개 생성\n",
        "for i in range(10):\n",
        "    with open(f'test{i}.txt', 'w') as f:\n",
        "        f.write('hello world!')"
      ],
      "metadata": {
        "id": "sY2uQZZfBOZB"
      },
      "execution_count": null,
      "outputs": []
    },
    {
      "cell_type": "code",
      "source": [
        "db_data = [\n",
        "  {\n",
        "    \"_id\": \"7f5440ab-7e2f-4a42-Be13-89987fa65b32\",\n",
        "    \"index\": \"1\",\n",
        "    \"name\": \"등윤상\",\n",
        "    \"email\": \"user-qe89s09@ut.io\",\n",
        "    \"phone\": \"010-3542-7711\",\n",
        "    \"country\": \"키리바시\",\n",
        "    \"address\": \"방학로 74-9\",\n",
        "    \"job\": \"일러스트레이터\"\n",
        "  },\n",
        "  {\n",
        "    \"_id\": \"b4f7ade0-38bb-4e6f-B94a-18af1426eb30\",\n",
        "    \"index\": \"2\",\n",
        "    \"name\": \"노동규\",\n",
        "    \"email\": \"user-nyr5mqw@ornare.com\",\n",
        "    \"phone\": \"010-9743-6320\",\n",
        "    \"country\": \"베냉\",\n",
        "    \"address\": \"남부순환로 54-6\",\n",
        "    \"job\": \"애완동물미용사\"\n",
        "  },\n",
        "  {\n",
        "    \"_id\": \"5d788255-8d5e-4f03-B446-dbac6a147e37\",\n",
        "    \"index\": \"3\",\n",
        "    \"name\": \"경진아\",\n",
        "    \"email\": \"user-n7pey4v@Etiam.biz\",\n",
        "    \"phone\": \"010-4049-8718\",\n",
        "    \"country\": \"아르메니아\",\n",
        "    \"address\": \"강남대로 87-5\",\n",
        "    \"job\": \"플로리스트\"\n",
        "  },\n",
        "  {\n",
        "    \"_id\": \"083efce4-17ed-4e9f-Ad7c-f9aa0ac6cb79\",\n",
        "    \"index\": \"4\",\n",
        "    \"name\": \"복소유\",\n",
        "    \"email\": \"user-ohaz2is@nibh.biz\",\n",
        "    \"phone\": \"010-3400-5945\",\n",
        "    \"country\": \"페루\",\n",
        "    \"address\": \"양산로 78-1\",\n",
        "    \"job\": \"응급구조사\"\n",
        "  },\n",
        "  {\n",
        "    \"_id\": \"d54ce0fa-c025-4af6-Cd9a-b9d10aa8be5a\",\n",
        "    \"index\": \"5\",\n",
        "    \"name\": \"화예빈\",\n",
        "    \"email\": \"user-mnkpdlp@vel.net\",\n",
        "    \"phone\": \"010-3120-8720\",\n",
        "    \"country\": \"허드 및 맥도널드 제도\",\n",
        "    \"address\": \"한남대로 6-2\",\n",
        "    \"job\": \"전문의사\"\n",
        "  }\n",
        "]"
      ],
      "metadata": {
        "id": "_f0tVvO4Bne_"
      },
      "execution_count": 15,
      "outputs": []
    },
    {
      "cell_type": "code",
      "source": [
        "# 미션 1\n",
        "# 각각의 회원 이름_info.txt로 각각 정보 정리\n",
        "\n",
        "# 미션 2\n",
        "# 엑셀로 각각 정보 정리\n",
        "\n",
        "# 미션 3\n",
        "# html로 table로 정리하기 => table 클릭하면 정렬되게 하기(JS를 배우셨으면 했을텐데ㅜㅜ 나중에 해보세요.)"
      ],
      "metadata": {
        "id": "DEJ5SkqCByQs"
      },
      "execution_count": null,
      "outputs": []
    },
    {
      "cell_type": "code",
      "source": [
        "# 미션 1\n",
        "# 데이터를 뽑는 용도로는 map을 사용함 -> 기억하기! .. 데이터를 뽑는다? map 사용\n",
        "\n",
        "list(map(lambda x:x['name'], db_data))\n",
        "\n",
        "for i, name in enumerate(map(lambda x:x['name'], db_data)): # 첫번째 값은 인덱스값, 두번째는 name 값\n",
        "    with open(f'{name}_info.txt', 'w') as f:\n",
        "        f.write(str(db_data[i])) # 인원별 각 정보를 저장"
      ],
      "metadata": {
        "id": "1370pTR8F8sh"
      },
      "execution_count": 5,
      "outputs": []
    },
    {
      "cell_type": "code",
      "source": [
        "# 미션 2\n",
        "# 엑셀로 각각 정보 정리\n",
        "# \"_id\": \"d54ce0fa-c025-4af6-Cd9a-b9d10aa8be5a\",\n",
        "# \"index\": \"5\",\n",
        "# \"name\": \"화예빈\",\n",
        "# \"email\": \"user-mnkpdlp@vel.net\",\n",
        "# \"phone\": \"010-3120-8720\",\n",
        "# \"country\": \"허드 및 맥도널드 제도\",\n",
        "# \"address\": \"한남대로 6-2\",\n",
        "# \"job\": \"전문의사\"\n",
        "with open('data.csv', 'w') as f:\n",
        "    s = '아이디,인덱스,이름,이메일,휴대폰,나라,주소,직업\\n'\n",
        "    for i in db_data:\n",
        "        s += f'{i[\"_id\"]},{i[\"index\"]},{i[\"name\"]},{i[\"email\"]},{i[\"phone\"]},{i[\"country\"]},{i[\"address\"]},{i[\"job\"]}\\n'\n",
        "    f.write(s)\n",
        "\n",
        "# 꼭 콤마(,)로 구분해야 csv 파일에 맞음"
      ],
      "metadata": {
        "id": "J2DRcYxSGR4R"
      },
      "execution_count": 8,
      "outputs": []
    },
    {
      "cell_type": "code",
      "source": [
        "# 부록\n",
        "# 엑셀라이터\n",
        "# 복습 x\n",
        "\n",
        "# request나 bs4 기본 모듈 아닌데 colab에 깔려 있는 것\n",
        "# 데스크톱에서 깔려있는지 확인하시지 않고 실행시키면 모듈이 없다고 나온다.\n",
        "\n",
        "!pip install xlsxwriter"
      ],
      "metadata": {
        "colab": {
          "base_uri": "https://localhost:8080/"
        },
        "id": "92RYFY6OI38E",
        "outputId": "53db898d-40bc-4e21-8f6b-ce641c73cd89"
      },
      "execution_count": 9,
      "outputs": [
        {
          "output_type": "stream",
          "name": "stdout",
          "text": [
            "Collecting xlsxwriter\n",
            "  Downloading XlsxWriter-3.1.9-py3-none-any.whl (154 kB)\n",
            "\u001b[2K     \u001b[90m━━━━━━━━━━━━━━━━━━━━━━━━━━━━━━━━━━━━━━━━\u001b[0m \u001b[32m154.8/154.8 kB\u001b[0m \u001b[31m2.8 MB/s\u001b[0m eta \u001b[36m0:00:00\u001b[0m\n",
            "\u001b[?25hInstalling collected packages: xlsxwriter\n",
            "Successfully installed xlsxwriter-3.1.9\n"
          ]
        }
      ]
    },
    {
      "cell_type": "code",
      "source": [
        "# 워크북(엑셀파일 1개입니다.)\n",
        "# 워크시트(sheet이라고 아래 여러개의 sheet을 만들 수 있습니다.)\n",
        "# 셀(네모 칸 하나)\n",
        "\n",
        "import xlsxwriter\n",
        "\n",
        "workbook = xlsxwriter.Workbook('hello.xlsx') # 엑셀 생성\n",
        "worksheet = workbook.add_worksheet('test') # 시트 생성\n",
        "\n",
        "worksheet.write('A1', 'A') # A1의 열에 값을 넣겠다.\n",
        "worksheet.write('B1', 'B')\n",
        "worksheet.write('C1', 'C')\n",
        "worksheet.write('A2', 'D')\n",
        "worksheet.write('B2', 'E')\n",
        "worksheet.write('C2', 'F')\n",
        "\n",
        "workbook.close() # 반드시 닫아야한다."
      ],
      "metadata": {
        "id": "xzsCzluZJUsx"
      },
      "execution_count": 11,
      "outputs": []
    },
    {
      "cell_type": "code",
      "source": [
        "import xlsxwriter\n",
        "\n",
        "workbook = xlsxwriter.Workbook('hello2.xlsx') # 엑셀 생성\n",
        "worksheet = workbook.add_worksheet('test') # 시트 생성\n",
        "\n",
        "철수 = [10,20,30]\n",
        "영희 = [40,50,60]\n",
        "\n",
        "worksheet.write('A1', '국')\n",
        "worksheet.write('B1', '영')\n",
        "worksheet.write('C1', '수')\n",
        "worksheet.write('A2', 철수[0])\n",
        "worksheet.write('B2', 철수[1])\n",
        "worksheet.write('C2', 철수[2])\n",
        "worksheet.write('A3', 영희[0])\n",
        "worksheet.write('B3', 영희[1])\n",
        "worksheet.write('C3', 영희[2])\n",
        "\n",
        "# 합계\n",
        "for i in zip('ABC', 철수, 영희): # 철수와 영희의 동일 인덱스위치와 ABC인덱스 위치를 묶는다.\n",
        "    worksheet.write(f'{i[0]}4', i[1] + i[2])\n",
        "\n",
        "# D1에 평균 텍스트 삽입\n",
        "worksheet.write('D1', '평균')\n",
        "# 수식 삽입\n",
        "worksheet.write('D2', '=SUM(A2:C2) / 3') # 국영수 점수 평균 엑셀 식\n",
        "worksheet.write('D3', '=SUM(A3:C3) / 3')\n",
        "\n",
        "\n",
        "workbook.close() # 반드시 닫아야한다."
      ],
      "metadata": {
        "id": "Wowy2A8WK2ez"
      },
      "execution_count": 14,
      "outputs": []
    },
    {
      "cell_type": "code",
      "source": [
        "# 크롤링은 웹에서만 가져오는게 아니다\n",
        "# 웹크롤링, 한글파일 크롤링, PDF 크롤링 -> 크롤링 후 엑셀로 만들 수 있다.\n",
        "\n",
        "# 파일 형식 변환\n",
        "# CSV => xlsx\n",
        "# JSON => xlsx\n",
        "\n",
        "# 메크로 작동 로직 => 엑셀"
      ],
      "metadata": {
        "id": "b7OdZaOJMbC7"
      },
      "execution_count": null,
      "outputs": []
    },
    {
      "cell_type": "code",
      "source": [
        "db_data"
      ],
      "metadata": {
        "id": "0HR4803LOqXg"
      },
      "execution_count": null,
      "outputs": []
    },
    {
      "cell_type": "code",
      "source": [
        "s = '''\n",
        "<style>\n",
        "    table {\n",
        "        border-collapse: collapse;\n",
        "        width: 100%;\n",
        "        border: 1px solid black;\n",
        "    }\n",
        "    tr, td, th {\n",
        "        border: 1px solid black;\n",
        "    }\n",
        "</style>\n",
        "<table>\n",
        "    <tr>\n",
        "        <th>아이디</th>\n",
        "        <th>인덱스</th>\n",
        "        <th>이름</th>\n",
        "        <th>이메일</th>\n",
        "        <th>휴대폰</th>\n",
        "        <th>나라</th>\n",
        "        <th>주소</th>\n",
        "        <th>직업</th>\n",
        "    </tr>\n",
        "'''\n",
        "\n",
        "for i, _ in enumerate(db_data): # 인덱스 값 사용하려고 enumerate를 사용\n",
        "    s += f'''\n",
        "    <tr>\n",
        "        <td>{db_data[i][\"_id\"]}</td>\n",
        "        <td>{db_data[i][\"index\"]}</td>\n",
        "        <td>{db_data[i][\"name\"]}</td>\n",
        "        <td>{db_data[i][\"email\"]}</td>\n",
        "        <td>{db_data[i][\"phone\"]}</td>\n",
        "        <td>{db_data[i][\"country\"]}</td>\n",
        "        <td>{db_data[i][\"address\"]}</td>\n",
        "        <td>{db_data[i][\"job\"]}</td>\n",
        "    </tr>\n",
        "    '''\n",
        "\n",
        "s += '''\n",
        "</table>\n",
        "'''\n",
        "\n",
        "\n",
        "with open('info.html', 'w') as f:\n",
        "    f.write(s)"
      ],
      "metadata": {
        "id": "eZsyaNj6Pn6j"
      },
      "execution_count": 21,
      "outputs": []
    },
    {
      "cell_type": "code",
      "source": [
        "# 1. 강사님이 권하는 복습 방법: algo문제 푸는것(프로그래머스(Lv0), 100pyalgo(Lv0~2))\n",
        "# 2. 이론을 복습하길 원하는 분: 인프런 영상 드린 Python 부트캠프"
      ],
      "metadata": {
        "id": "zlojp3COOrHo"
      },
      "execution_count": null,
      "outputs": []
    },
    {
      "cell_type": "code",
      "source": [
        "# 파일 읽어오기\n",
        "f = open('info.html', 'r')\n",
        "while True:\n",
        "    line = f.readline() # 한 라인씩 읽어온다.\n",
        "    if not line:\n",
        "        break\n",
        "    print(line, end='')\n",
        "f.close()"
      ],
      "metadata": {
        "id": "S1wVkO-vXCmj"
      },
      "execution_count": null,
      "outputs": []
    },
    {
      "cell_type": "code",
      "source": [
        "# 파일 읽어오기 이렇게 해도 한번에 읽어옴\n",
        "f = open('info.html', 'r')\n",
        "data = f.read()\n",
        "print(data)\n",
        "f.close()"
      ],
      "metadata": {
        "colab": {
          "base_uri": "https://localhost:8080/"
        },
        "id": "yI_w0bTTXOOM",
        "outputId": "310f3410-a667-4b5f-da8d-c99072cffe82"
      },
      "execution_count": 23,
      "outputs": [
        {
          "output_type": "stream",
          "name": "stdout",
          "text": [
            "\n",
            "<style>\n",
            "    table {\n",
            "        border-collapse: collapse;\n",
            "        width: 100%;\n",
            "        border: 1px solid black;\n",
            "    }\n",
            "    tr, td, th {\n",
            "        border: 1px solid black;\n",
            "    }\n",
            "</style>\n",
            "<table>\n",
            "    <tr>\n",
            "        <th>아이디</th>\n",
            "        <th>인덱스</th>\n",
            "        <th>이름</th>\n",
            "        <th>이메일</th>\n",
            "        <th>휴대폰</th>\n",
            "        <th>나라</th>\n",
            "        <th>주소</th>\n",
            "        <th>직업</th>\n",
            "    </tr>\n",
            "\n",
            "    <tr>\n",
            "        <td>7f5440ab-7e2f-4a42-Be13-89987fa65b32</td>\n",
            "        <td>1</td>\n",
            "        <td>등윤상</td>\n",
            "        <td>user-qe89s09@ut.io</td>\n",
            "        <td>010-3542-7711</td>\n",
            "        <td>키리바시</td>\n",
            "        <td>방학로 74-9</td>\n",
            "        <td>일러스트레이터</td>\n",
            "    </tr>\n",
            "    \n",
            "    <tr>\n",
            "        <td>b4f7ade0-38bb-4e6f-B94a-18af1426eb30</td>\n",
            "        <td>2</td>\n",
            "        <td>노동규</td>\n",
            "        <td>user-nyr5mqw@ornare.com</td>\n",
            "        <td>010-9743-6320</td>\n",
            "        <td>베냉</td>\n",
            "        <td>남부순환로 54-6</td>\n",
            "        <td>애완동물미용사</td>\n",
            "    </tr>\n",
            "    \n",
            "    <tr>\n",
            "        <td>5d788255-8d5e-4f03-B446-dbac6a147e37</td>\n",
            "        <td>3</td>\n",
            "        <td>경진아</td>\n",
            "        <td>user-n7pey4v@Etiam.biz</td>\n",
            "        <td>010-4049-8718</td>\n",
            "        <td>아르메니아</td>\n",
            "        <td>강남대로 87-5</td>\n",
            "        <td>플로리스트</td>\n",
            "    </tr>\n",
            "    \n",
            "    <tr>\n",
            "        <td>083efce4-17ed-4e9f-Ad7c-f9aa0ac6cb79</td>\n",
            "        <td>4</td>\n",
            "        <td>복소유</td>\n",
            "        <td>user-ohaz2is@nibh.biz</td>\n",
            "        <td>010-3400-5945</td>\n",
            "        <td>페루</td>\n",
            "        <td>양산로 78-1</td>\n",
            "        <td>응급구조사</td>\n",
            "    </tr>\n",
            "    \n",
            "    <tr>\n",
            "        <td>d54ce0fa-c025-4af6-Cd9a-b9d10aa8be5a</td>\n",
            "        <td>5</td>\n",
            "        <td>화예빈</td>\n",
            "        <td>user-mnkpdlp@vel.net</td>\n",
            "        <td>010-3120-8720</td>\n",
            "        <td>허드 및 맥도널드 제도</td>\n",
            "        <td>한남대로 6-2</td>\n",
            "        <td>전문의사</td>\n",
            "    </tr>\n",
            "    \n",
            "</table>\n",
            "\n"
          ]
        }
      ]
    },
    {
      "cell_type": "markdown",
      "source": [
        "# 비트연산"
      ],
      "metadata": {
        "id": "vcoUB3rVYIL5"
      }
    },
    {
      "cell_type": "code",
      "source": [
        "# 실무에서 비트 연산을 하는 경우가 거~~~의 없다\n",
        "# 알고리즘 테스트에서 CS지식 정도를 테스트하는 용도로 간혹 출제가 된다.\n",
        "\n",
        "# 10진법\n",
        "# 1542 == 1 * (10**3) + 5 * (10**2) + 4 * (10**1) + 2 *(10**0)\n",
        "# 0123456789 10\n",
        "\n",
        "# 16진법\n",
        "# 1542 == 1 * (16**3) + 5 * (16**2) + 4 * (16**1) + 2 *(16**0)\n",
        "# 0123456789abcdef 10\n",
        "\n",
        "# 8진법\n",
        "# 1542 == 1 * (8**3) + 5 * (8**2) + 4 * (8**1) + 2 * (8**0)\n",
        "# 01234567 10"
      ],
      "metadata": {
        "id": "W8NSMBRQYHyz"
      },
      "execution_count": null,
      "outputs": []
    },
    {
      "cell_type": "code",
      "source": [
        "# 진법 변환 팁\n",
        "\n",
        "# 10진법 == 2진법\n",
        "# 1 == 1\n",
        "# 2 == 10\n",
        "# 4 == 100\n",
        "# 8 == 1000\n",
        "# 16 == 10000\n",
        "\n",
        "# 9는? 8 + 1 => 1000 + 1 => 1001\n",
        "# 15는? 16 - 1 => 10000 - 1 => 1111\n",
        "\n",
        "\n",
        "# 보통 비트 연산자를 알고리즘 출제 보면 and(&)와 or(|)가 가장 많음 나머지는 거의 못봄(xor(^), not(~), shift)"
      ],
      "metadata": {
        "id": "U98nBLNfZLoj"
      },
      "execution_count": null,
      "outputs": []
    },
    {
      "cell_type": "code",
      "source": [
        "3 & 9 # and 비트 연산: 두 비트열의 동일한 위치에 1이 있는 경우에만 1을 반환\n",
        "\n",
        "# 0011\n",
        "# 1001\n",
        "# ----\n",
        "# 0001 (가장 마지막에 있는 위치에 둘다 1이 존재)\n",
        "# 따라서 0001 = 1(10진법) -> 1 출력"
      ],
      "metadata": {
        "colab": {
          "base_uri": "https://localhost:8080/"
        },
        "id": "uw_iR0ZqaA8T",
        "outputId": "53e64436-f59e-4b1d-ddc9-829713334085"
      },
      "execution_count": 25,
      "outputs": [
        {
          "output_type": "execute_result",
          "data": {
            "text/plain": [
              "1"
            ]
          },
          "metadata": {},
          "execution_count": 25
        }
      ]
    },
    {
      "cell_type": "code",
      "source": [
        "3 | 9 # or 비트 연산: 두 비트열의 동일한 위치에 하나라도 1이 있는 경우 1을 반환\n",
        "\n",
        "# 0011\n",
        "# 1001\n",
        "# ----\n",
        "# 1011 (동일한 위치에 1이 하나라도 있으면 1)\n",
        "# 따라서 1011 = 11(10진법) -> 11 출력"
      ],
      "metadata": {
        "colab": {
          "base_uri": "https://localhost:8080/"
        },
        "id": "K5ksqBJdaDiW",
        "outputId": "29750d92-da73-400f-978b-b28ac49411d2"
      },
      "execution_count": 26,
      "outputs": [
        {
          "output_type": "execute_result",
          "data": {
            "text/plain": [
              "11"
            ]
          },
          "metadata": {},
          "execution_count": 26
        }
      ]
    },
    {
      "cell_type": "code",
      "source": [
        "# 8개의 비트(bit)를 숫자로 사용할 수 있다\n",
        "# 8개의 비트를 사용하면 1개를 부호 비트로 사용\n",
        "\n",
        "00000000\n",
        "11111111\n",
        "\n",
        "# 1을 표현\n",
        "00000001 == 1\n",
        "# -1을 표현(1을 8개 비트를 다 뒤집는다)\n",
        "11111110 == -1\n",
        "\n",
        "# 두개를 더한다면\n",
        "11111111\n",
        "# 우리가 원하는 0의 답을 구하려면\n",
        "# 11111111 + 1 => 00000000 (0)  # 컴퓨터는 이렇게 인식함"
      ],
      "metadata": {
        "id": "dg6NpfsMa0nn"
      },
      "execution_count": null,
      "outputs": []
    },
    {
      "cell_type": "code",
      "source": [
        "# 코딩테스트 프로그래머스 비밀지도 // 풀어보기\n",
        "# https://school.programmers.co.kr/learn/courses/30/lessons/17681\n",
        "\n",
        "# 이런식으로 2진법으로 풀어라 라는것을 눈치채야한다\n",
        "# 밑의 예처럼 2진법 작성을 할주 알아야함\n",
        "9 | 30\n",
        "bin(9 | 30)\n",
        "bin(9 | 30)[2:] # or 비트연산이 계산된 2진법 출력\n",
        "\n",
        "bin(9 | 30)[2:].replace('1', '#').replace('0', ' ')\n",
        "\n",
        "# 답안\n",
        "# [\"#####\",\"# # #\", \"### #\", \"# ##\", \"#####\"]\n",
        "\n",
        "# 정답\n",
        "arr1 = [9, 20, 28, 18, 11]\n",
        "arr2 = [30, 1, 21, 17, 28]\n",
        "\n",
        "for i, j in zip(arr1, arr2):\n",
        "    print(bin(i | j)[2:].replace('1', '#').replace('0', ' '))"
      ],
      "metadata": {
        "colab": {
          "base_uri": "https://localhost:8080/"
        },
        "id": "uQF70W3wb0Uf",
        "outputId": "9d50558a-6c91-4d41-b6fd-70f071798748"
      },
      "execution_count": 32,
      "outputs": [
        {
          "output_type": "stream",
          "name": "stdout",
          "text": [
            "#####\n",
            "# # #\n",
            "### #\n",
            "#  ##\n",
            "#####\n"
          ]
        }
      ]
    },
    {
      "cell_type": "code",
      "source": [
        "bin(31) # 2진법 변환\n",
        "oct(31) # 8진법 변환\n",
        "hex(31) # 16진법 변환\n",
        "\n",
        "int('0b11111', 2) # 2진수를 10진수로 변환\n",
        "int('11111', 2) # 2진수를 10진수로 변환"
      ],
      "metadata": {
        "colab": {
          "base_uri": "https://localhost:8080/"
        },
        "id": "viXq1X9CeCIz",
        "outputId": "11a1aeb9-143a-4c94-c105-cff9f9f9b7fe"
      },
      "execution_count": 35,
      "outputs": [
        {
          "output_type": "execute_result",
          "data": {
            "text/plain": [
              "31"
            ]
          },
          "metadata": {},
          "execution_count": 35
        }
      ]
    },
    {
      "cell_type": "code",
      "source": [
        "# print에 들어가는 문자열 만들기\n",
        "\n",
        "name = '이호준'\n",
        "age = 10\n",
        "\n",
        "'제 이름은 %s이고 제 나이는 %d입니다.'%(name, age) # % 용법(거의 사용하지 않음)\n",
        "'제 이름은 {}이고 제 나이는 {}입니다'.format(name, age) # format 용법(이 문법도 아직 많이 사용합니다.)\n",
        "f'제 이름은 {name}이고 제 나이는 {age}입니다' # f-string 용법(권고합니다.)"
      ],
      "metadata": {
        "id": "KGn8D_gOhGrs"
      },
      "execution_count": null,
      "outputs": []
    },
    {
      "cell_type": "code",
      "source": [
        "삼 = '짝'*3\n",
        "칠 = '짝'*7\n",
        "\n",
        "print('삼삼칠 박수 :  {0}!!! {0}!!! {1}!!! '.format(삼, 칠))\n",
        "print(f'삼삼칠 박수 :  {삼}!!! {삼}!!! {칠}!!!')\n",
        "print(f'삼삼칠 박수 :  {삼*2}!!! {삼}!!! {칠}!!!') # {}안에 연산하는 것은 가독성을 해칠 우려가 있다.\n"
      ],
      "metadata": {
        "colab": {
          "base_uri": "https://localhost:8080/"
        },
        "id": "Ug4Qe0BAjePO",
        "outputId": "beff0f93-c0f0-42e2-9348-26d755eb495e"
      },
      "execution_count": 37,
      "outputs": [
        {
          "output_type": "stream",
          "name": "stdout",
          "text": [
            "삼삼칠 박수 :  짝짝짝!!! 짝짝짝!!! 짝짝짝짝짝짝짝!!! \n",
            "삼삼칠 박수 :  짝짝짝!!! 짝짝짝!!! 짝짝짝짝짝짝짝!!!\n"
          ]
        }
      ]
    },
    {
      "cell_type": "code",
      "source": [
        "# 파이썬(Python) 3.6 f-string 방식\n",
        "# 소수점\n",
        "one_length = 5.343\n",
        "\n",
        "\n",
        "print(f'{one_length} 입니다.')\n",
        "print(f'{one_length:.1f} 입니다.')\n",
        "print('{0:.2f}'.format(one_length))\n",
        "print('{:.2f}'.format(one_length))"
      ],
      "metadata": {
        "colab": {
          "base_uri": "https://localhost:8080/"
        },
        "id": "9tBxQXU4jp9N",
        "outputId": "4ae99a96-97a9-4ee8-ca61-5e7374ce3cf7"
      },
      "execution_count": 39,
      "outputs": [
        {
          "output_type": "stream",
          "name": "stdout",
          "text": [
            "5.343 입니다.\n",
            "5.3 입니다.\n",
            "5.34\n",
            "5.34\n"
          ]
        }
      ]
    },
    {
      "cell_type": "code",
      "source": [
        "# {:^길이} : 가운데 정렬 => 많이 사용\n",
        "# log 출력할때 가운데 정렬은 많이 사용된다.\n",
        "\n",
        "age = 100\n",
        "\n",
        "print('당신의 나이는 [{:^15}]세'.format(22))  # 15칸을 두고 가운데 정렬\n",
        "print(f'당신의 나이는 [{age:^15}]세')\n",
        "\n",
        "print(f'당신의 나이는 [{age:>15}]세')\n",
        "print(f'당신의 나이는 [{age:<15}]세')\n",
        "\n",
        "# 가운데 정렬후 남은 공간을 해당 문제로 처리\n",
        "print(f'당신의 나이는 [{age:-^15}]세')\n",
        "print(f'당신의 나이는 [{age:=^15}]세')\n",
        "print(f'당신의 나이는 [{age:#^15}]세')"
      ],
      "metadata": {
        "colab": {
          "base_uri": "https://localhost:8080/"
        },
        "id": "KKw5s8LlkcET",
        "outputId": "4f6ac590-a99f-4843-8a76-2eaa179c5a31"
      },
      "execution_count": 45,
      "outputs": [
        {
          "output_type": "stream",
          "name": "stdout",
          "text": [
            "당신의 나이는 [      22       ]세\n",
            "당신의 나이는 [      100      ]세\n",
            "당신의 나이는 [            100]세\n",
            "당신의 나이는 [100            ]세\n",
            "당신의 나이는 [------100------]세\n",
            "당신의 나이는 [======100======]세\n",
            "당신의 나이는 [######100######]세\n"
          ]
        }
      ]
    },
    {
      "cell_type": "code",
      "source": [
        "age = 10\n",
        "\n",
        "print(f\"My set is {{1, 2, 3}}.\")  # 출력: My set is {1, 2, 3}.\n",
        "print(f\"My set is {{age*1 , age*2, age*3}}.\")  # 출력: My set is {age*1 , age*2, age*3}.\n",
        "\n",
        "# 따라서 문자열에 {}를 사용하고, 값을 출력할때는 중괄호 3개를 써야한다.\n",
        "print(f\"My set is {{{age*3}}}.\")"
      ],
      "metadata": {
        "colab": {
          "base_uri": "https://localhost:8080/"
        },
        "id": "LK8F9DAdkvKh",
        "outputId": "4397bbdf-d5eb-4831-ab99-10921cbd700b"
      },
      "execution_count": 49,
      "outputs": [
        {
          "output_type": "stream",
          "name": "stdout",
          "text": [
            "My set is {1, 2, 3}.\n",
            "My set is {age*1 , age*2, age*3}.\n",
            "My set is {30}.\n"
          ]
        }
      ]
    },
    {
      "cell_type": "code",
      "source": [
        "l = []\n",
        "for i in range(2, 10):\n",
        "    for j in range(1, 10):\n",
        "        l.append(f'{i} X {j} = {i * j}')\n",
        "l"
      ],
      "metadata": {
        "id": "S83EfH46lgDD"
      },
      "execution_count": null,
      "outputs": []
    },
    {
      "cell_type": "code",
      "source": [
        "# 리스트 컴프리헨션\n",
        "# 리스트 컴프리헨션은 속도가 for문보다 빠르다 -> for문의 속도가 뭔가 문제가 있을경우 컴프리헨션으로 써야한다.\n",
        "\n",
        "# 컴프리헨션은 3중 이상 중첩되는걸 권장하지 않음\n",
        "# 2중까지는 인정을 해주는 편\n",
        "# 하지만 위에 for문 처럼 쓰는게 가독성엔 좋음(2중이상일 경우)\n",
        "\n",
        "l = [f'{i} X {j} = {i * j}' for i in range(2, 10) for j in range(1, 10)]\n",
        "l"
      ],
      "metadata": {
        "id": "1l5xFd12miKU"
      },
      "execution_count": null,
      "outputs": []
    },
    {
      "cell_type": "markdown",
      "source": [
        "# 비동기와 코루틴"
      ],
      "metadata": {
        "id": "z3IkQsbRnSva"
      }
    },
    {
      "cell_type": "code",
      "source": [
        "!pip install nest_asyncio"
      ],
      "metadata": {
        "colab": {
          "base_uri": "https://localhost:8080/"
        },
        "id": "3b67zyMoozAX",
        "outputId": "dc0f06c0-6806-447e-ed33-78d4e12ec92e"
      },
      "execution_count": 53,
      "outputs": [
        {
          "output_type": "stream",
          "name": "stdout",
          "text": [
            "Requirement already satisfied: nest_asyncio in /usr/local/lib/python3.10/dist-packages (1.5.8)\n"
          ]
        }
      ]
    },
    {
      "cell_type": "code",
      "source": [
        "# 동기 프로그래밍\n",
        "# 코드가 순차적으로 실행되며, 특정 작업이 완료될 때까지 프로그램이 기다리는 방식\n",
        "import nest_asyncio\n",
        "import time\n",
        "\n",
        "nest_asyncio.apply()\n",
        "\n",
        "def job(number):\n",
        "    print(f\"Job {number} started\")\n",
        "    time.sleep(1)  # 매우 오래 걸리는 작업, 일반 sleep은 CPU를 쉬게 합니다.\n",
        "    print(f\"Job {number} completed\")\n",
        "\n",
        "# 순서대로 시작하고 종료된다.\n",
        "job(1)\n",
        "job(2)\n",
        "job(3)"
      ],
      "metadata": {
        "colab": {
          "base_uri": "https://localhost:8080/"
        },
        "id": "k61Oo-r5muzJ",
        "outputId": "d85c2de6-c8dc-4313-de93-0a72f856eb84"
      },
      "execution_count": 55,
      "outputs": [
        {
          "output_type": "stream",
          "name": "stdout",
          "text": [
            "Job 1 started\n",
            "Job 1 completed\n",
            "Job 2 started\n",
            "Job 2 completed\n",
            "Job 3 started\n",
            "Job 3 completed\n"
          ]
        }
      ]
    },
    {
      "cell_type": "code",
      "source": [
        "# 비동기 프로그래밍\n",
        "\n",
        "# colab에서 작동하는 코드\n",
        "# 기본 base는 colab에서 작동하지 않습니다.\n",
        "import asyncio\n",
        "\n",
        "async def job(number):\n",
        "    print(f\"Job {number} started\")\n",
        "    await asyncio.sleep(1) # 매우 오래 걸리는 작업, asyncio.sleep은 비동기 처리를 할 수 있도록 합니다.(다른 작업이 가능합니다.)\n",
        "    print(f\"Job {number} completed\")\n",
        "\n",
        "async def main():\n",
        "    await asyncio.gather(job(1), job(2), job(3)) # await asyncio.wait([job(1), job(2), job(3)])\n",
        "\n",
        "# job1,2,3들이 같이 시작됨(동시에 여러 작업을 진행)\n",
        "asyncio.run(main())\n",
        "print('hello world')"
      ],
      "metadata": {
        "colab": {
          "base_uri": "https://localhost:8080/"
        },
        "id": "mPiZu1mso2FV",
        "outputId": "51375655-f321-4902-9989-10d2150b27f6"
      },
      "execution_count": 56,
      "outputs": [
        {
          "output_type": "stream",
          "name": "stdout",
          "text": [
            "Job 1 started\n",
            "Job 2 started\n",
            "Job 3 started\n",
            "Job 1 completed\n",
            "Job 2 completed\n",
            "Job 3 completed\n",
            "hello world\n"
          ]
        }
      ]
    },
    {
      "cell_type": "code",
      "source": [
        "async def job():\n",
        "    print('job')\n",
        "\n",
        "print(job) # <function job at 0x7fc8cb38ef80>\n",
        "job() # <coroutine object job at 0x7fc8cb32bc30>, print('job')이 실행되진 않습니다!"
      ],
      "metadata": {
        "id": "zB63TeoJpdzl"
      },
      "execution_count": null,
      "outputs": []
    },
    {
      "cell_type": "code",
      "source": [
        "async def job():\n",
        "    print('job')\n",
        "\n",
        "async def main():\n",
        "    return await job()\n",
        "\n",
        "print(main) # <coroutine object main at 0x7fc8cb22bf40>\n",
        "print(await main()) # None"
      ],
      "metadata": {
        "id": "S7RBy9Pbr4Az"
      },
      "execution_count": null,
      "outputs": []
    },
    {
      "cell_type": "code",
      "source": [],
      "metadata": {
        "id": "eIjYNgtQsG74"
      },
      "execution_count": null,
      "outputs": []
    }
  ]
}