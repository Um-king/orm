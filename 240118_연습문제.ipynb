{
  "nbformat": 4,
  "nbformat_minor": 0,
  "metadata": {
    "colab": {
      "provenance": [],
      "authorship_tag": "ABX9TyOu7HJneI3M4H2/5628PieJ",
      "include_colab_link": true
    },
    "kernelspec": {
      "name": "python3",
      "display_name": "Python 3"
    },
    "language_info": {
      "name": "python"
    }
  },
  "cells": [
    {
      "cell_type": "markdown",
      "metadata": {
        "id": "view-in-github",
        "colab_type": "text"
      },
      "source": [
        "<a href=\"https://colab.research.google.com/github/Um-king/orm/blob/main/240118_%EC%97%B0%EC%8A%B5%EB%AC%B8%EC%A0%9C.ipynb\" target=\"_parent\"><img src=\"https://colab.research.google.com/assets/colab-badge.svg\" alt=\"Open In Colab\"/></a>"
      ]
    },
    {
      "cell_type": "markdown",
      "source": [
        "# 문제 1: 이메일 주소 변경하기 (sub 사용)\n",
        "1. 문제: 주어진 문자열에서 모든 이메일 주소를 user@weniv.co.kr으로 변경하시오.\n",
        "\n",
        "2. 예시 입력: \"저의 이메일 주소는 kim123@gmail.com입니다. 친구의 이메일 주소는 lee456@gmail.com입니다.\"\n",
        "3. 예시 출력: \"저의 이메일 주소는 user@weniv.co.kr입니다. 친구의 이메일 주소는 user@weniv.co.kr입니다.\"\n",
        "\n",
        "4. 힌트: 이메일 주소를 찾기 위한 정규표현식은 \\b[A-Za-z0-9._%+-]+@[A-Za-z0-9.-]+\\.[A-Z|a-z]{2,}\\b를 사용할 수 있습니다."
      ],
      "metadata": {
        "id": "-ibc7jo2c1co"
      }
    },
    {
      "cell_type": "code",
      "source": [
        "import re\n",
        "\n",
        "input_data = \"저의 이메일 주소는 kim123@gmail.com, 친구의 이메일 주소는 lee456@gmail.com.\"\n",
        "output_data = re.sub(r'\\b[A-Za-z0-9._%+-]+@[A-Za-z0-9.-]+\\.[A-Z|a-z]{2,}\\b', 'user@wenive.co.kr', input_data)\n",
        "\n",
        "print('예시 입력: ', input_data)\n",
        "print('예시 출력: ', output_data)"
      ],
      "metadata": {
        "colab": {
          "base_uri": "https://localhost:8080/"
        },
        "id": "ehtEa6Qjc-Eg",
        "outputId": "349e5a8f-b27e-4666-f4a0-7763bf999f6e"
      },
      "execution_count": 31,
      "outputs": [
        {
          "output_type": "stream",
          "name": "stdout",
          "text": [
            "예시 입력:  저의 이메일 주소는 kim123@gmail.com, 친구의 이메일 주소는 lee456@gmail.com.\n",
            "예시 출력:  저의 이메일 주소는 user@wenive.co.kr, 친구의 이메일 주소는 user@wenive.co.kr.\n"
          ]
        }
      ]
    },
    {
      "cell_type": "markdown",
      "source": [
        "# 문제 2: HTML 태그 제거하기 (sub 사용)\n",
        "1. 문제: 주어진 HTML 문자열에서 모든 HTML 태그를 제거하고 텍스트만 남기시오.\n",
        "2. 힌트: HTML 태그를 찾기 위한 정규표현식은 <[^>]+>를 사용할 수 있습니다.\n",
        "```\n",
        "예시 입력: \"<p>이것은 <b>예시</b> 문장입니다.</p>\"\n",
        "예시 출력: \"이것은 예시 문장입니다.\"\n",
        "```"
      ],
      "metadata": {
        "id": "xrVHXhyijKO8"
      }
    },
    {
      "cell_type": "code",
      "source": [
        "import re\n",
        "\n",
        "input_data = \"<p>이것은 <b>예시</b> 문장입니다.</p>\"\n",
        "output_data = re.sub(r'<[^>]+>', '', input_data)\n",
        "\n",
        "print('예시 입력: ', input_data)\n",
        "print('예시 출력: ', output_data)"
      ],
      "metadata": {
        "colab": {
          "base_uri": "https://localhost:8080/"
        },
        "id": "cVuDuII0inoV",
        "outputId": "12fa0e17-90d9-4317-d8d7-d25772485b38"
      },
      "execution_count": 32,
      "outputs": [
        {
          "output_type": "stream",
          "name": "stdout",
          "text": [
            "예시 입력:  <p>이것은 <b>예시</b> 문장입니다.</p>\n",
            "예시 출력:  이것은 예시 문장입니다.\n"
          ]
        }
      ]
    },
    {
      "cell_type": "code",
      "source": [],
      "metadata": {
        "id": "5a83JFW_jx0q"
      },
      "execution_count": null,
      "outputs": []
    }
  ]
}