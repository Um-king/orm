{
  "nbformat": 4,
  "nbformat_minor": 0,
  "metadata": {
    "colab": {
      "provenance": [],
      "authorship_tag": "ABX9TyOivHTEupLHHY6jBbXUnFIw",
      "include_colab_link": true
    },
    "kernelspec": {
      "name": "python3",
      "display_name": "Python 3"
    },
    "language_info": {
      "name": "python"
    }
  },
  "cells": [
    {
      "cell_type": "markdown",
      "metadata": {
        "id": "view-in-github",
        "colab_type": "text"
      },
      "source": [
        "<a href=\"https://colab.research.google.com/github/Um-king/orm/blob/main/240118_%EC%97%B0%EC%8A%B5%EB%AC%B8%EC%A0%9C.ipynb\" target=\"_parent\"><img src=\"https://colab.research.google.com/assets/colab-badge.svg\" alt=\"Open In Colab\"/></a>"
      ]
    },
    {
      "cell_type": "markdown",
      "source": [
        "# 문제 1: 이메일 주소 변경하기 (sub 사용)\n",
        "1. 문제: 주어진 문자열에서 모든 이메일 주소를 user@weniv.co.kr으로 변경하시오.\n",
        "\n",
        "2. 예시 입력: \"저의 이메일 주소는 kim123@gmail.com입니다. 친구의 이메일 주소는 lee456@gmail.com입니다.\"\n",
        "3. 예시 출력: \"저의 이메일 주소는 user@weniv.co.kr입니다. 친구의 이메일 주소는 user@weniv.co.kr입니다.\"\n",
        "\n",
        "4. 힌트: 이메일 주소를 찾기 위한 정규표현식은 \\b[A-Za-z0-9._%+-]+@[A-Za-z0-9.-]+\\.[A-Z|a-z]{2,}\\b를 사용할 수 있습니다."
      ],
      "metadata": {
        "id": "-ibc7jo2c1co"
      }
    },
    {
      "cell_type": "code",
      "source": [
        "import re\n",
        "\n",
        "input_data = \"저의 이메일 주소는 kim123@gmail.com, 친구의 이메일 주소는 lee456@gmail.com.\"\n",
        "output_data = re.sub(r'\\b[A-Za-z0-9._%+-]+@[A-Za-z0-9.-]+\\.[A-Z|a-z]{2,}\\b', 'user@wenive.co.kr', input_data) # \\. 은 문자열 .을 / 그냥 . 사용시 모든 문자열\n",
        "\n",
        "print('예시 입력: ', input_data)\n",
        "print('예시 출력: ', output_data)"
      ],
      "metadata": {
        "colab": {
          "base_uri": "https://localhost:8080/"
        },
        "id": "ehtEa6Qjc-Eg",
        "outputId": "349e5a8f-b27e-4666-f4a0-7763bf999f6e"
      },
      "execution_count": null,
      "outputs": [
        {
          "output_type": "stream",
          "name": "stdout",
          "text": [
            "예시 입력:  저의 이메일 주소는 kim123@gmail.com, 친구의 이메일 주소는 lee456@gmail.com.\n",
            "예시 출력:  저의 이메일 주소는 user@wenive.co.kr, 친구의 이메일 주소는 user@wenive.co.kr.\n"
          ]
        }
      ]
    },
    {
      "cell_type": "code",
      "source": [
        "# 출제 했던 문제의 해답\n",
        "\n",
        "import re\n",
        "my_string = \"저의 이메일 주소는 kim123@gmail.com입니다. 친구의 이메일 주소는 lee456@gmail.com입니다.\"\n",
        "re.sub(r\"[A-Za-z0-9._%+-]+@[A-Za-z0-9.-]+\\.[A-Z|a-z]{2,}\", \"user@weniv.co.kr\", my_string)"
      ],
      "metadata": {
        "colab": {
          "base_uri": "https://localhost:8080/",
          "height": 35
        },
        "id": "gp9xqoorHI4Q",
        "outputId": "d3e5e48b-0042-425d-c691-d28c7369bbf9"
      },
      "execution_count": 2,
      "outputs": [
        {
          "output_type": "execute_result",
          "data": {
            "text/plain": [
              "'저의 이메일 주소는 user@weniv.co.kr입니다. 친구의 이메일 주소는 user@weniv.co.kr입니다.'"
            ],
            "application/vnd.google.colaboratory.intrinsic+json": {
              "type": "string"
            }
          },
          "metadata": {},
          "execution_count": 2
        }
      ]
    },
    {
      "cell_type": "code",
      "source": [
        "# 변경된 문제의 해답\n",
        "my_string = \"저의 이메일 주소는 kim123@gmail.com입니다. 친구의 이메일 주소는 lee456@gmail.com입니다.\"\n",
        "re.sub(r\"@[A-Za-z0-9.-]+\\.[A-Z|a-z]{2,}\", \"@weniv.co.kr\", my_string)"
      ],
      "metadata": {
        "colab": {
          "base_uri": "https://localhost:8080/",
          "height": 35
        },
        "id": "KTVG9OEpHSfx",
        "outputId": "36f30d24-e8ae-4dd5-e6c5-e29814439a8e"
      },
      "execution_count": 3,
      "outputs": [
        {
          "output_type": "execute_result",
          "data": {
            "text/plain": [
              "'저의 이메일 주소는 kim123@weniv.co.kr입니다. 친구의 이메일 주소는 lee456@weniv.co.kr입니다.'"
            ],
            "application/vnd.google.colaboratory.intrinsic+json": {
              "type": "string"
            }
          },
          "metadata": {},
          "execution_count": 3
        }
      ]
    },
    {
      "cell_type": "code",
      "source": [
        "# 변경된 문제의 해답\n",
        "import re\n",
        "\n",
        "def chagedomain(url):\n",
        "    return url.split('@')[0] + '@weniv.co.kr'\n",
        "\n",
        "# 콤마는 의도적으로 넣지 않은 것입니다.\n",
        "findpattern = re.findall(r\"[A-Za-z0-9._%+-]+@[A-Za-z0-9.-]+\\.[A-Z|a-z]{2,}\",\n",
        "                         \"저의 이메일 주소는 kim123@gmail.com입니다.\"\n",
        "                         \"친구의 이메일 주소는 lee456@gmail.com입니다.\")\n",
        "\n",
        "for url in findpattern:\n",
        "    print(chagedomain(url))"
      ],
      "metadata": {
        "colab": {
          "base_uri": "https://localhost:8080/"
        },
        "id": "xP2xrzqmHVTC",
        "outputId": "9fe59612-6122-451c-e0d0-967d6ed9bb30"
      },
      "execution_count": 4,
      "outputs": [
        {
          "output_type": "stream",
          "name": "stdout",
          "text": [
            "kim123@weniv.co.kr\n",
            "lee456@weniv.co.kr\n"
          ]
        }
      ]
    },
    {
      "cell_type": "markdown",
      "source": [
        "# 문제 2: HTML 태그 제거하기 (sub 사용)\n",
        "1. 문제: 주어진 HTML 문자열에서 모든 HTML 태그를 제거하고 텍스트만 남기시오.\n",
        "2. 힌트: HTML 태그를 찾기 위한 정규표현식은 <[^>]+>를 사용할 수 있습니다.\n",
        "```\n",
        "예시 입력: \"<p>이것은 <b>예시</b> 문장입니다.</p>\"\n",
        "예시 출력: \"이것은 예시 문장입니다.\"\n",
        "```"
      ],
      "metadata": {
        "id": "xrVHXhyijKO8"
      }
    },
    {
      "cell_type": "code",
      "source": [
        "import re # import와 코드는 보통 2칸을 enter\n",
        "\n",
        "\n",
        "input_data = \"<p>이것은 <b>예시</b> 문장입니다.</p>\"\n",
        "output_data = re.sub(r'<[^>]+>', '', input_data) # ^> : >이게 아닌 것들을 전부 택함 즉 <문자>를 매치\n",
        "\n",
        "print('예시 입력: ', input_data)\n",
        "print('예시 출력: ', output_data)"
      ],
      "metadata": {
        "colab": {
          "base_uri": "https://localhost:8080/"
        },
        "id": "cVuDuII0inoV",
        "outputId": "12fa0e17-90d9-4317-d8d7-d25772485b38"
      },
      "execution_count": null,
      "outputs": [
        {
          "output_type": "stream",
          "name": "stdout",
          "text": [
            "예시 입력:  <p>이것은 <b>예시</b> 문장입니다.</p>\n",
            "예시 출력:  이것은 예시 문장입니다.\n"
          ]
        }
      ]
    },
    {
      "cell_type": "code",
      "source": [
        "# import와 코드 사이는 두칸\n",
        "import re\n",
        "\n",
        "\n",
        "코드"
      ],
      "metadata": {
        "id": "5a83JFW_jx0q"
      },
      "execution_count": null,
      "outputs": []
    },
    {
      "cell_type": "code",
      "source": [
        "# class와 class는 두칸\n",
        "# 함수는 한칸\n",
        "class A:\n",
        "    def a():\n",
        "        pass\n",
        "\n",
        "    def aa():\n",
        "        pass\n",
        "\n",
        "class B:\n",
        "    def b():\n",
        "        pass"
      ],
      "metadata": {
        "id": "s0_MIlu6IhR6"
      },
      "execution_count": null,
      "outputs": []
    }
  ]
}