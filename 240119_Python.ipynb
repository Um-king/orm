{
  "nbformat": 4,
  "nbformat_minor": 0,
  "metadata": {
    "colab": {
      "provenance": [],
      "collapsed_sections": [
        "oiHainsDShdF"
      ],
      "authorship_tag": "ABX9TyM4Deq4+TdqWBKWfsV2ZTrt",
      "include_colab_link": true
    },
    "kernelspec": {
      "name": "python3",
      "display_name": "Python 3"
    },
    "language_info": {
      "name": "python"
    }
  },
  "cells": [
    {
      "cell_type": "markdown",
      "metadata": {
        "id": "view-in-github",
        "colab_type": "text"
      },
      "source": [
        "<a href=\"https://colab.research.google.com/github/Um-king/orm/blob/main/240119_Python.ipynb\" target=\"_parent\"><img src=\"https://colab.research.google.com/assets/colab-badge.svg\" alt=\"Open In Colab\"/></a>"
      ]
    },
    {
      "cell_type": "markdown",
      "source": [
        "# 기본 역량 문제 풀이 20문제(프로그래머스 10개 + pyalgo 10개)\n",
        "\n",
        "\n",
        "백준, 프로그래머스, 코딩도장, pyalgo"
      ],
      "metadata": {
        "id": "sDoQFfRsLqsX"
      }
    },
    {
      "cell_type": "markdown",
      "source": [
        "## 1. 짝수 홀수 개수\n",
        "\n",
        "링크 : https://school.programmers.co.kr/learn/courses/30/lessons/120824"
      ],
      "metadata": {
        "id": "oiHainsDShdF"
      }
    },
    {
      "cell_type": "code",
      "source": [
        "def solution(data):\n",
        "    return data\n",
        "\n",
        "solution()"
      ],
      "metadata": {
        "id": "cubKnaYHL1XW"
      },
      "execution_count": null,
      "outputs": []
    },
    {
      "cell_type": "code",
      "execution_count": null,
      "metadata": {
        "colab": {
          "base_uri": "https://localhost:8080/"
        },
        "id": "Ecs2fF_DCFpr",
        "outputId": "9bf59825-0d32-4693-d563-c813d37a220b"
      },
      "outputs": [
        {
          "output_type": "stream",
          "name": "stdout",
          "text": [
            "[True, False, True, False, True] [False, True, False, True, False]\n"
          ]
        },
        {
          "output_type": "execute_result",
          "data": {
            "text/plain": [
              "[2, 3]"
            ]
          },
          "metadata": {},
          "execution_count": 6
        }
      ],
      "source": [
        "# 꼭 풀고 제출하여 점수 올리기!(로그인 후에 제출하면 정답여부 나오고 점수 올릴 수 있음 -> 깃허브와 연동하기)\n",
        "\n",
        "# 링크 : https://school.programmers.co.kr/learn/courses/30/lessons/120824\n",
        "# 1. 프로그래머스 짝수 홀수 개수\n",
        "# 1.1.\n",
        "\n",
        "def solution(data):\n",
        "    홀수 = [i % 2 != 0 for i in data]\n",
        "    짝수 = [i % 2 == 0 for i in data]\n",
        "    print(홀수, 짝수) # 마스킹: 짝수인지 홀수인지 True, Flase로 호출\n",
        "    return [sum(짝수), sum(홀수)] # 짝수 개수와 홀수 개수 반환\n",
        "\n",
        "solution([1, 2, 3, 4, 5])"
      ]
    },
    {
      "cell_type": "code",
      "source": [
        "# 1.1.\n",
        "# 좋은 풀이는 아니다 -> sum은 순회하기 때문에 속도가 증가하는것.\n",
        "# sum 함수는 해당 자료형안에 있는 원소들을 순회하며 값을 생성하는 것이기때문에 속도에 문제가 있을 수 있음\n",
        "# data의 가변 최대치를 본다\n",
        "\n",
        "def solution(data):\n",
        "    짝수 = [i % 2 == 0 for i in data] # 여기서도 순회1\n",
        "    return [sum(짝수), len(data) - sum(짝수)] # sum(짝수) 첫번째 인덱스에서 순회2, 두번째 인덱스 sum에서 순회3."
      ],
      "metadata": {
        "id": "vra5ct_ORNh5"
      },
      "execution_count": null,
      "outputs": []
    },
    {
      "cell_type": "code",
      "source": [
        "# 이게 더 나은 코드\n",
        "def solution(data):\n",
        "    짝수 = [i % 2 == 0 for i in data]\n",
        "    갯수 = sum(짝수)\n",
        "    return [갯수, len(data) - 갯수]"
      ],
      "metadata": {
        "id": "jl3Osz3_Ri53"
      },
      "execution_count": null,
      "outputs": []
    },
    {
      "cell_type": "code",
      "source": [
        "# 프로그래머스 짝수 홀수 개수\n",
        "# 1.2.\n",
        "\n",
        "def solution(data):\n",
        "    count = 0\n",
        "    for i in data:\n",
        "        if i % 2 == 0:\n",
        "            count += 1\n",
        "    return [count, len(data)-count] #  짝수 개수를 구한 후 전체에 해당 COUNT를 빼면 홀수 개수\n",
        "\n",
        "solution([1, 2, 3, 4, 5])"
      ],
      "metadata": {
        "colab": {
          "base_uri": "https://localhost:8080/"
        },
        "id": "p9lB5iHmL-n5",
        "outputId": "1f55c027-0777-4982-c6ca-df986a2dcba0"
      },
      "execution_count": null,
      "outputs": [
        {
          "output_type": "execute_result",
          "data": {
            "text/plain": [
              "[2, 3]"
            ]
          },
          "metadata": {},
          "execution_count": 9
        }
      ]
    },
    {
      "cell_type": "code",
      "source": [
        "# 프로그래머스 짝수 홀수 개수\n",
        "# 1.3. 가장 효율이 좋은 코드\n",
        "def solution(num_list):\n",
        "    answer = [0, 0]\n",
        "    for i in num_list:\n",
        "        answer[i % 2] += 1 # 0,1 번째 인덱스에 count를 증가 -> 2로 나눴을때 0과 1만 출력되니 0이면 짝수, 1이면 홀수의 인덱스 위치에 count 증가\n",
        "    return answer\n",
        "\n",
        "solution([1, 2, 3, 4, 5])"
      ],
      "metadata": {
        "colab": {
          "base_uri": "https://localhost:8080/"
        },
        "id": "DRlrkh7VQMlh",
        "outputId": "2ace463e-0f9e-4fd2-f613-a87bad1ccb7e"
      },
      "execution_count": null,
      "outputs": [
        {
          "output_type": "execute_result",
          "data": {
            "text/plain": [
              "[2, 3]"
            ]
          },
          "metadata": {},
          "execution_count": 10
        }
      ]
    },
    {
      "cell_type": "markdown",
      "source": [
        "## 2. 머쓱이보다 키 큰 사람\n",
        "링크 : https://school.programmers.co.kr/learn/courses/30/lessons/120585"
      ],
      "metadata": {
        "id": "CiQUcP99SmkB"
      }
    },
    {
      "cell_type": "code",
      "source": [
        "# 링크 : https://school.programmers.co.kr/learn/courses/30/lessons/120585\n",
        "# 프로그래머스 머쓱이보다 키 큰 사람\n",
        "# 2.1\n",
        "\n",
        "def solution(array, height):\n",
        "    count = 0\n",
        "    for i in array:\n",
        "        if i > height:\n",
        "            count += 1\n",
        "    return count\n",
        "\n",
        "solution([149, 180, 192, 170], 167)"
      ],
      "metadata": {
        "colab": {
          "base_uri": "https://localhost:8080/"
        },
        "id": "Awfhln2HQ7No",
        "outputId": "c18cf388-af92-4c2c-ca1b-7ab0b8d77ec1"
      },
      "execution_count": null,
      "outputs": [
        {
          "output_type": "execute_result",
          "data": {
            "text/plain": [
              "3"
            ]
          },
          "metadata": {},
          "execution_count": 12
        }
      ]
    },
    {
      "cell_type": "code",
      "source": [
        "# 이렇게 언패킹 해서 사용할 수 있는 것들은 언패킹 해주세요.\n",
        "# 가독성이 좋아집니다!\n",
        "def solution(data):\n",
        "    array, height = data # 언패킹\n",
        "    pass\n",
        "\n",
        "solution([[149, 180, 192, 170], 167]) # 이렇게 사용된다면"
      ],
      "metadata": {
        "id": "13TOnHyvTAQ7"
      },
      "execution_count": null,
      "outputs": []
    },
    {
      "cell_type": "code",
      "source": [
        "# 2.2 filter 사용\n",
        "# filter는 len()가 없습니다! -> list로 형변환\n",
        "\n",
        "# filter는 왜 len()가 없나요?\n",
        "# filter는 순회 돌기 전까지 실행이 되지 않은 함수이면서\n",
        "# for와 같이 순회를 돌아야 그때서야 각 원소 별로 접근해서\n",
        "# 따라서 순회를 돌지 않은 상태이기 때문에 길이를 알 수 없음\n",
        "# 주문만 하고 아직 제조되지 않은 커피..! => 커피를 달라고 소리쳐야(순회 또는 형변환) 그때야 제조가 된다.\n",
        "\n",
        "def solution(array, height):\n",
        "    return len(list(filter(lambda x: x > height, array)))\n",
        "\n",
        "solution([149, 180, 192, 170], 167)"
      ],
      "metadata": {
        "colab": {
          "base_uri": "https://localhost:8080/"
        },
        "id": "879A6ApDTjJ3",
        "outputId": "8e9a6e77-45e9-4f32-c16b-343bd583da59"
      },
      "execution_count": null,
      "outputs": [
        {
          "output_type": "execute_result",
          "data": {
            "text/plain": [
              "3"
            ]
          },
          "metadata": {},
          "execution_count": 14
        }
      ]
    },
    {
      "cell_type": "code",
      "source": [
        "# 2.3 map 사용\n",
        "def solution(array, height):\n",
        "    return sum(map(lambda x: x > height, array)) # x>height인것을 boolean값으로 반환하고 sum\n",
        "\n",
        "solution([149, 180, 192, 170], 167)"
      ],
      "metadata": {
        "colab": {
          "base_uri": "https://localhost:8080/"
        },
        "id": "42XY2WKCTjDm",
        "outputId": "63118cc1-7c8d-442e-d08c-1cf38bd834ab"
      },
      "execution_count": null,
      "outputs": [
        {
          "output_type": "execute_result",
          "data": {
            "text/plain": [
              "3"
            ]
          },
          "metadata": {},
          "execution_count": 16
        }
      ]
    },
    {
      "cell_type": "code",
      "source": [
        "# 2.3 리스트 컨프리헨션 사용\n",
        "def solution(array, height):\n",
        "    return sum(i > height for i in array)\n",
        "\n",
        "solution([149, 180, 192, 170], 167)"
      ],
      "metadata": {
        "colab": {
          "base_uri": "https://localhost:8080/"
        },
        "id": "21mGgAHsU2Tc",
        "outputId": "760cd055-415d-4653-d02a-e1b8286d6726"
      },
      "execution_count": null,
      "outputs": [
        {
          "output_type": "execute_result",
          "data": {
            "text/plain": [
              "3"
            ]
          },
          "metadata": {},
          "execution_count": 19
        }
      ]
    },
    {
      "cell_type": "markdown",
      "source": [
        "## 3. 숨어있는 숫자의 덧셈(1)\n",
        "\n",
        "링크 : https://school.programmers.co.kr/learn/courses/30/lessons/120851"
      ],
      "metadata": {
        "id": "8w0Q5AY5VzbO"
      }
    },
    {
      "cell_type": "code",
      "source": [
        "# 링크 : https://school.programmers.co.kr/learn/courses/30/lessons/120851\n",
        "# 숨어있는 숫자의 덧셈(1)\n",
        "# 문자열은 소문자, 대문자 그리고 한자리 자연수로만 구성\n",
        "# 3.1\n",
        "\n",
        "def solution(my_string):\n",
        "    result = 0\n",
        "    for i in my_string:\n",
        "        if i.isdigit():\n",
        "            result += int(i)\n",
        "    return result\n",
        "\n",
        "solution(\"aAb1B2cC34oOp\")"
      ],
      "metadata": {
        "colab": {
          "base_uri": "https://localhost:8080/"
        },
        "id": "4geZ8wkeVP4J",
        "outputId": "2efe09c0-94e7-4338-c322-ea177af3947c"
      },
      "execution_count": null,
      "outputs": [
        {
          "output_type": "execute_result",
          "data": {
            "text/plain": [
              "10"
            ]
          },
          "metadata": {},
          "execution_count": 21
        }
      ]
    },
    {
      "cell_type": "code",
      "source": [
        "# 3.2\n",
        "\n",
        "# 효율적이진 않지만, 문법 복습 차원에서 작성\n",
        "\n",
        "def solution(my_string):\n",
        "    return list(filter(lambda x: x.isdigit(), list(my_string)))\n",
        "\n",
        "solution(\"aAb1B2cC34oOp\")"
      ],
      "metadata": {
        "colab": {
          "base_uri": "https://localhost:8080/"
        },
        "id": "q_iY4ZPFWZ_D",
        "outputId": "b29204d6-8eca-4c68-9749-a90d1acfeba6"
      },
      "execution_count": null,
      "outputs": [
        {
          "output_type": "execute_result",
          "data": {
            "text/plain": [
              "['1', '2', '3', '4']"
            ]
          },
          "metadata": {},
          "execution_count": 27
        }
      ]
    },
    {
      "cell_type": "code",
      "source": [
        "# 3.2\n",
        "\n",
        "# isdigit에 ()가 있고 없고 차이\n",
        "\n",
        "def solution(my_string):\n",
        "    return list(filter(str.isdigit, list(my_string))) # 이렇게 문자가 정수인지 바로 확인 가능\n",
        "\n",
        "# str.isdigit에서 ()가 없는 차이 => str이란 클래스의 isdigit을 가져온것, 클래스함수 호출\n",
        "\n",
        "solution(\"aAb1B2cC34oOp\")"
      ],
      "metadata": {
        "colab": {
          "base_uri": "https://localhost:8080/"
        },
        "id": "PPAEHRzlW3WH",
        "outputId": "5339cb15-5a2a-4ac8-f262-e397254ae36f"
      },
      "execution_count": null,
      "outputs": [
        {
          "output_type": "execute_result",
          "data": {
            "text/plain": [
              "['1', '2', '3', '4']"
            ]
          },
          "metadata": {},
          "execution_count": 29
        }
      ]
    },
    {
      "cell_type": "code",
      "source": [
        "# 3.2\n",
        "\n",
        "# 효율적이진 않지만, 문법 복습 차원에서 작성\n",
        "\n",
        "def solution(my_string):\n",
        "    return sum(map(int, filter(str.isdigit, my_string))) # my_string 문자열을 하나씩 가져와서 이렇게 문자가 정수인지 바로 확인 가능\n",
        "    # filter로 정수인지 확인하고 map을 통해 정수 형변환하고 합산..\n",
        "solution(\"aAb1B2cC34oOp\")"
      ],
      "metadata": {
        "colab": {
          "base_uri": "https://localhost:8080/"
        },
        "id": "_UCxGV46XSoR",
        "outputId": "9cc05cd0-939d-43a3-ce60-327ec0dffdc3"
      },
      "execution_count": null,
      "outputs": [
        {
          "output_type": "execute_result",
          "data": {
            "text/plain": [
              "10"
            ]
          },
          "metadata": {},
          "execution_count": 31
        }
      ]
    },
    {
      "cell_type": "code",
      "source": [
        "# 3.3\n",
        "\n",
        "# 효율적이진 않지만, 문법 복습 차원에서 작성\n",
        "\n",
        "def solution(my_string):\n",
        "    return sum(map(lambda x: int(x) if x.isdigit() else False, my_string)) # 숫자가 아닌건 False로 반환되고 False는 0이기 때문에 계산은 된다.\n",
        "\n",
        "solution(\"aAb1B2cC34oOp\")"
      ],
      "metadata": {
        "colab": {
          "base_uri": "https://localhost:8080/"
        },
        "id": "uCYY4-21XdbK",
        "outputId": "d212382b-edc1-427e-c7b5-0f00e0e29879"
      },
      "execution_count": null,
      "outputs": [
        {
          "output_type": "execute_result",
          "data": {
            "text/plain": [
              "10"
            ]
          },
          "metadata": {},
          "execution_count": 35
        }
      ]
    },
    {
      "cell_type": "code",
      "source": [
        "# r''에서 r은 raw를 뜻함 -> 날것이라는 뜻(실무에서 자주 쓰는 용어 raw)\n",
        "# raw data를 전달해줘 => 가공하지 않은 순수 데이터를 달라는 얘기\n",
        "\n",
        "r'hello\\nworld' # \\n : 이스케이프 문자\n",
        "print('hello\\nworld') # 줄바꿈이 된다.\n",
        "print(r'hello\\nworld')  # 날것 그대로 출력 즉 이스케이프문자까지 문자열로 출력하겠다."
      ],
      "metadata": {
        "colab": {
          "base_uri": "https://localhost:8080/"
        },
        "id": "ewbVCxPWZwmE",
        "outputId": "29cdc974-d95f-42a8-d70b-4482d58760b3"
      },
      "execution_count": null,
      "outputs": [
        {
          "output_type": "stream",
          "name": "stdout",
          "text": [
            "hello\n",
            "world\n",
            "hello\\nworld\n"
          ]
        }
      ]
    },
    {
      "cell_type": "code",
      "source": [
        "# 3.4\n",
        "# 정규 표현식을 사용한 방법\n",
        "\n",
        "import re\n",
        "\n",
        "re.findall(r'[0-9]', \"aAb1B2cC34oOp\") # 숫자만 검색"
      ],
      "metadata": {
        "colab": {
          "base_uri": "https://localhost:8080/"
        },
        "id": "KuIe3mrkY1Zd",
        "outputId": "118e9688-34f8-48d0-b10d-e91794747f2a"
      },
      "execution_count": null,
      "outputs": [
        {
          "output_type": "execute_result",
          "data": {
            "text/plain": [
              "['1', '2', '3', '4']"
            ]
          },
          "metadata": {},
          "execution_count": 42
        }
      ]
    },
    {
      "cell_type": "code",
      "source": [
        "# findall 사용 -> 패턴을 찾아냄\n",
        "\n",
        "import re\n",
        "\n",
        "def solution(s):\n",
        "    return sum(map(int, re.findall(r'[0-9]', s)))\n",
        "\n",
        "solution(\"aAb1B2cC34oOp\")"
      ],
      "metadata": {
        "colab": {
          "base_uri": "https://localhost:8080/"
        },
        "id": "DAVjgGBAaNCz",
        "outputId": "0afeba74-49c2-4934-f7a5-7d0fa544c06d"
      },
      "execution_count": null,
      "outputs": [
        {
          "output_type": "execute_result",
          "data": {
            "text/plain": [
              "10"
            ]
          },
          "metadata": {},
          "execution_count": 44
        }
      ]
    },
    {
      "cell_type": "code",
      "source": [
        "# sub 사용 -> 찾은 패턴을 변경\n",
        "\n",
        "import re\n",
        "\n",
        "def solution(s):\n",
        "    return sum(map(int, (re.sub(r'[a-zA-Z]', '', s))))\n",
        "\n",
        "solution('aAb1B2cC34oOp')"
      ],
      "metadata": {
        "colab": {
          "base_uri": "https://localhost:8080/"
        },
        "id": "29Kfkr0Jdkox",
        "outputId": "85ec3471-7fc5-4573-feb3-20fb11ee8274"
      },
      "execution_count": null,
      "outputs": [
        {
          "output_type": "execute_result",
          "data": {
            "text/plain": [
              "10"
            ]
          },
          "metadata": {},
          "execution_count": 46
        }
      ]
    },
    {
      "cell_type": "markdown",
      "source": [
        "## 4. 암호해독\n",
        "링크 : https://school.programmers.co.kr/learn/courses/30/lessons/120892"
      ],
      "metadata": {
        "id": "yxwGhgsoekDj"
      }
    },
    {
      "cell_type": "code",
      "source": [
        "# 링크 : https://school.programmers.co.kr/learn/courses/30/lessons/120892\n",
        "# 암호해독\n",
        "# 4.1 (가장 좋은 정답)\n",
        "\n",
        "'''\n",
        "\"dfjardstddetckdaccccdegk\"\t4\t\"attack\" => 4칸씩 건너뛰면서 추출\n",
        "\"pfqallllabwaoclk\"\t2\t\"fallback\" => 2칸씩 건너뛰면서 추출\n",
        "'''\n",
        "\n",
        "def solution(cipher, code):\n",
        "    return cipher[code-1::code] # code - 1: index = 3인 a부터 시작\n",
        "\n",
        "solution(\"dfjardstddetckdaccccdegk\", 4) # 4칸씩 이동하면서 문자열을 추출"
      ],
      "metadata": {
        "colab": {
          "base_uri": "https://localhost:8080/",
          "height": 35
        },
        "id": "rGV_zqwueEDz",
        "outputId": "752d3223-789b-4dab-c59b-eecdfc683de0"
      },
      "execution_count": null,
      "outputs": [
        {
          "output_type": "execute_result",
          "data": {
            "text/plain": [
              "'attack'"
            ],
            "application/vnd.google.colaboratory.intrinsic+json": {
              "type": "string"
            }
          },
          "metadata": {},
          "execution_count": 47
        }
      ]
    },
    {
      "cell_type": "code",
      "source": [
        "# 4.2 반복문 사용\n",
        "\n",
        "def solution(cipher, code):\n",
        "    count = 1\n",
        "    for i in cipher:\n",
        "        if count == code:\n",
        "            print(i)\n",
        "            count = 0\n",
        "        count += 1\n",
        "\n",
        "solution(\"dfjardstddetckdaccccdegk\", 4)"
      ],
      "metadata": {
        "colab": {
          "base_uri": "https://localhost:8080/"
        },
        "id": "PlbaiB9OfLjb",
        "outputId": "43b3dff3-a1a2-41d7-df0f-1d60c1ea6fb3"
      },
      "execution_count": null,
      "outputs": [
        {
          "output_type": "stream",
          "name": "stdout",
          "text": [
            "a\n",
            "t\n",
            "t\n",
            "a\n",
            "c\n",
            "k\n"
          ]
        }
      ]
    },
    {
      "cell_type": "code",
      "source": [
        "# 4.3 enumerate 사용\n",
        "\n",
        "def solution(cipher, code):\n",
        "    count = 1\n",
        "    for i, j in enumerate(cipher, 1):\n",
        "        if i % code == 0:\n",
        "            print(j)\n",
        "\n",
        "solution(\"dfjardstddetckdaccccdegk\", 4)"
      ],
      "metadata": {
        "colab": {
          "base_uri": "https://localhost:8080/"
        },
        "id": "hu4NGpC-f0OK",
        "outputId": "9fc0897f-96c0-4f7a-c1aa-962e137d5c9e"
      },
      "execution_count": null,
      "outputs": [
        {
          "output_type": "stream",
          "name": "stdout",
          "text": [
            "a\n",
            "t\n",
            "t\n",
            "a\n",
            "c\n",
            "k\n"
          ]
        }
      ]
    },
    {
      "cell_type": "code",
      "source": [
        "# 4.4\n",
        "# 이런 풀이는 권하지 않는다.\n",
        "\n",
        "def solution(cipher, code):\n",
        "    result = ''\n",
        "    for i in range(1, len(cipher) // 4 + 1):\n",
        "        result += cipher[i * code - 1]\n",
        "    return result\n",
        "\n",
        "solution(\"dfjardstddetckdaccccdegk\", 4)"
      ],
      "metadata": {
        "colab": {
          "base_uri": "https://localhost:8080/",
          "height": 35
        },
        "id": "i-rVryMkgg5k",
        "outputId": "140c500b-5b4d-4579-d628-2f13d38296ed"
      },
      "execution_count": null,
      "outputs": [
        {
          "output_type": "execute_result",
          "data": {
            "text/plain": [
              "'attack'"
            ],
            "application/vnd.google.colaboratory.intrinsic+json": {
              "type": "string"
            }
          },
          "metadata": {},
          "execution_count": 54
        }
      ]
    },
    {
      "cell_type": "markdown",
      "source": [
        "## 5. 3,6,9 게임\n",
        "링크 : https://school.programmers.co.kr/learn/courses/30/lessons/120891"
      ],
      "metadata": {
        "id": "tNHFAgmii1CW"
      }
    },
    {
      "cell_type": "code",
      "source": [
        "# 링크 : https://school.programmers.co.kr/learn/courses/30/lessons/120891\n",
        "# 3,6,9 게임\n",
        "# 5.1\n",
        "\n",
        "def solution(order):\n",
        "    order = str(order)\n",
        "    return order.count('3') + order.count('6') + order.count('9')\n",
        "\n",
        "solution(29423)"
      ],
      "metadata": {
        "colab": {
          "base_uri": "https://localhost:8080/"
        },
        "id": "eHvRRMjxhgq4",
        "outputId": "b34b477a-66f6-4a46-a4c8-73146b7f5d30"
      },
      "execution_count": null,
      "outputs": [
        {
          "output_type": "execute_result",
          "data": {
            "text/plain": [
              "2"
            ]
          },
          "metadata": {},
          "execution_count": 55
        }
      ]
    },
    {
      "cell_type": "code",
      "source": [
        "# 5.2 정규식 사용\n",
        "\n",
        "import re\n",
        "\n",
        "def solution(order):\n",
        "    order = str(order)\n",
        "    return len(list(re.findall(r'[369]', order)))\n",
        "\n",
        "solution(29423)\n"
      ],
      "metadata": {
        "colab": {
          "base_uri": "https://localhost:8080/"
        },
        "id": "z7-27VE0jjpa",
        "outputId": "004bc7b7-c440-458d-aaf0-c5a4378f3083"
      },
      "execution_count": null,
      "outputs": [
        {
          "output_type": "execute_result",
          "data": {
            "text/plain": [
              "2"
            ]
          },
          "metadata": {},
          "execution_count": 57
        }
      ]
    },
    {
      "cell_type": "markdown",
      "source": [
        "## 6. 중복된 문자 제거\n",
        "링크 : https://school.programmers.co.kr/learn/courses/30/lessons/120888"
      ],
      "metadata": {
        "id": "_r7q9O67kQy5"
      }
    },
    {
      "cell_type": "code",
      "source": [
        "# 링크 : https://school.programmers.co.kr/learn/courses/30/lessons/120888\n",
        "# 중복된 문자 제거(공백도 중복되면 제거)\n",
        "# 6.1\n",
        "\n",
        "# 내가 풀이\n",
        "def solution(my_string):\n",
        "    l = ''\n",
        "    for i in my_string:\n",
        "        if i not in l:\n",
        "            l += i\n",
        "    return l\n",
        "\n",
        "solution(\"people\")"
      ],
      "metadata": {
        "colab": {
          "base_uri": "https://localhost:8080/",
          "height": 35
        },
        "id": "bNYlSfTOjz4x",
        "outputId": "c01ef016-0736-4a8b-f166-15a5ebcf3909"
      },
      "execution_count": null,
      "outputs": [
        {
          "output_type": "execute_result",
          "data": {
            "text/plain": [
              "'peol'"
            ],
            "application/vnd.google.colaboratory.intrinsic+json": {
              "type": "string"
            }
          },
          "metadata": {},
          "execution_count": 61
        }
      ]
    },
    {
      "cell_type": "code",
      "source": [
        "# 6.2\n",
        "# set을 사용 -> set은 중복을 제거한 자료형\n",
        "# 중복은 제거했지만 순서 보장이 안됨\n",
        "\n",
        "# set을 사용하여 중복 제거 완료, 그러나 순서를 보장하지 않음!\n",
        "# set(my_string) 출력결과: {'e', 'l', 'o', 'p'}\n",
        "# 그럼 방법은..?\n",
        "\n",
        "# 강사님 풀이 == 나의 풀이(동일)\n",
        "def solution(s):\n",
        "    answer = ''\n",
        "    for i in s:\n",
        "        if i not in answer:\n",
        "            answer += i\n",
        "    return answer\n",
        "\n",
        "solution(\"people\")"
      ],
      "metadata": {
        "colab": {
          "base_uri": "https://localhost:8080/",
          "height": 35
        },
        "id": "4cKHlQpMkgl9",
        "outputId": "25186cf3-959a-410f-f0ae-1ad2e4ed3aa4"
      },
      "execution_count": null,
      "outputs": [
        {
          "output_type": "execute_result",
          "data": {
            "text/plain": [
              "'peol'"
            ],
            "application/vnd.google.colaboratory.intrinsic+json": {
              "type": "string"
            }
          },
          "metadata": {},
          "execution_count": 62
        }
      ]
    },
    {
      "cell_type": "code",
      "source": [
        "# 6.3\n",
        "# 더 간략하게\n",
        "# 딕셔너리 사용(fromkeys())\n",
        "\n",
        "def solution(my_string):\n",
        "    return dict.fromkeys(my_string) # 딕셔너리는 키의 중복이 안된다는 점을 이용! dict은 3.8부터 순서가 보장\n",
        "\n",
        "solution(\"people\")"
      ],
      "metadata": {
        "colab": {
          "base_uri": "https://localhost:8080/"
        },
        "id": "L9hDLsi1k7lW",
        "outputId": "97558a35-7921-4bce-a863-8e7b18f64602"
      },
      "execution_count": null,
      "outputs": [
        {
          "output_type": "execute_result",
          "data": {
            "text/plain": [
              "{'p': None, 'e': None, 'o': None, 'l': None}"
            ]
          },
          "metadata": {},
          "execution_count": 63
        }
      ]
    },
    {
      "cell_type": "code",
      "source": [
        "# 6.4\n",
        "# join과 딕셔너리 사용\n",
        "def solution(my_string):\n",
        "    return ''.join(dict.fromkeys(my_string))\n",
        "    # 각 문자를 key로 만들고 딕셔너리를 생성 -> 딕셔너리는 키 중복이 안되기 때문에 문자가 고유값으로 등록됨\n",
        "    # 그 후 ''로 키값들을 join  ->  dict를 for문을 돌았을 때 key값만 나오는 이유와 같다\n",
        "solution('people')"
      ],
      "metadata": {
        "colab": {
          "base_uri": "https://localhost:8080/",
          "height": 35
        },
        "id": "7eq3fPg3mBFn",
        "outputId": "f30bd926-47e1-47f5-bab3-9da2af18c303"
      },
      "execution_count": null,
      "outputs": [
        {
          "output_type": "execute_result",
          "data": {
            "text/plain": [
              "'peol'"
            ],
            "application/vnd.google.colaboratory.intrinsic+json": {
              "type": "string"
            }
          },
          "metadata": {},
          "execution_count": 64
        }
      ]
    },
    {
      "cell_type": "markdown",
      "source": [
        "## 7. A로 B만들기\n",
        "링크 : https://school.programmers.co.kr/learn/courses/30/lessons/120886"
      ],
      "metadata": {
        "id": "NfH97uC6m91-"
      }
    },
    {
      "cell_type": "code",
      "source": [
        "# 링크 : https://school.programmers.co.kr/learn/courses/30/lessons/120886\n",
        "# A로 B만들기\n",
        "# 7.1 내 풀이\n",
        "\n",
        "# 역순만 확인하는것. -> 순서가 olleh처럼 일정하게 들어오면 상관없지만 olelh로 들어오면 오답인것.\n",
        "# 하지만 순서를 어떻게든 바꾸면 hello를 만들 수 있으니깐 그렇게 되도록 해야함\n",
        "def solution(before, after):\n",
        "    return 1 if before[::-1] == after else 0\n",
        "\n",
        "solution(\"olleh\", \"hello\")"
      ],
      "metadata": {
        "colab": {
          "base_uri": "https://localhost:8080/"
        },
        "id": "HIIeFS22mErG",
        "outputId": "d8956625-d868-44ea-8129-f1b9d8144cab"
      },
      "execution_count": null,
      "outputs": [
        {
          "output_type": "execute_result",
          "data": {
            "text/plain": [
              "1"
            ]
          },
          "metadata": {},
          "execution_count": 67
        }
      ]
    },
    {
      "cell_type": "code",
      "source": [
        "# 7.2\n",
        "# 강사님 답 -> 내 답과의 결과는 같은데 코테에 강사님 답은 통과인 이유\n",
        "# 앞의 매개변수를 정렬해서 뒤의 매개변수와 같느냐 / 길이는 같다고 제한되어있으니깐\n",
        "# 역순뿐 아니라 순서를 이것저것 바꿔서 어떻게든 만들수 있느냐 aplpe과 apple을 보면 aplpe을 어떻게든 순서를 바꾸면 apple을 만들 수 있음\n",
        "# 따라서 리스트로 원소들을 정렬한 후에 서로 같은 지 확인해야함\n",
        "\n",
        "def solution(before, after):\n",
        "    # print(sorted(list(before))) # sorted로 정렬 후에 동일한 값인지 확인\n",
        "    # print(sorted(list(after)))\n",
        "    return 1 if sorted(list(before)) == sorted(list(after)) else 0\n",
        "\n",
        "solution(\"olleh\", \"hello\")"
      ],
      "metadata": {
        "colab": {
          "base_uri": "https://localhost:8080/"
        },
        "id": "Zab09gBCoI_h",
        "outputId": "643dad87-9cc6-4188-c713-2528b08b032a"
      },
      "execution_count": null,
      "outputs": [
        {
          "output_type": "stream",
          "name": "stdout",
          "text": [
            "['e', 'h', 'l', 'l', 'o']\n",
            "['e', 'h', 'l', 'l', 'o']\n"
          ]
        },
        {
          "output_type": "execute_result",
          "data": {
            "text/plain": [
              "1"
            ]
          },
          "metadata": {},
          "execution_count": 73
        }
      ]
    },
    {
      "cell_type": "code",
      "source": [
        "# 7.3\n",
        "# 위의 문제처럼 굳이 list로 형변환 후에 sorted()할 필요없이 바로 정렬하면 된다.\n",
        "# 문제의 정답에 오류가 있는듯\n",
        "def solution(before, after):\n",
        "    if len(before) != len(after): # 예외처리는 앞에서 반드시 해주어야 합니다. 특히나 요소가 없거나 길이가 0인 경우\n",
        "        return 0\n",
        "    return 1 if sorted(before) == sorted(after) else 0\n",
        "\n",
        "solution(\"olleh\", \"hello\")"
      ],
      "metadata": {
        "colab": {
          "base_uri": "https://localhost:8080/"
        },
        "id": "Z1_B0UTfpFi-",
        "outputId": "6bd29a95-e041-4e8d-cab6-a0c61132f5cc"
      },
      "execution_count": null,
      "outputs": [
        {
          "output_type": "execute_result",
          "data": {
            "text/plain": [
              "1"
            ]
          },
          "metadata": {},
          "execution_count": 74
        }
      ]
    },
    {
      "cell_type": "code",
      "source": [
        "# 7.4\n",
        "# collections 을 활용\n",
        "\n",
        "import collections\n",
        "\n",
        "\n",
        "print(collections.Counter(\"olleh\"))\n",
        "collections.Counter(\"olleh\") == collections.Counter(\"hello\")  # 요소가 동일한지"
      ],
      "metadata": {
        "colab": {
          "base_uri": "https://localhost:8080/"
        },
        "id": "fRJvNrMKvFls",
        "outputId": "1cd20a71-a954-49d0-ada8-1bd7fd84df30"
      },
      "execution_count": null,
      "outputs": [
        {
          "output_type": "stream",
          "name": "stdout",
          "text": [
            "Counter({'l': 2, 'o': 1, 'e': 1, 'h': 1})\n"
          ]
        },
        {
          "output_type": "execute_result",
          "data": {
            "text/plain": [
              "True"
            ]
          },
          "metadata": {},
          "execution_count": 78
        }
      ]
    },
    {
      "cell_type": "code",
      "source": [
        "# 7.5 순회\n",
        "# 리스트 활용\n",
        "\n",
        "def solution(before, after):\n",
        "    a = list(after)\n",
        "    for i in before:\n",
        "        if i in a:\n",
        "            #print(a) # a에 값이 존재한다면 삭제\n",
        "            a.remove(i) # a에 문자가 존재하는 확인하면서 지워나가는 것\n",
        "        else:\n",
        "            return 0\n",
        "\n",
        "    if a: # a의 원소가 남아있다면\n",
        "        return 0\n",
        "    return 1\n",
        "\n",
        "solution(\"olleh\", \"hello\")"
      ],
      "metadata": {
        "colab": {
          "base_uri": "https://localhost:8080/"
        },
        "id": "r2RLMLVAv_8k",
        "outputId": "df163080-8d4e-415c-9907-e947aa140b87"
      },
      "execution_count": null,
      "outputs": [
        {
          "output_type": "stream",
          "name": "stdout",
          "text": [
            "['h', 'e', 'l', 'l', 'o']\n",
            "['h', 'e', 'l', 'l']\n",
            "['h', 'e', 'l']\n",
            "['h', 'e']\n",
            "['h']\n"
          ]
        },
        {
          "output_type": "execute_result",
          "data": {
            "text/plain": [
              "1"
            ]
          },
          "metadata": {},
          "execution_count": 83
        }
      ]
    },
    {
      "cell_type": "code",
      "source": [
        "# 회문\n",
        "\n",
        "# 'hello' => 'elloh' => 'llohe'\n",
        "# 'hello' => 'ohell' => 'lohel'\n",
        "# collections.deque를 사용해서 풀면 쉽게 풀립니다.\n",
        "\n",
        "# 문제1 'hello'를 앞뒤로 이동시켜 'llohe'를 만들 수 있나요?\n",
        "# 'hellohello'\n",
        "\n",
        "# 문제2 몇칸 이동했나요?\n",
        "# 'hellohello'.index('llohe')"
      ],
      "metadata": {
        "id": "L3xgQaoXwosA"
      },
      "execution_count": null,
      "outputs": []
    },
    {
      "cell_type": "markdown",
      "source": [
        "## 8. 저주의 숫자3\n",
        "링크 : https://school.programmers.co.kr/learn/courses/30/lessons/120871"
      ],
      "metadata": {
        "id": "f1v9520ByhTc"
      }
    },
    {
      "cell_type": "code",
      "source": [
        "# 링크 : https://school.programmers.co.kr/learn/courses/30/lessons/120871\n",
        "# 저주의 숫자3\n",
        "# 3의 배수와 숫자 3을 사용하지 않습니다.(13 사용x, 3의 배수 사용x, 16은 사용 가능)\n",
        "\n",
        "\n",
        "# 십진수    3숫자마을\n",
        "# 1         1               # 1을 입력하면 1을 반환\n",
        "# 2         2\n",
        "# 3         4               # 3을 입력하면 3을 사용할 수 없으므로 3을 제외하고 그 다음 숫자 4를 반환\n",
        "# 4         5\n",
        "# 5         7               # 반환값 또한 3이나 3의 배수가 될 수 없으므로 6 제외\n",
        "# 6         8               # 6이면 3의 배수를 사용할 수 없으므로 8 반환\n",
        "# 7         10\n",
        "# 8         11\n",
        "# 9         14\n",
        "# 10        16\n",
        "# ...       ...\n"
      ],
      "metadata": {
        "id": "RfT6rm1vyT4U"
      },
      "execution_count": null,
      "outputs": []
    },
    {
      "cell_type": "code",
      "source": [
        "# 풀이 방법\n",
        "# 1. [True, True, False, ...] -> 조건을 만족하는 값을 확인하여 인덱스값 확인\n",
        "# 2. filter(3이 들어가는 숫자 없애기, filter(3의 배수 없애기, [1,2,3,4,5,6,7,8,9,10])) -> 이게 더 쉬운 방법을 듯 싶다."
      ],
      "metadata": {
        "id": "k1PX8dANzi1E"
      },
      "execution_count": null,
      "outputs": []
    },
    {
      "cell_type": "code",
      "source": [
        "# 8.1\n",
        "\n",
        "# 3의 배수가 아니면서 문자열로 변환후에 3이란 문자를 포함하고 있지 않은 것들을 출력\n",
        "l = list(filter(lambda x: (x % 3 != 0) and ('3' not in str(x)), range(1000)))\n",
        "\n",
        "# 입력이 15라면 25라는 숫자를 출력해야함\n",
        "l[15 - 1]"
      ],
      "metadata": {
        "colab": {
          "base_uri": "https://localhost:8080/"
        },
        "id": "5hLUNr1Wz1v-",
        "outputId": "dd67bb90-ee3b-4dc7-d8a8-cbd0184152d6"
      },
      "execution_count": null,
      "outputs": [
        {
          "output_type": "execute_result",
          "data": {
            "text/plain": [
              "25"
            ]
          },
          "metadata": {},
          "execution_count": 88
        }
      ]
    },
    {
      "cell_type": "code",
      "source": [
        "# 정답\n",
        "# 제한은 100으로 되어있지만 충분한 숫자를 만들어줘야해서 100보다 큰 수를 입력해야한다.\n",
        "# 3의 마을에서는 3이나 3의 배수를 사용하지 못하므로 반환값은 100보다 큰수가 나올 수밖에 없으므로 반환값을 100보다 훨씬 큰 수로 잡아야한다\n",
        "# 40만 출력해도 76을 반환 -> 그럼 100이면 확실하게 100보다 큰 수를 반환하게 되어있음 -> 따라서 range(100)하면 99까지의 숫자밖에 출력이 안되니깐\n",
        "# 100보다 큰 수를 넣어서 만들어야한다.\n",
        "def solution(num):\n",
        "    return list(filter(lambda x: (x % 3 != 0) and ('3' not in str(x)), range(1000)))[num - 1]\n",
        "\n",
        "solution(15)"
      ],
      "metadata": {
        "colab": {
          "base_uri": "https://localhost:8080/"
        },
        "id": "3NPdYNbt0G2N",
        "outputId": "af02b3fa-5c13-4ba1-80f3-66996fd31358"
      },
      "execution_count": null,
      "outputs": [
        {
          "output_type": "execute_result",
          "data": {
            "text/plain": [
              "25"
            ]
          },
          "metadata": {},
          "execution_count": 87
        }
      ]
    },
    {
      "cell_type": "code",
      "source": [
        "# 100을 넣었을때 반환되는 값을 확인하기 위한 리스트 내역 출력\n",
        "def solution(num):\n",
        "    l = []\n",
        "    for i in range(1000):\n",
        "        if i % 3 != 0:\n",
        "            l.append(i)\n",
        "        elif '3' not in str(i):\n",
        "            l.append(i)\n",
        "    print(l)\n",
        "\n",
        "solution(15)"
      ],
      "metadata": {
        "colab": {
          "base_uri": "https://localhost:8080/"
        },
        "id": "5olrT2oj0wzp",
        "outputId": "55f45341-1314-46de-ee9b-7f6b0479fb14"
      },
      "execution_count": null,
      "outputs": [
        {
          "output_type": "stream",
          "name": "stdout",
          "text": [
            "[0, 1, 2, 4, 5, 6, 7, 8, 9, 10, 11, 12, 13, 14, 15, 16, 17, 18, 19, 20, 21, 22, 23, 24, 25, 26, 27, 28, 29, 31, 32, 34, 35, 37, 38, 40, 41, 42, 43, 44, 45, 46, 47, 48, 49, 50, 51, 52, 53, 54, 55, 56, 57, 58, 59, 60, 61, 62, 64, 65, 66, 67, 68, 69, 70, 71, 72, 73, 74, 75, 76, 77, 78, 79, 80, 81, 82, 83, 84, 85, 86, 87, 88, 89, 90, 91, 92, 94, 95, 96, 97, 98, 99, 100, 101, 102, 103, 104, 105, 106, 107, 108, 109, 110, 111, 112, 113, 114, 115, 116, 117, 118, 119, 120, 121, 122, 124, 125, 126, 127, 128, 129, 130, 131, 133, 134, 136, 137, 139, 140, 141, 142, 143, 144, 145, 146, 147, 148, 149, 150, 151, 152, 154, 155, 156, 157, 158, 159, 160, 161, 162, 163, 164, 165, 166, 167, 168, 169, 170, 171, 172, 173, 174, 175, 176, 177, 178, 179, 180, 181, 182, 184, 185, 186, 187, 188, 189, 190, 191, 192, 193, 194, 195, 196, 197, 198, 199, 200, 201, 202, 203, 204, 205, 206, 207, 208, 209, 210, 211, 212, 214, 215, 216, 217, 218, 219, 220, 221, 222, 223, 224, 225, 226, 227, 228, 229, 230, 232, 233, 235, 236, 238, 239, 240, 241, 242, 244, 245, 246, 247, 248, 249, 250, 251, 252, 253, 254, 255, 256, 257, 258, 259, 260, 261, 262, 263, 264, 265, 266, 267, 268, 269, 270, 271, 272, 274, 275, 276, 277, 278, 279, 280, 281, 282, 283, 284, 285, 286, 287, 288, 289, 290, 291, 292, 293, 294, 295, 296, 297, 298, 299, 301, 302, 304, 305, 307, 308, 310, 311, 313, 314, 316, 317, 319, 320, 322, 323, 325, 326, 328, 329, 331, 332, 334, 335, 337, 338, 340, 341, 343, 344, 346, 347, 349, 350, 352, 353, 355, 356, 358, 359, 361, 362, 364, 365, 367, 368, 370, 371, 373, 374, 376, 377, 379, 380, 382, 383, 385, 386, 388, 389, 391, 392, 394, 395, 397, 398, 400, 401, 402, 403, 404, 405, 406, 407, 408, 409, 410, 411, 412, 413, 414, 415, 416, 417, 418, 419, 420, 421, 422, 424, 425, 426, 427, 428, 429, 430, 431, 433, 434, 436, 437, 439, 440, 441, 442, 443, 444, 445, 446, 447, 448, 449, 450, 451, 452, 454, 455, 456, 457, 458, 459, 460, 461, 462, 463, 464, 465, 466, 467, 468, 469, 470, 471, 472, 473, 474, 475, 476, 477, 478, 479, 480, 481, 482, 484, 485, 486, 487, 488, 489, 490, 491, 492, 493, 494, 495, 496, 497, 498, 499, 500, 501, 502, 503, 504, 505, 506, 507, 508, 509, 510, 511, 512, 514, 515, 516, 517, 518, 519, 520, 521, 522, 523, 524, 525, 526, 527, 528, 529, 530, 532, 533, 535, 536, 538, 539, 540, 541, 542, 544, 545, 546, 547, 548, 549, 550, 551, 552, 553, 554, 555, 556, 557, 558, 559, 560, 561, 562, 563, 564, 565, 566, 567, 568, 569, 570, 571, 572, 574, 575, 576, 577, 578, 579, 580, 581, 582, 583, 584, 585, 586, 587, 588, 589, 590, 591, 592, 593, 594, 595, 596, 597, 598, 599, 600, 601, 602, 604, 605, 606, 607, 608, 609, 610, 611, 612, 613, 614, 615, 616, 617, 618, 619, 620, 621, 622, 623, 624, 625, 626, 627, 628, 629, 631, 632, 634, 635, 637, 638, 640, 641, 642, 643, 644, 645, 646, 647, 648, 649, 650, 651, 652, 653, 654, 655, 656, 657, 658, 659, 660, 661, 662, 664, 665, 666, 667, 668, 669, 670, 671, 672, 673, 674, 675, 676, 677, 678, 679, 680, 681, 682, 683, 684, 685, 686, 687, 688, 689, 690, 691, 692, 694, 695, 696, 697, 698, 699, 700, 701, 702, 703, 704, 705, 706, 707, 708, 709, 710, 711, 712, 713, 714, 715, 716, 717, 718, 719, 720, 721, 722, 724, 725, 726, 727, 728, 729, 730, 731, 733, 734, 736, 737, 739, 740, 741, 742, 743, 744, 745, 746, 747, 748, 749, 750, 751, 752, 754, 755, 756, 757, 758, 759, 760, 761, 762, 763, 764, 765, 766, 767, 768, 769, 770, 771, 772, 773, 774, 775, 776, 777, 778, 779, 780, 781, 782, 784, 785, 786, 787, 788, 789, 790, 791, 792, 793, 794, 795, 796, 797, 798, 799, 800, 801, 802, 803, 804, 805, 806, 807, 808, 809, 810, 811, 812, 814, 815, 816, 817, 818, 819, 820, 821, 822, 823, 824, 825, 826, 827, 828, 829, 830, 832, 833, 835, 836, 838, 839, 840, 841, 842, 844, 845, 846, 847, 848, 849, 850, 851, 852, 853, 854, 855, 856, 857, 858, 859, 860, 861, 862, 863, 864, 865, 866, 867, 868, 869, 870, 871, 872, 874, 875, 876, 877, 878, 879, 880, 881, 882, 883, 884, 885, 886, 887, 888, 889, 890, 891, 892, 893, 894, 895, 896, 897, 898, 899, 900, 901, 902, 904, 905, 906, 907, 908, 909, 910, 911, 912, 913, 914, 915, 916, 917, 918, 919, 920, 921, 922, 923, 924, 925, 926, 927, 928, 929, 931, 932, 934, 935, 937, 938, 940, 941, 942, 943, 944, 945, 946, 947, 948, 949, 950, 951, 952, 953, 954, 955, 956, 957, 958, 959, 960, 961, 962, 964, 965, 966, 967, 968, 969, 970, 971, 972, 973, 974, 975, 976, 977, 978, 979, 980, 981, 982, 983, 984, 985, 986, 987, 988, 989, 990, 991, 992, 994, 995, 996, 997, 998, 999]\n"
          ]
        }
      ]
    },
    {
      "cell_type": "markdown",
      "source": [
        "# 9. 진로순서 정하기\n",
        "링크 : https://school.programmers.co.kr/learn/courses/30/lessons/120835"
      ],
      "metadata": {
        "id": "AKptPriTH-Ka"
      }
    },
    {
      "cell_type": "code",
      "source": [
        "# 링크 : https://school.programmers.co.kr/learn/courses/30/lessons/120835\n",
        "# 진로순서 정하기 -> 응급도가 높은 순으로\n",
        "# 9.1\n",
        "\n",
        "# emergency\t    result\n",
        "# [3, 76, 24]\t[3, 1, 2]\n",
        "\n",
        "def solution(emergency):\n",
        "    sotred_emergency = sorted(emergency, reverse = True)\n",
        "    return [sotred_emergency.index(i) + 1 for i in emergency]\n",
        "\n",
        "solution([3, 76, 24])"
      ],
      "metadata": {
        "id": "CMZRHb-Y1_8U"
      },
      "execution_count": null,
      "outputs": []
    },
    {
      "cell_type": "code",
      "source": [
        "emergency = [3, 76, 24]\n",
        "\n",
        "sotred_emergency = sorted(emergency, reverse = True)\n",
        "sotred_emergency # 출력 결과 = [76, 24, 3]\n",
        "\n",
        "# 원하는 결과 : [3, 1, 2] -> 진료 순서 // 응급도 76이 첫번째로 진로순서가 되고 3의 값이 세번째 순서가 된다는 뜻\n",
        "[sotred_emergency.index(i) + 1 for i in emergency] # 응급도 값에 따라 진로 순서를 출력\n",
        "\n",
        "# 정렬된 리스트에서 원본 리스트의 값의 인덱스를 찾음"
      ],
      "metadata": {
        "colab": {
          "base_uri": "https://localhost:8080/"
        },
        "id": "A47R7vJmIgQZ",
        "outputId": "b1f77a6e-784a-434c-d277-b8f3f0497904"
      },
      "execution_count": 5,
      "outputs": [
        {
          "output_type": "execute_result",
          "data": {
            "text/plain": [
              "[3, 1, 2]"
            ]
          },
          "metadata": {},
          "execution_count": 5
        }
      ]
    },
    {
      "cell_type": "code",
      "source": [
        "data = ['제주', '경기', '전주'] # 원하는 출력 값 = ['064', '031', '063']\n",
        "data2 = {\n",
        "    '제주' : '064',\n",
        "    '경기' : '031',\n",
        "    '전주' : '063'\n",
        "}\n",
        "\n",
        "[data2[i] for i in data]"
      ],
      "metadata": {
        "colab": {
          "base_uri": "https://localhost:8080/"
        },
        "id": "_Acz2G3pIkFT",
        "outputId": "9042b45c-f60b-4bfb-ef44-59765a8c0f39"
      },
      "execution_count": 6,
      "outputs": [
        {
          "output_type": "execute_result",
          "data": {
            "text/plain": [
              "['064', '031', '063']"
            ]
          },
          "metadata": {},
          "execution_count": 6
        }
      ]
    },
    {
      "cell_type": "markdown",
      "source": [
        "# 10. 가까운 수\n",
        "링크 : https://school.programmers.co.kr/learn/courses/30/lessons/120890"
      ],
      "metadata": {
        "id": "avw5wGItLdpw"
      }
    },
    {
      "cell_type": "code",
      "source": [
        "# 링크 : https://school.programmers.co.kr/learn/courses/30/lessons/120890\n",
        "# 가까운 수\n",
        "# 입력한 값과 가장 가까운 수를 반환한다. 가장 가까운 수가 여러 개일 경우 더 작은 수를 return 합니다. (예: 입력값 20일때 [10, 30] 이라면 10 반환)\n",
        "# 10.1\n",
        "\n",
        "# [3, 10, 28] => [17, 10, 8] # 20과의 차이 값\n",
        "# 원하는 숫자: 20 -> 20과 가까운 수를 입력하면 28이 제일 가까워서 28을 출력\n",
        "# result: 28"
      ],
      "metadata": {
        "id": "yRRf8IxxKrxP"
      },
      "execution_count": null,
      "outputs": []
    },
    {
      "cell_type": "code",
      "source": [
        "l = [3, 10, 28]\n",
        "sorted(l, key=lambda x:abs(x-20))[0] # 숫자 20과의 거리가 가장 가까운 순으로 리스트 정렬 후 가장 가까운 숫자 출력"
      ],
      "metadata": {
        "colab": {
          "base_uri": "https://localhost:8080/"
        },
        "id": "2_c2AHhGMbSO",
        "outputId": "1d35e32a-dadc-4ef5-b133-1d48fad6036d"
      },
      "execution_count": 7,
      "outputs": [
        {
          "output_type": "execute_result",
          "data": {
            "text/plain": [
              "[28, 10, 3]"
            ]
          },
          "metadata": {},
          "execution_count": 7
        }
      ]
    },
    {
      "cell_type": "code",
      "source": [
        "l = [3, 10, 28, 30, 12]\n",
        "sorted(l, key=lambda x:(abs(x-20), x))[0] # 앞조건으로 판별이 안되면 뒤 조건으로 편발한다(abs(x-20), x)"
      ],
      "metadata": {
        "colab": {
          "base_uri": "https://localhost:8080/"
        },
        "id": "Bh0Rsvp9PVyi",
        "outputId": "303ecb1e-cd83-476a-c784-e8d4564d5874"
      },
      "execution_count": 15,
      "outputs": [
        {
          "output_type": "execute_result",
          "data": {
            "text/plain": [
              "12"
            ]
          },
          "metadata": {},
          "execution_count": 15
        }
      ]
    },
    {
      "cell_type": "code",
      "source": [
        "# 정답\n",
        "# 가장 가까운 수가 여러 개일 경우 더 작은 수를 return 합니다.\n",
        "# [3, 10, 28, 30, 12] => [17, 10, 8, 10, 8]\n",
        "# [3, 10, 28, 30, 12] => [(17, 3), (10, 10), (8, 28), (10, 30), (8, 12)] # 이런식으로 만들어야한다.\n",
        "# (8, 28), (8, 12) 가 뽑힐 것이고 그중 값이 낮은 12가 출력되어야한다.\n",
        "\n",
        "\n",
        "def solution(array, n):\n",
        "    return sorted(array, key=lambda x:(abs(x-20), x))[0] # 만약 abs(x-20)의 값이 여러개라면, x가 작은 값을 뽑겠다 -> 앞의 조건이 동일한게 있다면 뒤의 조건으로 한번더 판별하겠다.\n",
        "\n",
        "solution([3, 10, 28, 30, 12], 20)"
      ],
      "metadata": {
        "colab": {
          "base_uri": "https://localhost:8080/"
        },
        "id": "afaHUwQzMjfz",
        "outputId": "9fb0ac3f-aea2-4501-816e-c5503365437f"
      },
      "execution_count": 17,
      "outputs": [
        {
          "output_type": "execute_result",
          "data": {
            "text/plain": [
              "12"
            ]
          },
          "metadata": {},
          "execution_count": 17
        }
      ]
    },
    {
      "cell_type": "code",
      "source": [
        "# 더 큰수를 출력하려면\n",
        "def solution(array, n):\n",
        "    return sorted(array, key=lambda x:(abs(x-20), n-x))[0]\n",
        "    # 첫번째 값이 같았을 때 뒤의 값이 더 큰 값을 출력하겠다\n",
        "    # abs(28-20) 과 abs(12-20) 은 8 / 동일 값이니 n-x의 조건으로 판단 -> 20-28 = -8, 20-12 = 8 / 따라서 정렬하면 -8값인 28이 앞으로 정렬됨\n",
        "\n",
        "solution([3, 10, 28, 30, 12], 20)"
      ],
      "metadata": {
        "colab": {
          "base_uri": "https://localhost:8080/"
        },
        "id": "WgTSP5ctPkeg",
        "outputId": "54a7d232-712f-4822-dc3a-c46624a1e944"
      },
      "execution_count": 19,
      "outputs": [
        {
          "output_type": "execute_result",
          "data": {
            "text/plain": [
              "28"
            ]
          },
          "metadata": {},
          "execution_count": 19
        }
      ]
    },
    {
      "cell_type": "code",
      "source": [
        "# list는 메모리 연속성이 없고 array는 메모리 연속성이 있다 -> array는 메모리가 순서대로 연결되어있는데 list는 가리키는 값만 가지고 있다"
      ],
      "metadata": {
        "id": "zgUS_V7JMxms"
      },
      "execution_count": null,
      "outputs": []
    },
    {
      "cell_type": "markdown",
      "source": [
        "# 11. k의 개수\n",
        "링크 : https://school.programmers.co.kr/learn/courses/30/lessons/120887"
      ],
      "metadata": {
        "id": "G5eqzGovQQcK"
      }
    },
    {
      "cell_type": "code",
      "source": [
        "# 링크 : https://school.programmers.co.kr/learn/courses/30/lessons/120887\n",
        "# k의 개수\n",
        "# 1부터 13까지의 수에서, 1은 1, 10, 11, 12, 13 이렇게 총 6번 등장\n",
        "# i부터 j까지 k가 몇 번 등장하는지 return 하도록 solution 함수를 완성\n",
        "\n",
        "# 11.1\n",
        "# i\t j\t k\t result\n",
        "# 1\t 13\t 1\t 6      # 1~13까지 1(k)은 총 6번 출력됨\n",
        "\n",
        "i = 1\n",
        "j = 13\n",
        "k = 1\n",
        "\n",
        "# 리스트에 해당 값들을 넣고 리스트 자체를 string으로 바꿈 -> 출력값:'[1, 2, 3, 4, 5, 6, 7, 8, 9, 10, 11, 12, 13]' => 리스트가 아니라 문자열 그 자체임\n",
        "str(list(range(i, j+1))).count(str(k)) # 해당 문자열에서 k의 개수를 호출"
      ],
      "metadata": {
        "colab": {
          "base_uri": "https://localhost:8080/"
        },
        "id": "V8XlZ10SQUZo",
        "outputId": "65bf3a43-8bc7-4482-acd5-4c65fe72d0ea"
      },
      "execution_count": 26,
      "outputs": [
        {
          "output_type": "execute_result",
          "data": {
            "text/plain": [
              "6"
            ]
          },
          "metadata": {},
          "execution_count": 26
        }
      ]
    },
    {
      "cell_type": "code",
      "source": [
        "# 정답\n",
        "def solution(i, j, k):\n",
        "    return str(list(range(i, j+1))).count(str(k))\n",
        "\n",
        "solution(1,13,1)"
      ],
      "metadata": {
        "colab": {
          "base_uri": "https://localhost:8080/"
        },
        "id": "-ckB4RD2Qvft",
        "outputId": "b0c6c9c9-b01b-4bfd-8365-c9692b03a576"
      },
      "execution_count": 27,
      "outputs": [
        {
          "output_type": "execute_result",
          "data": {
            "text/plain": [
              "6"
            ]
          },
          "metadata": {},
          "execution_count": 27
        }
      ]
    },
    {
      "cell_type": "code",
      "source": [
        "# 순회\n",
        "\n",
        "i = 1\n",
        "j = 13\n",
        "k = 1\n",
        "\n",
        "count = 0\n",
        "for temp in range(i, j + 1):\n",
        "    count += str(temp).count(str(k))\n",
        "\n",
        "count"
      ],
      "metadata": {
        "colab": {
          "base_uri": "https://localhost:8080/"
        },
        "id": "fXNciCtIRWL0",
        "outputId": "d4edac37-73ef-477b-b186-fe4705a3fd02"
      },
      "execution_count": 30,
      "outputs": [
        {
          "output_type": "execute_result",
          "data": {
            "text/plain": [
              "6"
            ]
          },
          "metadata": {},
          "execution_count": 30
        }
      ]
    },
    {
      "cell_type": "markdown",
      "source": [
        "# 직접 출제 문제"
      ],
      "metadata": {
        "id": "PrCYZ0AWWZeH"
      }
    },
    {
      "cell_type": "code",
      "source": [
        "# 각 선분이 있는 곳에 총 길이 합을 구하라\n",
        "# 0~5의 선분, 3~5의 선분, 7~10의 선분\n",
        "[[0, 5], [3, 5], [7, 10]]\n",
        "\n",
        "선 = [False] * 10\n",
        "\n",
        "# 0~5의 선분\n",
        "for i in range(0, 5):\n",
        "    선[i] = True\n",
        "print(선)\n",
        "\n",
        "# 3~5의 선분\n",
        "for i in range(3, 5):\n",
        "    선[i] = True\n",
        "print(선)\n",
        "\n",
        "# 7~10의 선분\n",
        "for i in range(7, 10):\n",
        "    선[i] = True\n",
        "print(선)\n",
        "\n",
        "sum(선) # 정답    ->    0~5 선분의 길이 = 5 , 3~5선분의 길이는 0~5에 포함되어 있음, 7~10 선분의 길이 = 3\n",
        "# 따라서 5 + 3 = 8\n",
        "\n",
        "# ----- -----\n",
        "# 12345\n",
        "# -----\n",
        "#   345\n",
        "# ------ ---\n",
        "#        789"
      ],
      "metadata": {
        "colab": {
          "base_uri": "https://localhost:8080/"
        },
        "id": "AzYVeVVyUygu",
        "outputId": "143a582a-69f2-4b72-e9be-6e28c80a3f48"
      },
      "execution_count": 34,
      "outputs": [
        {
          "output_type": "stream",
          "name": "stdout",
          "text": [
            "[True, True, True, True, True, False, False, False, False, False]\n",
            "[True, True, True, True, True, False, False, False, False, False]\n",
            "[True, True, True, True, True, False, False, True, True, True]\n"
          ]
        },
        {
          "output_type": "execute_result",
          "data": {
            "text/plain": [
              "8"
            ]
          },
          "metadata": {},
          "execution_count": 34
        }
      ]
    },
    {
      "cell_type": "code",
      "source": [
        "# 에라토스테스트의 체 => 소수판별하는 것 => 이것을 알고리즘 문제로 내는 것은 강사님은 반대...\n",
        "\n",
        "소수 = [True] * 120 # 120  : 에라토스테스트의 체 알고리즘 확인하면 120 확인 가능\n",
        "소수[0] = 소수[1] = False # 0과 1은 소수가 아님\n",
        "\n",
        "for i in range(4, 120, 2): # 2의 배수는 소수가 아님을 처리(2만 소수)\n",
        "    소수[i] = False\n",
        "\n",
        "for i in range(6, 120, 3): # 3의 배수는 소수가 아님을 처리\n",
        "    소수[i] = False\n",
        "\n",
        "# 4의 배수는 2의 배수에 속하기 때문에 4의 배수 처리는 할 필요 없다.\n",
        "\n",
        "# ... 언제까지 처리해야할까..?\n",
        "# 11보다 작은수의 배수만 지워도 충분하다고 적혀있음\n",
        "\n",
        "# 참고\n",
        "# https://nahwasa.com/entry/%EC%97%90%EB%9D%BC%ED%86%A0%EC%8A%A4%ED%85%8C%EB%84%A4%EC%8A%A4%EC%9D%98-%EC%B2%B4-%ED%98%B9%EC%9D%80-%EC%86%8C%EC%88%98%ED%8C%90%EC%A0%95-%EC%8B%9C-%EC%A0%9C%EA%B3%B1%EA%B7%BC-%EA%B9%8C%EC%A7%80%EB%A7%8C-%ED%99%95%EC%9D%B8%ED%95%98%EB%A9%B4-%EB%90%98%EB%8A%94-%EC%9D%B4%EC%9C%A0"
      ],
      "metadata": {
        "colab": {
          "base_uri": "https://localhost:8080/"
        },
        "id": "f5fkTDG3XWe5",
        "outputId": "db271b19-896f-45d8-b83e-3b837f128729"
      },
      "execution_count": 35,
      "outputs": [
        {
          "output_type": "execute_result",
          "data": {
            "text/plain": [
              "[False,\n",
              " False,\n",
              " True,\n",
              " True,\n",
              " True,\n",
              " True,\n",
              " True,\n",
              " True,\n",
              " True,\n",
              " True,\n",
              " True,\n",
              " True,\n",
              " True,\n",
              " True,\n",
              " True,\n",
              " True,\n",
              " True,\n",
              " True,\n",
              " True,\n",
              " True,\n",
              " True,\n",
              " True,\n",
              " True,\n",
              " True,\n",
              " True,\n",
              " True,\n",
              " True,\n",
              " True,\n",
              " True,\n",
              " True,\n",
              " True,\n",
              " True,\n",
              " True,\n",
              " True,\n",
              " True,\n",
              " True,\n",
              " True,\n",
              " True,\n",
              " True,\n",
              " True,\n",
              " True,\n",
              " True,\n",
              " True,\n",
              " True,\n",
              " True,\n",
              " True,\n",
              " True,\n",
              " True,\n",
              " True,\n",
              " True,\n",
              " True,\n",
              " True,\n",
              " True,\n",
              " True,\n",
              " True,\n",
              " True,\n",
              " True,\n",
              " True,\n",
              " True,\n",
              " True,\n",
              " True,\n",
              " True,\n",
              " True,\n",
              " True,\n",
              " True,\n",
              " True,\n",
              " True,\n",
              " True,\n",
              " True,\n",
              " True,\n",
              " True,\n",
              " True,\n",
              " True,\n",
              " True,\n",
              " True,\n",
              " True,\n",
              " True,\n",
              " True,\n",
              " True,\n",
              " True,\n",
              " True,\n",
              " True,\n",
              " True,\n",
              " True,\n",
              " True,\n",
              " True,\n",
              " True,\n",
              " True,\n",
              " True,\n",
              " True,\n",
              " True,\n",
              " True,\n",
              " True,\n",
              " True,\n",
              " True,\n",
              " True,\n",
              " True,\n",
              " True,\n",
              " True,\n",
              " True,\n",
              " True,\n",
              " True,\n",
              " True,\n",
              " True,\n",
              " True,\n",
              " True,\n",
              " True,\n",
              " True,\n",
              " True,\n",
              " True,\n",
              " True,\n",
              " True,\n",
              " True,\n",
              " True,\n",
              " True,\n",
              " True,\n",
              " True,\n",
              " True,\n",
              " True,\n",
              " True]"
            ]
          },
          "metadata": {},
          "execution_count": 35
        }
      ]
    },
    {
      "cell_type": "code",
      "source": [
        "# 곱해지는 각 자연수중 하나는 무조건\n",
        "# 제곱근과 같거나 작아야하는거니까\n",
        "\n",
        "# 4 * 4\n",
        "# 2 * 8\n",
        "\n",
        "# 2, 3, 4\n",
        "\n",
        "# 2, 4, 6, 8, 10, 12\n",
        "# 3, 6, 9, 12\n",
        "# ---\n",
        "# 5, 10, 15"
      ],
      "metadata": {
        "id": "5qyZLQneYY1E"
      },
      "execution_count": null,
      "outputs": []
    },
    {
      "cell_type": "code",
      "source": [
        "for 소수, 판별 in enumerate(소수):\n",
        "    if 판별:\n",
        "        print(소수)"
      ],
      "metadata": {
        "id": "8o9odKsjbWjp"
      },
      "execution_count": null,
      "outputs": []
    },
    {
      "cell_type": "markdown",
      "source": [
        "# pyalgo\n",
        "링크 : https://100.pyalgo.co.kr/?page=23"
      ],
      "metadata": {
        "id": "81jXxaYMbpy9"
      }
    },
    {
      "cell_type": "code",
      "source": [
        "# 2차원 배열과 타겟 숫자가 주어집니다. 주어진 2차원 배열에서 타겟 숫자가 존재하는지 확인하고, 존재하는 경우 True를, 존재하지 않는 경우 False를 반환\n",
        "\n",
        "s = [[1, 3, 5], [7, 9, 11], [13, 15, 17]]\n",
        "print(sum(s, [])) # 초기값 []를 선언하여 s의 2차원 배열을 1차원 리스트로 만든다.\n",
        "7 in sum(s, [])"
      ],
      "metadata": {
        "colab": {
          "base_uri": "https://localhost:8080/"
        },
        "id": "tUoMjFzcbXoA",
        "outputId": "9703a81c-c11d-4e69-cff6-b750fd5c80e1"
      },
      "execution_count": 38,
      "outputs": [
        {
          "output_type": "stream",
          "name": "stdout",
          "text": [
            "[1, 3, 5, 7, 9, 11, 13, 15, 17]\n"
          ]
        },
        {
          "output_type": "execute_result",
          "data": {
            "text/plain": [
              "True"
            ]
          },
          "metadata": {},
          "execution_count": 38
        }
      ]
    },
    {
      "cell_type": "code",
      "source": [
        "# 행렬의 연산과 같은 것은 np를 사용하면 쉽고 빠르게 풀 수 있다.\n",
        "import numpy as np\n",
        "\n",
        "x = np.array([1,2,3]) # 배열의 곱 가능\n",
        "x * 2"
      ],
      "metadata": {
        "colab": {
          "base_uri": "https://localhost:8080/"
        },
        "id": "AFiTbPY1b_MM",
        "outputId": "450fd0b5-f39c-4ac3-bb2b-730e55c2cb16"
      },
      "execution_count": 39,
      "outputs": [
        {
          "output_type": "execute_result",
          "data": {
            "text/plain": [
              "array([2, 4, 6])"
            ]
          },
          "metadata": {},
          "execution_count": 39
        }
      ]
    },
    {
      "cell_type": "code",
      "source": [
        "s = [[1, 3, 5], [7, 9, 11], [13, 15, 17]]\n",
        "s = np.array(s)\n",
        "np.where(s==7) # 7의 값이 어느 위치에 있는지 확인 가능"
      ],
      "metadata": {
        "colab": {
          "base_uri": "https://localhost:8080/"
        },
        "id": "Y8u_bOsScWQ7",
        "outputId": "75a05ab1-eb34-433c-d49f-52a2e2f409ab"
      },
      "execution_count": 40,
      "outputs": [
        {
          "output_type": "execute_result",
          "data": {
            "text/plain": [
              "(array([1]), array([0]))"
            ]
          },
          "metadata": {},
          "execution_count": 40
        }
      ]
    },
    {
      "cell_type": "code",
      "source": [
        "s = [[1, 3, 5], [7, 9, 11], [13, 15, 17]]\n",
        "s = np.array(s)\n",
        "rows, cols = np.where(s==7) # 7의 값이 어느 위치에 있는지 확인하고 언패킹(행, 열의 값으로 반환)\n",
        "\n",
        "rows, cols"
      ],
      "metadata": {
        "colab": {
          "base_uri": "https://localhost:8080/"
        },
        "id": "EZbrYIhWccAB",
        "outputId": "d438fc41-77a0-40af-c7b0-d33c08f54da9"
      },
      "execution_count": 42,
      "outputs": [
        {
          "output_type": "execute_result",
          "data": {
            "text/plain": [
              "(array([1]), array([0]))"
            ]
          },
          "metadata": {},
          "execution_count": 42
        }
      ]
    },
    {
      "cell_type": "code",
      "source": [
        "# 지뢰찾기\n",
        "x = [[0, 1, 0, 0],\n",
        "    [0, 1, 0, 0],\n",
        "    [0, 0, 0, 1]\n",
        "]\n",
        "\n",
        "x = np.array(x)\n",
        "np.where(x==1) # 1이 존재하는 위치를 전부 출력"
      ],
      "metadata": {
        "colab": {
          "base_uri": "https://localhost:8080/"
        },
        "id": "i0TmoXJvckfs",
        "outputId": "38bebd92-57fb-4b16-c8ca-c686642bc664"
      },
      "execution_count": 43,
      "outputs": [
        {
          "output_type": "execute_result",
          "data": {
            "text/plain": [
              "(array([0, 1, 2]), array([1, 1, 3]))"
            ]
          },
          "metadata": {},
          "execution_count": 43
        }
      ]
    },
    {
      "cell_type": "code",
      "source": [
        "# 순회\n",
        "\n",
        "x = [[0, 1, 0, 0],\n",
        "    [0, 1, 0, 0],\n",
        "    [0, 0, 0, 1]\n",
        "]\n",
        "\n",
        "s = 0\n",
        "for i in x:\n",
        "    s+=i.count(1)"
      ],
      "metadata": {
        "colab": {
          "base_uri": "https://localhost:8080/"
        },
        "id": "vUPYN2eqdGlm",
        "outputId": "88c1575c-2d11-4d05-ff5a-126fe215e216"
      },
      "execution_count": 44,
      "outputs": [
        {
          "output_type": "execute_result",
          "data": {
            "text/plain": [
              "3"
            ]
          },
          "metadata": {},
          "execution_count": 44
        }
      ]
    },
    {
      "cell_type": "code",
      "source": [
        "x = [[0, 1, 0, 0],\n",
        "    [0, 1, 0, 0],\n",
        "    [0, 0, 0, 1]\n",
        "]\n",
        "\n",
        "x = np.array(x)\n",
        "x == 1 # x에 x의 값이 1인것을 True로 반환"
      ],
      "metadata": {
        "colab": {
          "base_uri": "https://localhost:8080/"
        },
        "id": "-IfMeHD0dQXM",
        "outputId": "c72d0614-8cba-4b70-b1a1-952e2de8c6ad"
      },
      "execution_count": 46,
      "outputs": [
        {
          "output_type": "execute_result",
          "data": {
            "text/plain": [
              "array([[False,  True, False, False],\n",
              "       [False,  True, False, False],\n",
              "       [False, False, False,  True]])"
            ]
          },
          "metadata": {},
          "execution_count": 46
        }
      ]
    },
    {
      "cell_type": "code",
      "source": [
        "x = [[0, 5, 2, 0],\n",
        "     [0, 7, 0, 6],\n",
        "     [0, 1, 3, 5]]\n",
        "\n",
        "x = np.array(x)\n",
        "x > 3 # 3보다 큰 값만 True"
      ],
      "metadata": {
        "colab": {
          "base_uri": "https://localhost:8080/"
        },
        "id": "6XnP01sNdqP_",
        "outputId": "1a84d162-fc26-4a9a-8fed-b69e60beb253"
      },
      "execution_count": 47,
      "outputs": [
        {
          "output_type": "execute_result",
          "data": {
            "text/plain": [
              "array([[False,  True, False, False],\n",
              "       [False,  True, False,  True],\n",
              "       [False, False, False,  True]])"
            ]
          },
          "metadata": {},
          "execution_count": 47
        }
      ]
    },
    {
      "cell_type": "code",
      "source": [],
      "metadata": {
        "id": "mnKUeDlxeUkv"
      },
      "execution_count": null,
      "outputs": []
    }
  ]
}