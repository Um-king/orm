{
  "nbformat": 4,
  "nbformat_minor": 0,
  "metadata": {
    "colab": {
      "provenance": [],
      "authorship_tag": "ABX9TyM0a58GAO+sff2zs+e4lVwJ",
      "include_colab_link": true
    },
    "kernelspec": {
      "name": "python3",
      "display_name": "Python 3"
    },
    "language_info": {
      "name": "python"
    }
  },
  "cells": [
    {
      "cell_type": "markdown",
      "metadata": {
        "id": "view-in-github",
        "colab_type": "text"
      },
      "source": [
        "<a href=\"https://colab.research.google.com/github/Um-king/orm/blob/main/24_01_11_%EB%B3%B5%EC%8A%B5_%EB%AC%B8%EC%A0%9C.ipynb\" target=\"_parent\"><img src=\"https://colab.research.google.com/assets/colab-badge.svg\" alt=\"Open In Colab\"/></a>"
      ]
    },
    {
      "cell_type": "code",
      "execution_count": 9,
      "metadata": {
        "colab": {
          "base_uri": "https://localhost:8080/"
        },
        "id": "aLKzPp5IYK3p",
        "outputId": "f4018de0-8f0d-4ea4-b689-9076240e79f0"
      },
      "outputs": [
        {
          "output_type": "execute_result",
          "data": {
            "text/plain": [
              "0"
            ]
          },
          "metadata": {},
          "execution_count": 9
        }
      ],
      "source": [
        "# 1. 다음 숫자 중 5보다 크고, 20보다 작으면서 짝수인 수를 모두 더하는 코드를 완성 해주세요. 오늘 배운 filter 사용은 필수 입니다.\n",
        "\n",
        "number = [1, 5, 7, 4, 3, 22, 23, 15, 26, 17, 3]\n",
        "\n",
        "def solution(data):\n",
        "    num_list = list(filter(lambda x: (x > 5 and x < 20) and x % 2 == 0, number)) # 5 < x < 20 이면서 짝수인 수 => []\n",
        "    return sum(num_list)\n",
        "\n",
        "solution(number) # 출력 0"
      ]
    },
    {
      "cell_type": "code",
      "source": [
        "# 2. 다음에 정보가 담겨져 있는 것을 Class로 만들어주세요. 메서드로는 '할인' 메서드를 만들어주세요. 예를 들어 아래 책을 10% 할인한다고 하면 4500원이 됩니다. `책.할인(10) == 4500`의 형태로 만들어주시면 됩니다.\n",
        "# {\n",
        "#     '책제목': 'hello world python',\n",
        "#     '책 내용 요약': 'hello world...',\n",
        "#     '저자': '이호준',\n",
        "#     '발행일': '2024-01-11',\n",
        "#     '가격': 5000\n",
        "# }\n",
        "\n",
        "class 책:\n",
        "    def __init__(self, title, content, author, create_date, price):\n",
        "        self.title = title\n",
        "        self.content = content\n",
        "        self.author = author\n",
        "        self.create_date = create_date\n",
        "        self.price = price\n",
        "\n",
        "    def 할인(self, discount):\n",
        "        amount = self.price * (discount / 100)\n",
        "        return int(self.price - amount) # 소수점은 버린다.\n",
        "\n",
        "book = 책('hello world python', 'hello world...', '이호준', '2024-01-11', 5000)\n",
        "book.할인(10)"
      ],
      "metadata": {
        "colab": {
          "base_uri": "https://localhost:8080/"
        },
        "id": "LTzkaYIxYoJu",
        "outputId": "bd8245c9-3267-4db4-ecd4-7ead69910aef"
      },
      "execution_count": 11,
      "outputs": [
        {
          "output_type": "execute_result",
          "data": {
            "text/plain": [
              "4500"
            ]
          },
          "metadata": {},
          "execution_count": 11
        }
      ]
    },
    {
      "cell_type": "code",
      "source": [
        "# 3. 다음 문제를 풀고 정답을 제출해주세요.\n",
        "# 3.1 https://100.pyalgo.co.kr/?page=10#\n",
        "# 3.2 https://100.pyalgo.co.kr/?page=18#\n",
        "\n",
        "'''\n",
        "3 ≤ 캐릭터의 수 ≤ 10\n",
        "10 ≤ 능력치 ≤ 100\n",
        "350이 넘는 캐릭터의 이름은 알파벳 순으로 출력합니다.\n",
        "'''"
      ],
      "metadata": {
        "id": "-vHIeJ_9Y9MR"
      },
      "execution_count": null,
      "outputs": []
    },
    {
      "cell_type": "code",
      "source": [
        "# 3.1\n",
        "\n",
        "def solution(data):\n",
        "    '''\n",
        "    능력치 합이 350이 넘는 캐릭터를 알파벳 순으로 출력\n",
        "    '''\n",
        "    l = list(filter(lambda x: (x[1] + x[2] + x[3] + x[4]) > 350, data)) # 능력치가 350인 캐릭터 확인\n",
        "    list_sorted = sorted([i[0] for i in l]) # 알파벳순 정렬\n",
        "    return list_sorted\n",
        "\n",
        "character_list = [] # 캐릭터를 담는 리스트\n",
        "cnt = 0 # 최대 10개 캐릭터 생성 가능\n",
        "\n",
        "print(\"캐릭터는 최소 3개 이상 최대 10개 까지 입력할 수 있습니다.\")\n",
        "print(\"능력치는 최소 10~100까지 입력할 수 있습니다.\")\n",
        "\n",
        "while cnt < 10:\n",
        "    name = input(\"캐릭터 이름: \")\n",
        "    power = int(input(\"공격력: \"))\n",
        "    defense = int(input(\"방어력: \"))\n",
        "    hp = int(input(\"체력: \"))\n",
        "    mp = int(input(\"마력: \"))\n",
        "\n",
        "    l = [name, power, defense, hp, mp]\n",
        "    character_list.append(l)\n",
        "\n",
        "    cnt += 1\n",
        "\n",
        "    if cnt >= 3:\n",
        "        exit = input(\"캐릭터를 더 생성하시겠습니까?(1:yes, 2:no)\")\n",
        "        if(exit == \"2\"):\n",
        "            break;\n",
        "\n",
        "solution(character_list)"
      ],
      "metadata": {
        "colab": {
          "base_uri": "https://localhost:8080/"
        },
        "id": "aMlNt-UWa6_S",
        "outputId": "8a6d7d14-4c5c-471c-f38c-b01b2f32adac"
      },
      "execution_count": 24,
      "outputs": [
        {
          "name": "stdout",
          "output_type": "stream",
          "text": [
            "캐릭터는 최소 3개 이상 최대 10개 까지 입력할 수 있습니다.\n",
            "능력치는 최소 10~100까지 입력할 수 있습니다.\n",
            "캐릭터 이름: Gray\n",
            "공격력: 100\n",
            "방어력: 100\n",
            "체력: 100\n",
            "마력: 100\n",
            "캐릭터 이름: Gom\n",
            "공격력: 10\n",
            "방어력: 10\n",
            "체력: 10\n",
            "마력: 10\n",
            "캐릭터 이름: Allosa\n",
            "공격력: 100\n",
            "방어력: 100\n",
            "체력: 100\n",
            "마력: 100\n",
            "캐릭터를 더 생성하시겠습니까?(1:yes, 2:no)2\n"
          ]
        },
        {
          "output_type": "execute_result",
          "data": {
            "text/plain": [
              "['Allosa', 'Gray']"
            ]
          },
          "metadata": {},
          "execution_count": 24
        }
      ]
    },
    {
      "cell_type": "code",
      "source": [
        "# 3.2 일주일 동안의 최고 기온이 기록된 데이터가 주어집니다.\n",
        "# 이 데이터에서 가장 높은 온도를 기록한 상위 3일을 찾아 'YY-MM-DD: 온도' 형식으로 반환하는 코드를 작성해주세요.\n",
        "# 데이터는 'YYYY-MM-DD' 형식의 날짜와 해당 날짜의 최고 온도(섭씨)로 구성됩니다.\n",
        "\n",
        "'''\n",
        "제한 사항\n",
        "각 날짜의 최고 온도는 정수로 주어집니다.\n",
        "기온 데이터는 최소 7개(일주일)에서 최대 30개(한달)까지 주어질 수 있습니다.\n",
        "날짜는 중복되지 않습니다.\n",
        "중복된 온도일 경우 날짜가 빠른 것이 앞에 정렬되어야 합니다.\n",
        "'''"
      ],
      "metadata": {
        "id": "j73tP7hMiSOG"
      },
      "execution_count": null,
      "outputs": []
    },
    {
      "cell_type": "code",
      "source": [
        "def solution(data):\n",
        "    l = sorted(data.items(), key = lambda x : x[1], reverse = True)[:3]\n",
        "    l2 = [x + \":\" + str(y) for x, y in l]\n",
        "    return l2\n",
        "\n",
        "print(\"날짜와 온도는7개 이상 최대 30개 까지 입력할 수 있습니다.\")\n",
        "print(\"\\n-----------------------------\\n\")\n",
        "\n",
        "cnt = 0 # 최대 10개 캐릭터 생성 가능\n",
        "dict = {} # 빈 딕셔너리 생성\n",
        "\n",
        "while cnt < 30:\n",
        "    date = input(\"날짜입력(YYYY-MM-DD): \")\n",
        "    temperature = int(input(\"온도입력: \")) # 정수만\n",
        "\n",
        "    if date in dict: # key 중복 확인\n",
        "        print(\"날짜가 중복됩니다.\")\n",
        "        continue\n",
        "\n",
        "    dict[date] = temperature\n",
        "\n",
        "    cnt += 1\n",
        "\n",
        "    if cnt == 7:\n",
        "        exit = input(\"날짜 데이터를 추가로 생성하시겠습니까?(1:yes, 2:no)\")\n",
        "\n",
        "        if(exit == \"2\"):\n",
        "            break;\n",
        "\n",
        "solution(dict)"
      ],
      "metadata": {
        "colab": {
          "base_uri": "https://localhost:8080/"
        },
        "id": "7VY4soZ-k7wX",
        "outputId": "d4a15f99-e0ad-4c19-f923-bbdea6977079"
      },
      "execution_count": 38,
      "outputs": [
        {
          "name": "stdout",
          "output_type": "stream",
          "text": [
            "날짜와 온도는7개 이상 최대 30개 까지 입력할 수 있습니다.\n",
            "\n",
            "-----------------------------\n",
            "\n",
            "날짜입력(YYYY-MM-DD): 2024-01-01\n",
            "온도입력: 1\n",
            "날짜입력(YYYY-MM-DD): 2024-01-02\n",
            "온도입력: 2\n",
            "날짜입력(YYYY-MM-DD): 2024-01-03\n",
            "온도입력: 3\n",
            "날짜입력(YYYY-MM-DD): 2024-01-04\n",
            "온도입력: 4\n",
            "날짜입력(YYYY-MM-DD): 2024-01-05\n",
            "온도입력: 5\n",
            "날짜입력(YYYY-MM-DD): 2024-01-01\n",
            "온도입력: 1\n",
            "날짜가 중복됩니다.\n",
            "날짜입력(YYYY-MM-DD): 2024-01-06\n",
            "온도입력: 6\n",
            "날짜입력(YYYY-MM-DD): 2024-01-07\n",
            "온도입력: 7\n",
            "날짜 데이터를 추가로 생성하시겠습니까?(1:yes, 2:no)2\n"
          ]
        },
        {
          "output_type": "execute_result",
          "data": {
            "text/plain": [
              "['2024-01-07:7', '2024-01-06:6', '2024-01-05:5']"
            ]
          },
          "metadata": {},
          "execution_count": 38
        }
      ]
    },
    {
      "cell_type": "code",
      "source": [],
      "metadata": {
        "id": "bfSrRtMqnlZM"
      },
      "execution_count": null,
      "outputs": []
    }
  ]
}