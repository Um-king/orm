{
  "nbformat": 4,
  "nbformat_minor": 0,
  "metadata": {
    "colab": {
      "provenance": [],
      "authorship_tag": "ABX9TyNuJo/S2OPfZ/OnUcaNEXuu",
      "include_colab_link": true
    },
    "kernelspec": {
      "name": "python3",
      "display_name": "Python 3"
    },
    "language_info": {
      "name": "python"
    }
  },
  "cells": [
    {
      "cell_type": "markdown",
      "metadata": {
        "id": "view-in-github",
        "colab_type": "text"
      },
      "source": [
        "<a href=\"https://colab.research.google.com/github/Um-king/orm/blob/main/%5B%EB%AA%A8%EB%91%90%EC%97%B0%5D3%EC%A3%BC%EC%B0%A8_2%EC%9D%BC_%EC%A1%B0%EA%B1%B4%EB%AC%B8.ipynb\" target=\"_parent\"><img src=\"https://colab.research.google.com/assets/colab-badge.svg\" alt=\"Open In Colab\"/></a>"
      ]
    },
    {
      "cell_type": "code",
      "execution_count": null,
      "metadata": {
        "id": "1RGGNC6Igi-E"
      },
      "outputs": [],
      "source": []
    },
    {
      "cell_type": "markdown",
      "source": [
        "# 1. 조건문"
      ],
      "metadata": {
        "id": "j9fXLHxMpA8O"
      }
    },
    {
      "cell_type": "code",
      "source": [
        "# 1.1 if문 기본 구조\n",
        "\n",
        "# if 다음에 조건이 참인 경우에만 코드블록이 실행된다.\n",
        "\n",
        "x = 2 # 비교할 대상\n",
        "\n",
        "if x > 1: # 비교식 -> 비교식이 참일 경우에 하단에 print('True')가 실행된다.\n",
        "    print('True') # 출력: True"
      ],
      "metadata": {
        "colab": {
          "base_uri": "https://localhost:8080/"
        },
        "id": "7-2OqslEpCb3",
        "outputId": "efa0db66-47d7-4752-db66-72c7637a2e28"
      },
      "execution_count": 1,
      "outputs": [
        {
          "output_type": "stream",
          "name": "stdout",
          "text": [
            "True\n"
          ]
        }
      ]
    },
    {
      "cell_type": "code",
      "source": [
        "# 참이 아닌 경우 조건식이 실행되지 않는다.\n",
        "x = 1 # 비교할 대상\n",
        "\n",
        "if x > 1: # 비교식\n",
        "    print('True') # 출력X"
      ],
      "metadata": {
        "id": "g18pRZL0pDU4"
      },
      "execution_count": 2,
      "outputs": []
    },
    {
      "cell_type": "code",
      "source": [
        "# 결국 x = 2일때 if x > 1 => True\n",
        "if True:\n",
        "    print('True') # 출력: True"
      ],
      "metadata": {
        "colab": {
          "base_uri": "https://localhost:8080/"
        },
        "id": "4u5yI79bpj4N",
        "outputId": "cf5bdaf9-d899-4c39-d6d8-382769c698e5"
      },
      "execution_count": 3,
      "outputs": [
        {
          "output_type": "stream",
          "name": "stdout",
          "text": [
            "True\n"
          ]
        }
      ]
    },
    {
      "cell_type": "code",
      "source": [
        "if 1: # 1 = True\n",
        "    print('True') # 출력: True"
      ],
      "metadata": {
        "colab": {
          "base_uri": "https://localhost:8080/"
        },
        "id": "L8eeUT_RqMHA",
        "outputId": "2fe9a142-4f5b-4e95-a992-5cac319d034a"
      },
      "execution_count": 4,
      "outputs": [
        {
          "output_type": "stream",
          "name": "stdout",
          "text": [
            "True\n"
          ]
        }
      ]
    },
    {
      "cell_type": "code",
      "source": [
        "# if문 안에 있는 코드블럭과 바깥에 있는 코드블럭\n",
        "# 0이 아닌 모든 정수형은 True 로 인식(0만 False)\n",
        "\n",
        "if -1:\n",
        "    print('hello') # 1번 출력\n",
        "\n",
        "print('end') # 2번 출력"
      ],
      "metadata": {
        "colab": {
          "base_uri": "https://localhost:8080/"
        },
        "id": "woHV9vLyqXxO",
        "outputId": "e925c0c6-b865-4a77-ac61-c94f97aa57d0"
      },
      "execution_count": 5,
      "outputs": [
        {
          "output_type": "stream",
          "name": "stdout",
          "text": [
            "hello\n",
            "end\n"
          ]
        }
      ]
    },
    {
      "cell_type": "code",
      "source": [
        "if 0:\n",
        "    print('hello')\n",
        "\n",
        "print('end') # 1번 출력"
      ],
      "metadata": {
        "colab": {
          "base_uri": "https://localhost:8080/"
        },
        "id": "uwH00EZ_rRTR",
        "outputId": "b169c060-fec2-4463-eb08-9edc527f495a"
      },
      "execution_count": 6,
      "outputs": [
        {
          "output_type": "stream",
          "name": "stdout",
          "text": [
            "end\n"
          ]
        }
      ]
    },
    {
      "cell_type": "code",
      "source": [
        "# 공백이 있으면 True 공백이 없으면 False를 의미\n",
        "\n",
        "# 공백이 있는 문자열\n",
        "if ' ':\n",
        "    print('hello')\n",
        "print('end')\n",
        "\n",
        "# 공백이 없는 문자열\n",
        "if '':\n",
        "    print('hello')\n",
        "print('end')"
      ],
      "metadata": {
        "colab": {
          "base_uri": "https://localhost:8080/"
        },
        "id": "rBpzKottrefk",
        "outputId": "950c22c9-9f0e-4266-d0ef-dd578802f0d8"
      },
      "execution_count": 7,
      "outputs": [
        {
          "output_type": "stream",
          "name": "stdout",
          "text": [
            "hello\n",
            "end\n",
            "end\n"
          ]
        }
      ]
    },
    {
      "cell_type": "code",
      "source": [
        "# None은 False, not None은 True\n",
        "\n",
        "if not '': # 공백이 없다의 반대\n",
        "    print('hello')\n",
        "print('end')\n",
        "\n",
        "if None: # None은 False로 처리됩니다.\n",
        "    print('hello')\n",
        "print('end')\n",
        "\n",
        "if not None:\n",
        "    print('hello')\n",
        "print('end')"
      ],
      "metadata": {
        "colab": {
          "base_uri": "https://localhost:8080/"
        },
        "id": "4n_JLNPEsMen",
        "outputId": "aec03514-1987-4a91-b55b-7dff5faa3d45"
      },
      "execution_count": 9,
      "outputs": [
        {
          "output_type": "stream",
          "name": "stdout",
          "text": [
            "hello\n",
            "end\n",
            "end\n",
            "hello\n",
            "end\n"
          ]
        }
      ]
    },
    {
      "cell_type": "code",
      "source": [],
      "metadata": {
        "id": "qTml_oiYscrH"
      },
      "execution_count": null,
      "outputs": []
    }
  ]
}