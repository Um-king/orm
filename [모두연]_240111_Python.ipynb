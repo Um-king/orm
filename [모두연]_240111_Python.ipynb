{
  "nbformat": 4,
  "nbformat_minor": 0,
  "metadata": {
    "colab": {
      "provenance": [],
      "authorship_tag": "ABX9TyPcGTGAEmR3DodXfUwtk2oh",
      "include_colab_link": true
    },
    "kernelspec": {
      "name": "python3",
      "display_name": "Python 3"
    },
    "language_info": {
      "name": "python"
    }
  },
  "cells": [
    {
      "cell_type": "markdown",
      "metadata": {
        "id": "view-in-github",
        "colab_type": "text"
      },
      "source": [
        "<a href=\"https://colab.research.google.com/github/Um-king/orm/blob/main/%5B%EB%AA%A8%EB%91%90%EC%97%B0%5D_240111_Python.ipynb\" target=\"_parent\"><img src=\"https://colab.research.google.com/assets/colab-badge.svg\" alt=\"Open In Colab\"/></a>"
      ]
    },
    {
      "cell_type": "markdown",
      "source": [
        "# 복습(함수)\n",
        "\n",
        "## 함수의 이름은 변수다"
      ],
      "metadata": {
        "id": "7wuUn_wF89f0"
      }
    },
    {
      "cell_type": "code",
      "execution_count": null,
      "metadata": {
        "id": "H7PHWxgbz2jD"
      },
      "outputs": [],
      "source": [
        "# 파이썬 주석의 권장방법은 코드 내에 작성하는 것\n",
        "\n",
        "def hello(): # 여기다가 작성하지 않는다.\n",
        "    '''\n",
        "    주석은 여기다가 작성하는 것(코드 시작하고 바로 아래) -> 파이썬 doc string 방법\n",
        "    '''\n",
        "    pass"
      ]
    },
    {
      "cell_type": "code",
      "source": [
        "def hello():\n",
        "    pass\n",
        "\n",
        "print(type(hello)) # 함수도 class! -> 파이썬의 모든 자료형은 class다\n",
        "# 즉 hello는 function의 인스턴스다. -> function이란 클래스로 만들어진 객체"
      ],
      "metadata": {
        "colab": {
          "base_uri": "https://localhost:8080/"
        },
        "id": "akbTlvOQ5eK-",
        "outputId": "7d659f3a-c1b8-492e-8c95-57c817fc3840"
      },
      "execution_count": 1,
      "outputs": [
        {
          "output_type": "stream",
          "name": "stdout",
          "text": [
            "<class 'function'>\n"
          ]
        }
      ]
    },
    {
      "cell_type": "code",
      "source": [
        "a = 10\n",
        "\n",
        "# a는 무엇일까?\n",
        "# a는 int의 인스턴스! -> int 정수형 클래스로 만들어진 객체이다."
      ],
      "metadata": {
        "id": "vW6SuWg65lX1"
      },
      "execution_count": null,
      "outputs": []
    },
    {
      "cell_type": "code",
      "source": [
        "print('hello world') # print : built-in function"
      ],
      "metadata": {
        "colab": {
          "base_uri": "https://localhost:8080/"
        },
        "id": "imOBZznS5_2y",
        "outputId": "c80e3585-10c8-4e8d-9f8a-42ab77693acd"
      },
      "execution_count": 2,
      "outputs": [
        {
          "output_type": "stream",
          "name": "stdout",
          "text": [
            "hello world\n"
          ]
        }
      ]
    },
    {
      "cell_type": "code",
      "source": [
        "l = [print, print, print] # \"함수의 이름은 변수일뿐!\" -> print는 built-in function  -> 리스트에 함수명을 넣어놓고\n",
        "l[2]('hello world') # 이렇게 호출이 가능하다. l[2] = print, 즉 print('문자열')을 호출한 것"
      ],
      "metadata": {
        "colab": {
          "base_uri": "https://localhost:8080/"
        },
        "id": "kRU2OEjH6aw_",
        "outputId": "78881eae-6579-4fea-9c06-44aed968939e"
      },
      "execution_count": 3,
      "outputs": [
        {
          "output_type": "stream",
          "name": "stdout",
          "text": [
            "hello world\n"
          ]
        }
      ]
    },
    {
      "cell_type": "code",
      "source": [
        "hojun = print # print는 변수이름.. 따라서 print와 hojun이 가리키고 있는 주소는 같다\n",
        "hojun('hello world')\n",
        "\n",
        "print(id(hojun), id(print)) # 가리키는 id값이 같다"
      ],
      "metadata": {
        "colab": {
          "base_uri": "https://localhost:8080/"
        },
        "id": "IVFx4Ikd6dTA",
        "outputId": "39ce7363-09b7-4b87-9182-2107d18f45cf"
      },
      "execution_count": 6,
      "outputs": [
        {
          "output_type": "stream",
          "name": "stdout",
          "text": [
            "hello world\n",
            "132966030087472 132966030087472\n"
          ]
        }
      ]
    },
    {
      "cell_type": "markdown",
      "source": [
        "## lambda의 응용"
      ],
      "metadata": {
        "id": "eXhqFE5qCtyT"
      }
    },
    {
      "cell_type": "code",
      "source": [
        "# lambda\n",
        "'''\n",
        "lambda 사용 시 클론(:)전 x, y는 받을 값이고 클론뒤는 어떻게 할 것인지 식을 작성\n",
        "'''\n",
        "add = lambda x, y: x + y # add 라는 람다함수를 만든 것 -> x + y 연산의 add 함수"
      ],
      "metadata": {
        "id": "3B4yE8zl653_"
      },
      "execution_count": 7,
      "outputs": []
    },
    {
      "cell_type": "code",
      "source": [
        "x = 10\n",
        "y = 20\n",
        "\n",
        "print(add(x ,y))"
      ],
      "metadata": {
        "colab": {
          "base_uri": "https://localhost:8080/"
        },
        "id": "LyJJLSE77wcI",
        "outputId": "0c888ff3-23ad-44a0-ddc6-5a7600602857"
      },
      "execution_count": 10,
      "outputs": [
        {
          "output_type": "stream",
          "name": "stdout",
          "text": [
            "30\n"
          ]
        }
      ]
    },
    {
      "cell_type": "code",
      "source": [
        "# 삼항연산자\n",
        "\n",
        "x = 10\n",
        "y = True if x % 2 == 0 else False\n",
        "\n",
        "print(y)"
      ],
      "metadata": {
        "colab": {
          "base_uri": "https://localhost:8080/"
        },
        "id": "szNNQr7O7y8_",
        "outputId": "805ee7ea-8e6f-4399-9de7-8f5c6ed9a66b"
      },
      "execution_count": 11,
      "outputs": [
        {
          "output_type": "stream",
          "name": "stdout",
          "text": [
            "True\n"
          ]
        }
      ]
    },
    {
      "cell_type": "code",
      "source": [
        "# 재사용 할 것이라면 함수로 생성한다.\n",
        "\n",
        "def 제곱(x):\n",
        "    return x ** 2\n",
        "\n",
        "# map 사용법 -> (함수나 어떤 조건 식, 값)\n",
        "list(map(제곱, [1, 2, 3, 4])) # 제곱이란 함수에 리스트의 각 값을 넣어 제곱후에 리스트로 형변환"
      ],
      "metadata": {
        "colab": {
          "base_uri": "https://localhost:8080/"
        },
        "id": "SFCLeFuM8rEu",
        "outputId": "b428dc89-c140-4740-bc48-fd56efee329f"
      },
      "execution_count": 12,
      "outputs": [
        {
          "output_type": "execute_result",
          "data": {
            "text/plain": [
              "[1, 4, 9, 16]"
            ]
          },
          "metadata": {},
          "execution_count": 12
        }
      ]
    },
    {
      "cell_type": "code",
      "source": [
        "# 재사용 하지 앟을 것이면 람다함수 사용\n",
        "\n",
        "list(map(lambda x: x**2, [1, 2, 3, 4])) # 제곱함수를 만든 것과 lambda로 표현한 것이 같은 것\n",
        "\n",
        "# 클론앞 x는 어떤값을 넣을지\n",
        "# x에 리스트의 값을 각각 넣고 클론뒤 식을 통해 제곱을 한다.\n",
        "\n",
        "\n",
        "\n",
        "\n",
        "'''\n",
        "둘은 동일한 내용이지만\n",
        "재사용이 필요하다면 함수로 생성하고\n",
        "재사용이 없다면 람다로 생성한다.\n",
        "\n",
        "하지만 람다함수도 수식이 복잡해지면 사용x -> 재사용과 별개로 가독성이 떨어짐 -> 이럴땐 함수로 사용\n",
        "'''"
      ],
      "metadata": {
        "colab": {
          "base_uri": "https://localhost:8080/"
        },
        "id": "0Qmp0hn79xxP",
        "outputId": "537c13d4-2355-48aa-d099-8079492b9fce"
      },
      "execution_count": 13,
      "outputs": [
        {
          "output_type": "execute_result",
          "data": {
            "text/plain": [
              "[1, 4, 9, 16]"
            ]
          },
          "metadata": {},
          "execution_count": 13
        }
      ]
    },
    {
      "cell_type": "code",
      "source": [
        "# 리스트를 map의 값으로 사용하여 각각의 원소를 x값으로 사용하여 값을 호출\n",
        "\n",
        "# 이정도면 가독성을 해친다고 하진 않음\n",
        "list(map(lambda x: True if x % 2 == 0 else False, [1, 2, 3, 4])) # 마스킹문법 -> 해당 값을 True, False로(여기선 출력값을 True, False로 필터링한 것)\n",
        "\n",
        "'''\n",
        "마스킹 : 어떤 값을 특정 값으로 필터링한 것\n",
        "-> 특정 조건에 대해서 해당 값들을 특정 값으로 필터링하여 출력하는 것\n",
        "'''"
      ],
      "metadata": {
        "colab": {
          "base_uri": "https://localhost:8080/"
        },
        "id": "qa6sEjG79-aX",
        "outputId": "e12b97e0-e8bf-4189-d6be-d402299d1b8d"
      },
      "execution_count": 15,
      "outputs": [
        {
          "output_type": "execute_result",
          "data": {
            "text/plain": [
              "[False, True, False, True]"
            ]
          },
          "metadata": {},
          "execution_count": 15
        }
      ]
    },
    {
      "cell_type": "code",
      "source": [],
      "metadata": {
        "id": "W1hCS2Bk-7c3"
      },
      "execution_count": null,
      "outputs": []
    }
  ]
}