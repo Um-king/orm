{
  "nbformat": 4,
  "nbformat_minor": 0,
  "metadata": {
    "colab": {
      "provenance": [],
      "authorship_tag": "ABX9TyNls7AFmU9JZRZsxg/W7NcT",
      "include_colab_link": true
    },
    "kernelspec": {
      "name": "python3",
      "display_name": "Python 3"
    },
    "language_info": {
      "name": "python"
    }
  },
  "cells": [
    {
      "cell_type": "markdown",
      "metadata": {
        "id": "view-in-github",
        "colab_type": "text"
      },
      "source": [
        "<a href=\"https://colab.research.google.com/github/Um-king/orm/blob/main/%5B%EB%AA%A8%EB%91%90%EC%97%B0%5D_240111_Python.ipynb\" target=\"_parent\"><img src=\"https://colab.research.google.com/assets/colab-badge.svg\" alt=\"Open In Colab\"/></a>"
      ]
    },
    {
      "cell_type": "markdown",
      "source": [
        "# 복습(함수)\n",
        "\n",
        "## 함수의 이름은 변수다"
      ],
      "metadata": {
        "id": "7wuUn_wF89f0"
      }
    },
    {
      "cell_type": "code",
      "execution_count": null,
      "metadata": {
        "id": "H7PHWxgbz2jD"
      },
      "outputs": [],
      "source": [
        "# 파이썬 주석의 권장방법은 코드 내에 작성하는 것\n",
        "\n",
        "def hello(): # 여기다가 작성하지 않는다.\n",
        "    '''\n",
        "    주석은 여기다가 작성하는 것(코드 시작하고 바로 아래) -> 파이썬 doc string 방법\n",
        "    '''\n",
        "    pass"
      ]
    },
    {
      "cell_type": "code",
      "source": [
        "def hello():\n",
        "    pass\n",
        "\n",
        "print(type(hello)) # 함수도 class! -> 파이썬의 모든 자료형은 class다\n",
        "# 즉 hello는 function의 인스턴스다. -> function이란 클래스로 만들어진 객체"
      ],
      "metadata": {
        "colab": {
          "base_uri": "https://localhost:8080/"
        },
        "id": "akbTlvOQ5eK-",
        "outputId": "7d659f3a-c1b8-492e-8c95-57c817fc3840"
      },
      "execution_count": 1,
      "outputs": [
        {
          "output_type": "stream",
          "name": "stdout",
          "text": [
            "<class 'function'>\n"
          ]
        }
      ]
    },
    {
      "cell_type": "code",
      "source": [
        "a = 10\n",
        "\n",
        "# a는 무엇일까?\n",
        "# a는 int의 인스턴스! -> int 정수형 클래스로 만들어진 객체이다."
      ],
      "metadata": {
        "id": "vW6SuWg65lX1"
      },
      "execution_count": null,
      "outputs": []
    },
    {
      "cell_type": "code",
      "source": [
        "print('hello world') # print : built-in function"
      ],
      "metadata": {
        "colab": {
          "base_uri": "https://localhost:8080/"
        },
        "id": "imOBZznS5_2y",
        "outputId": "c80e3585-10c8-4e8d-9f8a-42ab77693acd"
      },
      "execution_count": 2,
      "outputs": [
        {
          "output_type": "stream",
          "name": "stdout",
          "text": [
            "hello world\n"
          ]
        }
      ]
    },
    {
      "cell_type": "code",
      "source": [
        "l = [print, print, print] # \"함수의 이름은 변수일뿐!\" -> print는 built-in function  -> 리스트에 함수명을 넣어놓고\n",
        "l[2]('hello world') # 이렇게 호출이 가능하다. l[2] = print, 즉 print('문자열')을 호출한 것"
      ],
      "metadata": {
        "colab": {
          "base_uri": "https://localhost:8080/"
        },
        "id": "kRU2OEjH6aw_",
        "outputId": "78881eae-6579-4fea-9c06-44aed968939e"
      },
      "execution_count": 3,
      "outputs": [
        {
          "output_type": "stream",
          "name": "stdout",
          "text": [
            "hello world\n"
          ]
        }
      ]
    },
    {
      "cell_type": "code",
      "source": [
        "hojun = print # print는 변수이름.. 따라서 print와 hojun이 가리키고 있는 주소는 같다\n",
        "hojun('hello world')\n",
        "\n",
        "print(id(hojun), id(print)) # 가리키는 id값이 같다"
      ],
      "metadata": {
        "colab": {
          "base_uri": "https://localhost:8080/"
        },
        "id": "IVFx4Ikd6dTA",
        "outputId": "39ce7363-09b7-4b87-9182-2107d18f45cf"
      },
      "execution_count": 6,
      "outputs": [
        {
          "output_type": "stream",
          "name": "stdout",
          "text": [
            "hello world\n",
            "132966030087472 132966030087472\n"
          ]
        }
      ]
    },
    {
      "cell_type": "markdown",
      "source": [
        "## lambda의 응용"
      ],
      "metadata": {
        "id": "eXhqFE5qCtyT"
      }
    },
    {
      "cell_type": "markdown",
      "source": [
        "## Top 3 - 1. map에서 사용!"
      ],
      "metadata": {
        "id": "iLFzrffKIZsF"
      }
    },
    {
      "cell_type": "code",
      "source": [
        "# lambda\n",
        "'''\n",
        "lambda 사용 시 클론(:)전 x, y는 받을 값이고 클론뒤는 어떻게 할 것인지 식을 작성\n",
        "'''\n",
        "add = lambda x, y: x + y # add 라는 람다함수를 만든 것 -> x + y 연산의 add 함수"
      ],
      "metadata": {
        "id": "3B4yE8zl653_"
      },
      "execution_count": 7,
      "outputs": []
    },
    {
      "cell_type": "code",
      "source": [
        "x = 10\n",
        "y = 20\n",
        "\n",
        "print(add(x ,y))"
      ],
      "metadata": {
        "colab": {
          "base_uri": "https://localhost:8080/"
        },
        "id": "LyJJLSE77wcI",
        "outputId": "0c888ff3-23ad-44a0-ddc6-5a7600602857"
      },
      "execution_count": 10,
      "outputs": [
        {
          "output_type": "stream",
          "name": "stdout",
          "text": [
            "30\n"
          ]
        }
      ]
    },
    {
      "cell_type": "code",
      "source": [
        "# 삼항연산자\n",
        "\n",
        "x = 10\n",
        "y = True if x % 2 == 0 else False\n",
        "\n",
        "print(y)"
      ],
      "metadata": {
        "colab": {
          "base_uri": "https://localhost:8080/"
        },
        "id": "szNNQr7O7y8_",
        "outputId": "805ee7ea-8e6f-4399-9de7-8f5c6ed9a66b"
      },
      "execution_count": 11,
      "outputs": [
        {
          "output_type": "stream",
          "name": "stdout",
          "text": [
            "True\n"
          ]
        }
      ]
    },
    {
      "cell_type": "code",
      "source": [
        "# 재사용 할 것이라면 함수로 생성한다.\n",
        "\n",
        "def 제곱(x):\n",
        "    return x ** 2\n",
        "\n",
        "# map 사용법 -> (함수나 어떤 조건 식, 값)\n",
        "list(map(제곱, [1, 2, 3, 4])) # 제곱이란 함수에 리스트의 각 값을 넣어 제곱후에 리스트로 형변환"
      ],
      "metadata": {
        "colab": {
          "base_uri": "https://localhost:8080/"
        },
        "id": "SFCLeFuM8rEu",
        "outputId": "b428dc89-c140-4740-bc48-fd56efee329f"
      },
      "execution_count": 12,
      "outputs": [
        {
          "output_type": "execute_result",
          "data": {
            "text/plain": [
              "[1, 4, 9, 16]"
            ]
          },
          "metadata": {},
          "execution_count": 12
        }
      ]
    },
    {
      "cell_type": "code",
      "source": [
        "# 재사용 하지 앟을 것이면 람다함수 사용\n",
        "\n",
        "list(map(lambda x: x**2, [1, 2, 3, 4])) # 제곱함수를 만든 것과 lambda로 표현한 것이 같은 것\n",
        "\n",
        "# 클론앞 x는 어떤값을 넣을지\n",
        "# x에 리스트의 값을 각각 넣고 클론뒤 식을 통해 제곱을 한다.\n",
        "\n",
        "\n",
        "\n",
        "\n",
        "'''\n",
        "둘은 동일한 내용이지만\n",
        "재사용이 필요하다면 함수로 생성하고\n",
        "재사용이 없다면 람다로 생성한다.\n",
        "\n",
        "하지만 람다함수도 수식이 복잡해지면 사용x -> 재사용과 별개로 가독성이 떨어짐 -> 이럴땐 함수로 사용\n",
        "'''"
      ],
      "metadata": {
        "colab": {
          "base_uri": "https://localhost:8080/"
        },
        "id": "0Qmp0hn79xxP",
        "outputId": "537c13d4-2355-48aa-d099-8079492b9fce"
      },
      "execution_count": 13,
      "outputs": [
        {
          "output_type": "execute_result",
          "data": {
            "text/plain": [
              "[1, 4, 9, 16]"
            ]
          },
          "metadata": {},
          "execution_count": 13
        }
      ]
    },
    {
      "cell_type": "code",
      "source": [
        "# 리스트를 map의 값으로 사용하여 각각의 원소를 x값으로 사용하여 값을 호출\n",
        "\n",
        "# 이정도면 가독성을 해친다고 하진 않음\n",
        "list(map(lambda x: True if x % 2 == 0 else False, [1, 2, 3, 4])) # 마스킹문법 -> 해당 값을 True, False로(여기선 출력값을 True, False로 필터링한 것)\n",
        "\n",
        "'''\n",
        "마스킹 : 어떤 값을 특정 값으로 필터링한 것\n",
        "-> 특정 조건에 대해서 해당 값들을 특정 값으로 필터링하여 출력하는 것\n",
        "'''"
      ],
      "metadata": {
        "colab": {
          "base_uri": "https://localhost:8080/"
        },
        "id": "qa6sEjG79-aX",
        "outputId": "e12b97e0-e8bf-4189-d6be-d402299d1b8d"
      },
      "execution_count": 15,
      "outputs": [
        {
          "output_type": "execute_result",
          "data": {
            "text/plain": [
              "[False, True, False, True]"
            ]
          },
          "metadata": {},
          "execution_count": 15
        }
      ]
    },
    {
      "cell_type": "markdown",
      "source": [
        "## Top 3 - 2. filter에서 사용!"
      ],
      "metadata": {
        "id": "4FtbFmnhIcsZ"
      }
    },
    {
      "cell_type": "code",
      "source": [
        "# filter는 True인 것만 출력합니다.\n",
        "\n",
        "list(filter(lambda x: x % 2 == 0, range(100))) # 0~99까지 짝수 호출"
      ],
      "metadata": {
        "id": "W1hCS2Bk-7c3"
      },
      "execution_count": null,
      "outputs": []
    },
    {
      "cell_type": "code",
      "source": [
        "list(filter(lambda x: x % 3 == 0, range(100))) # 0~99까지 3의 배수 호출"
      ],
      "metadata": {
        "id": "krmxOii9FuAB"
      },
      "execution_count": null,
      "outputs": []
    },
    {
      "cell_type": "code",
      "source": [
        "list(filter(lambda x: x > 50, range(100))) # x가 50보다 큰것을 필터링"
      ],
      "metadata": {
        "id": "TmDyP4C6GOr7"
      },
      "execution_count": null,
      "outputs": []
    },
    {
      "cell_type": "code",
      "source": [
        "list(filter(lambda x: x > 50 and x < 80, range(100))) # x가 50보다 크고 80보다 작은 것을 필터링"
      ],
      "metadata": {
        "id": "tn-eWWoSGYsV"
      },
      "execution_count": null,
      "outputs": []
    },
    {
      "cell_type": "code",
      "source": [
        "list(filter(lambda x: True if x % 3 ==0 or x % 5 == 0 else False, range(100))) # 3과 5의 배수 필터링\n",
        "# 3과 5의 배수라면 True에 해당하는 값을 필터링한다. -> True를 반환하는게 아니라 해당 값을 반환"
      ],
      "metadata": {
        "id": "nrv44gSSGeQs"
      },
      "execution_count": null,
      "outputs": []
    },
    {
      "cell_type": "code",
      "source": [
        "list(filter(lambda x: x % 2, range(100))) # 홀수를 출력 -> x % 2로만 조건식을 작성했을때\n",
        "'''\n",
        "[0, 1, 2, 3, 4, 5, 6, 7, 8, 9]\n",
        "lambda x: x % 2 # x==0 일때 -> 0 => False로 평가\n",
        "lambda x: x % 2 # x==1 일때 -> 1 => True로 평가\n",
        "lambda x: x % 2 # x==2 일때 -> 0\n",
        "lambda x: x % 2 # x==3 일때 -> 1\n",
        "lambda x: x % 2 # x==4 일때 -> 0\n",
        "lambda x: x % 2 # x==5 일때 -> 1\n",
        "lambda x: x % 2 # x==6 일때 -> 0\n",
        "'''\n",
        "\n",
        "'''\n",
        "순회 되게 하려면 map, filter를 사용하고 그렇지 않으면 람다를 변수에 할당해서 값을 넣어 호출하면 된다.\n",
        "'''"
      ],
      "metadata": {
        "colab": {
          "base_uri": "https://localhost:8080/"
        },
        "id": "sGnbgWW_G1yI",
        "outputId": "11a43b5c-07ed-4b36-e2ed-9c40d3575015"
      },
      "execution_count": 22,
      "outputs": [
        {
          "output_type": "execute_result",
          "data": {
            "text/plain": [
              "[1,\n",
              " 3,\n",
              " 5,\n",
              " 7,\n",
              " 9,\n",
              " 11,\n",
              " 13,\n",
              " 15,\n",
              " 17,\n",
              " 19,\n",
              " 21,\n",
              " 23,\n",
              " 25,\n",
              " 27,\n",
              " 29,\n",
              " 31,\n",
              " 33,\n",
              " 35,\n",
              " 37,\n",
              " 39,\n",
              " 41,\n",
              " 43,\n",
              " 45,\n",
              " 47,\n",
              " 49,\n",
              " 51,\n",
              " 53,\n",
              " 55,\n",
              " 57,\n",
              " 59,\n",
              " 61,\n",
              " 63,\n",
              " 65,\n",
              " 67,\n",
              " 69,\n",
              " 71,\n",
              " 73,\n",
              " 75,\n",
              " 77,\n",
              " 79,\n",
              " 81,\n",
              " 83,\n",
              " 85,\n",
              " 87,\n",
              " 89,\n",
              " 91,\n",
              " 93,\n",
              " 95,\n",
              " 97,\n",
              " 99]"
            ]
          },
          "metadata": {},
          "execution_count": 22
        }
      ]
    },
    {
      "cell_type": "code",
      "source": [
        "test = lambda i : i % 2 == 0\n",
        "[test(i) for i in range(10)] # 순회 가능한 range의 값들을 람다함수의 test에 하나씩 할당하여 해당 조건이 맞는지 아닌지 확인"
      ],
      "metadata": {
        "colab": {
          "base_uri": "https://localhost:8080/"
        },
        "id": "V9qcnPrIKdD7",
        "outputId": "56dd91bb-60b7-45a7-ef23-a47c6b6c3e70"
      },
      "execution_count": 27,
      "outputs": [
        {
          "output_type": "execute_result",
          "data": {
            "text/plain": [
              "[True, False, True, False, True, False, True, False, True, False]"
            ]
          },
          "metadata": {},
          "execution_count": 27
        }
      ]
    },
    {
      "cell_type": "markdown",
      "source": [
        "## Top 3 - 3 sorted에서 사용!"
      ],
      "metadata": {
        "id": "2znxQfGiIR1I"
      }
    },
    {
      "cell_type": "code",
      "source": [
        "# sorted()\n",
        "\n",
        "l = [10, 20, 5, 4, 22, 32, 5, 9, 11]\n",
        "l.sort() # sort()를 자주 사용하진 않습니다 -> 원본을 변경시키기 때문입니다.\n",
        "l # 원본이 정렬됨"
      ],
      "metadata": {
        "colab": {
          "base_uri": "https://localhost:8080/"
        },
        "id": "nARzOx2WHQA7",
        "outputId": "1fccd135-09a1-404f-b9c2-a51d839d0260"
      },
      "execution_count": 24,
      "outputs": [
        {
          "output_type": "execute_result",
          "data": {
            "text/plain": [
              "[4, 5, 5, 9, 10, 11, 20, 22, 32]"
            ]
          },
          "metadata": {},
          "execution_count": 24
        }
      ]
    },
    {
      "cell_type": "code",
      "source": [
        "l = [10, 20, 5, 4, 22, 32, 5, 9, 11]\n",
        "\n",
        "# sorted() 원본이 변경되지 않는다. -> sorted의 return값이 정렬된 값! -> 많이 사용\n",
        "print(sorted(l))\n",
        "print(l) # l은 그대로!"
      ],
      "metadata": {
        "colab": {
          "base_uri": "https://localhost:8080/"
        },
        "id": "Ha0_YuVuItKs",
        "outputId": "a9939240-6065-4206-9abb-f0b08453fed3"
      },
      "execution_count": 26,
      "outputs": [
        {
          "output_type": "stream",
          "name": "stdout",
          "text": [
            "[4, 5, 5, 9, 10, 11, 20, 22, 32]\n",
            "[10, 20, 5, 4, 22, 32, 5, 9, 11]\n"
          ]
        }
      ]
    },
    {
      "cell_type": "code",
      "source": [
        "# sorted() # key, reverse 옵션을 많이 사용한다.\n",
        "# 알고리즘 문제에서 단골문제이고, sorted 문제는 1문제는 거의 출제\n",
        "# 최댓값, 최솟값\n",
        "# 코딩테스트 관련 사이트 : 코딩도장, 프로그래머스, 백준 ..\n",
        "# 최솟값 문제 예시 : https://codingdojang.com/scode/408?answer_mode=hide 이것도 최솟값!\n",
        "# 정렬 문제 예시 : https://school.programmers.co.kr/learn/courses/30/lessons/120835"
      ],
      "metadata": {
        "id": "fflGSEu-I3cB"
      },
      "execution_count": null,
      "outputs": []
    },
    {
      "cell_type": "code",
      "source": [
        "# 아래와 같은 형식으로 반별 점수가 주어진다고 하겠습니다.\n",
        "\n",
        "반별점수 = [\n",
        "    ['이름', '국어', '영어', '수학'],\n",
        "    ['이름', '국어', '영어', '수학'],\n",
        "    ['이름', '국어', '영어', '수학'],\n",
        "    ['이름', '국어', '영어', '수학'],\n",
        "]"
      ],
      "metadata": {
        "id": "AVDaknXfK_08"
      },
      "execution_count": null,
      "outputs": []
    },
    {
      "cell_type": "code",
      "source": [
        "반별점수 = [\n",
        "    ['홍길동', 30, 55, 22],\n",
        "    ['홍춘향', 55, 60, 73],\n",
        "    ['이철수', 32, 65, 68],\n",
        "    ['이호준', 92, 11, 95],\n",
        "]\n",
        "\n",
        "sorted(반별점수) # 실제 값이나, 0번째 값 기준으로 정렬합니다 -> 이름순으로 정렬이 됨"
      ],
      "metadata": {
        "colab": {
          "base_uri": "https://localhost:8080/"
        },
        "id": "s9vhbSTeLYWD",
        "outputId": "9a2d5a29-36b3-4f2d-d544-a046787832fb"
      },
      "execution_count": 28,
      "outputs": [
        {
          "output_type": "execute_result",
          "data": {
            "text/plain": [
              "[['이철수', 32, 65, 68],\n",
              " ['이호준', 92, 11, 95],\n",
              " ['홍길동', 30, 55, 22],\n",
              " ['홍춘향', 55, 60, 73]]"
            ]
          },
          "metadata": {},
          "execution_count": 28
        }
      ]
    },
    {
      "cell_type": "code",
      "source": [
        " # 수학점수로 정렬\n",
        "\n",
        "def 함수(x):\n",
        "    return x[3] # 수학점수의 인덱스\n",
        "\n",
        "# 가장 중요한 것은 이 key 함수의 return 값대로 정렬한다는 것이다. -> 오름차순\n",
        "sorted(반별점수, key = 함수) # key로 함수를 넣을 수 있다. -> key에 함수명만 작성하면 정렬할 리스트를 확인\n",
        "\n",
        "'''\n",
        "    ['홍길동', 30, 55, 22] => 수학점수 22  -> 1\n",
        "    ['홍춘향', 55, 60, 73] => 73  -> 3\n",
        "    ['이철수', 32, 65, 68] => 68  -> 2\n",
        "    ['이호준', 92, 11, 95] => 95  -> 4\n",
        "\n",
        "    >> 오름차순 정렬 : 22, 68, 73, 95\n",
        "'''"
      ],
      "metadata": {
        "colab": {
          "base_uri": "https://localhost:8080/"
        },
        "id": "foaaDsuWMIqo",
        "outputId": "4a92afbd-9566-4644-d84b-35004f5047b6"
      },
      "execution_count": 30,
      "outputs": [
        {
          "output_type": "execute_result",
          "data": {
            "text/plain": [
              "[['홍길동', 30, 55, 22],\n",
              " ['이철수', 32, 65, 68],\n",
              " ['홍춘향', 55, 60, 73],\n",
              " ['이호준', 92, 11, 95]]"
            ]
          },
          "metadata": {},
          "execution_count": 30
        }
      ]
    },
    {
      "cell_type": "code",
      "source": [
        "# 람다함수로 생성\n",
        "\n",
        "# 수학점수인 반별점수[3]의 값을 받아서 정렬하겠다.\n",
        "sorted(반별점수, key = lambda x: x[3]) # key로 람다를 넣을 수 있다.\n"
      ],
      "metadata": {
        "colab": {
          "base_uri": "https://localhost:8080/"
        },
        "id": "J0ErMWiNMigF",
        "outputId": "df778900-6330-4996-c894-6175ec36e74b"
      },
      "execution_count": 31,
      "outputs": [
        {
          "output_type": "execute_result",
          "data": {
            "text/plain": [
              "[['홍길동', 30, 55, 22],\n",
              " ['이철수', 32, 65, 68],\n",
              " ['홍춘향', 55, 60, 73],\n",
              " ['이호준', 92, 11, 95]]"
            ]
          },
          "metadata": {},
          "execution_count": 31
        }
      ]
    },
    {
      "cell_type": "code",
      "source": [
        "# 람다함수로 생성\n",
        "\n",
        "# 영어점수로 정렬\n",
        "sorted(반별점수, key = lambda x: x[2])"
      ],
      "metadata": {
        "colab": {
          "base_uri": "https://localhost:8080/"
        },
        "id": "py48j1SWNc6b",
        "outputId": "f4bae817-5751-4e6a-aaa1-2d14028921b5"
      },
      "execution_count": 32,
      "outputs": [
        {
          "output_type": "execute_result",
          "data": {
            "text/plain": [
              "[['이호준', 92, 11, 95],\n",
              " ['홍길동', 30, 55, 22],\n",
              " ['홍춘향', 55, 60, 73],\n",
              " ['이철수', 32, 65, 68]]"
            ]
          },
          "metadata": {},
          "execution_count": 32
        }
      ]
    },
    {
      "cell_type": "code",
      "source": [],
      "metadata": {
        "id": "FdF8KhD7NnZf"
      },
      "execution_count": null,
      "outputs": []
    }
  ]
}