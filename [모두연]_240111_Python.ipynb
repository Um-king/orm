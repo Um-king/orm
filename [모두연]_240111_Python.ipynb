{
  "nbformat": 4,
  "nbformat_minor": 0,
  "metadata": {
    "colab": {
      "provenance": [],
      "authorship_tag": "ABX9TyPRKIPQgTt78RopPC6iCCbE",
      "include_colab_link": true
    },
    "kernelspec": {
      "name": "python3",
      "display_name": "Python 3"
    },
    "language_info": {
      "name": "python"
    }
  },
  "cells": [
    {
      "cell_type": "markdown",
      "metadata": {
        "id": "view-in-github",
        "colab_type": "text"
      },
      "source": [
        "<a href=\"https://colab.research.google.com/github/Um-king/orm/blob/main/%5B%EB%AA%A8%EB%91%90%EC%97%B0%5D_240111_Python.ipynb\" target=\"_parent\"><img src=\"https://colab.research.google.com/assets/colab-badge.svg\" alt=\"Open In Colab\"/></a>"
      ]
    },
    {
      "cell_type": "markdown",
      "source": [
        "# 복습(함수)\n",
        "\n",
        "## 함수의 이름은 변수다"
      ],
      "metadata": {
        "id": "7wuUn_wF89f0"
      }
    },
    {
      "cell_type": "code",
      "execution_count": null,
      "metadata": {
        "id": "H7PHWxgbz2jD"
      },
      "outputs": [],
      "source": [
        "# 파이썬 주석의 권장방법은 코드 내에 작성하는 것\n",
        "\n",
        "def hello(): # 여기다가 작성하지 않는다.\n",
        "    '''\n",
        "    주석은 여기다가 작성하는 것(코드 시작하고 바로 아래) -> 파이썬 doc string 방법\n",
        "    '''\n",
        "    pass"
      ]
    },
    {
      "cell_type": "code",
      "source": [
        "def hello():\n",
        "    pass\n",
        "\n",
        "print(type(hello)) # 함수도 class! -> 파이썬의 모든 자료형은 class다\n",
        "# 즉 hello는 function의 인스턴스다. -> function이란 클래스로 만들어진 객체"
      ],
      "metadata": {
        "colab": {
          "base_uri": "https://localhost:8080/"
        },
        "id": "akbTlvOQ5eK-",
        "outputId": "7d659f3a-c1b8-492e-8c95-57c817fc3840"
      },
      "execution_count": 1,
      "outputs": [
        {
          "output_type": "stream",
          "name": "stdout",
          "text": [
            "<class 'function'>\n"
          ]
        }
      ]
    },
    {
      "cell_type": "code",
      "source": [
        "a = 10\n",
        "\n",
        "# a는 무엇일까?\n",
        "# a는 int의 인스턴스! -> int 정수형 클래스로 만들어진 객체이다."
      ],
      "metadata": {
        "id": "vW6SuWg65lX1"
      },
      "execution_count": null,
      "outputs": []
    },
    {
      "cell_type": "code",
      "source": [
        "print('hello world') # print : built-in function"
      ],
      "metadata": {
        "colab": {
          "base_uri": "https://localhost:8080/"
        },
        "id": "imOBZznS5_2y",
        "outputId": "c80e3585-10c8-4e8d-9f8a-42ab77693acd"
      },
      "execution_count": 2,
      "outputs": [
        {
          "output_type": "stream",
          "name": "stdout",
          "text": [
            "hello world\n"
          ]
        }
      ]
    },
    {
      "cell_type": "code",
      "source": [
        "l = [print, print, print] # \"함수의 이름은 변수일뿐!\" -> print는 built-in function  -> 리스트에 함수명을 넣어놓고\n",
        "l[2]('hello world') # 이렇게 호출이 가능하다. l[2] = print, 즉 print('문자열')을 호출한 것"
      ],
      "metadata": {
        "colab": {
          "base_uri": "https://localhost:8080/"
        },
        "id": "kRU2OEjH6aw_",
        "outputId": "78881eae-6579-4fea-9c06-44aed968939e"
      },
      "execution_count": 3,
      "outputs": [
        {
          "output_type": "stream",
          "name": "stdout",
          "text": [
            "hello world\n"
          ]
        }
      ]
    },
    {
      "cell_type": "code",
      "source": [
        "hojun = print # print는 변수이름.. 따라서 print와 hojun이 가리키고 있는 주소는 같다\n",
        "hojun('hello world')\n",
        "\n",
        "print(id(hojun), id(print)) # 가리키는 id값이 같다"
      ],
      "metadata": {
        "colab": {
          "base_uri": "https://localhost:8080/"
        },
        "id": "IVFx4Ikd6dTA",
        "outputId": "39ce7363-09b7-4b87-9182-2107d18f45cf"
      },
      "execution_count": 6,
      "outputs": [
        {
          "output_type": "stream",
          "name": "stdout",
          "text": [
            "hello world\n",
            "132966030087472 132966030087472\n"
          ]
        }
      ]
    },
    {
      "cell_type": "markdown",
      "source": [
        "## lambda의 응용"
      ],
      "metadata": {
        "id": "eXhqFE5qCtyT"
      }
    },
    {
      "cell_type": "markdown",
      "source": [
        "## Top 3 - 1. map에서 사용!"
      ],
      "metadata": {
        "id": "iLFzrffKIZsF"
      }
    },
    {
      "cell_type": "code",
      "source": [
        "# lambda\n",
        "'''\n",
        "lambda 사용 시 클론(:)전 x, y는 받을 값이고 클론뒤는 어떻게 할 것인지 식을 작성\n",
        "'''\n",
        "add = lambda x, y: x + y # add 라는 람다함수를 만든 것 -> x + y 연산의 add 함수"
      ],
      "metadata": {
        "id": "3B4yE8zl653_"
      },
      "execution_count": 7,
      "outputs": []
    },
    {
      "cell_type": "code",
      "source": [
        "x = 10\n",
        "y = 20\n",
        "\n",
        "print(add(x ,y))"
      ],
      "metadata": {
        "colab": {
          "base_uri": "https://localhost:8080/"
        },
        "id": "LyJJLSE77wcI",
        "outputId": "0c888ff3-23ad-44a0-ddc6-5a7600602857"
      },
      "execution_count": 10,
      "outputs": [
        {
          "output_type": "stream",
          "name": "stdout",
          "text": [
            "30\n"
          ]
        }
      ]
    },
    {
      "cell_type": "code",
      "source": [
        "# 삼항연산자\n",
        "\n",
        "x = 10\n",
        "y = True if x % 2 == 0 else False\n",
        "\n",
        "print(y)"
      ],
      "metadata": {
        "colab": {
          "base_uri": "https://localhost:8080/"
        },
        "id": "szNNQr7O7y8_",
        "outputId": "805ee7ea-8e6f-4399-9de7-8f5c6ed9a66b"
      },
      "execution_count": 11,
      "outputs": [
        {
          "output_type": "stream",
          "name": "stdout",
          "text": [
            "True\n"
          ]
        }
      ]
    },
    {
      "cell_type": "code",
      "source": [
        "# 재사용 할 것이라면 함수로 생성한다.\n",
        "\n",
        "def 제곱(x):\n",
        "    return x ** 2\n",
        "\n",
        "# map 사용법 -> (함수나 어떤 조건 식, 값)\n",
        "list(map(제곱, [1, 2, 3, 4])) # 제곱이란 함수에 리스트의 각 값을 넣어 제곱후에 리스트로 형변환"
      ],
      "metadata": {
        "colab": {
          "base_uri": "https://localhost:8080/"
        },
        "id": "SFCLeFuM8rEu",
        "outputId": "b428dc89-c140-4740-bc48-fd56efee329f"
      },
      "execution_count": 12,
      "outputs": [
        {
          "output_type": "execute_result",
          "data": {
            "text/plain": [
              "[1, 4, 9, 16]"
            ]
          },
          "metadata": {},
          "execution_count": 12
        }
      ]
    },
    {
      "cell_type": "code",
      "source": [
        "# 재사용 하지 앟을 것이면 람다함수 사용\n",
        "\n",
        "list(map(lambda x: x**2, [1, 2, 3, 4])) # 제곱함수를 만든 것과 lambda로 표현한 것이 같은 것\n",
        "\n",
        "# 클론앞 x는 어떤값을 넣을지\n",
        "# x에 리스트의 값을 각각 넣고 클론뒤 식을 통해 제곱을 한다.\n",
        "\n",
        "\n",
        "\n",
        "\n",
        "'''\n",
        "둘은 동일한 내용이지만\n",
        "재사용이 필요하다면 함수로 생성하고\n",
        "재사용이 없다면 람다로 생성한다.\n",
        "\n",
        "하지만 람다함수도 수식이 복잡해지면 사용x -> 재사용과 별개로 가독성이 떨어짐 -> 이럴땐 함수로 사용\n",
        "'''"
      ],
      "metadata": {
        "colab": {
          "base_uri": "https://localhost:8080/"
        },
        "id": "0Qmp0hn79xxP",
        "outputId": "537c13d4-2355-48aa-d099-8079492b9fce"
      },
      "execution_count": 13,
      "outputs": [
        {
          "output_type": "execute_result",
          "data": {
            "text/plain": [
              "[1, 4, 9, 16]"
            ]
          },
          "metadata": {},
          "execution_count": 13
        }
      ]
    },
    {
      "cell_type": "code",
      "source": [
        "# 리스트를 map의 값으로 사용하여 각각의 원소를 x값으로 사용하여 값을 호출\n",
        "\n",
        "# 이정도면 가독성을 해친다고 하진 않음\n",
        "list(map(lambda x: True if x % 2 == 0 else False, [1, 2, 3, 4])) # 마스킹문법 -> 해당 값을 True, False로(여기선 출력값을 True, False로 필터링한 것)\n",
        "\n",
        "'''\n",
        "마스킹 : 어떤 값을 특정 값으로 필터링한 것\n",
        "-> 특정 조건에 대해서 해당 값들을 특정 값으로 필터링하여 출력하는 것\n",
        "'''"
      ],
      "metadata": {
        "colab": {
          "base_uri": "https://localhost:8080/"
        },
        "id": "qa6sEjG79-aX",
        "outputId": "e12b97e0-e8bf-4189-d6be-d402299d1b8d"
      },
      "execution_count": 15,
      "outputs": [
        {
          "output_type": "execute_result",
          "data": {
            "text/plain": [
              "[False, True, False, True]"
            ]
          },
          "metadata": {},
          "execution_count": 15
        }
      ]
    },
    {
      "cell_type": "markdown",
      "source": [
        "## Top 3 - 2. filter에서 사용!"
      ],
      "metadata": {
        "id": "4FtbFmnhIcsZ"
      }
    },
    {
      "cell_type": "code",
      "source": [
        "# filter는 True인 것만 출력합니다.\n",
        "\n",
        "list(filter(lambda x: x % 2 == 0, range(100))) # 0~99까지 짝수 호출"
      ],
      "metadata": {
        "id": "W1hCS2Bk-7c3"
      },
      "execution_count": null,
      "outputs": []
    },
    {
      "cell_type": "code",
      "source": [
        "list(filter(lambda x: x % 3 == 0, range(100))) # 0~99까지 3의 배수 호출"
      ],
      "metadata": {
        "id": "krmxOii9FuAB"
      },
      "execution_count": null,
      "outputs": []
    },
    {
      "cell_type": "code",
      "source": [
        "list(filter(lambda x: x > 50, range(100))) # x가 50보다 큰것을 필터링"
      ],
      "metadata": {
        "id": "TmDyP4C6GOr7"
      },
      "execution_count": null,
      "outputs": []
    },
    {
      "cell_type": "code",
      "source": [
        "list(filter(lambda x: x > 50 and x < 80, range(100))) # x가 50보다 크고 80보다 작은 것을 필터링"
      ],
      "metadata": {
        "id": "tn-eWWoSGYsV"
      },
      "execution_count": null,
      "outputs": []
    },
    {
      "cell_type": "code",
      "source": [
        "list(filter(lambda x: True if x % 3 ==0 or x % 5 == 0 else False, range(100))) # 3과 5의 배수 필터링\n",
        "# 3과 5의 배수라면 True에 해당하는 값을 필터링한다. -> True를 반환하는게 아니라 해당 값을 반환"
      ],
      "metadata": {
        "id": "nrv44gSSGeQs"
      },
      "execution_count": null,
      "outputs": []
    },
    {
      "cell_type": "code",
      "source": [
        "list(filter(lambda x: x % 2, range(100))) # 홀수를 출력 -> x % 2로만 조건식을 작성했을때\n",
        "'''\n",
        "[0, 1, 2, 3, 4, 5, 6, 7, 8, 9]\n",
        "lambda x: x % 2 # x==0 일때 -> 0 => False로 평가\n",
        "lambda x: x % 2 # x==1 일때 -> 1 => True로 평가\n",
        "lambda x: x % 2 # x==2 일때 -> 0\n",
        "lambda x: x % 2 # x==3 일때 -> 1\n",
        "lambda x: x % 2 # x==4 일때 -> 0\n",
        "lambda x: x % 2 # x==5 일때 -> 1\n",
        "lambda x: x % 2 # x==6 일때 -> 0\n",
        "'''\n",
        "\n",
        "'''\n",
        "순회 되게 하려면 map, filter를 사용하고 그렇지 않으면 람다를 변수에 할당해서 값을 넣어 호출하면 된다.\n",
        "'''"
      ],
      "metadata": {
        "colab": {
          "base_uri": "https://localhost:8080/"
        },
        "id": "sGnbgWW_G1yI",
        "outputId": "11a43b5c-07ed-4b36-e2ed-9c40d3575015"
      },
      "execution_count": 22,
      "outputs": [
        {
          "output_type": "execute_result",
          "data": {
            "text/plain": [
              "[1,\n",
              " 3,\n",
              " 5,\n",
              " 7,\n",
              " 9,\n",
              " 11,\n",
              " 13,\n",
              " 15,\n",
              " 17,\n",
              " 19,\n",
              " 21,\n",
              " 23,\n",
              " 25,\n",
              " 27,\n",
              " 29,\n",
              " 31,\n",
              " 33,\n",
              " 35,\n",
              " 37,\n",
              " 39,\n",
              " 41,\n",
              " 43,\n",
              " 45,\n",
              " 47,\n",
              " 49,\n",
              " 51,\n",
              " 53,\n",
              " 55,\n",
              " 57,\n",
              " 59,\n",
              " 61,\n",
              " 63,\n",
              " 65,\n",
              " 67,\n",
              " 69,\n",
              " 71,\n",
              " 73,\n",
              " 75,\n",
              " 77,\n",
              " 79,\n",
              " 81,\n",
              " 83,\n",
              " 85,\n",
              " 87,\n",
              " 89,\n",
              " 91,\n",
              " 93,\n",
              " 95,\n",
              " 97,\n",
              " 99]"
            ]
          },
          "metadata": {},
          "execution_count": 22
        }
      ]
    },
    {
      "cell_type": "code",
      "source": [
        "test = lambda i : i % 2 == 0\n",
        "[test(i) for i in range(10)] # 순회 가능한 range의 값들을 람다함수의 test에 하나씩 할당하여 해당 조건이 맞는지 아닌지 확인"
      ],
      "metadata": {
        "colab": {
          "base_uri": "https://localhost:8080/"
        },
        "id": "V9qcnPrIKdD7",
        "outputId": "56dd91bb-60b7-45a7-ef23-a47c6b6c3e70"
      },
      "execution_count": 27,
      "outputs": [
        {
          "output_type": "execute_result",
          "data": {
            "text/plain": [
              "[True, False, True, False, True, False, True, False, True, False]"
            ]
          },
          "metadata": {},
          "execution_count": 27
        }
      ]
    },
    {
      "cell_type": "markdown",
      "source": [
        "## Top 3 - 3 sorted에서 사용!"
      ],
      "metadata": {
        "id": "2znxQfGiIR1I"
      }
    },
    {
      "cell_type": "code",
      "source": [
        "# sorted()\n",
        "\n",
        "l = [10, 20, 5, 4, 22, 32, 5, 9, 11]\n",
        "l.sort() # sort()를 자주 사용하진 않습니다 -> 원본을 변경시키기 때문입니다.\n",
        "l # 원본이 정렬됨"
      ],
      "metadata": {
        "colab": {
          "base_uri": "https://localhost:8080/"
        },
        "id": "nARzOx2WHQA7",
        "outputId": "1fccd135-09a1-404f-b9c2-a51d839d0260"
      },
      "execution_count": 24,
      "outputs": [
        {
          "output_type": "execute_result",
          "data": {
            "text/plain": [
              "[4, 5, 5, 9, 10, 11, 20, 22, 32]"
            ]
          },
          "metadata": {},
          "execution_count": 24
        }
      ]
    },
    {
      "cell_type": "code",
      "source": [
        "l = [10, 20, 5, 4, 22, 32, 5, 9, 11]\n",
        "\n",
        "# sorted() 원본이 변경되지 않는다. -> sorted의 return값이 정렬된 값! -> 많이 사용\n",
        "print(sorted(l))\n",
        "print(l) # l은 그대로!"
      ],
      "metadata": {
        "colab": {
          "base_uri": "https://localhost:8080/"
        },
        "id": "Ha0_YuVuItKs",
        "outputId": "a9939240-6065-4206-9abb-f0b08453fed3"
      },
      "execution_count": 26,
      "outputs": [
        {
          "output_type": "stream",
          "name": "stdout",
          "text": [
            "[4, 5, 5, 9, 10, 11, 20, 22, 32]\n",
            "[10, 20, 5, 4, 22, 32, 5, 9, 11]\n"
          ]
        }
      ]
    },
    {
      "cell_type": "code",
      "source": [
        "# sorted() # key, reverse 옵션을 많이 사용한다.\n",
        "# 알고리즘 문제에서 단골문제이고, sorted 문제는 1문제는 거의 출제\n",
        "# 최댓값, 최솟값\n",
        "# 코딩테스트 관련 사이트 : 코딩도장, 프로그래머스, 백준 ..\n",
        "# 최솟값 문제 예시 : https://codingdojang.com/scode/408?answer_mode=hide 이것도 최솟값!\n",
        "# 정렬 문제 예시 : https://school.programmers.co.kr/learn/courses/30/lessons/120835"
      ],
      "metadata": {
        "id": "fflGSEu-I3cB"
      },
      "execution_count": null,
      "outputs": []
    },
    {
      "cell_type": "code",
      "source": [
        "# 아래와 같은 형식으로 반별 점수가 주어진다고 하겠습니다.\n",
        "\n",
        "반별점수 = [\n",
        "    ['이름', '국어', '영어', '수학'],\n",
        "    ['이름', '국어', '영어', '수학'],\n",
        "    ['이름', '국어', '영어', '수학'],\n",
        "    ['이름', '국어', '영어', '수학'],\n",
        "]"
      ],
      "metadata": {
        "id": "AVDaknXfK_08"
      },
      "execution_count": null,
      "outputs": []
    },
    {
      "cell_type": "code",
      "source": [
        "반별점수 = [\n",
        "    ['홍길동', 30, 55, 22],\n",
        "    ['홍춘향', 55, 60, 73],\n",
        "    ['이철수', 32, 65, 68],\n",
        "    ['이호준', 92, 11, 95],\n",
        "]\n",
        "\n",
        "sorted(반별점수) # 실제 값이나, 0번째 값 기준으로 정렬합니다 -> 이름순으로 정렬이 됨(0번째의 값)"
      ],
      "metadata": {
        "colab": {
          "base_uri": "https://localhost:8080/"
        },
        "id": "s9vhbSTeLYWD",
        "outputId": "9a2d5a29-36b3-4f2d-d544-a046787832fb"
      },
      "execution_count": 28,
      "outputs": [
        {
          "output_type": "execute_result",
          "data": {
            "text/plain": [
              "[['이철수', 32, 65, 68],\n",
              " ['이호준', 92, 11, 95],\n",
              " ['홍길동', 30, 55, 22],\n",
              " ['홍춘향', 55, 60, 73]]"
            ]
          },
          "metadata": {},
          "execution_count": 28
        }
      ]
    },
    {
      "cell_type": "code",
      "source": [
        " # 수학점수로 정렬\n",
        "\n",
        "def 함수(x):\n",
        "    return x[3] # 수학점수의 인덱스\n",
        "\n",
        "# 가장 중요한 것은 이 key 함수의 return 값대로 정렬한다는 것이다. -> 오름차순\n",
        "sorted(반별점수, key = 함수) # key로 함수를 넣을 수 있다. -> key에 함수명만 작성하면 정렬할 리스트를 확인\n",
        "\n",
        "'''\n",
        "    ['홍길동', 30, 55, 22] => 수학점수 22  -> 1\n",
        "    ['홍춘향', 55, 60, 73] => 73  -> 3\n",
        "    ['이철수', 32, 65, 68] => 68  -> 2\n",
        "    ['이호준', 92, 11, 95] => 95  -> 4\n",
        "\n",
        "    >> 오름차순 정렬 : 22, 68, 73, 95\n",
        "'''"
      ],
      "metadata": {
        "colab": {
          "base_uri": "https://localhost:8080/"
        },
        "id": "foaaDsuWMIqo",
        "outputId": "4a92afbd-9566-4644-d84b-35004f5047b6"
      },
      "execution_count": 30,
      "outputs": [
        {
          "output_type": "execute_result",
          "data": {
            "text/plain": [
              "[['홍길동', 30, 55, 22],\n",
              " ['이철수', 32, 65, 68],\n",
              " ['홍춘향', 55, 60, 73],\n",
              " ['이호준', 92, 11, 95]]"
            ]
          },
          "metadata": {},
          "execution_count": 30
        }
      ]
    },
    {
      "cell_type": "code",
      "source": [
        "# 람다함수로 생성\n",
        "\n",
        "# 수학점수인 반별점수[3]의 값을 받아서 정렬하겠다.\n",
        "sorted(반별점수, key = lambda x: x[3]) # key로 람다를 넣을 수 있다.\n"
      ],
      "metadata": {
        "colab": {
          "base_uri": "https://localhost:8080/"
        },
        "id": "J0ErMWiNMigF",
        "outputId": "df778900-6330-4996-c894-6175ec36e74b"
      },
      "execution_count": 31,
      "outputs": [
        {
          "output_type": "execute_result",
          "data": {
            "text/plain": [
              "[['홍길동', 30, 55, 22],\n",
              " ['이철수', 32, 65, 68],\n",
              " ['홍춘향', 55, 60, 73],\n",
              " ['이호준', 92, 11, 95]]"
            ]
          },
          "metadata": {},
          "execution_count": 31
        }
      ]
    },
    {
      "cell_type": "code",
      "source": [
        "# 람다함수로 생성\n",
        "\n",
        "# 영어점수로 정렬\n",
        "sorted(반별점수, key = lambda x: x[2])"
      ],
      "metadata": {
        "colab": {
          "base_uri": "https://localhost:8080/"
        },
        "id": "py48j1SWNc6b",
        "outputId": "f4bae817-5751-4e6a-aaa1-2d14028921b5"
      },
      "execution_count": 32,
      "outputs": [
        {
          "output_type": "execute_result",
          "data": {
            "text/plain": [
              "[['이호준', 92, 11, 95],\n",
              " ['홍길동', 30, 55, 22],\n",
              " ['홍춘향', 55, 60, 73],\n",
              " ['이철수', 32, 65, 68]]"
            ]
          },
          "metadata": {},
          "execution_count": 32
        }
      ]
    },
    {
      "cell_type": "code",
      "source": [
        "# 국, 영, 수, 평균 점수대로 정렬\n",
        "\n",
        "sorted(반별점수, key = lambda x: x[1] + x[2] + x[3]) # 나눌 필요도 없다 -> 어차피 합이 가장 큰 값이 평균이 높을 것 -> 나누는 순간 필요없는 계산 수행이 들어가는 것이고 속도에 반영\n",
        "sorted(반별점수, key = lambda x: x[1] + x[2] + x[3], reverse = True) # 역순(내림차순 -> 평균점수가 높은 순으로)"
      ],
      "metadata": {
        "colab": {
          "base_uri": "https://localhost:8080/"
        },
        "id": "FdF8KhD7NnZf",
        "outputId": "5914f620-90e8-4b5c-ad42-09352b1b2ec2"
      },
      "execution_count": 34,
      "outputs": [
        {
          "output_type": "execute_result",
          "data": {
            "text/plain": [
              "[['이호준', 92, 11, 95],\n",
              " ['홍춘향', 55, 60, 73],\n",
              " ['이철수', 32, 65, 68],\n",
              " ['홍길동', 30, 55, 22]]"
            ]
          },
          "metadata": {},
          "execution_count": 34
        }
      ]
    },
    {
      "cell_type": "code",
      "source": [
        "# 평균점수가 동점자인 경우 수학점수를 우선순위로 두겠다.\n",
        "\n",
        "반별점수 = [\n",
        "    ['홍길동', 50, 50, 50],\n",
        "    ['이철수', 45, 50, 55],\n",
        "    ['홍춘향', 60, 35, 75],\n",
        "    ['이호준', 92, 11, 95]\n",
        "]\n",
        "\n",
        "sorted(반별점수, key = lambda x:(x[1] + x[2] + x[3], x[3]), reverse = True)\n",
        "'''\n",
        "(x[1] + x[2] + x[3], x[3]) => \"튜플로 만들어서 순서대로 가중치를 두도록 설정\"\n",
        "즉 튜플로 만들어서 첫번째 인덱스부터 먼저 판단하고 그 다음 두번째 인덱스의 조건으로 가중치를 판단\n",
        "\n",
        "1. x[1] + x[2] + x[3] -> 더했을때 가장 큰 값으로 정렬\n",
        "2. 1의 값이 같을 경우 x[3]의 값으로 정렬\n",
        "'''"
      ],
      "metadata": {
        "colab": {
          "base_uri": "https://localhost:8080/"
        },
        "id": "jvVXNm-iQ7i_",
        "outputId": "69308154-aec6-4a18-bc91-31d7b466bef0"
      },
      "execution_count": 35,
      "outputs": [
        {
          "output_type": "execute_result",
          "data": {
            "text/plain": [
              "[['이호준', 92, 11, 95],\n",
              " ['홍춘향', 60, 35, 75],\n",
              " ['이철수', 45, 50, 55],\n",
              " ['홍길동', 50, 50, 50]]"
            ]
          },
          "metadata": {},
          "execution_count": 35
        }
      ]
    },
    {
      "cell_type": "code",
      "source": [
        "# 평균점수가 동점자인 경우 수학점수를 우선순위로 두고 수학점수도 동점인 경우 이름순.\n",
        "\n",
        "반별점수 = [\n",
        "    ['홍길동', 51, 50, 50],\n",
        "    ['이철수', 50, 51, 50],\n",
        "    ['홍춘향', 60, 35, 75],\n",
        "    ['이호준', 92, 11, 95]\n",
        "]\n",
        "\n",
        "sorted(반별점수, key = lambda x:(x[1] + x[2] + x[3], x[3], x[0]), reverse = True)"
      ],
      "metadata": {
        "colab": {
          "base_uri": "https://localhost:8080/"
        },
        "id": "Vd4xwEJsTRt7",
        "outputId": "b3611d71-52b6-43a8-c5f1-0e11ccf87c13"
      },
      "execution_count": 37,
      "outputs": [
        {
          "output_type": "execute_result",
          "data": {
            "text/plain": [
              "[['이호준', 92, 11, 95],\n",
              " ['홍춘향', 60, 35, 75],\n",
              " ['홍길동', 51, 50, 50],\n",
              " ['이철수', 50, 51, 50]]"
            ]
          },
          "metadata": {},
          "execution_count": 37
        }
      ]
    },
    {
      "cell_type": "code",
      "source": [
        "# 딕셔너리는 그냥 sorted() 사용할 수 없다 -> 크기를 비교할 수 없어서\n",
        "# 따라서 람다함수를 사용하여 key값 또는 value값을 비교하여 정렬해야한다.\n",
        "\n",
        "우편번호 = [\n",
        "    {\n",
        "        '주소': '경기도 용인시',\n",
        "        '우편번호': 321\n",
        "    },\n",
        "    {\n",
        "        '주소': '경기도 수원시',\n",
        "        '우편번호': 355\n",
        "    },\n",
        "    {\n",
        "        '주소': '제주특별자치도 제주시',\n",
        "        '우편번호': 333\n",
        "    }\n",
        "]\n",
        "\n",
        "# sorted(우편번호) #error, 비교를 할 수 없다!?\n",
        "sorted(우편번호, key=lambda x: x['우편번호']) # 우편번호로 정렬"
      ],
      "metadata": {
        "colab": {
          "base_uri": "https://localhost:8080/"
        },
        "id": "uL3nemQbT_D4",
        "outputId": "304c7ae4-5d26-4e46-ae66-c79bde156086"
      },
      "execution_count": 38,
      "outputs": [
        {
          "output_type": "execute_result",
          "data": {
            "text/plain": [
              "[{'주소': '경기도 용인시', '우편번호': 321},\n",
              " {'주소': '제주특별자치도 제주시', '우편번호': 333},\n",
              " {'주소': '경기도 수원시', '우편번호': 355}]"
            ]
          },
          "metadata": {},
          "execution_count": 38
        }
      ]
    },
    {
      "cell_type": "code",
      "source": [
        "# '다음' 입사문제\n",
        "# 직선에 있는 점의 좌표입니다.\n",
        "# 점과 점사이가 가장 짧은 점의 쌍을 출력하세요\n",
        "\n",
        "s = [1, 3, 4, 8, 13, 17, 20]\n",
        "# 출력값: (3, 4)\n",
        "\n",
        "# 두개씩 묶음\n",
        "list(zip(s, s[1:]))"
      ],
      "metadata": {
        "colab": {
          "base_uri": "https://localhost:8080/"
        },
        "id": "EBVLwsHtU8MB",
        "outputId": "bc08c5f0-8bd0-42f3-a481-8502a7816168"
      },
      "execution_count": 41,
      "outputs": [
        {
          "output_type": "execute_result",
          "data": {
            "text/plain": [
              "[(1, 3), (3, 4), (4, 8), (8, 13), (13, 17), (17, 20)]"
            ]
          },
          "metadata": {},
          "execution_count": 41
        }
      ]
    },
    {
      "cell_type": "code",
      "source": [
        "# 가장 짧은 거리 구하기\n",
        "\n",
        "x = list(zip(s, s[1:]))\n",
        "sorted(x, key = lambda x: x[1] - x[0]) # 가장 짧은 거리 정렬\n",
        "\n",
        "# 정답!\n",
        "sorted(x, key = lambda x: x[1] - x[0])[0] # 가장 짧은 거리의 값 출력 -> 정렬했으니 0번째의 값이 가장 사이의 거리가 짧은 좌표"
      ],
      "metadata": {
        "colab": {
          "base_uri": "https://localhost:8080/"
        },
        "id": "FGjhrFRiX6UN",
        "outputId": "b5daaa88-b8eb-4447-b53e-04b734be40d4"
      },
      "execution_count": 54,
      "outputs": [
        {
          "output_type": "execute_result",
          "data": {
            "text/plain": [
              "(3, 4)"
            ]
          },
          "metadata": {},
          "execution_count": 54
        }
      ]
    },
    {
      "cell_type": "code",
      "source": [
        "# 강사님이 자주 쓰는 함수\n",
        "'''\n",
        "참고\n",
        "'''\n",
        "\n",
        "# 두 값을 쌍으로 묶음\n",
        "print(list(zip('hello', 'world')))\n",
        "\n",
        "# enumerate() : 자주사용x\n",
        "# 순서를 넣을때\n",
        "print(list(enumerate(zip('hello', 'world'), 1)))\n",
        "\n",
        "# 보통은 제너레이터를 만들어서 사용\n",
        "def gen():\n",
        "    i = 1\n",
        "    while True:\n",
        "        yield i\n",
        "        i += 1\n",
        "\n",
        "print(list(zip(gen(), 'hello', 'world'))) # zip에 함수를 포함"
      ],
      "metadata": {
        "colab": {
          "base_uri": "https://localhost:8080/"
        },
        "id": "GWJPIWPFV1SE",
        "outputId": "d5477a69-ab32-4d91-9cd3-a6f50dcc1b5b"
      },
      "execution_count": 47,
      "outputs": [
        {
          "output_type": "stream",
          "name": "stdout",
          "text": [
            "[('h', 'w'), ('e', 'o'), ('l', 'r'), ('l', 'l'), ('o', 'd')]\n",
            "[(1, ('h', 'w')), (2, ('e', 'o')), (3, ('l', 'r')), (4, ('l', 'l')), (5, ('o', 'd'))]\n",
            "[(1, 'h', 'w'), (2, 'e', 'o'), (3, 'l', 'r'), (4, 'l', 'l'), (5, 'o', 'd')]\n"
          ]
        }
      ]
    },
    {
      "cell_type": "code",
      "source": [
        "print(chr(65))  # 정수를 인수로 받아 그에 해당하는 유니코드 문자를 반환\n",
        "print(ord('a')) # 문자를 인수로 받아 그 문자의 유니코드(또는 ASCII 코드) 값을 반환"
      ],
      "metadata": {
        "colab": {
          "base_uri": "https://localhost:8080/"
        },
        "id": "DAk3ZjcPWabG",
        "outputId": "c2f84e76-9bf5-4032-df40-dfc46777f24b"
      },
      "execution_count": 58,
      "outputs": [
        {
          "output_type": "stream",
          "name": "stdout",
          "text": [
            "A\n",
            "97\n"
          ]
        }
      ]
    },
    {
      "cell_type": "code",
      "source": [
        "print(sum([10,20,30]))\n",
        "print(sum([10,20,30], 100)) # 100이라는 초기값 설정"
      ],
      "metadata": {
        "colab": {
          "base_uri": "https://localhost:8080/"
        },
        "id": "rFB4DBT9ZXZF",
        "outputId": "1b952171-eb38-4502-eb14-60a0220de617"
      },
      "execution_count": 62,
      "outputs": [
        {
          "output_type": "stream",
          "name": "stdout",
          "text": [
            "60\n",
            "160\n"
          ]
        }
      ]
    },
    {
      "cell_type": "code",
      "source": [
        "'''\n",
        "이런식으로 계산되는 것\n",
        "1. [] + [1,2,3] -> 빈 리스트에 첫번째 인덱스 값 [1,2,3] 더함\n",
        "2. [1,2,3] + [4,5,6] -> 2에서 더해진 값에 [4,5,6]을 더함\n",
        "'''\n",
        "print(sum([[1,2,3], [4,5,6]], []))"
      ],
      "metadata": {
        "colab": {
          "base_uri": "https://localhost:8080/"
        },
        "id": "PcHKqGLlaDGi",
        "outputId": "3c6b917d-a325-49e3-80e6-90a618cd1625"
      },
      "execution_count": 64,
      "outputs": [
        {
          "output_type": "stream",
          "name": "stdout",
          "text": [
            "[1, 2, 3, 4, 5, 6]\n"
          ]
        }
      ]
    },
    {
      "cell_type": "code",
      "source": [],
      "metadata": {
        "id": "lP0cGUQCbAy_"
      },
      "execution_count": null,
      "outputs": []
    }
  ]
}