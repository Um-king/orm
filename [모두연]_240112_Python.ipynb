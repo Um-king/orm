{
  "nbformat": 4,
  "nbformat_minor": 0,
  "metadata": {
    "colab": {
      "provenance": [],
      "authorship_tag": "ABX9TyN/PFnhOT9JPrO3o/ULGzIu",
      "include_colab_link": true
    },
    "kernelspec": {
      "name": "python3",
      "display_name": "Python 3"
    },
    "language_info": {
      "name": "python"
    }
  },
  "cells": [
    {
      "cell_type": "markdown",
      "metadata": {
        "id": "view-in-github",
        "colab_type": "text"
      },
      "source": [
        "<a href=\"https://colab.research.google.com/github/Um-king/orm/blob/main/%5B%EB%AA%A8%EB%91%90%EC%97%B0%5D_240112_Python.ipynb\" target=\"_parent\"><img src=\"https://colab.research.google.com/assets/colab-badge.svg\" alt=\"Open In Colab\"/></a>"
      ]
    },
    {
      "cell_type": "code",
      "execution_count": 2,
      "metadata": {
        "id": "mbb2th2UZrpk",
        "colab": {
          "base_uri": "https://localhost:8080/"
        },
        "outputId": "8e0949dd-330e-44f4-c160-289e0b0c9c59"
      },
      "outputs": [
        {
          "output_type": "execute_result",
          "data": {
            "text/plain": [
              "3"
            ]
          },
          "metadata": {},
          "execution_count": 2
        }
      ],
      "source": [
        "# 람다 함수를 리스트에 보관할 수 있다.\n",
        "l = [lambda x, y: x + y, lambda x, y: x - y, lambda x, y: x * y, lambda x, y: x / y]\n",
        "l[0](1, 2)"
      ]
    },
    {
      "cell_type": "code",
      "source": [
        "# 파이썬의 정렬은 팀소트를 따라감"
      ],
      "metadata": {
        "id": "XITyHw2VcTyy"
      },
      "execution_count": 2,
      "outputs": []
    },
    {
      "cell_type": "code",
      "source": [
        "# map 예제\n",
        "\n",
        "# 리스트내 모든 원소를 설정한 타입으로 변경\n",
        "\n",
        "list(map(int, ['1', '11', 100, '77'])) # 이런식으로 int라는 정수타입을 넣어서 리스트 내 모든 원소를 정수형으로 바꿀 수 있다."
      ],
      "metadata": {
        "colab": {
          "base_uri": "https://localhost:8080/"
        },
        "id": "oSHVngJTeLuS",
        "outputId": "705a1e8f-d449-486f-c47a-dc7585c165e6"
      },
      "execution_count": 3,
      "outputs": [
        {
          "output_type": "execute_result",
          "data": {
            "text/plain": [
              "[1, 11, 100, 77]"
            ]
          },
          "metadata": {},
          "execution_count": 3
        }
      ]
    },
    {
      "cell_type": "code",
      "source": [
        "list(map(str, [1, '11', 100, '77'])) # map을 사용하여 리스트내 모든 원소를 문자열로 변경"
      ],
      "metadata": {
        "colab": {
          "base_uri": "https://localhost:8080/"
        },
        "id": "s40eW6anel6l",
        "outputId": "630d54fd-df5e-465c-c844-a2a8d5b1cde3"
      },
      "execution_count": 7,
      "outputs": [
        {
          "output_type": "execute_result",
          "data": {
            "text/plain": [
              "['1', '11', '100', '77']"
            ]
          },
          "metadata": {},
          "execution_count": 7
        }
      ]
    },
    {
      "cell_type": "code",
      "source": [
        "list(map(str.isdigit, 'hello123')) # 문자열 내에 숫자가 있는가"
      ],
      "metadata": {
        "colab": {
          "base_uri": "https://localhost:8080/"
        },
        "id": "I2yUksjUeSnD",
        "outputId": "ccf8bdcc-1b67-4ad7-88a3-0284db6a7d48"
      },
      "execution_count": 5,
      "outputs": [
        {
          "output_type": "execute_result",
          "data": {
            "text/plain": [
              "[False, False, False, False, False, True, True, True]"
            ]
          },
          "metadata": {},
          "execution_count": 5
        }
      ]
    },
    {
      "cell_type": "code",
      "source": [
        "# 난이도가 있는 것\n",
        "# 복습 x (중요도는 좀 있어서, 복습 가능하면 복습해보길 권함)\n",
        "\n",
        "# 날짜 데이터와 리스트를 연결\n",
        "\n",
        "요일 = {\n",
        "    0: '일요일',\n",
        "    1: '월요일',\n",
        "    2: '화요일',\n",
        "    3: '수요일',\n",
        "    4: '목요일',\n",
        "    5: '금요일',\n",
        "    6: '토요일',\n",
        "}\n",
        "\n",
        "def 함수(x):                        # 리스트 각각의 원소가 매개변수값으로 들어옴.\n",
        "    return 요일.get(x, '요일 없음') # 없으면 기본값 출력\n",
        "list(map(함수, [1, 5, 6, 3, 4]))    # 리스트내 각각의 원소들이 함수라는 함수에 넣어진다.\n",
        "\n",
        "# -> map(함수, 순회가능한 자료형) -> 순회가능한 자료형에서 각각의 원소들이 \"하나씩\" 함수에 넣어서 식을 계산"
      ],
      "metadata": {
        "colab": {
          "base_uri": "https://localhost:8080/"
        },
        "id": "GSemLbs9eeXv",
        "outputId": "549b9189-2c2e-49fd-fb9e-cd80454722dc"
      },
      "execution_count": 8,
      "outputs": [
        {
          "output_type": "execute_result",
          "data": {
            "text/plain": [
              "['월요일', '금요일', '토요일', '수요일', '목요일']"
            ]
          },
          "metadata": {},
          "execution_count": 8
        }
      ]
    },
    {
      "cell_type": "markdown",
      "source": [
        "# Class 2번째 시간\n",
        "\n",
        "* class 클래스이름 => 인스턴스\n",
        "* class Post => 게시물1, 게시물2, 게시물3...\n",
        "* class Dot => 점1, 점2, 점3...\n",
        "* class Character => Licat(주인공), Lion(빌런), Mob1(몬스터)\n",
        "* class Matrix => 행렬1, 행렬2, 행렬3...\n",
        "* class User => 유저1, 유저2, 유저3...\n",
        "* class Cart(장바구니) => Cart1, Cart2, Cart3...\n",
        "* class Commnet(댓글) => 댓글1, 댓글2, 댓글3...\n",
        "* class Product => 상품1, 상품2, 상품3...\n",
        "* class Class_ => 강의1, 강의2, 강의3...\n",
        "* class Teacher => 강사1, 강사2, 강사3..."
      ],
      "metadata": {
        "id": "GU9CI_9kgZOL"
      }
    },
    {
      "cell_type": "markdown",
      "source": [
        "## Character\n"
      ],
      "metadata": {
        "id": "h5vCt_hFwluo"
      }
    },
    {
      "cell_type": "code",
      "source": [
        "class Character:\n",
        "    '''\n",
        "    클래스가 만들어지면 모든 객체는 해당 클래스 변수를 공유함.\n",
        "    인스턴스 고유영역에서 인스턴스 변수를 선언\n",
        "    클래스 영역에는 보통 인스턴스에 대한 정보를 작성하지x ?\n",
        "    '''\n",
        "    character_count = 0  # 클래스 변수 -> 클래스 변수와 인스턴스 변수 차이 확인!\n",
        "\n",
        "    def __init__(self, name, skill, hp, mp, power, x):\n",
        "        '''\n",
        "        인스턴스 고유 영역\n",
        "        '''\n",
        "        self.name = name\n",
        "        self.skill = skill\n",
        "        self.hp = hp\n",
        "        self.mp = mp\n",
        "        self.power = power\n",
        "        self.x = x\n",
        "        Character.character_count_increase() # 예를 들어 100개 이상 캐릭터를 생성할 수 없게 하려할때 클래스 변수를 사용하여 현재 얼마나 많은 캐릭터가 만들어졌는지 카운터해야한다.\n",
        "\n",
        "    @classmethod # 클래스 변수를 사용하겠다는 뜻 (클래스의 어떤 것을 수정하기 위한 데코레이터 사용한 것)\n",
        "    def character_count_increase(cls):\n",
        "        '''\n",
        "        캐릭터가 만들어질때마다 클래스 변수에 수 증가 -> 클래스 변수는 공유가능!\n",
        "        인스턴스 변수로 생성하는 순간 현재 얼마나 많은 캐릭터가 만들어졌는지 알 수 없다.\n",
        "\n",
        "        캐릭터가 100개 이상 생성되지 않도록 하기 위해 클래스변수 카운터\n",
        "\n",
        "        self는 인스턴스가 들어가고 cls는 클래스가 들어간다..!!(관습인 변수명)\n",
        "        '''\n",
        "        cls.character_count += 1\n",
        "\n",
        "    def move(self):\n",
        "        self.x += 100\n",
        "\n",
        "    def attact(self, next):\n",
        "        next.hp -= self.power\n",
        "\n",
        "\n",
        "주인공1 = Character('licat', '질풍검', 100, 100, 10, 10)\n",
        "몹1 = Character('licat', '질풍검', 100, 100, 10, 10)\n",
        "\n",
        "주인공1.attact(몹1)\n",
        "몹1.hp\n",
        "\n",
        "몹1.character_count\n",
        "\n",
        "# 뭔가 클래스변수를 전역변수로, 인스턴스변수를 지역변수로 생각하면 편할듯?"
      ],
      "metadata": {
        "colab": {
          "base_uri": "https://localhost:8080/"
        },
        "id": "WaUaRGtGgLXk",
        "outputId": "e27a0fae-e824-4cbd-c90a-bb8873869ac6"
      },
      "execution_count": 12,
      "outputs": [
        {
          "output_type": "execute_result",
          "data": {
            "text/plain": [
              "2"
            ]
          },
          "metadata": {},
          "execution_count": 12
        }
      ]
    },
    {
      "cell_type": "code",
      "source": [
        "# 상속\n",
        "\n",
        "class Character:\n",
        "\n",
        "    def __init__(self, name, skill, hp, mp, power, defence):\n",
        "        self.name = name\n",
        "        self.skill = skill\n",
        "        self.hp = hp\n",
        "        self.mp = mp\n",
        "        self.power = power\n",
        "        self.defence = defence\n",
        "\n",
        "    def attack(self, next):\n",
        "        next.hp -= self.power\n",
        "\n",
        "class Item:\n",
        "    엑스칼리버 = {'name': '엑스칼리버', 'power': 1000}\n",
        "    가죽갑옷 = {'name': '가죽갑옷', 'defence': 10}\n",
        "    철갑옷 = {'name': '철갑옷', 'defence': 100}\n",
        "    HP물약 = {'name': 'HP물약', 'hp': 10}\n",
        "    MP물약 = {'name': 'MP물약', 'mp': 10}\n",
        "\n",
        "    def repair(self):\n",
        "        print('수리합니다.')\n",
        "\n",
        "# Hero 클래스는 Character Class와 Item Class를 상속받음\n",
        "class Hero(Character, Item): # 상속 작성 방법 -> Hero는 Character의 속성과 Item의 속성을 가질 수 있다.\n",
        "\n",
        "    def __init__(self, name, skill, hp, mp, power, defence, level = 1):\n",
        "        # self.name = name 이렇게 일일이 하지 않고 아래와 같이 하면 된다.\n",
        "        super().__init__(name, skill, hp, mp, power, defence) # super : 내가 상속한 init을 사용한다.\n",
        "        self.level = level\n",
        "        self.item = []\n",
        "\n",
        "    def add_item(self, item): # 아이템을 획득시 획득아이템을 저장하고 능력치를 상승시킨다\n",
        "        self.item.append(item)\n",
        "        self.power += item.get('power', 0)\n",
        "        self.defence += item.get('defence', 0)\n",
        "        self.hp += item.get('hp', 0)\n",
        "        self.mp += item.get('mp', 0)\n",
        "\n",
        "    def show_item(self):\n",
        "        print(self.item)\n",
        "\n",
        "class Mob(Character):\n",
        "    pass\n",
        "\n",
        "\n",
        "# 주인공은 아이템이 있는데!?, 몹은 아이템이 없다.\n",
        "# 주인공은 Lv이 있는데!?, 몹은 Lv이 없다.\n",
        "# 몹은 Drop하는 아이템이 있는데!?,  주인공은 없다.\n",
        "\n",
        "주인공1 = Hero('licat', '질풍검', 100, 100, 10, 0)\n",
        "몹1 = Mob('licat', '질풍검', 100, 100, 10, 0)\n",
        "\n",
        "주인공1.attack(몹1)\n",
        "print(몹1.hp)\n",
        "주인공1.add_item(Item.엑스칼리버)\n",
        "주인공1.repair()\n",
        "주인공1.show_item()"
      ],
      "metadata": {
        "colab": {
          "base_uri": "https://localhost:8080/"
        },
        "id": "Vw89kgBXww91",
        "outputId": "c255c3da-f7d9-4fe9-9965-ccbd9f493d6e"
      },
      "execution_count": 32,
      "outputs": [
        {
          "output_type": "stream",
          "name": "stdout",
          "text": [
            "90\n",
            "수리합니다.\n",
            "[{'name': '엑스칼리버', 'power': 1000}]\n"
          ]
        }
      ]
    },
    {
      "cell_type": "markdown",
      "source": [
        "## Matrix\n"
      ],
      "metadata": {
        "id": "XOLHtnhXwie5"
      }
    },
    {
      "cell_type": "code",
      "source": [
        "# 행렬 class\n",
        "class Matrix:\n",
        "    def __init__(self, value):\n",
        "        '''\n",
        "        인스턴스 고유 영역 => 인스턴스 변수 생성\n",
        "        '''\n",
        "        self.value = value\n",
        "\n",
        "    def __add__(self, next): # 수학연산에서 변수명은 next, equal 같은 거에서 변수명은 other(관습)\n",
        "        result = []\n",
        "        # for i in range(len(self.value)): # a가 더 길면 오류..\n",
        "        for i, _ in enumerate(self.value): # enumerate는 두개를 반환하는데 두번째 값을 사용하지않겠다고 명시적으로 표현한것 : _로 표현(추출된 값을 사용하지 않겠다.)\n",
        "            result.append(self.value[i] + next.value[i])\n",
        "        return result\n",
        "\n",
        "a = Matrix([1,2,3])\n",
        "b = Matrix([1,2,3])\n",
        "\n",
        "# 파이썬에서 사용하지 않는 변수는 _로 할당합니다.\n",
        "\n",
        "a + b # 이렇게 연산이 되는 이유는 원래 __add__는 매직메서드 -> +연산에 의해 함수가 호출되는것\n",
        "# 우리는 해당 클래스에서 __add__의 원래 기능을 수정한 것.\n",
        "\n",
        "# [1,2,3] + [1,2,3] = [1,2,3,1,2,3] 이지만 우리는 [2,4,6] 이렇게 각 요소의 합을 출력하고 싶다."
      ],
      "metadata": {
        "colab": {
          "base_uri": "https://localhost:8080/"
        },
        "id": "rksTunYPggjq",
        "outputId": "c63712af-6d9c-463c-a2d1-6a96e22ca8c4"
      },
      "execution_count": 13,
      "outputs": [
        {
          "output_type": "execute_result",
          "data": {
            "text/plain": [
              "[2, 4, 6]"
            ]
          },
          "metadata": {},
          "execution_count": 13
        }
      ]
    },
    {
      "cell_type": "code",
      "source": [
        "# 원래 기능: [1,2,3] * 3 = [1,2,3,1,2,3,1,2,3]\n",
        "# 바꿀 기능: [1,2,3] * 3 = [3,6,9]\n",
        "\n",
        "# 행렬 class\n",
        "class Matrix:\n",
        "    def __init__(self, value):\n",
        "        self.value = value\n",
        "\n",
        "    def __add__(self, next):\n",
        "        result = []\n",
        "        for i, _ in enumerate(self.value):\n",
        "            result.append(self.value[i] + next.value[i])\n",
        "        return result\n",
        "\n",
        "    def __mul__(self, next):\n",
        "        for i, _ in enumerate(self.value):\n",
        "            self.value[i] *= next\n",
        "        return self.value\n",
        "\n",
        "    # 문자열 출력형태를 바꾼다\n",
        "    def __str__(self):\n",
        "        return str(self.value)\n",
        "\n",
        "    # 문자열 출력형태를 바꾼다\n",
        "    def __repr__(self):\n",
        "        return str(self.value)\n",
        "\n",
        "a = Matrix([1,2,3])\n",
        "b = Matrix([1,2,3])\n",
        "\n",
        "print(a) # 원래는 메모리 정보가 나오는데 __str__을 바꿈\n",
        "a * 3"
      ],
      "metadata": {
        "colab": {
          "base_uri": "https://localhost:8080/"
        },
        "id": "ufXkLck3ieHe",
        "outputId": "61808c0b-f532-4b99-c263-a86bf4355234"
      },
      "execution_count": 16,
      "outputs": [
        {
          "output_type": "stream",
          "name": "stdout",
          "text": [
            "[1, 2, 3]\n"
          ]
        },
        {
          "output_type": "execute_result",
          "data": {
            "text/plain": [
              "[3, 6, 9]"
            ]
          },
          "metadata": {},
          "execution_count": 16
        }
      ]
    },
    {
      "cell_type": "code",
      "source": [
        "# for i in a: -> 클래스 a는 순회할 수 없음 -> Error\n",
        "# 이터레이터(Iterator) : 반복 가능한, 즉 값을 차례대로 꺼낼 수 있는 객체를 의미"
      ],
      "metadata": {
        "id": "AYLG9DxNoaFB"
      },
      "execution_count": null,
      "outputs": []
    },
    {
      "cell_type": "markdown",
      "source": [
        "# 이터레이터\n",
        "* 반복 가능한, 즉 값을 차례대로 꺼낼 수 있는 객체를 의미"
      ],
      "metadata": {
        "id": "xWsiygkYp9_E"
      }
    },
    {
      "cell_type": "code",
      "source": [
        "# 1. 이터레이터\n",
        "class MyIterator:\n",
        "    def __init__(self, stop): # 최초 생성자\n",
        "        self.currentValue = 0\n",
        "        self.stop = stop\n",
        "\n",
        "    def __iter__(self): # 반복문 사용 시 최초 호출(최초 호출 후 호출 없음)\n",
        "        return self\n",
        "\n",
        "    def __next__(self): # 반복문에서 반복을 진행할때마다 호출 -> 반환값 0부터 4까지 반환\n",
        "        if self.currentValue >= self.stop:\n",
        "            raise StopIteration\n",
        "        result = self.currentValue\n",
        "        self.currentValue += 1\n",
        "        return result\n",
        "\n",
        "my_iterator = MyIterator(5) # 5 = stop -> self.stop = stop\n",
        "\n",
        "# 클래스로 만든 인스턴스 객체를 순회하는 방법\n",
        "for i in my_iterator: # 이렇게 반복가능한 자료형으로 호출할때 __iter__메서드가 호출됨 => 이때 클래스에서 __iter__를 정의했고 __next__함수를 호출하면서 순회를 시작한다.\n",
        "    print(i) # 클래스를 반복가능한 객체로 호출할때 매직메서드는 __iter__가 호출되고 반복이 진행될때마다 __next__가 호출됨\n",
        "\n",
        "# 따라서 클래스에 __iter__ 호출하여 내 자신을 반환하고, 반복문이 진행되면서 다음 반복을 수행할때 __next__ 호출되어 자신의 stop값보다 현재 순회하는 값이 작은 지 판단하면서 순회를 시작한다.\n",
        "# 클래스 생성 시 __init__을 호출하여 stop값을 설정, for문이 최초 호출되면 __iter__를 한번 호출하고 반복문이 수행될때 반복될때마다 __next__가 호출되면서 stop값까지 현재값을 비교하면서 순회를 수행"
      ],
      "metadata": {
        "id": "tMg1RURwp_oh"
      },
      "execution_count": null,
      "outputs": []
    },
    {
      "cell_type": "code",
      "source": [
        "# 2. 왜 두번 출력이 안되었는가\n",
        "\n",
        "class MyIterator:\n",
        "    def __init__(self, stop):\n",
        "        self.currentValue = 0\n",
        "        self.stop = stop\n",
        "\n",
        "    def __iter__(self):\n",
        "        return self\n",
        "\n",
        "    def __next__(self):\n",
        "        if self.currentValue >= self.stop:\n",
        "            raise StopIteration\n",
        "        result = self.currentValue\n",
        "        self.currentValue += 1\n",
        "        return result\n",
        "\n",
        "my_iterator = MyIterator(5)\n",
        "\n",
        "for i in my_iterator: # 처음 수행 완료\n",
        "    print(i)\n",
        "\n",
        "# currentValue 현재값이 초기화 되지 않고 stop값 보다 커서\n",
        "for i in my_iterator: # 여기서 문제 -> 이미 self.currentValue는 5로 변경된 상태 따라서 초기화 없이 사용해서 반복문이 수행이 안됨\n",
        "    print(i)\n",
        "\n",
        "'''\n",
        "순서\n",
        "1. __init__ : 생성자 호출(stop 값 지정, 현재값 초기화)\n",
        "2. __iter__ : 반복문(for) 호출 시 최초 실행\n",
        "3. __next__ : 반복문이 돌때마다 stop 값 만큼 실행\n",
        "\n",
        "파이썬 튜터 참고 : https://pythontutor.com/visualize.html\n",
        "'''"
      ],
      "metadata": {
        "colab": {
          "base_uri": "https://localhost:8080/"
        },
        "id": "FOzGJcklrwPc",
        "outputId": "8fd72cc1-d863-4604-db08-8c0d4cd48dd7"
      },
      "execution_count": 17,
      "outputs": [
        {
          "output_type": "stream",
          "name": "stdout",
          "text": [
            "0\n",
            "1\n",
            "2\n",
            "3\n",
            "4\n"
          ]
        }
      ]
    },
    {
      "cell_type": "code",
      "source": [
        "# 3. 2번 실행할 수 있는 이터레이터\n",
        "\n",
        "class MyIterator:\n",
        "    def __init__(self, stop):\n",
        "        self.currentValue = 0\n",
        "        self.stop = stop\n",
        "\n",
        "    def __iter__(self):\n",
        "        self.currentValue = 0 # n번 수행을 위해 __iter__ 반복문 최초 호출 시 현재값을 초기화 시켜줘야한다\n",
        "        return self\n",
        "\n",
        "    def __next__(self):\n",
        "        if self.currentValue >= self.stop:\n",
        "            raise StopIteration\n",
        "        result = self.currentValue\n",
        "        self.currentValue += 1\n",
        "        return result\n",
        "\n",
        "my_iterator = MyIterator(5)\n",
        "\n",
        "for i in my_iterator:\n",
        "    print(i)\n",
        "\n",
        "for i in my_iterator: # 순회 시작값이 초기화 되었으므로 수행 가능\n",
        "    print(i)"
      ],
      "metadata": {
        "colab": {
          "base_uri": "https://localhost:8080/"
        },
        "id": "pn52vqYor1DV",
        "outputId": "71465ed7-3116-4f51-bf8e-56bdc8c5bd86"
      },
      "execution_count": 18,
      "outputs": [
        {
          "output_type": "stream",
          "name": "stdout",
          "text": [
            "0\n",
            "1\n",
            "2\n",
            "3\n",
            "4\n",
            "0\n",
            "1\n",
            "2\n",
            "3\n",
            "4\n"
          ]
        }
      ]
    },
    {
      "cell_type": "code",
      "source": [
        "a = map(lambda x: x**2, [1,2,3,4])\n",
        "\n",
        "for i in a:\n",
        "    print(i)\n",
        "\n",
        "# 두번 출력x\n",
        "for i in a:\n",
        "    print(i)"
      ],
      "metadata": {
        "colab": {
          "base_uri": "https://localhost:8080/"
        },
        "id": "-7hJsLGusSWP",
        "outputId": "49838886-e9a3-4c8f-ceff-0bc8da255397"
      },
      "execution_count": 20,
      "outputs": [
        {
          "output_type": "stream",
          "name": "stdout",
          "text": [
            "1\n",
            "4\n",
            "9\n",
            "16\n"
          ]
        }
      ]
    },
    {
      "cell_type": "code",
      "source": [
        "# 행렬 class\n",
        "# 순회 기능 추가\n",
        "\n",
        "class Matrix:\n",
        "    def __init__(self, value):\n",
        "        self.index = 0\n",
        "        self.value = value\n",
        "\n",
        "    def __add__(self, next):\n",
        "        result = []\n",
        "        for i, _ in enumerate(self.value):\n",
        "            result.append(self.value[i] + next.value[i])\n",
        "        return result\n",
        "\n",
        "    def __mul__(self, next):\n",
        "        for i, _ in enumerate(self.value):\n",
        "            self.value[i] *= next\n",
        "        return self.value\n",
        "\n",
        "    def __str__(self):\n",
        "        return str(self.value)\n",
        "\n",
        "    def __repr__(self):\n",
        "        return str(self.value)\n",
        "\n",
        "    def __iter__(self):\n",
        "        return self\n",
        "\n",
        "    def __next__(self):\n",
        "        if self.index >= len(self.value):\n",
        "            raise StopIteration # 에러를 발생시킨다\n",
        "\n",
        "        idx = self.index\n",
        "        self.index += 1\n",
        "        return self.value[idx]\n",
        "\n",
        "a = Matrix([1,2,3])\n",
        "\n",
        "for i in a: # 클래스로 만들어진 인스턴스 객체 a를 순회가능하도록 수정하였다.\n",
        "    print(i)\n",
        "\n",
        "# 인스턴스 객체는 순회x -> 순회가능한 객체로 만들기 위해 __iter__와 __next__ 메서드를 정의"
      ],
      "metadata": {
        "colab": {
          "base_uri": "https://localhost:8080/"
        },
        "id": "3VcUqh44snmU",
        "outputId": "0db70934-99bf-4432-bdc5-205b38470491"
      },
      "execution_count": 23,
      "outputs": [
        {
          "output_type": "stream",
          "name": "stdout",
          "text": [
            "1\n",
            "2\n",
            "3\n"
          ]
        }
      ]
    },
    {
      "cell_type": "code",
      "source": [
        "# zip과 map은 한번 만들어지고 순회하면, 한번 사용되었으면 다시 만들어야한다\n",
        "# 다시 초기화 해줘야한다.\n",
        "\n",
        "a = [1, 2, 3]\n",
        "b = ['a', 'b', 'c']\n",
        "\n",
        "z = zip(a, b)\n",
        "print(list(z)) # [(1, 'a'), (2, 'b'), (3, 'c')]\n",
        "\n",
        "# zip 객체는 한 번 사용되었으므로 빈 리스트가 반환됩니다.\n",
        "print(list(z)) # []"
      ],
      "metadata": {
        "colab": {
          "base_uri": "https://localhost:8080/"
        },
        "id": "MlJFZhFAugKQ",
        "outputId": "f1618da9-40b9-40fb-9165-54bfc4339156"
      },
      "execution_count": 24,
      "outputs": [
        {
          "output_type": "stream",
          "name": "stdout",
          "text": [
            "[(1, 'a'), (2, 'b'), (3, 'c')]\n",
            "[]\n"
          ]
        }
      ]
    },
    {
      "cell_type": "code",
      "source": [
        "li = [1, 2, 3]\n",
        "st = ['a', 'b', 'c']\n",
        "z = zip(li, st)\n",
        "\n",
        "for i in z:\n",
        "    print(i)\n",
        "\n",
        "for i in z:\n",
        "    print(i)"
      ],
      "metadata": {
        "colab": {
          "base_uri": "https://localhost:8080/"
        },
        "id": "V64skfbCwHda",
        "outputId": "ea530a79-d516-4371-c7a1-5b6c2860011e"
      },
      "execution_count": 25,
      "outputs": [
        {
          "output_type": "stream",
          "name": "stdout",
          "text": [
            "(1, 'a')\n",
            "(2, 'b')\n",
            "(3, 'c')\n"
          ]
        }
      ]
    },
    {
      "cell_type": "code",
      "source": [
        "li = [1, 2, 3]\n",
        "st = ['a', 'b', 'c']\n",
        "i = iter(zip(li, st)) # __iter__ 를 호출\n",
        "next(i) # __next__를 호출\n",
        "next(i)\n",
        "next(i)\n",
        "next(i) # StopIteration\n",
        "\n",
        "# 대표적으로 zip, map, reversed, filter 가 동일하게 작동되며 `sorted`는 재순회 할 수 있습니다\n",
        "# zip, map, reversed, filter: 재순회 불가능"
      ],
      "metadata": {
        "id": "UjXX8zPGwH5l"
      },
      "execution_count": null,
      "outputs": []
    },
    {
      "cell_type": "markdown",
      "source": [
        "# Class 이론"
      ],
      "metadata": {
        "id": "R8KDOfqDHFbH"
      }
    },
    {
      "cell_type": "code",
      "source": [
        "# 상속\n",
        "# 클래스와 클래스 사이는 두줄 띄우는 것이다.\n",
        "\n",
        "class Car(object):\n",
        "    maxSpeed = 300\n",
        "    maxPeople = 5\n",
        "\n",
        "    def move(self):\n",
        "        print('출발하였습니다.')\n",
        "\n",
        "    def stop(self):\n",
        "        print('멈췄습니다.')\n",
        "\n",
        "\n",
        "class HybridCar(Car): # HybridCar가 Car를 상속받았다. -> Car의 모든것(속성, 메서드)을 사용할 수 있다.\n",
        "    battery = 1000\n",
        "    batteryKM = 300\n",
        "\n",
        "\n",
        "class ElectricCar(HybridCar):\n",
        "    battery = 2000\n",
        "    batteryKM = 600\n",
        "\n",
        "\n",
        "modelx = HybridCar()\n",
        "print(modelx.maxSpeed) # Car의 속성 사용\n",
        "modelx.move()          # Car의 메서드 사용\n",
        "\n",
        "electricCarModely = ElectricCar()\n",
        "print(electricCarModely.maxSpeed)\n",
        "print(electricCarModely.battery)\n",
        "electricCarModely.move()"
      ],
      "metadata": {
        "colab": {
          "base_uri": "https://localhost:8080/"
        },
        "id": "UZOptpIzwcwE",
        "outputId": "fcf2a581-3b2e-4d17-99e1-7298dc39df11"
      },
      "execution_count": 33,
      "outputs": [
        {
          "output_type": "stream",
          "name": "stdout",
          "text": [
            "300\n",
            "출발하였습니다.\n",
            "300\n",
            "2000\n",
            "출발하였습니다.\n"
          ]
        }
      ]
    },
    {
      "cell_type": "code",
      "source": [
        "# 다중 상속\n",
        "# 기본 구조\n",
        "\n",
        "class Parent1:\n",
        "    pass\n",
        "\n",
        "\n",
        "class Parent2:\n",
        "    pass\n",
        "\n",
        "\n",
        "class Child(Parent1, Parent2):\n",
        "    pass"
      ],
      "metadata": {
        "id": "-N6gXTrlHy2H"
      },
      "execution_count": null,
      "outputs": []
    },
    {
      "cell_type": "code",
      "source": [
        "# 다중상속\n",
        "class A:\n",
        "    def method(self):\n",
        "        print(\"A method\")\n",
        "\n",
        "class B(A):\n",
        "    def method(self):\n",
        "        print(\"B method\")\n",
        "\n",
        "class C(A):\n",
        "    def method(self):\n",
        "        print(\"C method\")\n",
        "\n",
        "class D(B, C):\n",
        "    pass\n",
        "\n",
        "# 다중 상속이 되었을 때 순서 -> 어떤걸 출력하느냐\n",
        "obj = D()\n",
        "print(D.mro()) # 출력: [<class '__main__.D'>, <class '__main__.B'>, <class '__main__.C'>, <class '__main__.A'>, <class 'object'>]\n",
        "obj.method()  # 출력: B method => B의 method를 출력 => 상속의 순서"
      ],
      "metadata": {
        "id": "wUBOzg9YIY_N"
      },
      "execution_count": null,
      "outputs": []
    },
    {
      "cell_type": "code",
      "source": [
        "# 부모의 메서드를 재구현 ==> \"메서드 오버라이딩\"\n",
        "\n",
        "class A:\n",
        "    def hello(self):\n",
        "        print('hello world A')\n",
        "\n",
        "\n",
        "class B(A):\n",
        "    def hello(self):\n",
        "        print('hello world B')\n",
        "\n",
        "\n",
        "class C(A):\n",
        "    pass\n",
        "\n",
        "\n",
        "a = A()\n",
        "b = B()\n",
        "c = C()\n",
        "\n",
        "a.hello()\n",
        "b.hello()\n",
        "c.hello() # C는 hello 메서드가 없지만 A를 상속받았으니 A의 hello 메서드를 사용한다 ==> 메서드 오버라이딩"
      ],
      "metadata": {
        "colab": {
          "base_uri": "https://localhost:8080/"
        },
        "id": "eC6JrtOEIjqa",
        "outputId": "f88883cf-4fe0-4e51-de05-ec0b856b3d5f"
      },
      "execution_count": 37,
      "outputs": [
        {
          "output_type": "stream",
          "name": "stdout",
          "text": [
            "hello world A\n",
            "hello world B\n",
            "hello world A\n"
          ]
        }
      ]
    },
    {
      "cell_type": "code",
      "source": [
        "# 파이썬은 오버로딩이 없다.\n",
        "'''\n",
        "오버로딩이 무엇인가\n",
        "Java나 C#은 아규먼트의 갯수에 따라 호출되는 함수를 다르게 할 수 있다.\n",
        "즉 동일 함수명이여도 매개변수의 갯수가 다르면 다른 함수\n",
        "하지만 파이썬에서는 이를 허용하지 않는다.\n",
        "'''\n",
        "\n",
        "class A:\n",
        "    def hello(self, a):\n",
        "        return a ** 2\n",
        "\n",
        "    def hello(self, a, b): # 파이썬에서 허용하지 않은 문법 -> 메서드명이 동일 -> 파이썬은 오버로딩이 없다!\n",
        "        return a + b"
      ],
      "metadata": {
        "id": "bon3ogfEI5no"
      },
      "execution_count": null,
      "outputs": []
    },
    {
      "cell_type": "code",
      "source": [
        "# 클래스를 사용하는 이유\n",
        "# 1. 속도 : 사용하는 변수외 메서드를 최소화하여 메모리 구조를 최적화하고, 구조적으로 빠른 속도를 실현하게 구현할 수 있습니다.\n",
        "# 2. 재사용성 : 한 번 클래스를 작성하면, 그 클래스를 기반으로 여러 객체를 만들 수 있습니다\n",
        "# 3. 기본자료형으로 할수 있는 한계가 있다 -> 데이터양이나 확장성등의 이유.. 데이터 양이 많으면 많을 수록 기본자료형 list, dic.. 은 한계가 존재한다."
      ],
      "metadata": {
        "id": "NfQjbomRKCTE"
      },
      "execution_count": null,
      "outputs": []
    },
    {
      "cell_type": "code",
      "source": [
        "# 클래스 대안 자료 형태\n",
        "# 딕서녀리\n",
        "hero = {\n",
        "    'name': 'Jun',\n",
        "    'hp': 100,\n",
        "    'mp': 100,\n",
        "    'power': 30,\n",
        "    'drop_rate': 0,\n",
        "    'attack': lambda: f'{hero[\"power\"]}에 파워로 공격하였습니다.',\n",
        "}\n",
        "\n",
        "print(hero['hp'])\n",
        "print(hero['attack']())  # 출력: 30에 파워로 공격하였습니다."
      ],
      "metadata": {
        "id": "GCaFd0O2K3-2"
      },
      "execution_count": null,
      "outputs": []
    },
    {
      "cell_type": "code",
      "source": [
        "# 클래스 대안 자료 형태\n",
        "# 클로저\n",
        "def create_chracter(name, hp, mp, power):\n",
        "    data = {\n",
        "        'name': name,\n",
        "        'hp': hp,\n",
        "        'mp': mp,\n",
        "        'power': power,\n",
        "    }\n",
        "\n",
        "    def get_data(key):\n",
        "        return data[key]\n",
        "\n",
        "    def attack():\n",
        "        return f'{get_data(\"power\")}에 파워로 공격하였습니다.'\n",
        "\n",
        "    return {'attack': attack}\n",
        "\n",
        "hero = create_chracter('Jun', 100, 100, 30)\n",
        "print(hero['attack']())  # 출력: 30에 파워로 공격하였습니다."
      ],
      "metadata": {
        "id": "UqJJ0kI6KvkX"
      },
      "execution_count": null,
      "outputs": []
    },
    {
      "cell_type": "code",
      "source": [
        "# 매직 메서드\n",
        "# 기본적으로 내장하고 있는 특별 메서드\n",
        "# 간단하게 수정할 수 있다고 해서 매직 매서드라고 부릅니다. 혹은 더블 언더바(__)를 2개 쓰고 있는 점에서 던더(dunder) 메서드라고도 부릅니다."
      ],
      "metadata": {
        "id": "lCTfoOvZL6C4"
      },
      "execution_count": null,
      "outputs": []
    },
    {
      "cell_type": "markdown",
      "source": [
        "## 매직메서드\n",
        "### 2.1. **생성자와 소멸자**\n",
        "\n",
        "- `__init__(self, ...)`: 객체가 생성될 때 호출되는 생성자 메서드.\n",
        "\n",
        "### 2.2. **문자열 표현**\n",
        "\n",
        "- `__str__(self)`: `str()` 함수 출력 결과와 같습니다. 이는 print로 출력되는 결과와도 동일합니다. 이 출력은 \"공식적이지 않은\" 또는 \"좋게 보이는\" 문자열 표현을 반환합니다. 객체의 공식적인 표현은 repr입니다.\n",
        "- `__repr__(self)`: `repr()` 함수에 출력 결과와 같습니다. 객체의 \"공식적인\" 문자열 표현을 반환합니다.\n",
        "\n",
        "### 2.3. **산술 연산**\n",
        "\n",
        "- `__add__(self, other)`: 덧셈 연산\n",
        "- `__mul__(self, other)`: 곱셈 연산\n",
        "\n",
        "### 2.4. **비교 연산**\n",
        "\n",
        "- `__eq__(self, other)`: 동등 연산 (==)\n",
        "- `__ne__(self, other)`: 부등 연산 (!=)\n",
        "- `__lt__(self, other)`: \"작다\" 연산 (<)\n",
        "- `__le__(self, other)`: \"작거나 같다\" 연산 (<=)\n",
        "- `__gt__(self, other)`: \"크다\" 연산 (>)\n",
        "- `__ge__(self, other)`: \"크거나 같다\" 연산 (>=)\n",
        "\n",
        "### 2.5. **컨테이너 타입 연산**\n",
        "\n",
        "- `__len__(self)`: `len()` 함수의 출력 결과와 같습니다.\n",
        "- `__getitem__(self, key)`: 인덱싱 연산 (obj[key])의 출력 결과와 같습니다.\n",
        "\n",
        "### 2.6. **호출 가능 객체**\n",
        "\n",
        "- `__call__(self, ...)`: 객체를 함수처럼 호출할 때 사용됩니다."
      ],
      "metadata": {
        "id": "XwA0cOlLMWZH"
      }
    },
    {
      "cell_type": "code",
      "source": [
        "# counter() -> 이런식으로 괄호()는 매직메서드 __call__ 이다.\n",
        "\n",
        "class Counter:\n",
        "    def __init__(self):\n",
        "        self.count = 0\n",
        "\n",
        "    def __call__(self):\n",
        "        self.count += 10\n",
        "        print(f'현재 count 값: {self.count}')\n",
        "\n",
        "    def __getitem__(self, key):\n",
        "        return key*10\n",
        "\n",
        "# 객체 생성\n",
        "counter = Counter()\n",
        "\n",
        "# 객체를 직접 호출합니다. 이때 __call__ 메서드가 실행됩니다.\n",
        "counter()  # 출력: 현재 count 값: 10\n",
        "counter()  # 출력: 현재 count 값: 20\n",
        "counter()  # 출력: 현재 count 값: 30\n",
        "\n",
        "counter[5] # 출력: 4\n",
        "\n",
        "# +는 __add__인거처럼 ()는 __call__ 매직 메서드\n",
        "# []는 __getitem__"
      ],
      "metadata": {
        "id": "U9IYd0L9NI_g"
      },
      "execution_count": null,
      "outputs": []
    },
    {
      "cell_type": "markdown",
      "source": [],
      "metadata": {
        "id": "fxyeOKYeNffG"
      }
    }
  ]
}