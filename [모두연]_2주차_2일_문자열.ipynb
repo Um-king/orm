{
  "nbformat": 4,
  "nbformat_minor": 0,
  "metadata": {
    "colab": {
      "provenance": [],
      "authorship_tag": "ABX9TyM/RyVDkJ6B3cM2OfTQ0+Xf",
      "include_colab_link": true
    },
    "kernelspec": {
      "name": "python3",
      "display_name": "Python 3"
    },
    "language_info": {
      "name": "python"
    }
  },
  "cells": [
    {
      "cell_type": "markdown",
      "metadata": {
        "id": "view-in-github",
        "colab_type": "text"
      },
      "source": [
        "<a href=\"https://colab.research.google.com/github/Um-king/orm/blob/main/%5B%EB%AA%A8%EB%91%90%EC%97%B0%5D_2%EC%A3%BC%EC%B0%A8_2%EC%9D%BC_%EB%AC%B8%EC%9E%90%EC%97%B4.ipynb\" target=\"_parent\"><img src=\"https://colab.research.google.com/assets/colab-badge.svg\" alt=\"Open In Colab\"/></a>"
      ]
    },
    {
      "cell_type": "markdown",
      "source": [
        "# 1. 문자열"
      ],
      "metadata": {
        "id": "ERAd7x6EyKlJ"
      }
    },
    {
      "cell_type": "code",
      "source": [
        "# 1.1 문자열 기초\n",
        "\n",
        "x = 'hello'  # 작은 따옴표 사용\n",
        "y = \"python\" # 큰 따옴표 사용\n",
        "\n",
        "print(x, y)"
      ],
      "metadata": {
        "colab": {
          "base_uri": "https://localhost:8080/"
        },
        "id": "AOE7NPwTyMun",
        "outputId": "2d250b6e-2d23-4f8b-dcec-0aee755664fa"
      },
      "execution_count": 1,
      "outputs": [
        {
          "output_type": "stream",
          "name": "stdout",
          "text": [
            "hello python\n"
          ]
        }
      ]
    },
    {
      "cell_type": "code",
      "source": [
        "print(type(x), type(y))"
      ],
      "metadata": {
        "colab": {
          "base_uri": "https://localhost:8080/"
        },
        "id": "NyY3X6GiyUR_",
        "outputId": "618a3874-5c0b-4b02-9f87-bf51284a6dbc"
      },
      "execution_count": 2,
      "outputs": [
        {
          "output_type": "stream",
          "name": "stdout",
          "text": [
            "<class 'str'> <class 'str'>\n"
          ]
        }
      ]
    },
    {
      "cell_type": "code",
      "source": [
        "# 여러줄의 문자열을 담는 변수\n",
        "\n",
        "i = '''\n",
        "안녕하세요.\n",
        "저는 엄영철입니다.\n",
        "잘 부탁드려요.\n",
        "'''\n",
        "\n",
        "print(i)"
      ],
      "metadata": {
        "colab": {
          "base_uri": "https://localhost:8080/"
        },
        "id": "4gJ_7ADkya7I",
        "outputId": "8f2fe1df-0d41-47ba-fd2c-4ebbeaaf5407"
      },
      "execution_count": 3,
      "outputs": [
        {
          "output_type": "stream",
          "name": "stdout",
          "text": [
            "\n",
            "안녕하세요. \n",
            "저는 엄영철입니다.\n",
            "잘 부탁드려요.\n",
            "\n"
          ]
        }
      ]
    },
    {
      "cell_type": "code",
      "source": [
        "# 1.2 문자열 덧셈, 곱셈\n",
        "\n",
        "# 문자열의 덧셈\n",
        "\n",
        "x = 'hello'\n",
        "y = 'world'\n",
        "print(x + y) # 출력 : helloworld\n",
        "\n",
        "x = '10'\n",
        "y = '20'\n",
        "print(x + y) # 출력 : 1020\n",
        "\n",
        "# 문자열의 곱셈\n",
        "\n",
        "print(x * 3)\n"
      ],
      "metadata": {
        "colab": {
          "base_uri": "https://localhost:8080/"
        },
        "id": "pXXo58FSykz5",
        "outputId": "3a7ddcaa-afcc-4922-bdc5-c9fa69eec222"
      },
      "execution_count": 6,
      "outputs": [
        {
          "output_type": "stream",
          "name": "stdout",
          "text": [
            "helloworld\n",
            "1020\n",
            "101010\n"
          ]
        }
      ]
    },
    {
      "cell_type": "code",
      "source": [
        "# 1.3 문자열 인덱싱\n",
        "\n",
        "# 인덱스 0번째는 처음, 인덱스 -1번째는 마지막\n",
        "   # 012  3 456\n",
        "s = '위니브 월드!'\n",
        "print(s[0]) # 출력 : '위'\n",
        "print(s[-1]) # 출력 : '!'\n",
        "print(s[6]) # 출력 : '!'\n"
      ],
      "metadata": {
        "colab": {
          "base_uri": "https://localhost:8080/"
        },
        "id": "juoPljo22QRx",
        "outputId": "5a7bc29b-ccad-4b57-bd41-0a0271693ec3"
      },
      "execution_count": 8,
      "outputs": [
        {
          "output_type": "stream",
          "name": "stdout",
          "text": [
            "위\n",
            "!\n",
            "!\n"
          ]
        }
      ]
    },
    {
      "cell_type": "code",
      "source": [
        "print(s[7]) # 범위를 벗어나면 Error"
      ],
      "metadata": {
        "id": "o8htIfZr26RX"
      },
      "execution_count": null,
      "outputs": []
    },
    {
      "cell_type": "code",
      "source": [
        "# 1.4 문자열 슬라이싱\n",
        "\n",
        "s = \"위니브 월드 외곽\"\n",
        "\n",
        "# 형태 [start:stop:step]\n",
        "print(s[0:6]) # 0~5까지의 인덱스 값을 호출 (stop 값의 -1까지 가져옴)\n",
        "\n",
        "print(s[0:])  # 생략 시 처음 or 마지막 값까지 호출\n",
        "print(s[:6])\n",
        "\n",
        "print(s[0:6:2]) # 2만큼 건너뛰며 출력\n"
      ],
      "metadata": {
        "colab": {
          "base_uri": "https://localhost:8080/"
        },
        "id": "Os7IHpOR4cwv",
        "outputId": "141dec5e-17a4-4931-ad62-cab7fa881bda"
      },
      "execution_count": 12,
      "outputs": [
        {
          "output_type": "stream",
          "name": "stdout",
          "text": [
            "위니브 월드\n",
            "위니브 월드 외곽\n",
            "위니브 월드\n",
            "위브월\n"
          ]
        }
      ]
    },
    {
      "cell_type": "code",
      "source": [
        "s = 'weniv CEO licat'\n",
        "\n",
        "# 시작점을 설정하고 끝까지 출력 (stop 생략)\n",
        "print(s[6:]) # 출력 : CEO licat\n",
        "\n",
        "# 전체 출력(start, stop 생략)\n",
        "print(s[:]) # 출력 : weniv CEO licat\n",
        "\n",
        "# 거꾸로 출력(step 값 = -1)\n",
        "print(s[::-1]) # 출력 : tacil OEC vinew\n",
        "\n",
        "# 2칸씩 출력(step 값 = 2)\n",
        "print(s[::2]) # 출력 : wnvCOlct"
      ],
      "metadata": {
        "colab": {
          "base_uri": "https://localhost:8080/"
        },
        "id": "B-9TW5MR4i4Z",
        "outputId": "cc93321b-8a70-4f92-8056-b3d27a07992b"
      },
      "execution_count": 13,
      "outputs": [
        {
          "output_type": "stream",
          "name": "stdout",
          "text": [
            "CEO licat\n",
            "weniv CEO licat\n",
            "tacil OEC vinew\n",
            "wnvCOlct\n"
          ]
        }
      ]
    },
    {
      "cell_type": "code",
      "source": [
        "# 문자열 인덱싱은 인덱스가 글자의 범위를 넘어가면 error를 출력하지만 슬라이싱은 범위가 넘어가도 error 출력x\n",
        "\n",
        "s = 'weniv CEO licat'\n",
        "print(s[10:100]) # 100의 인덱스값을 넣어도 슬라이싱은 오류x"
      ],
      "metadata": {
        "colab": {
          "base_uri": "https://localhost:8080/"
        },
        "id": "GUK46vDT5vcb",
        "outputId": "e38e7ff1-34e6-40d8-aa98-2370026619e0"
      },
      "execution_count": 14,
      "outputs": [
        {
          "output_type": "stream",
          "name": "stdout",
          "text": [
            "licat\n"
          ]
        }
      ]
    },
    {
      "cell_type": "code",
      "source": [
        "# 1.4 슬라이스 실습\n",
        "# >> 출력은 weniv_licat만 나오게\n",
        "\n",
        "s = 'weniv_licat.png'\n",
        "print(s[0:11])\n",
        "print(s[:-4])"
      ],
      "metadata": {
        "colab": {
          "base_uri": "https://localhost:8080/"
        },
        "id": "y8Ewi7nT6KQD",
        "outputId": "33f82782-e0aa-45a0-c119-a99762fb7134"
      },
      "execution_count": 17,
      "outputs": [
        {
          "output_type": "stream",
          "name": "stdout",
          "text": [
            "weniv_licat\n",
            "weniv_licat\n"
          ]
        }
      ]
    },
    {
      "cell_type": "code",
      "source": [
        "# 1.5 슬라이스 실습\n",
        "# >> 출력은 png만 나오게\n",
        "\n",
        "s = 'weniv_licat.png'\n",
        "print(s[12:])\n",
        "print(s[-3:])"
      ],
      "metadata": {
        "colab": {
          "base_uri": "https://localhost:8080/"
        },
        "id": "jsKiWOvS6nyN",
        "outputId": "a5f0499c-fdb0-4b0b-ca6b-21298aca1ea6"
      },
      "execution_count": 20,
      "outputs": [
        {
          "output_type": "stream",
          "name": "stdout",
          "text": [
            "png\n",
            "png\n"
          ]
        }
      ]
    },
    {
      "cell_type": "code",
      "source": [
        "# 슬라이싱을 사용하여 값복사 가능\n",
        "# 하지만 id는 다름(서로 다른 객체)\n",
        "# 정수 -5~256은 속도 개선을 위해 미리 파이썬에서는 설정해 놓은 것\n",
        "\n",
        "s = [1, 2, 3]\n",
        "ss = s[:]\n",
        "\n",
        "print(id(s), id(ss))"
      ],
      "metadata": {
        "colab": {
          "base_uri": "https://localhost:8080/"
        },
        "id": "CpUn6nq17PbA",
        "outputId": "aee3c168-5871-4cb9-e1c2-b0360a5f28d8"
      },
      "execution_count": 21,
      "outputs": [
        {
          "output_type": "stream",
          "name": "stdout",
          "text": [
            "132033658123904 132033658120768\n"
          ]
        }
      ]
    },
    {
      "cell_type": "code",
      "source": [
        "# 1.6 메서드 1: 대문자, 소문자\n",
        "\n",
        "s = 'weniv CEO licat'\n",
        "print(s.upper())\n",
        "print(s.lower())"
      ],
      "metadata": {
        "colab": {
          "base_uri": "https://localhost:8080/"
        },
        "id": "kAEUpg9V8o4H",
        "outputId": "6af2d41b-fad4-4187-96ad-749334966f40"
      },
      "execution_count": 22,
      "outputs": [
        {
          "output_type": "stream",
          "name": "stdout",
          "text": [
            "WENIV CEO LICAT\n",
            "weniv ceo licat\n"
          ]
        }
      ]
    },
    {
      "cell_type": "code",
      "source": [
        "# 1.7 메서드 2: find, index\n",
        "\n",
        "# 문자열을 찾아주는 method\n",
        "s = 'weniv CEO licat'\n",
        "\n",
        "# 해당하는 위치의 인덱스값 출력\n",
        "print(s.find(\"CEO\"))\n",
        "print(s.index(\"CEO\"))"
      ],
      "metadata": {
        "colab": {
          "base_uri": "https://localhost:8080/"
        },
        "id": "eDK4UO-h8ycc",
        "outputId": "4ef96ef8-cb8c-40bc-ffd3-9ac751a1a800"
      },
      "execution_count": 24,
      "outputs": [
        {
          "output_type": "stream",
          "name": "stdout",
          "text": [
            "6\n",
            "6\n"
          ]
        }
      ]
    },
    {
      "cell_type": "code",
      "source": [
        "s.find('CTO') # 문자열이 없다면 -1을 반환"
      ],
      "metadata": {
        "colab": {
          "base_uri": "https://localhost:8080/"
        },
        "id": "IK4rQPad9RJB",
        "outputId": "33afb5f3-d1ec-4013-9178-0671ba123254"
      },
      "execution_count": 25,
      "outputs": [
        {
          "output_type": "execute_result",
          "data": {
            "text/plain": [
              "-1"
            ]
          },
          "metadata": {},
          "execution_count": 25
        }
      ]
    },
    {
      "cell_type": "code",
      "source": [
        "s.index('CTO') # 문자열이 없다면 error를 반환"
      ],
      "metadata": {
        "colab": {
          "base_uri": "https://localhost:8080/",
          "height": 182
        },
        "id": "toFAd12q9a5V",
        "outputId": "35d66422-0674-4409-bf05-fc2015a3da40"
      },
      "execution_count": 26,
      "outputs": [
        {
          "output_type": "error",
          "ename": "ValueError",
          "evalue": "ignored",
          "traceback": [
            "\u001b[0;31m---------------------------------------------------------------------------\u001b[0m",
            "\u001b[0;31mValueError\u001b[0m                                Traceback (most recent call last)",
            "\u001b[0;32m<ipython-input-26-45e48edaeaab>\u001b[0m in \u001b[0;36m<cell line: 1>\u001b[0;34m()\u001b[0m\n\u001b[0;32m----> 1\u001b[0;31m \u001b[0ms\u001b[0m\u001b[0;34m.\u001b[0m\u001b[0mindex\u001b[0m\u001b[0;34m(\u001b[0m\u001b[0;34m'CTO'\u001b[0m\u001b[0;34m)\u001b[0m \u001b[0;31m# 문자열이 없다면 error를 반환\u001b[0m\u001b[0;34m\u001b[0m\u001b[0;34m\u001b[0m\u001b[0m\n\u001b[0m",
            "\u001b[0;31mValueError\u001b[0m: substring not found"
          ]
        }
      ]
    },
    {
      "cell_type": "code",
      "source": [
        "# 1.8 메서드 3: count\n",
        "\n",
        "s = 'weniv CEO licat'\n",
        "s.count('c') # 문자열이나 숫자를 셀 때"
      ],
      "metadata": {
        "colab": {
          "base_uri": "https://localhost:8080/"
        },
        "id": "Fx0x-sXX9eAW",
        "outputId": "59b6439c-ef4e-472d-dc68-e7294670700f"
      },
      "execution_count": 27,
      "outputs": [
        {
          "output_type": "stream",
          "name": "stdout",
          "text": [
            "1\n"
          ]
        }
      ]
    },
    {
      "cell_type": "code",
      "source": [
        "s.count('G')"
      ],
      "metadata": {
        "colab": {
          "base_uri": "https://localhost:8080/"
        },
        "id": "UEV5YWp29yOl",
        "outputId": "a93f68a8-2e8b-4b73-f28e-4e32eb4448fd"
      },
      "execution_count": 28,
      "outputs": [
        {
          "output_type": "execute_result",
          "data": {
            "text/plain": [
              "0"
            ]
          },
          "metadata": {},
          "execution_count": 28
        }
      ]
    },
    {
      "cell_type": "code",
      "source": [
        "# 1.9 메서드 4: strip\n",
        "\n",
        "s = '    weniv CEO licat     '\n",
        "s.strip() # 양쪽 공백 제거"
      ],
      "metadata": {
        "colab": {
          "base_uri": "https://localhost:8080/",
          "height": 35
        },
        "id": "jd6E1m3w930r",
        "outputId": "69ed6616-491f-4793-dc0c-6d5f9689d299"
      },
      "execution_count": 29,
      "outputs": [
        {
          "output_type": "execute_result",
          "data": {
            "text/plain": [
              "'weniv CEO licat'"
            ],
            "application/vnd.google.colaboratory.intrinsic+json": {
              "type": "string"
            }
          },
          "metadata": {},
          "execution_count": 29
        }
      ]
    },
    {
      "cell_type": "code",
      "source": [
        "#양쪽의 공백과 ',!'을 제거해주는 method => strip함수로 양쪽 공백 및 특정 문자열 제거 가능\n",
        "'    ,!!  hello world   '.strip(' ,!')"
      ],
      "metadata": {
        "colab": {
          "base_uri": "https://localhost:8080/",
          "height": 35
        },
        "id": "I9n8lHYW-P8-",
        "outputId": "4b88f223-8bcc-4215-a02b-7cba590f5d2c"
      },
      "execution_count": 30,
      "outputs": [
        {
          "output_type": "execute_result",
          "data": {
            "text/plain": [
              "'hello world'"
            ],
            "application/vnd.google.colaboratory.intrinsic+json": {
              "type": "string"
            }
          },
          "metadata": {},
          "execution_count": 30
        }
      ]
    },
    {
      "cell_type": "code",
      "source": [
        "# 1.10 메서드 5: replace\n",
        "\n",
        "s = 'weniv CEO licat'\n",
        "s.replace('CEO', 'CTO') # 원하는 문자열을 다른 문자열로 대체할 때 사용하는 메서드"
      ],
      "metadata": {
        "colab": {
          "base_uri": "https://localhost:8080/",
          "height": 35
        },
        "id": "mHDOHHf3-pi5",
        "outputId": "6b64d66f-549b-491a-bbb3-b16eb38171a7"
      },
      "execution_count": 31,
      "outputs": [
        {
          "output_type": "execute_result",
          "data": {
            "text/plain": [
              "'weniv CTO licat'"
            ],
            "application/vnd.google.colaboratory.intrinsic+json": {
              "type": "string"
            }
          },
          "metadata": {},
          "execution_count": 31
        }
      ]
    },
    {
      "cell_type": "code",
      "source": [
        "s = 'weniv CEO licat'\n",
        "\n",
        "s.replace('i','I')"
      ],
      "metadata": {
        "colab": {
          "base_uri": "https://localhost:8080/",
          "height": 35
        },
        "id": "Lj282jJS_FTR",
        "outputId": "7897b766-9a2f-4739-eddc-576c6a0a935e"
      },
      "execution_count": 32,
      "outputs": [
        {
          "output_type": "execute_result",
          "data": {
            "text/plain": [
              "'wenIv CEO lIcat'"
            ],
            "application/vnd.google.colaboratory.intrinsic+json": {
              "type": "string"
            }
          },
          "metadata": {},
          "execution_count": 32
        }
      ]
    },
    {
      "cell_type": "code",
      "source": [
        "# 수정된 문자열이 원본에 반영되지 않는다는 사실을 기억!\n",
        "\n",
        "s = 'weniv CEO licat'\n",
        "ss = s.replace('i', 'I')\n",
        "ss, s # s 원본의 데이터는 수정x"
      ],
      "metadata": {
        "colab": {
          "base_uri": "https://localhost:8080/"
        },
        "id": "jVFkwEoY_i9X",
        "outputId": "6a93d591-ee32-4b3f-d990-d256ddbcc4e5"
      },
      "execution_count": 33,
      "outputs": [
        {
          "output_type": "execute_result",
          "data": {
            "text/plain": [
              "('wenIv CEO lIcat', 'weniv CEO licat')"
            ]
          },
          "metadata": {},
          "execution_count": 33
        }
      ]
    },
    {
      "cell_type": "code",
      "source": [
        "# 1.11 메서드: split()\n",
        "\n",
        "# split은 리스트 형태로 결과가 나오게 된다.\n",
        "\n",
        "s = 'weniv CEO licat'\n",
        "s.split() # 공백을 기준으로 문자열 나누기"
      ],
      "metadata": {
        "colab": {
          "base_uri": "https://localhost:8080/"
        },
        "id": "5D558oBf_6Q1",
        "outputId": "7eae90c3-db08-4bd2-be11-91ca7bb291c5"
      },
      "execution_count": 35,
      "outputs": [
        {
          "output_type": "execute_result",
          "data": {
            "text/plain": [
              "['weniv', 'CEO', 'licat']"
            ]
          },
          "metadata": {},
          "execution_count": 35
        }
      ]
    },
    {
      "cell_type": "code",
      "source": [
        "s = 'weniv-CEO-licat'\n",
        "s.split('-') #-을 기준으로 문자열 나누기"
      ],
      "metadata": {
        "colab": {
          "base_uri": "https://localhost:8080/"
        },
        "id": "s-KGRasMD_GR",
        "outputId": "8c055277-81a4-4143-afc8-7cfcdbf39ead"
      },
      "execution_count": 36,
      "outputs": [
        {
          "output_type": "execute_result",
          "data": {
            "text/plain": [
              "['weniv', 'CEO', 'licat']"
            ]
          },
          "metadata": {},
          "execution_count": 36
        }
      ]
    },
    {
      "cell_type": "code",
      "source": [
        "# 1.12 메서드: join()\n",
        "\n",
        "s = ['weniv', 'CEO', 'licat']\n",
        "'-'.join(s) #리스트를 하나의 문자열로 합치기"
      ],
      "metadata": {
        "colab": {
          "base_uri": "https://localhost:8080/",
          "height": 35
        },
        "id": "iJTUi9HJESWy",
        "outputId": "6799b10e-69ae-4c1c-cd71-6a3e09b4fe01"
      },
      "execution_count": 37,
      "outputs": [
        {
          "output_type": "execute_result",
          "data": {
            "text/plain": [
              "'weniv-CEO-licat'"
            ],
            "application/vnd.google.colaboratory.intrinsic+json": {
              "type": "string"
            }
          },
          "metadata": {},
          "execution_count": 37
        }
      ]
    },
    {
      "cell_type": "code",
      "source": [
        "# 1.13 메서드: isdigit / isalpha\n",
        "\n",
        "s = '123'\n",
        "print(s.isdigit()) # 문자열이 숫자로만 이루어져있는지"
      ],
      "metadata": {
        "colab": {
          "base_uri": "https://localhost:8080/"
        },
        "id": "B_xSGWyEExCR",
        "outputId": "6b53c86f-441c-445e-a23a-e4cce3bdb4af"
      },
      "execution_count": 38,
      "outputs": [
        {
          "output_type": "stream",
          "name": "stdout",
          "text": [
            "True\n"
          ]
        }
      ]
    },
    {
      "cell_type": "code",
      "source": [
        "# 영어, 중국어, 한국어 모두 True로 취급\n",
        "# 알파벳이 영어만 가리지 않고 한국어, 중국어, 일본어등 True로 출력\n",
        "\n",
        "print('abcd1234'.isalpha()) # 출력: False\n",
        "print('안녕하세요'.isalpha()) # 출력: True\n",
        "print('こんにちは'.isalpha()) # 출력: True\n",
        "print('你好'.isalpha()) # 출력: True"
      ],
      "metadata": {
        "colab": {
          "base_uri": "https://localhost:8080/"
        },
        "id": "P5Q3ZEjHIXqC",
        "outputId": "d794f412-3826-49e0-fad4-9fa0203aab4b"
      },
      "execution_count": 39,
      "outputs": [
        {
          "output_type": "stream",
          "name": "stdout",
          "text": [
            "False\n",
            "True\n",
            "True\n",
            "True\n"
          ]
        }
      ]
    },
    {
      "cell_type": "code",
      "source": [
        "# 1.13 rjust, ljust\n",
        "\n",
        "s = 'licat' # 5글자를 10글자로 채워야한다면 5글자만큼 왼쪽으로 지정문자로 채움\n",
        "s.rjust(10, '-') #문자열을 지정한 길이로 맞추고, 왼쪽을 '-'로 채우는 method"
      ],
      "metadata": {
        "colab": {
          "base_uri": "https://localhost:8080/",
          "height": 35
        },
        "id": "Hpox8h5GIo1t",
        "outputId": "d102e2fe-77c9-4964-9ec0-e70db0e569b2"
      },
      "execution_count": 40,
      "outputs": [
        {
          "output_type": "execute_result",
          "data": {
            "text/plain": [
              "'-----licat'"
            ],
            "application/vnd.google.colaboratory.intrinsic+json": {
              "type": "string"
            }
          },
          "metadata": {},
          "execution_count": 40
        }
      ]
    },
    {
      "cell_type": "code",
      "source": [
        "s = 'licat' # 5글자를 10글자로 채워야한다면 5글자만큼 오른쪽으로 지정문자로 채움\n",
        "s.ljust(10, '-') #문자열을 지정한 길이로 맞추고, 오른쪽을 '-'로 채우는 method"
      ],
      "metadata": {
        "colab": {
          "base_uri": "https://localhost:8080/",
          "height": 35
        },
        "id": "x4-q3juVJpon",
        "outputId": "da017523-39ae-45d8-ee21-65dbc1ea0d13"
      },
      "execution_count": 41,
      "outputs": [
        {
          "output_type": "execute_result",
          "data": {
            "text/plain": [
              "'licat-----'"
            ],
            "application/vnd.google.colaboratory.intrinsic+json": {
              "type": "string"
            }
          },
          "metadata": {},
          "execution_count": 41
        }
      ]
    },
    {
      "cell_type": "code",
      "source": [
        "# 주민등록번호\n",
        "\n",
        "s = '12345-1'\n",
        "s.ljust(14, '*')"
      ],
      "metadata": {
        "colab": {
          "base_uri": "https://localhost:8080/",
          "height": 35
        },
        "id": "Ur7frSypJuLI",
        "outputId": "df85d0b2-1a4a-4b11-85d8-56a93cec05d5"
      },
      "execution_count": 45,
      "outputs": [
        {
          "output_type": "execute_result",
          "data": {
            "text/plain": [
              "'12345-1*******'"
            ],
            "application/vnd.google.colaboratory.intrinsic+json": {
              "type": "string"
            }
          },
          "metadata": {},
          "execution_count": 45
        }
      ]
    },
    {
      "cell_type": "code",
      "source": [
        "s = 'licat'\n",
        "s.center(11, '-') #문자열을 지정한 길이로 맞추고, 양쪽을 '-'로 채우는 method\n",
        "\n",
        "# 짝이 안맞으면 오른쪽으로 우선 먼저 채움"
      ],
      "metadata": {
        "colab": {
          "base_uri": "https://localhost:8080/",
          "height": 35
        },
        "id": "pruByFVOJ7C_",
        "outputId": "4f30fc9f-d3c3-4039-adbf-d1c0f23944a3"
      },
      "execution_count": 46,
      "outputs": [
        {
          "output_type": "execute_result",
          "data": {
            "text/plain": [
              "'---licat---'"
            ],
            "application/vnd.google.colaboratory.intrinsic+json": {
              "type": "string"
            }
          },
          "metadata": {},
          "execution_count": 46
        }
      ]
    },
    {
      "cell_type": "code",
      "source": [
        "# 1.14 zfill\n",
        "\n",
        "# 문자열 숫자\n",
        "x = \"42\"\n",
        "result = x.zfill(5) # 5자리만큼 0으로 채움\n",
        "print(result)  # 00042"
      ],
      "metadata": {
        "colab": {
          "base_uri": "https://localhost:8080/"
        },
        "id": "4BvP3WXBMaTw",
        "outputId": "07a322c0-2d34-4ca8-ead2-880d48d68f4d"
      },
      "execution_count": 47,
      "outputs": [
        {
          "output_type": "stream",
          "name": "stdout",
          "text": [
            "00042\n"
          ]
        }
      ]
    },
    {
      "cell_type": "code",
      "source": [
        "# 문자열 부호가 있는 숫자\n",
        "\n",
        "x = \"-42\"\n",
        "result = x.zfill(5)\n",
        "print(result)  # -0042"
      ],
      "metadata": {
        "colab": {
          "base_uri": "https://localhost:8080/"
        },
        "id": "AoAGIqy0Ne8i",
        "outputId": "7db4d260-283f-4a52-eff8-9cc6a012abf8"
      },
      "execution_count": 48,
      "outputs": [
        {
          "output_type": "stream",
          "name": "stdout",
          "text": [
            "-0042\n"
          ]
        }
      ]
    },
    {
      "cell_type": "code",
      "source": [
        "# 문자열\n",
        "\n",
        "x = \"abc\"\n",
        "result = x.zfill(5)\n",
        "print(result)  # 00abc"
      ],
      "metadata": {
        "colab": {
          "base_uri": "https://localhost:8080/"
        },
        "id": "If3LRaUzNssF",
        "outputId": "75f02ef0-7785-4f5a-dcea-3e207671cfb6"
      },
      "execution_count": 49,
      "outputs": [
        {
          "output_type": "stream",
          "name": "stdout",
          "text": [
            "00abc\n"
          ]
        }
      ]
    },
    {
      "cell_type": "code",
      "source": [
        "# 파일명의 길이를 동일하게 유지할때 자주 사용\n",
        "\n",
        "filename = '1'.zfill(3) + \".jpg\"\n",
        "print(filename)"
      ],
      "metadata": {
        "colab": {
          "base_uri": "https://localhost:8080/"
        },
        "id": "Pesnm8e3N2oR",
        "outputId": "d5d13adc-da45-4038-965c-bbff13084e1e"
      },
      "execution_count": 51,
      "outputs": [
        {
          "output_type": "stream",
          "name": "stdout",
          "text": [
            "001.jpg\n"
          ]
        }
      ]
    },
    {
      "cell_type": "code",
      "source": [
        "# 날짜\n",
        "\n",
        "년 = '23'\n",
        "월 = '9'\n",
        "일 = '8'\n",
        "\n",
        "오늘날짜 = 년 + 월 + 일\n",
        "print(오늘날짜)\n",
        "\n",
        "오늘날짜 = 년 + 월.zfill(2) + 일.zfill(2)\n",
        "print(오늘날짜)"
      ],
      "metadata": {
        "colab": {
          "base_uri": "https://localhost:8080/"
        },
        "id": "wyTF44OFOJaJ",
        "outputId": "983871db-ebde-4fd9-951c-a964569d7adc"
      },
      "execution_count": 52,
      "outputs": [
        {
          "output_type": "stream",
          "name": "stdout",
          "text": [
            "2398\n",
            "230908\n"
          ]
        }
      ]
    },
    {
      "cell_type": "code",
      "source": [
        "# 1.15 translate\n",
        "# translate 사용 시 변환 테이블 생성 필요\n",
        "\n",
        "# 변환 테이블 생성\n",
        "table = str.maketrans(\"abc\", \"123\") # abc -> 123 으로 변환"
      ],
      "metadata": {
        "id": "7zLZVQU2OQDG"
      },
      "execution_count": 53,
      "outputs": []
    },
    {
      "cell_type": "code",
      "source": [
        "text = \"abcd a b c abc\"\n",
        "result = text.translate(table)\n",
        "\n",
        "print(result)"
      ],
      "metadata": {
        "colab": {
          "base_uri": "https://localhost:8080/"
        },
        "id": "snvxiT0wR4KG",
        "outputId": "d06ff6fc-ad3c-4413-e787-8d06424bf81c"
      },
      "execution_count": 54,
      "outputs": [
        {
          "output_type": "stream",
          "name": "stdout",
          "text": [
            "123d 1 2 3 123\n"
          ]
        }
      ]
    },
    {
      "cell_type": "code",
      "source": [
        "# 'd'와 'e' 문자 제거하기\n",
        "table = str.maketrans('', '', 'de')\n",
        "text = \"abcde    d e         de     dede\" # 어느 위치에 있던 de의 문자를 제거한다\n",
        "result = text.translate(table)\n",
        "print(result)  # abc"
      ],
      "metadata": {
        "colab": {
          "base_uri": "https://localhost:8080/"
        },
        "id": "KSAz_yVxR9jL",
        "outputId": "e07f83cc-9e1b-4603-cb4d-827c82a4f5f4"
      },
      "execution_count": 56,
      "outputs": [
        {
          "output_type": "stream",
          "name": "stdout",
          "text": [
            "abc                   \n"
          ]
        }
      ]
    },
    {
      "cell_type": "code",
      "source": [
        "# 1.16 이스케이프\n",
        "\n",
        "print(\"Hello\\nWorld!\") # Hello와 World! 사이에 줄바꿈\n",
        "print(\"Hello\\tWorld!\") # Hello와 World! 사이에 탭 간격 발생\n",
        "print(\"She said, \\\"Hello World!\\\"\") # 큰따옴표 출력\n",
        "print('She said, \\'Hello World!\\'') # 작은따옴표 출력\n",
        "print(\"Backslash: \\\\\") # 백슬래시 출력"
      ],
      "metadata": {
        "colab": {
          "base_uri": "https://localhost:8080/"
        },
        "id": "A-hQQMvzSHq8",
        "outputId": "ae41fae3-512e-45d5-c6e5-917f72d0a721"
      },
      "execution_count": 57,
      "outputs": [
        {
          "output_type": "stream",
          "name": "stdout",
          "text": [
            "Hello\n",
            "World!\n",
            "Hello\tWorld!\n",
            "She said, \"Hello World!\"\n",
            "She said, 'Hello World!'\n",
            "Backslash: \\\n"
          ]
        }
      ]
    },
    {
      "cell_type": "code",
      "source": [
        "# 논리 자료형\n",
        "\n",
        "print(True == 1)  # 출력 : True\n",
        "print(False == 0) # 출력 : True"
      ],
      "metadata": {
        "colab": {
          "base_uri": "https://localhost:8080/"
        },
        "id": "_wDybQ4PT2wg",
        "outputId": "7d727c2a-9945-468a-8da3-9baa2ecdd7ab"
      },
      "execution_count": 58,
      "outputs": [
        {
          "output_type": "stream",
          "name": "stdout",
          "text": [
            "True\n",
            "True\n"
          ]
        }
      ]
    },
    {
      "cell_type": "code",
      "source": [
        "dir(None) # 매직메서드, 사용 가능 메서드 확인"
      ],
      "metadata": {
        "colab": {
          "base_uri": "https://localhost:8080/"
        },
        "id": "TQLu0ch8XsKH",
        "outputId": "c82afe11-0222-4b85-a910-222520775912"
      },
      "execution_count": 60,
      "outputs": [
        {
          "output_type": "execute_result",
          "data": {
            "text/plain": [
              "['__bool__',\n",
              " '__class__',\n",
              " '__delattr__',\n",
              " '__dir__',\n",
              " '__doc__',\n",
              " '__eq__',\n",
              " '__format__',\n",
              " '__ge__',\n",
              " '__getattribute__',\n",
              " '__gt__',\n",
              " '__hash__',\n",
              " '__init__',\n",
              " '__init_subclass__',\n",
              " '__le__',\n",
              " '__lt__',\n",
              " '__ne__',\n",
              " '__new__',\n",
              " '__reduce__',\n",
              " '__reduce_ex__',\n",
              " '__repr__',\n",
              " '__setattr__',\n",
              " '__sizeof__',\n",
              " '__str__',\n",
              " '__subclasshook__']"
            ]
          },
          "metadata": {},
          "execution_count": 60
        }
      ]
    },
    {
      "cell_type": "code",
      "source": [
        "# 메서드 채이닝\n",
        "# 메서드를 연속으로 호출하는 것\n",
        "\n",
        "sentence = '  Hello, World!  '\n",
        "result = sentence.strip().lower().replace('world', 'python')\n",
        "# 1번 스탭 : sentence.strip() == 'Hello, World!'\n",
        "# 2번 스탭 : 'Hello, World!'.lower() == 'hello, world!'\n",
        "# 3번 스탭 : 'hello, world!'.replace('world', 'python')\n",
        "print(result)  # 'hello, python!'"
      ],
      "metadata": {
        "colab": {
          "base_uri": "https://localhost:8080/"
        },
        "id": "wpnj1XAJZOor",
        "outputId": "7fabbb31-56a1-4b40-abab-0ec88081c81d"
      },
      "execution_count": 61,
      "outputs": [
        {
          "output_type": "stream",
          "name": "stdout",
          "text": [
            "hello, python!\n"
          ]
        }
      ]
    },
    {
      "cell_type": "code",
      "source": [],
      "metadata": {
        "id": "XafgmKe8aKgl"
      },
      "execution_count": null,
      "outputs": []
    }
  ]
}