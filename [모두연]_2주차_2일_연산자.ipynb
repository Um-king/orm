{
  "nbformat": 4,
  "nbformat_minor": 0,
  "metadata": {
    "colab": {
      "provenance": [],
      "authorship_tag": "ABX9TyP89Uq1K2E1iTjcBx9Vv2BO",
      "include_colab_link": true
    },
    "kernelspec": {
      "name": "python3",
      "display_name": "Python 3"
    },
    "language_info": {
      "name": "python"
    }
  },
  "cells": [
    {
      "cell_type": "markdown",
      "metadata": {
        "id": "view-in-github",
        "colab_type": "text"
      },
      "source": [
        "<a href=\"https://colab.research.google.com/github/Um-king/orm/blob/main/%5B%EB%AA%A8%EB%91%90%EC%97%B0%5D_2%EC%A3%BC%EC%B0%A8_2%EC%9D%BC_%EC%97%B0%EC%82%B0%EC%9E%90.ipynb\" target=\"_parent\"><img src=\"https://colab.research.google.com/assets/colab-badge.svg\" alt=\"Open In Colab\"/></a>"
      ]
    },
    {
      "cell_type": "markdown",
      "source": [
        "# 1. 산술 연산자"
      ],
      "metadata": {
        "id": "kxV7KMrT-vix"
      }
    },
    {
      "cell_type": "code",
      "source": [
        "# 1.1 나누기 소수점 2번째 자리까지 출력\n",
        "\n",
        "a = 10\n",
        "b = 3\n",
        "divide = a / b\n",
        "print(f'{a} ÷ {b} = {divide:.2f}')  # 결과: 10 ÷ 3 = 3.33"
      ],
      "metadata": {
        "colab": {
          "base_uri": "https://localhost:8080/"
        },
        "id": "lzsRR8j2-xrw",
        "outputId": "633ec7a7-c8a0-45de-8e4b-a5bb2528dcd5"
      },
      "execution_count": 1,
      "outputs": [
        {
          "output_type": "stream",
          "name": "stdout",
          "text": [
            "10 ÷ 3 = 3.33\n"
          ]
        }
      ]
    },
    {
      "cell_type": "code",
      "source": [
        "# 1.2 나머지\n",
        "print(10 / 3)  # 소수 몫\n",
        "print(10 // 3) # 정수 몫\n",
        "print(10 % 3)  # 나머지"
      ],
      "metadata": {
        "colab": {
          "base_uri": "https://localhost:8080/"
        },
        "id": "vQXkSOE5-zGi",
        "outputId": "e6f0471e-1bee-493f-e8ac-d27633e1ed42"
      },
      "execution_count": 4,
      "outputs": [
        {
          "output_type": "stream",
          "name": "stdout",
          "text": [
            "3.3333333333333335\n",
            "3\n",
            "1\n"
          ]
        }
      ]
    },
    {
      "cell_type": "code",
      "source": [
        "# 음수의 제곱 연산\n",
        "# 제곱이 된 후에 마이너스가 붙기 때문에 -4\n",
        "\n",
        "print(-2 ** 2)\n",
        "\n",
        "# 해결하기 위해선 음수를 괄호로 묶어야한다.\n",
        "\n",
        "print((-2) ** 2)\n"
      ],
      "metadata": {
        "colab": {
          "base_uri": "https://localhost:8080/"
        },
        "id": "NiZ89P8_AJms",
        "outputId": "5e4bf527-38a6-4467-d8a9-8843922406fa"
      },
      "execution_count": 7,
      "outputs": [
        {
          "output_type": "stream",
          "name": "stdout",
          "text": [
            "-4\n",
            "4\n"
          ]
        }
      ]
    },
    {
      "cell_type": "markdown",
      "source": [
        "# 2. 비교 연산자"
      ],
      "metadata": {
        "id": "n911luZdDAQv"
      }
    },
    {
      "cell_type": "code",
      "source": [
        "print(5 != 3) # 결과: True"
      ],
      "metadata": {
        "colab": {
          "base_uri": "https://localhost:8080/"
        },
        "id": "fBp1SwcnDD30",
        "outputId": "cd98657a-4592-4d56-9fa1-538996d62aba"
      },
      "execution_count": 9,
      "outputs": [
        {
          "output_type": "stream",
          "name": "stdout",
          "text": [
            "True\n"
          ]
        }
      ]
    },
    {
      "cell_type": "code",
      "source": [
        "# 연속적인 비교\n",
        "\n",
        "x = 10\n",
        "print(5 < x < 15) # 결과 : True"
      ],
      "metadata": {
        "colab": {
          "base_uri": "https://localhost:8080/"
        },
        "id": "MW6dL38bDEzP",
        "outputId": "ef3daae0-1965-4df9-c801-af0dab2f8ed6"
      },
      "execution_count": 10,
      "outputs": [
        {
          "output_type": "stream",
          "name": "stdout",
          "text": [
            "True\n"
          ]
        }
      ]
    },
    {
      "cell_type": "code",
      "source": [
        "import math\n",
        "\n",
        "result = 0.1 + 0.2\n",
        "print(result)\n",
        "\n",
        "print(result == 0.3)              # False\n",
        "print(math.isclose(result, 0.3))  # True , 수학적인 근거에 의한 값으로만 비교해달라 : 0.3000...4 라는 숫자가 나올 수 없으므로\n",
        "print(math.isclose(result, 0.29)) # False\n",
        "print(math.isclose(result, 0.31)) # False\n",
        "print(math.isclose(result, 0.30000001)) # False"
      ],
      "metadata": {
        "colab": {
          "base_uri": "https://localhost:8080/"
        },
        "id": "T_tc4ztODl8A",
        "outputId": "335cd939-02ad-4952-f040-e9af2ad0b3ce"
      },
      "execution_count": 12,
      "outputs": [
        {
          "output_type": "stream",
          "name": "stdout",
          "text": [
            "0.30000000000000004\n",
            "False\n",
            "True\n",
            "False\n",
            "False\n",
            "False\n"
          ]
        }
      ]
    },
    {
      "cell_type": "code",
      "source": [],
      "metadata": {
        "id": "pIUAlq86EO2_"
      },
      "execution_count": null,
      "outputs": []
    }
  ]
}