{
  "nbformat": 4,
  "nbformat_minor": 0,
  "metadata": {
    "colab": {
      "provenance": [],
      "authorship_tag": "ABX9TyP31AYGDTFFY7rzUc7WdPSl",
      "include_colab_link": true
    },
    "kernelspec": {
      "name": "python3",
      "display_name": "Python 3"
    },
    "language_info": {
      "name": "python"
    }
  },
  "cells": [
    {
      "cell_type": "markdown",
      "metadata": {
        "id": "view-in-github",
        "colab_type": "text"
      },
      "source": [
        "<a href=\"https://colab.research.google.com/github/Um-king/orm/blob/main/%5B%EB%AA%A8%EB%91%90%EC%97%B0%5D_2%EC%A3%BC%EC%B0%A8_3%EC%9D%BC_%EC%8B%9C%ED%80%80%EC%8A%A4%EC%9E%90%EB%A3%8C%ED%98%95.ipynb\" target=\"_parent\"><img src=\"https://colab.research.google.com/assets/colab-badge.svg\" alt=\"Open In Colab\"/></a>"
      ]
    },
    {
      "cell_type": "markdown",
      "source": [
        "# 1. 시퀀스 자료형"
      ],
      "metadata": {
        "id": "FHULtimm7PnW"
      }
    },
    {
      "cell_type": "code",
      "source": [
        "# 1.1 인덱싱\n",
        "\n",
        "example = 'abcde'\n",
        "print(example[0]) # 출력 : a\n",
        "print(example[2]) # 출력 : c\n",
        "\n",
        "# 마이너스 인덱스일 경우 역순\n",
        "print(example[-1]) # 출력 : e"
      ],
      "metadata": {
        "colab": {
          "base_uri": "https://localhost:8080/"
        },
        "id": "DH9B8vtC7RGo",
        "outputId": "03b564e8-b37b-4aba-b68d-658dfb3829d8"
      },
      "execution_count": 2,
      "outputs": [
        {
          "output_type": "stream",
          "name": "stdout",
          "text": [
            "a\n",
            "c\n",
            "e\n"
          ]
        }
      ]
    },
    {
      "cell_type": "code",
      "source": [
        "# 1.2 슬라이싱\n",
        "\n",
        "example = 'abcde'\n",
        "print(example[1:3]) # 출력: bc, (마지막 - 1)까지 슬라이싱\n",
        "print(example[-4:-1]) # -4 위치부터 -2위치까지\n",
        "\n",
        "print(range(10)[3]) # 출력: 3\n",
        "print(range(100)[::5]) # 출력: range(0, 100, 5)"
      ],
      "metadata": {
        "colab": {
          "base_uri": "https://localhost:8080/"
        },
        "id": "8iydKaER7YyR",
        "outputId": "14fdb053-160a-4a92-bad8-c3b15aa697d2"
      },
      "execution_count": 5,
      "outputs": [
        {
          "output_type": "stream",
          "name": "stdout",
          "text": [
            "bc\n",
            "bcd\n",
            "3\n",
            "range(0, 100, 5)\n"
          ]
        }
      ]
    },
    {
      "cell_type": "code",
      "source": [
        "# 1.3 특정항목 포함 여부\n",
        "\n",
        "example = 'abcde'\n",
        "print('a' in example) # 출력: True\n",
        "print('z' in example) # 출력: False\n",
        "print('z' not in example) # 출력: True"
      ],
      "metadata": {
        "colab": {
          "base_uri": "https://localhost:8080/"
        },
        "id": "nks7qE-47q-P",
        "outputId": "b30f8073-af95-4581-c545-86ffccc10504"
      },
      "execution_count": 9,
      "outputs": [
        {
          "output_type": "stream",
          "name": "stdout",
          "text": [
            "True\n",
            "False\n",
            "True\n"
          ]
        }
      ]
    },
    {
      "cell_type": "code",
      "source": [
        "# 1.4 연결 & 반복\n",
        "\n",
        "example1 = 'abcde'\n",
        "example2 = 'f'\n",
        "print(example1 + example2) # 출력: abcdef\n",
        "print(example2 * 3)        # 출력: fff"
      ],
      "metadata": {
        "colab": {
          "base_uri": "https://localhost:8080/"
        },
        "id": "bqt7H58I8HBu",
        "outputId": "30fd10cc-b695-4075-b1e4-eb5b6646928c"
      },
      "execution_count": 10,
      "outputs": [
        {
          "output_type": "stream",
          "name": "stdout",
          "text": [
            "abcdef\n",
            "fff\n"
          ]
        }
      ]
    },
    {
      "cell_type": "code",
      "source": [
        "# 1.5 내장함수\n",
        "\n",
        "example = 'abcde'\n",
        "print(len(example))  # 출력: 5 -> 문자열의 길이\n",
        "print(min(example))  # 출력: a -> 문자열의 최소값\n",
        "print(max(example))  # 출력: e -> 문자열의 최대값"
      ],
      "metadata": {
        "colab": {
          "base_uri": "https://localhost:8080/"
        },
        "id": "zZijFUjE9K29",
        "outputId": "ecc9e574-6766-4827-a1e9-6d37ebbcb620"
      },
      "execution_count": 11,
      "outputs": [
        {
          "output_type": "stream",
          "name": "stdout",
          "text": [
            "5\n",
            "a\n",
            "e\n"
          ]
        }
      ]
    },
    {
      "cell_type": "markdown",
      "source": [
        "# 2. 시퀀스 자료형의 패킹과 언패킹"
      ],
      "metadata": {
        "id": "XLCu7V9Y97ES"
      }
    },
    {
      "cell_type": "code",
      "source": [
        "# 2.1 튜플 패킹\n",
        "\n",
        "packed_tuple = 1, 2, 3, 4 # 콤마로 여러가지 값을 썼을 뿐인데 하나의 튜플로 만들어진다.\n",
        "print(packed_tuple)  # 출력: (1, 2, 3, 4)\n",
        "type(packed_tuple)"
      ],
      "metadata": {
        "colab": {
          "base_uri": "https://localhost:8080/"
        },
        "id": "gBEb06nq990x",
        "outputId": "2439edb2-f032-4708-e79b-cb90b32bf08e"
      },
      "execution_count": 13,
      "outputs": [
        {
          "output_type": "stream",
          "name": "stdout",
          "text": [
            "(1, 2, 3, 4)\n"
          ]
        },
        {
          "output_type": "execute_result",
          "data": {
            "text/plain": [
              "tuple"
            ]
          },
          "metadata": {},
          "execution_count": 13
        }
      ]
    },
    {
      "cell_type": "code",
      "source": [
        "# 2.2 언패킹\n",
        "\n",
        "# 튜플 패킹\n",
        "packed_tuple = 1, 2, 3, 4\n",
        "\n",
        "# 튜플 언패킹(각각의 인덱스 위치의 값을 새로운 변수에 각각 할당)\n",
        "a, b, c, d = packed_tuple # 튜플로 패킹된 시퀀스를 순서대로 각각의 변수에 할당\n",
        "print(a)  # 출력: 1\n",
        "print(b)  # 출력: 2\n",
        "print(c)  # 출력: 3\n",
        "print(d)  # 출력: 4\n"
      ],
      "metadata": {
        "colab": {
          "base_uri": "https://localhost:8080/"
        },
        "id": "78yo4xyt-A1k",
        "outputId": "36931a2d-8b4d-4138-83ac-881428dc8303"
      },
      "execution_count": 15,
      "outputs": [
        {
          "output_type": "stream",
          "name": "stdout",
          "text": [
            "1\n",
            "2\n",
            "3\n",
            "4\n"
          ]
        }
      ]
    },
    {
      "cell_type": "code",
      "source": [
        "# 다양한 패킹/언패킹\n",
        "\n",
        "# range()는 0부터 n-1까지 숫자를 생성하는 함수!\n",
        "\n",
        "a, b, c = range(3) # 범위 설정. 0~2까지 범위의 값을 변수에 할당(설정된 마지막값 - 1까지 범위 설정)\n",
        "print(a, b, c)"
      ],
      "metadata": {
        "colab": {
          "base_uri": "https://localhost:8080/"
        },
        "id": "6h3Lfrlu_KjB",
        "outputId": "6bc8cc14-8963-4dba-f341-194266d5ca2f"
      },
      "execution_count": 19,
      "outputs": [
        {
          "output_type": "stream",
          "name": "stdout",
          "text": [
            "0 1 2\n"
          ]
        }
      ]
    },
    {
      "cell_type": "code",
      "source": [
        "# 언패킹\n",
        "a, b, c, d, e = 'hello'\n",
        "\n",
        "print(a)\n",
        "print(b)\n",
        "print(c)\n",
        "print(d)\n",
        "print(e)"
      ],
      "metadata": {
        "colab": {
          "base_uri": "https://localhost:8080/"
        },
        "id": "SLaCPOaH_PvN",
        "outputId": "3d95bd1a-60c5-4d63-fa01-eea1531e2570"
      },
      "execution_count": 20,
      "outputs": [
        {
          "output_type": "stream",
          "name": "stdout",
          "text": [
            "h\n",
            "e\n",
            "l\n",
            "l\n",
            "o\n"
          ]
        }
      ]
    },
    {
      "cell_type": "code",
      "source": [
        "# 언패킹\n",
        "a, b = [10, 20]\n",
        "\n",
        "print(a)\n",
        "print(b)"
      ],
      "metadata": {
        "colab": {
          "base_uri": "https://localhost:8080/"
        },
        "id": "EqjlTJgi_yrE",
        "outputId": "2b4f7e32-954d-4873-af31-5b27f9149941"
      },
      "execution_count": 21,
      "outputs": [
        {
          "output_type": "stream",
          "name": "stdout",
          "text": [
            "10\n",
            "20\n"
          ]
        }
      ]
    },
    {
      "cell_type": "code",
      "source": [
        "# 별표를 이용한 언패킹\n",
        "first, *middle, last = [1,2,3,4,5]\n",
        "print(first) # 정수값으로 언패킹\n",
        "print(middle) # 리스트로 묶임 -> 리스트로 언패킹\n",
        "print(last) # 정수값으로 언패킹"
      ],
      "metadata": {
        "colab": {
          "base_uri": "https://localhost:8080/"
        },
        "id": "CiE2hHZE_1xC",
        "outputId": "b805cc3a-6407-4c48-fbad-c5ab9367c312"
      },
      "execution_count": 22,
      "outputs": [
        {
          "output_type": "stream",
          "name": "stdout",
          "text": [
            "1\n",
            "[2, 3, 4]\n",
            "5\n"
          ]
        }
      ]
    },
    {
      "cell_type": "code",
      "source": [
        "# 별표를 이용한 언패킹\n",
        "# 마지막 변수가 별표를 이용한 변수라면 마지막 값까지 리스트로 묶임\n",
        "first, *middle = [1,2,3,4,5]\n",
        "print(first) # 정수값으로 언패킹\n",
        "print(middle) # 리스트로 묶임 -> 리스트로 언패킹"
      ],
      "metadata": {
        "colab": {
          "base_uri": "https://localhost:8080/"
        },
        "id": "B7bQta-bA5bR",
        "outputId": "0bdadaf5-3873-487e-f3cd-501a61cf75a9"
      },
      "execution_count": 23,
      "outputs": [
        {
          "output_type": "stream",
          "name": "stdout",
          "text": [
            "1\n",
            "[2, 3, 4, 5]\n"
          ]
        }
      ]
    },
    {
      "cell_type": "code",
      "source": [
        "# 별표를 이용한 언패킹\n",
        "# 마지막 last변수에 마지막인덱스 값이 들어가고 나머지는 리스트로 묶임\n",
        "*middle, last = [1,2,3,4,5]\n",
        "print(middle) # 리스트로 묶임 -> 리스트로 언패킹\n",
        "print(last) # 정수값으로 언패킹\n"
      ],
      "metadata": {
        "colab": {
          "base_uri": "https://localhost:8080/"
        },
        "id": "bY06Phz1BB46",
        "outputId": "934c0059-b9ea-47c8-ff4b-97ba76b74ef3"
      },
      "execution_count": 24,
      "outputs": [
        {
          "output_type": "stream",
          "name": "stdout",
          "text": [
            "[1, 2, 3, 4]\n",
            "5\n"
          ]
        }
      ]
    },
    {
      "cell_type": "code",
      "source": [],
      "metadata": {
        "id": "043d6RNCBL0t"
      },
      "execution_count": null,
      "outputs": []
    }
  ]
}