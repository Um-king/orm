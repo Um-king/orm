{
  "nbformat": 4,
  "nbformat_minor": 0,
  "metadata": {
    "colab": {
      "provenance": [],
      "authorship_tag": "ABX9TyPPhaqUxzN7k1TH/KH6kmao",
      "include_colab_link": true
    },
    "kernelspec": {
      "name": "python3",
      "display_name": "Python 3"
    },
    "language_info": {
      "name": "python"
    }
  },
  "cells": [
    {
      "cell_type": "markdown",
      "metadata": {
        "id": "view-in-github",
        "colab_type": "text"
      },
      "source": [
        "<a href=\"https://colab.research.google.com/github/Um-king/orm/blob/main/%5B%EB%AA%A8%EB%91%90%EC%97%B0%5D_2%EC%A3%BC%EC%B0%A8_3%EC%9D%BC_%EC%97%B0%EC%82%B0%EC%9E%90.ipynb\" target=\"_parent\"><img src=\"https://colab.research.google.com/assets/colab-badge.svg\" alt=\"Open In Colab\"/></a>"
      ]
    },
    {
      "cell_type": "code",
      "execution_count": 2,
      "metadata": {
        "colab": {
          "base_uri": "https://localhost:8080/"
        },
        "id": "sJXog3dzxZmL",
        "outputId": "ae563f01-5072-43b2-d093-6afbaa8e2cc6"
      },
      "outputs": [
        {
          "output_type": "stream",
          "name": "stdout",
          "text": [
            "0\n",
            "15\n",
            "30\n",
            "45\n",
            "60\n",
            "75\n",
            "90\n"
          ]
        }
      ],
      "source": [
        "for i in range(101): # 0부터 100까지를 반복합니다.\n",
        "    if i % 3 == 0 and i % 5 == 0:\n",
        "        print(i)"
      ]
    },
    {
      "cell_type": "markdown",
      "source": [
        "* 여러분들께서 휴먼 고객에 대해서 데이터를 받아서 가마고객\n",
        "\n",
        "휴먼 고객 100,000명(DB) - >\n",
        "1차. 20~40세 먼저 거르면 -> 4만명(-6만명)\n",
        "2차. 10만원 이하를 사용한 고객 거르면 -> 2만명(-2만명)\n",
        "3차. 3번 이하로 구매한 고객 거르면 -> 1만명(-1만명)\n",
        "----> 1만명에 대해서만 확인하면 된다."
      ],
      "metadata": {
        "id": "5OP-Qu9wBQz6"
      }
    },
    {
      "cell_type": "code",
      "source": [
        "def test1():\n",
        "    print(\"test1 함수 호출!\")\n",
        "    return False\n",
        "\n",
        "def test2():\n",
        "    print(\"test2 함수 호출!\")\n",
        "    return True\n",
        "\n",
        "# 가장 많이 걸러지는 조건을 맨 앞에 두어야 리소스를 줄일 수 있다.\n",
        "result = test1() and test2()\n",
        "print(result) # 결과: False"
      ],
      "metadata": {
        "colab": {
          "base_uri": "https://localhost:8080/"
        },
        "id": "9jJNw-VK8tsZ",
        "outputId": "cd404781-c654-42a3-b347-1aa9fa9d01da"
      },
      "execution_count": 3,
      "outputs": [
        {
          "output_type": "stream",
          "name": "stdout",
          "text": [
            "test1 함수 호출!\n",
            "False\n"
          ]
        }
      ]
    },
    {
      "cell_type": "code",
      "source": [
        "# 퀴즈 1\n",
        "\n",
        "True and False # and는 두가지 조건 모두 True여야만 True를 출력한다."
      ],
      "metadata": {
        "colab": {
          "base_uri": "https://localhost:8080/"
        },
        "id": "A7NqJWiJCdI0",
        "outputId": "4921b4ac-7dfd-4210-82c0-cd64301feacf"
      },
      "execution_count": 4,
      "outputs": [
        {
          "output_type": "execute_result",
          "data": {
            "text/plain": [
              "False"
            ]
          },
          "metadata": {},
          "execution_count": 4
        }
      ]
    },
    {
      "cell_type": "code",
      "source": [
        "# 퀴즈 2\n",
        "\n",
        "False or True # or는 두가지 조건 중 하나만 True라면 True를 출력한다"
      ],
      "metadata": {
        "colab": {
          "base_uri": "https://localhost:8080/"
        },
        "id": "bGYUVBK0C00g",
        "outputId": "4efda50a-ffd6-45c1-e5e7-5dd2b3347b99"
      },
      "execution_count": 5,
      "outputs": [
        {
          "output_type": "execute_result",
          "data": {
            "text/plain": [
              "True"
            ]
          },
          "metadata": {},
          "execution_count": 5
        }
      ]
    },
    {
      "cell_type": "code",
      "source": [
        "# 퀴즈 4\n",
        "\n",
        "0 and 1"
      ],
      "metadata": {
        "colab": {
          "base_uri": "https://localhost:8080/"
        },
        "id": "ZDC_i8jPDDBf",
        "outputId": "a7cfb91f-40bd-45fd-973c-c822c0270a5e"
      },
      "execution_count": 6,
      "outputs": [
        {
          "output_type": "execute_result",
          "data": {
            "text/plain": [
              "0"
            ]
          },
          "metadata": {},
          "execution_count": 6
        }
      ]
    },
    {
      "cell_type": "markdown",
      "source": [
        "# 2. 할당연산자"
      ],
      "metadata": {
        "id": "sBbg7mZjEsr1"
      }
    },
    {
      "cell_type": "code",
      "source": [
        "x = 5\n",
        "y = 2\n",
        "z = 10\n",
        "\n",
        "\n",
        "x1 = y * z\n",
        "x2 = x + (y * z)\n",
        "x += y * z  # y * z 연산 후 x에 값을 할당합니다.\n",
        "\n",
        "print(x)  # 결과: 25\n",
        "print(x1)  # 결과: 20\n",
        "print(x2)  # 결과: 25"
      ],
      "metadata": {
        "colab": {
          "base_uri": "https://localhost:8080/"
        },
        "id": "5zhyAsnCEurr",
        "outputId": "94ef5cbd-1505-49d5-879c-15277b76b224"
      },
      "execution_count": 10,
      "outputs": [
        {
          "output_type": "stream",
          "name": "stdout",
          "text": [
            "25\n",
            "20\n",
            "25\n"
          ]
        }
      ]
    },
    {
      "cell_type": "code",
      "source": [
        " a = 3\n",
        " a *= 2 + 4\n",
        " print(a)"
      ],
      "metadata": {
        "colab": {
          "base_uri": "https://localhost:8080/"
        },
        "id": "xRVtc9UDEzQL",
        "outputId": "59c14e34-8b88-46e5-d563-533e696c9bd7"
      },
      "execution_count": 11,
      "outputs": [
        {
          "output_type": "stream",
          "name": "stdout",
          "text": [
            "18\n"
          ]
        }
      ]
    },
    {
      "cell_type": "markdown",
      "source": [
        "# 3. 식별 연산자"
      ],
      "metadata": {
        "id": "bsYLCjBaH5y1"
      }
    },
    {
      "cell_type": "code",
      "source": [
        "# 1. 동일 인물 확인\n",
        "\n",
        "coffee_employee = \"Brand\"\n",
        "orange_employee = \"Brand\"\n",
        "\n",
        "print(coffee_employee is orange_employee) # 주소가 같은지\n",
        "print(coffee_employee == orange_employee) # 실제 값이 같은지"
      ],
      "metadata": {
        "colab": {
          "base_uri": "https://localhost:8080/"
        },
        "id": "tbluH-2PH72r",
        "outputId": "6fda1be4-9e4c-4718-b187-78c25f73e4c6"
      },
      "execution_count": 19,
      "outputs": [
        {
          "output_type": "stream",
          "name": "stdout",
          "text": [
            "True\n",
            "True\n"
          ]
        }
      ]
    },
    {
      "cell_type": "code",
      "source": [
        "print(id(coffee_employee))\n",
        "print(id(orange_employee))"
      ],
      "metadata": {
        "colab": {
          "base_uri": "https://localhost:8080/"
        },
        "id": "j5unMp-aIoRH",
        "outputId": "eabf417a-c9e1-4770-88ed-6e2330f59a8a"
      },
      "execution_count": 20,
      "outputs": [
        {
          "output_type": "stream",
          "name": "stdout",
          "text": [
            "139256229664816\n",
            "139256229664816\n"
          ]
        }
      ]
    },
    {
      "cell_type": "code",
      "source": [
        "# 2. -5~256까지는 같은 주소를 바라보고 있지만 그 범위 이하 이상일때는 주소가 달라진다.\n",
        "\n",
        "coffee_employee = 0\n",
        "orange_employee = 0\n",
        "\n",
        "print(coffee_employee is orange_employee) # 주소가 같은지\n",
        "print(coffee_employee == orange_employee) # 실제 값이 같은지"
      ],
      "metadata": {
        "colab": {
          "base_uri": "https://localhost:8080/"
        },
        "id": "p6VYy_qpH__L",
        "outputId": "0b3cadfb-8fca-41f6-a447-30455652b738"
      },
      "execution_count": 14,
      "outputs": [
        {
          "output_type": "stream",
          "name": "stdout",
          "text": [
            "True\n",
            "True\n"
          ]
        }
      ]
    },
    {
      "cell_type": "code",
      "source": [
        "# 2. -5~256까지는 같은 주소를 바라보고 있지만 그 범위 이하 이상일때는 주소가 달라진다.\n",
        "\n",
        "coffee_employee = -6\n",
        "orange_employee = -6\n",
        "\n",
        "print(coffee_employee is orange_employee) # 주소가 같은지\n",
        "print(coffee_employee == orange_employee) # 실제 값이 같은지"
      ],
      "metadata": {
        "colab": {
          "base_uri": "https://localhost:8080/"
        },
        "id": "9hbJbCHTIPim",
        "outputId": "90589177-4500-49cb-cfa1-4ff89c7d11a5"
      },
      "execution_count": 15,
      "outputs": [
        {
          "output_type": "stream",
          "name": "stdout",
          "text": [
            "False\n",
            "True\n"
          ]
        }
      ]
    },
    {
      "cell_type": "code",
      "source": [
        "# 2. 예시2\n",
        "\n",
        "a = [1, 2, 3] # 리스트 형인 [1,2,3]\n",
        "b = [1, 2, 3] # 리스트 형인 [1,2,3]\n",
        "c = a         # 리스트 형인 [1,2,3] 다만 a에 있는 것을 재할당"
      ],
      "metadata": {
        "id": "RQSh_xYBITn5"
      },
      "execution_count": 21,
      "outputs": []
    },
    {
      "cell_type": "code",
      "source": [
        "print(a,b,c)"
      ],
      "metadata": {
        "colab": {
          "base_uri": "https://localhost:8080/"
        },
        "id": "OhP7vK00JC2-",
        "outputId": "b1367bcf-c5f4-4b1f-8a91-d2ea8461bb91"
      },
      "execution_count": 22,
      "outputs": [
        {
          "output_type": "stream",
          "name": "stdout",
          "text": [
            "[1, 2, 3] [1, 2, 3] [1, 2, 3]\n"
          ]
        }
      ]
    },
    {
      "cell_type": "code",
      "source": [
        "print('a == b', a == b) # 값은 같다\n",
        "print('a == c', a == c) # 값은 같다\n",
        "print('a is b', a is b) # a와 b는 다른 객체를 사용\n",
        "print('a is c', a is c) # c는 a의 객체를 가리키고 있음\n",
        "\n",
        "print(id(a), id(b), id(c))"
      ],
      "metadata": {
        "colab": {
          "base_uri": "https://localhost:8080/"
        },
        "id": "xKx4alYtI4cu",
        "outputId": "6161183f-f0f4-4a35-fb28-feffd0e01da2"
      },
      "execution_count": 24,
      "outputs": [
        {
          "output_type": "stream",
          "name": "stdout",
          "text": [
            "a == b True\n",
            "a == c True\n",
            "a is b False\n",
            "a is c True\n",
            "139257120046976 139256646634432 139257120046976\n"
          ]
        }
      ]
    },
    {
      "cell_type": "markdown",
      "source": [
        "# 4. 맴버 연산"
      ],
      "metadata": {
        "id": "icHxvlGxQH0L"
      }
    },
    {
      "cell_type": "code",
      "source": [
        "# 맴버 연산 in : 포함하고 있는지, not in 포함하고 있지 않은지\n",
        "\n",
        "a = [1, 2, 3, 4]\n",
        "b = [1, 2, 3, 4]\n",
        "c = 'hello world'\n",
        "\n",
        "print(1 in a) # 출력: True\n",
        "print(0 not in a) # 출력: True\n",
        "print([2] in b) # 출력: False\n",
        "print([1, 2] in b) # 출력: False\n",
        "print('h' in c) # 출력: True\n",
        "print('hello ' in c) # 출력: True"
      ],
      "metadata": {
        "colab": {
          "base_uri": "https://localhost:8080/"
        },
        "id": "5OYWMYKfQJwK",
        "outputId": "bd5b4629-0e6f-4eee-9cd7-1bce18d85bd3"
      },
      "execution_count": 25,
      "outputs": [
        {
          "output_type": "stream",
          "name": "stdout",
          "text": [
            "True\n",
            "True\n",
            "False\n",
            "False\n",
            "True\n",
            "True\n"
          ]
        }
      ]
    },
    {
      "cell_type": "code",
      "source": [
        "# 자료형태를 잘 파악하여 In을 사용해야한다.\n",
        "# 리스트형 안에 리스트를 포함할 수 있다.\n",
        "a_1 = [1, [2], 3, 4] # 리스트안에 있는 값은 정수형 1,3,4 / 리스트형 [2]"
      ],
      "metadata": {
        "id": "4wPuiG1sQNCR"
      },
      "execution_count": null,
      "outputs": []
    },
    {
      "cell_type": "markdown",
      "source": [
        "# 5. 연산자 순서"
      ],
      "metadata": {
        "id": "uWjzpqsuSV9u"
      }
    },
    {
      "cell_type": "code",
      "source": [
        "-2 ** 2 # 출력: -4, -(2 ** 2) --> 값의 계산 후에 부호가 붙기 때문에 양수가 아닌 -4가 출력"
      ],
      "metadata": {
        "colab": {
          "base_uri": "https://localhost:8080/"
        },
        "id": "M1PHPfWURDq0",
        "outputId": "3db4ee5c-ce9e-4e58-9018-b0cdcd2aca5d"
      },
      "execution_count": 26,
      "outputs": [
        {
          "output_type": "execute_result",
          "data": {
            "text/plain": [
              "-4"
            ]
          },
          "metadata": {},
          "execution_count": 26
        }
      ]
    },
    {
      "cell_type": "code",
      "source": [
        "(-2) ** 2 # 출력: 4"
      ],
      "metadata": {
        "colab": {
          "base_uri": "https://localhost:8080/"
        },
        "id": "Hiezqw-DSYWO",
        "outputId": "09b1376b-f3dd-4a7b-f0e6-4024a55eeb19"
      },
      "execution_count": 27,
      "outputs": [
        {
          "output_type": "execute_result",
          "data": {
            "text/plain": [
              "4"
            ]
          },
          "metadata": {},
          "execution_count": 27
        }
      ]
    },
    {
      "cell_type": "code",
      "source": [
        "# 복합 할당 연산자가 가장 나중!\n",
        "a = 10\n",
        "a *= 10 + 100 # 10 + 100 후 * 10\n",
        "a # 출력: 1100"
      ],
      "metadata": {
        "colab": {
          "base_uri": "https://localhost:8080/"
        },
        "id": "6Ja-5lQlSftd",
        "outputId": "34fbd2ae-3e37-470a-8323-917c3efa952b"
      },
      "execution_count": 28,
      "outputs": [
        {
          "output_type": "execute_result",
          "data": {
            "text/plain": [
              "1100"
            ]
          },
          "metadata": {},
          "execution_count": 28
        }
      ]
    },
    {
      "cell_type": "code",
      "source": [
        " result = 10 / 2 * 4 - 3\n",
        " print(result)"
      ],
      "metadata": {
        "colab": {
          "base_uri": "https://localhost:8080/"
        },
        "id": "DpHEBV3GSvwK",
        "outputId": "aa3a607b-654c-428d-b2f4-c97997a0f5cb"
      },
      "execution_count": 29,
      "outputs": [
        {
          "output_type": "stream",
          "name": "stdout",
          "text": [
            "17.0\n"
          ]
        }
      ]
    },
    {
      "cell_type": "code",
      "source": [],
      "metadata": {
        "id": "abF5MRrjUUFl"
      },
      "execution_count": null,
      "outputs": []
    }
  ]
}