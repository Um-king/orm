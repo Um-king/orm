{
  "nbformat": 4,
  "nbformat_minor": 0,
  "metadata": {
    "colab": {
      "provenance": [],
      "authorship_tag": "ABX9TyN/Q8Zp6ICwWJse476nsB97",
      "include_colab_link": true
    },
    "kernelspec": {
      "name": "python3",
      "display_name": "Python 3"
    },
    "language_info": {
      "name": "python"
    }
  },
  "cells": [
    {
      "cell_type": "markdown",
      "metadata": {
        "id": "view-in-github",
        "colab_type": "text"
      },
      "source": [
        "<a href=\"https://colab.research.google.com/github/Um-king/orm/blob/main/%5B%EB%AA%A8%EB%91%90%EC%97%B0%5D_2%EC%A3%BC%EC%B0%A8_4%EC%9D%BC_%EB%A6%AC%EC%8A%A4%ED%8A%B8.ipynb\" target=\"_parent\"><img src=\"https://colab.research.google.com/assets/colab-badge.svg\" alt=\"Open In Colab\"/></a>"
      ]
    },
    {
      "cell_type": "markdown",
      "source": [
        "# 복습"
      ],
      "metadata": {
        "id": "T7p5vFSGLnoV"
      }
    },
    {
      "cell_type": "code",
      "source": [
        "# 0.1 + 0.2 = 0.300...4 나오는 이유가 0.1이 2진수로 표현했을 때 무한소수여서"
      ],
      "metadata": {
        "id": "9p9vKnIvSzEf"
      },
      "execution_count": null,
      "outputs": []
    },
    {
      "cell_type": "code",
      "source": [
        "a = 10\n",
        "b = a\n",
        "c = b\n",
        "\n",
        "print(c) # a와 b와 c는 연결되어 있지 않다.\n",
        "\n",
        "a = 10\n",
        "b = a\n",
        "c = b\n",
        "a = 20\n",
        "print(c) # a값만 변경됨\n",
        "\n",
        "a = 10\n",
        "b = a\n",
        "\n",
        "# -5~256은 주소를 미리 저장하고 있다.\n",
        "print(id(a))\n",
        "print(id(b))"
      ],
      "metadata": {
        "colab": {
          "base_uri": "https://localhost:8080/"
        },
        "id": "PwXlERWlS00l",
        "outputId": "d82cdf7f-be47-4ba3-833b-ad22de1e6b2b"
      },
      "execution_count": 9,
      "outputs": [
        {
          "output_type": "stream",
          "name": "stdout",
          "text": [
            "10\n",
            "10\n",
            "133269716058960\n",
            "133269716058640\n",
            "133269716058640\n",
            "133269716058640\n"
          ]
        }
      ]
    },
    {
      "cell_type": "code",
      "source": [
        "# -5부터 256은 주소가 같습니다.\n",
        "a = 10\n",
        "b = 10\n",
        "\n",
        "print(id(a))\n",
        "print(id(b))\n",
        "\n",
        "a is b # True: -5 ~ 256 값의 주소는 동일하게  가지고 있다."
      ],
      "metadata": {
        "colab": {
          "base_uri": "https://localhost:8080/"
        },
        "id": "BajKi1LTTu43",
        "outputId": "28f50e57-2cb4-4faa-dfe9-a09a104423fd"
      },
      "execution_count": 7,
      "outputs": [
        {
          "output_type": "stream",
          "name": "stdout",
          "text": [
            "133269716058640\n",
            "133269716058640\n"
          ]
        }
      ]
    },
    {
      "cell_type": "code",
      "source": [
        "# 허용\n",
        "'hello world'.upper()\\\n",
        "    .split()\\\n",
        "    .pop()\\\n",
        "    .lower()\n",
        "\n",
        "# 허용\n",
        "'hello world'.upper()    .split()    .pop()    .lower()\n",
        "\n",
        "# 허용하지 않음\n",
        "# 'hello world'.upper()\n",
        "#     .split()\n",
        "#     .pop()\n",
        "#     .lower()"
      ],
      "metadata": {
        "colab": {
          "base_uri": "https://localhost:8080/",
          "height": 35
        },
        "id": "Kgb-zuDETxnM",
        "outputId": "98308353-a0cd-4529-884d-e69a52a48585"
      },
      "execution_count": 8,
      "outputs": [
        {
          "output_type": "execute_result",
          "data": {
            "text/plain": [
              "'world'"
            ],
            "application/vnd.google.colaboratory.intrinsic+json": {
              "type": "string"
            }
          },
          "metadata": {},
          "execution_count": 8
        }
      ]
    },
    {
      "cell_type": "code",
      "source": [
        "# 가독성을 위한 print문 작성 추천법\n",
        "# 콤마를 찍지 않은 연결\n",
        "print('hello world '\n",
        "    'hello world')"
      ],
      "metadata": {
        "colab": {
          "base_uri": "https://localhost:8080/"
        },
        "id": "1tGujiFZLIiz",
        "outputId": "e893171a-ca40-4b48-cda0-5c3d5e1e42b6"
      },
      "execution_count": 2,
      "outputs": [
        {
          "output_type": "stream",
          "name": "stdout",
          "text": [
            "hello world hello world\n"
          ]
        }
      ]
    },
    {
      "cell_type": "code",
      "source": [
        "# 질문 : 메서드 체인으로 길어지면 어떻게 하나요?\n",
        "# 답 : 메서드 체인이든, 출력문이든 코드가 80자 이상 길어지면 이미 가독성에 문제가 있는 것.\n",
        "# 메서드 체이닝을 3개 이상 하는걸 권하지 않고, 코드도 길어지는걸 권하지 않음."
      ],
      "metadata": {
        "id": "61n-Krg3Lqlc"
      },
      "execution_count": null,
      "outputs": []
    },
    {
      "cell_type": "code",
      "source": [
        "# 문자열 메서드\n",
        "dir('hello world') # 메서드, 매직메서드, 클래스 변수, 인스턴스 변수 출력\n",
        "\n",
        "# 문제1: find와 index 차이\n",
        "'''\n",
        "find 은 문자열이 없으면 -1\n",
        "index 는 문자열이 없으면 error\n",
        "\n",
        "근데 파이썬에서 -1 은 True로 판단\n",
        "\n",
        "따라서 if 'hello'.find('hi'):   => hi라는 문자열이 없어서 -1을 반환하는데, 파이썬에서 -1은 True로 판단\n",
        "            print(\"찾았다\")\n",
        "\n",
        "해당 코드에서 True가 되므로 엄청난 문제가 되는 코드가 된다.\n",
        "'''\n",
        "\n",
        "# 문제2: isdigit의 정체\n",
        "# isdigit이 엄청 많이 사용됨 -> 문자열이 전부 숫자인지 판단\n",
        "'123'.isdigit()\n",
        "\n",
        "# 문제3: replace가 어디까지 변환하는지?\n",
        "# replace는 \"정규표현식이 안된다\"  -> 정규 표현식 사용은 re.sub\n",
        "'hello world hello world'.replace('hello', 'hi') # 모두 다 변환 됩니다. 몇개만 변환 되는것이 아니다.\n"
      ],
      "metadata": {
        "colab": {
          "base_uri": "https://localhost:8080/",
          "height": 35
        },
        "id": "xMN4hxhFMTUo",
        "outputId": "9385ec85-df8a-47ae-dacb-84b166973b69"
      },
      "execution_count": 4,
      "outputs": [
        {
          "output_type": "execute_result",
          "data": {
            "text/plain": [
              "'hi world hi world'"
            ],
            "application/vnd.google.colaboratory.intrinsic+json": {
              "type": "string"
            }
          },
          "metadata": {},
          "execution_count": 4
        }
      ]
    },
    {
      "cell_type": "code",
      "source": [
        "dir('hello world')\n",
        "\n",
        "# 문제4 : strip() -> 공백 제거\n",
        "# 문제5 : zfill() -> 앞에 0으로 채워주는 것(원하는 자릿수만큼, 시간이나 연도에 많이 사용)\n"
      ],
      "metadata": {
        "id": "0KtwlRsEO1l6"
      },
      "execution_count": null,
      "outputs": []
    },
    {
      "cell_type": "markdown",
      "source": [
        "# 1. 리스트"
      ],
      "metadata": {
        "id": "5Ld_nK2fFYz8"
      }
    },
    {
      "cell_type": "markdown",
      "source": [
        "* 변경이 가능한 자료형\n",
        "* 순서가 있는 자료형(시퀀스형 자료형 => 인덱싱과 슬라이싱 가능\n"
      ],
      "metadata": {
        "id": "L-BsNLAyFa-W"
      }
    },
    {
      "cell_type": "code",
      "execution_count": null,
      "metadata": {
        "id": "sHlO5Y0L7Fup"
      },
      "outputs": [],
      "source": [
        "l = [10, 20, 30]\n",
        "\n",
        "# 라인 수가 길어졌을 때에는 이렇게 사용하시길 권합니다.\n",
        "# 권고1\n",
        "l = [10,\n",
        "     20,\n",
        "     30]\n",
        "\n",
        "l = [\n",
        "     10,\n",
        "     20,\n",
        "     30\n",
        "]\n",
        "\n",
        "# 권고2\n",
        "l = [\n",
        "     10,\n",
        "     20,\n",
        "     30,\n",
        "]\n",
        "# 하지만 문제가 있다 -> 통신할 때에는 JSON이라는 형식을 사용하게 되는데\n",
        "# JSON은 마지막에 콤마를 허용하지 않는다.\n",
        "\n",
        "# 따라서 실무 파이썬만 사용한다면 괜찮은데, 통신이 필요한 곳에서는 마지막에 ,를 붙이면 안된다.\n",
        "\n",
        "\n",
        "# 문제가 있는 2번이 더 많이 사용되는 이유?\n",
        "# 실무에서는 콤마를 버전업을 인식하는 경우도 많고,\n",
        "# 콤마를 빼먹는 경우가 많습니다. 따라서 ,를 마지막에 사용\n",
        "# 편의성 : Ctrl + C , Ctrl + V 하기 편하다\n",
        "\n",
        "# 마지막에 누구는 콤마를 쓰고 누구는 콤마를 안쓰고 하면 협업하기 힘들다\n",
        "# 자동 변환 SW를 사용 (Python Black fomatter 사용 -> 띄어쓰기나 콤마등의 가독성을 지원해줌)"
      ]
    },
    {
      "cell_type": "code",
      "source": [
        "s = 'hello world'\n",
        "# s[0] = 'y' # 변경 불가 -> 문자열은 변경 불가\n",
        "\n",
        "# s.replace('h', 'y') # 원본은 변경되지 않음 -> 따라서 재할당을 해야함\n",
        "s = s.replace('h', 'y')\n",
        "\n",
        "print(s)"
      ],
      "metadata": {
        "colab": {
          "base_uri": "https://localhost:8080/"
        },
        "id": "3gARU4vzYOtr",
        "outputId": "2ba1f0fe-470c-4da5-d2d5-ec2b1e0432ea"
      },
      "execution_count": 12,
      "outputs": [
        {
          "output_type": "stream",
          "name": "stdout",
          "text": [
            "yello world\n"
          ]
        }
      ]
    },
    {
      "cell_type": "code",
      "source": [
        "l = [10, 20, 30]\n",
        "l[2] # 인덱싱\n",
        "\n",
        "l[2] = 1000\n",
        "\n",
        "print(l)"
      ],
      "metadata": {
        "colab": {
          "base_uri": "https://localhost:8080/"
        },
        "id": "YsQXA-vPY_Wg",
        "outputId": "e2f8e130-57cb-4264-e67e-2ae3227d5dc3"
      },
      "execution_count": 14,
      "outputs": [
        {
          "output_type": "stream",
          "name": "stdout",
          "text": [
            "[10, 20, 1000]\n"
          ]
        }
      ]
    },
    {
      "cell_type": "code",
      "source": [
        "l = [10, 20, 30, 40, 50]\n",
        "\n",
        "l[3:] # 슬라이싱\n",
        "l[-2:] # 마이너스 인덱싱, 마이너스 슬라이싱은 최종적으로 양수로 치환된다. => -2가 결국엔 최종적으로 양수로 치환되서 3으로 판단된다 즉 [-2:] -> [3:]으로 치환되서 실행\n",
        "\n",
        "# 변수명[stop]\n",
        "# 변수명[start:stop]\n",
        "# 변수명[start:stop:step]"
      ],
      "metadata": {
        "colab": {
          "base_uri": "https://localhost:8080/"
        },
        "id": "1PN77nM-ZjBi",
        "outputId": "640495be-768f-46ef-e22e-6d112195919c"
      },
      "execution_count": 16,
      "outputs": [
        {
          "output_type": "execute_result",
          "data": {
            "text/plain": [
              "[40, 50]"
            ]
          },
          "metadata": {},
          "execution_count": 16
        }
      ]
    },
    {
      "cell_type": "code",
      "source": [
        "type(l), dir(l)\n",
        "# type은 검색 키워드, GPT 질문 키워드가 될 수 있습니다.\n",
        "# dir은 대략적인 속성을 알 수 있습니다."
      ],
      "metadata": {
        "id": "2vkOg4HcZrjQ"
      },
      "execution_count": null,
      "outputs": []
    },
    {
      "cell_type": "code",
      "source": [
        "# __add__가 있으니 더하기는 어디까지 될까? => 테스트\n",
        "# __mul__가 있으니 곱하기는 어디까지 될까? => 테스트\n",
        "\n",
        "l = [10, 20, 30]\n",
        "\n",
        "# l + 100 # 서로 다른 타입의 덧셈은 불가\n",
        "l + [100, 200]\n",
        "\n",
        "l * 3 # 정수 곱하기 가능\n",
        "# 리스트 곱하기는 안된다.\n",
        "# l * [1, 2]"
      ],
      "metadata": {
        "colab": {
          "base_uri": "https://localhost:8080/"
        },
        "id": "e37LQKCRa2Q7",
        "outputId": "a23dab95-19d9-440a-cd31-b7b0716d76aa"
      },
      "execution_count": 20,
      "outputs": [
        {
          "output_type": "execute_result",
          "data": {
            "text/plain": [
              "[10, 20, 30, 10, 20, 30, 10, 20, 30]"
            ]
          },
          "metadata": {},
          "execution_count": 20
        }
      ]
    },
    {
      "cell_type": "code",
      "source": [
        "l = [1,2,3] * 3\n",
        "l[1] = 1000\n",
        "\n",
        "l"
      ],
      "metadata": {
        "colab": {
          "base_uri": "https://localhost:8080/"
        },
        "id": "WLp0UmI4bqIC",
        "outputId": "e3488355-fc61-4dae-8628-73f339f6f6d4"
      },
      "execution_count": 21,
      "outputs": [
        {
          "output_type": "execute_result",
          "data": {
            "text/plain": [
              "[1, 1000, 3, 1, 2, 3, 1, 2, 3]"
            ]
          },
          "metadata": {},
          "execution_count": 21
        }
      ]
    },
    {
      "cell_type": "code",
      "source": [
        "# 리스트 곱하기는 매우 주의해야한다.\n",
        "# 리스트의 곱하기는 같은 객체를 가리키게 되므로 값을 수정하면 해당 주소를 가리키고 있는 리스트 전부 변경된 값이 반영된다.\n",
        "# 같은 메모리를 가리키고 있기 때문.\n",
        "l = [[1,2,3] * 3] * 2\n",
        "l[1][0] = 1000 # 1,0의 값을 변경했는데 0,0의 값도 변경되서 보임\n",
        "\n",
        "l"
      ],
      "metadata": {
        "colab": {
          "base_uri": "https://localhost:8080/"
        },
        "id": "ciIeHl9HcP3e",
        "outputId": "4010009d-ae0f-4a41-fc43-115be421daa4"
      },
      "execution_count": 22,
      "outputs": [
        {
          "output_type": "execute_result",
          "data": {
            "text/plain": [
              "[[1000, 2, 3, 1, 2, 3, 1, 2, 3], [1000, 2, 3, 1, 2, 3, 1, 2, 3]]"
            ]
          },
          "metadata": {},
          "execution_count": 22
        }
      ]
    },
    {
      "cell_type": "code",
      "source": [
        "# 수학적인 용어 -> 암기 필요..\n",
        "x = 10 # 스칼라\n",
        "x = [10] # 벡터\n",
        "x = [10, 20] # 벡터\n",
        "x = [[10, 20], [10, 20]] # 메트릭스(행렬)\n",
        "x = [[[10, 20], [10, 20]]] # 텐서(3차원 이상 행렬)"
      ],
      "metadata": {
        "id": "zASE4-RScazk"
      },
      "execution_count": null,
      "outputs": []
    },
    {
      "cell_type": "code",
      "source": [
        "# 텐서플로? -> google에서 만든 딥러닝 라이브러리\n",
        "# 인공지능 => 행렬의 연산"
      ],
      "metadata": {
        "id": "PhfcAct1ekMQ"
      },
      "execution_count": null,
      "outputs": []
    },
    {
      "cell_type": "code",
      "source": [
        "x = [[1, 2], [3, 4], [5, 6]]\n",
        "\n",
        "x[1]        # 출력 [3, 4]\n",
        "x[1][1]     # 출력 4"
      ],
      "metadata": {
        "colab": {
          "base_uri": "https://localhost:8080/"
        },
        "id": "kRkKMDaKdu-9",
        "outputId": "4142e912-5f55-498a-f01e-52a65ebb5bf9"
      },
      "execution_count": 24,
      "outputs": [
        {
          "output_type": "execute_result",
          "data": {
            "text/plain": [
              "4"
            ]
          },
          "metadata": {},
          "execution_count": 24
        }
      ]
    },
    {
      "cell_type": "code",
      "source": [
        "x = [[1, 2], [3, 'hello world'], [5, 6]]\n",
        "\n",
        "print(x[1][1][-5:])\n",
        "print(x[1][1][6:])"
      ],
      "metadata": {
        "colab": {
          "base_uri": "https://localhost:8080/"
        },
        "id": "F2cZ81XfewtA",
        "outputId": "c097793e-6150-4b41-a91f-50d8283f0916"
      },
      "execution_count": 27,
      "outputs": [
        {
          "output_type": "stream",
          "name": "stdout",
          "text": [
            "world\n",
            "world\n"
          ]
        }
      ]
    },
    {
      "cell_type": "code",
      "source": [
        "x = 10\n",
        "\n",
        "# 두개의 출력은 다르다\n",
        "# print를 하는 것과 맨 마지막 출력하는 것은 다르다!\n",
        "print(x) # __str__\n",
        "x # __repr__           // 다른 출력함수"
      ],
      "metadata": {
        "id": "jR97OV5vfBMs"
      },
      "execution_count": null,
      "outputs": []
    },
    {
      "cell_type": "code",
      "source": [
        "l = [10, 20, 30]\n",
        "dir(l)\n",
        "\n",
        "# Shift + Tab => 내여쓰기\n",
        "\n",
        "'append',\n",
        "'clear',\n",
        "'copy',\n",
        "'count',\n",
        "'extend',\n",
        "'index',\n",
        "'insert',\n",
        "'pop',\n",
        "'remove',\n",
        "'reverse',\n",
        "'sort'"
      ],
      "metadata": {
        "colab": {
          "base_uri": "https://localhost:8080/",
          "height": 35
        },
        "id": "ONm0selwgO-z",
        "outputId": "c7ab499d-37c1-4a45-be82-9b9d3abca987"
      },
      "execution_count": 37,
      "outputs": [
        {
          "output_type": "execute_result",
          "data": {
            "text/plain": [
              "'sort'"
            ],
            "application/vnd.google.colaboratory.intrinsic+json": {
              "type": "string"
            }
          },
          "metadata": {},
          "execution_count": 37
        }
      ]
    },
    {
      "cell_type": "code",
      "source": [
        "# append : 마지막 인덱스에 값 추가\n",
        "l.append(100)\n",
        "l"
      ],
      "metadata": {
        "colab": {
          "base_uri": "https://localhost:8080/"
        },
        "id": "VcwSxLc7gQjS",
        "outputId": "45a92ccc-3b51-4b4f-dd16-0b6d66e03a13"
      },
      "execution_count": 38,
      "outputs": [
        {
          "output_type": "execute_result",
          "data": {
            "text/plain": [
              "[10, 20, 30, 100]"
            ]
          },
          "metadata": {},
          "execution_count": 38
        }
      ]
    },
    {
      "cell_type": "code",
      "source": [
        "# 첫번째 인덱스에 값 추가\n",
        "\n",
        "# 방법 1\n",
        "# l = [1000] + l\n",
        "\n",
        "# 방법 2\n",
        "# l = [1000] + l[:]\n",
        "\n",
        "# 방법 3\n",
        "l.insert(0, 1000)\n",
        "l"
      ],
      "metadata": {
        "colab": {
          "base_uri": "https://localhost:8080/"
        },
        "id": "CCTYgXRgguV7",
        "outputId": "03b54c03-40e6-42a2-8f97-380963f44f7f"
      },
      "execution_count": 39,
      "outputs": [
        {
          "output_type": "execute_result",
          "data": {
            "text/plain": [
              "[1000, 10, 20, 30, 100]"
            ]
          },
          "metadata": {},
          "execution_count": 39
        }
      ]
    },
    {
      "cell_type": "code",
      "source": [
        "# 마지막 값을 제거\n",
        "l = [10, 20, 30, 40]\n",
        "l.pop()\n",
        "l"
      ],
      "metadata": {
        "colab": {
          "base_uri": "https://localhost:8080/"
        },
        "id": "-Ax6xLyHhsEB",
        "outputId": "74068d25-10ef-4615-e5ed-17d123fefba4"
      },
      "execution_count": 40,
      "outputs": [
        {
          "output_type": "execute_result",
          "data": {
            "text/plain": [
              "[10, 20, 30]"
            ]
          },
          "metadata": {},
          "execution_count": 40
        }
      ]
    },
    {
      "cell_type": "code",
      "source": [
        "# 가장 앞의 값을 제거\n",
        "l = [10, 20, 30, 40]\n",
        "l.pop(0)\n",
        "l"
      ],
      "metadata": {
        "colab": {
          "base_uri": "https://localhost:8080/"
        },
        "id": "CFZ_HMAbkdNL",
        "outputId": "b725a590-26a3-4d84-e60c-6dcb0f696fd8"
      },
      "execution_count": 41,
      "outputs": [
        {
          "output_type": "execute_result",
          "data": {
            "text/plain": [
              "[20, 30, 40]"
            ]
          },
          "metadata": {},
          "execution_count": 41
        }
      ]
    },
    {
      "cell_type": "code",
      "source": [],
      "metadata": {
        "id": "TFgomk1RkilC"
      },
      "execution_count": null,
      "outputs": []
    }
  ]
}