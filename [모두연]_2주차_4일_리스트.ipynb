{
  "nbformat": 4,
  "nbformat_minor": 0,
  "metadata": {
    "colab": {
      "provenance": [],
      "authorship_tag": "ABX9TyMW6Qag526NneOir9OUfM/w",
      "include_colab_link": true
    },
    "kernelspec": {
      "name": "python3",
      "display_name": "Python 3"
    },
    "language_info": {
      "name": "python"
    }
  },
  "cells": [
    {
      "cell_type": "markdown",
      "metadata": {
        "id": "view-in-github",
        "colab_type": "text"
      },
      "source": [
        "<a href=\"https://colab.research.google.com/github/Um-king/orm/blob/main/%5B%EB%AA%A8%EB%91%90%EC%97%B0%5D_2%EC%A3%BC%EC%B0%A8_4%EC%9D%BC_%EB%A6%AC%EC%8A%A4%ED%8A%B8.ipynb\" target=\"_parent\"><img src=\"https://colab.research.google.com/assets/colab-badge.svg\" alt=\"Open In Colab\"/></a>"
      ]
    },
    {
      "cell_type": "markdown",
      "source": [
        "# 복습"
      ],
      "metadata": {
        "id": "T7p5vFSGLnoV"
      }
    },
    {
      "cell_type": "code",
      "source": [
        "# 0.1 + 0.2 = 0.300...4 나오는 이유가 0.1이 2진수로 표현했을 때 무한소수여서"
      ],
      "metadata": {
        "id": "9p9vKnIvSzEf"
      },
      "execution_count": null,
      "outputs": []
    },
    {
      "cell_type": "code",
      "source": [
        "a = 10\n",
        "b = a\n",
        "c = b\n",
        "\n",
        "print(c) # a와 b와 c는 연결되어 있지 않다.\n",
        "\n",
        "a = 10\n",
        "b = a\n",
        "c = b\n",
        "a = 20\n",
        "print(c) # a값만 변경됨\n",
        "\n",
        "a = 10\n",
        "b = a\n",
        "\n",
        "# -5~256은 주소를 미리 저장하고 있다.\n",
        "print(id(a))\n",
        "print(id(b))"
      ],
      "metadata": {
        "colab": {
          "base_uri": "https://localhost:8080/"
        },
        "id": "PwXlERWlS00l",
        "outputId": "6c1c6df2-8ea2-4c7c-b36d-09399e3707a9"
      },
      "execution_count": 6,
      "outputs": [
        {
          "output_type": "stream",
          "name": "stdout",
          "text": [
            "10\n",
            "10\n",
            "133269716058640\n",
            "133269716058640\n"
          ]
        }
      ]
    },
    {
      "cell_type": "code",
      "source": [
        "# -5부터 256은 주소가 같습니다.\n",
        "a = 10\n",
        "b = 10\n",
        "\n",
        "print(id(a))\n",
        "print(id(b))\n",
        "\n",
        "a is b # True: -5 ~ 256 값의 주소는 동일하게  가지고 있다."
      ],
      "metadata": {
        "colab": {
          "base_uri": "https://localhost:8080/"
        },
        "id": "BajKi1LTTu43",
        "outputId": "28f50e57-2cb4-4faa-dfe9-a09a104423fd"
      },
      "execution_count": 7,
      "outputs": [
        {
          "output_type": "stream",
          "name": "stdout",
          "text": [
            "133269716058640\n",
            "133269716058640\n"
          ]
        }
      ]
    },
    {
      "cell_type": "code",
      "source": [],
      "metadata": {
        "id": "Kgb-zuDETxnM"
      },
      "execution_count": null,
      "outputs": []
    },
    {
      "cell_type": "code",
      "source": [
        "# 가독성을 위한 print문 작성 추천법\n",
        "# 콤마를 찍지 않은 연결\n",
        "print('hello world '\n",
        "    'hello world')"
      ],
      "metadata": {
        "colab": {
          "base_uri": "https://localhost:8080/"
        },
        "id": "1tGujiFZLIiz",
        "outputId": "e893171a-ca40-4b48-cda0-5c3d5e1e42b6"
      },
      "execution_count": 2,
      "outputs": [
        {
          "output_type": "stream",
          "name": "stdout",
          "text": [
            "hello world hello world\n"
          ]
        }
      ]
    },
    {
      "cell_type": "code",
      "source": [
        "# 질문 : 메서드 체인으로 길어지면 어떻게 하나요?\n",
        "# 답 : 메서드 체인이든, 출력문이든 코드가 80자 이상 길어지면 이미 가독성에 문제가 있는 것.\n",
        "# 메서드 체이닝을 3개 이상 하는걸 권하지 않고, 코드도 길어지는걸 권하지 않음."
      ],
      "metadata": {
        "id": "61n-Krg3Lqlc"
      },
      "execution_count": null,
      "outputs": []
    },
    {
      "cell_type": "code",
      "source": [
        "# 문자열 메서드\n",
        "dir('hello world') # 메서드, 매직메서드, 클래스 변수, 인스턴스 변수 출력\n",
        "\n",
        "# 문제1: find와 index 차이\n",
        "'''\n",
        "find 은 문자열이 없으면 -1\n",
        "index 는 문자열이 없으면 error\n",
        "\n",
        "근데 파이썬에서 -1 은 True로 판단\n",
        "\n",
        "따라서 if 'hello'.find('hi'):   => hi라는 문자열이 없어서 -1을 반환하는데, 파이썬에서 -1은 True로 판단\n",
        "            print(\"찾았다\")\n",
        "\n",
        "해당 코드에서 True가 되므로 엄청난 문제가 되는 코드가 된다.\n",
        "'''\n",
        "\n",
        "# 문제2: isdigit의 정체\n",
        "# isdigit이 엄청 많이 사용됨 -> 문자열이 전부 숫자인지 판단\n",
        "'123'.isdigit()\n",
        "\n",
        "# 문제3: replace가 어디까지 변환하는지?\n",
        "# replace는 \"정규표현식이 안된다\"  -> 정규 표현식 사용은 re.sub\n",
        "'hello world hello world'.replace('hello', 'hi') # 모두 다 변환 됩니다. 몇개만 변환 되는것이 아니다.\n"
      ],
      "metadata": {
        "colab": {
          "base_uri": "https://localhost:8080/",
          "height": 35
        },
        "id": "xMN4hxhFMTUo",
        "outputId": "9385ec85-df8a-47ae-dacb-84b166973b69"
      },
      "execution_count": 4,
      "outputs": [
        {
          "output_type": "execute_result",
          "data": {
            "text/plain": [
              "'hi world hi world'"
            ],
            "application/vnd.google.colaboratory.intrinsic+json": {
              "type": "string"
            }
          },
          "metadata": {},
          "execution_count": 4
        }
      ]
    },
    {
      "cell_type": "code",
      "source": [
        "dir('hello world')\n",
        "\n",
        "# 문제4 : strip() -> 공백 제거\n",
        "# 문제5 : zfill() -> 앞에 0으로 채워주는 것(원하는 자릿수만큼, 시간이나 연도에 많이 사용)\n"
      ],
      "metadata": {
        "id": "0KtwlRsEO1l6"
      },
      "execution_count": null,
      "outputs": []
    },
    {
      "cell_type": "markdown",
      "source": [
        "# 1. 리스트"
      ],
      "metadata": {
        "id": "5Ld_nK2fFYz8"
      }
    },
    {
      "cell_type": "markdown",
      "source": [
        "* 변경이 가능한 자료형\n",
        "* 순서가 있는 자료형(시퀀스형 자료형 => 인덱싱과 슬라이싱 가능\n"
      ],
      "metadata": {
        "id": "L-BsNLAyFa-W"
      }
    },
    {
      "cell_type": "code",
      "execution_count": null,
      "metadata": {
        "id": "sHlO5Y0L7Fup"
      },
      "outputs": [],
      "source": [
        "l = [10, 20, 30]\n",
        "\n",
        "# 라인 수가 길어졌을 때에는 이렇게 사용하시길 권합니다.\n",
        "# 권고1\n",
        "l = [10,\n",
        "     20,\n",
        "     30]\n",
        "\n",
        "l = [\n",
        "     10,\n",
        "     20,\n",
        "     30\n",
        "]\n",
        "\n",
        "# 권고2\n",
        "l = [\n",
        "     10,\n",
        "     20,\n",
        "     30,\n",
        "]\n",
        "# 하지만 문제가 있다 -> 통신할 때에는 JSON이라는 형식을 사용하게 되는데\n",
        "# JSON은 마지막에 콤마를 허용하지 않는다.\n",
        "\n",
        "# 따라서 실무 파이썬만 사용한다면 괜찮은데, 통신이 필요한 곳에서는 마지막에 ,를 붙이면 안된다.\n",
        "\n",
        "\n",
        "# 문제가 있는 2번이 더 많이 사용되는 이유?\n",
        "# 실무에서는 콤마를 버전업을 인식하는 경우도 많고,\n",
        "# 콤마를 빼먹는 경우가 많습니다. 따라서 ,를 마지막에 사용\n",
        "# 편의성 : Ctrl + C , Ctrl + V 하기 편하다\n",
        "\n",
        "# 마지막에 누구는 콤마를 쓰고 누구는 콤마를 안쓰고 하면 협업하기 힘들다\n",
        "# 자동 변환 SW를 사용 (Python Black fomatter 사용 -> 띄어쓰기나 콤마등의 가독성을 지원해줌)"
      ]
    },
    {
      "cell_type": "code",
      "source": [
        "l = [10, 20, 30]"
      ],
      "metadata": {
        "id": "Md91GQJISkiK"
      },
      "execution_count": null,
      "outputs": []
    }
  ]
}