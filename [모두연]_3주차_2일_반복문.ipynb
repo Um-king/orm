{
  "nbformat": 4,
  "nbformat_minor": 0,
  "metadata": {
    "colab": {
      "provenance": [],
      "authorship_tag": "ABX9TyM4XB4PQCwjgp1IWJ4/J0yP",
      "include_colab_link": true
    },
    "kernelspec": {
      "name": "python3",
      "display_name": "Python 3"
    },
    "language_info": {
      "name": "python"
    }
  },
  "cells": [
    {
      "cell_type": "markdown",
      "metadata": {
        "id": "view-in-github",
        "colab_type": "text"
      },
      "source": [
        "<a href=\"https://colab.research.google.com/github/Um-king/orm/blob/main/%5B%EB%AA%A8%EB%91%90%EC%97%B0%5D_3%EC%A3%BC%EC%B0%A8_2%EC%9D%BC_%EB%B0%98%EB%B3%B5%EB%AC%B8.ipynb\" target=\"_parent\"><img src=\"https://colab.research.google.com/assets/colab-badge.svg\" alt=\"Open In Colab\"/></a>"
      ]
    },
    {
      "cell_type": "markdown",
      "source": [
        "# 1. 반복문"
      ],
      "metadata": {
        "id": "VkP1yOP0Euv7"
      }
    },
    {
      "cell_type": "code",
      "source": [
        "# 함수 기본 구조\n",
        "def 함수명():\n",
        "    pass"
      ],
      "metadata": {
        "id": "qu5aufmpE2F7"
      },
      "execution_count": null,
      "outputs": []
    },
    {
      "cell_type": "code",
      "source": [
        "# 조건문 기본 구조\n",
        "if 조건:\n",
        "    pass"
      ],
      "metadata": {
        "id": "cB1xYEwfE160"
      },
      "execution_count": null,
      "outputs": []
    },
    {
      "cell_type": "code",
      "source": [
        "# for문의 기본 구조\n",
        "\n",
        "for 변수명 in 순회_가능한_객체 : # 반드시 순회 가능한 객체를 작성\n",
        "    pass # 수행할_문장"
      ],
      "metadata": {
        "id": "Pj1U4dQhFRfT"
      },
      "execution_count": null,
      "outputs": []
    },
    {
      "cell_type": "code",
      "source": [
        "# 반복문 기초 - 문자열\n",
        "\n",
        "# 1. 'hello'를 순서대로 하나씩 단어를 꺼내서\n",
        "# 2. x에 하나씩 넣은 다음에\n",
        "# 3. 하나씩 for문 아래 코드 블럭을 수행한다.\n",
        "# 4. 그리고 순서가 마쳐지면 -> 다음 시퀀스(순서)로 넘어가서 똑같은 작업을 수행한다.\n",
        "\n",
        "for x in 'hello': # 순회가 가능한 객체 -> 문자열 / 리스트 / 다른 데이터셋 / range(10) / 기타등등\n",
        "    print(f\"현자 값은 {x} 입니다.\")"
      ],
      "metadata": {
        "colab": {
          "base_uri": "https://localhost:8080/"
        },
        "id": "zc0EEMjmFV4J",
        "outputId": "2ce28d34-9078-4c24-8164-9c43367159e5"
      },
      "execution_count": null,
      "outputs": [
        {
          "output_type": "stream",
          "name": "stdout",
          "text": [
            "현자 값은 h 입니다.\n",
            "현자 값은 e 입니다.\n",
            "현자 값은 l 입니다.\n",
            "현자 값은 l 입니다.\n",
            "현자 값은 o 입니다.\n"
          ]
        }
      ]
    },
    {
      "cell_type": "code",
      "source": [
        "for x in range(10):\n",
        "    print(f\"현자 값은 {x} 입니다.\")"
      ],
      "metadata": {
        "colab": {
          "base_uri": "https://localhost:8080/"
        },
        "id": "_NImy5mYFcHm",
        "outputId": "965866ca-c128-4084-e26c-a3d151f6f809"
      },
      "execution_count": null,
      "outputs": [
        {
          "output_type": "stream",
          "name": "stdout",
          "text": [
            "현자 값은 0 입니다.\n",
            "현자 값은 1 입니다.\n",
            "현자 값은 2 입니다.\n",
            "현자 값은 3 입니다.\n",
            "현자 값은 4 입니다.\n",
            "현자 값은 5 입니다.\n",
            "현자 값은 6 입니다.\n",
            "현자 값은 7 입니다.\n",
            "현자 값은 8 입니다.\n",
            "현자 값은 9 입니다.\n"
          ]
        }
      ]
    },
    {
      "cell_type": "code",
      "source": [
        "for x in range(10,20,2):\n",
        "    print(f\"현자 값은 {x} 입니다.\")"
      ],
      "metadata": {
        "colab": {
          "base_uri": "https://localhost:8080/"
        },
        "id": "BIww9yhSHD2f",
        "outputId": "1e2dca7a-4692-4e20-e913-7e2d5b4ebec0"
      },
      "execution_count": null,
      "outputs": [
        {
          "output_type": "stream",
          "name": "stdout",
          "text": [
            "현자 값은 10 입니다.\n",
            "현자 값은 12 입니다.\n",
            "현자 값은 14 입니다.\n",
            "현자 값은 16 입니다.\n",
            "현자 값은 18 입니다.\n"
          ]
        }
      ]
    },
    {
      "cell_type": "code",
      "source": [
        "for x in [1,2,3,4,5]:\n",
        "    print(f\"현자 값은 {x} 입니다.\")"
      ],
      "metadata": {
        "colab": {
          "base_uri": "https://localhost:8080/"
        },
        "id": "nBDyPOaNGx5C",
        "outputId": "8321f773-0509-482d-fec4-e3fbd91eb8f1"
      },
      "execution_count": null,
      "outputs": [
        {
          "output_type": "stream",
          "name": "stdout",
          "text": [
            "현자 값은 1 입니다.\n",
            "현자 값은 2 입니다.\n",
            "현자 값은 3 입니다.\n",
            "현자 값은 4 입니다.\n",
            "현자 값은 5 입니다.\n"
          ]
        }
      ]
    },
    {
      "cell_type": "code",
      "source": [
        "# 문자열 자료형을 범위로 가져왔을 때!\n",
        "s = 'hello world'\n",
        "for i in s:\n",
        "    print(i)"
      ],
      "metadata": {
        "colab": {
          "base_uri": "https://localhost:8080/"
        },
        "id": "OFWaRbZsG0B6",
        "outputId": "6b3cae86-4ed1-4051-e6e9-bad51190b7a6"
      },
      "execution_count": null,
      "outputs": [
        {
          "output_type": "stream",
          "name": "stdout",
          "text": [
            "h\n",
            "e\n",
            "l\n",
            "l\n",
            "o\n",
            " \n",
            "w\n",
            "o\n",
            "r\n",
            "l\n",
            "d\n"
          ]
        }
      ]
    },
    {
      "cell_type": "code",
      "source": [
        "# 문자열의 숫자를 형변환\n",
        "s = '123'\n",
        "result = 0\n",
        "for i in s:\n",
        "    result += int(i) # 1 + 2 + 3\n",
        "\n",
        "print(result)"
      ],
      "metadata": {
        "colab": {
          "base_uri": "https://localhost:8080/"
        },
        "id": "VqnYVY1uHTBY",
        "outputId": "084c2362-3759-4b6d-8556-1b58fe748f26"
      },
      "execution_count": null,
      "outputs": [
        {
          "output_type": "stream",
          "name": "stdout",
          "text": [
            "6\n"
          ]
        }
      ]
    },
    {
      "cell_type": "code",
      "source": [
        "# 딕셔너리 자료형\n",
        "# key 값이 출력된다.\n",
        "\n",
        "단어_사전 = {\n",
        "    '하나' : 'one',\n",
        "    '둘' : 'two',\n",
        "    '셋' : 'three',\n",
        "}\n",
        "\n",
        "for i in 단어_사전:\n",
        "    print(i)"
      ],
      "metadata": {
        "colab": {
          "base_uri": "https://localhost:8080/"
        },
        "id": "EXWr-qNMHh6a",
        "outputId": "626c4bb7-fcb0-4165-ec59-96b05ba0f1c0"
      },
      "execution_count": null,
      "outputs": [
        {
          "output_type": "stream",
          "name": "stdout",
          "text": [
            "하나\n",
            "둘\n",
            "셋\n"
          ]
        }
      ]
    },
    {
      "cell_type": "code",
      "source": [
        "# items() 함수를 사용하여 튜플 출력.\n",
        "\n",
        "단어_사전 = {\n",
        "    '하나' : 'one',\n",
        "    '둘' : 'two',\n",
        "    '셋' : 'three',\n",
        "}\n",
        "\n",
        "for i in 단어_사전.items():\n",
        "    print(i)"
      ],
      "metadata": {
        "colab": {
          "base_uri": "https://localhost:8080/"
        },
        "id": "vE1HP093H0SW",
        "outputId": "56d5b670-44bc-464f-cb6b-89015a224e8c"
      },
      "execution_count": null,
      "outputs": [
        {
          "output_type": "stream",
          "name": "stdout",
          "text": [
            "('하나', 'one')\n",
            "('둘', 'two')\n",
            "('셋', 'three')\n"
          ]
        }
      ]
    },
    {
      "cell_type": "code",
      "source": [
        "# items() 함수를 사용하여 key, value 출력.\n",
        "# key(키)에 해당하는 value(값) 또한 가져오고 싶다면 아래와 같이 튜플 언패킹을 사용할 수 있습니다.\n",
        "\n",
        "단어_사전 = {\n",
        "    '하나' : 'one',\n",
        "    '둘' : 'two',\n",
        "    '셋' : 'three',\n",
        "}\n",
        "\n",
        "for i, k in 단어_사전.items(): # i와 k라는 변수에 key와 value의 값을 할당\n",
        "    print(i, k)"
      ],
      "metadata": {
        "colab": {
          "base_uri": "https://localhost:8080/"
        },
        "id": "mr8LUCVIIGyP",
        "outputId": "203f604a-e769-4d93-8880-1785bb61590e"
      },
      "execution_count": null,
      "outputs": [
        {
          "output_type": "stream",
          "name": "stdout",
          "text": [
            "하나 one\n",
            "둘 two\n",
            "셋 three\n"
          ]
        }
      ]
    },
    {
      "cell_type": "code",
      "source": [
        "result = 0\n",
        "for i in range(101):\n",
        "    result += i\n",
        "result"
      ],
      "metadata": {
        "colab": {
          "base_uri": "https://localhost:8080/"
        },
        "id": "JlKvqPDaITap",
        "outputId": "1d184f7e-5b72-4036-9568-62b0ce3f77e5"
      },
      "execution_count": null,
      "outputs": [
        {
          "output_type": "execute_result",
          "data": {
            "text/plain": [
              "5050"
            ]
          },
          "metadata": {},
          "execution_count": 13
        }
      ]
    },
    {
      "cell_type": "code",
      "source": [
        "# 짝수 코드를 작성\n",
        "# 0부터 100까지 짝수를 더하는 코드\n",
        "\n",
        "# 변수 선언 필요\n",
        "result = 0\n",
        "# 리스트라면 비어있는 리스트라도 만들어야한다 result = []\n",
        "# 비어있는 자료형도 자료형이다. None도 자료형이다\n",
        "\n",
        "for i in range(101): # 0~100 까지 시퀀스 자료형을 불러온다.\n",
        "    if i % 2 == 0:   # 0~100 까지 중에서 짝수만 가져온다.\n",
        "        result += i  # 짝수를 가져와 누적으로 더한다. 0, 2, 4, 6, ... 100 까지 더한다.\n",
        "\n",
        "print(result)"
      ],
      "metadata": {
        "colab": {
          "base_uri": "https://localhost:8080/"
        },
        "id": "KoiLt2VBLyCa",
        "outputId": "2b40c92e-0e0b-4fb0-f235-47ab57f25332"
      },
      "execution_count": null,
      "outputs": [
        {
          "output_type": "stream",
          "name": "stdout",
          "text": [
            "2550\n"
          ]
        }
      ]
    },
    {
      "cell_type": "code",
      "source": [
        "# 이 코드는 절반만 순회를 돌고, if문도 확인할 필요가 없어 위 코드에 비해 효율적입니다.\n",
        "\n",
        "result = 0\n",
        "for i in range(0, 101, 2):\n",
        "    result += i\n",
        "result"
      ],
      "metadata": {
        "colab": {
          "base_uri": "https://localhost:8080/"
        },
        "id": "mMNyx_YWMYk_",
        "outputId": "d5af912e-20ea-4669-9236-6e0d07371160"
      },
      "execution_count": null,
      "outputs": [
        {
          "output_type": "execute_result",
          "data": {
            "text/plain": [
              "2550"
            ]
          },
          "metadata": {},
          "execution_count": 16
        }
      ]
    },
    {
      "cell_type": "markdown",
      "source": [
        "# 2. 중첩 반복문"
      ],
      "metadata": {
        "id": "Vutyk1-iNrct"
      }
    },
    {
      "cell_type": "code",
      "source": [
        "# code1 다중 리스트\n",
        "for i in [[1, 2], [10, 20], [100, 200]]:\n",
        "    print(i) # 리스트내 리스트를 출력"
      ],
      "metadata": {
        "colab": {
          "base_uri": "https://localhost:8080/"
        },
        "id": "OY0AF4T_NO5z",
        "outputId": "867ffa21-a975-4a9c-e4b2-c3bc5892f164"
      },
      "execution_count": null,
      "outputs": [
        {
          "output_type": "stream",
          "name": "stdout",
          "text": [
            "[1, 2]\n",
            "[10, 20]\n",
            "[100, 200]\n"
          ]
        }
      ]
    },
    {
      "cell_type": "code",
      "source": [
        "# code2 리스트[0]의 값을 조건으로 설정\n",
        "for j in [1, 2]:\n",
        "    print(j) # 각각의 값을 출력"
      ],
      "metadata": {
        "colab": {
          "base_uri": "https://localhost:8080/"
        },
        "id": "je7-x14cNvn5",
        "outputId": "b96de221-f643-40aa-f82d-4537204ffb45"
      },
      "execution_count": null,
      "outputs": [
        {
          "output_type": "stream",
          "name": "stdout",
          "text": [
            "1\n",
            "2\n"
          ]
        }
      ]
    },
    {
      "cell_type": "code",
      "source": [
        "# code 3 : code1과 code2를 합침\n",
        "# 리스트 안에 있는 또 다른 리스트 안의 값을 출력\n",
        "\n",
        "for i in [[1, 2], [10, 20], [100, 200]]:\n",
        "    for j in i:\n",
        "        print(j)"
      ],
      "metadata": {
        "colab": {
          "base_uri": "https://localhost:8080/"
        },
        "id": "2ohmRDjJOQm6",
        "outputId": "e50146a0-f8d9-4f00-fff2-f7c375bfdf76"
      },
      "execution_count": null,
      "outputs": [
        {
          "output_type": "stream",
          "name": "stdout",
          "text": [
            "1\n",
            "2\n",
            "10\n",
            "20\n",
            "100\n",
            "200\n"
          ]
        }
      ]
    },
    {
      "cell_type": "code",
      "source": [
        "for i in [[1, 2], [10, 20], [100, 200]]:\n",
        "    for j in i:\n",
        "        print(i)\n",
        "        print(j)"
      ],
      "metadata": {
        "colab": {
          "base_uri": "https://localhost:8080/"
        },
        "id": "CjAo4zOMP3Ts",
        "outputId": "b3c1f634-07c5-41ca-c305-0309970fac4a"
      },
      "execution_count": null,
      "outputs": [
        {
          "output_type": "stream",
          "name": "stdout",
          "text": [
            "[1, 2]\n",
            "1\n",
            "[1, 2]\n",
            "2\n",
            "[10, 20]\n",
            "10\n",
            "[10, 20]\n",
            "20\n",
            "[100, 200]\n",
            "100\n",
            "[100, 200]\n",
            "200\n"
          ]
        }
      ]
    },
    {
      "cell_type": "code",
      "source": [
        "#  for를 중첩하여 구구단을 출력\n",
        "\n",
        "for i in range(2, 10): # 2~9 까지 수행\n",
        "    print(f'---{i}단---') # 2,3,4, ... 8, 9단\n",
        "    for j in range(1, 10): # 1~ 9까지 수행\n",
        "         print(f'{i} * {j} = {i * j}') # j = 1, 2, ... 8, 9 => i * j => 2 * 1 ...\n"
      ],
      "metadata": {
        "colab": {
          "base_uri": "https://localhost:8080/"
        },
        "id": "EFsVvHMRQDmu",
        "outputId": "284ac2d7-ac45-4739-b7e0-7398eb5cba90"
      },
      "execution_count": null,
      "outputs": [
        {
          "output_type": "stream",
          "name": "stdout",
          "text": [
            "---2단---\n",
            "2 * 1 = 2\n",
            "2 * 2 = 4\n",
            "2 * 3 = 6\n",
            "2 * 4 = 8\n",
            "2 * 5 = 10\n",
            "2 * 6 = 12\n",
            "2 * 7 = 14\n",
            "2 * 8 = 16\n",
            "2 * 9 = 18\n",
            "---3단---\n",
            "3 * 1 = 3\n",
            "3 * 2 = 6\n",
            "3 * 3 = 9\n",
            "3 * 4 = 12\n",
            "3 * 5 = 15\n",
            "3 * 6 = 18\n",
            "3 * 7 = 21\n",
            "3 * 8 = 24\n",
            "3 * 9 = 27\n",
            "---4단---\n",
            "4 * 1 = 4\n",
            "4 * 2 = 8\n",
            "4 * 3 = 12\n",
            "4 * 4 = 16\n",
            "4 * 5 = 20\n",
            "4 * 6 = 24\n",
            "4 * 7 = 28\n",
            "4 * 8 = 32\n",
            "4 * 9 = 36\n",
            "---5단---\n",
            "5 * 1 = 5\n",
            "5 * 2 = 10\n",
            "5 * 3 = 15\n",
            "5 * 4 = 20\n",
            "5 * 5 = 25\n",
            "5 * 6 = 30\n",
            "5 * 7 = 35\n",
            "5 * 8 = 40\n",
            "5 * 9 = 45\n",
            "---6단---\n",
            "6 * 1 = 6\n",
            "6 * 2 = 12\n",
            "6 * 3 = 18\n",
            "6 * 4 = 24\n",
            "6 * 5 = 30\n",
            "6 * 6 = 36\n",
            "6 * 7 = 42\n",
            "6 * 8 = 48\n",
            "6 * 9 = 54\n",
            "---7단---\n",
            "7 * 1 = 7\n",
            "7 * 2 = 14\n",
            "7 * 3 = 21\n",
            "7 * 4 = 28\n",
            "7 * 5 = 35\n",
            "7 * 6 = 42\n",
            "7 * 7 = 49\n",
            "7 * 8 = 56\n",
            "7 * 9 = 63\n",
            "---8단---\n",
            "8 * 1 = 8\n",
            "8 * 2 = 16\n",
            "8 * 3 = 24\n",
            "8 * 4 = 32\n",
            "8 * 5 = 40\n",
            "8 * 6 = 48\n",
            "8 * 7 = 56\n",
            "8 * 8 = 64\n",
            "8 * 9 = 72\n",
            "---9단---\n",
            "9 * 1 = 9\n",
            "9 * 2 = 18\n",
            "9 * 3 = 27\n",
            "9 * 4 = 36\n",
            "9 * 5 = 45\n",
            "9 * 6 = 54\n",
            "9 * 7 = 63\n",
            "9 * 8 = 72\n",
            "9 * 9 = 81\n"
          ]
        }
      ]
    },
    {
      "cell_type": "markdown",
      "source": [
        "# 2.2 리스트 컴프리헨션"
      ],
      "metadata": {
        "id": "JQpG7pEcSBqj"
      }
    },
    {
      "cell_type": "code",
      "source": [
        "# 그동안 작성법\n",
        "\n",
        "# 기존 반복문을 통해 리스트에 append\n",
        "x = []\n",
        "\n",
        "for i in range(1, 10):\n",
        "  x.append(i) # append() : 리스트에 값 추가\n",
        "\n",
        "print(x)"
      ],
      "metadata": {
        "colab": {
          "base_uri": "https://localhost:8080/"
        },
        "id": "WFGiNDTsQ2Rm",
        "outputId": "dbe07927-c123-4bd3-8708-1381470ad7ea"
      },
      "execution_count": null,
      "outputs": [
        {
          "output_type": "stream",
          "name": "stdout",
          "text": [
            "[1, 2, 3, 4, 5, 6, 7, 8, 9]\n"
          ]
        }
      ]
    },
    {
      "cell_type": "code",
      "source": [
        "# 리스트 컴프리헨션 : 간결하게 리스트를 생성하는 기능\n",
        "\n",
        "# 리스트 컴프리헨션을 사용 시 문법의 간결함 증대뿐 아니라 for문으로 append하는 것보다 속도가 빠르다\n",
        "\n",
        "# step1 list안에 for문을 가져옵니다.\n",
        "[for i in range(1, 10)] # for문 시작하는 조건을 가져오고 리스트로 묶는다.\n",
        "\n",
        "# step2 append 항목을 앞으로 가져옵니다. -> 여기서 i를 뜻함 -> 자동으로 append\n",
        "# for 앞에 변수는 리스트에 들어갈 값. for는 리스트에 담을 값의 조건\n",
        "a = [i for i in range(1, 10)] # 출력: [1, 2, 3, 4, 5, 6, 7, 8, 9]\n",
        "b = [i*2 for i in range(1, 10)] # 출력: [2, 4, 6, 8, 10, 12, 14, 16, 18]"
      ],
      "metadata": {
        "id": "U0XVNesYSNLP"
      },
      "execution_count": null,
      "outputs": []
    },
    {
      "cell_type": "code",
      "source": [
        "# 첫번째 i = 리스트에 append할 값\n",
        "# 두번째 for문을 사용하여 어떤 값을 append할건지 조건 설정\n",
        "c = [i for i in range(1, 10)]\n",
        "print(c)\n",
        "\n",
        "a = [i for i in range(1, 10)] # 출력: [1, 2, 3, 4, 5, 6, 7, 8, 9]\n",
        "b = [i*2 for i in range(1, 10)] # 출력: [1, 2, 3, 4, 5, 6, 7, 8, 9]\n",
        "print(a)\n",
        "print(b)"
      ],
      "metadata": {
        "colab": {
          "base_uri": "https://localhost:8080/"
        },
        "id": "51F4uYraSOHz",
        "outputId": "65d71995-a9b6-456d-a8ce-8adccb5a5afa"
      },
      "execution_count": null,
      "outputs": [
        {
          "output_type": "stream",
          "name": "stdout",
          "text": [
            "[1, 2, 3, 4, 5, 6, 7, 8, 9]\n",
            "[1, 2, 3, 4, 5, 6, 7, 8, 9]\n",
            "[2, 4, 6, 8, 10, 12, 14, 16, 18]\n"
          ]
        }
      ]
    },
    {
      "cell_type": "code",
      "source": [
        "# 리스트 컴프리헨션 + 조건문 => 반복문에 해당하는 내역의 조건을 설정\n",
        "l = [i for i in range(1, 100) if i % 3 == 0 or i % 5 == 0]\n",
        "l"
      ],
      "metadata": {
        "colab": {
          "base_uri": "https://localhost:8080/"
        },
        "id": "OObmx1SaUB6v",
        "outputId": "124f25b0-e239-4b94-bafc-afc453f3ef49"
      },
      "execution_count": null,
      "outputs": [
        {
          "output_type": "execute_result",
          "data": {
            "text/plain": [
              "[3,\n",
              " 5,\n",
              " 6,\n",
              " 9,\n",
              " 10,\n",
              " 12,\n",
              " 15,\n",
              " 18,\n",
              " 20,\n",
              " 21,\n",
              " 24,\n",
              " 25,\n",
              " 27,\n",
              " 30,\n",
              " 33,\n",
              " 35,\n",
              " 36,\n",
              " 39,\n",
              " 40,\n",
              " 42,\n",
              " 45,\n",
              " 48,\n",
              " 50,\n",
              " 51,\n",
              " 54,\n",
              " 55,\n",
              " 57,\n",
              " 60,\n",
              " 63,\n",
              " 65,\n",
              " 66,\n",
              " 69,\n",
              " 70,\n",
              " 72,\n",
              " 75,\n",
              " 78,\n",
              " 80,\n",
              " 81,\n",
              " 84,\n",
              " 85,\n",
              " 87,\n",
              " 90,\n",
              " 93,\n",
              " 95,\n",
              " 96,\n",
              " 99]"
            ]
          },
          "metadata": {},
          "execution_count": 36
        }
      ]
    },
    {
      "cell_type": "code",
      "source": [
        "l = [i for i in range(1, 10) if i % 2 == 0] # 짝수만\n",
        "l"
      ],
      "metadata": {
        "colab": {
          "base_uri": "https://localhost:8080/"
        },
        "id": "ql-yCBjQUTi7",
        "outputId": "5680c8f7-79cf-4bbb-d4d3-d7ddc7b91d9f"
      },
      "execution_count": null,
      "outputs": [
        {
          "output_type": "execute_result",
          "data": {
            "text/plain": [
              "[2, 4, 6, 8]"
            ]
          },
          "metadata": {},
          "execution_count": 38
        }
      ]
    },
    {
      "cell_type": "code",
      "source": [
        "# 조건문이 많아질 경우 가독성이 떨어지므로 for문과 if문을 컴프리헨션이 아닌 기존처럼 작성하는게 좋다.\n",
        "nums = [1, 2, 3, 4, 5]\n",
        "result = [f'{x}는 3보다 큰 짝수' if x % 2 == 0 else f'{x}는 3보다 큰 홀수' for x in nums if x > 3]\n",
        "print(result) # 출력: ['4는 3보다 큰 짝수', '5는 3보다 큰 홀수']"
      ],
      "metadata": {
        "colab": {
          "base_uri": "https://localhost:8080/"
        },
        "id": "RCNCvhFXUhtb",
        "outputId": "52b9cc22-f0e7-4b20-b48d-775997569638"
      },
      "execution_count": null,
      "outputs": [
        {
          "output_type": "stream",
          "name": "stdout",
          "text": [
            "['4는 3보다 큰 짝수', '5는 3보다 큰 홀수']\n"
          ]
        }
      ]
    },
    {
      "cell_type": "code",
      "source": [
        "# 컴프리헨션이 아닌 가독성을 위한 추천 코드 작성\n",
        "result = []\n",
        "nums = [1, 2, 3, 4, 5]\n",
        "for x in nums:\n",
        "    if x > 3:\n",
        "        if x % 2 == 0:\n",
        "            result.append(f'{x}는 3보다 큰 짝수')\n",
        "        else:\n",
        "            result.append(f'{x}는 3보다 큰 홀수')\n",
        "print(result)"
      ],
      "metadata": {
        "colab": {
          "base_uri": "https://localhost:8080/"
        },
        "id": "EW-N8469U2eG",
        "outputId": "ae303c72-3607-4d4e-f9fc-0e4c66239f59"
      },
      "execution_count": null,
      "outputs": [
        {
          "output_type": "stream",
          "name": "stdout",
          "text": [
            "['4는 3보다 큰 짝수', '5는 3보다 큰 홀수']\n"
          ]
        }
      ]
    },
    {
      "cell_type": "code",
      "source": [
        "# 중첩된 리스트 컴프리헨션\n",
        "\n",
        "# 리스트 컴프리헨션: 중첩된 반복문\n",
        "c = [f'{i} × {j} = {i*j}' for i in range(2, 10) for j in range(1, 10)]\n",
        "\n",
        "# 리스트 컴프리헨션: 중첩된 컴프리헨션\n",
        "cc = [[f'{i} × {j} = {i*j}' for j in range(1, 10)] for i in range(2, 10)]\n",
        "\n",
        "# 전통적인 방법\n",
        "c_list = []\n",
        "for i in range(2, 10):\n",
        "    for j in range(1, 10):\n",
        "        c_list.append(f'{i} × {j} = {i*j}')"
      ],
      "metadata": {
        "id": "dJxOFf1dVBp8"
      },
      "execution_count": 1,
      "outputs": []
    },
    {
      "cell_type": "code",
      "source": [
        "def sumthingFunction(i): # 함수 sumthingFunction(i) 생성\n",
        "    if i % 100 ==0:      # 조건문 100으로 나눴을때 나머지가 0이 되는것\n",
        "        return i         # 조건에 일치하면 i, 일치하지 않으면 0을 리턴\n",
        "    else:\n",
        "        return 0\n",
        "\n",
        "l = [100, 200, 300, 101, 202, 303]\n",
        "l = [sumthingFunction(i) for i in l] # 리스트 컴프리헨션에 함수가 들어가 있는 예제\n",
        "l # 출력: [100, 200, 300, 0, 0, 0]"
      ],
      "metadata": {
        "colab": {
          "base_uri": "https://localhost:8080/"
        },
        "id": "0yLHLfh1oKzG",
        "outputId": "324256b7-d260-43c6-ef9f-f0b62daaf85a"
      },
      "execution_count": 2,
      "outputs": [
        {
          "output_type": "execute_result",
          "data": {
            "text/plain": [
              "[100, 200, 300, 0, 0, 0]"
            ]
          },
          "metadata": {},
          "execution_count": 2
        }
      ]
    },
    {
      "cell_type": "code",
      "source": [
        "# lamdba 식 사용\n",
        "\n",
        "l = [100, 200, 300, 101, 202, 303]\n",
        "l2 = [(lambda x : x * x) (x) for x in l]\n",
        "print(l2)"
      ],
      "metadata": {
        "colab": {
          "base_uri": "https://localhost:8080/"
        },
        "id": "pksaJm-upQsc",
        "outputId": "67c7484d-ff73-4fa9-9150-a9ac9befae9c"
      },
      "execution_count": 5,
      "outputs": [
        {
          "output_type": "stream",
          "name": "stdout",
          "text": [
            "[10000, 40000, 90000, 10201, 40804, 91809]\n"
          ]
        }
      ]
    },
    {
      "cell_type": "code",
      "source": [
        "# 전통적인 방법\n",
        "d = {}\n",
        "for i in range(5):\n",
        "    d[i] = i**2\n",
        "\n",
        "# 딕셔너리 컴프리헨션 사용\n",
        "dd = {i: i**2 for i in range(5)} # key값과 value값을 할당하고 반복문 실행\n",
        "# i : i**2 에서 첫번째 i는 key로, i**2는 value로 저장된다.\n",
        "\n",
        "print(d)\n",
        "print(dd)"
      ],
      "metadata": {
        "colab": {
          "base_uri": "https://localhost:8080/"
        },
        "id": "t-J3-xYep_85",
        "outputId": "68083363-3d20-41b9-d0ef-0e60a0b9f8a7"
      },
      "execution_count": 7,
      "outputs": [
        {
          "output_type": "stream",
          "name": "stdout",
          "text": [
            "{0: 0, 1: 1, 2: 4, 3: 9, 4: 16}\n",
            "{0: 0, 1: 1, 2: 4, 3: 9, 4: 16}\n"
          ]
        }
      ]
    },
    {
      "cell_type": "code",
      "source": [
        "# 복합 순회형 자료 for문\n",
        "\n",
        "# 각각의 인덱스에 맞는 값들을 언패킹하여 출력\n",
        "for i, j, k in ['abc', 'def', 'ghi']:\n",
        "    print(i, j, k)"
      ],
      "metadata": {
        "colab": {
          "base_uri": "https://localhost:8080/"
        },
        "id": "3sspm6eKqywQ",
        "outputId": "10f2dc83-dd6b-4862-ea2d-5ad5ae4772ca"
      },
      "execution_count": 8,
      "outputs": [
        {
          "output_type": "stream",
          "name": "stdout",
          "text": [
            "a b c\n",
            "d e f\n",
            "g h i\n"
          ]
        }
      ]
    },
    {
      "cell_type": "code",
      "source": [
        "# 튜플 형태 언패킹\n",
        "\n",
        "skill = [\n",
        "        ('고기잡이', 100),\n",
        "        ('고기팔기', 120),\n",
        "        ('낚시', 5),\n",
        "        ('통발', 5),\n",
        "        ('큰그물', 5)\n",
        "]\n",
        "\n",
        "for i, j in skill: # 각 튜플을 하나씩 가져와서 i, j에 저장한 후 출력\n",
        "    print(i, j)"
      ],
      "metadata": {
        "colab": {
          "base_uri": "https://localhost:8080/"
        },
        "id": "q6twf5QxrzL3",
        "outputId": "5b3edbdb-4abd-4f45-fb2b-71684b8e31cf"
      },
      "execution_count": 9,
      "outputs": [
        {
          "output_type": "stream",
          "name": "stdout",
          "text": [
            "고기잡이 100\n",
            "고기팔기 120\n",
            "낚시 5\n",
            "통발 5\n",
            "큰그물 5\n"
          ]
        }
      ]
    },
    {
      "cell_type": "code",
      "source": [
        "# 하나만 리스트여도 쌍이면 상관없이 잘 돌아감\n",
        "# 하지만 튜플내 요소의 갯수는 전부 동일해야한다.\n",
        "skill = [\n",
        "        ('고기잡이', 100, 'SS'),\n",
        "        ('고기팔기', 120, 'SSS'),\n",
        "        ('낚시', 5, 'C'),\n",
        "        ('통발', 5, 'C'),\n",
        "        ('큰그물', 5, 'C')\n",
        "]\n",
        "\n",
        "for skillName, skillLevel, skillGrade in skill:\n",
        "    print(skillName, skillLevel, skillGrade)"
      ],
      "metadata": {
        "colab": {
          "base_uri": "https://localhost:8080/"
        },
        "id": "3Le5_DiGsSF-",
        "outputId": "184e1d49-2c12-42fa-9a7a-d0c9f752a7f9"
      },
      "execution_count": 12,
      "outputs": [
        {
          "output_type": "stream",
          "name": "stdout",
          "text": [
            "고기잡이 100 SS\n",
            "고기팔기 120 SSS\n",
            "낚시 5 C\n",
            "통발 5 C\n",
            "큰그물 5 C\n"
          ]
        }
      ]
    },
    {
      "cell_type": "code",
      "source": [
        "# enumerate는 순서를 매길 때 사용\n",
        "\n",
        "영화누적관객수 = ['레미제라블', '뷰티인사이트', '매트릭스', '인셉션', '어거스트 러쉬']\n",
        "for i in enumerate(영화누적관객수):\n",
        "    print(i)"
      ],
      "metadata": {
        "colab": {
          "base_uri": "https://localhost:8080/"
        },
        "id": "vK3C2Ckpsn3j",
        "outputId": "538a10f0-8b26-4117-9a91-b8ba302bff39"
      },
      "execution_count": 13,
      "outputs": [
        {
          "output_type": "stream",
          "name": "stdout",
          "text": [
            "(0, '레미제라블')\n",
            "(1, '뷰티인사이트')\n",
            "(2, '매트릭스')\n",
            "(3, '인셉션')\n",
            "(4, '어거스트 러쉬')\n"
          ]
        }
      ]
    },
    {
      "cell_type": "code",
      "source": [
        "# 자주 쓰는 문법?\n",
        "for i, j in enumerate(영화누적관객수, 1):\n",
        "    print(f'누적관객수 {i}위! {j}!') # i에는 index값(1부터), j에는 영화제목"
      ],
      "metadata": {
        "colab": {
          "base_uri": "https://localhost:8080/"
        },
        "id": "8CcMpjoQtnbp",
        "outputId": "343e52b2-3642-4a2f-e342-71a240e04e4e"
      },
      "execution_count": 14,
      "outputs": [
        {
          "output_type": "stream",
          "name": "stdout",
          "text": [
            "누적관객수 1위! 레미제라블!\n",
            "누적관객수 2위! 뷰티인사이트!\n",
            "누적관객수 3위! 매트릭스!\n",
            "누적관객수 4위! 인셉션!\n",
            "누적관객수 5위! 어거스트 러쉬!\n"
          ]
        }
      ]
    },
    {
      "cell_type": "markdown",
      "source": [
        "# 3. While 문"
      ],
      "metadata": {
        "id": "6ZLiKDMbvWdv"
      }
    },
    {
      "cell_type": "code",
      "source": [
        "# while 기본 구조\n",
        "\n",
        "while 구문: # 참의 조건\n",
        "    pass # 수행할 문장"
      ],
      "metadata": {
        "id": "kutcWMb3tomw"
      },
      "execution_count": null,
      "outputs": []
    },
    {
      "cell_type": "code",
      "source": [
        "# while문 기초\n",
        "a = 1\n",
        "\n",
        "while a < 10 :\n",
        "\tprint(a)\n",
        "\ta += 1"
      ],
      "metadata": {
        "colab": {
          "base_uri": "https://localhost:8080/"
        },
        "id": "RyGtuckLwKDz",
        "outputId": "d5982b58-b907-485e-8fdc-1b5c46deb165"
      },
      "execution_count": 15,
      "outputs": [
        {
          "output_type": "stream",
          "name": "stdout",
          "text": [
            "1\n",
            "2\n",
            "3\n",
            "4\n",
            "5\n",
            "6\n",
            "7\n",
            "8\n",
            "9\n"
          ]
        }
      ]
    },
    {
      "cell_type": "code",
      "source": [],
      "metadata": {
        "id": "G6-cY7gPwKl1"
      },
      "execution_count": null,
      "outputs": []
    }
  ]
}