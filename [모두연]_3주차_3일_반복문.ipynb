{
  "nbformat": 4,
  "nbformat_minor": 0,
  "metadata": {
    "colab": {
      "provenance": [],
      "authorship_tag": "ABX9TyN+3bRu9XgVVggxKoPu5lEt",
      "include_colab_link": true
    },
    "kernelspec": {
      "name": "python3",
      "display_name": "Python 3"
    },
    "language_info": {
      "name": "python"
    }
  },
  "cells": [
    {
      "cell_type": "markdown",
      "metadata": {
        "id": "view-in-github",
        "colab_type": "text"
      },
      "source": [
        "<a href=\"https://colab.research.google.com/github/Um-king/orm/blob/main/%5B%EB%AA%A8%EB%91%90%EC%97%B0%5D_3%EC%A3%BC%EC%B0%A8_3%EC%9D%BC_%EB%B0%98%EB%B3%B5%EB%AC%B8.ipynb\" target=\"_parent\"><img src=\"https://colab.research.google.com/assets/colab-badge.svg\" alt=\"Open In Colab\"/></a>"
      ]
    },
    {
      "cell_type": "code",
      "execution_count": 1,
      "metadata": {
        "colab": {
          "base_uri": "https://localhost:8080/"
        },
        "id": "YV-FcJE2om_v",
        "outputId": "7242e6e0-c1df-44cb-a173-eb2de6747055"
      },
      "outputs": [
        {
          "output_type": "stream",
          "name": "stdout",
          "text": [
            ">pwd\n",
            "/content\n",
            ">dir\n",
            "['.config', 'sample_data']\n",
            ">ls\n",
            "['.config', 'sample_data']\n",
            ">exit\n",
            "안녕히가세요.\n"
          ]
        }
      ],
      "source": [
        "# colab에서도 작동되지만 가능하면 .py파일로 작성해서 실행해보세요.\n",
        "import os\n",
        "\n",
        "while True:\n",
        "    userinput = input('>')\n",
        "    if userinput == 'pwd':\n",
        "        # print('현재 위치 출력')\n",
        "        # print('\\\\'.join(__file__.split('\\\\')[:-1]))\n",
        "        print(os.getcwd())\n",
        "    elif userinput == 'dir' or userinput == 'ls':\n",
        "        # print('현재 폴더에 폴더와 파일명 출력')\n",
        "        print(os.listdir(os.getcwd()))\n",
        "    elif userinput == 'exit':\n",
        "        print('안녕히가세요.')\n",
        "        break"
      ]
    },
    {
      "cell_type": "markdown",
      "source": [
        "# 2. break / continue"
      ],
      "metadata": {
        "id": "aoeCs65MyVCR"
      }
    },
    {
      "cell_type": "markdown",
      "source": [
        "* break = 반복문을 즉시 종료!"
      ],
      "metadata": {
        "id": "-12D16cPzI9L"
      }
    },
    {
      "cell_type": "code",
      "source": [
        "# 이 코드는 0부터 4까지 출력하고, i가 5가 되었을 때 반복문을 종료합니다.\n",
        "for i in range(10):\n",
        "    if i == 5: # i가 5라면 정지시켜라\n",
        "        break  # 반복문을 즉시 종료\n",
        "    print(i)"
      ],
      "metadata": {
        "colab": {
          "base_uri": "https://localhost:8080/"
        },
        "id": "lNU59-C3yYnV",
        "outputId": "00cb94af-7b78-4222-dc87-e69d08b7980e"
      },
      "execution_count": 2,
      "outputs": [
        {
          "output_type": "stream",
          "name": "stdout",
          "text": [
            "0\n",
            "1\n",
            "2\n",
            "3\n",
            "4\n"
          ]
        }
      ]
    },
    {
      "cell_type": "markdown",
      "source": [
        "* continue = 반복문의 나머지 부분을 건너띄고, 반복문을 다음 반복으로 즉시 이동"
      ],
      "metadata": {
        "id": "Yc-j5i2Zzpnu"
      }
    },
    {
      "cell_type": "code",
      "source": [
        "# 이 코드는 홀수만 출력합니다.\n",
        "for i in range(10):\n",
        "    if i % 2 == 0:\n",
        "        continue   # 다음 반복으로 이동 -> 짝수 일때 반복문 다음 순서로 이동\n",
        "    print(i)"
      ],
      "metadata": {
        "colab": {
          "base_uri": "https://localhost:8080/"
        },
        "id": "h8Cevm21ytup",
        "outputId": "0cf242c0-e6cc-4862-e9da-6fe1c22dbff1"
      },
      "execution_count": 3,
      "outputs": [
        {
          "output_type": "stream",
          "name": "stdout",
          "text": [
            "1\n",
            "3\n",
            "5\n",
            "7\n",
            "9\n"
          ]
        }
      ]
    },
    {
      "cell_type": "code",
      "source": [
        "# 난수 생성\n",
        "\n",
        "import random\n",
        "\n",
        "answer = random.randrange(1, 1000) # 1~999\n",
        "\n",
        "while True:\n",
        "    user_input = int(input('숫자를 입력하세요(1~999): '))\n",
        "\n",
        "    if answer > user_input:\n",
        "        print(\"Up\")\n",
        "    elif answer < user_input:\n",
        "        print(\"Down\")\n",
        "    else:\n",
        "        print(\"정답입니다!\")\n",
        "        break;"
      ],
      "metadata": {
        "colab": {
          "base_uri": "https://localhost:8080/"
        },
        "id": "0hcdOMMk0CT4",
        "outputId": "e21831e6-7838-4878-e7cd-20cf69125c1d"
      },
      "execution_count": 4,
      "outputs": [
        {
          "output_type": "stream",
          "name": "stdout",
          "text": [
            "숫자를 입력하세요(1~999): 500\n",
            "Up\n",
            "숫자를 입력하세요(1~999): 700\n",
            "Down\n",
            "숫자를 입력하세요(1~999): 600\n",
            "Down\n",
            "숫자를 입력하세요(1~999): 550\n",
            "Down\n",
            "숫자를 입력하세요(1~999): 525\n",
            "Up\n",
            "숫자를 입력하세요(1~999): 530\n",
            "Up\n",
            "숫자를 입력하세요(1~999): 535\n",
            "Up\n",
            "숫자를 입력하세요(1~999): 538\n",
            "정답입니다!\n"
          ]
        }
      ]
    },
    {
      "cell_type": "code",
      "source": [
        "# 중첩 while문을 이용한 구구단\n",
        "\n",
        "i = 2\n",
        "while i < 10 :                          # 2~9까지\n",
        "    j = 1                               # 단이 바뀔때마다 초기화\n",
        "    while j < 10:                       # 1~9까지\n",
        "        print(f'{i} X {j} = {i * j}')   # 구구단 계산\n",
        "        j += 1                          # 조건1\n",
        "    i += 1                              # 조건2"
      ],
      "metadata": {
        "colab": {
          "base_uri": "https://localhost:8080/"
        },
        "id": "TfHzGwpM2hIF",
        "outputId": "63f99145-6d2f-4bcb-d26e-ace9dfc9e090"
      },
      "execution_count": 6,
      "outputs": [
        {
          "output_type": "stream",
          "name": "stdout",
          "text": [
            "2 X 1 = 2\n",
            "2 X 2 = 4\n",
            "2 X 3 = 6\n",
            "2 X 4 = 8\n",
            "2 X 5 = 10\n",
            "2 X 6 = 12\n",
            "2 X 7 = 14\n",
            "2 X 8 = 16\n",
            "2 X 9 = 18\n",
            "3 X 1 = 3\n",
            "3 X 2 = 6\n",
            "3 X 3 = 9\n",
            "3 X 4 = 12\n",
            "3 X 5 = 15\n",
            "3 X 6 = 18\n",
            "3 X 7 = 21\n",
            "3 X 8 = 24\n",
            "3 X 9 = 27\n",
            "4 X 1 = 4\n",
            "4 X 2 = 8\n",
            "4 X 3 = 12\n",
            "4 X 4 = 16\n",
            "4 X 5 = 20\n",
            "4 X 6 = 24\n",
            "4 X 7 = 28\n",
            "4 X 8 = 32\n",
            "4 X 9 = 36\n",
            "5 X 1 = 5\n",
            "5 X 2 = 10\n",
            "5 X 3 = 15\n",
            "5 X 4 = 20\n",
            "5 X 5 = 25\n",
            "5 X 6 = 30\n",
            "5 X 7 = 35\n",
            "5 X 8 = 40\n",
            "5 X 9 = 45\n",
            "6 X 1 = 6\n",
            "6 X 2 = 12\n",
            "6 X 3 = 18\n",
            "6 X 4 = 24\n",
            "6 X 5 = 30\n",
            "6 X 6 = 36\n",
            "6 X 7 = 42\n",
            "6 X 8 = 48\n",
            "6 X 9 = 54\n",
            "7 X 1 = 7\n",
            "7 X 2 = 14\n",
            "7 X 3 = 21\n",
            "7 X 4 = 28\n",
            "7 X 5 = 35\n",
            "7 X 6 = 42\n",
            "7 X 7 = 49\n",
            "7 X 8 = 56\n",
            "7 X 9 = 63\n",
            "8 X 1 = 8\n",
            "8 X 2 = 16\n",
            "8 X 3 = 24\n",
            "8 X 4 = 32\n",
            "8 X 5 = 40\n",
            "8 X 6 = 48\n",
            "8 X 7 = 56\n",
            "8 X 8 = 64\n",
            "8 X 9 = 72\n",
            "9 X 1 = 9\n",
            "9 X 2 = 18\n",
            "9 X 3 = 27\n",
            "9 X 4 = 36\n",
            "9 X 5 = 45\n",
            "9 X 6 = 54\n",
            "9 X 7 = 63\n",
            "9 X 8 = 72\n",
            "9 X 9 = 81\n"
          ]
        }
      ]
    },
    {
      "cell_type": "code",
      "source": [
        "# 모든 반복문 한번에 탈출하기!\n",
        "\n",
        "switch = 0\n",
        "for i in range(5):\n",
        "    if switch == 1:\n",
        "        break\n",
        "    for j in range(5):\n",
        "        if j == 3:\n",
        "            switch = 1\n",
        "            break\n",
        "        print(f'{i}, {j}')"
      ],
      "metadata": {
        "colab": {
          "base_uri": "https://localhost:8080/"
        },
        "id": "Utdc03uf8zmC",
        "outputId": "c031f08e-7756-4885-e8c2-92eac8a71fb6"
      },
      "execution_count": 8,
      "outputs": [
        {
          "output_type": "stream",
          "name": "stdout",
          "text": [
            "0, 0\n",
            "0, 1\n",
            "0, 2\n"
          ]
        }
      ]
    },
    {
      "cell_type": "markdown",
      "source": [
        "# 반복문 else"
      ],
      "metadata": {
        "id": "HmYcFjT6CkUX"
      }
    },
    {
      "cell_type": "code",
      "source": [
        "# break로 강제로 종료하였기 때문에 else문이 수행이 안됨\n",
        "# 즉 break등 강제 종료 없이 '정상적으로 반복이 종료' 되었을 때 else문을 수행한다\n",
        "\n",
        "for i in range(100):\n",
        "    print(f'{i} 물고기를 잡았습니다.')\n",
        "    if i == 5:\n",
        "        print('만선입니다. 물고기를 다 잡았습니다.')\n",
        "        break\n",
        "else: # 반복문 사용 후 else : if-else처럼 그렇지 않으면이란 의미보단 정상적으로 반복이 종료된 후에 특정코드를 실행하기 위해 사용\n",
        "    print('아직 여유가 좀 있지만, 물고기가 더 없는 것 같으니 이정도로 만족하고 돌아갑시다.') # break로 종료되었기 때문에 정상적인 종료x -> 수행x\n",
        "print('수고하셨습니다.')"
      ],
      "metadata": {
        "colab": {
          "base_uri": "https://localhost:8080/"
        },
        "id": "cozkOT_LAN_t",
        "outputId": "1b4277ff-293b-40d9-8eea-df10088681c1"
      },
      "execution_count": 9,
      "outputs": [
        {
          "output_type": "stream",
          "name": "stdout",
          "text": [
            "0 물고기를 잡았습니다.\n",
            "1 물고기를 잡았습니다.\n",
            "2 물고기를 잡았습니다.\n",
            "3 물고기를 잡았습니다.\n",
            "4 물고기를 잡았습니다.\n",
            "5 물고기를 잡았습니다.\n",
            "만선입니다. 물고기를 다 잡았습니다.\n",
            "수고하셨습니다.\n"
          ]
        }
      ]
    },
    {
      "cell_type": "code",
      "source": [
        "# break와 같은 강제 종료 없이 반복문이 정상적으로 종료될 경우 else문을 수행\n",
        "for i in range(5):\n",
        "    print(f'{i} 물고기를 잡았습니다.')\n",
        "    if i == 5: # i => 0~4\n",
        "        print('만선입니다. 물고기를 다 잡았습니다.')\n",
        "        break\n",
        "else: # break없이 정상적으로 종료되었으므로 해당 코드 수행\n",
        "    print('아직 여유가 좀 있지만, 물고기가 더 없는 것 같으니 이정도로 만족하고 돌아갑시다.')\n",
        "print('수고하셨습니다.')"
      ],
      "metadata": {
        "colab": {
          "base_uri": "https://localhost:8080/"
        },
        "id": "dcT5FjMdCu8Z",
        "outputId": "9cc3064d-709d-4742-dace-b4d17ff15c56"
      },
      "execution_count": 10,
      "outputs": [
        {
          "output_type": "stream",
          "name": "stdout",
          "text": [
            "0 물고기를 잡았습니다.\n",
            "1 물고기를 잡았습니다.\n",
            "2 물고기를 잡았습니다.\n",
            "3 물고기를 잡았습니다.\n",
            "4 물고기를 잡았습니다.\n",
            "아직 여유가 좀 있지만, 물고기가 더 없는 것 같으니 이정도로 만족하고 돌아갑시다.\n",
            "수고하셨습니다.\n"
          ]
        }
      ]
    },
    {
      "cell_type": "code",
      "source": [],
      "metadata": {
        "id": "DKDSLAwGDj2g"
      },
      "execution_count": null,
      "outputs": []
    }
  ]
}