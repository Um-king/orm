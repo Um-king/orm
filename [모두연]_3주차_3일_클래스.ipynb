{
  "nbformat": 4,
  "nbformat_minor": 0,
  "metadata": {
    "colab": {
      "provenance": [],
      "authorship_tag": "ABX9TyMP36zS9krYAb1IBtvvQUy+",
      "include_colab_link": true
    },
    "kernelspec": {
      "name": "python3",
      "display_name": "Python 3"
    },
    "language_info": {
      "name": "python"
    }
  },
  "cells": [
    {
      "cell_type": "markdown",
      "metadata": {
        "id": "view-in-github",
        "colab_type": "text"
      },
      "source": [
        "<a href=\"https://colab.research.google.com/github/Um-king/orm/blob/main/%5B%EB%AA%A8%EB%91%90%EC%97%B0%5D_3%EC%A3%BC%EC%B0%A8_3%EC%9D%BC_%ED%81%B4%EB%9E%98%EC%8A%A4.ipynb\" target=\"_parent\"><img src=\"https://colab.research.google.com/assets/colab-badge.svg\" alt=\"Open In Colab\"/></a>"
      ]
    },
    {
      "cell_type": "markdown",
      "source": [
        "# 1. 클래스"
      ],
      "metadata": {
        "id": "QknGGd5BYsLp"
      }
    },
    {
      "cell_type": "code",
      "source": [
        "# 1. 클래스는 \"대문자\"로 이름을 설정해야한다.\n",
        "class Car: # 차에 설계 도면 또는 차 공장, 클래스\n",
        "    max_speed = 300 # 멤버 또는 애트리뷰트\n",
        "    max_people = 5\n",
        "    car_gear = ['P', 'D', 'R', 'N']\n",
        "\n",
        "    def start(self): # 메서드\n",
        "        print('차가 출발합니다!')\n",
        "\n",
        "    def stop(self):\n",
        "        print('차가 멈췄습니다!')\n",
        "\n",
        "# 공장에서 생산된 자동차 modelx, y, s, 인스턴스\n",
        "# 객체 생성\n",
        "modelx = Car() # 인스턴스 = 클래스() -> modelx, modely, models는 변수라고 불리지 않고 인스턴스(객체)라고 불린다.\n",
        "modely = Car()\n",
        "models = Car()\n",
        "\n",
        "# 클래스의 장점 -> 클래스에 있는 변수, 함수를 사용할 수 있다.\n",
        "# 클래스의 변수 인덱싱\n",
        "print(models.car_gear[1])\n",
        "\n",
        "# 클래스의 함수 호출, self 매개변수는 무시\n",
        "models.start()\n",
        "models.stop()\n",
        "\n",
        "# Car.max_speed # modelx에 속도를 보고 싶으면 modelx.max_speed를 찍어야 합니다.\n",
        "# 초기 설계는 300으로 찍혀 있지만, 고객이 아래와 같이 자동차 튜닝을 했을 수도 있으니까요.\n",
        "\n",
        "models.max_speed = 500\n",
        "\n",
        "print(models.max_speed)\n",
        "print(modely.max_speed)"
      ],
      "metadata": {
        "colab": {
          "base_uri": "https://localhost:8080/"
        },
        "id": "1DRcJJZdY2qj",
        "outputId": "27b6e375-4b22-4374-d7e4-0f3a5dcf8cb2"
      },
      "execution_count": 1,
      "outputs": [
        {
          "output_type": "stream",
          "name": "stdout",
          "text": [
            "D\n",
            "차가 출발합니다!\n",
            "차가 멈췄습니다!\n",
            "500\n",
            "300\n"
          ]
        }
      ]
    },
    {
      "cell_type": "code",
      "source": [
        "# x = int(3) 여기서 넣었던 3이라는 값이 어떻게 처리되는지 확인\n",
        "class Car:\n",
        "    max_speed = 300\n",
        "    max_people = 5\n",
        "    car_gear = ['P', 'D', 'R', 'N']\n",
        "\n",
        "    # self : 인스턴스 자신\n",
        "    # __init__ : 인스턴스화를 실시할 때 반드시 처음 호출되는 함수 => 반드시 첫번째 인수로 self를 지정해야한다.\n",
        "\n",
        "    # 객체 생성시 초기화하는 메서드 -> 함수 호출 시 가장 먼저 호출된다. => 따로 __init__() 함수를 호출하여 사용하지 않음\n",
        "    def __init__(self, name): # 클래스로 인스턴스를 만들 때 호출!\n",
        "        self.name = name # Car 클래스에 name이라는 변수가 없어도 self를 통해 name을 설정\n",
        "\n",
        "    def start(self):\n",
        "        print('차가 출발합니다!')\n",
        "\n",
        "    def stop(self):\n",
        "        print('차가 멈췄습니다!')\n",
        "\n",
        "modelx = Car('Tesla Model X') # x = int(3) 여기서 넣었던 3이 __init__ 메직메서드에서 처리!\n",
        "modelx.name\n",
        "\n",
        "\n",
        "'''\n",
        "__init__()은 반드시 첫 번째 인수로 self를 지정, self는 해당 클래스 그 자체, name 맴버가 처음에 클래스에 생성이 되어 있지 않다면 init을 통해 자동으로 해당 맴버가 생성이 되게 된다\n",
        "__init__의 초기화 함수로 self.name으로 Car 클래스의 name이라는 맴버를 가지게 된다.\n",
        "\n",
        "1. __init__(self, name) -> Car('Tesla Model X') => self는 Car클래스 자체 => self = Car\n",
        "2. __init__(self, 'Tesla Model X') => __init__(Car, 'Tesla Model X')\n",
        "3. self.name 즉 Car 클래스에 name이라는 맴버를 추가하여 값을 할당 -> self.name = Car.name\n",
        "'''"
      ],
      "metadata": {
        "colab": {
          "base_uri": "https://localhost:8080/",
          "height": 35
        },
        "id": "kep8ZLwAZTgn",
        "outputId": "0e575738-4e7f-4501-b66f-a26c7ea60b94"
      },
      "execution_count": 2,
      "outputs": [
        {
          "output_type": "execute_result",
          "data": {
            "text/plain": [
              "'Tesla Model X'"
            ],
            "application/vnd.google.colaboratory.intrinsic+json": {
              "type": "string"
            }
          },
          "metadata": {},
          "execution_count": 2
        }
      ]
    },
    {
      "cell_type": "code",
      "source": [
        "# x = int(3) 여기서 넣었던 3이라는 값이 어떻게 처리되는지 확인\n",
        "class Car:\n",
        "    max_speed = 300\n",
        "    max_people = 5\n",
        "    car_gear = ['P', 'D', 'R', 'N']\n",
        "\n",
        "    def __init__(self, name, ceo): # 클래스로 인스턴스를 만들 때 호출!\n",
        "        self.name = name # name 과 ceo는 Car클래스의 맴버로 초기 생성되지 않았지만 init함수로 name과 ceo 맴버를 자동으로 생성해준다.\n",
        "        self.ceo = ceo\n",
        "    def start(self):\n",
        "        print('차가 출발합니다!')\n",
        "\n",
        "    def stop(self):\n",
        "        print('차가 멈췄습니다!')\n",
        "\n",
        "modelx = Car('Tesla Model X', '일론머스크') # x = int(3) 여기서 넣었던 3이 __init__ 메직메서드에서 처리!\n",
        "print(modelx.name, modelx.ceo)\n"
      ],
      "metadata": {
        "colab": {
          "base_uri": "https://localhost:8080/"
        },
        "id": "AioxWY-dcJ_U",
        "outputId": "c36c4da1-63db-4c32-9c36-2f2362a89ca8"
      },
      "execution_count": 3,
      "outputs": [
        {
          "output_type": "stream",
          "name": "stdout",
          "text": [
            "Tesla Model X 일론머스크\n"
          ]
        }
      ]
    },
    {
      "cell_type": "code",
      "source": [
        "# 클래스 생성시 __init__(self)는 기본\n",
        "# 만약 클래스내에 정의하지 않은 맴버가 필요하다면 self.맴버로 값을 할당 받아야한다. -> 클래스에 자동으로 맴버 추가\n",
        "\n",
        "def __init__(self, name, ceo): # 클래스에서 __init__은 반드시 처음 호출되는 함수\n",
        "       self.name = name        # self는 인수로 전달받지도, 전달하지도 않음 -> self는 클래스 그 자체\n",
        "       self.ceo = ceo          # 위에 꼭 self를 붙어야 self를 사용해서 self.name처럼 사용할 수 있음\n",
        "\n",
        "modelx = Car('Tesla Model X', '일론머스크') # __init__과 self로 구현된 값은 클래스 할당시 입력자료를 넣을 수 있다.\n",
        "print(modelx.name)                          # 입력을 받을때는 파라미터를 설정해야한다.(name, CEO처럼)\n",
        "print(modelx.CEO)                           # 그러면 modelx처럼 name과 CEO의 데이터를 불러올수 있다."
      ],
      "metadata": {
        "id": "a4_XssdEeNXW"
      },
      "execution_count": null,
      "outputs": []
    }
  ]
}