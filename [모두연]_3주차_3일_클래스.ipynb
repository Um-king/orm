{
  "nbformat": 4,
  "nbformat_minor": 0,
  "metadata": {
    "colab": {
      "provenance": [],
      "authorship_tag": "ABX9TyNCMpDzshPdzK7LNlhJ58FJ",
      "include_colab_link": true
    },
    "kernelspec": {
      "name": "python3",
      "display_name": "Python 3"
    },
    "language_info": {
      "name": "python"
    }
  },
  "cells": [
    {
      "cell_type": "markdown",
      "metadata": {
        "id": "view-in-github",
        "colab_type": "text"
      },
      "source": [
        "<a href=\"https://colab.research.google.com/github/Um-king/orm/blob/main/%5B%EB%AA%A8%EB%91%90%EC%97%B0%5D_3%EC%A3%BC%EC%B0%A8_3%EC%9D%BC_%ED%81%B4%EB%9E%98%EC%8A%A4.ipynb\" target=\"_parent\"><img src=\"https://colab.research.google.com/assets/colab-badge.svg\" alt=\"Open In Colab\"/></a>"
      ]
    },
    {
      "cell_type": "markdown",
      "source": [
        "# 1. 클래스"
      ],
      "metadata": {
        "id": "QknGGd5BYsLp"
      }
    },
    {
      "cell_type": "code",
      "source": [
        "# 1. 클래스는 \"대문자\"로 이름을 설정해야한다.\n",
        "class Car: # 차에 설계 도면 또는 차 공장, 클래스\n",
        "    max_speed = 300 # 멤버 또는 애트리뷰트\n",
        "    max_people = 5\n",
        "    car_gear = ['P', 'D', 'R', 'N']\n",
        "\n",
        "    def start(self): # 메서드\n",
        "        print('차가 출발합니다!')\n",
        "\n",
        "    def stop(self):\n",
        "        print('차가 멈췄습니다!')\n",
        "\n",
        "# 공장에서 생산된 자동차 modelx, y, s, 인스턴스\n",
        "# 객체 생성\n",
        "modelx = Car() # 인스턴스 = 클래스() -> modelx, modely, models는 변수라고 불리지 않고 인스턴스(객체)라고 불린다.\n",
        "modely = Car()\n",
        "models = Car()\n",
        "\n",
        "# 클래스의 장점 -> 클래스에 있는 변수, 함수를 사용할 수 있다.\n",
        "# 클래스의 변수 인덱싱\n",
        "print(models.car_gear[1])\n",
        "\n",
        "# 클래스의 함수 호출, self 매개변수는 무시\n",
        "models.start()\n",
        "models.stop()\n",
        "\n",
        "# Car.max_speed # modelx에 속도를 보고 싶으면 modelx.max_speed를 찍어야 합니다.\n",
        "# 초기 설계는 300으로 찍혀 있지만, 고객이 아래와 같이 자동차 튜닝을 했을 수도 있으니까요.\n",
        "\n",
        "models.max_speed = 500\n",
        "\n",
        "print(models.max_speed)\n",
        "print(modely.max_speed)"
      ],
      "metadata": {
        "colab": {
          "base_uri": "https://localhost:8080/"
        },
        "id": "1DRcJJZdY2qj",
        "outputId": "27b6e375-4b22-4374-d7e4-0f3a5dcf8cb2"
      },
      "execution_count": 1,
      "outputs": [
        {
          "output_type": "stream",
          "name": "stdout",
          "text": [
            "D\n",
            "차가 출발합니다!\n",
            "차가 멈췄습니다!\n",
            "500\n",
            "300\n"
          ]
        }
      ]
    },
    {
      "cell_type": "code",
      "source": [
        "# x = int(3) 여기서 넣었던 3이라는 값이 어떻게 처리되는지 확인\n",
        "class Car:\n",
        "    max_speed = 300\n",
        "    max_people = 5\n",
        "    car_gear = ['P', 'D', 'R', 'N']\n",
        "\n",
        "    # self : 인스턴스 자신\n",
        "    # __init__ : 인스턴스화를 실시할 때 반드시 처음 호출되는 함수 => 반드시 첫번째 인수로 self를 지정해야한다.\n",
        "\n",
        "    # 객체 생성시 초기화하는 메서드 -> 함수 호출 시 가장 먼저 호출된다. => 따로 __init__() 함수를 호출하여 사용하지 않음\n",
        "    def __init__(self, name): # 클래스로 인스턴스를 만들 때 호출!\n",
        "        self.name = name # Car 클래스에 name이라는 변수가 없어도 self를 통해 name을 설정\n",
        "\n",
        "    def start(self):\n",
        "        print('차가 출발합니다!')\n",
        "\n",
        "    def stop(self):\n",
        "        print('차가 멈췄습니다!')\n",
        "\n",
        "modelx = Car('Tesla Model X') # x = int(3) 여기서 넣었던 3이 __init__ 메직메서드에서 처리!\n",
        "modelx.name\n",
        "\n",
        "\n",
        "'''\n",
        "__init__()은 반드시 첫 번째 인수로 self를 지정, self는 해당 클래스 그 자체, name 맴버가 처음에 클래스에 생성이 되어 있지 않다면 init을 통해 자동으로 해당 맴버가 생성이 되게 된다\n",
        "__init__의 초기화 함수로 self.name으로 Car 클래스의 name이라는 맴버를 가지게 된다.\n",
        "\n",
        "1. __init__(self, name) -> Car('Tesla Model X') => self는 Car클래스 자체 => self = Car\n",
        "2. __init__(self, 'Tesla Model X') => __init__(Car, 'Tesla Model X')\n",
        "3. self.name 즉 Car 클래스에 name이라는 맴버를 추가하여 값을 할당 -> self.name = Car.name\n",
        "'''"
      ],
      "metadata": {
        "colab": {
          "base_uri": "https://localhost:8080/",
          "height": 35
        },
        "id": "kep8ZLwAZTgn",
        "outputId": "0e575738-4e7f-4501-b66f-a26c7ea60b94"
      },
      "execution_count": 2,
      "outputs": [
        {
          "output_type": "execute_result",
          "data": {
            "text/plain": [
              "'Tesla Model X'"
            ],
            "application/vnd.google.colaboratory.intrinsic+json": {
              "type": "string"
            }
          },
          "metadata": {},
          "execution_count": 2
        }
      ]
    },
    {
      "cell_type": "code",
      "source": [
        "# x = int(3) 여기서 넣었던 3이라는 값이 어떻게 처리되는지 확인\n",
        "class Car:\n",
        "    max_speed = 300\n",
        "    max_people = 5\n",
        "    car_gear = ['P', 'D', 'R', 'N']\n",
        "\n",
        "    def __init__(self, name, ceo): # 클래스로 인스턴스를 만들 때 호출!\n",
        "        self.name = name # name 과 ceo는 Car클래스의 맴버로 초기 생성되지 않았지만 init함수로 name과 ceo 맴버를 자동으로 생성해준다.\n",
        "        self.ceo = ceo\n",
        "    def start(self):\n",
        "        print('차가 출발합니다!')\n",
        "\n",
        "    def stop(self):\n",
        "        print('차가 멈췄습니다!')\n",
        "\n",
        "modelx = Car('Tesla Model X', '일론머스크') # x = int(3) 여기서 넣었던 3이 __init__ 메직메서드에서 처리!\n",
        "print(modelx.name, modelx.ceo)\n"
      ],
      "metadata": {
        "colab": {
          "base_uri": "https://localhost:8080/"
        },
        "id": "AioxWY-dcJ_U",
        "outputId": "c36c4da1-63db-4c32-9c36-2f2362a89ca8"
      },
      "execution_count": 3,
      "outputs": [
        {
          "output_type": "stream",
          "name": "stdout",
          "text": [
            "Tesla Model X 일론머스크\n"
          ]
        }
      ]
    },
    {
      "cell_type": "code",
      "source": [
        "# 클래스 생성시 __init__(self)는 기본\n",
        "# 만약 클래스내에 정의하지 않은 맴버가 필요하다면 self.맴버로 값을 할당 받아야한다. -> 클래스에 자동으로 맴버 추가\n",
        "\n",
        "def __init__(self, name, ceo): # 클래스에서 __init__은 반드시 처음 호출되는 함수\n",
        "       self.name = name        # self는 인수로 전달받지도, 전달하지도 않음 -> self는 클래스 그 자체\n",
        "       self.ceo = ceo          # 위에 꼭 self를 붙어야 self를 사용해서 self.name처럼 사용할 수 있음\n",
        "\n",
        "modelx = Car('Tesla Model X', '일론머스크') # __init__과 self로 구현된 값은 클래스 할당시 입력자료를 넣을 수 있다.\n",
        "print(modelx.name)                          # 입력을 받을때는 파라미터를 설정해야한다.(name, CEO처럼)\n",
        "print(modelx.CEO)                           # 그러면 modelx처럼 name과 CEO의 데이터를 불러올수 있다."
      ],
      "metadata": {
        "id": "a4_XssdEeNXW"
      },
      "execution_count": null,
      "outputs": []
    },
    {
      "cell_type": "code",
      "source": [
        "# 클래스 변수 사용 확인\n",
        "class Car:\n",
        "    # 이 클래스 변수는 해당 클래스를 통해 만들어진 모든 인스턴스 객체들이 공유하는 변수 값입니다.\n",
        "    # 클래스 변수의 위치\n",
        "    max_speed = 300\n",
        "    max_people = 5\n",
        "    car_gear = ['P', 'D', 'R', 'N']\n",
        "\n",
        "modelx = Car()\n",
        "\n",
        "# modelx는 Car클래스로 생성된 객체 -> 따라서 Car 클래스 자체에 반영되진 않음\n",
        "modelx.max_speed = 500 # 서로 다른 객체의 변수는 공유되지 않음\n",
        "\n",
        "print(Car.max_speed)\n",
        "print(modelx.max_speed)"
      ],
      "metadata": {
        "colab": {
          "base_uri": "https://localhost:8080/"
        },
        "id": "3zYsmiJ0xWBC",
        "outputId": "6e2393e3-4a9a-4502-d8fd-2846c3b12ce0"
      },
      "execution_count": 6,
      "outputs": [
        {
          "output_type": "stream",
          "name": "stdout",
          "text": [
            "300\n",
            "500\n"
          ]
        }
      ]
    },
    {
      "cell_type": "code",
      "source": [
        "class Car:\n",
        "    kinds = []\n",
        "    speed = 300\n",
        "\n",
        "    def add_kinds(self, name):\n",
        "        self.kinds.append(name) # Car, modelx, modely가 공유\n",
        "\n",
        "    def change_speed(self, speed):\n",
        "        self.speed = speed      # 공유x\n",
        "\n",
        "modelx = Car()\n",
        "modely = Car()\n",
        "\n",
        "# Car 자체의 kinds에 x와 y를 추가한 것\n",
        "# self는 클래스 자체를 의미 따라서 해당 클래스로 만들어진 객체 전부에 반영된다.\n",
        "modelx.add_kinds('x') # Car 자체의 self.kinds에 x를 \"추가\"\n",
        "modely.add_kinds('y') # Car 자체의 self.kinds에 y를 \"추가\" -> 따라서 서로 공유가 된것.\n",
        "\n",
        "# 클래스 자체를 수정한 것.\n",
        "Car.speed = 100 # 클래스 자체의 변수값을 수정했으므로 해당 클래스로 만들어진 객체 전부 반영됨\n",
        "\n",
        "# modelx.change_speed(500)\n",
        "# modely.change_speed(250)\n",
        "\n",
        "print(f'modelx.kinds: {modelx.kinds}')\n",
        "print(f'modely.kinds: {modely.kinds}')\n",
        "print(f'Car.speed: {Car.kinds}') # Car.kinds = self.kinds -> 클래스 그 자체\n",
        "print(f'modelx.speed: {modelx.speed}')\n",
        "print(f'modely.speed: {modely.speed}')"
      ],
      "metadata": {
        "colab": {
          "base_uri": "https://localhost:8080/"
        },
        "id": "BKnXWlljyX4C",
        "outputId": "499e4295-646c-4aa1-878c-b81fa17933a5"
      },
      "execution_count": 7,
      "outputs": [
        {
          "output_type": "stream",
          "name": "stdout",
          "text": [
            "modelx.kinds: ['x', 'y']\n",
            "modely.kinds: ['x', 'y']\n",
            "Car.speed: ['x', 'y']\n",
            "modelx.speed: 100\n",
            "modely.speed: 100\n"
          ]
        }
      ]
    },
    {
      "cell_type": "code",
      "source": [
        "# 생성 연습    ----> 확인이 필요할듯\n",
        "\n",
        "# 따라서 self라고 해서 꼭 클래스 값이 공유되고 안되고는 아닌 것 같고\n",
        "# C#의 this와 동일한 것 같음 -> 클래스내의 변수다..?\n",
        "\n",
        "# self때문에 변경되고 안되고, 공유되고는 아닌것 같음\n",
        "\n",
        "class Cars():\n",
        "    # 클래스 변수가 유지되는 형태에서 재할당하는 것이 아니라 값이 \"추가\"되는 것\n",
        "    kinds = []    # 클래스 변수 -> append()는 값을 추가한 것이지 재할당한 것이 아님\n",
        "\n",
        "    # 클래스 변수가 self.speed = 값으로 재할당되는 순간 인스턴스 변수로 바뀌게 되고 각 객체들마다 고유하게 수정\n",
        "    speed = 300   # 클래스 변수 -> 재할당하는 순간 인스턴스 변수로 바뀌게 된다.\n",
        "\n",
        "    # 최초 클래스 객체에 변수 선언 시 클래스 변수로 존재\n",
        "    # self를 통해 클래스변수의 값을 \"재할당\"할 경우 클래스내 변수들은 인스턴스 변수로 변경됨\n",
        "    # 인스턴스 변수들은 공유x, 클래스 변수는 클래스 그 자체의 값으로 추가나 삭제 시 공유된다.\n",
        "\n",
        "    # 따라서 kinds를 재할당한 것이 아니므로 클래스 변수에 값을 추가한것\n",
        "    # 따라서 modelx, modely는 kinds가 동일하게 적용\n",
        "    # 만약 인스턴스 객체로 만들어 고유하게 사용하려면 재할당해줘야함 -> self.kinds = [] 이런식으로 재할당해야함\n",
        "    def add_kind(self, name):\n",
        "        self.kinds.append(name)     # kinds에 공유 -> 기존 값에 추가하는 형태 -> 재할당한 것이 아니므로 해당 리스트에 초기화 없이 계속 값이 추가되는 것\n",
        "\n",
        "    # 클래스변수 speed에 self.speed로 새로운 값을 재할당했으므로 speed는 클래스변수에서 인스턴스 변수로 바뀜\n",
        "    # 인스턴스 변수는 각 객체들이 값을 공유하지 않음\n",
        "    def change_speed(self, speed):\n",
        "        self.speed = speed          # self = 클래스 자체.. 왜 공유x ?\n",
        "        # 객체 고유 인스턴스 값을 재할당한 것 -> 따라서 새로운 값이 할당된 것이므로 각각의 객체들의 변수값은 공유되지 않고 해당 객체의 변수값이 수정\n",
        "        # 인스턴스 변수는 커스텀마이징이 가능하다. (생성 또는 변경, 덮어쓰기가 가능한 형태)\n",
        "\n",
        "modelx = Cars()\n",
        "modelx.add_kind('x')\n",
        "\n",
        "modely = Cars()\n",
        "modely.add_kind('y')\n",
        "\n",
        "modelx.change_speed(100)\n",
        "modely.change_speed(200)\n",
        "\n",
        "# kinds 리스트 공유\n",
        "print(modelx.kinds)\n",
        "print(modely.kinds)\n",
        "\n",
        "# speed 값 공유 x\n",
        "print(modelx.speed)\n",
        "print(modely.speed)\n",
        "\n"
      ],
      "metadata": {
        "colab": {
          "base_uri": "https://localhost:8080/"
        },
        "id": "B-eCguIryZCf",
        "outputId": "ac8737ca-c2bc-4e9d-c12d-3582a9dc5585"
      },
      "execution_count": 6,
      "outputs": [
        {
          "output_type": "stream",
          "name": "stdout",
          "text": [
            "['x', 'y']\n",
            "['x', 'y']\n",
            "100\n",
            "200\n"
          ]
        }
      ]
    },
    {
      "cell_type": "markdown",
      "source": [
        "## 인스턴스 변수 vs 클래스 변수 확인해보기!\n",
        "\n",
        "* (python) self = (C#) this => self를 통해 공유되고 그런건 아님.\n",
        "\n",
        "* self.kinds가 공유되어 보이는건, 클래스변수에 재할당이 아닌 리스트에 추가를 한것. (재할당하면 인스턴스 변수)"
      ],
      "metadata": {
        "id": "gBmEg8jL_8Zh"
      }
    },
    {
      "cell_type": "markdown",
      "source": [
        "# 2. 예외처리"
      ],
      "metadata": {
        "id": "cPkM342mErNt"
      }
    },
    {
      "cell_type": "code",
      "source": [
        "# 예외처리 기본 구조\n",
        "\n",
        "try:\n",
        "    # 예외가 발생할 가능성이 있는 코드\n",
        "except:\n",
        "    # 예외 처리 코드"
      ],
      "metadata": {
        "id": "wp6eeMvy3KDW"
      },
      "execution_count": null,
      "outputs": []
    },
    {
      "cell_type": "code",
      "source": [
        "try:\n",
        "    s = 1/0 # 0으로 나눌 수 없음 -> ZeroDivisionError 발생!\n",
        "    print(s)\n",
        "except:     # 에러 발생 시 수행 -> 추상적으로 애러발생을 처리\n",
        "    print(\"Error!\")"
      ],
      "metadata": {
        "colab": {
          "base_uri": "https://localhost:8080/"
        },
        "id": "fk_paeqhExbt",
        "outputId": "110e3f4f-4bcb-4579-954c-05d04853ec87"
      },
      "execution_count": 7,
      "outputs": [
        {
          "output_type": "stream",
          "name": "stdout",
          "text": [
            "Error!\n"
          ]
        }
      ]
    },
    {
      "cell_type": "code",
      "source": [
        "try:\n",
        "    s = 1/0 # 0으로 나눌 수 없음 -> ZeroDivisionError 발생!\n",
        "    print(s)\n",
        "except ZeroDivisionError:     # 어떤 error인지 작성할 수 있다.\n",
        "    print(\"0으로 나누려했습니다.!\")"
      ],
      "metadata": {
        "colab": {
          "base_uri": "https://localhost:8080/"
        },
        "id": "L9Ltt1DoE8Sk",
        "outputId": "28d1a96e-e5e2-49e0-f751-cac0635302b9"
      },
      "execution_count": 8,
      "outputs": [
        {
          "output_type": "stream",
          "name": "stdout",
          "text": [
            "0으로 나누려했습니다.!\n"
          ]
        }
      ]
    },
    {
      "cell_type": "code",
      "source": [
        "try:\n",
        "    s = 1/1 # 0에서 1로 값을 바꾸었습니다.\n",
        "    print(s)\n",
        "    l = [1, 2, 3]\n",
        "    print(l[3])\n",
        "except ZeroDivisionError: # ZeroDivisionError이라면 호출\n",
        "    print('0으로 나누어졌습니다!')\n",
        "except:                   # 그 외 error일 경우 호출\n",
        "    print('오류가 났습니다!')"
      ],
      "metadata": {
        "colab": {
          "base_uri": "https://localhost:8080/"
        },
        "id": "ORXpCOvhFpOT",
        "outputId": "67bdc35d-7844-4320-fc3d-08887184d6dc"
      },
      "execution_count": 9,
      "outputs": [
        {
          "output_type": "stream",
          "name": "stdout",
          "text": [
            "1.0\n",
            "오류가 났습니다!\n"
          ]
        }
      ]
    },
    {
      "cell_type": "code",
      "source": [
        "# try-except-else-finally문\n",
        "\n",
        "try:            # 문장\n",
        "    i = 1\n",
        "    j = 1\n",
        "    x = i/j\n",
        "except:         # 에러 발생 시 호출\n",
        "    print(\"error\")\n",
        "else:           # 에러가 발생하지 않으면 호출\n",
        "    print(x)\n",
        "finally:        # 무조건 출력\n",
        "    print(\"무조건 출력됩니다.\")"
      ],
      "metadata": {
        "colab": {
          "base_uri": "https://localhost:8080/"
        },
        "id": "3b7mUssLFyL4",
        "outputId": "453ad036-2b3a-4667-fdb1-fe631dd2521c"
      },
      "execution_count": 10,
      "outputs": [
        {
          "output_type": "stream",
          "name": "stdout",
          "text": [
            "1.0\n",
            "무조건 출력됩니다.\n"
          ]
        }
      ]
    },
    {
      "cell_type": "code",
      "source": [
        "# 내가 설정한 조건에 만족하지 않는 경우 error를 발생\n",
        "\n",
        "test = 'hello'\n",
        "\n",
        "assert test == 'hello', '애러 메시지 1' #1\n",
        "assert test == 'world', '애러 메시지 2' #2\n",
        "assert test + 3 == 5, '애러 메시지 3' #3"
      ],
      "metadata": {
        "id": "efv-j1hjGxAO"
      },
      "execution_count": null,
      "outputs": []
    },
    {
      "cell_type": "code",
      "source": [
        "# raise 사용하여 에러를 만들 수 있다.\n",
        "raise ValueError('코드를 잘~~ 만들어주세요.')"
      ],
      "metadata": {
        "colab": {
          "base_uri": "https://localhost:8080/",
          "height": 201
        },
        "id": "G8F63zmQHGKB",
        "outputId": "b934a137-ec22-4314-9fd5-b43099dcf24b"
      },
      "execution_count": 13,
      "outputs": [
        {
          "output_type": "error",
          "ename": "ValueError",
          "evalue": "코드를 잘~~ 만들어주세요.",
          "traceback": [
            "\u001b[0;31m---------------------------------------------------------------------------\u001b[0m",
            "\u001b[0;31mValueError\u001b[0m                                Traceback (most recent call last)",
            "\u001b[0;32m<ipython-input-13-bc57a639076e>\u001b[0m in \u001b[0;36m<cell line: 2>\u001b[0;34m()\u001b[0m\n\u001b[1;32m      1\u001b[0m \u001b[0;31m# raise 사용하여 에러를 만들 수 있다.\u001b[0m\u001b[0;34m\u001b[0m\u001b[0;34m\u001b[0m\u001b[0m\n\u001b[0;32m----> 2\u001b[0;31m \u001b[0;32mraise\u001b[0m \u001b[0mValueError\u001b[0m\u001b[0;34m(\u001b[0m\u001b[0;34m'코드를 잘~~ 만들어주세요.'\u001b[0m\u001b[0;34m)\u001b[0m\u001b[0;34m\u001b[0m\u001b[0;34m\u001b[0m\u001b[0m\n\u001b[0m",
            "\u001b[0;31mValueError\u001b[0m: 코드를 잘~~ 만들어주세요."
          ]
        }
      ]
    }
  ]
}