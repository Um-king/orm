{
  "nbformat": 4,
  "nbformat_minor": 0,
  "metadata": {
    "colab": {
      "provenance": [],
      "authorship_tag": "ABX9TyMNeFDyv/HUaKyOA6i8hLmC",
      "include_colab_link": true
    },
    "kernelspec": {
      "name": "python3",
      "display_name": "Python 3"
    },
    "language_info": {
      "name": "python"
    }
  },
  "cells": [
    {
      "cell_type": "markdown",
      "metadata": {
        "id": "view-in-github",
        "colab_type": "text"
      },
      "source": [
        "<a href=\"https://colab.research.google.com/github/Um-king/orm/blob/main/%5B%EB%AA%A8%EB%91%90%EC%97%B0%5D_%EC%97%B0%EC%8A%B5_%EB%AC%B8%EC%A0%9C.ipynb\" target=\"_parent\"><img src=\"https://colab.research.google.com/assets/colab-badge.svg\" alt=\"Open In Colab\"/></a>"
      ]
    },
    {
      "cell_type": "markdown",
      "source": [
        "# 프로그램 1. 스무고개 숫자 맞추기"
      ],
      "metadata": {
        "id": "igzHQvJX0WFG"
      }
    },
    {
      "cell_type": "markdown",
      "source": [
        "## 1.1 숫자 입력 받기\n",
        "* input을 활용해서 숫자를 입력 받으세요.\n",
        "* 20번 안에 숫자를 맞춰야하는 게임"
      ],
      "metadata": {
        "id": "goo0_MP-0imp"
      }
    },
    {
      "cell_type": "code",
      "source": [
        "# # while - if문을 사용해서 같으면 정답 틀리면 틀렸습니다. 라고 출력해보기!\n",
        "# cnt = 0\n",
        "# while cnt < 20:\n",
        "#     number = int(input('숫자를 입력하세요(1~100 사이) : ')) # 우리가 입력할 값\n",
        "\n",
        "#     if secret_number == number:\n",
        "#         print(\"정답입니다.\")\n",
        "#         break;\n",
        "#     else:\n",
        "#         print(\"틀렸습니다.\")\n",
        "#     cnt += 1"
      ],
      "metadata": {
        "id": "n4sSTwuC1U6N"
      },
      "execution_count": null,
      "outputs": []
    },
    {
      "cell_type": "code",
      "source": [
        "import random\n",
        "\n",
        "# 맞춰야할 숫자\n",
        "secret_number = random.randrange(1, 101)\n",
        "\n",
        "# 20번안에 정답을 맞췄는지 확인하는 변수\n",
        "flag = True\n",
        "\n",
        "# for문으로 20번을 반복하는 기능 구현\n",
        "for i in range(20):\n",
        "     number = int(input('숫자를 입력하세요(1~100 사이) : ')) # 우리가 입력할 값\n",
        "     if secret_number == number:\n",
        "        print(\"정답입니다.\")\n",
        "        flag = False\n",
        "        break;\n",
        "     elif secret_number > number:\n",
        "        print(f\"{i + 1}번째: 입력한 숫자가 더 작습니다.\")\n",
        "     else:\n",
        "        print(f\"{i + 1}번째: 입력한 숫자가 더 큽니다.\")\n",
        "\n",
        "if flag:\n",
        "    print(f\"정답은 {secret_number} 입니다.\")"
      ],
      "metadata": {
        "id": "IVEnhZrc2lSA"
      },
      "execution_count": null,
      "outputs": []
    },
    {
      "cell_type": "markdown",
      "source": [
        "# 프로그램 2. 가위바위보\n",
        "\n",
        "* Step 1 : 우리가 낼 가위, 바위, 보를 입력 받는다.\n",
        "* Step 2 : 컴퓨터가 낼 가위, 바위, 보를 입력 받는다.\n",
        "* Step 3 : 승패요건\n",
        "* Step 4 : 가위, 바위, 보 외 다른 거를 냈을때 어떻게 해야하는지? / 종료하고 싶은지 물어보는것도 추가"
      ],
      "metadata": {
        "id": "9xqb3Fkf7ZJi"
      }
    },
    {
      "cell_type": "code",
      "source": [
        "import random\n",
        "\n",
        "\n",
        "def game_winner(game, user_answer):\n",
        "    if game == user_answer:\n",
        "        print(\"비겼습니다.\")\n",
        "    elif (game == \"가위\" and user_answer == \"바위\") or \\\n",
        "    (game == \"바위\" and user_answer == \"보\") or \\\n",
        "    (game == \"보\" and user_answer == \"가위\") :\n",
        "        print(\"이겼습니다.\")\n",
        "    else:\n",
        "        print(\"졌습니다.\")\n",
        "\n",
        "\n",
        "game_list = [\"가위\", \"바위\", \"보\"]\n",
        "\n",
        "while 1:\n",
        "    # 컴퓨터 가위바위보 선택\n",
        "    game = random.choice(game_list)\n",
        "\n",
        "    # 유저 가위바위보 입력\n",
        "    user_answer = input('가위 바위 보(종료 시 0을 입력!) ')\n",
        "\n",
        "    if user_answer == \"0\":\n",
        "        print(\"종료\")\n",
        "        break;\n",
        "\n",
        "    else:\n",
        "        if [i for i in range(len(game_list)) if user_answer in game_list[i]]: # 사용자가 입력한 값이 존재하는지 확인\n",
        "            game_winner(game, user_answer)\n",
        "        else:\n",
        "            print(\"가위, 바위, 보 선택이 잘못되었습니다.\")\n",
        "\n"
      ],
      "metadata": {
        "colab": {
          "base_uri": "https://localhost:8080/"
        },
        "id": "DV8KtLGm7iLH",
        "outputId": "a58e1820-e095-4a70-ab54-1f817b760829"
      },
      "execution_count": 5,
      "outputs": [
        {
          "output_type": "stream",
          "name": "stdout",
          "text": [
            "가위 바위 보(종료 시 0을 입력!) 없음\n",
            "가위, 바위, 보 선택이 잘못되었습니다.\n",
            "가위 바위 보(종료 시 0을 입력!) 가위 바위\n",
            "가위, 바위, 보 선택이 잘못되었습니다.\n",
            "가위 바위 보(종료 시 0을 입력!) 가위\n",
            "비겼습니다.\n",
            "가위 바위 보(종료 시 0을 입력!) 바위\n",
            "비겼습니다.\n",
            "가위 바위 보(종료 시 0을 입력!) 보\n",
            "졌습니다.\n",
            "가위 바위 보(종료 시 0을 입력!) 0\n",
            "종료\n"
          ]
        }
      ]
    },
    {
      "cell_type": "code",
      "source": [],
      "metadata": {
        "id": "qpFUvzX571bz"
      },
      "execution_count": null,
      "outputs": []
    }
  ]
}