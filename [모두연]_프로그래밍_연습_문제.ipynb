{
  "nbformat": 4,
  "nbformat_minor": 0,
  "metadata": {
    "colab": {
      "provenance": [],
      "authorship_tag": "ABX9TyPFe89neItlH6NSWoPU28G5",
      "include_colab_link": true
    },
    "kernelspec": {
      "name": "python3",
      "display_name": "Python 3"
    },
    "language_info": {
      "name": "python"
    }
  },
  "cells": [
    {
      "cell_type": "markdown",
      "metadata": {
        "id": "view-in-github",
        "colab_type": "text"
      },
      "source": [
        "<a href=\"https://colab.research.google.com/github/Um-king/orm/blob/main/%5B%EB%AA%A8%EB%91%90%EC%97%B0%5D_%ED%94%84%EB%A1%9C%EA%B7%B8%EB%9E%98%EB%B0%8D_%EC%97%B0%EC%8A%B5_%EB%AC%B8%EC%A0%9C.ipynb\" target=\"_parent\"><img src=\"https://colab.research.google.com/assets/colab-badge.svg\" alt=\"Open In Colab\"/></a>"
      ]
    },
    {
      "cell_type": "markdown",
      "source": [
        "# 할일 목록 만들기\n",
        "\n",
        "1. 목표 : 함수, 조건문, 반복문 최대환 활용\n",
        "\n",
        "### Step 1: 할 일 목록 초기화 및 표시 함수\n",
        "목표: 사용자의 할 일 목록을 관리합니다.\n",
        "\n",
        "내용:\n",
        "할 일 목록을 저장할 리스트를 초기화합니다.\n",
        "\n",
        "할 일 목록을 표시하는 함수를 정의합니다.\n",
        "\n",
        "### Step 2: 할 일 추가 및 삭제 기능\n",
        "목표: 할 일을 추가하고 삭제하는 기능을 구현합니다.\n",
        "\n",
        "내용:\n",
        "할 일을 추가하는 함수를 정의합니다.\n",
        "\n",
        "할 일을 삭제하는 함수를 정의합니다.\n",
        "\n",
        "### Step 3: 사용자 입력 처리\n",
        "목표: 사용자 입력에 따라 프로그램이 반응하도록 합니다.\n",
        "\n",
        "내용:\n",
        "사용자로부터 입력을 받아 추가, 삭제, 표시 기능을 수행합니다."
      ],
      "metadata": {
        "id": "pYWp7OWsHbqZ"
      }
    },
    {
      "cell_type": "code",
      "source": [
        "# Step 1. 할 일 목록을 저장할 리스트\n",
        "todo_list = []"
      ],
      "metadata": {
        "id": "9-7D8jcdOHit"
      },
      "execution_count": 7,
      "outputs": []
    },
    {
      "cell_type": "code",
      "source": [
        "# 할 일 목록을 표시하는 함수\n",
        "def display_todo_list():\n",
        "    if len(todo_list) == 0:\n",
        "        print(\"할 일 목록이 비어있습니다.\")\n",
        "    else:\n",
        "        for idx, item in enumerate(todo_list):\n",
        "            print(f\"{idx + 1}. {item}\")\n",
        "\n",
        "## -------------------------------------------------------\n",
        "\n",
        "# Step 2. 할 일을 추가하는 함수\n",
        "def add_todo_item(item):\n",
        "    todo_list.append(item)\n",
        "    print(f\"'{item}'이(가) 할 일 목록에 추가되었습니다.\")\n",
        "\n",
        "# Step 2. 할 일을 삭제하는 함수\n",
        "def delete_todo_item(index):\n",
        "    # index (int): 삭제할 항목의 인덱스 (1부터 시작)\n",
        "    if 0 < index <= len(todo_list):\n",
        "        item = todo_list.pop(index - 1)\n",
        "        print(f\"'{item}'이(가) 할 일 목록에서 삭제되었습니다.\")\n",
        "    else:\n",
        "        print(\"잘못된 인덱스입니다.\")\n",
        "\n",
        "# Step 2. 할일 전부 삭제하는 함수\n",
        "def delete_todo_item_all():\n",
        "    if len(todo_list) > 0:\n",
        "        todo_list.clear()\n",
        "        print(\"전부 삭제!\")\n",
        "    else:\n",
        "        print(\"할일이 없습니다!\")\n",
        "\n",
        "## -------------------------------------------------------\n",
        "\n",
        "# Step 3. 사용자 입력 처리 함수\n",
        "def handle_user_input():\n",
        "    while True:\n",
        "        print(\"\\n할 일 목록 관리 프로그램\")\n",
        "        print(\"1. 할 일 표시하기\")\n",
        "        print(\"2. 할 일 추가하기\")\n",
        "        print(\"3. 할 일 삭제하기\")\n",
        "        print(\"4. 모든 일정 삭제하기\")\n",
        "        print(\"5. 프로그램 종료하기\")\n",
        "        choice = input(\"원하는 작업을 선택하세요: \")\n",
        "\n",
        "        if choice == '1':\n",
        "            display_todo_list()\n",
        "        elif choice == '2':\n",
        "            item = input(\"추가할 할 일: \")\n",
        "            add_todo_item(item)\n",
        "        elif choice == '3':\n",
        "            index = int(input(\"삭제할 할 일의 번호: \"))\n",
        "            delete_todo_item(index)\n",
        "        elif choice == '4':\n",
        "            delete_todo_item_all()\n",
        "        elif choice == '5':\n",
        "            print(\"프로그램을 종료합니다.\")\n",
        "            break\n",
        "        else:\n",
        "            print(\"잘못된 선택입니다. 다시 시도해주세요.\")\n",
        "\n",
        "# 프로그램 실행\n",
        "handle_user_input()"
      ],
      "metadata": {
        "colab": {
          "base_uri": "https://localhost:8080/"
        },
        "id": "ot5LoXJcHtHH",
        "outputId": "4df9f9bd-f26e-4f0c-f880-7517b0b6910e"
      },
      "execution_count": 9,
      "outputs": [
        {
          "output_type": "stream",
          "name": "stdout",
          "text": [
            "\n",
            "할 일 목록 관리 프로그램\n",
            "1. 할 일 표시하기\n",
            "2. 할 일 추가하기\n",
            "3. 할 일 삭제하기\n",
            "4. 모든 일정 삭제하기\n",
            "5. 프로그램 종료하기\n",
            "원하는 작업을 선택하세요: 1\n",
            "1. 코딩\n",
            "2. 운동\n",
            "\n",
            "할 일 목록 관리 프로그램\n",
            "1. 할 일 표시하기\n",
            "2. 할 일 추가하기\n",
            "3. 할 일 삭제하기\n",
            "4. 모든 일정 삭제하기\n",
            "5. 프로그램 종료하기\n",
            "원하는 작업을 선택하세요: 4\n",
            "전부 삭제!\n",
            "\n",
            "할 일 목록 관리 프로그램\n",
            "1. 할 일 표시하기\n",
            "2. 할 일 추가하기\n",
            "3. 할 일 삭제하기\n",
            "4. 모든 일정 삭제하기\n",
            "5. 프로그램 종료하기\n",
            "원하는 작업을 선택하세요: 5\n",
            "프로그램을 종료합니다.\n"
          ]
        }
      ]
    },
    {
      "cell_type": "code",
      "source": [],
      "metadata": {
        "id": "wkKknlWMOIyu"
      },
      "execution_count": null,
      "outputs": []
    }
  ]
}