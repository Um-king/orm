{
  "nbformat": 4,
  "nbformat_minor": 0,
  "metadata": {
    "colab": {
      "provenance": [],
      "authorship_tag": "ABX9TyO8vFOZjSPRCGFRS0dI3Nlx",
      "include_colab_link": true
    },
    "kernelspec": {
      "name": "python3",
      "display_name": "Python 3"
    },
    "language_info": {
      "name": "python"
    }
  },
  "cells": [
    {
      "cell_type": "markdown",
      "metadata": {
        "id": "view-in-github",
        "colab_type": "text"
      },
      "source": [
        "<a href=\"https://colab.research.google.com/github/Um-king/orm/blob/main/%5B%EB%AA%A8%EB%91%90%EC%97%B0%5D%EC%98%A8%EB%B3%B4%EB%94%A9_2%EC%9D%BC%EC%B0%A8_%EC%A3%BC%EC%84%9D.ipynb\" target=\"_parent\"><img src=\"https://colab.research.google.com/assets/colab-badge.svg\" alt=\"Open In Colab\"/></a>"
      ]
    },
    {
      "cell_type": "code",
      "execution_count": null,
      "metadata": {
        "id": "QA1LzjdbCn9p"
      },
      "outputs": [],
      "source": []
    },
    {
      "cell_type": "markdown",
      "source": [
        "# 1. 주석\n",
        "\n",
        "1. 소스의 일부분의 실행을 제외하기 위함.\n",
        "2. 코드안의 이해를 돕기 위함\n",
        "3. 일정 부분의 실행을 제어함\n",
        "4. 좋은 주석은 코드의 이해를 돕고, 협업을 원활하게 만듭니다.\n",
        "\n",
        "\n",
        "## 1.1 한줄 주석\n",
        "1. 한줄 주석은 # 기호로 시작합니다."
      ],
      "metadata": {
        "id": "dFEKoGpwCur8"
      }
    },
    {
      "cell_type": "code",
      "source": [
        "# 이것은 주석입니다. (전체적인 용도로 사용된 주석 : 특이사항, 전체적인 것들, 업데이트 내용을 주로 사용)\n",
        "print(\"Hello word 1!\") # 이것도 주석입니다.(해당 코드의  설명)\n",
        "# print(\"Hello word 2!\") # 코드의 에러 / 향후 수정 / 임시 주석의 용도"
      ],
      "metadata": {
        "colab": {
          "base_uri": "https://localhost:8080/"
        },
        "id": "kXWyqpBkDosC",
        "outputId": "8b4e6bed-eff6-4cd9-a575-25a0553ebb44"
      },
      "execution_count": null,
      "outputs": [
        {
          "output_type": "stream",
          "name": "stdout",
          "text": [
            "Hello word 1!\n"
          ]
        }
      ]
    },
    {
      "cell_type": "markdown",
      "source": [
        "## 1.2 여러줄 주석\n",
        "\n",
        "\n",
        "1. \"\"\" \"\"\" / ''' ''' 사용 (앞뒤로 감싸야한다.)"
      ],
      "metadata": {
        "id": "k25kV0LLEzz5"
      }
    },
    {
      "cell_type": "code",
      "source": [
        "\"\"\"\n",
        "print(\"Hello word 1!\")\n",
        "print(\"Hello word 2!\")\n",
        "print(\"Hello word 3!\")\n",
        "\"\"\"\n",
        "\n",
        "print(\"Hello word 4!\")"
      ],
      "metadata": {
        "colab": {
          "base_uri": "https://localhost:8080/"
        },
        "id": "cIoquWnpE_yp",
        "outputId": "222cb981-0275-4732-f1e8-53242d152572"
      },
      "execution_count": null,
      "outputs": [
        {
          "output_type": "stream",
          "name": "stdout",
          "text": [
            "Hello word 4!\n"
          ]
        }
      ]
    },
    {
      "cell_type": "code",
      "source": [
        "\"\"\"\n",
        "이것은 주석입니다.\n",
        "이렇게 여러줄 주석을 넣을 수 있습니다.\n",
        "\"\"\"\n",
        "\n",
        "print(\"Hello word 1!\") # 이것은 주석입니다.\n",
        "print(\"Hello word 2!\")"
      ],
      "metadata": {
        "colab": {
          "base_uri": "https://localhost:8080/"
        },
        "id": "dR_UXOP_FK39",
        "outputId": "f1037de0-5ee2-45e9-f63f-85c5c399575d"
      },
      "execution_count": null,
      "outputs": [
        {
          "output_type": "stream",
          "name": "stdout",
          "text": [
            "Hello word 1!\n",
            "Hello word 2!\n"
          ]
        }
      ]
    }
  ]
}