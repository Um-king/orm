{
  "nbformat": 4,
  "nbformat_minor": 0,
  "metadata": {
    "colab": {
      "provenance": [],
      "authorship_tag": "ABX9TyP7Wv6UvvmIx88d8JBlMjiB",
      "include_colab_link": true
    },
    "kernelspec": {
      "name": "python3",
      "display_name": "Python 3"
    },
    "language_info": {
      "name": "python"
    }
  },
  "cells": [
    {
      "cell_type": "markdown",
      "metadata": {
        "id": "view-in-github",
        "colab_type": "text"
      },
      "source": [
        "<a href=\"https://colab.research.google.com/github/Um-king/orm/blob/main/lms_%EC%98%81%EC%83%81_%EA%B5%90%EC%9C%A1_1.ipynb\" target=\"_parent\"><img src=\"https://colab.research.google.com/assets/colab-badge.svg\" alt=\"Open In Colab\"/></a>"
      ]
    },
    {
      "cell_type": "markdown",
      "source": [
        "# 파이썬의 기초"
      ],
      "metadata": {
        "id": "3XWpGy3chcfD"
      }
    },
    {
      "cell_type": "code",
      "execution_count": null,
      "metadata": {
        "colab": {
          "base_uri": "https://localhost:8080/"
        },
        "id": "piH4NQsodqnZ",
        "outputId": "e3e11001-66fe-40a2-bd02-5964db46d0d9"
      },
      "outputs": [
        {
          "output_type": "stream",
          "name": "stdout",
          "text": [
            "13\n"
          ]
        }
      ],
      "source": [
        "# 출력\n",
        "\n",
        "x = 3    # 변수 : 변할수 있는 수\n",
        "y = 10\n",
        "print(x + y)"
      ]
    },
    {
      "cell_type": "code",
      "source": [
        "# 주석\n",
        "\n",
        "# hello world\n",
        "\n",
        "'''\n",
        "hello world\n",
        "'''"
      ],
      "metadata": {
        "id": "CIetyTROhg9k"
      },
      "execution_count": null,
      "outputs": []
    },
    {
      "cell_type": "code",
      "source": [
        "# type\n",
        "\n",
        "a = 10              # 정수형 int\n",
        "b =10.1             # 실수형 float\n",
        "c = 'hello world'   # 문자열 str\n",
        "d = -1              # 정수형 int\n",
        "e = 'lee'\n",
        "f = 'hojun'\n",
        "g = 10 + 2j\n",
        "h = 0b1001   # int\n",
        "i = 0o1001   # int\n",
        "j = 0x1001   # int\n",
        "\n",
        "print(a + b) # 실수로 처리해줘야 소수점 손실이 없다.\n",
        "print(e + f)\n",
        "\n",
        "print(type(a)) # 변수의 타입 확인"
      ],
      "metadata": {
        "colab": {
          "base_uri": "https://localhost:8080/"
        },
        "id": "V1X0rKGphsJB",
        "outputId": "396eb9ae-0b41-4784-f4db-3b8a001c06d2"
      },
      "execution_count": null,
      "outputs": [
        {
          "output_type": "stream",
          "name": "stdout",
          "text": [
            "20.1\n",
            "leehojun\n",
            "<class 'int'>\n"
          ]
        }
      ]
    },
    {
      "cell_type": "code",
      "source": [
        "s = 'paullab CEO LeeHoJun'\n",
        "\n",
        "print(type(s))\n",
        "\n",
        "print(s[0])     # 인덱싱\n",
        "print(s[0:7])   # []안의 숫자를 인덱스라 부름\n",
        "print(s[0:15:2])\n",
        "print(s[10:0:-1])\n",
        "print(s[::-1])\n",
        "print(s[-1])"
      ],
      "metadata": {
        "colab": {
          "base_uri": "https://localhost:8080/"
        },
        "id": "4G-eiXVkiEVs",
        "outputId": "9dc2793c-9c71-4bed-8871-2fc6b3e0d617"
      },
      "execution_count": null,
      "outputs": [
        {
          "output_type": "stream",
          "name": "stdout",
          "text": [
            "<class 'str'>\n",
            "p\n",
            "paullab\n",
            "pulbCOLe\n",
            "OEC ballua\n",
            "nuJoHeeL OEC balluap\n",
            "n\n"
          ]
        }
      ]
    },
    {
      "cell_type": "code",
      "source": [
        "s = 'paullab CEO LeeHoJun'\n",
        "\n",
        "print(s.upper())        # 문자열을 대문자로 변경\n",
        "print(s.lower())        # 문자열을 소문자로 변경\n",
        "print(s.count('l'))     # 'l'의 개수 확인\n",
        "\n",
        "ss = '   hello world     '\n",
        "print(ss.strip())       # 양쪽 공백 제거\n",
        "print(s.split())        # 공백으로 문자열을 나눔\n",
        "\n",
        "a = s.split()\n",
        "print('!'.join(a))      # !로 문자열을 연결"
      ],
      "metadata": {
        "colab": {
          "base_uri": "https://localhost:8080/"
        },
        "id": "gjRxysSNigIX",
        "outputId": "613b94b7-6833-478e-b85c-cafe2501c566"
      },
      "execution_count": null,
      "outputs": [
        {
          "output_type": "stream",
          "name": "stdout",
          "text": [
            "PAULLAB CEO LEEHOJUN\n",
            "paullab ceo leehojun\n",
            "2\n",
            "hello world\n",
            "['paullab', 'CEO', 'LeeHoJun']\n",
            "paullab!CEO!LeeHoJun\n"
          ]
        }
      ]
    },
    {
      "cell_type": "code",
      "source": [
        "a = 2019\n",
        "b = 9\n",
        "c = 24\n",
        "\n",
        "# 2019/9/24\n",
        "\n",
        "print(a,b,c, sep = '/') # 구분자 추가"
      ],
      "metadata": {
        "colab": {
          "base_uri": "https://localhost:8080/"
        },
        "id": "aWWYt3lFjR9c",
        "outputId": "cd01feee-ba5d-435c-d18e-ff99537a0286"
      },
      "execution_count": null,
      "outputs": [
        {
          "output_type": "stream",
          "name": "stdout",
          "text": [
            "2019/9/24\n"
          ]
        }
      ]
    },
    {
      "cell_type": "code",
      "source": [
        "# 형변환\n",
        "\n",
        "a = 10\n",
        "b = '10'        # a + b -> 수행x\n",
        "\n",
        "print(str(a) + b) # 문자열로 형변환\n",
        "print(a + int(a)) # 정수로 형변환"
      ],
      "metadata": {
        "colab": {
          "base_uri": "https://localhost:8080/"
        },
        "id": "MLuqDPjtj8yZ",
        "outputId": "f2563b31-fdda-4e7b-aece-8b16476f91c3"
      },
      "execution_count": null,
      "outputs": [
        {
          "output_type": "stream",
          "name": "stdout",
          "text": [
            "1010\n",
            "20\n"
          ]
        }
      ]
    },
    {
      "cell_type": "code",
      "source": [
        "print(bool(' '))  # 공백 존재 -> True\n",
        "print(bool(''))   # 공백 x -> False\n",
        "print(bool(-1))   # 0이 아닌 모든 수는 True\n",
        "print(bool(None)) # 아무것도 없는 -> False"
      ],
      "metadata": {
        "colab": {
          "base_uri": "https://localhost:8080/"
        },
        "id": "Lj98HmpskHIB",
        "outputId": "85c07ad9-5d3c-400a-d5b4-5802c3286ccc"
      },
      "execution_count": null,
      "outputs": [
        {
          "output_type": "stream",
          "name": "stdout",
          "text": [
            "True\n",
            "False\n",
            "True\n",
            "False\n"
          ]
        }
      ]
    },
    {
      "cell_type": "code",
      "source": [
        "# 산술 연산\n",
        "\n",
        "a = 3\n",
        "b = 10\n",
        "\n",
        "print(a + b)\n",
        "print(a - b)\n",
        "print(b / a)    # 나머지는 무조건 부동소수점 출력\n",
        "print(b // a)\n",
        "print(b * a)\n",
        "print(b ** a)\n",
        "print(b % a)    # 나머지"
      ],
      "metadata": {
        "colab": {
          "base_uri": "https://localhost:8080/"
        },
        "id": "cSANb2kbkXtW",
        "outputId": "e28df131-6203-41b3-ce31-8ebbebf26714"
      },
      "execution_count": null,
      "outputs": [
        {
          "output_type": "stream",
          "name": "stdout",
          "text": [
            "13\n",
            "-7\n",
            "3.3333333333333335\n",
            "3\n",
            "30\n",
            "1000\n",
            "1\n"
          ]
        }
      ]
    },
    {
      "cell_type": "code",
      "source": [
        "# 비교 연산\n",
        "\n",
        "a = 10\n",
        "b = 3\n",
        "\n",
        "print(a >= b)\n",
        "print(a > b)\n",
        "print(a <= b)\n",
        "print(a < b)\n",
        "print(a == b)\n",
        "print(a != b)"
      ],
      "metadata": {
        "colab": {
          "base_uri": "https://localhost:8080/"
        },
        "id": "3oiuBeJxkjwC",
        "outputId": "2a38d9c3-7f7b-4de3-ac85-5a45e8cebea9"
      },
      "execution_count": null,
      "outputs": [
        {
          "output_type": "stream",
          "name": "stdout",
          "text": [
            "True\n",
            "True\n",
            "False\n",
            "False\n",
            "False\n",
            "True\n"
          ]
        }
      ]
    },
    {
      "cell_type": "code",
      "source": [
        "# 논리 연산\n",
        "\n",
        "a = True    # 1\n",
        "b = False   # 0\n",
        "print(a and b)\n",
        "print(a or b)\n",
        "print(not b)"
      ],
      "metadata": {
        "colab": {
          "base_uri": "https://localhost:8080/"
        },
        "id": "j8gVpMovkw5v",
        "outputId": "7c0e5a45-9420-46d8-8e7d-1b2ecc7cb69b"
      },
      "execution_count": null,
      "outputs": [
        {
          "output_type": "stream",
          "name": "stdout",
          "text": [
            "False\n",
            "True\n",
            "True\n"
          ]
        }
      ]
    },
    {
      "cell_type": "code",
      "source": [
        "# 할당 연산\n",
        "\n",
        "a = 10\n",
        "a += 10\n",
        "\n",
        "print(a)"
      ],
      "metadata": {
        "colab": {
          "base_uri": "https://localhost:8080/"
        },
        "id": "pf5IWm0mk8YO",
        "outputId": "5b56956a-8846-4e76-d536-7105507e1dae"
      },
      "execution_count": null,
      "outputs": [
        {
          "output_type": "stream",
          "name": "stdout",
          "text": [
            "20\n"
          ]
        }
      ]
    },
    {
      "cell_type": "code",
      "source": [
        "# bit 연산\n",
        "\n",
        "a = 40\n",
        "b = 14\n",
        "print(a & b)\n",
        "\n",
        "# 2진법 출력\n",
        "print(bin(a)[2:].zfill(6))\n",
        "print(bin(b)[2:].zfill(6))\n",
        "\n",
        "'''\n",
        "101000\n",
        "001110\n",
        "------- [and 연산]\n",
        "001000 이 반환됨 -> 두 값 비교하여 0이 하나라도 있으면 0\n",
        "따라서 001000 = 8\n",
        "'''"
      ],
      "metadata": {
        "colab": {
          "base_uri": "https://localhost:8080/",
          "height": 90
        },
        "id": "VqS90ivslF7a",
        "outputId": "0da1d57e-5236-4402-ce48-6f2d32b4ae5c"
      },
      "execution_count": null,
      "outputs": [
        {
          "output_type": "stream",
          "name": "stdout",
          "text": [
            "8\n",
            "101000\n",
            "001110\n"
          ]
        },
        {
          "output_type": "execute_result",
          "data": {
            "text/plain": [
              "'\\n101000\\n001110\\n\\n001000 이 반환됨 -> 두 값 비교하여 0이 하나라도 있으면 0\\n따라서 001000 = 8\\n'"
            ],
            "application/vnd.google.colaboratory.intrinsic+json": {
              "type": "string"
            }
          },
          "metadata": {},
          "execution_count": 23
        }
      ]
    },
    {
      "cell_type": "code",
      "source": [
        "def f(x, y): # 파라미터\n",
        "    z = x + y\n",
        "    return z\n",
        "\n",
        "print(f(3, 5)) # 아규먼트"
      ],
      "metadata": {
        "colab": {
          "base_uri": "https://localhost:8080/"
        },
        "id": "MASm8LBslObH",
        "outputId": "6641c94a-6250-4842-94d9-c6bb23f6546a"
      },
      "execution_count": null,
      "outputs": [
        {
          "output_type": "stream",
          "name": "stdout",
          "text": [
            "8\n"
          ]
        }
      ]
    },
    {
      "cell_type": "code",
      "source": [
        "# 출력순서 확인\n",
        "\n",
        "def ff():\n",
        "    print('1')\n",
        "    print('2')\n",
        "    print('3')\n",
        "\n",
        "print('4')\n",
        "ff()\n",
        "print(ff()) # None 출력이유: 항상 함수는  return 값이 있는데 ff함수는 return None이 생략되어 있는것 -> 함수는 항상 return 값이 있고 ff()는 생략되어있음"
      ],
      "metadata": {
        "colab": {
          "base_uri": "https://localhost:8080/"
        },
        "id": "J2QzQ-HalvSX",
        "outputId": "ee29ad5f-d377-4b05-8798-195e0c6c05a6"
      },
      "execution_count": null,
      "outputs": [
        {
          "output_type": "stream",
          "name": "stdout",
          "text": [
            "4\n",
            "1\n",
            "2\n",
            "3\n"
          ]
        }
      ]
    },
    {
      "cell_type": "code",
      "source": [
        "# 전역변수\n",
        "\n",
        "a = 10\n",
        "def aplus():\n",
        "    global a # 전역변수의 a를 사용하겠다 : global\n",
        "    a += 10\n",
        "    return a\n",
        "print(aplus())"
      ],
      "metadata": {
        "colab": {
          "base_uri": "https://localhost:8080/"
        },
        "id": "PDeqQNp7mABc",
        "outputId": "a9b5851f-41f7-4c09-dbcc-dd7f1322e1c9"
      },
      "execution_count": null,
      "outputs": [
        {
          "output_type": "stream",
          "name": "stdout",
          "text": [
            "20\n"
          ]
        }
      ]
    },
    {
      "cell_type": "code",
      "source": [],
      "metadata": {
        "id": "O1TpYTycofTE"
      },
      "execution_count": null,
      "outputs": []
    }
  ]
}