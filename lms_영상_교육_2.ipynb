{
  "nbformat": 4,
  "nbformat_minor": 0,
  "metadata": {
    "colab": {
      "provenance": [],
      "authorship_tag": "ABX9TyM/iZMC87lLjlPy56DBotl3",
      "include_colab_link": true
    },
    "kernelspec": {
      "name": "python3",
      "display_name": "Python 3"
    },
    "language_info": {
      "name": "python"
    }
  },
  "cells": [
    {
      "cell_type": "markdown",
      "metadata": {
        "id": "view-in-github",
        "colab_type": "text"
      },
      "source": [
        "<a href=\"https://colab.research.google.com/github/Um-king/orm/blob/main/lms_%EC%98%81%EC%83%81_%EA%B5%90%EC%9C%A1_2.ipynb\" target=\"_parent\"><img src=\"https://colab.research.google.com/assets/colab-badge.svg\" alt=\"Open In Colab\"/></a>"
      ]
    },
    {
      "cell_type": "markdown",
      "source": [
        "# 리스트, 튜플, 딕셔너리, 셋"
      ],
      "metadata": {
        "id": "rRak9TPNosMf"
      }
    },
    {
      "cell_type": "markdown",
      "source": [
        "## 리스트"
      ],
      "metadata": {
        "id": "0QNCrnH8qA_U"
      }
    },
    {
      "cell_type": "code",
      "source": [
        "l = [100, 200, 300, 400]\n",
        "\n",
        "print(l)\n",
        "\n",
        "# 리스트\n",
        "# 변경이 가능한 자료형\n",
        "# 순서가 있는 자료형\n",
        "\n",
        "print(l[1])\n",
        "l[1] = 1000 # 변경이 가능\n",
        "print(l)"
      ],
      "metadata": {
        "colab": {
          "base_uri": "https://localhost:8080/"
        },
        "id": "o4lvTGCKovPY",
        "outputId": "199ec46a-ffa0-4465-b2be-851b5e3bf14d"
      },
      "execution_count": 3,
      "outputs": [
        {
          "output_type": "stream",
          "name": "stdout",
          "text": [
            "[100, 200, 300, 400]\n",
            "200\n",
            "[100, 1000, 300, 400]\n"
          ]
        }
      ]
    },
    {
      "cell_type": "code",
      "source": [
        "l = [100, 200, 300, 400]\n",
        "l.append(300) # 맨 뒤에 값을 추가\n",
        "print(l)\n",
        "\n",
        "print(l.count(300)) # 300의 개수 확인\n",
        "l.extend([100, 200, 300]) # 리스트로 여러개의 값을 추가\n",
        "print(l)\n",
        "\n",
        "l.insert(3, 1000) # 3번째 인덱스에 1000을 추가하겠다\n",
        "print(l)\n",
        "\n",
        "print(l.index(400)) # 400값이 처음으로 나오는 인덱스\n",
        "\n",
        "l.pop() # 마지막 값 제거 , pop(3) 특정위치의 값도 제거 가능\n",
        "print(l)\n",
        "\n",
        "# l.remove(100) # 처음으로 발견되는 위치의 값 제거\n",
        "print(l[::-1])"
      ],
      "metadata": {
        "colab": {
          "base_uri": "https://localhost:8080/"
        },
        "id": "r4f1d7qIo8qm",
        "outputId": "6d81dc9a-71d3-4627-d012-77507616ac12"
      },
      "execution_count": 14,
      "outputs": [
        {
          "output_type": "stream",
          "name": "stdout",
          "text": [
            "[100, 200, 300, 400, 300]\n",
            "2\n",
            "[100, 200, 300, 400, 300, 100, 200, 300]\n",
            "[100, 200, 300, 1000, 400, 300, 100, 200, 300]\n",
            "4\n",
            "[100, 200, 300, 1000, 400, 300, 100, 200]\n",
            "[200, 100, 300, 400, 1000, 300, 200, 100]\n"
          ]
        }
      ]
    },
    {
      "cell_type": "markdown",
      "source": [
        "## 튜플"
      ],
      "metadata": {
        "id": "9JkyObzmqCoq"
      }
    },
    {
      "cell_type": "code",
      "source": [
        "t = (100, 200, 300)\n",
        "print(t)\n",
        "\n",
        "# 순서가 있고\n",
        "# 변경이 불가능한 자료형 -> 참조하고 있는 내용의 변경이 불가능하지 참조하고 있는 원소가 리스트면 리스트의 값은 변경 가능\n",
        "# t[0] = 1000 -> Error!\n",
        "\n",
        "l = [1,2,3,4]\n",
        "tt = (l, 10, 20)\n",
        "l[0] = 1000\n",
        "print(tt)"
      ],
      "metadata": {
        "colab": {
          "base_uri": "https://localhost:8080/"
        },
        "id": "LpiEJl_ApHiN",
        "outputId": "5c45a33c-0f0d-4614-faa8-e1b07b746cc5"
      },
      "execution_count": 15,
      "outputs": [
        {
          "output_type": "stream",
          "name": "stdout",
          "text": [
            "(100, 200, 300)\n",
            "([1000, 2, 3, 4], 10, 20)\n"
          ]
        }
      ]
    },
    {
      "cell_type": "markdown",
      "source": [
        "## 셋"
      ],
      "metadata": {
        "id": "pFF_Qjehql1q"
      }
    },
    {
      "cell_type": "code",
      "source": [
        "s = {100, 200, 300, 300, 300}\n",
        "print(s)\n",
        "\n",
        "# 순서가 없고 -> 순서가 없기에 뒤섞여있다\n",
        "# 값의 중복을 허락하지 않는다.\n",
        "\n",
        "print(set('aaaabbbbbcccccddddefggg')) # 중복 허락x"
      ],
      "metadata": {
        "colab": {
          "base_uri": "https://localhost:8080/"
        },
        "id": "kvjkHsplqGg1",
        "outputId": "6952375b-7cce-457f-84d1-3b2abc236d6a"
      },
      "execution_count": 18,
      "outputs": [
        {
          "output_type": "stream",
          "name": "stdout",
          "text": [
            "{200, 100, 300}\n",
            "{'d', 'g', 'a', 'c', 'f', 'b', 'e'}\n"
          ]
        }
      ]
    },
    {
      "cell_type": "markdown",
      "source": [
        "## 딕셔너리"
      ],
      "metadata": {
        "id": "K9HCK6_wq6BN"
      }
    },
    {
      "cell_type": "code",
      "source": [
        "# d = {key:value}\n",
        "d = {'one':10, 'two':20}\n",
        "\n",
        "# 순서가 없고\n",
        "# 키의 중복을 허락하지 않는다.\n",
        "\n",
        "print(d['one'])\n",
        "\n",
        "print(d.values())\n",
        "print(d.keys())\n",
        "print(d.items()) # key와 value를 순서가 있게 리스트안에 튜플로 출력\n",
        "\n",
        "l = list(d.items())\n",
        "print(l[0])\n",
        "print(l[0][1])"
      ],
      "metadata": {
        "colab": {
          "base_uri": "https://localhost:8080/"
        },
        "id": "f1Zyugixq9Vf",
        "outputId": "180b2210-8b1e-4470-e00f-b0b29d2d1bd5"
      },
      "execution_count": 23,
      "outputs": [
        {
          "output_type": "stream",
          "name": "stdout",
          "text": [
            "10\n",
            "dict_values([10, 20])\n",
            "dict_keys(['one', 'two'])\n",
            "dict_items([('one', 10), ('two', 20)])\n",
            "('one', 10)\n",
            "10\n"
          ]
        }
      ]
    },
    {
      "cell_type": "code",
      "source": [
        "jeju = {'banana' : 5000, 'orange' : 2000}\n",
        "seoul = jeju.copy() # 얕은복사, seoul = jeju로 하면 같은 메모리를 바라보고, 값 수정이 두 객체 모두 반영됨\n",
        "\n",
        "jeju['orange'] = 100000\n",
        "print(seoul)\n",
        "print(jeju)"
      ],
      "metadata": {
        "colab": {
          "base_uri": "https://localhost:8080/"
        },
        "id": "nFVLpbnSrGtF",
        "outputId": "11903c02-3e04-4342-b74f-29aa230e9b6b"
      },
      "execution_count": 24,
      "outputs": [
        {
          "output_type": "stream",
          "name": "stdout",
          "text": [
            "{'banana': 5000, 'orange': 2000}\n",
            "{'banana': 5000, 'orange': 100000}\n"
          ]
        }
      ]
    },
    {
      "cell_type": "code",
      "source": [],
      "metadata": {
        "id": "E1DMpK9Irs-F"
      },
      "execution_count": null,
      "outputs": []
    }
  ]
}