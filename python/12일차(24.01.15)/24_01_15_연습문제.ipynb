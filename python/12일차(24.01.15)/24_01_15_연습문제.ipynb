{
  "nbformat": 4,
  "nbformat_minor": 0,
  "metadata": {
    "colab": {
      "provenance": [],
      "authorship_tag": "ABX9TyP5HoxuQxXz1T4K8XmGHhXE",
      "include_colab_link": true
    },
    "kernelspec": {
      "name": "python3",
      "display_name": "Python 3"
    },
    "language_info": {
      "name": "python"
    }
  },
  "cells": [
    {
      "cell_type": "markdown",
      "metadata": {
        "id": "view-in-github",
        "colab_type": "text"
      },
      "source": [
        "<a href=\"https://colab.research.google.com/github/Um-king/orm/blob/main/24_01_15_%EC%97%B0%EC%8A%B5%EB%AC%B8%EC%A0%9C.ipynb\" target=\"_parent\"><img src=\"https://colab.research.google.com/assets/colab-badge.svg\" alt=\"Open In Colab\"/></a>"
      ]
    },
    {
      "cell_type": "markdown",
      "source": [
        "# 24.01.16\n",
        "* 코드 수정"
      ],
      "metadata": {
        "id": "RcS59HtBGqTI"
      }
    },
    {
      "cell_type": "code",
      "source": [
        "from datetime import datetime\n",
        "\n",
        "comment_list = []\n",
        "\n",
        "class Comment:\n",
        "    def __init__(self, id, name, comment):\n",
        "        self.id = id\n",
        "        self.name = name\n",
        "        self.comment = comment\n",
        "        self.create_date = datetime.now().strftime('%Y-%m-%d %H:%M')\n",
        "        self.comment_reply_list = []\n",
        "\n",
        "    def display(self, term = 0):\n",
        "        blank = \" \" * term\n",
        "        print(f\"{blank}ID: {self.id}\")\n",
        "        print(f\"{blank}이름: {self.name}\")\n",
        "        print(f\"{blank}댓글: {self.comment}\")\n",
        "        print(f\"{blank}시간: {self.create_date}\")\n",
        "\n",
        "        for i in self.comment_reply_list:\n",
        "            i.display(2)\n",
        "\n",
        "    def add_comment(self, comment):\n",
        "        self.comment_reply_list.append(comment)\n",
        "\n",
        "\n",
        "# main 댓글 작성\n",
        "main_comment1 = Comment('test1', '홍길동', '테스트1입니다.')\n",
        "comment_list.append(main_comment1)\n",
        "\n",
        "main_comment2 = Comment('test2', '이몽룡', '테스트2입니다.')\n",
        "comment_list.append(main_comment2)\n",
        "\n",
        "# 대댓글 작성\n",
        "sub_comment1 = Comment('test3', '개똥이', '테스트3입니다')\n",
        "main_comment1.add_comment(sub_comment1)\n",
        "\n",
        "sub_comment2 = Comment('test4', '성춘향', '테스트4입니다')\n",
        "main_comment1.add_comment(sub_comment2)\n",
        "\n",
        "cnt = 1\n",
        "\n",
        "for i in comment_list:\n",
        "    print(f'[댓글{cnt}]--------------')\n",
        "    i.display()\n",
        "    cnt+=1"
      ],
      "metadata": {
        "colab": {
          "base_uri": "https://localhost:8080/"
        },
        "id": "-ZCUUBmaGrj2",
        "outputId": "a2683b54-d7eb-4375-ba44-e532abbe949a"
      },
      "execution_count": 10,
      "outputs": [
        {
          "output_type": "stream",
          "name": "stdout",
          "text": [
            "[댓글1]--------------\n",
            "ID: test1\n",
            "이름: 홍길동\n",
            "댓글: 테스트1입니다.\n",
            "시간: 2024-01-16 02:30\n",
            "  ID: test3\n",
            "  이름: 개똥이\n",
            "  댓글: 테스트3입니다\n",
            "  시간: 2024-01-16 02:30\n",
            "  ID: test4\n",
            "  이름: 성춘향\n",
            "  댓글: 테스트4입니다\n",
            "  시간: 2024-01-16 02:30\n",
            "[댓글2]--------------\n",
            "ID: test2\n",
            "이름: 이몽룡\n",
            "댓글: 테스트2입니다.\n",
            "시간: 2024-01-16 02:30\n"
          ]
        }
      ]
    },
    {
      "cell_type": "markdown",
      "source": [
        "# 24.01.15\n"
      ],
      "metadata": {
        "id": "o-arXpyQGxL3"
      }
    },
    {
      "cell_type": "code",
      "source": [
        "from datetime import datetime"
      ],
      "metadata": {
        "id": "Z4wWppwfDi_8"
      },
      "execution_count": null,
      "outputs": []
    },
    {
      "cell_type": "code",
      "source": [
        "class Subcomment:\n",
        "    def __init__(self, id, name, comment):\n",
        "        self.id = id\n",
        "        self.name = name\n",
        "        self.comment = comment\n",
        "        self.create_date = datetime.now().strftime('%Y-%m-%d %H:%M')\n",
        "        self.sub_comment_list = []\n",
        "\n",
        "class Comment:\n",
        "\n",
        "    comment_list = [] # 댓글을 확인하기 위한 리스트\n",
        "    comment_count = 1\n",
        "\n",
        "    def __init__(self, id, name, comment):\n",
        "        self.subcomment = Subcomment(id, name, comment)\n",
        "\n",
        "    @classmethod\n",
        "    def comment_add(cls, obj, count):\n",
        "         cls.comment_list.append({\n",
        "            str(count): obj.subcomment\n",
        "        })"
      ],
      "metadata": {
        "id": "dA48EYTNSfME"
      },
      "execution_count": null,
      "outputs": []
    },
    {
      "cell_type": "code",
      "source": [
        "def comment_print():\n",
        "    if len(Comment.comment_list) == 0:\n",
        "        return '출력할 댓글이 없습니다.'\n",
        "\n",
        "    print('\\n[댓글 확인]')\n",
        "\n",
        "    for i in Comment.comment_list:\n",
        "        for k, v in i.items():\n",
        "            print(f'{k}. ({v.name}){v.comment}({v.create_date})')\n",
        "        for e, z in enumerate(v.sub_comment_list, 1):\n",
        "            print(f\"    {e}. ({z['이름']}){z['댓글']}({z['시간']})\")\n",
        "\n",
        "    print()\n",
        "\n",
        "def comment_add():\n",
        "    print()\n",
        "\n",
        "    id = input('아이디 입력: ')\n",
        "    name = input('이름 입력: ')\n",
        "    comment = input('댓글 입력: ')\n",
        "\n",
        "    comment_obj = Comment(id, name, comment)\n",
        "    comment_obj.comment_add(comment_obj, Comment.comment_count)\n",
        "    Comment.comment_count += 1\n",
        "\n",
        "    print('댓글 저장 완료!\\n')\n",
        "\n",
        "def comment_sub_add():\n",
        "    comment_print()\n",
        "\n",
        "    print('대댓글을 작성할 메인 댓글 번호를 입력해주세요.')\n",
        "    number = input(\"메인 댓글 번호 입력: \")\n",
        "\n",
        "    dic = Comment.comment_list[int(number) - 1]\n",
        "\n",
        "    id = input('아이디 입력: ')\n",
        "    name = input('이름 입력: ')\n",
        "    comment = input('댓글 입력: ')\n",
        "\n",
        "    dic[number].sub_comment_list.append(\n",
        "        {\n",
        "             'id': id,\n",
        "            '이름': name,\n",
        "            '댓글': comment,\n",
        "            '시간': datetime.now().strftime('%Y-%m-%d %H:%M')\n",
        "        }\n",
        "    )\n",
        "\n",
        "    print('댓글 저장 완료!\\n')\n",
        "    comment_print()\n"
      ],
      "metadata": {
        "id": "gW_U95BFHiAO"
      },
      "execution_count": null,
      "outputs": []
    },
    {
      "cell_type": "code",
      "source": [
        "a = 0\n",
        "while a < 5:\n",
        "    print(\"1. 댓글 입력\")\n",
        "    print(\"2. 대댓글 입력\")\n",
        "    print(\"3. 댓글 출력\")\n",
        "    print(\"4. 종료\")\n",
        "\n",
        "    s = input('입력: ')\n",
        "    a += 1\n",
        "\n",
        "    if a == 5:\n",
        "        break;\n",
        "\n",
        "    if s == '1':\n",
        "        comment_add()\n",
        "    elif s == '2':\n",
        "        comment_sub_add()\n",
        "    elif s == '3':\n",
        "        comment_print()\n",
        "    else:\n",
        "        break\n"
      ],
      "metadata": {
        "id": "TpgGEcNVb1Cj"
      },
      "execution_count": null,
      "outputs": []
    },
    {
      "cell_type": "code",
      "source": [],
      "metadata": {
        "id": "w0OVAQrTE_mm"
      },
      "execution_count": null,
      "outputs": []
    }
  ]
}