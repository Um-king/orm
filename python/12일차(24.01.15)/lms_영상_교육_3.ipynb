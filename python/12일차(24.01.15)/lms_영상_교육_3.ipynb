{
  "nbformat": 4,
  "nbformat_minor": 0,
  "metadata": {
    "colab": {
      "provenance": [],
      "authorship_tag": "ABX9TyOpIO6L1fXdO8XmpcPYXk8t",
      "include_colab_link": true
    },
    "kernelspec": {
      "name": "python3",
      "display_name": "Python 3"
    },
    "language_info": {
      "name": "python"
    }
  },
  "cells": [
    {
      "cell_type": "markdown",
      "metadata": {
        "id": "view-in-github",
        "colab_type": "text"
      },
      "source": [
        "<a href=\"https://colab.research.google.com/github/Um-king/orm/blob/main/lms_%EC%98%81%EC%83%81_%EA%B5%90%EC%9C%A1_3.ipynb\" target=\"_parent\"><img src=\"https://colab.research.google.com/assets/colab-badge.svg\" alt=\"Open In Colab\"/></a>"
      ]
    },
    {
      "cell_type": "markdown",
      "source": [
        "# 반복문(while, for), 조건문(if, elif, else)"
      ],
      "metadata": {
        "id": "Mg7Oe3YpsQHr"
      }
    },
    {
      "cell_type": "markdown",
      "source": [
        "## 반복문"
      ],
      "metadata": {
        "id": "wzPOivBHvSY3"
      }
    },
    {
      "cell_type": "code",
      "source": [
        "# while 문\n",
        "\n",
        "a = 10\n",
        "while a < 15:\n",
        "    print('hello world')\n",
        "    a += 1"
      ],
      "metadata": {
        "colab": {
          "base_uri": "https://localhost:8080/"
        },
        "id": "fYyg8ucKsU2D",
        "outputId": "4bcd15a3-f749-4278-ce6c-3abe48814a64"
      },
      "execution_count": 1,
      "outputs": [
        {
          "output_type": "stream",
          "name": "stdout",
          "text": [
            "hello world\n",
            "hello world\n",
            "hello world\n",
            "hello world\n",
            "hello world\n"
          ]
        }
      ]
    },
    {
      "cell_type": "code",
      "source": [
        "a = 1\n",
        "while True: # 무한반복\n",
        "    print('hello world', a)\n",
        "    if a > 9:\n",
        "        break; # 강제 종료\n",
        "    a += 1\n",
        "else: # 정상적인 종료일 경우 출력(break로 강제 종료되었을 시 수행x)\n",
        "    print('good job') # break로 종료된 반복문이 아니라면 수행"
      ],
      "metadata": {
        "colab": {
          "base_uri": "https://localhost:8080/"
        },
        "id": "1k1cVXRgscIh",
        "outputId": "33ac8a95-a68e-4c28-b1dd-5d967092e74c"
      },
      "execution_count": 2,
      "outputs": [
        {
          "output_type": "stream",
          "name": "stdout",
          "text": [
            "hello world 1\n",
            "hello world 2\n",
            "hello world 3\n",
            "hello world 4\n",
            "hello world 5\n",
            "hello world 6\n",
            "hello world 7\n",
            "hello world 8\n",
            "hello world 9\n",
            "hello world 10\n"
          ]
        }
      ]
    },
    {
      "cell_type": "code",
      "source": [
        "l = [10, 20, 30, 40]\n",
        "\n",
        "for i in l: # 순회가 가능한 객체 사용\n",
        "    print(i)"
      ],
      "metadata": {
        "colab": {
          "base_uri": "https://localhost:8080/"
        },
        "id": "9vouXcq0sjo8",
        "outputId": "ff849838-1d01-4a47-da0d-97e17472b89b"
      },
      "execution_count": 3,
      "outputs": [
        {
          "output_type": "stream",
          "name": "stdout",
          "text": [
            "10\n",
            "20\n",
            "30\n",
            "40\n"
          ]
        }
      ]
    },
    {
      "cell_type": "code",
      "source": [
        "s = {10, 20, 30, 40, 10, 10, 10} # 순서가 없고 중복이 가능하지 않은 객체\n",
        "\n",
        "for i in s:\n",
        "    print(i)"
      ],
      "metadata": {
        "colab": {
          "base_uri": "https://localhost:8080/"
        },
        "id": "Z3hb2SMIs1ap",
        "outputId": "bc359536-5bd6-47aa-c375-94b96e5ef001"
      },
      "execution_count": 4,
      "outputs": [
        {
          "output_type": "stream",
          "name": "stdout",
          "text": [
            "40\n",
            "10\n",
            "20\n",
            "30\n"
          ]
        }
      ]
    },
    {
      "cell_type": "code",
      "source": [
        "for i in range(10): # 0~9\n",
        "    print(i)"
      ],
      "metadata": {
        "colab": {
          "base_uri": "https://localhost:8080/"
        },
        "id": "ONLCqsFKs81B",
        "outputId": "c4558fdc-4088-40d9-e28c-ed4213d157e8"
      },
      "execution_count": 5,
      "outputs": [
        {
          "output_type": "stream",
          "name": "stdout",
          "text": [
            "0\n",
            "1\n",
            "2\n",
            "3\n",
            "4\n",
            "5\n",
            "6\n",
            "7\n",
            "8\n",
            "9\n"
          ]
        }
      ]
    },
    {
      "cell_type": "code",
      "source": [
        "print(1, list(range(10)))\n",
        "print(2, list(range(5, 10)))\n",
        "print(3, list(range(2,10, 2)))\n",
        "print(4, list(range(10, 5, -1)))\n",
        "print(5, list(range(-10)))"
      ],
      "metadata": {
        "colab": {
          "base_uri": "https://localhost:8080/"
        },
        "id": "0rddBHAktGnc",
        "outputId": "38dbc029-a979-4585-a093-3585297c53a2"
      },
      "execution_count": 7,
      "outputs": [
        {
          "output_type": "stream",
          "name": "stdout",
          "text": [
            "1 [0, 1, 2, 3, 4, 5, 6, 7, 8, 9]\n",
            "2 [5, 6, 7, 8, 9]\n",
            "3 [2, 4, 6, 8]\n",
            "4 [10, 9, 8, 7, 6]\n",
            "5 []\n"
          ]
        }
      ]
    },
    {
      "cell_type": "code",
      "source": [
        "for i in 'hello world':\n",
        "    print(i)"
      ],
      "metadata": {
        "colab": {
          "base_uri": "https://localhost:8080/"
        },
        "id": "dnoYnV2ntT1i",
        "outputId": "bf35f359-0a20-471e-ef1a-3fd4b9880f83"
      },
      "execution_count": 8,
      "outputs": [
        {
          "output_type": "stream",
          "name": "stdout",
          "text": [
            "h\n",
            "e\n",
            "l\n",
            "l\n",
            "o\n",
            " \n",
            "w\n",
            "o\n",
            "r\n",
            "l\n",
            "d\n"
          ]
        }
      ]
    },
    {
      "cell_type": "code",
      "source": [
        "for i in range(10):\n",
        "    print(i)\n",
        "else:\n",
        "    print('good job') # 반복문이 정상적으로 종료되면 출력(break 사용 없을 경우)"
      ],
      "metadata": {
        "colab": {
          "base_uri": "https://localhost:8080/"
        },
        "id": "bzfYUYk5teJY",
        "outputId": "2fc01525-18b3-42c0-8d7b-69e3ef2c73c9"
      },
      "execution_count": 9,
      "outputs": [
        {
          "output_type": "stream",
          "name": "stdout",
          "text": [
            "0\n",
            "1\n",
            "2\n",
            "3\n",
            "4\n",
            "5\n",
            "6\n",
            "7\n",
            "8\n",
            "9\n",
            "good job\n"
          ]
        }
      ]
    },
    {
      "cell_type": "code",
      "source": [
        "# 진행형 리슽트\n",
        "ll = [i for i in range(10)] # 반복문으로 리스트 생성\n",
        "print(ll)"
      ],
      "metadata": {
        "colab": {
          "base_uri": "https://localhost:8080/"
        },
        "id": "uYJooYfhth8i",
        "outputId": "cd5f5ac0-8cb7-4b67-d295-b623bb22fd7f"
      },
      "execution_count": 12,
      "outputs": [
        {
          "output_type": "stream",
          "name": "stdout",
          "text": [
            "[0, 1, 2, 3, 4, 5, 6, 7, 8, 9]\n"
          ]
        }
      ]
    },
    {
      "cell_type": "code",
      "source": [
        "lll = ['{} X {} = {}'.format(i, j, i*j) for i in range(2, 10) for j in range(1, 10)]\n",
        "print(lll)"
      ],
      "metadata": {
        "colab": {
          "base_uri": "https://localhost:8080/"
        },
        "id": "Ua-jxe2ttyZ7",
        "outputId": "76594f00-a392-4e0d-ed9a-1f6efaf1e6b2"
      },
      "execution_count": 14,
      "outputs": [
        {
          "output_type": "stream",
          "name": "stdout",
          "text": [
            "['2 X 1 = 2', '2 X 2 = 4', '2 X 3 = 6', '2 X 4 = 8', '2 X 5 = 10', '2 X 6 = 12', '2 X 7 = 14', '2 X 8 = 16', '2 X 9 = 18', '3 X 1 = 3', '3 X 2 = 6', '3 X 3 = 9', '3 X 4 = 12', '3 X 5 = 15', '3 X 6 = 18', '3 X 7 = 21', '3 X 8 = 24', '3 X 9 = 27', '4 X 1 = 4', '4 X 2 = 8', '4 X 3 = 12', '4 X 4 = 16', '4 X 5 = 20', '4 X 6 = 24', '4 X 7 = 28', '4 X 8 = 32', '4 X 9 = 36', '5 X 1 = 5', '5 X 2 = 10', '5 X 3 = 15', '5 X 4 = 20', '5 X 5 = 25', '5 X 6 = 30', '5 X 7 = 35', '5 X 8 = 40', '5 X 9 = 45', '6 X 1 = 6', '6 X 2 = 12', '6 X 3 = 18', '6 X 4 = 24', '6 X 5 = 30', '6 X 6 = 36', '6 X 7 = 42', '6 X 8 = 48', '6 X 9 = 54', '7 X 1 = 7', '7 X 2 = 14', '7 X 3 = 21', '7 X 4 = 28', '7 X 5 = 35', '7 X 6 = 42', '7 X 7 = 49', '7 X 8 = 56', '7 X 9 = 63', '8 X 1 = 8', '8 X 2 = 16', '8 X 3 = 24', '8 X 4 = 32', '8 X 5 = 40', '8 X 6 = 48', '8 X 7 = 56', '8 X 8 = 64', '8 X 9 = 72', '9 X 1 = 9', '9 X 2 = 18', '9 X 3 = 27', '9 X 4 = 36', '9 X 5 = 45', '9 X 6 = 54', '9 X 7 = 63', '9 X 8 = 72', '9 X 9 = 81']\n"
          ]
        }
      ]
    },
    {
      "cell_type": "code",
      "source": [
        "# 다중인자 리스트\n",
        "l = [(1, 10), (2, 20), (3, 30), (4, 40)]\n",
        "\n",
        "for i, j in l: # 튜플로 묶여있는 내용을 언패킹\n",
        "    print(i, j)"
      ],
      "metadata": {
        "colab": {
          "base_uri": "https://localhost:8080/"
        },
        "id": "MO0IHj_buGxH",
        "outputId": "58ababe8-d037-403d-e8f5-99c6ffca8ac0"
      },
      "execution_count": 16,
      "outputs": [
        {
          "output_type": "stream",
          "name": "stdout",
          "text": [
            "1 10\n",
            "2 20\n",
            "3 30\n",
            "4 40\n"
          ]
        }
      ]
    },
    {
      "cell_type": "code",
      "source": [
        "for i, j in enumerate(range(100, 1000, 100), 1):\n",
        "    print(i, j)\n",
        "\n",
        "# enumerate: 두개의 인자값을 반환함\n",
        "# 초기값은 0부터 출력하지만 우리는 1을 선언함\n",
        "# 1부터 순서대로 출력하고, 값을 출력\n",
        "# 어떤 값의 번호를 주고 싶을때 사용 -> 즉 처음 호출되는 값은 enumerate의 값, 두번째 값은 우리가 작성한 값"
      ],
      "metadata": {
        "colab": {
          "base_uri": "https://localhost:8080/"
        },
        "id": "nUtT9fS8uUZR",
        "outputId": "e34d7718-56fe-409c-b161-4e1eb67e3f71"
      },
      "execution_count": 18,
      "outputs": [
        {
          "output_type": "stream",
          "name": "stdout",
          "text": [
            "1 100\n",
            "2 200\n",
            "3 300\n",
            "4 400\n",
            "5 500\n",
            "6 600\n",
            "7 700\n",
            "8 800\n",
            "9 900\n"
          ]
        }
      ]
    },
    {
      "cell_type": "code",
      "source": [
        "for i in range(10):\n",
        "    if i > 5:\n",
        "        continue\n",
        "    print('hello world')"
      ],
      "metadata": {
        "colab": {
          "base_uri": "https://localhost:8080/"
        },
        "id": "RKS1Phs8uihH",
        "outputId": "f21b35d2-bad9-4353-a47a-5b64b7af9ad8"
      },
      "execution_count": 19,
      "outputs": [
        {
          "output_type": "stream",
          "name": "stdout",
          "text": [
            "hello world\n",
            "hello world\n",
            "hello world\n",
            "hello world\n",
            "hello world\n",
            "hello world\n"
          ]
        }
      ]
    },
    {
      "cell_type": "markdown",
      "source": [
        "## 조건문"
      ],
      "metadata": {
        "id": "hzCBPJgZvU3-"
      }
    },
    {
      "cell_type": "code",
      "source": [
        "if True:\n",
        "    print('hello world')"
      ],
      "metadata": {
        "colab": {
          "base_uri": "https://localhost:8080/"
        },
        "id": "LVjZ8qP1vWAS",
        "outputId": "53303d11-e743-4dfe-dedc-bcb7386ad4b8"
      },
      "execution_count": 20,
      "outputs": [
        {
          "output_type": "stream",
          "name": "stdout",
          "text": [
            "hello world\n"
          ]
        }
      ]
    },
    {
      "cell_type": "code",
      "source": [
        "a = 10\n",
        "\n",
        "if a == 10:\n",
        "    print('hello world')\n",
        "elif a < 20:\n",
        "    print('good job')\n",
        "else:\n",
        "    pass"
      ],
      "metadata": {
        "colab": {
          "base_uri": "https://localhost:8080/"
        },
        "id": "XOqGoTUKva4z",
        "outputId": "58c339b5-3380-46b9-d3c2-3d27d2647a07"
      },
      "execution_count": 21,
      "outputs": [
        {
          "output_type": "stream",
          "name": "stdout",
          "text": [
            "hello world\n"
          ]
        }
      ]
    },
    {
      "cell_type": "code",
      "source": [],
      "metadata": {
        "id": "Y0ak2Vdpvkva"
      },
      "execution_count": null,
      "outputs": []
    }
  ]
}