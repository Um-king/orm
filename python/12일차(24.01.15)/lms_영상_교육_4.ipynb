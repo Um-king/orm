{
  "nbformat": 4,
  "nbformat_minor": 0,
  "metadata": {
    "colab": {
      "provenance": [],
      "authorship_tag": "ABX9TyMUSmw7YIhG9tS9bwb75vyd",
      "include_colab_link": true
    },
    "kernelspec": {
      "name": "python3",
      "display_name": "Python 3"
    },
    "language_info": {
      "name": "python"
    }
  },
  "cells": [
    {
      "cell_type": "markdown",
      "metadata": {
        "id": "view-in-github",
        "colab_type": "text"
      },
      "source": [
        "<a href=\"https://colab.research.google.com/github/Um-king/orm/blob/main/lms_%EC%98%81%EC%83%81_%EA%B5%90%EC%9C%A1_4.ipynb\" target=\"_parent\"><img src=\"https://colab.research.google.com/assets/colab-badge.svg\" alt=\"Open In Colab\"/></a>"
      ]
    },
    {
      "cell_type": "markdown",
      "source": [
        "# Class"
      ],
      "metadata": {
        "id": "LuFhlZHQv9PT"
      }
    },
    {
      "cell_type": "code",
      "source": [
        "class Car():\n",
        "    maxSpeed = 300\n",
        "    maxPeople = 5\n",
        "\n",
        "    def start(self):\n",
        "        print('출발')\n",
        "    def stop(self):\n",
        "        print('정지')\n",
        "\n",
        "k9 = Car()\n",
        "print(k9.maxSpeed)"
      ],
      "metadata": {
        "colab": {
          "base_uri": "https://localhost:8080/"
        },
        "id": "F_sygocEv-x4",
        "outputId": "8bed99b4-2b49-4476-897b-6891f9d9014a"
      },
      "execution_count": 1,
      "outputs": [
        {
          "output_type": "stream",
          "name": "stdout",
          "text": [
            "300\n"
          ]
        }
      ]
    },
    {
      "cell_type": "markdown",
      "source": [
        "## Class 설명\n",
        "1. class name 은 첫문자가 대문자\n",
        "2. class는 대부분 직접 만지지 않는다.\n",
        "3. class는 붕어빵 찍는 틀로 생각한다면 instance는 붕어빵."
      ],
      "metadata": {
        "id": "jcIcj4c9wQ1R"
      }
    },
    {
      "cell_type": "code",
      "source": [
        "# 상속\n",
        "class Car():\n",
        "    maxSpeed = 300\n",
        "    maxPeople = 5\n",
        "\n",
        "    def start(self):\n",
        "        print('출발')\n",
        "    def stop(self):\n",
        "        print('정지')\n",
        "    def __str__(self): # 매직메서드 재정의\n",
        "        return 'hello world'\n",
        "\n",
        "class Hybrid(Car): # Car class 상속\n",
        "    battery = 100\n",
        "    batteryM = 300\n",
        "\n",
        "k9 = Car()\n",
        "print(k9.maxSpeed)\n",
        "\n",
        "k3 = Hybrid()\n",
        "print(k3.maxSpeed) # Car의 값을 사용\n",
        "\n",
        "print(k9)"
      ],
      "metadata": {
        "colab": {
          "base_uri": "https://localhost:8080/"
        },
        "id": "3FhV1b4uwMAF",
        "outputId": "86bc76a9-927e-4eb3-db35-7565f2b580d2"
      },
      "execution_count": 3,
      "outputs": [
        {
          "output_type": "stream",
          "name": "stdout",
          "text": [
            "300\n",
            "300\n",
            "hello world\n"
          ]
        }
      ]
    },
    {
      "cell_type": "code",
      "source": [],
      "metadata": {
        "id": "htJoqdSlw0xw"
      },
      "execution_count": null,
      "outputs": []
    }
  ]
}