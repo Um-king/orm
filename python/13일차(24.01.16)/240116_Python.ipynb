{
  "nbformat": 4,
  "nbformat_minor": 0,
  "metadata": {
    "colab": {
      "provenance": [],
      "authorship_tag": "ABX9TyPJyoTDhNs94mA4MPsDJA/K",
      "include_colab_link": true
    },
    "kernelspec": {
      "name": "python3",
      "display_name": "Python 3"
    },
    "language_info": {
      "name": "python"
    }
  },
  "cells": [
    {
      "cell_type": "markdown",
      "metadata": {
        "id": "view-in-github",
        "colab_type": "text"
      },
      "source": [
        "<a href=\"https://colab.research.google.com/github/Um-king/orm/blob/main/240116_Python.ipynb\" target=\"_parent\"><img src=\"https://colab.research.google.com/assets/colab-badge.svg\" alt=\"Open In Colab\"/></a>"
      ]
    },
    {
      "cell_type": "markdown",
      "source": [
        "# 메서드 체이닝\n"
      ],
      "metadata": {
        "id": "NJjAyj0FsWjA"
      }
    },
    {
      "cell_type": "code",
      "execution_count": 1,
      "metadata": {
        "colab": {
          "base_uri": "https://localhost:8080/",
          "height": 35
        },
        "id": "hBonPaMKpRND",
        "outputId": "f64156d0-7650-4838-f5ca-54935c94e890"
      },
      "outputs": [
        {
          "output_type": "execute_result",
          "data": {
            "text/plain": [
              "'hi world'"
            ],
            "application/vnd.google.colaboratory.intrinsic+json": {
              "type": "string"
            }
          },
          "metadata": {},
          "execution_count": 1
        }
      ],
      "source": [
        "'Hello World'.replace('Hello', 'hi').lower() # 출력: hi world\n",
        "\n",
        "# 그 메서드에 리턴된 값이 순차적으로 해소가 되는 방식\n",
        "\n",
        "# 'hello world'.a().b().c().d() 처럼 순차적으로 함수 수행\n"
      ]
    },
    {
      "cell_type": "code",
      "source": [
        "# class 메서드의 메서드 체이닝\n",
        "\n",
        "class Calculator:\n",
        "    def __init__(self, value):\n",
        "        self.value = value\n",
        "\n",
        "    def add(self, other):\n",
        "        self.value += other\n",
        "        return self\n",
        "\n",
        "    def subtract(self, other):\n",
        "        self.value -= other\n",
        "        return self\n",
        "\n",
        "    def multiply(self, other):\n",
        "        self.value *= other\n",
        "        return self\n",
        "\n",
        "    def get_value(self):\n",
        "        return self.value\n",
        "\n",
        "calc = Calculator(1)\n",
        "result = calc.add(2).subtract(1).multiply(3).get_value()\n",
        "print(result)  # 결과: 6"
      ],
      "metadata": {
        "id": "COz4haTKs73k"
      },
      "execution_count": null,
      "outputs": []
    },
    {
      "cell_type": "code",
      "source": [
        "# 메서드 체이닝은 코드를 간결하게 만들어 주지만, 너무 많이 체이닝을 사용하면 코드의 가독성을 해칠 수 있습니다"
      ],
      "metadata": {
        "id": "iEweGtuKvhKv"
      },
      "execution_count": null,
      "outputs": []
    },
    {
      "cell_type": "markdown",
      "source": [
        "# 일급함수와 고차함수"
      ],
      "metadata": {
        "id": "u13dJAJvwdpn"
      }
    },
    {
      "cell_type": "markdown",
      "source": [
        "## 일급함수\n",
        "- `함수를 변수취급 하는 것을 일급함수라고 합니다.`\n",
        "1. 함수를 변수에 할당할 수 있습니다.\n",
        "2. 함수를 데이터 구조에 저장할 수 있습니다.\n",
        "3. 함수를 인자로 다른 함수에 전달할 수 있습니다.\n",
        "4. 함수를 결과로서 반환할 수 있습니다."
      ],
      "metadata": {
        "id": "Vmdtd2GPyjcM"
      }
    },
    {
      "cell_type": "code",
      "source": [
        "# 일급함수 : 함수를 값으로 취급하는 것을 얘기한다\n",
        "\n",
        "# 일급함수는 함수를 변수에 할당할 수 있다.\n",
        "def greet(name):\n",
        "    return f'Hello, {name}'\n",
        "\n",
        "say_hello = greet\n",
        "print(say_hello(\"World\"))  # 출력: Hello, World"
      ],
      "metadata": {
        "colab": {
          "base_uri": "https://localhost:8080/"
        },
        "id": "FXYqy9e4vlHL",
        "outputId": "484a68c7-e8fa-436a-e7c6-0f668e645c91"
      },
      "execution_count": 2,
      "outputs": [
        {
          "output_type": "stream",
          "name": "stdout",
          "text": [
            "Hello, World\n"
          ]
        }
      ]
    },
    {
      "cell_type": "code",
      "source": [
        "# 이렇게 print함수를 새로운 변수에 할당할 수 있다. -> 일급함수\n",
        "hojun = print\n",
        "hojun('hello')"
      ],
      "metadata": {
        "colab": {
          "base_uri": "https://localhost:8080/"
        },
        "id": "2gYw4-Qxwu5O",
        "outputId": "4be0150f-5fea-41f2-f6f2-293eac814b82"
      },
      "execution_count": 3,
      "outputs": [
        {
          "output_type": "stream",
          "name": "stdout",
          "text": [
            "hello\n"
          ]
        }
      ]
    },
    {
      "cell_type": "code",
      "source": [
        "l = [10, 20, 30]\n",
        "\n",
        "# 이렇게 사용할 일은 거의 없다. 변수가 너무 길거나, 오타가 많이 생기는 변수 또는 메서드 명이 너무 길때는 가끔 사용하긴 한다.\n",
        "add = l.append # append라는 함수명은 기능을 구현하는 메모리를 가리키고 있고, add라는 새로운 변수도 그 메모리를 가리키게 된다.\n",
        "add(100)\n",
        "add(200)\n",
        "\n",
        "l"
      ],
      "metadata": {
        "colab": {
          "base_uri": "https://localhost:8080/"
        },
        "id": "zrsnXpaXxFDD",
        "outputId": "c5da18e2-c33d-4c78-b72a-cf484c866c45"
      },
      "execution_count": 5,
      "outputs": [
        {
          "output_type": "execute_result",
          "data": {
            "text/plain": [
              "[10, 20, 30, 100, 200]"
            ]
          },
          "metadata": {},
          "execution_count": 5
        }
      ]
    },
    {
      "cell_type": "code",
      "source": [
        "# 일급함수는 함수를 데이터 구조(리스트, 딕셔너리 등)에 저장할 수 있다.\n",
        "# 1. 리스트 활용\n",
        "def add(x, y):\n",
        "    return x + y\n",
        "\n",
        "def subtract(x, y):\n",
        "    return x - y\n",
        "\n",
        "funcs = [add, subtract] # 함수를 리스트에 저장하여 사용\n",
        "print(funcs[0](2, 3))  # 출력: 5"
      ],
      "metadata": {
        "colab": {
          "base_uri": "https://localhost:8080/"
        },
        "id": "QkOkEGVFw4jx",
        "outputId": "aa739289-a391-4393-f4b0-55030e1b315b"
      },
      "execution_count": 6,
      "outputs": [
        {
          "output_type": "stream",
          "name": "stdout",
          "text": [
            "5\n"
          ]
        }
      ]
    },
    {
      "cell_type": "code",
      "source": [
        "# 딕서녀리 활용\n",
        "class Operator:\n",
        "    def add(self, x, y):\n",
        "        return x + y\n",
        "\n",
        "    def sub(self, x, y):\n",
        "        return x - y\n",
        "\n",
        "    def mul(self, x, y):\n",
        "        return x * y\n",
        "\n",
        "    def div(self, x, y):\n",
        "        return x / y\n",
        "\n",
        "    def _and(self, x, y):\n",
        "        pass\n",
        "\n",
        "    def _or(self, x, y):\n",
        "        pass\n",
        "\n",
        "# 인스턴스 생성\n",
        "op = Operator()\n",
        "\n",
        "# 딕서녀리의 value값에 인스턴스의 메서드를 넣고, key를 지정\n",
        "logical_op = {\n",
        "    'add': op.add,\n",
        "    'sub': op.sub,\n",
        "    'mul': op.mul,\n",
        "    'div': op.div,\n",
        "}\n",
        "arithmetic_op = {\n",
        "    '_and': op._and,\n",
        "    '_or': op._or,\n",
        "}\n",
        "\n",
        "print(logical_op['add'](2, 3)) # 출력: 5 -> 마치 op.add(2, 3)인 것처럼 사용할 수 있다. / logical_op['add']과 op.add(x, y)가 가리키는 메모리는 같다\n",
        "print(op.add(2, 3)) # 출력: 5\n",
        "\n",
        "for _, f in logical_op.items():\n",
        "    print(f(2, 3)) # 4칙연산 모두 계산"
      ],
      "metadata": {
        "id": "-MyIJPEqyvOM"
      },
      "execution_count": null,
      "outputs": []
    },
    {
      "cell_type": "code",
      "source": [
        "# 일급함수를 사용하면 좋은 장점\n",
        "# 우리가 실제 코딩하는 것은 여러 클래스 또는 인스턴스의 조합으로 이루어져 있다.\n",
        "# Django만 하더라도 대부분의 것들이 class로 구현되어 있다.\n",
        "# 인스턴스나 클래스에 직접 접근하지 않고, 내가 만든 변수로서 관리 할 수 있다."
      ],
      "metadata": {
        "id": "1bUhTyctzXCP"
      },
      "execution_count": null,
      "outputs": []
    },
    {
      "cell_type": "code",
      "source": [
        "# 일급함수는 함수를 인자로 다른 함수에 전달할 수 있다\n",
        "\n",
        "\n",
        "# 별표 1개 -> 데코레이터를 이해하기 위해 중요한 개념\n",
        "\n",
        "def say_hello(name):\n",
        "    return f'Hello, {name}'\n",
        "\n",
        "def greet(func, name): # 함수를 매개변수로 받음\n",
        "    return func(name)\n",
        "\n",
        "# 함수를 인자로 사용하여 다른 함수에 전달\n",
        "print(greet(say_hello, 'World'))  # 출력: Hello, World"
      ],
      "metadata": {
        "colab": {
          "base_uri": "https://localhost:8080/"
        },
        "id": "VaXh6YUByd3e",
        "outputId": "cb6c2da2-2bd5-4c15-ffdb-3e3fffc48dea"
      },
      "execution_count": 8,
      "outputs": [
        {
          "output_type": "stream",
          "name": "stdout",
          "text": [
            "Hello, World\n"
          ]
        }
      ]
    },
    {
      "cell_type": "code",
      "source": [
        "def say_hello(name):\n",
        "    return f'Hello, {name}'\n",
        "\n",
        "def greet(func):\n",
        "    return func # 함수를 그냥 반환\n",
        "\n",
        "print(greet(say_hello)('World'))"
      ],
      "metadata": {
        "colab": {
          "base_uri": "https://localhost:8080/"
        },
        "id": "cPC89FgK3TWi",
        "outputId": "232efce0-a324-4f4b-abfd-c2124655a47c"
      },
      "execution_count": 10,
      "outputs": [
        {
          "output_type": "stream",
          "name": "stdout",
          "text": [
            "Hello, World\n"
          ]
        }
      ]
    },
    {
      "cell_type": "code",
      "source": [
        "# 함수를 결과로서 반환할 수 있습니다.\n",
        "# 함수를 리턴할 수 있다! (데코레이터의 핵심 개념)\n",
        "\n",
        "# 중요한 개념: x라는 변수가 함수가 끝났는데도 불구하고 살아있다? -> 클로져!\n",
        "def create_adder(x): # 함수가 끝났는데 x값이 살아있어 add_5(x)를 호출하면 계산이 된다. -> 클로져의 개념\n",
        "    def adder(y):\n",
        "        return x + y\n",
        "    return adder # 함수를 결과 값으로 반환\n",
        "\n",
        "add_5 = create_adder(5) # 5를 인자로 사용하여 add_5에 x값을 전송한 상태\n",
        "print(add_5(10))  # 출력: 15"
      ],
      "metadata": {
        "id": "g5NwovJ43nPg"
      },
      "execution_count": null,
      "outputs": []
    },
    {
      "cell_type": "code",
      "source": [
        "# 밖에서는 함수 안에의 값을 참조 할 수 없다.\n",
        "def f():\n",
        "    x = 10\n",
        "    y = 20\n",
        "    return x + y\n",
        "\n",
        "f()\n",
        "# x # error"
      ],
      "metadata": {
        "id": "msfELsqk4VC6"
      },
      "execution_count": null,
      "outputs": []
    },
    {
      "cell_type": "code",
      "source": [
        "# 안에서는 밖에 있는 값을 참조 할 수 있다.\n",
        "one = 100\n",
        "def f():\n",
        "    x = one + 10\n",
        "    y = 20\n",
        "    return x + y\n",
        "\n",
        "f()"
      ],
      "metadata": {
        "colab": {
          "base_uri": "https://localhost:8080/"
        },
        "id": "YCXRpq7K4wRw",
        "outputId": "60aa59d4-ad70-4198-eecc-74108dd10dab"
      },
      "execution_count": 11,
      "outputs": [
        {
          "output_type": "execute_result",
          "data": {
            "text/plain": [
              "130"
            ]
          },
          "metadata": {},
          "execution_count": 11
        }
      ]
    },
    {
      "cell_type": "code",
      "source": [
        "x = 100\n",
        "def one():\n",
        "    def two():\n",
        "        def three():\n",
        "            print(x) # x 값은 해당 루프내에 없고, 이 값은 바로 전역변수로부터 찾는게 아니라 나 자신의 위로 순서대로 찾아들어간다.\n",
        "            # 나 자신의 지역내에 있는지 확인하고 없으면 그 상위의 블록으로 찾아들어가 확인하고 결국 없다면 그때 글로벌 변수를 확인한다.\n",
        "        three()\n",
        "    two()\n",
        "\n",
        "one()"
      ],
      "metadata": {
        "colab": {
          "base_uri": "https://localhost:8080/"
        },
        "id": "4kn9GH1N43Fi",
        "outputId": "aa0c56f6-f6ba-4377-bd8c-626ed8d60f08"
      },
      "execution_count": 14,
      "outputs": [
        {
          "output_type": "stream",
          "name": "stdout",
          "text": [
            "100\n"
          ]
        }
      ]
    },
    {
      "cell_type": "code",
      "source": [
        "# 함수를 리턴할 수 있다! (데코레이터의 핵심 개념)\n",
        "def create_sq(x):\n",
        "    def sq(y):\n",
        "        return x ** y\n",
        "    return sq # 함수 반환\n",
        "\n",
        "제곱2 = create_sq(2) # 2,3,4는 x의 매개변수로 사용\n",
        "제곱3 = create_sq(3) # 반환값은 sq의 함수를 받음\n",
        "제곱4 = create_sq(4) # x를 변경 불가능하게 감추기 위한 코딩 기법!\n",
        "\n",
        "제곱2(2), 제곱2(3), 제곱2(4) # -> 제곱2는 sq함수를 반환받은것이므로 sq(2)가 되고, x는 2로 설정했으며 sq(y)함수를 호출 따라서 2**2=4\n",
        "제곱3(2), 제곱3(3), 제곱3(4)\n",
        "제곱4(2), 제곱4(3), 제곱4(4)"
      ],
      "metadata": {
        "colab": {
          "base_uri": "https://localhost:8080/"
        },
        "id": "erRc1-fp494h",
        "outputId": "64536d3c-c8da-4410-d111-6db590b45d54"
      },
      "execution_count": 15,
      "outputs": [
        {
          "output_type": "execute_result",
          "data": {
            "text/plain": [
              "(4, 8, 16)"
            ]
          },
          "metadata": {},
          "execution_count": 15
        }
      ]
    },
    {
      "cell_type": "code",
      "source": [
        "# 여러개의 값 반환\n",
        "def add_and_subtract(x, y):\n",
        "    addition = x + y\n",
        "    subtraction = x - y\n",
        "    return addition, subtraction # n개의 값 반환\n",
        "\n",
        "# 함수 호출\n",
        "result = add_and_subtract(5, 3)\n",
        "\n",
        "# 결과 출력\n",
        "print(result)  # 출력: (8, 2) -> 튜플로 반환받음\n",
        "\n",
        "# 튜플 언패킹\n",
        "a, s = result\n",
        "print(a, s)"
      ],
      "metadata": {
        "colab": {
          "base_uri": "https://localhost:8080/"
        },
        "id": "M9c4ou736p59",
        "outputId": "10df1639-8243-4ded-cb93-323479404e55"
      },
      "execution_count": 18,
      "outputs": [
        {
          "output_type": "stream",
          "name": "stdout",
          "text": [
            "(8, 2)\n",
            "8 2\n"
          ]
        }
      ]
    },
    {
      "cell_type": "markdown",
      "source": [
        "# 재귀함수\n",
        "* 나를 호출하는 함수"
      ],
      "metadata": {
        "id": "pRimQx2V70Lr"
      }
    },
    {
      "cell_type": "code",
      "source": [
        "# 재귀는 내가 정말 재귀에 자신있다가 아니라면 반복문을 사용해라\n",
        "# 재귀를 억지로 사용하려 하지 마세요.\n",
        "# 재귀를 잘못 사용하면 비효율의 끝판왕이 된다.\n",
        "# 재귀는 내가 나를 호출하는 함수"
      ],
      "metadata": {
        "id": "siNH8f-17duc"
      },
      "execution_count": null,
      "outputs": []
    },
    {
      "cell_type": "code",
      "source": [
        "# 팩토리얼\n",
        "# f(5) => 5 * 4 * 3 * 2 * 1 == 120 == 5!(수학공식으로 이렇게 표현)\n",
        "\n",
        "# n = 1 될때까지 반복\n",
        "def f(n):\n",
        "    if n <= 1:\n",
        "        return n\n",
        "    return n * f(n-1)\n",
        "\n",
        "f(5)"
      ],
      "metadata": {
        "colab": {
          "base_uri": "https://localhost:8080/"
        },
        "id": "UNKPg9-38Loe",
        "outputId": "d3c7a276-1c84-40b1-f10b-3643aecdb10d"
      },
      "execution_count": 19,
      "outputs": [
        {
          "output_type": "execute_result",
          "data": {
            "text/plain": [
              "120"
            ]
          },
          "metadata": {},
          "execution_count": 19
        }
      ]
    },
    {
      "cell_type": "code",
      "source": [
        "# 문자열 역순 출력\n",
        "s = ''\n",
        "\n",
        "for i in 'hello':\n",
        "    s = i + s\n",
        "\n",
        "s\n",
        "\n",
        "# s = 'h' + ''\n",
        "# s = 'e' + 'h'\n",
        "# s = 'l' + 'eh'\n",
        "# s = 'l' + 'leh'\n",
        "# s = 'o' + 'lleh'\n",
        "# => 'olleh'"
      ],
      "metadata": {
        "colab": {
          "base_uri": "https://localhost:8080/",
          "height": 35
        },
        "id": "33dl7xCz8k8I",
        "outputId": "142ad41f-05de-4c70-fa71-772b48c4dbbe"
      },
      "execution_count": 20,
      "outputs": [
        {
          "output_type": "execute_result",
          "data": {
            "text/plain": [
              "'olleh'"
            ],
            "application/vnd.google.colaboratory.intrinsic+json": {
              "type": "string"
            }
          },
          "metadata": {},
          "execution_count": 20
        }
      ]
    },
    {
      "cell_type": "code",
      "source": [
        "# 재귀를 활용한 역순\n",
        "def f(s):\n",
        "    if len(s) <= 1:\n",
        "        return s\n",
        "    return f(s[1:]) + s[0]\n",
        "\n",
        "f('hello')"
      ],
      "metadata": {
        "colab": {
          "base_uri": "https://localhost:8080/",
          "height": 35
        },
        "id": "CvQC6IwGABmk",
        "outputId": "311d9652-17f6-463c-9054-cc894ae6f344"
      },
      "execution_count": 22,
      "outputs": [
        {
          "output_type": "execute_result",
          "data": {
            "text/plain": [
              "'olleh'"
            ],
            "application/vnd.google.colaboratory.intrinsic+json": {
              "type": "string"
            }
          },
          "metadata": {},
          "execution_count": 22
        }
      ]
    },
    {
      "cell_type": "code",
      "source": [],
      "metadata": {
        "id": "WxXw0MF7A0rI"
      },
      "execution_count": null,
      "outputs": []
    }
  ]
}