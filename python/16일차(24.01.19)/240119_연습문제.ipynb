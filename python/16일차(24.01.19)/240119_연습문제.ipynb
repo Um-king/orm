{
  "nbformat": 4,
  "nbformat_minor": 0,
  "metadata": {
    "colab": {
      "provenance": [],
      "authorship_tag": "ABX9TyN4+0SBouSGxIZAmdn2sutF",
      "include_colab_link": true
    },
    "kernelspec": {
      "name": "python3",
      "display_name": "Python 3"
    },
    "language_info": {
      "name": "python"
    }
  },
  "cells": [
    {
      "cell_type": "markdown",
      "metadata": {
        "id": "view-in-github",
        "colab_type": "text"
      },
      "source": [
        "<a href=\"https://colab.research.google.com/github/Um-king/orm/blob/main/240119_%EC%97%B0%EC%8A%B5%EB%AC%B8%EC%A0%9C.ipynb\" target=\"_parent\"><img src=\"https://colab.research.google.com/assets/colab-badge.svg\" alt=\"Open In Colab\"/></a>"
      ]
    },
    {
      "cell_type": "markdown",
      "source": [
        "# 문제 1. 게임 밸런스 조절\n",
        "\n",
        "1. 라이캣은 연말 출시할 게임의 게임 난이도를 조절하는 업무를 담당하게 되었습니다.\n",
        "2. 우선 능력치가 비정상적으로 높은 캐릭터들의 리스트를 뽑고자 합니다.\n",
        "3. 캐릭터 이름, 공격력, 방어력, 체력, 마력이 리스트로 ['Licat', 98, 30, 21, 60]와 같이 주어졌을 때\n",
        "4. 모든 능력치의 합이 350 이상이 되는 캐릭터의 이름을 출력하는 solution함수를 완성해주세요.\n",
        "\n",
        "링크 : https://100.pyalgo.co.kr/?page=10\n",
        "\n"
      ],
      "metadata": {
        "id": "Olg2AbHDfUfZ"
      }
    },
    {
      "cell_type": "code",
      "source": [
        "def solution(data):\n",
        "    lst = list(filter(lambda x: (x[1]+x[2]+x[3]+x[4]) >= 350, data))\n",
        "    return sorted([i[0] for i in lst])\n",
        "\n",
        "solution([['Gray', 98, 92, 85, 97], ['Gom', 98, 30, 21, 60], ['Allosa', 98, 90, 99, 98]])"
      ],
      "metadata": {
        "colab": {
          "base_uri": "https://localhost:8080/"
        },
        "id": "a3NucuqygBZx",
        "outputId": "cd6c3d5b-0f1d-4bcc-ed8f-457843f58d16"
      },
      "execution_count": 31,
      "outputs": [
        {
          "output_type": "execute_result",
          "data": {
            "text/plain": [
              "['Allosa', 'Gray']"
            ]
          },
          "metadata": {},
          "execution_count": 31
        }
      ]
    },
    {
      "cell_type": "markdown",
      "source": [
        "# 2. 우편 번호 정렬\n",
        "1. 각 주소가 담긴 배열과 우편번호 목록이 딕셔너리 형태로 주어질 때 에서\n",
        "2. 우편번호 오름차순 순서대로 주소를 정렬하는 코드를 작성해주세요."
      ],
      "metadata": {
        "id": "Epsub0PQkMLX"
      }
    },
    {
      "cell_type": "code",
      "source": [
        "def solution(data):\n",
        "    l, d = data\n",
        "    return sorted(l, key = lambda x: d[x.split()[1]])\n",
        "\n",
        "input_data = [\n",
        "    ['제주시 A동 한라산길 61', '제주시 B동 백록담길 63', '제주시 C동 사라봉길 31'],\n",
        "    {'A동': 63007, 'B동': 63010, 'C동': 63002}\n",
        "]\n",
        "solution(input_data)\n"
      ],
      "metadata": {
        "colab": {
          "base_uri": "https://localhost:8080/"
        },
        "id": "TOdU23MRgoGg",
        "outputId": "09547408-9e2e-4572-c253-e2e152a36e31"
      },
      "execution_count": 97,
      "outputs": [
        {
          "output_type": "execute_result",
          "data": {
            "text/plain": [
              "['제주시 C동 사라봉길 31', '제주시 A동 한라산길 61', '제주시 B동 백록담길 63']"
            ]
          },
          "metadata": {},
          "execution_count": 97
        }
      ]
    },
    {
      "cell_type": "markdown",
      "source": [
        "# 3. 도서관 책 연도별 정렬\n",
        "\n",
        "1. 라이캣은 도서관 사서로 일하게 되었습니다.\n",
        "2. 도서관에 있는 책들의 제목과 해당 책들의 발행 연도가 딕셔너리 형태로 주어집니다.\n",
        "3. 라이캣을 도와 주어진 책들을 발행 연도가 오래된 순서대로 정렬하는 코드를 작성해주세요.\n",
        "4. 발행 연도가 같은 경우에는 제목의 사전순으로 정렬하세요."
      ],
      "metadata": {
        "id": "Q4B3BaTtrZ0t"
      }
    },
    {
      "cell_type": "code",
      "source": [
        "def solution(data):\n",
        "    l, d = data\n",
        "    sorted_dit = sorted(data[1].items(), key = lambda x: x[1])\n",
        "    return [i[0] for i in sorted_dit]\n",
        "\n",
        "input_data = [\n",
        "    ['Moby Dick', 'To Kill a Mockingbird', '1984'],\n",
        "    {'Moby Dick': 1851, 'To Kill a Mockingbird': 1960, '1984': 1949}\n",
        "]\n",
        "\n",
        "solution(input_data)"
      ],
      "metadata": {
        "colab": {
          "base_uri": "https://localhost:8080/"
        },
        "id": "OhEo_jjJsA_6",
        "outputId": "edf73bec-3587-40a3-b43d-1d8c2165e23b"
      },
      "execution_count": 98,
      "outputs": [
        {
          "output_type": "execute_result",
          "data": {
            "text/plain": [
              "['Moby Dick', '1984', 'To Kill a Mockingbird']"
            ]
          },
          "metadata": {},
          "execution_count": 98
        }
      ]
    },
    {
      "cell_type": "code",
      "source": [],
      "metadata": {
        "id": "8P_ufGmIyOMP"
      },
      "execution_count": null,
      "outputs": []
    }
  ]
}