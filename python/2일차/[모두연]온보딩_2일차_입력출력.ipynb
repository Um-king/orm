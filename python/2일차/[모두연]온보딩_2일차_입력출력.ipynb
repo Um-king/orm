{
  "nbformat": 4,
  "nbformat_minor": 0,
  "metadata": {
    "colab": {
      "provenance": [],
      "authorship_tag": "ABX9TyNlP3wJ2lhV6arJ60Mq6jH4",
      "include_colab_link": true
    },
    "kernelspec": {
      "name": "python3",
      "display_name": "Python 3"
    },
    "language_info": {
      "name": "python"
    }
  },
  "cells": [
    {
      "cell_type": "markdown",
      "metadata": {
        "id": "view-in-github",
        "colab_type": "text"
      },
      "source": [
        "<a href=\"https://colab.research.google.com/github/Um-king/orm/blob/main/%5B%EB%AA%A8%EB%91%90%EC%97%B0%5D%EC%98%A8%EB%B3%B4%EB%94%A9_2%EC%9D%BC%EC%B0%A8_%EC%9E%85%EB%A0%A5%EC%B6%9C%EB%A0%A5.ipynb\" target=\"_parent\"><img src=\"https://colab.research.google.com/assets/colab-badge.svg\" alt=\"Open In Colab\"/></a>"
      ]
    },
    {
      "cell_type": "code",
      "execution_count": null,
      "metadata": {
        "id": "uwthumq-L4jX"
      },
      "outputs": [],
      "source": []
    },
    {
      "cell_type": "markdown",
      "source": [
        "# 1. 입력함수(input)\n",
        "\n",
        "1. Python의 input 함수는 사용자로부터 키보드 입력을 받을 수 있게 합니다.\n",
        "\n",
        "\n",
        "## 1.1 input 실습 - 1"
      ],
      "metadata": {
        "id": "T4QBSXatL7yN"
      }
    },
    {
      "cell_type": "code",
      "source": [
        "input('입력해주세요 ')"
      ],
      "metadata": {
        "colab": {
          "base_uri": "https://localhost:8080/",
          "height": 54
        },
        "id": "RR1URAA5L-pm",
        "outputId": "5bea6c42-2f1e-407a-d686-57e34aa93996"
      },
      "execution_count": 2,
      "outputs": [
        {
          "name": "stdout",
          "output_type": "stream",
          "text": [
            "입력해주세요 Hello world\n"
          ]
        },
        {
          "output_type": "execute_result",
          "data": {
            "text/plain": [
              "'Hello world'"
            ],
            "application/vnd.google.colaboratory.intrinsic+json": {
              "type": "string"
            }
          },
          "metadata": {},
          "execution_count": 2
        }
      ]
    },
    {
      "cell_type": "code",
      "source": [
        "int(input('입력해주세요 '))"
      ],
      "metadata": {
        "colab": {
          "base_uri": "https://localhost:8080/"
        },
        "id": "QqCdgsjAMAwO",
        "outputId": "6a432657-20c1-4ead-b0af-60402216d013"
      },
      "execution_count": 3,
      "outputs": [
        {
          "name": "stdout",
          "output_type": "stream",
          "text": [
            "입력해주세요 10\n"
          ]
        },
        {
          "output_type": "execute_result",
          "data": {
            "text/plain": [
              "10"
            ]
          },
          "metadata": {},
          "execution_count": 3
        }
      ]
    },
    {
      "cell_type": "markdown",
      "source": [
        "## 1.2 input 실습 - 2\n",
        "\n",
        "input으로 받은 값을 변수에 할당"
      ],
      "metadata": {
        "id": "SsxG9MVPMayc"
      }
    },
    {
      "cell_type": "code",
      "source": [
        "name = input('이름을 입력해주세요 ')"
      ],
      "metadata": {
        "colab": {
          "base_uri": "https://localhost:8080/"
        },
        "id": "dFeTEyuvMinc",
        "outputId": "d1c0f1e3-76ff-45a9-baf7-4c544d2acd87"
      },
      "execution_count": 4,
      "outputs": [
        {
          "name": "stdout",
          "output_type": "stream",
          "text": [
            "이름을 입력해주세요 엄영철\n"
          ]
        }
      ]
    },
    {
      "cell_type": "code",
      "source": [
        "print(\"Hello, \" + name + \"!\")"
      ],
      "metadata": {
        "colab": {
          "base_uri": "https://localhost:8080/"
        },
        "id": "n_oRaOMxMlWg",
        "outputId": "626d757a-fbd5-429b-924d-3836bf805ca9"
      },
      "execution_count": 5,
      "outputs": [
        {
          "output_type": "stream",
          "name": "stdout",
          "text": [
            "Hello, 엄영철!\n"
          ]
        }
      ]
    },
    {
      "cell_type": "code",
      "source": [
        "# input을 활용한 덧셈 - 문자열인 경우\n",
        "a = input('첫번째 숫자를 입력해주세요 ')\n",
        "b = input('두번째 숫자를 입력해주세요 ')\n",
        "\n",
        "print(\"a + b = \", a + b, \"입니다.\")"
      ],
      "metadata": {
        "colab": {
          "base_uri": "https://localhost:8080/"
        },
        "id": "aSFJSJjeMqc7",
        "outputId": "09bf86bd-228e-444f-f077-6e79de35dcb0"
      },
      "execution_count": 6,
      "outputs": [
        {
          "output_type": "stream",
          "name": "stdout",
          "text": [
            "첫번째 숫자를 입력해주세요 10\n",
            "두번째 숫자를 입력해주세요 20\n",
            "a + b = 1020입니다.\n"
          ]
        }
      ]
    },
    {
      "cell_type": "code",
      "source": [
        "# input을 활용한 덧셈 - 정수인 경우\n",
        "a = int(input('첫번째 숫자를 입력해주세요 '))\n",
        "b = int(input('두번째 숫자를 입력해주세요 '))\n",
        "\n",
        "print(\"a + b = \", a + b, \"입니다.\")"
      ],
      "metadata": {
        "colab": {
          "base_uri": "https://localhost:8080/"
        },
        "id": "g__vFr6INOUp",
        "outputId": "3df09b30-048f-47d6-c49f-15f32de83a86"
      },
      "execution_count": 9,
      "outputs": [
        {
          "output_type": "stream",
          "name": "stdout",
          "text": [
            "첫번째 숫자를 입력해주세요 10\n",
            "두번째 숫자를 입력해주세요 20\n",
            "a + b =  30 입니다.\n"
          ]
        }
      ]
    },
    {
      "cell_type": "markdown",
      "source": [
        "# 2. 출력함수(Print)\n",
        "1. 화면에 텍스트나 변수의 값을 화면에 출력하려면 print 함수를 사용\n"
      ],
      "metadata": {
        "id": "QNwYnmvCNu97"
      }
    },
    {
      "cell_type": "code",
      "source": [
        "# 1. 여러줄 출력\n",
        "'출력합니다.'\n",
        "'출력합니다.' # 마지막 줄만 출력"
      ],
      "metadata": {
        "colab": {
          "base_uri": "https://localhost:8080/",
          "height": 35
        },
        "id": "XHyogUfINe9k",
        "outputId": "c0be61e6-cffa-4e05-e14e-feb4bf683dd9"
      },
      "execution_count": 10,
      "outputs": [
        {
          "output_type": "execute_result",
          "data": {
            "text/plain": [
              "'출력합니다.'"
            ],
            "application/vnd.google.colaboratory.intrinsic+json": {
              "type": "string"
            }
          },
          "metadata": {},
          "execution_count": 10
        }
      ]
    },
    {
      "cell_type": "code",
      "source": [
        "# 2. 여러값 출력\n",
        "print('Hello', \"world\", \"!\")"
      ],
      "metadata": {
        "colab": {
          "base_uri": "https://localhost:8080/"
        },
        "id": "iM3xa_2KPnq0",
        "outputId": "c80d644f-fefc-46c9-e067-990067a3f25a"
      },
      "execution_count": 11,
      "outputs": [
        {
          "output_type": "stream",
          "name": "stdout",
          "text": [
            "Hello world !\n"
          ]
        }
      ]
    },
    {
      "cell_type": "code",
      "source": [
        "# 3. sep 구분자\n",
        "print('Hello', \"world\", \"!\", sep = \"-\")"
      ],
      "metadata": {
        "colab": {
          "base_uri": "https://localhost:8080/"
        },
        "id": "nFAWqZhXPwZU",
        "outputId": "71e43c55-3d52-4419-ff15-41facb3734aa"
      },
      "execution_count": 12,
      "outputs": [
        {
          "output_type": "stream",
          "name": "stdout",
          "text": [
            "Hello-world-!\n"
          ]
        }
      ]
    },
    {
      "cell_type": "code",
      "source": [
        "# 4. sep 구분자 / end 구분자\n",
        "print('Hello', \"world\", \"!\", sep = \"-\", end = \"!!!\")"
      ],
      "metadata": {
        "colab": {
          "base_uri": "https://localhost:8080/"
        },
        "id": "lt9hT0ApP6Yf",
        "outputId": "6cb75e61-e201-4859-ab4f-79c31b1d9b7d"
      },
      "execution_count": 13,
      "outputs": [
        {
          "output_type": "stream",
          "name": "stdout",
          "text": [
            "Hello-world-!!!!"
          ]
        }
      ]
    },
    {
      "cell_type": "code",
      "source": [
        "# 4. f-string\n",
        "# 4.1 f-string에서 f가 없을 때\n",
        "name = 'licat'\n",
        "age = 10\n",
        "print('제 이름은 {name}, 제 나이는 {age} 입니다.')"
      ],
      "metadata": {
        "colab": {
          "base_uri": "https://localhost:8080/"
        },
        "id": "J96HgTieQH2G",
        "outputId": "0dcc142a-3c0f-48e6-8451-fb51875ccd29"
      },
      "execution_count": 15,
      "outputs": [
        {
          "output_type": "stream",
          "name": "stdout",
          "text": [
            "제 이름은 {name}, 제 나이는 {age} 입니다.\n"
          ]
        }
      ]
    },
    {
      "cell_type": "code",
      "source": [
        "# 4.2 f-string에서 중괄호가 없을 때\n",
        "name = 'licat'\n",
        "age = 10\n",
        "print(f'제 이름은 name, 제 나이는 age 입니다.')"
      ],
      "metadata": {
        "colab": {
          "base_uri": "https://localhost:8080/"
        },
        "id": "ytmGJwu-Rdlc",
        "outputId": "22916f90-8baa-4845-b91c-26b10c5800e3"
      },
      "execution_count": 17,
      "outputs": [
        {
          "output_type": "stream",
          "name": "stdout",
          "text": [
            "제 이름은 name, 제 나이는 age 입니다.\n"
          ]
        }
      ]
    },
    {
      "cell_type": "code",
      "source": [
        "# 4.3 f-string을 제대로 사용했을때\n",
        "name = 'licat'\n",
        "age = 10\n",
        "print(f'제 이름은 {name}, 제 나이는 {age} 입니다.')"
      ],
      "metadata": {
        "colab": {
          "base_uri": "https://localhost:8080/"
        },
        "id": "XawAA-scRoAk",
        "outputId": "c5fbd73b-4f30-4f06-c6d3-aac5014a813d"
      },
      "execution_count": 18,
      "outputs": [
        {
          "output_type": "stream",
          "name": "stdout",
          "text": [
            "제 이름은 licat, 제 나이는 10 입니다.\n"
          ]
        }
      ]
    },
    {
      "cell_type": "code",
      "source": [
        "# 4.4 예시\n",
        "name = input('이름을 입력해주세요 ')\n",
        "age = int(input('나이를 입력해주세요 '))\n",
        "print(f'제 이름은 {name}, 제 나이는 {age} 입니다.')"
      ],
      "metadata": {
        "colab": {
          "base_uri": "https://localhost:8080/"
        },
        "id": "5AshorheRyJ9",
        "outputId": "98b3509a-0f69-4eb9-e3e7-eed02c27e851"
      },
      "execution_count": 19,
      "outputs": [
        {
          "output_type": "stream",
          "name": "stdout",
          "text": [
            "이름을 입력해주세요 엄영철\n",
            "나이를 입력해주세요 29\n",
            "제 이름은 엄영철, 제 나이는 29 입니다.\n"
          ]
        }
      ]
    },
    {
      "cell_type": "code",
      "source": [
        "# 5. None\n",
        "# None이라는 값을 변수가 가지게 되면 a는 print를 사용하지 않으면 출력되지 않습니다.\n",
        "a = None\n",
        "a"
      ],
      "metadata": {
        "id": "_eOmX-jZSFSe"
      },
      "execution_count": 21,
      "outputs": []
    },
    {
      "cell_type": "code",
      "source": [
        "print(a)"
      ],
      "metadata": {
        "colab": {
          "base_uri": "https://localhost:8080/"
        },
        "id": "Tx1eL-yoT8yO",
        "outputId": "47c85e4f-f494-4bc0-920f-1d40dbb88a75"
      },
      "execution_count": 22,
      "outputs": [
        {
          "output_type": "stream",
          "name": "stdout",
          "text": [
            "None\n"
          ]
        }
      ]
    }
  ]
}