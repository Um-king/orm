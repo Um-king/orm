{
  "nbformat": 4,
  "nbformat_minor": 0,
  "metadata": {
    "colab": {
      "provenance": [],
      "authorship_tag": "ABX9TyP99GAuH+C/3JaC3poQ+jUn",
      "include_colab_link": true
    },
    "kernelspec": {
      "name": "python3",
      "display_name": "Python 3"
    },
    "language_info": {
      "name": "python"
    }
  },
  "cells": [
    {
      "cell_type": "markdown",
      "metadata": {
        "id": "view-in-github",
        "colab_type": "text"
      },
      "source": [
        "<a href=\"https://colab.research.google.com/github/Um-king/orm/blob/main/%5B%EB%AA%A8%EB%91%90%EC%97%B0%5D2%EC%A3%BC%EC%B0%A8_1%EC%9D%BC_Random.ipynb\" target=\"_parent\"><img src=\"https://colab.research.google.com/assets/colab-badge.svg\" alt=\"Open In Colab\"/></a>"
      ]
    },
    {
      "cell_type": "markdown",
      "source": [
        "# 1. Randrange() 함수\n",
        "randrange(start, stop[, step])\n",
        "\n",
        "- **`start`**: 범위의 시작값입니다. 이 값은 범위에 포함됩니다. 만약 **`start`**가 생략되면, 기본값은 0이 됩니다.\n",
        "- **`stop`**: 범위의 끝값입니다. 이 값은 범위에 포함되지 않으며, 함수는 **`stop - 1`**까지의 수 중에서 무작위로 선택합니다.\n",
        "- **`step`**: 선택적 매개변수로, 숫자 간의 간격을 지정합니다. 예를 들어, **`step`**이 2이면 함수는 두 숫자 간격으로 무작위 수를 선택합니다."
      ],
      "metadata": {
        "id": "8GBbQjC10yfd"
      }
    },
    {
      "cell_type": "code",
      "source": [
        "# 1.1 기본 사용법\n",
        "\n",
        "import random # random 함수 호출\n",
        "\n",
        "'''\n",
        "0~9까지의 임의의 숫자를 선택하는 코드를 작성\n",
        "파이썬의 숫자의 시작은 무조건 0부터\n",
        "10으로 입력하면 -1, 즉 9까지\n",
        "'''\n",
        "\n",
        "num = random.randrange(10) # 0~9 (무조건 0부터 시작)\n",
        "print(num)"
      ],
      "metadata": {
        "colab": {
          "base_uri": "https://localhost:8080/"
        },
        "id": "4lkBl9YS1CZn",
        "outputId": "9743ee83-685f-41ea-8327-c380f163561b"
      },
      "execution_count": 15,
      "outputs": [
        {
          "output_type": "stream",
          "name": "stdout",
          "text": [
            "5\n"
          ]
        }
      ]
    },
    {
      "cell_type": "code",
      "source": [
        "# 1.2 시작값과 끝값을 지정\n",
        "\n",
        "'''\n",
        "randrange() 함수를 사용할 때, stop 값은 범위에 포함되지 않습니다.\n",
        "예를 들어, random.randrange(1, 5)는 1, 2, 3, 4 중 하나를 반환합니다.\n",
        "'''\n",
        "\n",
        "num2 = random.randrange(1, 10) # 1~9 사이의 숫자 출력, 끝값지정 시에도 끝값은 -1까지 출력\n",
        "print(num2)"
      ],
      "metadata": {
        "colab": {
          "base_uri": "https://localhost:8080/"
        },
        "id": "83vgOx-s1W3P",
        "outputId": "60c47782-8a5d-4c10-db46-04ec259750f6"
      },
      "execution_count": 12,
      "outputs": [
        {
          "output_type": "stream",
          "name": "stdout",
          "text": [
            "2\n"
          ]
        }
      ]
    },
    {
      "cell_type": "code",
      "source": [
        "# 1.3 간격 설정\n",
        "\n",
        "# 10부터 100까지 숫자 중에서 10의 간격으로 무작위 선택\n",
        "num3 = random.randrange(10, 101, 10) # 10~100까지 10의 간격으로 무작위 수 선택\n",
        "print(num3)"
      ],
      "metadata": {
        "colab": {
          "base_uri": "https://localhost:8080/"
        },
        "id": "waUeSDW42Lzr",
        "outputId": "4467e9b0-5f0c-4d22-8a90-0d43509202bb"
      },
      "execution_count": 13,
      "outputs": [
        {
          "output_type": "stream",
          "name": "stdout",
          "text": [
            "50\n"
          ]
        }
      ]
    },
    {
      "cell_type": "markdown",
      "source": [
        "# 2. Choice() 함수\n",
        "\n",
        "* random.choice() 함수는 파이썬의 random 라이브러리에서 제공하는 매우 유용한 함수 중 하나입니다.\n",
        "* 이 함수는 주어진 시퀀스(예: 리스트, 튜플, 문자열 등)에서 무작위로 요소 하나를 선택하여 반환합니다. 시퀀스 내의 모든 요소는 선택될 가능성이 동일합니다.\n",
        "* random.choice() 함수를 사용할 때 시퀀스는 비어있지 않아야 합니다. 비어 있는 시퀀스에서 요소를 선택하려고 하면 IndexError가 발생합니다."
      ],
      "metadata": {
        "id": "sOpOgB1j7QXw"
      }
    },
    {
      "cell_type": "code",
      "source": [
        "# 1. choice 기본 사용법\n",
        "# chosen_element = random.choice(sequence)\n",
        "\n",
        "elements = ['사과', '바나나', '체리']\n",
        "\n",
        "# 리스트의 무작위 요소를 하나 선택\n",
        "choice_elements = random.choice(elements)\n",
        "\n",
        "print(f\"선택한 요소 : {choice_elements} 입니다.\")"
      ],
      "metadata": {
        "colab": {
          "base_uri": "https://localhost:8080/"
        },
        "id": "FYlHP1vo7twF",
        "outputId": "cb211d34-f924-484e-cb18-9438f9635cfe"
      },
      "execution_count": 21,
      "outputs": [
        {
          "output_type": "stream",
          "name": "stdout",
          "text": [
            "선택한 요소 : 체리 입니다.\n"
          ]
        }
      ]
    },
    {
      "cell_type": "code",
      "source": [
        "# 2. 문자열에서 무작위 문자 선택\n",
        "\n",
        "greeting = \"안녕하세요\"\n",
        "choice_char = random.choice(greeting) # 문자열의 무작위 문자 선택\n",
        "\n",
        "print(f\"선택된 문자: {choice_char} 입니다.\")"
      ],
      "metadata": {
        "colab": {
          "base_uri": "https://localhost:8080/"
        },
        "id": "KKxRJKki7_ue",
        "outputId": "919fb7bd-c511-43c0-980c-75a866b456df"
      },
      "execution_count": 22,
      "outputs": [
        {
          "output_type": "stream",
          "name": "stdout",
          "text": [
            "선택된 문자: 하 입니다.\n"
          ]
        }
      ]
    },
    {
      "cell_type": "markdown",
      "source": [
        "* 기본 - input output -> 문자열을 받아서 문자열 출력\n",
        "* random - 무작위의 숫자 또는 문자를 받아와서 출력"
      ],
      "metadata": {
        "id": "E4Zcht5a9y2f"
      }
    },
    {
      "cell_type": "code",
      "source": [
        "# 주석처리, random 함수 복습\n",
        "\n",
        "import random # random 라이브러리 호출\n",
        "\n",
        "# 두개의 무작위 숫자를 생성하는 코드\n",
        "random_number1 = random.randrange(1, 10)  # 0~9 무작위 숫자 반환\n",
        "random_number2 = random.randrange(1, 10)  # 0~9 무작위 숫자 반환\n",
        "\n",
        "# 두개의 무작위 숫자를 합산하는 코드 / 생성된 두 숫자의 합 계산\n",
        "sum_of_numbers = random_number1 + random_number2\n",
        "\n",
        "# 결과 출력\n",
        "print(f\"첫 번째 생성된 숫자: {random_number1}\")  # 첫번째 생성된 값\n",
        "print(f\"두 번째 생성된 숫자: {random_number2}\")  # 두번째 생성된 값\n",
        "print(f\"두 숫자의 합: {sum_of_numbers}\")         # 두 숫자의 합 출력"
      ],
      "metadata": {
        "id": "PQ2spnJv_kxy"
      },
      "execution_count": null,
      "outputs": []
    },
    {
      "cell_type": "code",
      "source": [
        "# 모두의 마블 주사위 프로그래밍 하기\n",
        "# 두 개의 주사위를 던져서 나온 두 수를 합산하는 프로그램\n",
        "\n",
        "import random\n",
        "\n",
        "dice1 = random.randrange(1, 7)\n",
        "dice2 = random.randrange(1, 7)\n",
        "\n",
        "print(f\"첫번째 주사위 : {dice1}\")\n",
        "print(f\"두번째 주사위 : {dice2}\")\n",
        "\n",
        "print(f\"\\n주사위의 합 : {dice1 + dice2}\")"
      ],
      "metadata": {
        "colab": {
          "base_uri": "https://localhost:8080/"
        },
        "id": "xeuMkuWsB1ZV",
        "outputId": "62e6c09c-3fdc-4d63-a72b-bcbe030adbb7"
      },
      "execution_count": 24,
      "outputs": [
        {
          "output_type": "stream",
          "name": "stdout",
          "text": [
            "첫번째 주사위 : 3\n",
            "두번째 주사위 : 6\n",
            "\n",
            "주사위의 합 : 9\n"
          ]
        }
      ]
    },
    {
      "cell_type": "code",
      "source": [
        "# 윷놀이 프로그래밍 실습 가이드라인\n",
        "# 무작위로 0(앞) 또는 1(뒤)를 선택\n",
        "\n",
        "throw1 = random.choice([0, 1])\n",
        "throw2 = random.choice([0, 1])\n",
        "throw3 = random.choice([0, 1])\n",
        "throw4 = random.choice([0, 1])\n",
        "\n",
        "throw = throw1 + throw2 + throw3 + throw4\n",
        "\n",
        "# 윷놀이 결과\n",
        "results = ['모', '도', '개', '걸', '윷']\n",
        "\n",
        "print(\"윷놀이 시작:\",throw1, throw2, throw3, throw4)\n",
        "print(\"결과: \" + results[throw] + \"(\" + str(throw) + \")\")"
      ],
      "metadata": {
        "colab": {
          "base_uri": "https://localhost:8080/"
        },
        "id": "TYyyXjbdCO6G",
        "outputId": "bad5f8ac-c67a-488d-82ce-7a911b19b4d1"
      },
      "execution_count": 31,
      "outputs": [
        {
          "output_type": "stream",
          "name": "stdout",
          "text": [
            "윷놀이 시작: 0 1 0 1\n",
            "결과: 개(2)\n"
          ]
        }
      ]
    },
    {
      "cell_type": "code",
      "source": [],
      "metadata": {
        "id": "DYsrMJCAGQtk"
      },
      "execution_count": null,
      "outputs": []
    }
  ]
}