{
  "nbformat": 4,
  "nbformat_minor": 0,
  "metadata": {
    "colab": {
      "provenance": [],
      "authorship_tag": "ABX9TyNJtfz2d/7LB7QpyVsteSn1",
      "include_colab_link": true
    },
    "kernelspec": {
      "name": "python3",
      "display_name": "Python 3"
    },
    "language_info": {
      "name": "python"
    }
  },
  "cells": [
    {
      "cell_type": "markdown",
      "metadata": {
        "id": "view-in-github",
        "colab_type": "text"
      },
      "source": [
        "<a href=\"https://colab.research.google.com/github/Um-king/orm/blob/main/%5B%EB%AA%A8%EB%91%90%EC%97%B0%5D_2%EC%A3%BC%EC%B0%A8_1%EC%9D%BC_in_output_%EC%8B%A4%EC%8A%B5.ipynb\" target=\"_parent\"><img src=\"https://colab.research.google.com/assets/colab-badge.svg\" alt=\"Open In Colab\"/></a>"
      ]
    },
    {
      "cell_type": "markdown",
      "source": [
        "# 2024년 새해 계획 프로그램\n",
        "\n",
        "2024년도 계획을 10문장으로 적고, 그에 따른 2024년도 계획에서 중요 부분을 변수로 받아서 Input으로 받는 프로그램 만들기!\n",
        "\n",
        "1. 나의 2024년도 계획을 적는다.\n",
        "2. 그 중에서 변수로 만들수 있는 것들(input으로 받을 수 있는 것을 비운다.)\n",
        "3. 10 문장에 대해서 똑같이 적용한다. (1개~3개정도 단어)\n",
        "4. 테스트 해본다.\n",
        "5. 코드와 결과를 업로드 한다."
      ],
      "metadata": {
        "id": "c2jDPImtlRIl"
      }
    },
    {
      "cell_type": "code",
      "source": [
        "# 1. 2024년 계획 적기\n",
        "\n",
        "sentence_1 = input(\"이번 해에는 매일 ___ 을 하기로 했다: \")\n",
        "sentence_2 = input(\"2024년 목표는 ___ 이다: \")\n",
        "sentence_3 = input(\"올해는 ___ 에 집중하려고 한다: \")\n",
        "\n",
        "print(f\"\\n이번 해에는 매일 {sentence_1} 을 하기로 했다.\") # 1\n",
        "print(f\"2024년 목표는 {sentence_2} 이다.\") # 2\n",
        "print(f\"올해는 {sentence_3} 에 집중하려고 한다.\") # 3"
      ],
      "metadata": {
        "colab": {
          "base_uri": "https://localhost:8080/"
        },
        "id": "5yWTK7cBldl3",
        "outputId": "4c5172c8-2ec7-4f7a-e1d6-1cd8d9628c8e"
      },
      "execution_count": 8,
      "outputs": [
        {
          "output_type": "stream",
          "name": "stdout",
          "text": [
            "이번 해에는 매일 ___ 을 하기로 했다: 운동\n",
            "2024년 목표는 ___ 이다: 취업\n",
            "올해는 ___ 에 집중하려고 한다: 공부\n",
            "\n",
            "이번 해에는 매일 운동 을 하기로 했다.\n",
            "2024년 목표는 취업 이다.\n",
            "올해는 공부 에 집중하려고 한다.\n"
          ]
        }
      ]
    },
    {
      "cell_type": "markdown",
      "source": [
        "## 1.1 하나의 단어를 입력받아서 출력하기"
      ],
      "metadata": {
        "id": "mtNOcCb9spXY"
      }
    },
    {
      "cell_type": "code",
      "source": [
        "# 변수(어떠한 값을 입력받을 값) = input(\"내가 입력받을 값에 대한 질문: \")\n",
        "\n",
        "setence_1 = input(\"이번 해에는 매일 __ 을 하기로 했다: \")"
      ],
      "metadata": {
        "colab": {
          "base_uri": "https://localhost:8080/"
        },
        "id": "9ejeYCB9lvI0",
        "outputId": "64db080e-5a41-40ee-9b8d-20c9ccab61e4"
      },
      "execution_count": 9,
      "outputs": [
        {
          "name": "stdout",
          "output_type": "stream",
          "text": [
            "이번 해에는 매일 __ 을 하기로 했다: 운동\n"
          ]
        }
      ]
    },
    {
      "cell_type": "code",
      "source": [
        "print(f\"이번 해에는 매일 {sentence_1} 을 하기로 했다.\")"
      ],
      "metadata": {
        "colab": {
          "base_uri": "https://localhost:8080/"
        },
        "id": "9y3wwmJ7tHqR",
        "outputId": "7c4d6c94-cf69-4b86-9b48-3daf04cf66eb"
      },
      "execution_count": 10,
      "outputs": [
        {
          "output_type": "stream",
          "name": "stdout",
          "text": [
            "이번 해에는 매일 운동 을 하기로 했다.\n"
          ]
        }
      ]
    },
    {
      "cell_type": "markdown",
      "source": [
        "## 1.2 두가지 값을 입력 받는 법"
      ],
      "metadata": {
        "id": "Ta5mI2r5uLHV"
      }
    },
    {
      "cell_type": "code",
      "source": [
        "# 2가지 input 받아보기\n",
        "word1 = input(\"올해는 __ 와 \")\n",
        "word2 = input(\"__에 집중하려고 한다. \")\n",
        "\n",
        "# end를 사용해서 다른 두 문장 word1, word2 출력하기\n",
        "print(f\"올해는 {word1} 와\", end = \" \")\n",
        "print(f\"{word2} 에 집중하려고 한다.\")\n",
        "\n",
        "# 한 문장안에 word1, word2 둘 다 출력하기(가장 기본적인 방법)\n",
        "print(f\"올해는 {word1} 와 {word2} 에 집중하려고 한다.\")"
      ],
      "metadata": {
        "colab": {
          "base_uri": "https://localhost:8080/"
        },
        "id": "3dL89zjvuSyI",
        "outputId": "ab7e57ed-9d54-4bee-a614-ce0fb2063798"
      },
      "execution_count": 13,
      "outputs": [
        {
          "output_type": "stream",
          "name": "stdout",
          "text": [
            "올해는 __ 와 공부\n",
            "__에 집중하려고 한다. 운동\n",
            "올해는 공부 와 운동 에 집중하려고 한다.\n",
            "올해는 공부 와 운동 에 집중하려고 한다.\n"
          ]
        }
      ]
    },
    {
      "cell_type": "markdown",
      "source": [
        "## 1.3 두가지 단어를 한꺼번에 받기"
      ],
      "metadata": {
        "id": "N33V2dwUwtGW"
      }
    },
    {
      "cell_type": "code",
      "source": [
        "sentence_2 = input(\"올해는 __와 __에 집중하려고 한다: \")"
      ],
      "metadata": {
        "colab": {
          "base_uri": "https://localhost:8080/"
        },
        "id": "kA8SFCakwwgN",
        "outputId": "44fcd9ba-7444-4b9a-b49e-45a3a00796ab"
      },
      "execution_count": 14,
      "outputs": [
        {
          "name": "stdout",
          "output_type": "stream",
          "text": [
            "올해는 __와 __에 집중하려고 한다: 공부 운동\n"
          ]
        }
      ]
    },
    {
      "cell_type": "code",
      "source": [
        "word1, word2 = sentence_2.split() # 두 단어를 입력받고, 공백을 기준으로 분리\n",
        "print(f\"올해는 {word1} 와 {word2} 에 집중하려고 한다.\")"
      ],
      "metadata": {
        "colab": {
          "base_uri": "https://localhost:8080/"
        },
        "id": "isxcpfnaxAB_",
        "outputId": "fa5dbc1a-4f89-46d5-936e-2e4cf7aa48ae"
      },
      "execution_count": 16,
      "outputs": [
        {
          "output_type": "stream",
          "name": "stdout",
          "text": [
            "올해는 공부 와 운동 에 집중하려고 한다.\n"
          ]
        }
      ]
    },
    {
      "cell_type": "markdown",
      "source": [],
      "metadata": {
        "id": "djlhL7lI0Kfl"
      }
    }
  ]
}