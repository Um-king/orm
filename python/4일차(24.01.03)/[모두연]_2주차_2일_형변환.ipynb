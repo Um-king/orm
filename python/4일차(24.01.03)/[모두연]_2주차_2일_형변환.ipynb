{
  "nbformat": 4,
  "nbformat_minor": 0,
  "metadata": {
    "colab": {
      "provenance": [],
      "authorship_tag": "ABX9TyMX/PKMWDx2PGsCDrSnaLk2",
      "include_colab_link": true
    },
    "kernelspec": {
      "name": "python3",
      "display_name": "Python 3"
    },
    "language_info": {
      "name": "python"
    }
  },
  "cells": [
    {
      "cell_type": "markdown",
      "metadata": {
        "id": "view-in-github",
        "colab_type": "text"
      },
      "source": [
        "<a href=\"https://colab.research.google.com/github/Um-king/orm/blob/main/%5B%EB%AA%A8%EB%91%90%EC%97%B0%5D_2%EC%A3%BC%EC%B0%A8_2%EC%9D%BC_%ED%98%95%EB%B3%80%ED%99%98.ipynb\" target=\"_parent\"><img src=\"https://colab.research.google.com/assets/colab-badge.svg\" alt=\"Open In Colab\"/></a>"
      ]
    },
    {
      "cell_type": "markdown",
      "source": [
        "# 4. 형변환"
      ],
      "metadata": {
        "id": "OY1Tcpd6u7d-"
      }
    },
    {
      "cell_type": "code",
      "source": [
        "# 1. 형변환 기본 예제\n",
        "\n",
        "# 잘못된 수행\n",
        "월급 = input(\"월급을 입력하세요:\")\n",
        "연봉 = 월급 * 12 # 문자열로 받기 때문에 1000이 12번 출력\n",
        "print(연봉)"
      ],
      "metadata": {
        "colab": {
          "base_uri": "https://localhost:8080/"
        },
        "id": "veKeqZUEu8mj",
        "outputId": "3a1edb19-6651-411e-efb1-30b90732b53e"
      },
      "execution_count": 2,
      "outputs": [
        {
          "output_type": "stream",
          "name": "stdout",
          "text": [
            "월급을 입력하세요:1000\n",
            "100010001000100010001000100010001000100010001000\n"
          ]
        }
      ]
    },
    {
      "cell_type": "code",
      "source": [
        "# 제대로 수행\n",
        "월급 = input(\"월급을 입력하세요:\")\n",
        "연봉 = int(월급) * 12\n",
        "print(연봉)"
      ],
      "metadata": {
        "colab": {
          "base_uri": "https://localhost:8080/"
        },
        "id": "lVZzZC-yvENz",
        "outputId": "2a04427c-7127-4e3f-bac7-d992f1291afe"
      },
      "execution_count": 5,
      "outputs": [
        {
          "output_type": "stream",
          "name": "stdout",
          "text": [
            "월급을 입력하세요:1000\n",
            "12000\n"
          ]
        }
      ]
    },
    {
      "cell_type": "code",
      "source": [
        "# 제대로 수행\n",
        "월급 = int(input(\"월급을 입력하세요:\"))\n",
        "연봉 = 월급 * 12\n",
        "print(연봉)"
      ],
      "metadata": {
        "colab": {
          "base_uri": "https://localhost:8080/"
        },
        "id": "m7Opl2V9vUv1",
        "outputId": "9e5cb95b-4363-4e0b-80e3-dec97d440953"
      },
      "execution_count": 4,
      "outputs": [
        {
          "output_type": "stream",
          "name": "stdout",
          "text": [
            "월급을 입력하세요:1000\n",
            "12000\n"
          ]
        }
      ]
    },
    {
      "cell_type": "code",
      "source": [
        "# 4.2 소수형 -> 정수형\n",
        "\n",
        "f = 3.14159\n",
        "number = int(f)\n",
        "print(number)  # 출력: 3"
      ],
      "metadata": {
        "colab": {
          "base_uri": "https://localhost:8080/"
        },
        "id": "v8leidmXvbKS",
        "outputId": "8234962f-c82b-4b86-e026-375efd11930a"
      },
      "execution_count": 6,
      "outputs": [
        {
          "output_type": "stream",
          "name": "stdout",
          "text": [
            "3\n"
          ]
        }
      ]
    },
    {
      "cell_type": "code",
      "source": [
        "# 4.3 불린 -> 정수형\n",
        "\n",
        "true_int = int(True)\n",
        "false_int = int(False)\n",
        "\n",
        "print(true_int)  # 출력: 1\n",
        "print(false_int)  # 출력: 0"
      ],
      "metadata": {
        "colab": {
          "base_uri": "https://localhost:8080/"
        },
        "id": "diTAsmRrwLZ_",
        "outputId": "64596b0f-7eb6-4636-b5d9-8b0a7fc75404"
      },
      "execution_count": 7,
      "outputs": [
        {
          "output_type": "stream",
          "name": "stdout",
          "text": [
            "1\n",
            "0\n"
          ]
        }
      ]
    },
    {
      "cell_type": "code",
      "source": [
        "# 4.4 Noen은 형변환 불가능\n",
        "\n",
        "print(int(None))"
      ],
      "metadata": {
        "colab": {
          "base_uri": "https://localhost:8080/",
          "height": 237
        },
        "id": "swRBy3AYwYBk",
        "outputId": "cf7df8ac-84a4-4706-e69b-5fcc3b6bd429"
      },
      "execution_count": 8,
      "outputs": [
        {
          "output_type": "error",
          "ename": "TypeError",
          "evalue": "ignored",
          "traceback": [
            "\u001b[0;31m---------------------------------------------------------------------------\u001b[0m",
            "\u001b[0;31mTypeError\u001b[0m                                 Traceback (most recent call last)",
            "\u001b[0;32m<ipython-input-8-d8cfac9ef00d>\u001b[0m in \u001b[0;36m<cell line: 3>\u001b[0;34m()\u001b[0m\n\u001b[1;32m      1\u001b[0m \u001b[0;31m# Noen은 형변환 불가능\u001b[0m\u001b[0;34m\u001b[0m\u001b[0;34m\u001b[0m\u001b[0m\n\u001b[1;32m      2\u001b[0m \u001b[0;34m\u001b[0m\u001b[0m\n\u001b[0;32m----> 3\u001b[0;31m \u001b[0mprint\u001b[0m\u001b[0;34m(\u001b[0m\u001b[0mint\u001b[0m\u001b[0;34m(\u001b[0m\u001b[0;32mNone\u001b[0m\u001b[0;34m)\u001b[0m\u001b[0;34m)\u001b[0m\u001b[0;34m\u001b[0m\u001b[0;34m\u001b[0m\u001b[0m\n\u001b[0m",
            "\u001b[0;31mTypeError\u001b[0m: int() argument must be a string, a bytes-like object or a real number, not 'NoneType'"
          ]
        }
      ]
    },
    {
      "cell_type": "code",
      "source": [
        "# 4.5 str 형변환\n",
        "\n",
        "n = 123\n",
        "print(type(n))\n",
        "print(n)\n",
        "\n",
        "m = 123.4\n",
        "print(type(n))\n",
        "print(n)\n",
        "\n",
        "n = str(n)\n",
        "print(type(n))\n",
        "print(n)\n",
        "\n",
        "m = str(m)\n",
        "print(type(m))\n",
        "print(m)"
      ],
      "metadata": {
        "colab": {
          "base_uri": "https://localhost:8080/"
        },
        "id": "YkJvjQ_3w2-0",
        "outputId": "3969c814-eb19-4a06-931a-496099a71402"
      },
      "execution_count": 11,
      "outputs": [
        {
          "output_type": "stream",
          "name": "stdout",
          "text": [
            "<class 'int'>\n",
            "123\n",
            "<class 'int'>\n",
            "123\n",
            "<class 'str'>\n",
            "123\n",
            "<class 'str'>\n",
            "123.4\n"
          ]
        }
      ]
    },
    {
      "cell_type": "code",
      "source": [
        "print(\"bool('test'):\", bool('test')) # 값이 있으면 True\n",
        "print(\"bool(' '):\", bool(' ')) # 공백이 하나라도 존재하면 값이 존재한 것으로 True\n",
        "print(\"bool(''):\", bool('')) # 공백이 없으므로\n",
        "print(\"bool(100):\", bool(100)) # 값 존재\n",
        "print(\"bool(1):\", bool(1)) # 1 = True\n",
        "print(\"bool(0):\", bool(0)) # 0 = False\n",
        "print(\"bool(-1):\", bool(-1))\n",
        "print(\"bool(None):\", bool(None)) # None은 값이 없는 것이므로 False\n",
        "print(\"bool([]):\", bool([])) # 빈 리스트 = False (이하 동일)\n",
        "print(\"bool(tuple()):\", bool(tuple()))\n",
        "print(\"bool({}):\", bool({}))\n",
        "print(\"bool(set()):\", bool(set()))"
      ],
      "metadata": {
        "colab": {
          "base_uri": "https://localhost:8080/"
        },
        "id": "NJKG8LjqxPne",
        "outputId": "1dce60e7-6992-4dd5-d849-9648889b0556"
      },
      "execution_count": 12,
      "outputs": [
        {
          "output_type": "stream",
          "name": "stdout",
          "text": [
            "bool('test'): True\n",
            "bool(' '): True\n",
            "bool(''): False\n",
            "bool(100): True\n",
            "bool(1): True\n",
            "bool(0): False\n",
            "bool(-1): True\n",
            "bool(None): False\n",
            "bool([]): False\n",
            "bool(tuple()): False\n",
            "bool({}): False\n",
            "bool(set()): False\n"
          ]
        }
      ]
    },
    {
      "cell_type": "code",
      "source": [
        "# 무한대, 숫자가 아닌것들은 float형으로 특수하게 형변환이 가능하다\n",
        "\n",
        "infinity = float('inf')\n",
        "neg_infinity = float('-inf')\n",
        "not_a_number = float('nan') # None, Na\n",
        "\n",
        "print(infinity)\n",
        "print(neg_infinity)\n",
        "print(not_a_number)"
      ],
      "metadata": {
        "colab": {
          "base_uri": "https://localhost:8080/"
        },
        "id": "94jy9DQTyAvq",
        "outputId": "b18acee4-f60b-4692-cf2f-2df164c94003"
      },
      "execution_count": 14,
      "outputs": [
        {
          "output_type": "stream",
          "name": "stdout",
          "text": [
            "inf\n",
            "-inf\n",
            "nan\n"
          ]
        }
      ]
    },
    {
      "cell_type": "code",
      "source": [
        "# map을 사용한 정수 형변환\n",
        "\n",
        "list(map(int, ['10', '20', '30'])) # 출력 : [10, 20, 30]"
      ],
      "metadata": {
        "colab": {
          "base_uri": "https://localhost:8080/"
        },
        "id": "iG07_eNxy8OO",
        "outputId": "41365cdf-1e4f-45c7-b58c-039bd89d532e"
      },
      "execution_count": 15,
      "outputs": [
        {
          "output_type": "execute_result",
          "data": {
            "text/plain": [
              "[10, 20, 30]"
            ]
          },
          "metadata": {},
          "execution_count": 15
        }
      ]
    },
    {
      "cell_type": "code",
      "source": [
        "list(map(int, '12345')) # 출력 : [1,2,3,4,5]"
      ],
      "metadata": {
        "colab": {
          "base_uri": "https://localhost:8080/"
        },
        "id": "iGltgDnx1UAW",
        "outputId": "9c306fe2-6724-45cd-d0b3-7485c5b3e7ed"
      },
      "execution_count": 16,
      "outputs": [
        {
          "output_type": "execute_result",
          "data": {
            "text/plain": [
              "[1, 2, 3, 4, 5]"
            ]
          },
          "metadata": {},
          "execution_count": 16
        }
      ]
    },
    {
      "cell_type": "code",
      "source": [],
      "metadata": {
        "id": "MPyy8kmv1Zn3"
      },
      "execution_count": null,
      "outputs": []
    }
  ]
}