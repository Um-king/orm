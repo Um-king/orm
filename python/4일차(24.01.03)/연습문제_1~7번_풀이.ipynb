{
  "nbformat": 4,
  "nbformat_minor": 0,
  "metadata": {
    "colab": {
      "provenance": [],
      "authorship_tag": "ABX9TyOUNy5MmhBqUilS4O4PtmB1",
      "include_colab_link": true
    },
    "kernelspec": {
      "name": "python3",
      "display_name": "Python 3"
    },
    "language_info": {
      "name": "python"
    }
  },
  "cells": [
    {
      "cell_type": "markdown",
      "metadata": {
        "id": "view-in-github",
        "colab_type": "text"
      },
      "source": [
        "<a href=\"https://colab.research.google.com/github/Um-king/orm/blob/main/%EC%97%B0%EC%8A%B5%EB%AC%B8%EC%A0%9C_1~7%EB%B2%88_%ED%92%80%EC%9D%B4.ipynb\" target=\"_parent\"><img src=\"https://colab.research.google.com/assets/colab-badge.svg\" alt=\"Open In Colab\"/></a>"
      ]
    },
    {
      "cell_type": "markdown",
      "source": [
        "# 1. 연습 문제 1~7번 풀이"
      ],
      "metadata": {
        "id": "JGV8qQdCIBmH"
      }
    },
    {
      "cell_type": "code",
      "execution_count": null,
      "metadata": {
        "id": "tCpPXMK5H1DV"
      },
      "outputs": [],
      "source": [
        "# 1. 다음 변수들이 가리키고 있는 값에 화살표를 그려주세요. (z의 값은 무엇일까요?)\n",
        "\n",
        "'''\n",
        "1.1 문제\n",
        "x = 100\n",
        "y = 100\n",
        "z = x\n",
        "\n",
        "결과\n",
        "x ---┐\n",
        "y ---┼--> 100\n",
        "z ---┘\n",
        "\n",
        ">> 파이썬에서 정수 -5~256 값은 메모리 할당의 낭비를 줄이기 위해\n",
        "메모리에 미리 저장해놓고 호출되면 정해진 메모리의 자리를 가리키도록 한다.\n",
        "따라서 같은 객체의 id를 가지고 있다.\n",
        "'''\n",
        "\n",
        "\n",
        "'''\n",
        "1.2 문제\n",
        "x = 258\n",
        "y = 258\n",
        "z = x\n",
        "\n",
        "결과\n",
        "x ---┬--> 258\n",
        "z ---┘\n",
        "y -------> 258\n",
        "'''"
      ]
    },
    {
      "cell_type": "code",
      "source": [
        "# 2. 다음 파이썬 문법 중 맞은 것을 골라주세요.(3개)\n",
        "\n",
        "'''\n",
        "#1번\n",
        "print = 100\n",
        "\n",
        "#2번\n",
        "10 = a\n",
        "\n",
        "#3번\n",
        "k = 100\n",
        "\n",
        "#4번\n",
        "100k = 10000\n",
        "\n",
        "#5번\n",
        "a123 = 'abc'\n",
        "\n",
        "#6번\n",
        "_ = 10\n",
        "'''\n",
        "\n",
        "'''\n",
        "결과\n",
        "3,5,6\n",
        "\n",
        ">> 파이썬 변수 이름은 알파벳(대문자와 소문자), 숫자, 언더스코어(_)로 구성\n",
        "숫자, 하이픈(-), 키워드로 변수명을 작성하지 않는다.\n",
        "'''"
      ],
      "metadata": {
        "id": "OQJtTQNKJj8v"
      },
      "execution_count": null,
      "outputs": []
    },
    {
      "cell_type": "code",
      "source": [
        "# 3. 문자를 사용자에게 입력받고, 그 문자를 2번 출력하는 프로그램을 만들어주세요. 예를 들어 ‘abc’를 입력받는다면 ‘abcabc’를 출력해야 합니다.\n",
        "\n",
        "s = input(\"문자를 입력하세요:\")\n",
        "result = s * 2\n",
        "print(result)"
      ],
      "metadata": {
        "colab": {
          "base_uri": "https://localhost:8080/"
        },
        "id": "6dLd9yZSKOc0",
        "outputId": "a8d0cfce-9449-456f-cc37-56046e1e19c0"
      },
      "execution_count": 7,
      "outputs": [
        {
          "output_type": "stream",
          "name": "stdout",
          "text": [
            "문자를 입력하세요:abc\n",
            "abcabc\n"
          ]
        }
      ]
    },
    {
      "cell_type": "code",
      "source": [
        "# 4. 아래 변수에서 중복을 제거한 유일한 숫자를 알아내는 코드를 작성해주세요. 형변환을 통해 풀어주세요.\n",
        "\n",
        "n = 1234567890123123123\n",
        "n_1 = str(n)\n",
        "print(set(n_1))"
      ],
      "metadata": {
        "colab": {
          "base_uri": "https://localhost:8080/"
        },
        "id": "mZQClQmeKzNA",
        "outputId": "c8bef813-a8ca-4bfd-923b-c98c1a8c43f7"
      },
      "execution_count": 1,
      "outputs": [
        {
          "output_type": "stream",
          "name": "stdout",
          "text": [
            "{'8', '4', '2', '1', '7', '5', '3', '0', '9', '6'}\n"
          ]
        }
      ]
    },
    {
      "cell_type": "code",
      "source": [
        "# 5. 문자열 s에 마지막에 있는 문자열을 2번 더 붙이는 코드를 작성해주세요.\n",
        "\n",
        "s = 'jun'\n",
        "\n",
        "# 1\n",
        "s_1 = s.ljust(5, s[-1])\n",
        "print(s_1)\n",
        "\n",
        "# 2\n",
        "s_2 = s + (s[-1]) * 2\n",
        "print(s_2)"
      ],
      "metadata": {
        "colab": {
          "base_uri": "https://localhost:8080/"
        },
        "id": "Vfgtq4v-Lm_B",
        "outputId": "1e2d2424-9348-469f-f415-e2ceb91fa193"
      },
      "execution_count": 5,
      "outputs": [
        {
          "output_type": "stream",
          "name": "stdout",
          "text": [
            "junnn\n",
            "junnn\n"
          ]
        }
      ]
    },
    {
      "cell_type": "code",
      "source": [
        "# 6. 'abcde', 숫자, 대쉬(-), 언더스코어(_)를 모두 제거해주세요. 문자열에 translate를 사용해주세요.\n",
        "\n",
        "s = 'hello_world123'\n",
        "\n",
        "# 변환 테이블 생성\n",
        "table = str.maketrans('', '', 'abcde0123456789-_') # 특정문자 제거 시\n",
        "\n",
        "s1 = s.translate(table) # 원문은 수정되지 않으므로 새로운 변수에 할당 필요\n",
        "\n",
        "print(s1)"
      ],
      "metadata": {
        "colab": {
          "base_uri": "https://localhost:8080/"
        },
        "id": "-Aq7utyIMIRf",
        "outputId": "b61e78f7-3759-4f65-c571-d2a54cf0b005"
      },
      "execution_count": 7,
      "outputs": [
        {
          "output_type": "stream",
          "name": "stdout",
          "text": [
            "hlloworl\n"
          ]
        }
      ]
    },
    {
      "cell_type": "code",
      "source": [
        "# 7. 확장자를 출력해주는 코드를 작성해주세요. 확장자는 png, jpeg, mp4 등입니다.\n",
        "\n",
        "s = 'licat.jpeg'\n",
        "\n",
        "print(s.split('.')[-1])\n"
      ],
      "metadata": {
        "colab": {
          "base_uri": "https://localhost:8080/"
        },
        "id": "ZTZVuuMCNF2A",
        "outputId": "e7cf2f92-e16c-4a4b-a61a-e6fa70c8cbd3"
      },
      "execution_count": 11,
      "outputs": [
        {
          "output_type": "stream",
          "name": "stdout",
          "text": [
            "jpeg\n"
          ]
        }
      ]
    },
    {
      "cell_type": "code",
      "source": [],
      "metadata": {
        "id": "wH08xf8aNby7"
      },
      "execution_count": null,
      "outputs": []
    }
  ]
}