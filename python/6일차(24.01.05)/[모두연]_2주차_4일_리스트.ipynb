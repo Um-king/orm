{
  "nbformat": 4,
  "nbformat_minor": 0,
  "metadata": {
    "colab": {
      "provenance": [],
      "authorship_tag": "ABX9TyMTLE/WpPKcP7oVOfbE2DAy",
      "include_colab_link": true
    },
    "kernelspec": {
      "name": "python3",
      "display_name": "Python 3"
    },
    "language_info": {
      "name": "python"
    }
  },
  "cells": [
    {
      "cell_type": "markdown",
      "metadata": {
        "id": "view-in-github",
        "colab_type": "text"
      },
      "source": [
        "<a href=\"https://colab.research.google.com/github/Um-king/orm/blob/main/%5B%EB%AA%A8%EB%91%90%EC%97%B0%5D_2%EC%A3%BC%EC%B0%A8_4%EC%9D%BC_%EB%A6%AC%EC%8A%A4%ED%8A%B8.ipynb\" target=\"_parent\"><img src=\"https://colab.research.google.com/assets/colab-badge.svg\" alt=\"Open In Colab\"/></a>"
      ]
    },
    {
      "cell_type": "markdown",
      "source": [
        "# 복습"
      ],
      "metadata": {
        "id": "T7p5vFSGLnoV"
      }
    },
    {
      "cell_type": "code",
      "source": [
        "# 0.1 + 0.2 = 0.300...4 나오는 이유가 0.1이 2진수로 표현했을 때 무한소수여서"
      ],
      "metadata": {
        "id": "9p9vKnIvSzEf"
      },
      "execution_count": null,
      "outputs": []
    },
    {
      "cell_type": "code",
      "source": [
        "a = 10\n",
        "b = a\n",
        "c = b\n",
        "\n",
        "print(c) # a와 b와 c는 연결되어 있지 않다.\n",
        "\n",
        "a = 10\n",
        "b = a\n",
        "c = b\n",
        "a = 20\n",
        "print(c) # a값만 변경됨\n",
        "\n",
        "a = 10\n",
        "b = a\n",
        "\n",
        "# -5~256은 주소를 미리 저장하고 있다.\n",
        "print(id(a))\n",
        "print(id(b))"
      ],
      "metadata": {
        "colab": {
          "base_uri": "https://localhost:8080/"
        },
        "id": "PwXlERWlS00l",
        "outputId": "d82cdf7f-be47-4ba3-833b-ad22de1e6b2b"
      },
      "execution_count": 9,
      "outputs": [
        {
          "output_type": "stream",
          "name": "stdout",
          "text": [
            "10\n",
            "10\n",
            "133269716058960\n",
            "133269716058640\n",
            "133269716058640\n",
            "133269716058640\n"
          ]
        }
      ]
    },
    {
      "cell_type": "code",
      "source": [
        "# -5부터 256은 주소가 같습니다.\n",
        "a = 10\n",
        "b = 10\n",
        "\n",
        "print(id(a))\n",
        "print(id(b))\n",
        "\n",
        "a is b # True: -5 ~ 256 값의 주소는 동일하게  가지고 있다."
      ],
      "metadata": {
        "colab": {
          "base_uri": "https://localhost:8080/"
        },
        "id": "BajKi1LTTu43",
        "outputId": "28f50e57-2cb4-4faa-dfe9-a09a104423fd"
      },
      "execution_count": 7,
      "outputs": [
        {
          "output_type": "stream",
          "name": "stdout",
          "text": [
            "133269716058640\n",
            "133269716058640\n"
          ]
        }
      ]
    },
    {
      "cell_type": "code",
      "source": [
        "# 허용\n",
        "'hello world'.upper()\\\n",
        "    .split()\\\n",
        "    .pop()\\\n",
        "    .lower()\n",
        "\n",
        "# 허용\n",
        "'hello world'.upper()    .split()    .pop()    .lower()\n",
        "\n",
        "# 허용하지 않음\n",
        "# 'hello world'.upper()\n",
        "#     .split()\n",
        "#     .pop()\n",
        "#     .lower()"
      ],
      "metadata": {
        "colab": {
          "base_uri": "https://localhost:8080/",
          "height": 35
        },
        "id": "Kgb-zuDETxnM",
        "outputId": "98308353-a0cd-4529-884d-e69a52a48585"
      },
      "execution_count": 8,
      "outputs": [
        {
          "output_type": "execute_result",
          "data": {
            "text/plain": [
              "'world'"
            ],
            "application/vnd.google.colaboratory.intrinsic+json": {
              "type": "string"
            }
          },
          "metadata": {},
          "execution_count": 8
        }
      ]
    },
    {
      "cell_type": "code",
      "source": [
        "# 가독성을 위한 print문 작성 추천법\n",
        "# 콤마를 찍지 않은 연결\n",
        "print('hello world '\n",
        "    'hello world')"
      ],
      "metadata": {
        "colab": {
          "base_uri": "https://localhost:8080/"
        },
        "id": "1tGujiFZLIiz",
        "outputId": "e893171a-ca40-4b48-cda0-5c3d5e1e42b6"
      },
      "execution_count": 2,
      "outputs": [
        {
          "output_type": "stream",
          "name": "stdout",
          "text": [
            "hello world hello world\n"
          ]
        }
      ]
    },
    {
      "cell_type": "code",
      "source": [
        "# 질문 : 메서드 체인으로 길어지면 어떻게 하나요?\n",
        "# 답 : 메서드 체인이든, 출력문이든 코드가 80자 이상 길어지면 이미 가독성에 문제가 있는 것.\n",
        "# 메서드 체이닝을 3개 이상 하는걸 권하지 않고, 코드도 길어지는걸 권하지 않음."
      ],
      "metadata": {
        "id": "61n-Krg3Lqlc"
      },
      "execution_count": null,
      "outputs": []
    },
    {
      "cell_type": "code",
      "source": [
        "# 문자열 메서드\n",
        "dir('hello world') # 메서드, 매직메서드, 클래스 변수, 인스턴스 변수 출력\n",
        "\n",
        "# 문제1: find와 index 차이\n",
        "'''\n",
        "find 은 문자열이 없으면 -1\n",
        "index 는 문자열이 없으면 error\n",
        "\n",
        "근데 파이썬에서 -1 은 True로 판단\n",
        "\n",
        "따라서 if 'hello'.find('hi'):   => hi라는 문자열이 없어서 -1을 반환하는데, 파이썬에서 -1은 True로 판단\n",
        "            print(\"찾았다\")\n",
        "\n",
        "해당 코드에서 True가 되므로 엄청난 문제가 되는 코드가 된다.\n",
        "'''\n",
        "\n",
        "# 문제2: isdigit의 정체\n",
        "# isdigit이 엄청 많이 사용됨 -> 문자열이 전부 숫자인지 판단\n",
        "'123'.isdigit()\n",
        "\n",
        "# 문제3: replace가 어디까지 변환하는지?\n",
        "# replace는 \"정규표현식이 안된다\"  -> 정규 표현식 사용은 re.sub\n",
        "'hello world hello world'.replace('hello', 'hi') # 모두 다 변환 됩니다. 몇개만 변환 되는것이 아니다.\n"
      ],
      "metadata": {
        "colab": {
          "base_uri": "https://localhost:8080/",
          "height": 35
        },
        "id": "xMN4hxhFMTUo",
        "outputId": "9385ec85-df8a-47ae-dacb-84b166973b69"
      },
      "execution_count": 4,
      "outputs": [
        {
          "output_type": "execute_result",
          "data": {
            "text/plain": [
              "'hi world hi world'"
            ],
            "application/vnd.google.colaboratory.intrinsic+json": {
              "type": "string"
            }
          },
          "metadata": {},
          "execution_count": 4
        }
      ]
    },
    {
      "cell_type": "code",
      "source": [
        "dir('hello world')\n",
        "\n",
        "# 문제4 : strip() -> 공백 제거\n",
        "# 문제5 : zfill() -> 앞에 0으로 채워주는 것(원하는 자릿수만큼, 시간이나 연도에 많이 사용)\n"
      ],
      "metadata": {
        "id": "0KtwlRsEO1l6"
      },
      "execution_count": null,
      "outputs": []
    },
    {
      "cell_type": "markdown",
      "source": [
        "# 1. 리스트"
      ],
      "metadata": {
        "id": "5Ld_nK2fFYz8"
      }
    },
    {
      "cell_type": "markdown",
      "source": [
        "* 변경이 가능한 자료형\n",
        "* 순서가 있는 자료형(시퀀스형 자료형 => 인덱싱과 슬라이싱 가능\n"
      ],
      "metadata": {
        "id": "L-BsNLAyFa-W"
      }
    },
    {
      "cell_type": "code",
      "execution_count": null,
      "metadata": {
        "id": "sHlO5Y0L7Fup"
      },
      "outputs": [],
      "source": [
        "l = [10, 20, 30]\n",
        "\n",
        "# 라인 수가 길어졌을 때에는 이렇게 사용하시길 권합니다.\n",
        "# 권고1\n",
        "l = [10,\n",
        "     20,\n",
        "     30]\n",
        "\n",
        "l = [\n",
        "     10,\n",
        "     20,\n",
        "     30\n",
        "]\n",
        "\n",
        "# 권고2\n",
        "l = [\n",
        "     10,\n",
        "     20,\n",
        "     30,\n",
        "]\n",
        "# 하지만 문제가 있다 -> 통신할 때에는 JSON이라는 형식을 사용하게 되는데\n",
        "# JSON은 마지막에 콤마를 허용하지 않는다.\n",
        "\n",
        "# 따라서 실무 파이썬만 사용한다면 괜찮은데, 통신이 필요한 곳에서는 마지막에 ,를 붙이면 안된다.\n",
        "\n",
        "\n",
        "# 문제가 있는 2번이 더 많이 사용되는 이유?\n",
        "# 실무에서는 콤마를 버전업을 인식하는 경우도 많고,\n",
        "# 콤마를 빼먹는 경우가 많습니다. 따라서 ,를 마지막에 사용\n",
        "# 편의성 : Ctrl + C , Ctrl + V 하기 편하다\n",
        "\n",
        "# 마지막에 누구는 콤마를 쓰고 누구는 콤마를 안쓰고 하면 협업하기 힘들다\n",
        "# 자동 변환 SW를 사용 (Python Black fomatter 사용 -> 띄어쓰기나 콤마등의 가독성을 지원해줌)"
      ]
    },
    {
      "cell_type": "code",
      "source": [
        "s = 'hello world'\n",
        "# s[0] = 'y' # 변경 불가 -> 문자열은 변경 불가\n",
        "\n",
        "# s.replace('h', 'y') # 원본은 변경되지 않음 -> 따라서 재할당을 해야함\n",
        "s = s.replace('h', 'y')\n",
        "\n",
        "print(s)"
      ],
      "metadata": {
        "colab": {
          "base_uri": "https://localhost:8080/"
        },
        "id": "3gARU4vzYOtr",
        "outputId": "2ba1f0fe-470c-4da5-d2d5-ec2b1e0432ea"
      },
      "execution_count": 12,
      "outputs": [
        {
          "output_type": "stream",
          "name": "stdout",
          "text": [
            "yello world\n"
          ]
        }
      ]
    },
    {
      "cell_type": "code",
      "source": [
        "l = [10, 20, 30]\n",
        "l[2] # 인덱싱\n",
        "\n",
        "l[2] = 1000\n",
        "\n",
        "print(l)"
      ],
      "metadata": {
        "colab": {
          "base_uri": "https://localhost:8080/"
        },
        "id": "YsQXA-vPY_Wg",
        "outputId": "e2f8e130-57cb-4264-e67e-2ae3227d5dc3"
      },
      "execution_count": 14,
      "outputs": [
        {
          "output_type": "stream",
          "name": "stdout",
          "text": [
            "[10, 20, 1000]\n"
          ]
        }
      ]
    },
    {
      "cell_type": "code",
      "source": [
        "l = [10, 20, 30, 40, 50]\n",
        "\n",
        "l[3:] # 슬라이싱\n",
        "l[-2:] # 마이너스 인덱싱, 마이너스 슬라이싱은 최종적으로 양수로 치환된다. => -2가 결국엔 최종적으로 양수로 치환되서 3으로 판단된다 즉 [-2:] -> [3:]으로 치환되서 실행\n",
        "\n",
        "# 변수명[stop]\n",
        "# 변수명[start:stop]\n",
        "# 변수명[start:stop:step]"
      ],
      "metadata": {
        "colab": {
          "base_uri": "https://localhost:8080/"
        },
        "id": "1PN77nM-ZjBi",
        "outputId": "640495be-768f-46ef-e22e-6d112195919c"
      },
      "execution_count": 16,
      "outputs": [
        {
          "output_type": "execute_result",
          "data": {
            "text/plain": [
              "[40, 50]"
            ]
          },
          "metadata": {},
          "execution_count": 16
        }
      ]
    },
    {
      "cell_type": "code",
      "source": [
        "type(l), dir(l)\n",
        "# type은 검색 키워드, GPT 질문 키워드가 될 수 있습니다.\n",
        "# dir은 대략적인 속성을 알 수 있습니다."
      ],
      "metadata": {
        "id": "2vkOg4HcZrjQ"
      },
      "execution_count": null,
      "outputs": []
    },
    {
      "cell_type": "code",
      "source": [
        "# __add__가 있으니 더하기는 어디까지 될까? => 테스트\n",
        "# __mul__가 있으니 곱하기는 어디까지 될까? => 테스트\n",
        "\n",
        "l = [10, 20, 30]\n",
        "\n",
        "# l + 100 # 서로 다른 타입의 덧셈은 불가\n",
        "l + [100, 200]\n",
        "\n",
        "l * 3 # 정수 곱하기 가능\n",
        "# 리스트 곱하기는 안된다.\n",
        "# l * [1, 2]"
      ],
      "metadata": {
        "colab": {
          "base_uri": "https://localhost:8080/"
        },
        "id": "e37LQKCRa2Q7",
        "outputId": "a23dab95-19d9-440a-cd31-b7b0716d76aa"
      },
      "execution_count": 20,
      "outputs": [
        {
          "output_type": "execute_result",
          "data": {
            "text/plain": [
              "[10, 20, 30, 10, 20, 30, 10, 20, 30]"
            ]
          },
          "metadata": {},
          "execution_count": 20
        }
      ]
    },
    {
      "cell_type": "code",
      "source": [
        "l = [1,2,3] * 3\n",
        "l[1] = 1000\n",
        "\n",
        "l"
      ],
      "metadata": {
        "colab": {
          "base_uri": "https://localhost:8080/"
        },
        "id": "WLp0UmI4bqIC",
        "outputId": "e3488355-fc61-4dae-8628-73f339f6f6d4"
      },
      "execution_count": 21,
      "outputs": [
        {
          "output_type": "execute_result",
          "data": {
            "text/plain": [
              "[1, 1000, 3, 1, 2, 3, 1, 2, 3]"
            ]
          },
          "metadata": {},
          "execution_count": 21
        }
      ]
    },
    {
      "cell_type": "code",
      "source": [
        "# 리스트 곱하기는 매우 주의해야한다.\n",
        "# 리스트의 곱하기는 같은 객체를 가리키게 되므로 값을 수정하면 해당 주소를 가리키고 있는 리스트 전부 변경된 값이 반영된다.\n",
        "# 같은 메모리를 가리키고 있기 때문.\n",
        "l = [[1,2,3] * 3] * 2\n",
        "l[1][0] = 1000 # 1,0의 값을 변경했는데 0,0의 값도 변경되서 보임\n",
        "\n",
        "l"
      ],
      "metadata": {
        "colab": {
          "base_uri": "https://localhost:8080/"
        },
        "id": "ciIeHl9HcP3e",
        "outputId": "4010009d-ae0f-4a41-fc43-115be421daa4"
      },
      "execution_count": 22,
      "outputs": [
        {
          "output_type": "execute_result",
          "data": {
            "text/plain": [
              "[[1000, 2, 3, 1, 2, 3, 1, 2, 3], [1000, 2, 3, 1, 2, 3, 1, 2, 3]]"
            ]
          },
          "metadata": {},
          "execution_count": 22
        }
      ]
    },
    {
      "cell_type": "code",
      "source": [
        "# 수학적인 용어 -> 암기 필요..\n",
        "x = 10 # 스칼라\n",
        "x = [10] # 벡터\n",
        "x = [10, 20] # 벡터\n",
        "x = [[10, 20], [10, 20]] # 메트릭스(행렬)\n",
        "x = [[[10, 20], [10, 20]]] # 텐서(3차원 이상 행렬)"
      ],
      "metadata": {
        "id": "zASE4-RScazk"
      },
      "execution_count": null,
      "outputs": []
    },
    {
      "cell_type": "code",
      "source": [
        "# 텐서플로? -> google에서 만든 딥러닝 라이브러리\n",
        "# 인공지능 => 행렬의 연산"
      ],
      "metadata": {
        "id": "PhfcAct1ekMQ"
      },
      "execution_count": null,
      "outputs": []
    },
    {
      "cell_type": "code",
      "source": [
        "x = [[1, 2], [3, 4], [5, 6]]\n",
        "\n",
        "x[1]        # 출력 [3, 4]\n",
        "x[1][1]     # 출력 4"
      ],
      "metadata": {
        "colab": {
          "base_uri": "https://localhost:8080/"
        },
        "id": "kRkKMDaKdu-9",
        "outputId": "4142e912-5f55-498a-f01e-52a65ebb5bf9"
      },
      "execution_count": 24,
      "outputs": [
        {
          "output_type": "execute_result",
          "data": {
            "text/plain": [
              "4"
            ]
          },
          "metadata": {},
          "execution_count": 24
        }
      ]
    },
    {
      "cell_type": "code",
      "source": [
        "x = [[1, 2], [3, 'hello world'], [5, 6]]\n",
        "\n",
        "print(x[1][1][-5:])\n",
        "print(x[1][1][6:])"
      ],
      "metadata": {
        "colab": {
          "base_uri": "https://localhost:8080/"
        },
        "id": "F2cZ81XfewtA",
        "outputId": "c097793e-6150-4b41-a91f-50d8283f0916"
      },
      "execution_count": 27,
      "outputs": [
        {
          "output_type": "stream",
          "name": "stdout",
          "text": [
            "world\n",
            "world\n"
          ]
        }
      ]
    },
    {
      "cell_type": "code",
      "source": [
        "x = 10\n",
        "\n",
        "# 두개의 출력은 다르다\n",
        "# print를 하는 것과 맨 마지막 출력하는 것은 다르다!\n",
        "print(x) # __str__\n",
        "x # __repr__           // 다른 출력함수"
      ],
      "metadata": {
        "id": "jR97OV5vfBMs"
      },
      "execution_count": null,
      "outputs": []
    },
    {
      "cell_type": "code",
      "source": [
        "l = [10, 20, 30]\n",
        "dir(l)\n",
        "\n",
        "# Shift + Tab => 내여쓰기\n",
        "\n",
        "'append',\n",
        "'clear',\n",
        "'copy',\n",
        "'count',\n",
        "'extend',\n",
        "'index',\n",
        "'insert',\n",
        "'pop',\n",
        "'remove',\n",
        "'reverse',\n",
        "'sort'"
      ],
      "metadata": {
        "colab": {
          "base_uri": "https://localhost:8080/",
          "height": 35
        },
        "id": "ONm0selwgO-z",
        "outputId": "c7ab499d-37c1-4a45-be82-9b9d3abca987"
      },
      "execution_count": 37,
      "outputs": [
        {
          "output_type": "execute_result",
          "data": {
            "text/plain": [
              "'sort'"
            ],
            "application/vnd.google.colaboratory.intrinsic+json": {
              "type": "string"
            }
          },
          "metadata": {},
          "execution_count": 37
        }
      ]
    },
    {
      "cell_type": "code",
      "source": [
        "# append : 마지막 인덱스에 값 추가\n",
        "l.append(100)\n",
        "l"
      ],
      "metadata": {
        "colab": {
          "base_uri": "https://localhost:8080/"
        },
        "id": "VcwSxLc7gQjS",
        "outputId": "45a92ccc-3b51-4b4f-dd16-0b6d66e03a13"
      },
      "execution_count": 38,
      "outputs": [
        {
          "output_type": "execute_result",
          "data": {
            "text/plain": [
              "[10, 20, 30, 100]"
            ]
          },
          "metadata": {},
          "execution_count": 38
        }
      ]
    },
    {
      "cell_type": "code",
      "source": [
        "# 첫번째 인덱스에 값 추가\n",
        "\n",
        "# 방법 1\n",
        "# l = [1000] + l\n",
        "\n",
        "# 방법 2\n",
        "# l = [1000] + l[:]\n",
        "\n",
        "# 방법 3\n",
        "l.insert(0, 1000)\n",
        "l"
      ],
      "metadata": {
        "colab": {
          "base_uri": "https://localhost:8080/"
        },
        "id": "CCTYgXRgguV7",
        "outputId": "03b54c03-40e6-42a2-8f97-380963f44f7f"
      },
      "execution_count": 39,
      "outputs": [
        {
          "output_type": "execute_result",
          "data": {
            "text/plain": [
              "[1000, 10, 20, 30, 100]"
            ]
          },
          "metadata": {},
          "execution_count": 39
        }
      ]
    },
    {
      "cell_type": "code",
      "source": [
        "# 마지막 값을 제거\n",
        "l = [10, 20, 30, 40]\n",
        "l.pop()\n",
        "l"
      ],
      "metadata": {
        "colab": {
          "base_uri": "https://localhost:8080/"
        },
        "id": "-Ax6xLyHhsEB",
        "outputId": "74068d25-10ef-4615-e5ed-17d123fefba4"
      },
      "execution_count": 40,
      "outputs": [
        {
          "output_type": "execute_result",
          "data": {
            "text/plain": [
              "[10, 20, 30]"
            ]
          },
          "metadata": {},
          "execution_count": 40
        }
      ]
    },
    {
      "cell_type": "code",
      "source": [
        "# 가장 앞의 값을 제거\n",
        "l = [10, 20, 30, 40]\n",
        "l.pop(0)\n",
        "l"
      ],
      "metadata": {
        "colab": {
          "base_uri": "https://localhost:8080/"
        },
        "id": "CFZ_HMAbkdNL",
        "outputId": "b725a590-26a3-4d84-e60c-6dcb0f696fd8"
      },
      "execution_count": 41,
      "outputs": [
        {
          "output_type": "execute_result",
          "data": {
            "text/plain": [
              "[20, 30, 40]"
            ]
          },
          "metadata": {},
          "execution_count": 41
        }
      ]
    },
    {
      "cell_type": "code",
      "source": [
        "# 특정 값의 인덱스 값을 찾음\n",
        "l = [10, 20, 30, 40]\n",
        "l.index(20)\n",
        "\n",
        "# l.index(100) -> 값이 없으므로 error\n",
        "\n",
        "# index는 찾는 값이 없으면 에러..\n",
        "# list는 find 함수가 없음\n",
        "# 이때 슬라이싱을 사용 => index가 벗어나도 에러가 나지 않는다.\n",
        "\n"
      ],
      "metadata": {
        "colab": {
          "base_uri": "https://localhost:8080/"
        },
        "id": "TFgomk1RkilC",
        "outputId": "fcec3999-6686-426a-e9f8-a63e1f2364e0"
      },
      "execution_count": 42,
      "outputs": [
        {
          "output_type": "execute_result",
          "data": {
            "text/plain": [
              "1"
            ]
          },
          "metadata": {},
          "execution_count": 42
        }
      ]
    },
    {
      "cell_type": "code",
      "source": [
        "# 리스트 요소 전부 제거\n",
        "l = [10, 20, 30, 40]\n",
        "l.clear()\n",
        "l"
      ],
      "metadata": {
        "colab": {
          "base_uri": "https://localhost:8080/"
        },
        "id": "-kjIMxfik_wE",
        "outputId": "c0ad291a-4cbc-40df-84c2-44404d3ca434"
      },
      "execution_count": 44,
      "outputs": [
        {
          "output_type": "execute_result",
          "data": {
            "text/plain": [
              "[]"
            ]
          },
          "metadata": {},
          "execution_count": 44
        }
      ]
    },
    {
      "cell_type": "code",
      "source": [
        "l = [10, 20, 30, 40]\n",
        "ll = l\n",
        "\n",
        "# l의 리스트의 객체 값을 ll도 동일하게 가리키게 된다. 따라서 l을 수정하면 ll의 값도 변경된다.\n",
        "l[0] = 1000\n",
        "ll\n",
        "\n",
        "# 같은 주소를 가리키고 있는것을 확인할 수 있고, 하나의 값이 변경되면 다른 리스트도 변경됨\n",
        "print(id(l), id(ll))"
      ],
      "metadata": {
        "colab": {
          "base_uri": "https://localhost:8080/"
        },
        "id": "zg0IzwzDlx3P",
        "outputId": "d5d1c6f3-b0aa-425f-c851-bc7e61699fbc"
      },
      "execution_count": 46,
      "outputs": [
        {
          "output_type": "stream",
          "name": "stdout",
          "text": [
            "133268446372224 133268446372224\n"
          ]
        }
      ]
    },
    {
      "cell_type": "code",
      "source": [
        "# copy를 통한 새로운 메모리 할당\n",
        "l = [10, 20, 30, 40]\n",
        "ll = l.copy() # copy 사용시 동일 객체를 가리키는게 아니라 해당 객체를 복제해 새로운 메모리에 할당한다.\n",
        "\n",
        "l[0] = 1000\n",
        "print(ll) # 따라서 l의 리스트 객체 값을 새로운 메모리에 할당했으므로 ll의 값은 변하지 않는다.\n",
        "print(id(l), id(ll))\n"
      ],
      "metadata": {
        "colab": {
          "base_uri": "https://localhost:8080/"
        },
        "id": "B99ZvrVemB85",
        "outputId": "4e9fd82f-a78e-4af4-c0bc-49f4b6a1b562"
      },
      "execution_count": 47,
      "outputs": [
        {
          "output_type": "stream",
          "name": "stdout",
          "text": [
            "[10, 20, 30, 40]\n",
            "133268445115328 133268445265792\n"
          ]
        }
      ]
    },
    {
      "cell_type": "code",
      "source": [
        "l = [10, 20, 30, 40]\n",
        "ll = l[:] # 슬라이싱을 통해 새로운 변수에 재할당\n",
        "\n",
        "l[0] = 1000\n",
        "print(ll) # 새로운 메모리에 할당했으므로 ll의 값은 변하지 않는다.\n",
        "print(id(l), id(ll))\n"
      ],
      "metadata": {
        "colab": {
          "base_uri": "https://localhost:8080/"
        },
        "id": "tMC1ahiumlCn",
        "outputId": "c59951d2-7ee5-4c7f-cef6-eb821f977b55"
      },
      "execution_count": 48,
      "outputs": [
        {
          "output_type": "stream",
          "name": "stdout",
          "text": [
            "[10, 20, 30, 40]\n",
            "133268445243968 133268445244032\n"
          ]
        }
      ]
    },
    {
      "cell_type": "code",
      "source": [
        "# count : 찾고자하는 해당 값의 개수를 출력한다.\n",
        "l = [1, 1, 1, 2, 2, 2, 3, 3]\n",
        "print(l.count(1)) # 1의 갯수를 출력"
      ],
      "metadata": {
        "colab": {
          "base_uri": "https://localhost:8080/"
        },
        "id": "QNO-LZmYm27B",
        "outputId": "d32c04ce-cb35-444f-9f85-4560ad89209a"
      },
      "execution_count": 51,
      "outputs": [
        {
          "output_type": "stream",
          "name": "stdout",
          "text": [
            "3\n"
          ]
        }
      ]
    },
    {
      "cell_type": "code",
      "source": [
        "'''\n",
        "# 참고 : https://codingdojang.com/scode/393\n",
        "1부터 10,000까지 8이라는 숫자가 총 몇번 나오는가?\n",
        "\n",
        "8이 포함되어 있는 숫자의 갯수를 카운팅 하는 것이 아니라 8이라는 숫자를 모두 카운팅 해야 한다.\n",
        "(※ 예를들어 8808은 3, 8888은 4로 카운팅 해야 함)\n",
        "'''\n",
        "\n",
        "# str(1부터_10000까지_리스트).count('8')\n",
        "count_8 = str(list(range(10001))).count('8')\n",
        "count_8"
      ],
      "metadata": {
        "colab": {
          "base_uri": "https://localhost:8080/"
        },
        "id": "3Y4BWdBKnF5E",
        "outputId": "970bbdd5-d67e-4b23-8073-641943ea5b35"
      },
      "execution_count": 53,
      "outputs": [
        {
          "output_type": "execute_result",
          "data": {
            "text/plain": [
              "4000"
            ]
          },
          "metadata": {},
          "execution_count": 53
        }
      ]
    },
    {
      "cell_type": "code",
      "source": [
        "# extend : 마지막 항목에 리스트를 추가\n",
        "\n",
        "# append는 마지막에 하나의 단어로 들어가지만 -> hello라는 문자열자체로 추가 -> 단일요소 하나 추가!\n",
        "# extend는 hello라는 문자열을 h,e,l,l,o 이런식으로 추가한다 -> 보통 리스트 형식으로 추가함 -> 여러 요소 개별 추가!\n",
        "\n",
        "l = [10, 20, 30, 40]\n",
        "l.extend([50, 60])\n",
        "\n",
        "l"
      ],
      "metadata": {
        "colab": {
          "base_uri": "https://localhost:8080/"
        },
        "id": "ki-oUkAQomkE",
        "outputId": "a55630ff-8db8-4e03-b86a-020519310924"
      },
      "execution_count": 54,
      "outputs": [
        {
          "output_type": "execute_result",
          "data": {
            "text/plain": [
              "[10, 20, 30, 40, 50, 60]"
            ]
          },
          "metadata": {},
          "execution_count": 54
        }
      ]
    },
    {
      "cell_type": "code",
      "source": [
        "# remove : 삭제하고 싶은 값이 리스트내 가장 첫번째 위치의 값의 요소를 삭제\n",
        "\n",
        "l= [1,1,1,1,2,2,3,3,3]\n",
        "\n",
        "l.remove(1) # 한가지 요소를 지울 때\n",
        "l"
      ],
      "metadata": {
        "colab": {
          "base_uri": "https://localhost:8080/"
        },
        "id": "AhzbyI0jpKWq",
        "outputId": "4a4b8399-b45f-4239-f117-48b5bbabb31a"
      },
      "execution_count": 56,
      "outputs": [
        {
          "output_type": "execute_result",
          "data": {
            "text/plain": [
              "[1, 1, 1, 2, 2, 3, 3, 3]"
            ]
          },
          "metadata": {},
          "execution_count": 56
        }
      ]
    },
    {
      "cell_type": "code",
      "source": [
        "# filter : 여러가지 요소를 삭제할 때 사용\n",
        "# 모든 요소를 filtering하고 싶을때에는 removerk 아니라 filter를 사용한다\n",
        "\n",
        "def f(x):\n",
        "    return x != 1\n",
        "\n",
        "l= [1,1,1,1,2,2,3,3,3]\n",
        "\n",
        "list(filter(f, l))"
      ],
      "metadata": {
        "colab": {
          "base_uri": "https://localhost:8080/"
        },
        "id": "cwRREEfXp3U8",
        "outputId": "7895be01-c822-4e9b-f5dc-d1129ca1790c"
      },
      "execution_count": 57,
      "outputs": [
        {
          "output_type": "execute_result",
          "data": {
            "text/plain": [
              "[2, 2, 3, 3, 3]"
            ]
          },
          "metadata": {},
          "execution_count": 57
        }
      ]
    },
    {
      "cell_type": "code",
      "source": [
        "# reverse : 역순 -> 단순히 뒤에서 부터 출력하는것\n",
        "# 즉 역정렬이 아니고 거꾸로 출력하는 것, 요소 값 크기별로 정렬되는게 아니다.\n",
        "\n",
        "l = [10, 20, 93, 30, 40]\n",
        "l.reverse()\n",
        "l"
      ],
      "metadata": {
        "colab": {
          "base_uri": "https://localhost:8080/"
        },
        "id": "UE9hDQY-qjAl",
        "outputId": "abe6ce88-b32f-470d-d339-e29af7add84a"
      },
      "execution_count": 62,
      "outputs": [
        {
          "output_type": "execute_result",
          "data": {
            "text/plain": [
              "[40, 30, 93, 20, 10]"
            ]
          },
          "metadata": {},
          "execution_count": 62
        }
      ]
    },
    {
      "cell_type": "code",
      "source": [
        "# sort() : 정렬 -> 원본을 바꾸는 정렬\n",
        "\n",
        "l = [10, 20, 93, 30, 40]\n",
        "l.sort()\n",
        "l"
      ],
      "metadata": {
        "colab": {
          "base_uri": "https://localhost:8080/"
        },
        "id": "oaea49fkq7YP",
        "outputId": "f23d812d-2dcc-46ec-ee2b-4845f5d332b9"
      },
      "execution_count": 64,
      "outputs": [
        {
          "output_type": "execute_result",
          "data": {
            "text/plain": [
              "[10, 20, 30, 40, 93]"
            ]
          },
          "metadata": {},
          "execution_count": 64
        }
      ]
    },
    {
      "cell_type": "code",
      "source": [
        "# 역정렬\n",
        "l = [10, 20, 93, 30, 40]\n",
        "l.sort()\n",
        "l.reverse()\n",
        "l"
      ],
      "metadata": {
        "colab": {
          "base_uri": "https://localhost:8080/"
        },
        "id": "cSzlDekasxRL",
        "outputId": "da73ba73-e3dd-4a0b-d83b-dd070744d8a8"
      },
      "execution_count": 65,
      "outputs": [
        {
          "output_type": "execute_result",
          "data": {
            "text/plain": [
              "[93, 40, 30, 20, 10]"
            ]
          },
          "metadata": {},
          "execution_count": 65
        }
      ]
    },
    {
      "cell_type": "code",
      "source": [
        "# 국어 점수가 높은 순으로 정렬 / sorted 함수 사용\n",
        "\n",
        "# 국, 영, 수, 이름\n",
        "s = [[100, 87, 91, '이호준'], [56, 38, 89, '이준호'], [33, 86, 100, '홍길동']]\n",
        "\n",
        "def f(x):\n",
        "    return x[0] # 국어 점수로만 정렬하겠다\n",
        "\n",
        "sorted(s, key = f) # 국어점수 낮은 순으로 정렬\n",
        "sorted(s, key = f, reverse = True) # 역순으로 출력"
      ],
      "metadata": {
        "colab": {
          "base_uri": "https://localhost:8080/"
        },
        "id": "y9JS6kVDs4tb",
        "outputId": "17be5e6f-196e-4fd0-ea34-014240f081f8"
      },
      "execution_count": 67,
      "outputs": [
        {
          "output_type": "execute_result",
          "data": {
            "text/plain": [
              "[[100, 87, 91, '이호준'], [56, 38, 89, '이준호'], [33, 86, 100, '홍길동']]"
            ]
          },
          "metadata": {},
          "execution_count": 67
        }
      ]
    },
    {
      "cell_type": "code",
      "source": [
        "# 이름순 정렬\n",
        "s = [[100, 87, 91, '이호준'], [56, 38, 89, '이준호'], [33, 86, 100, '홍길동']]\n",
        "\n",
        "def f(x):\n",
        "    return x[3] #  이름순으로 정렬하겠다\n",
        "\n",
        "sorted(s, key = f)"
      ],
      "metadata": {
        "colab": {
          "base_uri": "https://localhost:8080/"
        },
        "id": "GMZWMc_Mu3-N",
        "outputId": "134c51a6-8f5c-4eb4-cf0b-d53aab363c05"
      },
      "execution_count": 68,
      "outputs": [
        {
          "output_type": "execute_result",
          "data": {
            "text/plain": [
              "[[56, 38, 89, '이준호'], [100, 87, 91, '이호준'], [33, 86, 100, '홍길동']]"
            ]
          },
          "metadata": {},
          "execution_count": 68
        }
      ]
    },
    {
      "cell_type": "code",
      "source": [
        "# 평균점수가 높은 순 정렬\n",
        "s = [[100, 87, 91, '이호준'], [56, 38, 89, '이준호'], [33, 86, 100, '홍길동']]\n",
        "\n",
        "def f(x):\n",
        "    return (x[0] + x[1] + x[2]) #  평균점수 -> 나누기 3 할 필요도 없다(어차피 세개의 점수가 높은 사람이 평균점수가 높으므로 -> /3 자체도 시간..)\n",
        "\n",
        "sorted(s, key = f, reverse = True)"
      ],
      "metadata": {
        "colab": {
          "base_uri": "https://localhost:8080/"
        },
        "id": "FgdyFuK7vJQV",
        "outputId": "ffbe9763-c4f2-4c5b-c78d-a04bce0ef73f"
      },
      "execution_count": 70,
      "outputs": [
        {
          "output_type": "execute_result",
          "data": {
            "text/plain": [
              "[[100, 87, 91, '이호준'], [33, 86, 100, '홍길동'], [56, 38, 89, '이준호']]"
            ]
          },
          "metadata": {},
          "execution_count": 70
        }
      ]
    },
    {
      "cell_type": "markdown",
      "source": [
        "# 2. 튜플\n",
        "\n",
        "* 순서가 있는 자료형(인덱싱, 슬라이싱)\n",
        "* 참조 변경 불가입니다.(값이 변경이 불가하다고 얘기하면 틀린 얘기.)"
      ],
      "metadata": {
        "id": "A3SIP0NuAT2z"
      }
    },
    {
      "cell_type": "code",
      "source": [
        "t = (10, 20 ,30) # 소괄호 사용\n",
        "\n",
        "t[0] # 인덱싱\n",
        "t[1:] # 슬라이싱\n",
        "\n",
        "# t[0] = 100 # 변경 불가"
      ],
      "metadata": {
        "id": "-hwQA_S6vbB9"
      },
      "execution_count": 71,
      "outputs": []
    },
    {
      "cell_type": "code",
      "source": [
        "# 1번 왜 이런 자료형이 필요한가\n",
        "# >> 권한과 변경불가(시큐어 코딩), 형태 고정인 자료형으로 사용을 위함\n",
        "\n",
        "# 2번 변경이 불가능한데 왜 '값이 변경이 불가하다고 얘기하면 틀린 얘기' 라고 했는가\n",
        "# >> 참조된 값이 변경 가능한 값일 땐 변경이 가능하다\n",
        "a = [1,2,3]\n",
        "b = (a, 10, 20)\n",
        "print(b)\n",
        "a[0] = 100\n",
        "print(b)\n"
      ],
      "metadata": {
        "colab": {
          "base_uri": "https://localhost:8080/"
        },
        "id": "OzNOPrXdCue8",
        "outputId": "7f40cf81-e01d-4e8b-d65a-53cc5dae710b"
      },
      "execution_count": 73,
      "outputs": [
        {
          "output_type": "stream",
          "name": "stdout",
          "text": [
            "([1, 2, 3], 10, 20)\n",
            "([100, 2, 3], 10, 20)\n"
          ]
        }
      ]
    },
    {
      "cell_type": "code",
      "source": [
        "# count : 특정 값의 개수 출력\n",
        "# index : 특정 값의 인덱스 반환\n",
        "t = (10, 20, 30)\n",
        "\n",
        "print(t.count(10))\n",
        "print(t.index(10))\n",
        "\n",
        "tt = tuple([1,2,3]) # 튜플로 형변환\n",
        "print(tt)"
      ],
      "metadata": {
        "colab": {
          "base_uri": "https://localhost:8080/"
        },
        "id": "Wi5OEvHJFdLU",
        "outputId": "799feaa1-836a-4dd1-a3b1-8d94bc759599"
      },
      "execution_count": 76,
      "outputs": [
        {
          "output_type": "stream",
          "name": "stdout",
          "text": [
            "1\n",
            "0\n",
            "(1, 2, 3)\n"
          ]
        }
      ]
    },
    {
      "cell_type": "code",
      "source": [
        "# tuple(순회가능한 객체)\n",
        "# list(순회가능한 객체)"
      ],
      "metadata": {
        "id": "r_nXA1C1GWF9"
      },
      "execution_count": null,
      "outputs": []
    },
    {
      "cell_type": "markdown",
      "source": [
        "# 3. 딕셔너리\n",
        "\n",
        "* 3.6 버전 미만은 순서가 없는 자료형\n",
        "* 3.6 버전 이상은 순서가 보장되는 자료형\n",
        "* 실무에서는 Python 버전은 생각보다 낮습니다. 이점을 주의..!\n",
        "* 'key: value' 쌍으로 이루어져 있습니다.\n",
        "* 딕셔너리 데이터 검색은 매우 빠르다.\n",
        "* 딕셔너리 사용은 주의를 요함. 딕셔너리는 key가 없는 것을 호출하면 error!\n"
      ],
      "metadata": {
        "id": "CRh2Q25LGAHq"
      }
    },
    {
      "cell_type": "code",
      "source": [
        "# 인덱싱과 슬라이싱 불가\n",
        "\n",
        "d = {'one': '하나', 'two': '둘'}\n",
        "d['one'] # key 값을 사용하여 value를 출력\n",
        "\n",
        "\n",
        "# d['three'] # error!"
      ],
      "metadata": {
        "colab": {
          "base_uri": "https://localhost:8080/",
          "height": 35
        },
        "id": "eRDZr3HAF6FF",
        "outputId": "035a3257-888a-4d48-9ef9-25aec09e031c"
      },
      "execution_count": 77,
      "outputs": [
        {
          "output_type": "execute_result",
          "data": {
            "text/plain": [
              "'하나'"
            ],
            "application/vnd.google.colaboratory.intrinsic+json": {
              "type": "string"
            }
          },
          "metadata": {},
          "execution_count": 77
        }
      ]
    },
    {
      "cell_type": "code",
      "source": [
        "d.get('three') # get 메서드를 사용하길 권함 -> 없는 key값을 호출해도 error가 출력되지 않음"
      ],
      "metadata": {
        "id": "pIVclfRPIH4J"
      },
      "execution_count": 78,
      "outputs": []
    },
    {
      "cell_type": "code",
      "source": [
        "d.get('three', '없는 값입니다.') # default 값 설정 : 없는 키값일 경우 출력"
      ],
      "metadata": {
        "colab": {
          "base_uri": "https://localhost:8080/",
          "height": 35
        },
        "id": "yUNbBlgsIijh",
        "outputId": "a9e41bd2-6cf7-438d-a88b-746779d8c0f5"
      },
      "execution_count": 79,
      "outputs": [
        {
          "output_type": "execute_result",
          "data": {
            "text/plain": [
              "'없는 값입니다.'"
            ],
            "application/vnd.google.colaboratory.intrinsic+json": {
              "type": "string"
            }
          },
          "metadata": {},
          "execution_count": 79
        }
      ]
    },
    {
      "cell_type": "code",
      "source": [
        "# 딕셔너리 예시 / get 사용 방법\n",
        "\n",
        "def f(x):\n",
        "    return {\n",
        "        0: '일요일', # 값에 함수를 많이 넣어서 사용함 -> 파이썬에는 swich문이 없기 때문에 이런식으로 swich문처럼 사용한다.\n",
        "        1: '월요일',\n",
        "        2: '화요일',\n",
        "        3: '수요일',\n",
        "        4: '목요일',\n",
        "        5: '금요일',\n",
        "        6: '토요일',\n",
        "    }.get(x, '요일 없음')\n",
        "\n",
        "f(3)"
      ],
      "metadata": {
        "colab": {
          "base_uri": "https://localhost:8080/",
          "height": 35
        },
        "id": "TJgwcUZVIpyk",
        "outputId": "a31ee960-a49b-4611-9d4f-e3691aaf6eb2"
      },
      "execution_count": 80,
      "outputs": [
        {
          "output_type": "execute_result",
          "data": {
            "text/plain": [
              "'수요일'"
            ],
            "application/vnd.google.colaboratory.intrinsic+json": {
              "type": "string"
            }
          },
          "metadata": {},
          "execution_count": 80
        }
      ]
    },
    {
      "cell_type": "code",
      "source": [
        "x = 3\n",
        "\n",
        "y = {\n",
        "    0: '일요일',\n",
        "    1: '월요일',\n",
        "    2: '화요일',\n",
        "    3: '수요일',\n",
        "    4: '목요일',\n",
        "    5: '금요일',\n",
        "    6: '토요일',\n",
        "}\n",
        "\n",
        "y.get(x, '요일 없음')"
      ],
      "metadata": {
        "colab": {
          "base_uri": "https://localhost:8080/",
          "height": 35
        },
        "id": "jA2U-GsmJIec",
        "outputId": "41f1e03d-e83f-4502-a7e5-8c293f42f0da"
      },
      "execution_count": 82,
      "outputs": [
        {
          "output_type": "execute_result",
          "data": {
            "text/plain": [
              "'수요일'"
            ],
            "application/vnd.google.colaboratory.intrinsic+json": {
              "type": "string"
            }
          },
          "metadata": {},
          "execution_count": 82
        }
      ]
    },
    {
      "cell_type": "code",
      "source": [
        "d = {'one': '하나', 'two': '둘'}\n",
        "dd = d # 이렇게 하면 dd와 d는 같은 오브젝트를 가리키고 있다\n",
        "\n",
        "print(id(d), id(dd))\n",
        "\n",
        "d['one'] = 'python' # 값 수정\n",
        "d['two'] = 'html' # 값 수정\n",
        "\n",
        "print(dd) # dd도 동일하게 수정됨"
      ],
      "metadata": {
        "colab": {
          "base_uri": "https://localhost:8080/"
        },
        "id": "AWegerpQJYKL",
        "outputId": "4e42974d-6609-43af-c324-bc44c0fe1dc5"
      },
      "execution_count": 87,
      "outputs": [
        {
          "output_type": "stream",
          "name": "stdout",
          "text": [
            "133268445224320 133268445224320\n",
            "{'one': 'python', 'two': 'html'}\n"
          ]
        }
      ]
    },
    {
      "cell_type": "code",
      "source": [
        "# copy()\n",
        "\n",
        "d = {'one': '하나', 'two': '둘'}\n",
        "dd = d.copy() # copy를 사용하면 다른 오브젝트를 가리킨다.\n",
        "\n",
        "print(id(d), id(dd))\n",
        "\n",
        "d['one'] = 'python' # 값 수정\n",
        "d['two'] = 'html' # 값 수정\n",
        "\n",
        "print(d)\n",
        "print(dd) # dd는 수정x"
      ],
      "metadata": {
        "colab": {
          "base_uri": "https://localhost:8080/"
        },
        "id": "qwrp9gpANlqo",
        "outputId": "ce6dd0e6-69af-4fea-f254-fa5cca43d9bf"
      },
      "execution_count": 89,
      "outputs": [
        {
          "output_type": "stream",
          "name": "stdout",
          "text": [
            "133268445230272 133268445219584\n",
            "{'one': 'python', 'two': 'html'}\n",
            "{'one': '하나', 'two': '둘'}\n"
          ]
        }
      ]
    },
    {
      "cell_type": "code",
      "source": [
        "# fromkeys\n",
        "\n",
        "d = ('one', 'two', 'three')\n",
        "print(dict.fromkeys(d)) # 튜플의 값으로 키를 만들고 값은 None\n",
        "print(dict.fromkeys(d, 'hello')) # 튜플의 값으로 키를 만들고 값은 hello"
      ],
      "metadata": {
        "colab": {
          "base_uri": "https://localhost:8080/"
        },
        "id": "5G9XQsWON7Nv",
        "outputId": "b5ef0fc0-9f6a-4443-e1aa-1f67dc2f5d44"
      },
      "execution_count": 91,
      "outputs": [
        {
          "output_type": "stream",
          "name": "stdout",
          "text": [
            "{'one': None, 'two': None, 'three': None}\n",
            "{'one': 'hello', 'two': 'hello', 'three': 'hello'}\n"
          ]
        }
      ]
    },
    {
      "cell_type": "code",
      "source": [
        "# get() -> 자주사용\n",
        "\n",
        "d = {'one': '하나', 'two': '둘'}\n",
        "print(d.get('one'))\n",
        "print(d.get('three', '값 없음'))"
      ],
      "metadata": {
        "colab": {
          "base_uri": "https://localhost:8080/"
        },
        "id": "9HoHWmLdOV7g",
        "outputId": "a6950459-66e0-4959-e747-33e5a098b9f9"
      },
      "execution_count": 93,
      "outputs": [
        {
          "output_type": "stream",
          "name": "stdout",
          "text": [
            "하나\n",
            "값 없음\n"
          ]
        }
      ]
    },
    {
      "cell_type": "code",
      "source": [
        "# items()\n",
        "\n",
        "d = {'one': '하나', 'two': '둘'}\n",
        "d.items() # 새로운 타입을 반환 -> dict_items 타입의 자료형을 만든다."
      ],
      "metadata": {
        "colab": {
          "base_uri": "https://localhost:8080/"
        },
        "id": "yNJpzjM2Omah",
        "outputId": "2570a9aa-3bea-4138-df98-db225443e5bf"
      },
      "execution_count": 94,
      "outputs": [
        {
          "output_type": "execute_result",
          "data": {
            "text/plain": [
              "dict_items([('one', '하나'), ('two', '둘')])"
            ]
          },
          "metadata": {},
          "execution_count": 94
        }
      ]
    },
    {
      "cell_type": "code",
      "source": [
        "a, b = d.items() # 언패킹\n",
        "print(a)\n",
        "print(b)"
      ],
      "metadata": {
        "colab": {
          "base_uri": "https://localhost:8080/"
        },
        "id": "O-3ShFwqOqMT",
        "outputId": "5255cc31-71c7-4d28-fc17-d730c2bfcb9b"
      },
      "execution_count": 97,
      "outputs": [
        {
          "output_type": "stream",
          "name": "stdout",
          "text": [
            "('one', '하나')\n",
            "('two', '둘')\n"
          ]
        }
      ]
    },
    {
      "cell_type": "code",
      "source": [
        "for i, j in d.items():\n",
        "    print(i, j)"
      ],
      "metadata": {
        "colab": {
          "base_uri": "https://localhost:8080/"
        },
        "id": "qMN-JHqjPVjy",
        "outputId": "4980297a-700d-45b1-d46c-3f77f145daf1"
      },
      "execution_count": 98,
      "outputs": [
        {
          "output_type": "stream",
          "name": "stdout",
          "text": [
            "one 하나\n",
            "two 둘\n"
          ]
        }
      ]
    },
    {
      "cell_type": "code",
      "source": [
        "print(d.keys()) # key를 출력\n",
        "print(d.values()) # value를 출력"
      ],
      "metadata": {
        "colab": {
          "base_uri": "https://localhost:8080/"
        },
        "id": "4lBc2oQoPyXy",
        "outputId": "d7648f83-5d18-417b-faa5-14031378b37c"
      },
      "execution_count": 99,
      "outputs": [
        {
          "output_type": "stream",
          "name": "stdout",
          "text": [
            "dict_keys(['one', 'two'])\n",
            "dict_values(['하나', '둘'])\n"
          ]
        }
      ]
    },
    {
      "cell_type": "code",
      "source": [
        "# setdefault\n",
        "\n",
        "# three라는 키의 값을 호출하고 싶은데 없으면 삽입하고 싶다.\n",
        "d = {'one': '하나', 'two': '둘'}\n",
        "\n",
        "d.setdefault('one')\n",
        "d.setdefault('three') # 없는 값을 호출하면 해당 값을 생성한다. -> value : None\n",
        "d.setdefault('four', 4) # 해당 key가 있으면 그 값을 출력하고 없다면 해당 값을 d에 삽입하고 해당 값을 출력\n",
        "d"
      ],
      "metadata": {
        "colab": {
          "base_uri": "https://localhost:8080/"
        },
        "id": "cJHWLTNjP9s1",
        "outputId": "c16570b8-48ad-4d3a-adbf-b641301a477f"
      },
      "execution_count": 101,
      "outputs": [
        {
          "output_type": "execute_result",
          "data": {
            "text/plain": [
              "{'one': '하나', 'two': '둘', 'three': None, 'four': 4}"
            ]
          },
          "metadata": {},
          "execution_count": 101
        }
      ]
    },
    {
      "cell_type": "code",
      "source": [
        "# pop()\n",
        "\n",
        "d = {'one': '하나', 'two': '둘'}\n",
        "\n",
        "d.pop('one') # key 값을 넣어야한다.\n",
        "d"
      ],
      "metadata": {
        "colab": {
          "base_uri": "https://localhost:8080/"
        },
        "id": "NcU7goX9QYQ4",
        "outputId": "9d67a731-6e37-47e6-8b83-fc6d7a7a85cd"
      },
      "execution_count": 102,
      "outputs": [
        {
          "output_type": "execute_result",
          "data": {
            "text/plain": [
              "{'two': '둘'}"
            ]
          },
          "metadata": {},
          "execution_count": 102
        }
      ]
    },
    {
      "cell_type": "code",
      "source": [
        "# 마지막 항목을 지우고 싶을때?\n",
        "d = {'one': '하나', 'two': '둘'}\n",
        "\n",
        "d.pop() # error\n",
        "d.pop('three') # error\n",
        "d"
      ],
      "metadata": {
        "colab": {
          "base_uri": "https://localhost:8080/",
          "height": 256
        },
        "id": "rCPBoy-PQ6wH",
        "outputId": "110ab770-c3f2-4394-a3eb-1defc9ca90ee"
      },
      "execution_count": 103,
      "outputs": [
        {
          "output_type": "error",
          "ename": "TypeError",
          "evalue": "pop expected at least 1 argument, got 0",
          "traceback": [
            "\u001b[0;31m---------------------------------------------------------------------------\u001b[0m",
            "\u001b[0;31mTypeError\u001b[0m                                 Traceback (most recent call last)",
            "\u001b[0;32m<ipython-input-103-60fcc8b100b3>\u001b[0m in \u001b[0;36m<cell line: 3>\u001b[0;34m()\u001b[0m\n\u001b[1;32m      1\u001b[0m \u001b[0md\u001b[0m \u001b[0;34m=\u001b[0m \u001b[0;34m{\u001b[0m\u001b[0;34m'one'\u001b[0m\u001b[0;34m:\u001b[0m \u001b[0;34m'하나'\u001b[0m\u001b[0;34m,\u001b[0m \u001b[0;34m'two'\u001b[0m\u001b[0;34m:\u001b[0m \u001b[0;34m'둘'\u001b[0m\u001b[0;34m}\u001b[0m\u001b[0;34m\u001b[0m\u001b[0;34m\u001b[0m\u001b[0m\n\u001b[1;32m      2\u001b[0m \u001b[0;34m\u001b[0m\u001b[0m\n\u001b[0;32m----> 3\u001b[0;31m \u001b[0md\u001b[0m\u001b[0;34m.\u001b[0m\u001b[0mpop\u001b[0m\u001b[0;34m(\u001b[0m\u001b[0;34m)\u001b[0m \u001b[0;31m# error\u001b[0m\u001b[0;34m\u001b[0m\u001b[0;34m\u001b[0m\u001b[0m\n\u001b[0m\u001b[1;32m      4\u001b[0m \u001b[0md\u001b[0m\u001b[0;34m.\u001b[0m\u001b[0mpop\u001b[0m\u001b[0;34m(\u001b[0m\u001b[0;34m'three'\u001b[0m\u001b[0;34m)\u001b[0m \u001b[0;31m# error\u001b[0m\u001b[0;34m\u001b[0m\u001b[0;34m\u001b[0m\u001b[0m\n\u001b[1;32m      5\u001b[0m \u001b[0md\u001b[0m\u001b[0;34m\u001b[0m\u001b[0;34m\u001b[0m\u001b[0m\n",
            "\u001b[0;31mTypeError\u001b[0m: pop expected at least 1 argument, got 0"
          ]
        }
      ]
    },
    {
      "cell_type": "code",
      "source": [
        "# popitem : 마지막 항목을 삭제?\n",
        "d = {'one': '하나', 'two': '둘'}\n",
        "\n",
        "d.popitem()"
      ],
      "metadata": {
        "colab": {
          "base_uri": "https://localhost:8080/"
        },
        "id": "WcgxQW3iRK3o",
        "outputId": "2571a18f-ea54-410c-d7ea-543d6fbeb2a0"
      },
      "execution_count": 106,
      "outputs": [
        {
          "output_type": "execute_result",
          "data": {
            "text/plain": [
              "('two', '둘')"
            ]
          },
          "metadata": {},
          "execution_count": 106
        }
      ]
    },
    {
      "cell_type": "code",
      "source": [
        "d = {'one': '하나', 'two': '둘'}\n",
        "d.update({'one': 'python', 'three': 'hello'}) # one은 수정이 되었고, three는 생성이 된다.\n",
        "d"
      ],
      "metadata": {
        "colab": {
          "base_uri": "https://localhost:8080/"
        },
        "id": "ls2i7uJWRX8-",
        "outputId": "da0fdc89-9a06-4200-93f5-1b45d4b19ed4"
      },
      "execution_count": 107,
      "outputs": [
        {
          "output_type": "execute_result",
          "data": {
            "text/plain": [
              "{'one': 'python', 'two': '둘', 'three': 'hello'}"
            ]
          },
          "metadata": {},
          "execution_count": 107
        }
      ]
    },
    {
      "cell_type": "code",
      "source": [
        "# 신규문법(3.9 버전)\n",
        "\n",
        "d = {'one': '하나', 'two': '둘'}\n",
        "dd = {'three': '셋'}\n",
        "\n",
        "# d + dd를 제공\n",
        "d | dd # d 딕서너리와 dd 딕서너리를 더함"
      ],
      "metadata": {
        "colab": {
          "base_uri": "https://localhost:8080/"
        },
        "id": "JJeaAGDrRnWs",
        "outputId": "e9184a27-2c89-4659-f750-854aa923860c"
      },
      "execution_count": 108,
      "outputs": [
        {
          "output_type": "execute_result",
          "data": {
            "text/plain": [
              "{'one': '하나', 'two': '둘', 'three': '셋'}"
            ]
          },
          "metadata": {},
          "execution_count": 108
        }
      ]
    },
    {
      "cell_type": "code",
      "source": [
        "d = {'one': '하나', 'two': '둘'}\n",
        "dd = {'one': 'python', 'three': 'hello'}\n",
        "\n",
        "d | dd"
      ],
      "metadata": {
        "colab": {
          "base_uri": "https://localhost:8080/"
        },
        "id": "k68RsClQR_zU",
        "outputId": "920e38ce-dc72-473b-adc0-5d35ecab57de"
      },
      "execution_count": 109,
      "outputs": [
        {
          "output_type": "execute_result",
          "data": {
            "text/plain": [
              "{'one': 'python', 'two': '둘', 'three': 'hello'}"
            ]
          },
          "metadata": {},
          "execution_count": 109
        }
      ]
    },
    {
      "cell_type": "markdown",
      "source": [
        "# 4. 셋\n",
        "\n",
        "* 중복을 허락하지 않는 자료형\n",
        "* 순서가 없는 자료형\n",
        "* 집합(합집합, 차집합, 교집합)"
      ],
      "metadata": {
        "id": "PKClPkNxSW3o"
      }
    },
    {
      "cell_type": "code",
      "source": [
        "s = {1,2,3,4,5}\n",
        "ss = {3,4,5,6,7}\n",
        "\n",
        "# s + ss # error\n",
        "\n",
        "# 합집합 출력\n",
        "print(s | ss)\n",
        "\n",
        "# 차집합 출력\n",
        "print(s - ss)\n",
        "\n",
        "# 교집합 출력\n",
        "print(s & ss)"
      ],
      "metadata": {
        "colab": {
          "base_uri": "https://localhost:8080/"
        },
        "id": "yGiS3jPcSTVt",
        "outputId": "e8f74a16-84d2-4ee7-b6a9-5a546a78ddd1"
      },
      "execution_count": 111,
      "outputs": [
        {
          "output_type": "stream",
          "name": "stdout",
          "text": [
            "{1, 2, 3, 4, 5, 6, 7}\n",
            "{1, 2}\n",
            "{3, 4, 5}\n"
          ]
        }
      ]
    },
    {
      "cell_type": "code",
      "source": [
        "# add() : 추가\n",
        "\n",
        "s = {1,2,3,4,5}\n",
        "s.add(10)\n",
        "s"
      ],
      "metadata": {
        "colab": {
          "base_uri": "https://localhost:8080/"
        },
        "id": "MOT7xdOFTUMu",
        "outputId": "0ad0e5af-39b0-4a7a-86c8-bd16c7e3f4fc"
      },
      "execution_count": 112,
      "outputs": [
        {
          "output_type": "execute_result",
          "data": {
            "text/plain": [
              "{1, 2, 3, 4, 5, 10}"
            ]
          },
          "metadata": {},
          "execution_count": 112
        }
      ]
    },
    {
      "cell_type": "code",
      "source": [
        "# pop() 랜덤한 값을 반환 -> 별로 사용x"
      ],
      "metadata": {
        "id": "kYe5zxkqTtoN"
      },
      "execution_count": 113,
      "outputs": []
    },
    {
      "cell_type": "code",
      "source": [
        "s = {1,2,3,4,5}\n",
        "ss = {3,4,5,6,7}\n",
        "\n",
        "# 차집합\n",
        "print(s.difference(ss))\n",
        "\n",
        "# 교집합\n",
        "print(s.intersection(ss))\n",
        "\n",
        "# 합집합\n",
        "print(s.union(ss))"
      ],
      "metadata": {
        "colab": {
          "base_uri": "https://localhost:8080/"
        },
        "id": "qyfF18L_UOwi",
        "outputId": "05040713-2cd2-4858-ec98-b5ba156eaa28"
      },
      "execution_count": 114,
      "outputs": [
        {
          "output_type": "stream",
          "name": "stdout",
          "text": [
            "{1, 2}\n",
            "{3, 4, 5}\n",
            "{1, 2, 3, 4, 5, 6, 7}\n"
          ]
        }
      ]
    },
    {
      "cell_type": "code",
      "source": [
        "# '123123123' 중복을 제거하고 싶다면\n",
        "\n",
        "print(set('123123123')) # set으로 형변환\n",
        "\n",
        "# 중복을 제거한 값의 합  =>  중복을 제거한 값을 더하는 용도로 아래와 같은 코드를 사용\n",
        "print(sum(map(int, set('123123123')))) # 중복을 제거 후에 정수로 변환한 후 합산\n",
        "\n",
        "\n",
        "# map(int, set('123123123'))\n",
        "# {'1', '2', '3'} => {1, 2, 3}"
      ],
      "metadata": {
        "colab": {
          "base_uri": "https://localhost:8080/"
        },
        "id": "6HCCGvGtUe7-",
        "outputId": "600275c1-7802-4f53-c6b8-1d70b2f7aa62"
      },
      "execution_count": 117,
      "outputs": [
        {
          "output_type": "stream",
          "name": "stdout",
          "text": [
            "{'1', '2', '3'}\n",
            "6\n"
          ]
        }
      ]
    },
    {
      "cell_type": "code",
      "source": [
        "# sum(10, 20, 30) # error\n",
        "# sum([10, 20], [10, 20], [10, 20]) # error\n",
        "\n",
        "# sum(순회가능한 객체, 초깃값) 이렇게 작성해야한다.\n",
        "sum([10, 20, 30], 100) # 초기값이 100으로 100에다가 10,20,30을 더하겠다라는 뜻"
      ],
      "metadata": {
        "colab": {
          "base_uri": "https://localhost:8080/"
        },
        "id": "PGYmKp3qU8P0",
        "outputId": "2932aa51-e42a-4f59-a677-80f0f6506679"
      },
      "execution_count": 118,
      "outputs": [
        {
          "output_type": "execute_result",
          "data": {
            "text/plain": [
              "160"
            ]
          },
          "metadata": {},
          "execution_count": 118
        }
      ]
    },
    {
      "cell_type": "code",
      "source": [
        "sum([[10, 20], [30, 40], [50, 60]], []) # 해당 리스트값을 리스트에 더하겠다 => 리스트는 add 연산이 가능 => 평탄화 작업\n",
        "# 시작(리스트의 더하기)\n",
        "# 1. [] + [10, 20] == [10, 20]\n",
        "# 2. [10, 20] + [30, 40] == [10, 20, 30, 40]\n",
        "# 3. [10, 20, 30, 40] + [50, 60] == [10, 20, 30, 40, 50, 60]"
      ],
      "metadata": {
        "colab": {
          "base_uri": "https://localhost:8080/"
        },
        "id": "G0XI2vJLWVYR",
        "outputId": "098ca9b2-e237-43a8-b169-f09f4b8b65a4"
      },
      "execution_count": 119,
      "outputs": [
        {
          "output_type": "execute_result",
          "data": {
            "text/plain": [
              "[10, 20, 30, 40, 50, 60]"
            ]
          },
          "metadata": {},
          "execution_count": 119
        }
      ]
    },
    {
      "cell_type": "code",
      "source": [
        "sum(sum([[10, 20], [30, 40], [50, 60]], []))"
      ],
      "metadata": {
        "colab": {
          "base_uri": "https://localhost:8080/"
        },
        "id": "QJ_a57xuW1y3",
        "outputId": "1aa97193-0b69-459b-9f1f-02496d6c33bc"
      },
      "execution_count": 120,
      "outputs": [
        {
          "output_type": "execute_result",
          "data": {
            "text/plain": [
              "210"
            ]
          },
          "metadata": {},
          "execution_count": 120
        }
      ]
    },
    {
      "cell_type": "markdown",
      "source": [
        "# 6. in / not in\n",
        "\n",
        "* 값이 존재하는지(값이 동일한지 판단하는것이 아님)\n",
        "* 값이 없는지 확인"
      ],
      "metadata": {
        "id": "HY-qH8eVXQZP"
      }
    },
    {
      "cell_type": "code",
      "source": [
        "'h' in 'hello'"
      ],
      "metadata": {
        "colab": {
          "base_uri": "https://localhost:8080/"
        },
        "id": "kteYDBAOXFHC",
        "outputId": "7bbfc1a1-92b5-4fa9-ff64-1ce4cce47c06"
      },
      "execution_count": 121,
      "outputs": [
        {
          "output_type": "execute_result",
          "data": {
            "text/plain": [
              "True"
            ]
          },
          "metadata": {},
          "execution_count": 121
        }
      ]
    },
    {
      "cell_type": "code",
      "source": [
        "x = 10\n",
        "x in [10, 20, 30, 40, 50]"
      ],
      "metadata": {
        "colab": {
          "base_uri": "https://localhost:8080/"
        },
        "id": "Gbh4RpUOXUW-",
        "outputId": "a6e5eaea-bc0c-4360-8a78-6fadc2f08c69"
      },
      "execution_count": 122,
      "outputs": [
        {
          "output_type": "execute_result",
          "data": {
            "text/plain": [
              "True"
            ]
          },
          "metadata": {},
          "execution_count": 122
        }
      ]
    },
    {
      "cell_type": "code",
      "source": [
        "s = {1, 2, 3}\n",
        "1 in s"
      ],
      "metadata": {
        "colab": {
          "base_uri": "https://localhost:8080/"
        },
        "id": "An88KNOcXWlJ",
        "outputId": "1177e187-b07d-440c-c399-a4d5561de641"
      },
      "execution_count": 123,
      "outputs": [
        {
          "output_type": "execute_result",
          "data": {
            "text/plain": [
              "True"
            ]
          },
          "metadata": {},
          "execution_count": 123
        }
      ]
    },
    {
      "cell_type": "code",
      "source": [
        "s = {1, 2, 3}\n",
        "10 not in s"
      ],
      "metadata": {
        "colab": {
          "base_uri": "https://localhost:8080/"
        },
        "id": "dVZxQS79X5Bg",
        "outputId": "0fc31b0a-7d26-4aa7-d688-052e067f597e"
      },
      "execution_count": 124,
      "outputs": [
        {
          "output_type": "execute_result",
          "data": {
            "text/plain": [
              "True"
            ]
          },
          "metadata": {},
          "execution_count": 124
        }
      ]
    },
    {
      "cell_type": "code",
      "source": [],
      "metadata": {
        "id": "MRiXjvLVX_Fy"
      },
      "execution_count": null,
      "outputs": []
    }
  ]
}