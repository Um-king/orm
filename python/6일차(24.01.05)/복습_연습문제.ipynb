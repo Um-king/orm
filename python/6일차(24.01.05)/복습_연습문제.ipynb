{
  "nbformat": 4,
  "nbformat_minor": 0,
  "metadata": {
    "colab": {
      "provenance": [],
      "authorship_tag": "ABX9TyN+GNARUzO2Dr5AKZPu+qmE",
      "include_colab_link": true
    },
    "kernelspec": {
      "name": "python3",
      "display_name": "Python 3"
    },
    "language_info": {
      "name": "python"
    }
  },
  "cells": [
    {
      "cell_type": "markdown",
      "metadata": {
        "id": "view-in-github",
        "colab_type": "text"
      },
      "source": [
        "<a href=\"https://colab.research.google.com/github/Um-king/orm/blob/main/%EB%B3%B5%EC%8A%B5_%EC%97%B0%EC%8A%B5%EB%AC%B8%EC%A0%9C.ipynb\" target=\"_parent\"><img src=\"https://colab.research.google.com/assets/colab-badge.svg\" alt=\"Open In Colab\"/></a>"
      ]
    },
    {
      "cell_type": "markdown",
      "source": [
        "# 24.01.05 복습 연습 문제"
      ],
      "metadata": {
        "id": "6tnrnkXTcx1L"
      }
    },
    {
      "cell_type": "code",
      "source": [
        "# 1. 다음 값은 어떤 값이 출력되는지 이유를 설명하세요.\n",
        "'''\n",
        "1.1 'hello' and 1\n",
        "\n",
        ">> 결과\n",
        "1 출력, and 연산자는 두 조건 중 마지막으로 평가된 값을 반환.\n",
        "'''\n",
        "print('hello' and 1)\n",
        "\n",
        "'''\n",
        "1.2 10 or 'hello world'\n",
        "\n",
        ">> 결과\n",
        "10 출력, 첫번째 10의 값이 참으로 판단되어 10으로 반환(10은 참으로 간주되어 두번째 내용을 판단하지 않고 10을 반환)\n",
        "'''\n",
        "print(10 or 'hello world')"
      ],
      "metadata": {
        "colab": {
          "base_uri": "https://localhost:8080/"
        },
        "id": "qecy3IGRc1Wo",
        "outputId": "7e76516f-6e7b-4421-a25c-461973b7a729"
      },
      "execution_count": 2,
      "outputs": [
        {
          "output_type": "stream",
          "name": "stdout",
          "text": [
            "1\n",
            "10\n"
          ]
        }
      ]
    },
    {
      "cell_type": "code",
      "source": [
        "# 2. 아래 dict에 'three' key를 이용하여 '3'라는 값을 출력해주세요. 없을 경우 애러가 나는 것이 아니라 '3'이라는 값을 출력해야 합니다.\n",
        "d = {'one': 1, 'two': 2}\n",
        "\n",
        "d.get('three', 3)"
      ],
      "metadata": {
        "colab": {
          "base_uri": "https://localhost:8080/"
        },
        "id": "dN1_PHmidVsD",
        "outputId": "c813d557-d305-4c1a-96a5-6c3dcffb3853"
      },
      "execution_count": 15,
      "outputs": [
        {
          "output_type": "execute_result",
          "data": {
            "text/plain": [
              "3"
            ]
          },
          "metadata": {},
          "execution_count": 15
        }
      ]
    },
    {
      "cell_type": "code",
      "source": [
        "# 3.다음 리스트에서 100은 어떻게 꺼낼 수 있나요?\n",
        "l = [1, [10, 20], [3, [100, 200], 5]]\n",
        "\n",
        "l[2][1][0]"
      ],
      "metadata": {
        "colab": {
          "base_uri": "https://localhost:8080/"
        },
        "id": "j3nLxp06eQiI",
        "outputId": "ea10e29f-cdd6-4a3b-98af-38b6898f8df9"
      },
      "execution_count": 10,
      "outputs": [
        {
          "output_type": "execute_result",
          "data": {
            "text/plain": [
              "100"
            ]
          },
          "metadata": {},
          "execution_count": 10
        }
      ]
    },
    {
      "cell_type": "code",
      "source": [
        "# 4. 아래 숫자를 모두 더해주세요.\n",
        "l = [[1, 2], [3, 4]]\n",
        "\n",
        "sum(sum(l, []))"
      ],
      "metadata": {
        "colab": {
          "base_uri": "https://localhost:8080/"
        },
        "id": "rs1QZCBaefin",
        "outputId": "e1bba4ad-2be2-4217-ca72-d2654d9f2749"
      },
      "execution_count": 11,
      "outputs": [
        {
          "output_type": "execute_result",
          "data": {
            "text/plain": [
              "10"
            ]
          },
          "metadata": {},
          "execution_count": 11
        }
      ]
    },
    {
      "cell_type": "code",
      "source": [
        "# 5. (난이도 있는 문제) filter를 사용하여 아래 리스트에서 짝수를 모두 더하는 코드를 작성해주세요.\n",
        "\n",
        "l = [1, 2, 3, 4, 5, 6, 7, 8, 9, 10]\n",
        "\n",
        "\n",
        "def f(x):\n",
        "    return x % 2 == 0;\n",
        "\n",
        "sum(filter(f, l))"
      ],
      "metadata": {
        "colab": {
          "base_uri": "https://localhost:8080/"
        },
        "id": "5f_hXTgVfScL",
        "outputId": "aec183f4-fba1-4f19-908e-d599d464d8d9"
      },
      "execution_count": 13,
      "outputs": [
        {
          "output_type": "execute_result",
          "data": {
            "text/plain": [
              "30"
            ]
          },
          "metadata": {},
          "execution_count": 13
        }
      ]
    },
    {
      "cell_type": "code",
      "source": [],
      "metadata": {
        "id": "GNJ8bdvJf5vN"
      },
      "execution_count": null,
      "outputs": []
    }
  ]
}