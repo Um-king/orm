{
  "nbformat": 4,
  "nbformat_minor": 0,
  "metadata": {
    "colab": {
      "provenance": [],
      "authorship_tag": "ABX9TyMRT6QXL28WLoummd8VWOfS",
      "include_colab_link": true
    },
    "kernelspec": {
      "name": "python3",
      "display_name": "Python 3"
    },
    "language_info": {
      "name": "python"
    }
  },
  "cells": [
    {
      "cell_type": "markdown",
      "metadata": {
        "id": "view-in-github",
        "colab_type": "text"
      },
      "source": [
        "<a href=\"https://colab.research.google.com/github/Um-king/orm/blob/main/%5B%EB%AA%A8%EB%91%90%EC%97%B0%5D3%EC%A3%BC%EC%B0%A8_1%EC%9D%BC_%ED%95%A8%EC%88%98.ipynb\" target=\"_parent\"><img src=\"https://colab.research.google.com/assets/colab-badge.svg\" alt=\"Open In Colab\"/></a>"
      ]
    },
    {
      "cell_type": "markdown",
      "source": [
        "# 1. 함수와 인사하기"
      ],
      "metadata": {
        "id": "DeutmoX1AJ7v"
      }
    },
    {
      "cell_type": "code",
      "source": [
        "#1. 함수 만들어 보기\n",
        "\n",
        "def jinhwankim(): # def -> 이건 함수야 jinhwankim 함수의 이름 + () -> \":\""
      ],
      "metadata": {
        "id": "PsDHWSa8AIPQ"
      },
      "execution_count": null,
      "outputs": []
    },
    {
      "cell_type": "code",
      "source": [
        "#2. 들여쓰기\n",
        "def my_function():\n",
        "    print('1') #4칸을 띄우는 것 -> 함수의 본문을 적는 것\n",
        "    print('2')\n",
        "    print('3')\n",
        "\n",
        "# 함수의 실행\n",
        "my_function() #실행을 할때는 def와 :은 필요없다. -> 함수의 본문이 실행 된다."
      ],
      "metadata": {
        "colab": {
          "base_uri": "https://localhost:8080/"
        },
        "id": "0nfPfdlSAVvS",
        "outputId": "562d4e30-e1f3-44ff-d52a-9ccf419ad373"
      },
      "execution_count": 33,
      "outputs": [
        {
          "output_type": "stream",
          "name": "stdout",
          "text": [
            "1\n",
            "2\n",
            "3\n"
          ]
        }
      ]
    },
    {
      "cell_type": "code",
      "source": [
        "#2. 들여쓰기\n",
        "def my_function():\n",
        "    print('1') #4칸을 띄우는 것 -> 함수의 본문을 적는 것\n",
        "    print('2')\n",
        "\n",
        "\n",
        "print('4') # 함수의 바깥에서 실행된다.\n",
        "print('3')\n",
        "\n",
        "# 함수의 실행\n",
        "my_function() #실행을 할때는 def와 :은 필요없다. -> 함수의 본문이 실행 된다."
      ],
      "metadata": {
        "id": "rEcYa_2gAaQn"
      },
      "execution_count": null,
      "outputs": []
    },
    {
      "cell_type": "code",
      "source": [
        "#2. 들여쓰기\n",
        "def my_function():\n",
        "    print('1') #4칸을 띄우는 것 -> 함수의 본문을 적는 것\n",
        "    print('2')\n",
        "    print('3')\n",
        "\n",
        "# 함수의 실행\n",
        "my_function() #실행을 할때는 def와 :은 필요없다. -> 함수의 본문이 실행 된다."
      ],
      "metadata": {
        "colab": {
          "base_uri": "https://localhost:8080/"
        },
        "id": "h_7-GA1NAccF",
        "outputId": "d17a09e8-ab79-4c76-a68d-4c7d75907140"
      },
      "execution_count": 34,
      "outputs": [
        {
          "output_type": "stream",
          "name": "stdout",
          "text": [
            "1\n",
            "2\n",
            "3\n"
          ]
        }
      ]
    },
    {
      "cell_type": "code",
      "source": [
        "\n",
        "def function_name(x, y):\n",
        "    z = x + y # z = 10 + 9\n",
        "    return z # z만 가지고서는 출력이 되지 않는다.!\n",
        "\n",
        "# 1. return을 함수 내에 지정하지 않았을때\n",
        "# print(f'function_name(10, 9) = {function_name(10, 9)}')\n",
        "\n",
        "# 2. print()문을 사용하지 않았을 때\n",
        "function_name(10, 9)\n",
        ""
      ],
      "metadata": {
        "colab": {
          "base_uri": "https://localhost:8080/"
        },
        "id": "F_Ca2lAVAfjL",
        "outputId": "732a0a9e-2e1b-409f-b15a-6f4aeb7da55b"
      },
      "execution_count": 35,
      "outputs": [
        {
          "output_type": "execute_result",
          "data": {
            "text/plain": [
              "19"
            ]
          },
          "metadata": {},
          "execution_count": 35
        }
      ]
    },
    {
      "cell_type": "code",
      "source": [
        "\n",
        "#2.1 입력 매개변수가 없고 반환값도 없는 함수\n",
        "def simple_function():\n",
        "    print('hello world')\n",
        "\n",
        "# 함수 호출\n",
        "print(simple_function()) # 함수는 return 값을 찾겠구나!"
      ],
      "metadata": {
        "colab": {
          "base_uri": "https://localhost:8080/"
        },
        "id": "GUl4_jRJAkoY",
        "outputId": "e0f5185a-392b-4a8a-da5e-27619fe0bda0"
      },
      "execution_count": 36,
      "outputs": [
        {
          "output_type": "stream",
          "name": "stdout",
          "text": [
            "hello world\n",
            "None\n"
          ]
        }
      ]
    },
    {
      "cell_type": "code",
      "source": [
        "# 2.2 파라미터가 없고, 반환값은 있는 함수\n",
        "def give_me_five():\n",
        "    return 5\n",
        "\n",
        "result = 5 # 비슷한 느낌\n",
        "result = give_me_five() # 할당!\n",
        "print(result) # 출력: 5\n",
        ""
      ],
      "metadata": {
        "colab": {
          "base_uri": "https://localhost:8080/"
        },
        "id": "Pwz0DqxZAnmX",
        "outputId": "5408f6ca-8928-4295-c00e-dfce11a9290b"
      },
      "execution_count": 37,
      "outputs": [
        {
          "output_type": "stream",
          "name": "stdout",
          "text": [
            "5\n"
          ]
        }
      ]
    },
    {
      "cell_type": "code",
      "source": [
        "\n",
        "#2.3 입력 매개변수가 있고, 반환 값이 없는 함수\n",
        "\n",
        "def greeting(name):\n",
        "    print(f'Hello, {name}!')\n",
        "\n",
        "# 함수 호출\n",
        "print(greeting('Licat'))"
      ],
      "metadata": {
        "colab": {
          "base_uri": "https://localhost:8080/"
        },
        "id": "7TDdfiOKAsL4",
        "outputId": "ba0cd48c-75a7-4537-efee-2b5aa1459d64"
      },
      "execution_count": 38,
      "outputs": [
        {
          "output_type": "stream",
          "name": "stdout",
          "text": [
            "Hello, Licat!\n",
            "None\n"
          ]
        }
      ]
    },
    {
      "cell_type": "code",
      "source": [
        "\n",
        "# 2.4 입력 매개변수가 있고, 반환 값이 있는 함수\n",
        "\n",
        "def add_numbers(x, y):\n",
        "    sum = x + y\n",
        "    return sum\n",
        "\n",
        "# 함수 호출\n",
        "result = add_numbers(5, 3)\n",
        "print(result)  # 출력: 8"
      ],
      "metadata": {
        "colab": {
          "base_uri": "https://localhost:8080/"
        },
        "id": "ZOq7E5rqAuSi",
        "outputId": "b7a0e24f-96b8-4066-a45a-f6eec08caf1d"
      },
      "execution_count": 39,
      "outputs": [
        {
          "output_type": "stream",
          "name": "stdout",
          "text": [
            "8\n"
          ]
        }
      ]
    },
    {
      "cell_type": "code",
      "source": [
        "\n",
        "# 1.3 파라미터의 기본 사용\n",
        "def f(a, b, c):\n",
        "    print(a, b, c)\n",
        "\n",
        "f(100,200,300)\n",
        "f(a=100, b=200, c=300) # 출력: 100 200 300\n",
        "f(c=300, a=100, b=200) # 출력: 100 200 300\n",
        ""
      ],
      "metadata": {
        "colab": {
          "base_uri": "https://localhost:8080/"
        },
        "id": "RTnhLI0VAwzU",
        "outputId": "28f9297a-94c9-45d2-c27b-8ed196687c3f"
      },
      "execution_count": 40,
      "outputs": [
        {
          "output_type": "stream",
          "name": "stdout",
          "text": [
            "100 200 300\n",
            "100 200 300\n",
            "100 200 300\n"
          ]
        }
      ]
    },
    {
      "cell_type": "code",
      "source": [
        "\n",
        "# 1.3.2 기본값을 가지는 파라미터\n",
        "\n",
        "def f(a=10, b=20, c=30):\n",
        "    print(a, b, c)\n",
        "\n",
        "f() # 출력: 10 20 30\n",
        "f(100, 10) # 출력: 100 10 30\n",
        "f(a=100, b=200, c=300) # 출력: 100 200 300\n",
        "f(c=300, a=100, b=200) # 출력: 100 200 300"
      ],
      "metadata": {
        "colab": {
          "base_uri": "https://localhost:8080/"
        },
        "id": "lCaY9s22AzY6",
        "outputId": "e1a95cf1-c09a-461d-aaa5-8e1122364625"
      },
      "execution_count": 41,
      "outputs": [
        {
          "output_type": "stream",
          "name": "stdout",
          "text": [
            "10 20 30\n",
            "100 10 30\n",
            "100 200 300\n",
            "100 200 300\n"
          ]
        }
      ]
    },
    {
      "cell_type": "code",
      "source": [
        "\n",
        "# 올바른 예\n",
        "def f(a, b=20, c=10):\n",
        "    print(a, b, c)\n",
        "\n",
        "print(f(100, 10)) # 출력: 100 10 10\n",
        "f(a=100, b=200, c=300) # 출력: 100 200 300\n",
        "f(c=300, a=100, b=200) # 출력: 100 200 300\n",
        ""
      ],
      "metadata": {
        "colab": {
          "base_uri": "https://localhost:8080/"
        },
        "id": "ZFhpPqhTA2c1",
        "outputId": "8e04211f-bf59-43db-b9f3-2aaff932dcea"
      },
      "execution_count": 42,
      "outputs": [
        {
          "output_type": "stream",
          "name": "stdout",
          "text": [
            "100 10 10\n",
            "None\n",
            "100 200 300\n",
            "100 200 300\n"
          ]
        }
      ]
    },
    {
      "cell_type": "code",
      "source": [
        "\n",
        "# 1.4.1 컨밴션 자료형을 아규먼트로 넣었을 때\n",
        "def add_element(my_list):\n",
        "    my_list.append(1)\n",
        "\n",
        "a = [2, 3, 4]\n",
        "add_element(a)\n",
        "print(a)  # 출력: [2, 3, 4, 1]\n",
        ""
      ],
      "metadata": {
        "colab": {
          "base_uri": "https://localhost:8080/"
        },
        "id": "XmJQtSUXA4qE",
        "outputId": "f32380cd-6052-47fe-9c0f-2d8b3e81f336"
      },
      "execution_count": 43,
      "outputs": [
        {
          "output_type": "stream",
          "name": "stdout",
          "text": [
            "[2, 3, 4, 1]\n"
          ]
        }
      ]
    },
    {
      "cell_type": "code",
      "source": [
        "\n",
        "def add_element(my_list):\n",
        "    my_list.append(1)\n",
        "    print(id(my_list)) # 출력: 135115033605760\n",
        "\n",
        "a = [2, 3, 4]\n",
        "add_element(a)\n",
        "print(id(a)) # 출력: 135115033605760\n",
        "print(a)  # 출력: [2, 3, 4, 1]"
      ],
      "metadata": {
        "colab": {
          "base_uri": "https://localhost:8080/"
        },
        "id": "5WWIptzxA5-b",
        "outputId": "cd3b1f9c-642c-4f10-ac53-51765e48731c"
      },
      "execution_count": 44,
      "outputs": [
        {
          "output_type": "stream",
          "name": "stdout",
          "text": [
            "134288664696576\n",
            "134288664696576\n",
            "[2, 3, 4, 1]\n"
          ]
        }
      ]
    },
    {
      "cell_type": "code",
      "source": [
        "\n",
        "def add_element(my_list):\n",
        "    my_list = 10\n",
        "    print(id(my_list)) # 출력: 135115442078224\n",
        "\n",
        "a = [2, 3, 4]\n",
        "add_element(a)\n",
        "print(id(a)) # 출력: 135115029248768\n",
        "print(a)  # 출력: [2, 3, 4]"
      ],
      "metadata": {
        "colab": {
          "base_uri": "https://localhost:8080/"
        },
        "id": "gGOlugj-A8C-",
        "outputId": "5c911467-d501-4489-a70e-cb44f8c4aac4"
      },
      "execution_count": 45,
      "outputs": [
        {
          "output_type": "stream",
          "name": "stdout",
          "text": [
            "134289934565904\n",
            "134289522292608\n",
            "[2, 3, 4]\n"
          ]
        }
      ]
    },
    {
      "cell_type": "code",
      "execution_count": 1,
      "metadata": {
        "id": "791rC3MJd4HT"
      },
      "outputs": [],
      "source": [
        "# 1.4.2 권장되지 않은 기본값\n",
        "\n",
        "# 권장하지 않는 방법\n",
        "def append_to_list(value, lst=[]):\n",
        "    lst.append(value)\n",
        "    return lst # 예상치 못한 결과가 발생할 수 있습니다."
      ]
    },
    {
      "cell_type": "code",
      "source": [
        "append_to_list(1) # 출력 = lst[1]"
      ],
      "metadata": {
        "colab": {
          "base_uri": "https://localhost:8080/"
        },
        "id": "HKCDCjfLfwzA",
        "outputId": "b196e8af-0654-4367-d101-0789d0004074"
      },
      "execution_count": 2,
      "outputs": [
        {
          "output_type": "execute_result",
          "data": {
            "text/plain": [
              "[1]"
            ]
          },
          "metadata": {},
          "execution_count": 2
        }
      ]
    },
    {
      "cell_type": "code",
      "source": [
        "append_to_list(2) # 출력: [2]?\n",
        "# 출력 [1, 2] 그러나 결과가 [2]가 나올것으로 예상할수도 있습니다."
      ],
      "metadata": {
        "colab": {
          "base_uri": "https://localhost:8080/"
        },
        "id": "pEeZuyrHfyuO",
        "outputId": "70bc220b-bf51-41e7-c62b-33417afbd737"
      },
      "execution_count": 4,
      "outputs": [
        {
          "output_type": "execute_result",
          "data": {
            "text/plain": [
              "[1, 2]"
            ]
          },
          "metadata": {},
          "execution_count": 4
        }
      ]
    },
    {
      "cell_type": "code",
      "source": [
        "# 권장 방법\n",
        "# None 값을 새로운 리스트로 바꾸어 주어, 함수 호출 사이에 리스트가 공유되지 않도록 합니다.\n",
        "def append_to_list(value, lst=None):\n",
        "    if lst is None:\n",
        "        lst = []\n",
        "    lst.append(value)\n",
        "    return lst"
      ],
      "metadata": {
        "id": "vFMWB9aygYS4"
      },
      "execution_count": 5,
      "outputs": []
    },
    {
      "cell_type": "markdown",
      "source": [
        "# 지역변수와 전역변수"
      ],
      "metadata": {
        "id": "KG99pH46hpDR"
      }
    },
    {
      "cell_type": "code",
      "source": [
        "# 지역 변수 사용 예시\n",
        "\n",
        "# 지역 변수는 함수 내부에서만 정의되고 사용되는 변수\n",
        "# 함수 내부에서만 데이터를 관리\n",
        "def f():\n",
        "    a = 1 # 이 변수는 f() 내에서만 정의! 절대 바깥에서 사용할 수 없는 거죠.\n",
        "    print(a)  # 출력: 1\n",
        "\n",
        "f()\n",
        "print(a)  # error: a는 f 함수 내부에서만 정의되었습니다."
      ],
      "metadata": {
        "id": "-WvUeXR8hrE-"
      },
      "execution_count": null,
      "outputs": []
    },
    {
      "cell_type": "code",
      "source": [
        "# 전역 변수\n",
        "test = 1\n",
        "a = 100\n",
        "b = [100,200]\n",
        "\n",
        "# 지역 변수(함수 내 사용한 변수)\n",
        "def example():\n",
        "    test = 100\n",
        "    return test\n",
        "\n",
        "print(test)\n",
        "print(example())"
      ],
      "metadata": {
        "colab": {
          "base_uri": "https://localhost:8080/"
        },
        "id": "xoiP2NNsiuC8",
        "outputId": "a2fd4b70-09f4-4c54-9d36-bd83e6a8382b"
      },
      "execution_count": 7,
      "outputs": [
        {
          "output_type": "stream",
          "name": "stdout",
          "text": [
            "1\n",
            "100\n"
          ]
        }
      ]
    },
    {
      "cell_type": "code",
      "source": [
        "# 지역에 선언된 변수 목록을 보려면 locals()를 사용\n",
        "def f():\n",
        "    a = 1\n",
        "    print(locals()) # 출력: {'a': 1} # 지역변수가 어떤게 있는지 확인하려면 locals()를 사용\n",
        "\n",
        "f()"
      ],
      "metadata": {
        "colab": {
          "base_uri": "https://localhost:8080/"
        },
        "id": "d1_ljgl8i7u3",
        "outputId": "c5a7b88a-015e-4c28-a01d-5610eee558b2"
      },
      "execution_count": 8,
      "outputs": [
        {
          "output_type": "stream",
          "name": "stdout",
          "text": [
            "{'a': 1}\n"
          ]
        }
      ]
    },
    {
      "cell_type": "code",
      "source": [
        "# 지역에 선언된 변수 목록을 보려면 locals()를 사용\n",
        "def f():\n",
        "    a = 1\n",
        "    b = 100\n",
        "    print(locals()) # 지역변수가 어떤게 있는지 확인하려면 locals()를 사용\n",
        "\n",
        "f()"
      ],
      "metadata": {
        "colab": {
          "base_uri": "https://localhost:8080/"
        },
        "id": "2vXgx0OmjzTh",
        "outputId": "e576782f-3989-4265-b8a4-2c6142a12d6e"
      },
      "execution_count": 9,
      "outputs": [
        {
          "output_type": "stream",
          "name": "stdout",
          "text": [
            "{'a': 1, 'b': 100}\n"
          ]
        }
      ]
    },
    {
      "cell_type": "code",
      "source": [
        "def f():\n",
        "    a = 1\n",
        "    b = 'hello'\n",
        "    def ff():\n",
        "        pass\n",
        "    print(locals()) # 출력: {'a': 1, 'b': 'hello', 'ff': <function f.<locals>.ff at 0x7a46e99d2c20>}\n",
        "\n",
        "f()"
      ],
      "metadata": {
        "colab": {
          "base_uri": "https://localhost:8080/"
        },
        "id": "NnwVaeNWj1Oh",
        "outputId": "eec70371-650e-4496-aa3b-6952ab83d7af"
      },
      "execution_count": 10,
      "outputs": [
        {
          "output_type": "stream",
          "name": "stdout",
          "text": [
            "{'a': 1, 'b': 'hello', 'ff': <function f.<locals>.ff at 0x7a22843ef910>}\n"
          ]
        }
      ]
    },
    {
      "cell_type": "code",
      "source": [
        "# 전역변수 : 어떤 함수에서도 접근 가능한 변수 -> global로 선언(권장x)\n",
        "\n",
        "a = 100\n",
        "\n",
        "def f():\n",
        "    global a\n",
        "    a = a + 1\n",
        "\n",
        "f()\n",
        "print(a)  # 출력: 101, 함수 f 내에서 전역 변수 a가 수정되었습니다."
      ],
      "metadata": {
        "colab": {
          "base_uri": "https://localhost:8080/"
        },
        "id": "6B7iSTKlj8gx",
        "outputId": "a9cd170b-085d-4d55-c17a-0e119d686519"
      },
      "execution_count": 11,
      "outputs": [
        {
          "output_type": "stream",
          "name": "stdout",
          "text": [
            "101\n"
          ]
        }
      ]
    },
    {
      "cell_type": "code",
      "source": [
        "# 에러\n",
        "\n",
        "# global 키워드 없이 수정하는 것은 허락하지 않기 때문\n",
        "a = 100\n",
        "def f():\n",
        "    a = a + 1 # error\n",
        "\n",
        "f()\n",
        "print(a)"
      ],
      "metadata": {
        "id": "Gy4a6SABk_-T"
      },
      "execution_count": null,
      "outputs": []
    },
    {
      "cell_type": "code",
      "source": [
        "# 전역에 있는 a와 로컬에 있는 a변수가 구분되기 때문\n",
        "\n",
        "a = 100\n",
        "\n",
        "def f():\n",
        "    a = 1000 # 새로운 지역변수 a 선언한 것\n",
        "    print(a) # 출력: 1000\n",
        "\n",
        "f()"
      ],
      "metadata": {
        "colab": {
          "base_uri": "https://localhost:8080/"
        },
        "id": "C7vehhyKlIni",
        "outputId": "2c284d75-4d67-4467-a7b6-adb7e8339023"
      },
      "execution_count": 12,
      "outputs": [
        {
          "output_type": "stream",
          "name": "stdout",
          "text": [
            "1000\n"
          ]
        }
      ]
    },
    {
      "cell_type": "code",
      "source": [
        "# 불러와서 읽기만 하는 경우에는 사용이 가능 -> 읽기만 할 경우 gobal 변수 사용하지 않아도 된다.\n",
        "a = 100\n",
        "\n",
        "def f():\n",
        "    print(a) # 출력: 100\n",
        "\n",
        "f()\n",
        "\n",
        "def ff():\n",
        "    b = a + 1\n",
        "    print(b) # 출력: 101\n",
        "\n",
        "ff()"
      ],
      "metadata": {
        "colab": {
          "base_uri": "https://localhost:8080/"
        },
        "id": "Pvo8l336l01n",
        "outputId": "f17c8d78-e94e-4c6c-8d86-b98acda40305"
      },
      "execution_count": 14,
      "outputs": [
        {
          "output_type": "stream",
          "name": "stdout",
          "text": [
            "100\n",
            "101\n"
          ]
        }
      ]
    },
    {
      "cell_type": "code",
      "source": [
        "# pass 문은 Python에서 아무 것도 하지 않는 구문\n",
        "# pass가 있는 위치에서 어떠한 연산도 수행되지 않습니다\n",
        "\n",
        "# TODO 어떠한 일을 해야 합니다.\n",
        "def my_function():\n",
        "    pass"
      ],
      "metadata": {
        "id": "tpEVa_hpl8tC"
      },
      "execution_count": null,
      "outputs": []
    },
    {
      "cell_type": "markdown",
      "source": [
        "# Built in function\n",
        "* 내장 함수(=built in function)는 파이썬 언어에 기본적으로 포함되어 있는 함수들"
      ],
      "metadata": {
        "id": "PpXSwiuYrF8d"
      }
    },
    {
      "cell_type": "markdown",
      "source": [
        "## 2.1. all, any\n",
        "* all() 함수는 iterable(반복 가능한) 객체(예: 리스트, 튜플, 문자열 등)를 인수로 받아, 그 안에 있는 모든 요소가 True로 평가되면 True를 반환하고, 그렇지 않으면 False를 반환합니다.\n",
        "*any() 함수도 iterable 객체를 인수로 받아, 그 안에 있는 어떤 요소라도 True로 평가되면 True를 반환하고, 그렇지 않으면 False를 반환합니다."
      ],
      "metadata": {
        "id": "Wxvq4fYVrkPv"
      }
    },
    {
      "cell_type": "code",
      "source": [
        "# 1. all, any\n",
        "\n",
        "# 모두 다 True여야 True 반환\n",
        "all([True, True, True]) # 출력: Ture\n",
        "all([True, True, False]) # 출력: False\n",
        "all([1, 1, 1, 1]) # 출력: True\n",
        "all([1, 1, 1, 0]) # 출력: False , 0 = false\n",
        "all([1, 0, 1, 1]) # 출력: False\n",
        "all([1, 100, 10, -1]) # 출력: True"
      ],
      "metadata": {
        "colab": {
          "base_uri": "https://localhost:8080/"
        },
        "id": "er8PfciCrJFA",
        "outputId": "17089768-4a45-4a0f-8c32-6cc59d9917a2"
      },
      "execution_count": 15,
      "outputs": [
        {
          "output_type": "execute_result",
          "data": {
            "text/plain": [
              "True"
            ]
          },
          "metadata": {},
          "execution_count": 15
        }
      ]
    },
    {
      "cell_type": "code",
      "source": [
        "# 하나라도 True이면 True이다.\n",
        "any([True, False, False]) # 출력: True\n",
        "any([False, False, False]) # 출력: False"
      ],
      "metadata": {
        "colab": {
          "base_uri": "https://localhost:8080/"
        },
        "id": "cFNhA5LKr2u0",
        "outputId": "8a300410-83b3-46ee-a7eb-4b8c85fc0c44"
      },
      "execution_count": 16,
      "outputs": [
        {
          "output_type": "execute_result",
          "data": {
            "text/plain": [
              "False"
            ]
          },
          "metadata": {},
          "execution_count": 16
        }
      ]
    },
    {
      "cell_type": "markdown",
      "source": [
        "# 2.2 chr, ord\n",
        "* chr() 함수는 정수를 인수로 받아 그에 해당하는 유니코드 문자를 반환합니다.\n",
        "* ord() 함수는 문자를 인수로 받아 그 문자의 유니코드(또는 ASCII 코드) 값을 반환합니다."
      ],
      "metadata": {
        "id": "PiJv9G28seM4"
      }
    },
    {
      "cell_type": "markdown",
      "source": [
        "## 2.3 Map\n",
        "* map() 함수는 기존의 리스트(또는 튜플)의 모든 요소에 특정 함수를 적용한 결과를 map 객체 형태로 반환하는 함수입니다. map 객체는 다시 list()를 이용해 리스트 형태로 변환할 수 있습니다."
      ],
      "metadata": {
        "id": "wajhu5a-sn9r"
      }
    },
    {
      "cell_type": "code",
      "source": [
        "# 첫번째 방법\n",
        "def 제곱(x):\n",
        "    return x ** 2\n",
        "list(map(제곱, [1, 2, 3, 4])) # 출력: [1, 4, 9, 16]\n",
        "\n",
        "# map을 통해 각각의 요소를 풀어서 제곱한 결과를 출력"
      ],
      "metadata": {
        "colab": {
          "base_uri": "https://localhost:8080/"
        },
        "id": "MXAX5LuFssuu",
        "outputId": "dcee30e5-3959-49b1-ba25-bbcce5258924"
      },
      "execution_count": 17,
      "outputs": [
        {
          "output_type": "execute_result",
          "data": {
            "text/plain": [
              "[1, 4, 9, 16]"
            ]
          },
          "metadata": {},
          "execution_count": 17
        }
      ]
    },
    {
      "cell_type": "code",
      "source": [
        "# 두번째 방법\n",
        "list(map(lambda x : x ** 2, [1, 2, 3, 4])) # 출력: [1, 4, 9, 16]"
      ],
      "metadata": {
        "colab": {
          "base_uri": "https://localhost:8080/"
        },
        "id": "8jshtII0sw2_",
        "outputId": "6c931e54-c664-4ef0-a721-dfa721fffce5"
      },
      "execution_count": 18,
      "outputs": [
        {
          "output_type": "execute_result",
          "data": {
            "text/plain": [
              "[1, 4, 9, 16]"
            ]
          },
          "metadata": {},
          "execution_count": 18
        }
      ]
    },
    {
      "cell_type": "markdown",
      "source": [
        "## 2.4 filter\n",
        "* filter() 함수는 순회할 수 있는 객체의 요소 중 특정 조건을 만족하는 요소만을 선택하여 반환"
      ],
      "metadata": {
        "id": "RZKUoZ0Ftr_-"
      }
    },
    {
      "cell_type": "markdown",
      "source": [
        "## 2.5 zip\n",
        "* zip() 함수는 여러 개의 순회 할 수 있는 객체의 요소를 묶어서 반환합니다. 다만 메모리의 효율을 위해 형변환이나 직접 순회를 하기 전까지는 메모리 주소로만 반환합니다."
      ],
      "metadata": {
        "id": "hFwOBlQrt9NN"
      }
    },
    {
      "cell_type": "code",
      "source": [
        "# 기본 형태  : zip(순회할 수 있는 객체1, 순회할 수 있는 객체2...)\n",
        "\n",
        "# ab와 12에서 첫번째 a, 1이 묶이고 두번째 b와 2가 묶인다.\n",
        "list(zip('ab', '12')) # 출력: [('a', '1'), ('b', '2')]"
      ],
      "metadata": {
        "colab": {
          "base_uri": "https://localhost:8080/"
        },
        "id": "r_j8xAeQuAoU",
        "outputId": "e02fd26e-83b5-4685-ce4f-fa92640a04c5"
      },
      "execution_count": 19,
      "outputs": [
        {
          "output_type": "execute_result",
          "data": {
            "text/plain": [
              "[('a', '1'), ('b', '2')]"
            ]
          },
          "metadata": {},
          "execution_count": 19
        }
      ]
    },
    {
      "cell_type": "code",
      "source": [
        "# 인덱스 순서대로 묶인다.\n",
        "list(zip('ab', '12', [10, 20])) # 출력: [('a', '1', 10), ('b', '2', 20)]"
      ],
      "metadata": {
        "colab": {
          "base_uri": "https://localhost:8080/"
        },
        "id": "4JFMS428uQbu",
        "outputId": "5c26a47e-42af-4e41-d746-3b79249927a5"
      },
      "execution_count": 20,
      "outputs": [
        {
          "output_type": "execute_result",
          "data": {
            "text/plain": [
              "[('a', '1', 10), ('b', '2', 20)]"
            ]
          },
          "metadata": {},
          "execution_count": 20
        }
      ]
    },
    {
      "cell_type": "code",
      "source": [
        "# 같은 위치에 있는 값만 묶인다.\n",
        "\n",
        "list(zip('abc', '1234567', [10, 20, 30]))\n",
        "# 출력 : [('a', '1', 10), ('b', '2', 20), ('c', '3', 30)]"
      ],
      "metadata": {
        "colab": {
          "base_uri": "https://localhost:8080/"
        },
        "id": "UCqjR5STuaEz",
        "outputId": "4a472cd1-b721-40ec-c941-cad4746693bd"
      },
      "execution_count": 21,
      "outputs": [
        {
          "output_type": "execute_result",
          "data": {
            "text/plain": [
              "[('a', '1', 10), ('b', '2', 20), ('c', '3', 30)]"
            ]
          },
          "metadata": {},
          "execution_count": 21
        }
      ]
    },
    {
      "cell_type": "code",
      "source": [
        "list(zip('abcd', '1234567', [10, 20, 30, 40])) # 최소 인덱스 수만큼 묶인다."
      ],
      "metadata": {
        "colab": {
          "base_uri": "https://localhost:8080/"
        },
        "id": "e6RenXS2ukg4",
        "outputId": "4f809bb6-b63e-46fd-a24e-40bdaaef1410"
      },
      "execution_count": 22,
      "outputs": [
        {
          "output_type": "execute_result",
          "data": {
            "text/plain": [
              "[('a', '1', 10), ('b', '2', 20), ('c', '3', 30), ('d', '4', 40)]"
            ]
          },
          "metadata": {},
          "execution_count": 22
        }
      ]
    },
    {
      "cell_type": "code",
      "source": [
        "x = [1, 2, 3]\n",
        "y = [1, 4, 9]\n",
        "list(zip(x, y)) # 출력: [(1, 1), (2, 4), (3, 9)]"
      ],
      "metadata": {
        "colab": {
          "base_uri": "https://localhost:8080/"
        },
        "id": "xYAq4835uoLB",
        "outputId": "21fce485-0d2c-4cdb-d72e-150c03f0ec0f"
      },
      "execution_count": 23,
      "outputs": [
        {
          "output_type": "execute_result",
          "data": {
            "text/plain": [
              "[(1, 1), (2, 4), (3, 9)]"
            ]
          },
          "metadata": {},
          "execution_count": 23
        }
      ]
    },
    {
      "cell_type": "markdown",
      "source": [
        "## enumerate\n",
        "* enumerate 함수는 반복할 수 있는 객체의 인덱스와 값을 함께 반환하며 주로 반복문에서 사용합니다. 해당 예제에서는 리스트를 enumerate 함수에 전달하여 인덱스와 값을 함께 얻습니다. 추가로, enumerate 함수의 두 번째 인자를 통해 시작 인덱스를 지정할 수 있습니다. 이를 활용하여 반복문 내에서 인덱스와 값에 동시에 접근하는 것이 가능합니다."
      ],
      "metadata": {
        "id": "3z367rSawGZf"
      }
    },
    {
      "cell_type": "code",
      "source": [
        "values = ['A', 'B', 'C', 'D']\n",
        "print(list(enumerate(values))) # 인수가 없다면 0번째 인덱스 값부터 순서대로 출력\n",
        "print(list(enumerate(values, 1))) # 1부터 순서대로 출력\n",
        "print(list(enumerate(values, 100))) # 100부터 순서대로 출력"
      ],
      "metadata": {
        "colab": {
          "base_uri": "https://localhost:8080/"
        },
        "id": "6UO_6ccluuH8",
        "outputId": "41b08adf-4f98-40c3-aafc-22ba86ff9460"
      },
      "execution_count": 24,
      "outputs": [
        {
          "output_type": "stream",
          "name": "stdout",
          "text": [
            "[(0, 'A'), (1, 'B'), (2, 'C'), (3, 'D')]\n",
            "[(1, 'A'), (2, 'B'), (3, 'C'), (4, 'D')]\n",
            "[(100, 'A'), (101, 'B'), (102, 'C'), (103, 'D')]\n"
          ]
        }
      ]
    },
    {
      "cell_type": "code",
      "source": [
        "values = ['A', 'B', 'C', 'D']\n",
        "print(list(enumerate(values)))\n",
        "\n",
        "values1 = ['김진환', '이호준', '라이켓', '웅이']\n",
        "print(list(enumerate(values1)))\n",
        "\n",
        "# 이런식으로 서로 다른 리스트를 인덱스값을 만들어 연결할 수 있다."
      ],
      "metadata": {
        "colab": {
          "base_uri": "https://localhost:8080/"
        },
        "id": "lW_vRWlGwNMu",
        "outputId": "40749fef-b019-4e3a-d41e-f247312f95d6"
      },
      "execution_count": 28,
      "outputs": [
        {
          "output_type": "stream",
          "name": "stdout",
          "text": [
            "[(0, 'A'), (1, 'B'), (2, 'C'), (3, 'D')]\n",
            "[(0, '김진환'), (1, '이호준'), (2, '라이켓'), (3, '웅이')]\n"
          ]
        }
      ]
    },
    {
      "cell_type": "code",
      "source": [
        "# sorted와 reversed는 원본을 수정하지 않습니다.\n",
        "\n",
        "sorted([1, 2, 100, 200, 3, 4, 10, 20]) # 오름차순\n",
        "# 출력 : [1, 2, 3, 4, 10, 20, 100, 200]"
      ],
      "metadata": {
        "colab": {
          "base_uri": "https://localhost:8080/"
        },
        "id": "3vgt6FAowswv",
        "outputId": "2aa9ff21-8486-4d03-b5fd-0e516041a5b4"
      },
      "execution_count": 29,
      "outputs": [
        {
          "output_type": "execute_result",
          "data": {
            "text/plain": [
              "[1, 2, 3, 4, 10, 20, 100, 200]"
            ]
          },
          "metadata": {},
          "execution_count": 29
        }
      ]
    },
    {
      "cell_type": "code",
      "source": [
        "sorted([1, 2, 100, 200, 3, 4, 10, 20], reverse=True) # 내림차순\n",
        "# 출력 : [200, 100, 20, 10, 4, 3, 2, 1]"
      ],
      "metadata": {
        "colab": {
          "base_uri": "https://localhost:8080/"
        },
        "id": "AnSLZ73Hx44i",
        "outputId": "33fc030c-24b9-4142-f791-5bc16fd4e840"
      },
      "execution_count": 30,
      "outputs": [
        {
          "output_type": "execute_result",
          "data": {
            "text/plain": [
              "[200, 100, 20, 10, 4, 3, 2, 1]"
            ]
          },
          "metadata": {},
          "execution_count": 30
        }
      ]
    },
    {
      "cell_type": "code",
      "source": [
        "# key=len를 사용하여 각 값을 문자열 길이대로 정렬\n",
        "sorted(['hello', 'l', 'hllo', 'hel', 'heo', 'a'], key=len)\n",
        "# 출력 : ['l', 'a', 'hel', 'heo', 'hllo', 'hello']"
      ],
      "metadata": {
        "colab": {
          "base_uri": "https://localhost:8080/"
        },
        "id": "FPkzPdcdx7JH",
        "outputId": "2a28d3fa-86a3-4ca8-a136-250432d40fa7"
      },
      "execution_count": 31,
      "outputs": [
        {
          "output_type": "execute_result",
          "data": {
            "text/plain": [
              "['l', 'a', 'hel', 'heo', 'hllo', 'hello']"
            ]
          },
          "metadata": {},
          "execution_count": 31
        }
      ]
    },
    {
      "cell_type": "code",
      "source": [],
      "metadata": {
        "id": "Di3B4irmyDTu"
      },
      "execution_count": null,
      "outputs": []
    }
  ]
}