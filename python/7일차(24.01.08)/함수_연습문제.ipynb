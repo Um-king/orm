{
  "nbformat": 4,
  "nbformat_minor": 0,
  "metadata": {
    "colab": {
      "provenance": [],
      "authorship_tag": "ABX9TyPb5iF++dZ4P3nJoED5OJ5b",
      "include_colab_link": true
    },
    "kernelspec": {
      "name": "python3",
      "display_name": "Python 3"
    },
    "language_info": {
      "name": "python"
    }
  },
  "cells": [
    {
      "cell_type": "markdown",
      "metadata": {
        "id": "view-in-github",
        "colab_type": "text"
      },
      "source": [
        "<a href=\"https://colab.research.google.com/github/Um-king/orm/blob/main/%ED%95%A8%EC%88%98_%EC%97%B0%EC%8A%B5%EB%AC%B8%EC%A0%9C.ipynb\" target=\"_parent\"><img src=\"https://colab.research.google.com/assets/colab-badge.svg\" alt=\"Open In Colab\"/></a>"
      ]
    },
    {
      "cell_type": "code",
      "execution_count": null,
      "metadata": {
        "id": "v7sveUH8yWgX"
      },
      "outputs": [],
      "source": []
    },
    {
      "cell_type": "code",
      "source": [
        "# 1. 다음 코드를 실행하면 출력되는 값을 순서대로 작성해보세요.\n",
        "\n",
        "a = 'pithon'\n",
        "\n",
        "def 함수1():\n",
        "    def 함수2():\n",
        "        print('love')\n",
        "\n",
        "    print('I')\n",
        "    함수2()\n",
        "    return \"python\"\n",
        "\n",
        "\n",
        "a = 함수1()\n",
        "print(a)\n",
        "\n",
        "'''\n",
        ">> 결과\n",
        "I -> love -> python\n",
        "'''"
      ],
      "metadata": {
        "colab": {
          "base_uri": "https://localhost:8080/",
          "height": 90
        },
        "id": "u60fVLH9ydZ2",
        "outputId": "8ec3b48e-8790-4a44-895d-5e7ca51d7988"
      },
      "execution_count": 2,
      "outputs": [
        {
          "output_type": "stream",
          "name": "stdout",
          "text": [
            "I\n",
            "love\n",
            "python\n"
          ]
        },
        {
          "output_type": "execute_result",
          "data": {
            "text/plain": [
              "'\\n>> 결과\\nI -> love -> python \\n'"
            ],
            "application/vnd.google.colaboratory.intrinsic+json": {
              "type": "string"
            }
          },
          "metadata": {},
          "execution_count": 2
        }
      ]
    },
    {
      "cell_type": "code",
      "source": [
        "# 2. 함수를 이용하여 계산기 프로그램을 만들어주세요.\n",
        "\n",
        "def plus(num1, num2):\n",
        "\t#이곳을 채워주세요\n",
        "    return num1 + num2\n",
        "\n",
        "def minus(num1, num2):\n",
        "\t#이곳을 채워주세요\n",
        "    return num1 - num2\n",
        "\n",
        "def multiply(num1, num2):\n",
        "\t#이곳을 채워주세요\n",
        "    return num1 * num2\n",
        "\n",
        "def divide(num1, num2):\n",
        "\t#이곳을 채워주세요\n",
        "    return num1 / num2\n",
        "\n",
        "print(f'plus : {plus(10, 5)}')\n",
        "print(f'minus : {minus(10, 5)}')\n",
        "print(f'multiply : {multiply(10, 5)}')\n",
        "print(f'divide : {divide(10, 5)}')"
      ],
      "metadata": {
        "colab": {
          "base_uri": "https://localhost:8080/"
        },
        "id": "lpTvC00ryq-g",
        "outputId": "b683a353-d5b0-421f-9199-8044e0d0f03b"
      },
      "execution_count": 3,
      "outputs": [
        {
          "output_type": "stream",
          "name": "stdout",
          "text": [
            "plus : 15\n",
            "minus : 5\n",
            "multiply : 50\n",
            "divide : 2.0\n"
          ]
        }
      ]
    },
    {
      "cell_type": "code",
      "source": [
        "# 3. 2번의 해답을 이용하여 a와 b를 더한 값과 a와 b를 뺀 값을 곱하는 함수를 만들어주세요. 아래와 같은 값이 있다면 (2 + 3) * (2 - 3) = -5가 출력이 되어야 합니다.\n",
        "\n",
        "def result(num1, num2):\n",
        "    a = plus(num1, num2)\n",
        "    b = minus(num1, num2)\n",
        "    return multiply(a, b)\n",
        "\n",
        "num1 = int(input('숫자1 입력:'))\n",
        "num2 = int(input('숫자2 입력:'))\n",
        "\n",
        "result = result(num1, num2)\n",
        "print(f'({num1} + {num2}) * ({num1} - {num2}) = {result}')"
      ],
      "metadata": {
        "colab": {
          "base_uri": "https://localhost:8080/"
        },
        "id": "p021II0Lzgd1",
        "outputId": "e5742d38-9b4a-42d1-f846-e01ca82f10c0"
      },
      "execution_count": 4,
      "outputs": [
        {
          "output_type": "stream",
          "name": "stdout",
          "text": [
            "숫자1 입력:2\n",
            "숫자2 입력:3\n",
            "(2 + 3) * (2 - 3) = -5\n"
          ]
        }
      ]
    },
    {
      "cell_type": "code",
      "source": [
        "# 4. x의 n제곱을 구하는 함수를 만들어주세요. 재귀함수를 이용하여 만들어야하며, x은 0이 아닙니다. (x, n > 1)\n",
        "\n",
        "def f(x, n):\n",
        "    if n == 0 :\n",
        "        return 1\n",
        "    else:\n",
        "        return x * f(x, n-1)\n",
        "\n",
        "\n",
        "num1 = int(input('숫자1 입력:'))\n",
        "num2 = int(input('숫자2 입력:'))\n",
        "\n",
        "if num1 == 0 or num2 == 0:\n",
        "    print(\"종료\")\n",
        "else:\n",
        "    print(f(num1, num2))"
      ],
      "metadata": {
        "colab": {
          "base_uri": "https://localhost:8080/"
        },
        "id": "-wwldt0m07-m",
        "outputId": "2a619ec1-9b16-4551-9a29-6a45130fe357"
      },
      "execution_count": 6,
      "outputs": [
        {
          "output_type": "stream",
          "name": "stdout",
          "text": [
            "숫자1 입력:5\n",
            "숫자2 입력:2\n",
            "25\n"
          ]
        }
      ]
    },
    {
      "cell_type": "code",
      "source": [
        "# 5. 이 데이터에서 licat을 출력해주세요. 단, 직접 접근은 안됩니다. data[1]로 접근하는 것은 안됩니다.\n",
        "\n",
        "data = [['weniv CTO binky', 2], ['weniv CEO licat', 1], ['weniv COO mura', 2]]\n",
        "\n",
        "s = str(data)\n",
        "s[s.find('licat'):s.find('licat') + 5]"
      ],
      "metadata": {
        "colab": {
          "base_uri": "https://localhost:8080/",
          "height": 35
        },
        "id": "SJMVCyHp11qy",
        "outputId": "7bc05f3c-5859-40c2-cc66-b5ff3287e8a8"
      },
      "execution_count": 14,
      "outputs": [
        {
          "output_type": "execute_result",
          "data": {
            "text/plain": [
              "'licat'"
            ],
            "application/vnd.google.colaboratory.intrinsic+json": {
              "type": "string"
            }
          },
          "metadata": {},
          "execution_count": 14
        }
      ]
    },
    {
      "cell_type": "code",
      "source": [
        "#  6. 다음 함수 is_palindrome를 완성하시오.\n",
        "# 이 함수는 하나의 문자열을 인자로 받아, 해당 문자열이 앞으로 읽으나 뒤로 읽으나 같은 단어이면 True를, 아니면 False를 반환해야 합니다.\n",
        "\n",
        "def is_palindrome(s):\n",
        "    str_1 = list(s)\n",
        "    str_2 = list(reversed(str_1))\n",
        "\n",
        "    if str_1 == str_2:\n",
        "        return True\n",
        "    else:\n",
        "        return False\n",
        "\n",
        "s = input(\"문자열 입력:\")\n",
        "print(is_palindrome(s))"
      ],
      "metadata": {
        "colab": {
          "base_uri": "https://localhost:8080/"
        },
        "id": "qyU_F8nl2Z8s",
        "outputId": "30312a3c-166e-4065-ae86-a5a834948161"
      },
      "execution_count": 18,
      "outputs": [
        {
          "output_type": "stream",
          "name": "stdout",
          "text": [
            "문자열 입력:level\n",
            "['l', 'e', 'v', 'e', 'l']\n",
            "['l', 'e', 'v', 'e', 'l']\n",
            "True\n"
          ]
        }
      ]
    },
    {
      "cell_type": "code",
      "source": [
        "# 7. 리스트 numbers가 주어졌을 때, 이 리스트 내의 모든 짝수를 제거하는 코드를 작성하시오.\n",
        "\n",
        "numbers = [2, 3, 4, 5, 6, 7, 8, 9, 10]\n",
        "numbers = list(filter(lambda x:x % 2 == 1, numbers))\n",
        "print(numbers)  # 결과: [3, 5, 7, 9]"
      ],
      "metadata": {
        "colab": {
          "base_uri": "https://localhost:8080/"
        },
        "id": "srj-vmg83oL3",
        "outputId": "8a48c39c-1207-406d-9937-a401dee3d270"
      },
      "execution_count": 20,
      "outputs": [
        {
          "output_type": "stream",
          "name": "stdout",
          "text": [
            "[3, 5, 7, 9]\n"
          ]
        }
      ]
    },
    {
      "cell_type": "code",
      "source": [],
      "metadata": {
        "id": "oEFNpgLQ5XAh"
      },
      "execution_count": null,
      "outputs": []
    }
  ]
}