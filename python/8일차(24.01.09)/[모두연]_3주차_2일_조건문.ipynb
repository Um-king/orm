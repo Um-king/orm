{
  "nbformat": 4,
  "nbformat_minor": 0,
  "metadata": {
    "colab": {
      "provenance": [],
      "authorship_tag": "ABX9TyOEDT7LBomRgVkYBtuHuCMe",
      "include_colab_link": true
    },
    "kernelspec": {
      "name": "python3",
      "display_name": "Python 3"
    },
    "language_info": {
      "name": "python"
    }
  },
  "cells": [
    {
      "cell_type": "markdown",
      "metadata": {
        "id": "view-in-github",
        "colab_type": "text"
      },
      "source": [
        "<a href=\"https://colab.research.google.com/github/Um-king/orm/blob/main/%5B%EB%AA%A8%EB%91%90%EC%97%B0%5D3%EC%A3%BC%EC%B0%A8_2%EC%9D%BC_%EC%A1%B0%EA%B1%B4%EB%AC%B8.ipynb\" target=\"_parent\"><img src=\"https://colab.research.google.com/assets/colab-badge.svg\" alt=\"Open In Colab\"/></a>"
      ]
    },
    {
      "cell_type": "code",
      "execution_count": null,
      "metadata": {
        "id": "1RGGNC6Igi-E"
      },
      "outputs": [],
      "source": []
    },
    {
      "cell_type": "markdown",
      "source": [
        "# 1. 조건문"
      ],
      "metadata": {
        "id": "j9fXLHxMpA8O"
      }
    },
    {
      "cell_type": "code",
      "source": [
        "# 1.1 if문 기본 구조\n",
        "\n",
        "# if 다음에 조건이 참인 경우에만 코드블록이 실행된다.\n",
        "\n",
        "x = 2 # 비교할 대상\n",
        "\n",
        "if x > 1: # 비교식 -> 비교식이 참일 경우에 하단에 print('True')가 실행된다.\n",
        "    print('True') # 출력: True"
      ],
      "metadata": {
        "colab": {
          "base_uri": "https://localhost:8080/"
        },
        "id": "7-2OqslEpCb3",
        "outputId": "efa0db66-47d7-4752-db66-72c7637a2e28"
      },
      "execution_count": 1,
      "outputs": [
        {
          "output_type": "stream",
          "name": "stdout",
          "text": [
            "True\n"
          ]
        }
      ]
    },
    {
      "cell_type": "code",
      "source": [
        "# 참이 아닌 경우 조건식이 실행되지 않는다.\n",
        "x = 1 # 비교할 대상\n",
        "\n",
        "if x > 1: # 비교식\n",
        "    print('True') # 출력X"
      ],
      "metadata": {
        "id": "g18pRZL0pDU4"
      },
      "execution_count": 2,
      "outputs": []
    },
    {
      "cell_type": "code",
      "source": [
        "# 결국 x = 2일때 if x > 1 => True\n",
        "if True:\n",
        "    print('True') # 출력: True"
      ],
      "metadata": {
        "colab": {
          "base_uri": "https://localhost:8080/"
        },
        "id": "4u5yI79bpj4N",
        "outputId": "cf5bdaf9-d899-4c39-d6d8-382769c698e5"
      },
      "execution_count": 3,
      "outputs": [
        {
          "output_type": "stream",
          "name": "stdout",
          "text": [
            "True\n"
          ]
        }
      ]
    },
    {
      "cell_type": "code",
      "source": [
        "if 1: # 1 = True\n",
        "    print('True') # 출력: True"
      ],
      "metadata": {
        "colab": {
          "base_uri": "https://localhost:8080/"
        },
        "id": "L8eeUT_RqMHA",
        "outputId": "2fe9a142-4f5b-4e95-a992-5cac319d034a"
      },
      "execution_count": 4,
      "outputs": [
        {
          "output_type": "stream",
          "name": "stdout",
          "text": [
            "True\n"
          ]
        }
      ]
    },
    {
      "cell_type": "code",
      "source": [
        "# if문 안에 있는 코드블럭과 바깥에 있는 코드블럭\n",
        "# 0이 아닌 모든 정수형은 True 로 인식(0만 False)\n",
        "\n",
        "if -1:\n",
        "    print('hello') # 1번 출력\n",
        "\n",
        "print('end') # 2번 출력"
      ],
      "metadata": {
        "colab": {
          "base_uri": "https://localhost:8080/"
        },
        "id": "woHV9vLyqXxO",
        "outputId": "e925c0c6-b865-4a77-ac61-c94f97aa57d0"
      },
      "execution_count": 5,
      "outputs": [
        {
          "output_type": "stream",
          "name": "stdout",
          "text": [
            "hello\n",
            "end\n"
          ]
        }
      ]
    },
    {
      "cell_type": "code",
      "source": [
        "if 0:\n",
        "    print('hello')\n",
        "\n",
        "print('end') # 1번 출력"
      ],
      "metadata": {
        "colab": {
          "base_uri": "https://localhost:8080/"
        },
        "id": "uwH00EZ_rRTR",
        "outputId": "b169c060-fec2-4463-eb08-9edc527f495a"
      },
      "execution_count": 6,
      "outputs": [
        {
          "output_type": "stream",
          "name": "stdout",
          "text": [
            "end\n"
          ]
        }
      ]
    },
    {
      "cell_type": "code",
      "source": [
        "# 공백이 있으면 True 공백이 없으면 False를 의미\n",
        "\n",
        "# 공백이 있는 문자열\n",
        "if ' ':\n",
        "    print('hello')\n",
        "print('end')\n",
        "\n",
        "# 공백이 없는 문자열\n",
        "if '':\n",
        "    print('hello')\n",
        "print('end')"
      ],
      "metadata": {
        "colab": {
          "base_uri": "https://localhost:8080/"
        },
        "id": "rBpzKottrefk",
        "outputId": "950c22c9-9f0e-4266-d0ef-dd578802f0d8"
      },
      "execution_count": 7,
      "outputs": [
        {
          "output_type": "stream",
          "name": "stdout",
          "text": [
            "hello\n",
            "end\n",
            "end\n"
          ]
        }
      ]
    },
    {
      "cell_type": "code",
      "source": [
        "# None은 False, not None은 True\n",
        "\n",
        "if not '': # 공백이 없다의 반대\n",
        "    print('hello')\n",
        "print('end')\n",
        "\n",
        "if None: # None은 False로 처리됩니다.\n",
        "    print('hello')\n",
        "print('end')\n",
        "\n",
        "if not None:\n",
        "    print('hello')\n",
        "print('end')"
      ],
      "metadata": {
        "colab": {
          "base_uri": "https://localhost:8080/"
        },
        "id": "4n_JLNPEsMen",
        "outputId": "aec03514-1987-4a91-b55b-7dff5faa3d45"
      },
      "execution_count": 9,
      "outputs": [
        {
          "output_type": "stream",
          "name": "stdout",
          "text": [
            "hello\n",
            "end\n",
            "end\n",
            "hello\n",
            "end\n"
          ]
        }
      ]
    },
    {
      "cell_type": "code",
      "source": [
        "# 단락평가\n",
        "\n",
        "# 성능에 영향을 끼칩니다! -> 리소스를 줄이는 방법\n",
        "\n",
        "# f(), ff() 함수는 아규먼트x, 파라미터x\n",
        "def f():\n",
        "    return True # True가 무조건 반환되는 함수\n",
        "\n",
        "def ff():\n",
        "    x = 100 / 0 # error -> 0으로 나눌 수 x\n",
        "    return 'hello' # 실행되지 않았으면 하는 함수\n",
        "\n",
        "if f() or ff(): # 하지만 f()가 True이기 때문에 ff()를 평가하지 않음 -> 조건식 True(즉 ff()는 실행되지 않음)\n",
        "    print('hello') # 출력: hello"
      ],
      "metadata": {
        "colab": {
          "base_uri": "https://localhost:8080/"
        },
        "id": "qTml_oiYscrH",
        "outputId": "45b08c02-a84a-44e3-d8f4-9cccc37f8808"
      },
      "execution_count": 11,
      "outputs": [
        {
          "output_type": "stream",
          "name": "stdout",
          "text": [
            "hello\n"
          ]
        }
      ]
    },
    {
      "cell_type": "code",
      "source": [
        "# 삼항 연산자\n",
        "\n",
        "x = 5\n",
        "y = 10\n",
        "\n",
        "# 참일때 반환 값 / if / 조건식 / else / 거짓일때 반환 값\n",
        "result = 'x가 더 큽니다' if x > y else 'y와 같거나 y가 더 큽니다.'\n",
        "\n",
        "print(result)"
      ],
      "metadata": {
        "colab": {
          "base_uri": "https://localhost:8080/"
        },
        "id": "ll2tHkAcxluf",
        "outputId": "5b49b191-b267-4c33-bd0a-665401fd172a"
      },
      "execution_count": 12,
      "outputs": [
        {
          "output_type": "stream",
          "name": "stdout",
          "text": [
            "y와 같거나 y가 더 큽니다.\n"
          ]
        }
      ]
    },
    {
      "cell_type": "markdown",
      "source": [
        "# 람다함수\n",
        "\n",
        "* 익명함수라고 표현함 - 한줄로 표현가능, 임시 함수 생성 시 사용"
      ],
      "metadata": {
        "id": "OnmFboTa0PI7"
      }
    },
    {
      "cell_type": "code",
      "source": [
        "# 람다함수 예시\n",
        "# 예) 두 숫자를 더하는 간단한 람다함수를 만든다.\n",
        "\n",
        "# 원래 작성하던 방법\n",
        "# def sum(x, y):\n",
        "#     z = x + y\n",
        "#     return z\n",
        "\n",
        "# 콜론(:) 앞에 파라미터가 만들어지고 x + y라는 식이 생성되는 add 람다함수가 생성됨\n",
        "add = lambda x, y: x + y\n",
        "print(add(5, 3))"
      ],
      "metadata": {
        "colab": {
          "base_uri": "https://localhost:8080/"
        },
        "id": "wmC1msEg0Xya",
        "outputId": "091cc28d-9252-46f5-bc0c-55a138de92e1"
      },
      "execution_count": 15,
      "outputs": [
        {
          "output_type": "stream",
          "name": "stdout",
          "text": [
            "8\n"
          ]
        }
      ]
    },
    {
      "cell_type": "code",
      "source": [
        "# 람다식 사용\n",
        "\n",
        "# 홀짝을 판단하는 람다식 사용\n",
        "\n",
        "# my_function이라는 람다 함수를 생성\n",
        "my_function = lambda x: 'Even' if x % 2 == 0 else 'Odd' # x라는 값을 받으면 조건을 확인\n",
        "print(my_function(5)) # 람다를 이용하여 변수에 함수를 생성"
      ],
      "metadata": {
        "colab": {
          "base_uri": "https://localhost:8080/"
        },
        "id": "AVlrIcgczXnD",
        "outputId": "4bf3a261-1971-4812-9b03-28d8c99b6c02"
      },
      "execution_count": 16,
      "outputs": [
        {
          "output_type": "stream",
          "name": "stdout",
          "text": [
            "Odd\n"
          ]
        }
      ]
    },
    {
      "cell_type": "markdown",
      "source": [
        "# if,elif, else와 중첩조건문"
      ],
      "metadata": {
        "id": "n6evtK911pPe"
      }
    },
    {
      "cell_type": "code",
      "source": [
        "# if, else문의 기본구조\n",
        "if 조건문: # 조건문을 확인해서 만약 '참'이면 if 문 다음에 문장들은 수행합니다.\n",
        "    pass\n",
        "\t  # 수행할 문장 1 - 참일 경우에는 수행할 문장 1이 실행\n",
        "else: # if문의 조건이 거짓이면 else 문이 실행됩니다.(else에는 조건을 따로 적지 않아도 된다.)\n",
        "    pass\n",
        "\t  # 수행할 문장 2 - if에 조건문이 거짓일 경우 else에 있는 수행할 문장 2가 실행"
      ],
      "metadata": {
        "id": "VPW81zWn0F3X"
      },
      "execution_count": null,
      "outputs": []
    },
    {
      "cell_type": "code",
      "source": [
        "x = 3\n",
        "y = 1\n",
        "\n",
        "if x > y:\n",
        "    print('첫번째 값이 더 큽니다.')\n",
        "else:\n",
        "    print('두번째 값이 더 크거나 같습니다.') # 거짓일 때 수행이 가능해짐"
      ],
      "metadata": {
        "colab": {
          "base_uri": "https://localhost:8080/"
        },
        "id": "0sKBQqjb2q89",
        "outputId": "518eddd2-5ed7-4150-d56b-de9690e45875"
      },
      "execution_count": 17,
      "outputs": [
        {
          "output_type": "stream",
          "name": "stdout",
          "text": [
            "첫번째 값이 더 큽니다.\n"
          ]
        }
      ]
    },
    {
      "cell_type": "code",
      "source": [
        "x = 3\n",
        "y = 5\n",
        "\n",
        "if x > y:\n",
        "    print('첫번째 값이 더 큽니다.')\n",
        "else:\n",
        "    print('두번째 값이 더 크거나 같습니다.') # 거짓일 때 수행이 가능해짐"
      ],
      "metadata": {
        "colab": {
          "base_uri": "https://localhost:8080/"
        },
        "id": "8x8MGD_-2rWN",
        "outputId": "b8ec2e24-a091-4f4a-dbc7-585934b0d2fe"
      },
      "execution_count": 18,
      "outputs": [
        {
          "output_type": "stream",
          "name": "stdout",
          "text": [
            "두번째 값이 더 크거나 같습니다.\n"
          ]
        }
      ]
    },
    {
      "cell_type": "code",
      "source": [
        "# if, elif, else문의 기본구조 (조건이 3개 이상일 경우)\n",
        "# 조건이 늘어나면 elif만 추가하면 된다. if else는 그대로!\n",
        "# elif에는 조건식이 필요하다. 단 다른 조건과 겹치지 않게! (조건을 나누는 중요함)\n",
        "\n",
        "if 조건문: # 조건문을 확인해서 만약 '참'이면 if 문 다음에 문장들은 수행합니다.\n",
        "\t  # 수행할 문장 1\n",
        "    pass\n",
        "elif 추가조건: # if문의 조건이 '참'이 아니라면 elif 문의 조건문이 참이라면 수행한다.\n",
        "\t  # 수행할 문장 2\n",
        "    pass\n",
        "else: # 위 모든 if문, elif문의 조건이 '참'이 아니라면 수행합니다.\n",
        "\t  # 수행할 문장 3\n",
        "    pass"
      ],
      "metadata": {
        "id": "lMQEBLhd22Ej"
      },
      "execution_count": null,
      "outputs": []
    },
    {
      "cell_type": "code",
      "source": [
        "# if, elif, else문의 기본구조\n",
        "\n",
        "# elif 추가\n",
        "\n",
        "if 조건문: # 조건문을 확인해서 만약 '참'이면 if 문 다음에 문장들은 수행합니다.\n",
        "\t  # 수행할 문장 1\n",
        "    pass\n",
        "elif 추가조건1: # if문의 조건이 '참'이 아니라면 elif 문의 조건문이 참이라면 수행한다.\n",
        "\t  # 수행할 문장 2\n",
        "    pass\n",
        "elif 추가조건2:\n",
        "\t  # 수행할 문장 3\n",
        "    pass\n",
        "elif 추가조건3:\n",
        "\t  # 수행할 문장 4\n",
        "    pass\n",
        "else: # 위 모든 if문, elif문의 조건이 '참'이 아니라면 수행합니다.\n",
        "\t  # 수행할 문장 5\n",
        "    pass"
      ],
      "metadata": {
        "id": "ZSyXNuEL3arh"
      },
      "execution_count": null,
      "outputs": []
    },
    {
      "cell_type": "code",
      "source": [
        "# 성적입력 프로그램 - 기본\n",
        "score = int(input(\"성적을 입력하세요 (0-100): \"))\n",
        "\n",
        "if score >= 90: # 90점 이상일때\n",
        "    print(\"A\")\n",
        "elif 90 > score >= 80: # 80점 이상 90점 미만일때\n",
        "    print(\"B\")\n",
        "elif 80 > score >= 70: # 70점 이상 80점 미만일때\n",
        "    print(\"C\")\n",
        "elif 70 > score >= 60: # 60점 이상 70점 미만일때\n",
        "    print(\"D\")\n",
        "else:                  # 60점 미만일때\n",
        "    print(\"F\")"
      ],
      "metadata": {
        "colab": {
          "base_uri": "https://localhost:8080/"
        },
        "id": "yxwTuLe037uG",
        "outputId": "57cfbad3-c9fd-4ac0-d026-9542dc1f5c09"
      },
      "execution_count": 19,
      "outputs": [
        {
          "output_type": "stream",
          "name": "stdout",
          "text": [
            "성적을 입력하세요 (0-100): 90\n",
            "A\n"
          ]
        }
      ]
    },
    {
      "cell_type": "code",
      "source": [
        "# 위 코드 간략하게 수정\n",
        "score = int(input(\"성적을 입력하세요 (0-100): \"))\n",
        "\n",
        "if score >= 90:\n",
        "    print(\"A\")\n",
        "elif score >= 80:\n",
        "    print(\"B\")\n",
        "elif score >= 70:\n",
        "    print(\"C\")\n",
        "elif score >= 60:\n",
        "    print(\"D\")\n",
        "else:\n",
        "    print(\"F\")"
      ],
      "metadata": {
        "colab": {
          "base_uri": "https://localhost:8080/"
        },
        "id": "MuSscRBe3-Ht",
        "outputId": "3ad2136a-aedf-4a6c-bf55-5c22d0974cba"
      },
      "execution_count": 20,
      "outputs": [
        {
          "output_type": "stream",
          "name": "stdout",
          "text": [
            "성적을 입력하세요 (0-100): 100\n",
            "A\n"
          ]
        }
      ]
    },
    {
      "cell_type": "code",
      "source": [
        "# score에 따라 용돈 받는 프로그램\n",
        "\n",
        "score = 81\n",
        "money = 0\n",
        "\n",
        "if score >= 90:             # 90점 이상일때 1000000\n",
        "    money += 1000000\n",
        "elif score >= 80:           # 80점 이상일때 100000\n",
        "    money += 100000\n",
        "elif score >= 70:           # 70점 이상일때 10000\n",
        "    money += 10000\n",
        "elif score >= 60:           # 60점 이상일때 1000\n",
        "    money += 1000\n",
        "else:                       # 60점 미만일때 0\n",
        "    money = 0\n",
        "print(format(money, ',')) # 출력: 100,000"
      ],
      "metadata": {
        "colab": {
          "base_uri": "https://localhost:8080/"
        },
        "id": "qcBVvVlB6GqR",
        "outputId": "de494d30-a274-459a-a381-5430022b9c5c"
      },
      "execution_count": 22,
      "outputs": [
        {
          "output_type": "stream",
          "name": "stdout",
          "text": [
            "100,000\n"
          ]
        }
      ]
    },
    {
      "cell_type": "code",
      "source": [
        "# if만 사용했을 경우\n",
        "# 모든 조건을 확인하기 때문에 111000원이 출력된다.\n",
        "# 매번 if문에 걸리기 때문 - > 코드의 성능도 떨어진다.\n",
        "\n",
        "score = 81\n",
        "money = 0\n",
        "\n",
        "# 총 4개의 if문!\n",
        "if score >= 90:\n",
        "    money += 1000000\n",
        "if score >= 80:\n",
        "    money += 100000\n",
        "if score >= 70:\n",
        "    money += 10000\n",
        "if score >= 60:\n",
        "    money += 1000\n",
        "else:\n",
        "    money = 0\n",
        "print(money) # 출력: 111000"
      ],
      "metadata": {
        "colab": {
          "base_uri": "https://localhost:8080/"
        },
        "id": "7O5jLwUT6jYV",
        "outputId": "20df48c4-94f7-4341-e5c4-4ad4c5fdd899"
      },
      "execution_count": 23,
      "outputs": [
        {
          "output_type": "stream",
          "name": "stdout",
          "text": [
            "111000\n"
          ]
        }
      ]
    },
    {
      "cell_type": "code",
      "source": [
        "# if문 가지고 10만원이 나오게 하려면?\n",
        "\n",
        "score = 81\n",
        "money = 0\n",
        "\n",
        "# 총 4개의 if문!\n",
        "if score >= 90:\n",
        "    money += 1000000\n",
        "if 90 > score >= 80:\n",
        "    money += 100000\n",
        "if 80 > score >= 70:\n",
        "    money += 10000\n",
        "if 70 > score >= 60:\n",
        "    money += 1000\n",
        "if 60 > score:\n",
        "    money = 0\n",
        "print(money) # 출력: 111000"
      ],
      "metadata": {
        "colab": {
          "base_uri": "https://localhost:8080/"
        },
        "id": "Db5F6vkO_iCi",
        "outputId": "692f26a2-513e-4314-d14f-bd57aa7f3624"
      },
      "execution_count": 27,
      "outputs": [
        {
          "output_type": "stream",
          "name": "stdout",
          "text": [
            "100000\n"
          ]
        }
      ]
    },
    {
      "cell_type": "markdown",
      "source": [
        "# 2.2 중첩 if-else문\n",
        "\n",
        "해당 링크에서 파이썬 코드 실행 확인 가능\n",
        "\n",
        "[파이썬 튜토리얼](https://pythontutor.com/visualize.html#mode=edit)"
      ],
      "metadata": {
        "id": "DTHYQJrpA9-A"
      }
    },
    {
      "cell_type": "code",
      "source": [
        "# if를 중첩해서 사용하기\n",
        "movie = {\n",
        "    '영화': '레미제라블',\n",
        "    '장르': '드라마',\n",
        "    '서비스': '디즈니',\n",
        "    '비용': 15000,\n",
        "    '평점': 4.9\n",
        "}\n",
        "\n",
        "# 딕셔너리에 대한 값 비교\n",
        "if movie['장르'] == '드라마': # movie 딕셔너리의 장르 key의 value가 드라마라면\n",
        "    if movie['서비스'] == '디즈니' or movie['서비스'] == '넷플릭스': # key 서비스가의 value가 디즈니 또는 넷플릭스라면\n",
        "        if movie['평점'] >= 4.5: # key 평점의 value가 4.5 이상이라면\n",
        "            if movie['비용'] <= 20000: # key 비용의 value가 20000 이하라면\n",
        "                print('영화시청') # 출력: 영화시청"
      ],
      "metadata": {
        "colab": {
          "base_uri": "https://localhost:8080/"
        },
        "id": "G7QrnUI3_zrl",
        "outputId": "61241261-a156-4e53-ab7e-d68abbb9838d"
      },
      "execution_count": 28,
      "outputs": [
        {
          "output_type": "stream",
          "name": "stdout",
          "text": [
            "영화시청\n"
          ]
        }
      ]
    },
    {
      "cell_type": "code",
      "source": [
        "# if를 중첩해서 사용하기\n",
        "# 간략해진 것 맞나요?\n",
        "movie = {\n",
        "    '영화': '레미제라블',\n",
        "    '장르': '드라마',\n",
        "    '서비스': '디즈니',\n",
        "    '비용': 15000,\n",
        "    '평점': 4.9\n",
        "}\n",
        "\n",
        "if movie['장르'] == '드라마' and (movie['서비스'] == '디즈니' or movie['서비스'] == '넷플릭스') and movie['평점'] >= 4.5 and movie['비용'] <= 20000:\n",
        "    print('영화시청') # 출력: 영화시청"
      ],
      "metadata": {
        "colab": {
          "base_uri": "https://localhost:8080/"
        },
        "id": "05aIZYuRBExM",
        "outputId": "47e768d8-6a8f-47e3-faee-f137bbbd8de4"
      },
      "execution_count": 30,
      "outputs": [
        {
          "output_type": "stream",
          "name": "stdout",
          "text": [
            "영화시청\n"
          ]
        }
      ]
    },
    {
      "cell_type": "code",
      "source": [
        "# else 활용\n",
        "\n",
        "movie = {\n",
        "    '영화': '레미제라블',\n",
        "    '장르': '드라마',\n",
        "    '서비스': '왓챠',\n",
        "    '비용': 15000,\n",
        "    '평점': 4.9\n",
        "}\n",
        "\n",
        "if movie['장르'] == 'SF':\n",
        "    if movie['서비스'] == '디즈니' or movie['서비스'] == '넷플릭스':\n",
        "        if movie['평점'] >= 4.5 and movie['비용'] <= 20000:\n",
        "            print('영화시청')\n",
        "else:\n",
        "    print(movie['서비스'] + ' 구독하기!') # 출력: 왓챠 구독하기!"
      ],
      "metadata": {
        "colab": {
          "base_uri": "https://localhost:8080/"
        },
        "id": "NJ6UNB7ICw6Z",
        "outputId": "c00f684a-236a-4e1d-e9fb-be39e3fe4418"
      },
      "execution_count": 33,
      "outputs": [
        {
          "output_type": "stream",
          "name": "stdout",
          "text": [
            "왓챠 구독하기!\n"
          ]
        }
      ]
    },
    {
      "cell_type": "code",
      "source": [],
      "metadata": {
        "id": "WVaX2wavDHBV"
      },
      "execution_count": null,
      "outputs": []
    }
  ]
}