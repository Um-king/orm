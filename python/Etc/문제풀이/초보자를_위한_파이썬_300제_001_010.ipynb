{
  "nbformat": 4,
  "nbformat_minor": 0,
  "metadata": {
    "colab": {
      "provenance": []
    },
    "kernelspec": {
      "name": "python3",
      "display_name": "Python 3"
    },
    "language_info": {
      "name": "python"
    }
  },
  "cells": [
    {
      "cell_type": "markdown",
      "source": [
        "# 초보자를 위한 파이썬 300제\n",
        "\n",
        "### 1.파이썬 시작하기\n",
        "* 문제 001 ~ 010"
      ],
      "metadata": {
        "id": "5tKFeoJrsPGS"
      }
    },
    {
      "cell_type": "code",
      "source": [
        "# 1. 화면에 Hello World 문자열을 출력하세요.\n",
        "\n",
        "print(\"Hello World\")"
      ],
      "metadata": {
        "colab": {
          "base_uri": "https://localhost:8080/"
        },
        "id": "dV-93qb9sacS",
        "outputId": "4297cea8-8a7a-4072-ff7a-f16e159f92ee"
      },
      "execution_count": 1,
      "outputs": [
        {
          "output_type": "stream",
          "name": "stdout",
          "text": [
            "Hello World\n"
          ]
        }
      ]
    },
    {
      "cell_type": "code",
      "source": [
        "# 2. 화면에 Mary's cosmetics을 출력하세요. (중간에 '가 있음에 주의하세요)\n",
        "\n",
        "print(\"Mary's cosmetics\")"
      ],
      "metadata": {
        "colab": {
          "base_uri": "https://localhost:8080/"
        },
        "id": "1s1iNZqBszMv",
        "outputId": "703b7ef6-12de-4191-8ba4-d8da64ef8523"
      },
      "execution_count": 2,
      "outputs": [
        {
          "output_type": "stream",
          "name": "stdout",
          "text": [
            "Mary's cosmetics\n"
          ]
        }
      ]
    },
    {
      "cell_type": "code",
      "source": [
        "# 3. 화면에 아래 문장을 출력하세요. (중간에 \"가 있음에 주의하세요.)\n",
        "\n",
        "print(\"\\\"도둑이야\\\"\")"
      ],
      "metadata": {
        "colab": {
          "base_uri": "https://localhost:8080/"
        },
        "id": "gv5Tm_CRs9gj",
        "outputId": "eb732f44-a71e-445a-f923-9769864f9e44"
      },
      "execution_count": 3,
      "outputs": [
        {
          "output_type": "stream",
          "name": "stdout",
          "text": [
            "\"도둑이야\"\n"
          ]
        }
      ]
    },
    {
      "cell_type": "code",
      "source": [
        "# 4. 화면에 C:\\Windows를 출력하세요.\n",
        "\n",
        "print(\"C:\\Windows\") # Backspace 아래 [\\] key\n"
      ],
      "metadata": {
        "colab": {
          "base_uri": "https://localhost:8080/"
        },
        "id": "mqS4f2nxtK6D",
        "outputId": "ecb2438b-52c2-48fc-b5cd-7845c1366385"
      },
      "execution_count": 4,
      "outputs": [
        {
          "output_type": "stream",
          "name": "stdout",
          "text": [
            "C:\\Windows\n"
          ]
        }
      ]
    },
    {
      "cell_type": "code",
      "source": [
        "# 5. 다음 코드를 실행해보고 \\t와 \\n의 역할을 설명해보세요.\n",
        "\n",
        "'''\n",
        "print(\"안녕하세요.\\n만나서\\t\\t반갑습니다.\")\n",
        "\n",
        "> \\n : 줄바꿈 / \\t : 탭(띄어쓰기)\n",
        "'''"
      ],
      "metadata": {
        "id": "CnUPygQEtaBh"
      },
      "execution_count": null,
      "outputs": []
    },
    {
      "cell_type": "code",
      "source": [
        "# 6. print 함수에 두 개의 단어를 입력한 예제입니다. 아래 코드의 출력 결과를 예상해봅시다.\n",
        "\n",
        "'''\n",
        "print (\"오늘은\", \"일요일\")\n",
        "\n",
        "> 오늘은 일요일 # 오늘은_일요일 : 공백 존재\n",
        "'''"
      ],
      "metadata": {
        "id": "8ZxXDEtsuBSd"
      },
      "execution_count": null,
      "outputs": []
    },
    {
      "cell_type": "code",
      "source": [
        "# 7. print() 함수를 사용하여 다음과 같이 출력하세요.\n",
        "# naver;kakao;sk;samsung\n",
        "\n",
        "print(\"naver\", \"kakao\", \"sk\", \"samsung\", sep = \";\")"
      ],
      "metadata": {
        "colab": {
          "base_uri": "https://localhost:8080/"
        },
        "id": "WWVXgNacuqMT",
        "outputId": "b21be55e-0818-4523-f9ea-1287d5f20e0a"
      },
      "execution_count": 5,
      "outputs": [
        {
          "output_type": "stream",
          "name": "stdout",
          "text": [
            "naver;kakao;sk;samsung\n"
          ]
        }
      ]
    },
    {
      "cell_type": "code",
      "source": [
        "# 8. print() 함수를 사용하여 다음과 같이 출력하세요.\n",
        "# naver/kakao/sk/samsung\n",
        "\n",
        "print(\"naver\", \"kakao\", \"sk\", \"samsung\", sep = \"/\")"
      ],
      "metadata": {
        "colab": {
          "base_uri": "https://localhost:8080/"
        },
        "id": "xBOXm8pLuzI5",
        "outputId": "d72cab93-7296-4e91-9e62-994c5fce9759"
      },
      "execution_count": 6,
      "outputs": [
        {
          "output_type": "stream",
          "name": "stdout",
          "text": [
            "naver/kakao/sk/samsung\n"
          ]
        }
      ]
    },
    {
      "cell_type": "code",
      "source": [
        "# 9. 다음 코드를 수정하여 줄바꿈이 없이 출력하세요.\n",
        "# print(\"first\");print(\"second\")\n",
        "\n",
        "print(\"first\", end = \"\");print(\"second\")"
      ],
      "metadata": {
        "colab": {
          "base_uri": "https://localhost:8080/"
        },
        "id": "1F9Cep7xv_4F",
        "outputId": "d1272da2-eeca-4328-f04c-442b8859cb3c"
      },
      "execution_count": 8,
      "outputs": [
        {
          "output_type": "stream",
          "name": "stdout",
          "text": [
            "firstsecond\n"
          ]
        }
      ]
    },
    {
      "cell_type": "code",
      "source": [
        "# 10. 5/3의 결과를 화면에 출력하세요.\n",
        "\n",
        "print(5/3)"
      ],
      "metadata": {
        "colab": {
          "base_uri": "https://localhost:8080/"
        },
        "id": "LshlRQMAwVPL",
        "outputId": "e6e1ae59-f48d-4596-838a-e38816448f0a"
      },
      "execution_count": 9,
      "outputs": [
        {
          "output_type": "stream",
          "name": "stdout",
          "text": [
            "1.6666666666666667\n"
          ]
        }
      ]
    },
    {
      "cell_type": "code",
      "source": [],
      "metadata": {
        "id": "W_xtbeB9wnnH"
      },
      "execution_count": null,
      "outputs": []
    }
  ]
}