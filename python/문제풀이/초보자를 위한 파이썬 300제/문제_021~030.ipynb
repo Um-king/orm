{
  "nbformat": 4,
  "nbformat_minor": 0,
  "metadata": {
    "colab": {
      "provenance": [],
      "authorship_tag": "ABX9TyMPuISS5waBn2LHFSHlGRq5",
      "include_colab_link": true
    },
    "kernelspec": {
      "name": "python3",
      "display_name": "Python 3"
    },
    "language_info": {
      "name": "python"
    }
  },
  "cells": [
    {
      "cell_type": "markdown",
      "metadata": {
        "id": "view-in-github",
        "colab_type": "text"
      },
      "source": [
        "<a href=\"https://colab.research.google.com/github/Um-king/orm/blob/main/%EC%B4%88%EB%B3%B4%EC%9E%90%EB%A5%BC_%EC%9C%84%ED%95%9C_%ED%8C%8C%EC%9D%B4%EC%8D%AC_300%EC%A0%9C_021~030.ipynb\" target=\"_parent\"><img src=\"https://colab.research.google.com/assets/colab-badge.svg\" alt=\"Open In Colab\"/></a>"
      ]
    },
    {
      "cell_type": "markdown",
      "source": [
        "# 초보자를 위한 파이썬 300제\n",
        "\n",
        "### 3.파이썬 문자열\n",
        "* 문제 021 ~ 030"
      ],
      "metadata": {
        "id": "nIgNljw9btIC"
      }
    },
    {
      "cell_type": "code",
      "source": [
        "# 1. letters가 바인딩하는 문자열에서 첫번째와 세번째 문자를 출력하세요.\n",
        "'''\n",
        "실행 예\n",
        "p t\n",
        "'''\n",
        "\n",
        "letters = \"python\"\n",
        "print(letters[0], letters[2])"
      ],
      "metadata": {
        "colab": {
          "base_uri": "https://localhost:8080/"
        },
        "id": "-KZTyz5dbyx-",
        "outputId": "db22d58c-215e-4ffc-bdfd-95b0d2621663"
      },
      "execution_count": 2,
      "outputs": [
        {
          "output_type": "stream",
          "name": "stdout",
          "text": [
            "p t\n"
          ]
        }
      ]
    },
    {
      "cell_type": "code",
      "source": [
        "# 2. 자동차 번호가 다음과 같을 때 뒤에 4자리만 출력하세요.\n",
        "'''\n",
        "ed!실행 예: 2210\n",
        "'''\n",
        "\n",
        "license_plate = \"24가 2210\"\n",
        "print(license_plate[-4:])\n"
      ],
      "metadata": {
        "colab": {
          "base_uri": "https://localhost:8080/"
        },
        "id": "VRj9TEOJcE3A",
        "outputId": "ec339f67-9b0a-4f74-8698-1072078768c9"
      },
      "execution_count": 9,
      "outputs": [
        {
          "output_type": "stream",
          "name": "stdout",
          "text": [
            "2210\n"
          ]
        }
      ]
    },
    {
      "cell_type": "code",
      "source": [
        "# 3. 아래의 문자열에서 '홀' 만 출력하세요.\n",
        "'''\n",
        "실행 예:\n",
        "홀홀홀\n",
        "'''\n",
        "\n",
        "str = \"홀짝홀짝홀짝\"\n",
        "print(str[::2]) # 시작인덱스, #종료인덱스, #오프셋\n",
        "print(str.replace(\"짝\", \"\")) # 짝이란 문자열 공백으로 변경\n"
      ],
      "metadata": {
        "colab": {
          "base_uri": "https://localhost:8080/"
        },
        "id": "XNEh4H2Pc4RM",
        "outputId": "5143f0da-e17c-4cc9-a2c7-a65632eb58bf"
      },
      "execution_count": 12,
      "outputs": [
        {
          "output_type": "stream",
          "name": "stdout",
          "text": [
            "홀홀홀\n",
            "홀홀홀\n"
          ]
        }
      ]
    },
    {
      "cell_type": "code",
      "source": [
        "# 4. 문자열을 거꾸로 뒤집어 출력하세요\n",
        "'''\n",
        "실행 예:\n",
        "NOHTYP\n",
        "'''\n",
        "\n",
        "str = \"PYTHON\"\n",
        "print(str[::-1]) # 문자열 슬라이싱을 통한 역순 출력"
      ],
      "metadata": {
        "colab": {
          "base_uri": "https://localhost:8080/"
        },
        "id": "0hdrFKoed4rs",
        "outputId": "88ee7956-b677-44cc-db01-83fdc7c59327"
      },
      "execution_count": 17,
      "outputs": [
        {
          "output_type": "stream",
          "name": "stdout",
          "text": [
            "NOHTYP\n"
          ]
        }
      ]
    },
    {
      "cell_type": "code",
      "source": [
        "# 5. 아래의 전화번호에서 하이푼 ('-')을 제거하고 출력하세요.\n",
        "'''\n",
        "실행 예\n",
        "010 1111 2222\n",
        "'''\n",
        "\n",
        "phone_number = \"010-1111-2222\"\n",
        "print(phone_number.replace(\"-\", \" \"))"
      ],
      "metadata": {
        "colab": {
          "base_uri": "https://localhost:8080/"
        },
        "id": "xxKUafZPeoBw",
        "outputId": "3550a5f6-0890-483a-e573-63ce19ec087c"
      },
      "execution_count": 21,
      "outputs": [
        {
          "output_type": "stream",
          "name": "stdout",
          "text": [
            "010 1111 2222\n"
          ]
        }
      ]
    },
    {
      "cell_type": "code",
      "source": [
        "# 6. 25번 문제의 전화번호를 아래와 같이 모두 붙여 출력하세요.\n",
        "\n",
        "print(phone_number.replace(\"-\", \"\"))\n"
      ],
      "metadata": {
        "colab": {
          "base_uri": "https://localhost:8080/"
        },
        "id": "HQKXomgrfSnC",
        "outputId": "a2c9fe23-575b-4e70-fc9d-9d4013255e29"
      },
      "execution_count": 22,
      "outputs": [
        {
          "output_type": "stream",
          "name": "stdout",
          "text": [
            "01011112222\n"
          ]
        }
      ]
    },
    {
      "cell_type": "code",
      "source": [
        "# 7. url 에 저장된 웹 페이지 주소에서 도메인을 출력하세요.\n",
        "'''\n",
        "실행 예:\n",
        "kr\n",
        "'''\n",
        "\n",
        "url = \"http://sharebook.kr\"\n",
        "print(url.split('.')[-1])\n"
      ],
      "metadata": {
        "colab": {
          "base_uri": "https://localhost:8080/"
        },
        "id": "017c39tdfnEE",
        "outputId": "9f319937-39d0-4913-b525-1942fc00fab4"
      },
      "execution_count": 25,
      "outputs": [
        {
          "output_type": "stream",
          "name": "stdout",
          "text": [
            "kr\n"
          ]
        }
      ]
    },
    {
      "cell_type": "code",
      "source": [
        "# 8. 아래 코드의 실행 결과를 예상해보세요.\n",
        "'''\n",
        ">> lang = 'python'\n",
        ">> lang[0] = 'P'\n",
        ">> print(lang)\n",
        "'''\n",
        "\n",
        "# 문자열은 수정 불가!\n",
        "lang = 'python'\n",
        "lang[0] = 'P' # 문자열의 해당 인덱스의 값들은 수정할 수 없다.\n",
        "print(lang)"
      ],
      "metadata": {
        "colab": {
          "base_uri": "https://localhost:8080/",
          "height": 237
        },
        "id": "55MmiTWIf4Dp",
        "outputId": "73d2d9f2-797f-4c1c-ce4d-7357ce076156"
      },
      "execution_count": 26,
      "outputs": [
        {
          "output_type": "error",
          "ename": "TypeError",
          "evalue": "ignored",
          "traceback": [
            "\u001b[0;31m---------------------------------------------------------------------------\u001b[0m",
            "\u001b[0;31mTypeError\u001b[0m                                 Traceback (most recent call last)",
            "\u001b[0;32m<ipython-input-26-6efd8c349cb2>\u001b[0m in \u001b[0;36m<cell line: 10>\u001b[0;34m()\u001b[0m\n\u001b[1;32m      8\u001b[0m \u001b[0;31m# 문자열은 수정 불가!\u001b[0m\u001b[0;34m\u001b[0m\u001b[0;34m\u001b[0m\u001b[0m\n\u001b[1;32m      9\u001b[0m \u001b[0mlang\u001b[0m \u001b[0;34m=\u001b[0m \u001b[0;34m'python'\u001b[0m\u001b[0;34m\u001b[0m\u001b[0;34m\u001b[0m\u001b[0m\n\u001b[0;32m---> 10\u001b[0;31m \u001b[0mlang\u001b[0m\u001b[0;34m[\u001b[0m\u001b[0;36m0\u001b[0m\u001b[0;34m]\u001b[0m \u001b[0;34m=\u001b[0m \u001b[0;34m'P'\u001b[0m\u001b[0;34m\u001b[0m\u001b[0;34m\u001b[0m\u001b[0m\n\u001b[0m\u001b[1;32m     11\u001b[0m \u001b[0mprint\u001b[0m\u001b[0;34m(\u001b[0m\u001b[0mlang\u001b[0m\u001b[0;34m)\u001b[0m\u001b[0;34m\u001b[0m\u001b[0;34m\u001b[0m\u001b[0m\n",
            "\u001b[0;31mTypeError\u001b[0m: 'str' object does not support item assignment"
          ]
        }
      ]
    },
    {
      "cell_type": "code",
      "source": [
        "# 9. 아래 문자열에서 소문자 'a'를 대문자 'A'로 변경하세요.\n",
        "\n",
        "str = 'abcdfe2a354a32a'\n",
        "str_change = str.replace('a', 'A')\n",
        "\n",
        "print(str_change)"
      ],
      "metadata": {
        "colab": {
          "base_uri": "https://localhost:8080/"
        },
        "id": "uaNJQM1ygftt",
        "outputId": "a50567c0-4a7f-4899-a6bd-2aa8cbf01860"
      },
      "execution_count": 27,
      "outputs": [
        {
          "output_type": "stream",
          "name": "stdout",
          "text": [
            "Abcdfe2A354A32A\n"
          ]
        }
      ]
    },
    {
      "cell_type": "code",
      "source": [
        "# 10. 아래 코드의 실행 결과를 예상해보세요.\n",
        "'''\n",
        ">> string = 'abcd'\n",
        ">> string.replace('b', 'B')\n",
        ">> print(string)\n",
        "'''\n",
        "\n",
        "# 문자열은 변경할 수 없다. 새로운 변수에 값을 할당하여 변경된 값을 저장해야하고, 본 변수의 값은 수정되지 않는다.\n",
        "string = 'abcd'\n",
        "string.replace('b', 'B')\n",
        "print(string)\n"
      ],
      "metadata": {
        "colab": {
          "base_uri": "https://localhost:8080/"
        },
        "id": "PYlFre26g1mp",
        "outputId": "22fccc19-6749-409a-868f-3ebdf2aedb6a"
      },
      "execution_count": 28,
      "outputs": [
        {
          "output_type": "stream",
          "name": "stdout",
          "text": [
            "abcd\n"
          ]
        }
      ]
    },
    {
      "cell_type": "code",
      "source": [],
      "metadata": {
        "id": "X2W2Vx3hhF6w"
      },
      "execution_count": null,
      "outputs": []
    }
  ]
}