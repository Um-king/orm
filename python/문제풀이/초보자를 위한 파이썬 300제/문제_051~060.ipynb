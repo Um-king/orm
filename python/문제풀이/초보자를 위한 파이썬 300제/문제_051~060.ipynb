{
  "nbformat": 4,
  "nbformat_minor": 0,
  "metadata": {
    "colab": {
      "provenance": []
    },
    "kernelspec": {
      "name": "python3",
      "display_name": "Python 3"
    },
    "language_info": {
      "name": "python"
    }
  },
  "cells": [
    {
      "cell_type": "markdown",
      "source": [
        "# 초보자를 위한 파이썬 300제\n",
        "### 051~060"
      ],
      "metadata": {
        "id": "MJ_rODWHjo-t"
      }
    },
    {
      "cell_type": "code",
      "source": [
        "# 51. 2016년 11월 영화 예매 순위 기준 top3는 다음과 같습니다. 영화 제목을 movie_rank 이름의 리스트에 저장해보세요. (순위 정보는 저장하지 않습니다.)\n",
        "\n",
        "'''\n",
        "순위\t영화\n",
        "1\t닥터 스트레인지\n",
        "2\t스플릿\n",
        "3\t럭키\n",
        "'''\n",
        "\n",
        "movie_rank = ['닥터 스트레인지', '스플릿', '럭키']\n",
        "movie_rank"
      ],
      "metadata": {
        "colab": {
          "base_uri": "https://localhost:8080/"
        },
        "id": "r4Gs4P7ejtcR",
        "outputId": "e7862cd5-77b0-49eb-86ca-86b9e0fef109"
      },
      "execution_count": null,
      "outputs": [
        {
          "output_type": "execute_result",
          "data": {
            "text/plain": [
              "['닥터 스트레인지', '스플릿', '럭키']"
            ]
          },
          "metadata": {},
          "execution_count": 1
        }
      ]
    },
    {
      "cell_type": "code",
      "source": [
        "# 52. 051의 movie_rank 리스트에 \"배트맨\"을 추가하라.\n",
        "\n",
        "movie_rank = ['닥터 스트레인지', '스플릿', '럭키']\n",
        "movie_rank.append('배트맨')\n",
        "\n",
        "movie_rank"
      ],
      "metadata": {
        "colab": {
          "base_uri": "https://localhost:8080/"
        },
        "id": "7u2g6MsJj-ez",
        "outputId": "1fb4fb11-9eca-4c6d-95d1-6fa5ebedb6f0"
      },
      "execution_count": null,
      "outputs": [
        {
          "output_type": "execute_result",
          "data": {
            "text/plain": [
              "['닥터 스트레인지', '스플릿', '럭키', '배트맨']"
            ]
          },
          "metadata": {},
          "execution_count": 2
        }
      ]
    },
    {
      "cell_type": "code",
      "source": [
        "# 53. movie_rank 리스트에는 아래와 같이 네 개의 영화 제목이 바인딩되어 있다. \"슈퍼맨\"을 \"닥터 스트레인지\"와 \"스플릿\" 사이에 추가하라.\n",
        "\n",
        "movie_rank = ['닥터 스트레인지', '스플릿', '럭키', '배트맨']\n",
        "movie_rank.insert(1, '슈퍼맨')\n",
        "movie_rank"
      ],
      "metadata": {
        "colab": {
          "base_uri": "https://localhost:8080/"
        },
        "id": "5O3pQOpXkGCt",
        "outputId": "5addcae2-37d5-4b56-f2ee-3540b4ad7870"
      },
      "execution_count": null,
      "outputs": [
        {
          "output_type": "execute_result",
          "data": {
            "text/plain": [
              "['닥터 스트레인지', '슈퍼맨', '스플릿', '럭키', '배트맨']"
            ]
          },
          "metadata": {},
          "execution_count": 4
        }
      ]
    },
    {
      "cell_type": "code",
      "source": [
        "# 54. movie_rank 리스트에서 '럭키'를 삭제하라.\n",
        "\n",
        "movie_rank = ['닥터 스트레인지', '슈퍼맨', '스플릿', '럭키', '배트맨']\n",
        "movie_rank.remove('럭키')\n",
        "movie_rank"
      ],
      "metadata": {
        "colab": {
          "base_uri": "https://localhost:8080/"
        },
        "id": "6CqMO2cDkV3f",
        "outputId": "b6916c3b-8dac-41c9-8bb5-6827fd1b59be"
      },
      "execution_count": null,
      "outputs": [
        {
          "output_type": "execute_result",
          "data": {
            "text/plain": [
              "['닥터 스트레인지', '슈퍼맨', '스플릿', '배트맨']"
            ]
          },
          "metadata": {},
          "execution_count": 5
        }
      ]
    },
    {
      "cell_type": "code",
      "source": [
        "# 55. movie_rank 리스트에서 '스플릿' 과 '배트맨'을 를 삭제하라.\n",
        "movie_rank = ['닥터 스트레인지', '슈퍼맨', '스플릿', '럭키', '배트맨']\n",
        "movie_rank.remove('스플릿')\n",
        "movie_rank.remove('배트맨')\n",
        "movie_rank"
      ],
      "metadata": {
        "colab": {
          "base_uri": "https://localhost:8080/"
        },
        "id": "VafpLPfKktZs",
        "outputId": "caf3c02f-0b3a-478e-c302-16bc534ed742"
      },
      "execution_count": null,
      "outputs": [
        {
          "output_type": "execute_result",
          "data": {
            "text/plain": [
              "['닥터 스트레인지', '슈퍼맨', '럭키']"
            ]
          },
          "metadata": {},
          "execution_count": 7
        }
      ]
    },
    {
      "cell_type": "code",
      "source": [
        "# 56. lang1과 lang2 리스트가 있을 때 lang1과 lang2의 원소를 모두 갖고 있는 langs 리스트를 만들어라.\n",
        "\n",
        "lang1 = [\"C\", \"C++\", \"JAVA\"]\n",
        "lang2 = [\"Python\", \"Go\", \"C#\"]\n",
        "\n",
        "langs = lang1 + lang2\n",
        "langs"
      ],
      "metadata": {
        "colab": {
          "base_uri": "https://localhost:8080/"
        },
        "id": "jjGPzPuSlEw0",
        "outputId": "f6159e04-fca5-4fea-ea67-a4db99ae2d3b"
      },
      "execution_count": null,
      "outputs": [
        {
          "output_type": "execute_result",
          "data": {
            "text/plain": [
              "['C', 'C++', 'JAVA', 'Python', 'Go', 'C#']"
            ]
          },
          "metadata": {},
          "execution_count": 9
        }
      ]
    },
    {
      "cell_type": "code",
      "source": [
        "# 57. 다음 리스트에서 최댓값과 최솟값을 출력하라. (힌트: min(), max() 함수 사용)\n",
        "\n",
        "nums = [1, 2, 3, 4, 5, 6, 7]\n",
        "\n",
        "print(\"max: \", max(nums))\n",
        "print(\"min: \", min(nums))"
      ],
      "metadata": {
        "colab": {
          "base_uri": "https://localhost:8080/"
        },
        "id": "Cjto6XNWlRwX",
        "outputId": "128feaed-807e-47eb-e0b3-0eb38f397470"
      },
      "execution_count": null,
      "outputs": [
        {
          "output_type": "stream",
          "name": "stdout",
          "text": [
            "7\n",
            "1\n"
          ]
        }
      ]
    },
    {
      "cell_type": "code",
      "source": [
        "# 58. 다음 리스트의 합을 출력하라.\n",
        "\n",
        "nums = [1, 2, 3, 4, 5]\n",
        "print(sum(nums))"
      ],
      "metadata": {
        "colab": {
          "base_uri": "https://localhost:8080/"
        },
        "id": "_UTHUWCPlYTX",
        "outputId": "d23376df-af70-4909-d4d5-6a471c5b7ed2"
      },
      "execution_count": null,
      "outputs": [
        {
          "output_type": "stream",
          "name": "stdout",
          "text": [
            "15\n"
          ]
        }
      ]
    },
    {
      "cell_type": "code",
      "source": [
        "# 59. 다음 리스트에 저장된 데이터의 개수를 화면에 구하하라.\n",
        "\n",
        "cook = [\"피자\", \"김밥\", \"만두\", \"양념치킨\", \"족발\", \"피자\", \"김치만두\", \"쫄면\", \"소시지\", \"라면\", \"팥빙수\", \"김치전\"]\n",
        "print(len(cook))"
      ],
      "metadata": {
        "colab": {
          "base_uri": "https://localhost:8080/"
        },
        "id": "ZLI2BmMkle5T",
        "outputId": "bb456829-611e-43f6-fce3-b9a365967dad"
      },
      "execution_count": null,
      "outputs": [
        {
          "output_type": "stream",
          "name": "stdout",
          "text": [
            "12\n"
          ]
        }
      ]
    },
    {
      "cell_type": "code",
      "source": [
        "# 60. 다음 리스트의 평균을 출력하라.\n",
        "\n",
        "nums = [1, 2, 3, 4, 5]\n",
        "average = sum(nums) / len(nums)\n",
        "average"
      ],
      "metadata": {
        "colab": {
          "base_uri": "https://localhost:8080/"
        },
        "id": "AnRcjzrPlmQM",
        "outputId": "4c42421c-f635-492e-bdd1-0e95de2081ba"
      },
      "execution_count": null,
      "outputs": [
        {
          "output_type": "execute_result",
          "data": {
            "text/plain": [
              "3.0"
            ]
          },
          "metadata": {},
          "execution_count": 13
        }
      ]
    },
    {
      "cell_type": "code",
      "source": [],
      "metadata": {
        "id": "RtFM2_NBlvgc"
      },
      "execution_count": null,
      "outputs": []
    }
  ]
}