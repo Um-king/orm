{
  "nbformat": 4,
  "nbformat_minor": 0,
  "metadata": {
    "colab": {
      "provenance": []
    },
    "kernelspec": {
      "name": "python3",
      "display_name": "Python 3"
    },
    "language_info": {
      "name": "python"
    }
  },
  "cells": [
    {
      "cell_type": "code",
      "execution_count": null,
      "metadata": {
        "id": "XIbEda-h4pHQ"
      },
      "outputs": [],
      "source": [
        "# 101. 파이썬에서 True 혹은 False를 갖는 데이터 타입은 무엇인가?\n",
        "\n",
        "'''\n",
        ">> 결과\n",
        "bool 타입\n",
        "'''"
      ]
    },
    {
      "cell_type": "code",
      "source": [
        "# 102. 아래 코드의 출력 결과를 예상하라\n",
        "\n",
        "print(3 == 5)\n",
        "\n",
        "'''\n",
        ">> 결과\n",
        "False / 3 과 5는 같지 않다.\n",
        "'''"
      ],
      "metadata": {
        "id": "dTfMSerc4zOE"
      },
      "execution_count": null,
      "outputs": []
    },
    {
      "cell_type": "code",
      "source": [
        "# 103. 아래 코드의 출력 결과를 예상하라\n",
        "\n",
        "print(3 < 5)\n",
        "\n",
        "'''\n",
        ">> 결과\n",
        "True / 3은 5보다 작다\n",
        "'''"
      ],
      "metadata": {
        "id": "5w7H-vFI46xs"
      },
      "execution_count": null,
      "outputs": []
    },
    {
      "cell_type": "code",
      "source": [
        "# 104. 아래 코드의 결과를 예상하라.\n",
        "\n",
        "x = 4\n",
        "print(1 < x < 5)\n",
        "\n",
        "'''\n",
        ">> 결과\n",
        "True\n",
        "'''"
      ],
      "metadata": {
        "id": "tC8uo6xC5DpY"
      },
      "execution_count": null,
      "outputs": []
    },
    {
      "cell_type": "code",
      "source": [
        "# 105. 아래 코드의 결과를 예상하라.\n",
        "\n",
        "print ((3 == 3) and (4 != 3))\n",
        "\n",
        "'''\n",
        ">> 결과\n",
        "True\n",
        "'''"
      ],
      "metadata": {
        "id": "nN17JH_Q5Inv"
      },
      "execution_count": null,
      "outputs": []
    },
    {
      "cell_type": "code",
      "source": [
        "# 106. 아래 코드에서 에러가 발생하는 원인에 대해 설명하라.\n",
        "\n",
        "print(3 => 4)\n",
        "\n",
        "'''\n",
        ">> 결과\n",
        "=> 연산자는 지원하지 않는 연산자이다.\n",
        "'''"
      ],
      "metadata": {
        "id": "sslGTHkX5NFo"
      },
      "execution_count": null,
      "outputs": []
    },
    {
      "cell_type": "code",
      "source": [
        "# 107. 아래 코드의 출력 결과를 예상하라\n",
        "\n",
        "if 4 < 3:\n",
        "    print(\"Hello World\")\n",
        "\n",
        "'''\n",
        ">> 결과\n",
        "조건에 만족하지 않기 때문에 출력x\n",
        "'''"
      ],
      "metadata": {
        "id": "uunKT3UN5U3O"
      },
      "execution_count": null,
      "outputs": []
    },
    {
      "cell_type": "code",
      "source": [
        "# 108. 아래 코드의 출력 결과를 예상하라\n",
        "\n",
        "if 4 < 3:\n",
        "    print(\"Hello World.\")\n",
        "else:\n",
        "    print(\"Hi, there.\")\n",
        "\n",
        "'''\n",
        ">> 결과\n",
        "Hi, there.\n",
        "'''"
      ],
      "metadata": {
        "id": "U-SAOUiP5fqu"
      },
      "execution_count": null,
      "outputs": []
    },
    {
      "cell_type": "code",
      "source": [
        "# 109. 아래 코드의 출력 결과를 예상하라\n",
        "\n",
        "if True :\n",
        "    print (\"1\")\n",
        "    print (\"2\")\n",
        "else :\n",
        "    print(\"3\")\n",
        "print(\"4\")\n",
        "\n",
        "'''\n",
        ">> 결과\n",
        "1\n",
        "2\n",
        "4\n",
        "'''"
      ],
      "metadata": {
        "id": "VvwEOdRi5lec"
      },
      "execution_count": null,
      "outputs": []
    },
    {
      "cell_type": "code",
      "source": [
        "# 110. 아래 코드의 출력 결과를 예상하라\n",
        "\n",
        "if True :\n",
        "    if False:\n",
        "        print(\"1\")\n",
        "        print(\"2\")\n",
        "    else:\n",
        "        print(\"3\")\n",
        "else :\n",
        "    print(\"4\")\n",
        "print(\"5\")\n",
        "\n",
        "'''\n",
        ">> 결과\n",
        "3\n",
        "5\n",
        "'''"
      ],
      "metadata": {
        "id": "xcvGC15m5u9I"
      },
      "execution_count": null,
      "outputs": []
    }
  ]
}