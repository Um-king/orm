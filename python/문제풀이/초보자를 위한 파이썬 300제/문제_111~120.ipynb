{
  "nbformat": 4,
  "nbformat_minor": 0,
  "metadata": {
    "colab": {
      "provenance": []
    },
    "kernelspec": {
      "name": "python3",
      "display_name": "Python 3"
    },
    "language_info": {
      "name": "python"
    }
  },
  "cells": [
    {
      "cell_type": "code",
      "execution_count": 1,
      "metadata": {
        "colab": {
          "base_uri": "https://localhost:8080/"
        },
        "id": "hxSRCJRs566-",
        "outputId": "7e8f60ae-0fe9-449b-d152-14826241f05a"
      },
      "outputs": [
        {
          "output_type": "stream",
          "name": "stdout",
          "text": [
            "안녕하세요\n",
            "안녕하세요안녕하세요\n"
          ]
        }
      ],
      "source": [
        "# 111. 사용자로부터 입력받은 문자열을 두 번 출력하라.\n",
        "\n",
        "str = input()\n",
        "print(str*2)"
      ]
    },
    {
      "cell_type": "code",
      "source": [
        "# 112. 사용자로부터 하나의 숫자를 입력받고, 입력 받은 숫자에 10을 더해 출력하라.\n",
        "\n",
        "num = int(input(\"숫자 입력: \"))\n",
        "print(num + 10)"
      ],
      "metadata": {
        "colab": {
          "base_uri": "https://localhost:8080/"
        },
        "id": "0QdBoTuB6GbM",
        "outputId": "5b97975c-4046-4016-d3eb-708f7b94cd45"
      },
      "execution_count": 2,
      "outputs": [
        {
          "output_type": "stream",
          "name": "stdout",
          "text": [
            "숫자 입력: 30\n",
            "40\n"
          ]
        }
      ]
    },
    {
      "cell_type": "code",
      "source": [
        "# 113. 사용자로부터 하나의 숫자를 입력 받고 짝수/홀수를 판별하라.\n",
        "\n",
        "num = int(input())\n",
        "result = \"짝수\" if num % 2 == 0 else \"홀수\"\n",
        "print(result)"
      ],
      "metadata": {
        "colab": {
          "base_uri": "https://localhost:8080/"
        },
        "id": "QajoxpNe6Z0h",
        "outputId": "87cf4b72-b2fd-4636-830b-04e7f2251fa4"
      },
      "execution_count": 3,
      "outputs": [
        {
          "output_type": "stream",
          "name": "stdout",
          "text": [
            "30\n",
            "짝수\n"
          ]
        }
      ]
    },
    {
      "cell_type": "code",
      "source": [
        "# 114. 사용자로부터 값을 입력받은 후 해당 값에 20을 더한 값을 출력하라. 단 사용자가 입력한 값과 20을 더한 계산 값이 255를 초과하는 경우 255를 출력해야 한다.\n",
        "\n",
        "num = int(input(\"입력 값: \"))\n",
        "num_add = num + 20\n",
        "\n",
        "result = 255 if (num_add) > 255 else num_add\n",
        "\n",
        "print(result)"
      ],
      "metadata": {
        "colab": {
          "base_uri": "https://localhost:8080/"
        },
        "id": "nlPzJC7f6oob",
        "outputId": "6444a159-53f2-4606-88a0-3438151ebdeb"
      },
      "execution_count": 5,
      "outputs": [
        {
          "output_type": "stream",
          "name": "stdout",
          "text": [
            "입력 값: 240\n",
            "255\n"
          ]
        }
      ]
    },
    {
      "cell_type": "code",
      "source": [
        "# 115. 사용자로부터 하나의 값을 입력받은 후 해당 값에 20을 뺀 값을 출력하라. 단 출력 값의 범위는 0~255이다. 예를 들어 결괏값이 0보다 작은 값이되는 경우 0을 출력하고 255보다 큰 값이 되는 경우 255를 출력해야 한다.\n",
        "\n",
        "num = int(input(\"입력 값: \"))\n",
        "num2 = num - 20\n",
        "if num2 < 0:\n",
        "    print('0')\n",
        "elif num2 > 255:\n",
        "    print('255')\n",
        "else:\n",
        "    print(num2)"
      ],
      "metadata": {
        "colab": {
          "base_uri": "https://localhost:8080/"
        },
        "id": "1P_1Y4HP7DJt",
        "outputId": "f2d4568d-a69f-4451-92fe-c2c75a54a30e"
      },
      "execution_count": 6,
      "outputs": [
        {
          "output_type": "stream",
          "name": "stdout",
          "text": [
            "입력 값: 290\n",
            "255\n"
          ]
        }
      ]
    },
    {
      "cell_type": "code",
      "source": [
        "# 116. 사용자로부터 입력 받은 시간이 정각인지 판별하라.\n",
        "\n",
        "time = input('현재시간: ')\n",
        "result = '정각입니다.' if time[-2:] == \"00\" else '정각이 아닙니다.'\n",
        "\n",
        "print(result)"
      ],
      "metadata": {
        "colab": {
          "base_uri": "https://localhost:8080/"
        },
        "id": "E2_XQ1UO7l84",
        "outputId": "4d0d1483-8894-4e54-f4e3-000d4b5c8a02"
      },
      "execution_count": 8,
      "outputs": [
        {
          "output_type": "stream",
          "name": "stdout",
          "text": [
            "현재시간: 13:10\n",
            "정각이 아닙니다.\n"
          ]
        }
      ]
    },
    {
      "cell_type": "code",
      "source": [
        "# 117. 사용자로 입력받은 단어가 아래 fruit 리스트에 포함되어 있는지를 확인하라. 포함되었다면 \"정답입니다\"를 아닐 경우 \"오답입니다\" 출력하라.\n",
        "\n",
        "fruit = [\"사과\", \"포도\", \"홍시\"]\n",
        "\n",
        "user = input('좋아하는 과일은? ')\n",
        "if user in fruit:\n",
        "    print(\"정답입니다.\")\n",
        "else:\n",
        "    print(\"오답입니다.\")\n",
        "\n",
        "# => 리스트는 포함여부 확인 시 in을 사용"
      ],
      "metadata": {
        "colab": {
          "base_uri": "https://localhost:8080/"
        },
        "id": "VkBDg3oz8Mno",
        "outputId": "dca4b0be-7a21-4005-d0a3-ca7732900993"
      },
      "execution_count": 12,
      "outputs": [
        {
          "output_type": "stream",
          "name": "stdout",
          "text": [
            "좋아하는 과일은? 바나나\n",
            "오답입니다.\n"
          ]
        }
      ]
    },
    {
      "cell_type": "code",
      "source": [
        "# 118. 투자 경고 종목 리스트가 있을 때 사용자로부터 종목명을 입력 받은 후 해당 종목이 투자 경고 종목이라면 '투자 경고 종목입니다'를 아니면 \"투자 경고 종목이 아닙니다.\"를 출력하는 프로그램을 작성하라.\n",
        "\n",
        "warn_investment_list = [\"Microsoft\", \"Google\", \"Naver\", \"Kakao\", \"SAMSUNG\", \"LG\"]\n",
        "\n",
        "user = input('종목 입력')\n",
        "if user in warn_investment_list:\n",
        "    print(\"투자 경고 종목입니다.\")\n",
        "else:\n",
        "    print(\"투자 경고 종목이 아닙니다.\")\n"
      ],
      "metadata": {
        "colab": {
          "base_uri": "https://localhost:8080/"
        },
        "id": "sxpyyPzB8nqo",
        "outputId": "bae3138f-082b-44b2-bd82-d152135c81bc"
      },
      "execution_count": 13,
      "outputs": [
        {
          "output_type": "stream",
          "name": "stdout",
          "text": [
            "종목 입력Naver\n",
            "투자 경고 종목입니다.\n"
          ]
        }
      ]
    },
    {
      "cell_type": "code",
      "source": [
        "# 119. 아래와 같이 fruit 딕셔너리가 정의되어 있다. 사용자가 입력한 값이 딕셔너리 키 (key) 값에 포함되었다면 \"정답입니다\"를 아닐 경우 \"오답입니다\" 출력하라.\n",
        "\n",
        "fruit = {\"봄\" : \"딸기\", \"여름\" : \"토마토\", \"가을\" : \"사과\"}\n",
        "\n",
        "user = input('제가 좋아하는 계절은: ')\n",
        "\n",
        "if user in fruit:\n",
        "    print(\"정답입니다\")\n",
        "else:\n",
        "    print(\"오답입니다\")"
      ],
      "metadata": {
        "colab": {
          "base_uri": "https://localhost:8080/"
        },
        "id": "YWSCzADb9FT3",
        "outputId": "98c446d7-f711-4929-ae9a-a55bbeb93554"
      },
      "execution_count": 14,
      "outputs": [
        {
          "output_type": "stream",
          "name": "stdout",
          "text": [
            "제가 좋아하는 계절은: 봄\n",
            "정답입니다\n"
          ]
        }
      ]
    },
    {
      "cell_type": "code",
      "source": [
        "# 120. 아래와 같이 fruit 딕셔너리가 정의되어 있다. 사용자가 입력한 값이 딕셔너리 값 (value)에 포함되었다면 \"정답입니다\"를 아닐 경우 \"오답입니다\" 출력하라.\n",
        "\n",
        "fruit = {\"봄\" : \"딸기\", \"여름\" : \"토마토\", \"가을\" : \"사과\"}\n",
        "\n",
        "user = input('좋아하는 과일은: ')\n",
        "\n",
        "if user in fruit.values():\n",
        "    print(\"정답입니다\")\n",
        "else:\n",
        "    print(\"오답입니다\")"
      ],
      "metadata": {
        "colab": {
          "base_uri": "https://localhost:8080/"
        },
        "id": "gdr7oH-t9ZOl",
        "outputId": "c5e0ed2f-14fa-4afb-c655-4eca3e8653d6"
      },
      "execution_count": 16,
      "outputs": [
        {
          "output_type": "stream",
          "name": "stdout",
          "text": [
            "좋아하는 과일은: 딸기\n",
            "정답입니다\n"
          ]
        }
      ]
    },
    {
      "cell_type": "code",
      "source": [],
      "metadata": {
        "id": "iBlQHaEY9zTr"
      },
      "execution_count": null,
      "outputs": []
    }
  ]
}