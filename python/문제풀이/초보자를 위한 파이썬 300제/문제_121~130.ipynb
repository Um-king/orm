{
  "nbformat": 4,
  "nbformat_minor": 0,
  "metadata": {
    "colab": {
      "provenance": []
    },
    "kernelspec": {
      "name": "python3",
      "display_name": "Python 3"
    },
    "language_info": {
      "name": "python"
    }
  },
  "cells": [
    {
      "cell_type": "code",
      "execution_count": 1,
      "metadata": {
        "colab": {
          "base_uri": "https://localhost:8080/",
          "height": 53
        },
        "id": "YMwcR2OlG9c_",
        "outputId": "2b6b82a4-d03f-4b85-f079-58e543d6ff99"
      },
      "outputs": [
        {
          "name": "stdout",
          "output_type": "stream",
          "text": [
            "대/소문자 입력: A\n"
          ]
        },
        {
          "output_type": "execute_result",
          "data": {
            "text/plain": [
              "'a'"
            ],
            "application/vnd.google.colaboratory.intrinsic+json": {
              "type": "string"
            }
          },
          "metadata": {},
          "execution_count": 1
        }
      ],
      "source": [
        "# 121. 사용자로부터 문자 한 개를 입력 받고, 소문자일 경우 대문자로, 대문자 일 경우, 소문자로 변경해서 출력하라.\n",
        "\n",
        "str = input('대/소문자 입력: ')\n",
        "\n",
        "if str.islower():\n",
        "    str = str.upper()\n",
        "else:\n",
        "    str = str.lower()\n",
        "\n",
        "str"
      ]
    },
    {
      "cell_type": "code",
      "source": [
        "# 122. 점수 구간에 해당하는 학점이 아래와 같이 정의되어 있다. 사용자로부터 score를 입력받아 학점을 출력하라.\n",
        "'''\n",
        "점수\t학점\n",
        "81~100\tA\n",
        "61~80\tB\n",
        "41~60\tC\n",
        "21~40\tD\n",
        "0~20\tE\n",
        "'''\n",
        "\n",
        "score = int(input('점수 입력: '))\n",
        "\n",
        "if score >= 81:\n",
        "    print('grade is A')\n",
        "elif score >= 61:\n",
        "    print('grade is B')\n",
        "elif score >= 41:\n",
        "    print('grade is C')\n",
        "elif score >= 21:\n",
        "    print('grade is D')\n",
        "else:\n",
        "    print('grade is E')"
      ],
      "metadata": {
        "colab": {
          "base_uri": "https://localhost:8080/"
        },
        "id": "YFJ8UxOmHXJU",
        "outputId": "915155f0-f61f-42d7-8c40-7aa1b4a8aedb"
      },
      "execution_count": 3,
      "outputs": [
        {
          "output_type": "stream",
          "name": "stdout",
          "text": [
            "점수 입력: 62\n",
            "grade is B\n"
          ]
        }
      ]
    },
    {
      "cell_type": "code",
      "source": [
        "# 123. 사용자로부터 달러, 엔, 유로, 또는 위안 금액을 입력받은 후 이를 원으로 변환하는 프로그램을 작성하라.\n",
        "#      각 통화별 환율은 다음과 같다. 사용자는 100 달러, 1000 엔, 13 유로, 100 위안과 같이 금액과 통화명 사이에 공백을 넣어 입력한다고 가정한다.\n",
        "\n",
        "'''\n",
        "통화명\t환율\n",
        "달러\t1167\n",
        "엔\t1.096\n",
        "유로\t1268\n",
        "위안\t171\n",
        "'''\n",
        "\n",
        "str = input('입력: ')\n",
        "\n",
        "amount = int(str.split()[0])\n",
        "currency = str.split()[1]\n",
        "\n",
        "if currency == '달러':\n",
        "    print(f'{1167 * amount} 원')\n",
        "elif currency == '엔':\n",
        "    print(f'{1.096 * amount} 원')\n",
        "elif currency == '유로':\n",
        "    print(f'{1268 * amount} 원')\n",
        "elif currency == '위안':\n",
        "    print(f'{171 * amount} 원')\n",
        "else:\n",
        "    print('통화명이 잘못되었습니다.')"
      ],
      "metadata": {
        "colab": {
          "base_uri": "https://localhost:8080/"
        },
        "id": "_5kVjoYiHxYR",
        "outputId": "466efc51-41a6-4db9-a9e2-b03f92b9ee47"
      },
      "execution_count": 6,
      "outputs": [
        {
          "output_type": "stream",
          "name": "stdout",
          "text": [
            "입력: 100 달러\n",
            "116700 원\n"
          ]
        }
      ]
    },
    {
      "cell_type": "code",
      "source": [
        "# 123. dictionary를 사용\n",
        "\n",
        "환율 = {\n",
        "    '달러': 1167,\n",
        "    '엔': 1.096,\n",
        "    '유로': 1268,\n",
        "    '위안': 171\n",
        "}\n",
        "\n",
        "str = input('입력: ')\n",
        "amount, currency = str.split()\n",
        "\n",
        "print(f'{float(amount) * 환율[currency]} 원')"
      ],
      "metadata": {
        "colab": {
          "base_uri": "https://localhost:8080/"
        },
        "id": "LM2LP1nbI5vF",
        "outputId": "f2ea5dca-f862-4909-f3eb-aa54e14c7a86"
      },
      "execution_count": 7,
      "outputs": [
        {
          "output_type": "stream",
          "name": "stdout",
          "text": [
            "입력: 100 달러\n",
            "116700.0 원\n"
          ]
        }
      ]
    },
    {
      "cell_type": "code",
      "source": [
        "# 124. 사용자로부터 세 개의 숫자를 입력 받은 후 가장 큰 숫자를 출력하라.\n",
        "\n",
        "number_list = []\n",
        "\n",
        "for i in range(3):\n",
        "    num = int(input('number' + str(i+1) + \": \"))\n",
        "    number_list.append(num)\n",
        "\n",
        "print(max(number_list))"
      ],
      "metadata": {
        "colab": {
          "base_uri": "https://localhost:8080/"
        },
        "id": "MnY9YsKSJhli",
        "outputId": "b84b6c7d-7f86-4508-bab6-6b243a9ce017"
      },
      "execution_count": 3,
      "outputs": [
        {
          "output_type": "stream",
          "name": "stdout",
          "text": [
            "number1: 10\n",
            "number2: 2\n",
            "number3: 30\n",
            "30\n"
          ]
        }
      ]
    },
    {
      "cell_type": "code",
      "source": [
        "# 125. 휴대폰 번호 앞자리에 따라 통신사는 아래와 같이 구분된다. 사용자로부터 휴대전화 번호를 입력 받고, 통신사를 출력하는 프로그램을 작성하라.\n",
        "\n",
        "'''\n",
        "번호\t통신사\n",
        "011\tSKT\n",
        "016\tKT\n",
        "019\tLGU\n",
        "010\t알수없음\n",
        "'''\n",
        "\n",
        "번호 = {\n",
        "    '011' :\t'SKT',\n",
        "    '016' :\t'KT',\n",
        "    '019' :\t'LGU',\n",
        "    '010' :\t'알수없음'\n",
        "}\n",
        "\n",
        "phone_number = input('휴대전화 번호 입력: ')\n",
        "number = phone_number.split('-')[0]\n",
        "\n",
        "통신사 = 번호.get(number, '잘못된 번호')\n",
        "\n",
        "print(f'당신은 {통신사} 사용자입니다.')\n"
      ],
      "metadata": {
        "colab": {
          "base_uri": "https://localhost:8080/"
        },
        "id": "Fr8TsFouJ57q",
        "outputId": "00eddcf6-7acd-40ac-b3bb-8c830f98ba0c"
      },
      "execution_count": 8,
      "outputs": [
        {
          "output_type": "stream",
          "name": "stdout",
          "text": [
            "휴대전화 번호 입력: 017-1234-5678\n",
            "당신은 잘못된 번호 사용자입니다.\n"
          ]
        }
      ]
    },
    {
      "cell_type": "code",
      "source": [
        "# 126. 우편번호는 5자리로 구성되는데, 앞의 세자리는 구를 나타낸다. 예를들어, 강북구의 경우 010, 011, 012 세 자리로 시작한다.\n",
        "#      사용자로 부터 5자리 우편번호를 입력받고 구를 판별하라\n",
        "\n",
        "우편번호 = input('우편번호: ')\n",
        "num = 우편번호[:3]\n",
        "\n",
        "if num in ['010', '011', '012']:\n",
        "    print('강북구')\n",
        "elif num in ['013', '014', '015']:\n",
        "    print('도봉구')\n",
        "elif num in ['016', '017', '018', '019']:\n",
        "    print('노원구')\n",
        "else:\n",
        "    print('알수 없음')"
      ],
      "metadata": {
        "colab": {
          "base_uri": "https://localhost:8080/"
        },
        "id": "-os4NuCTKxke",
        "outputId": "d28ad99c-1f1d-4fcb-b513-215f30faa8cb"
      },
      "execution_count": 9,
      "outputs": [
        {
          "output_type": "stream",
          "name": "stdout",
          "text": [
            "우편번호: 01400\n",
            "도봉구\n"
          ]
        }
      ]
    },
    {
      "cell_type": "code",
      "source": [
        "# 127. 주민등록번호 뒷 자리 7자리 중 첫째 자리는 성별을 나타내는데, 1, 3은 남자 2, 4는 여자를 의미한다.\n",
        "#      사용자로부터 13자리의 주민등록번호를 입력 받은 후 성별 (남자, 여자)를 출력하는 프로그램을 작성하라.\n",
        "\n",
        "주민등록번호 = input('주민등록번호: ')\n",
        "number = 주민등록번호.split('-')[1][:1]\n",
        "\n",
        "성별 = '남자' if (number == '1' or number == '3') else '여자'\n",
        "\n",
        "print(성별)"
      ],
      "metadata": {
        "colab": {
          "base_uri": "https://localhost:8080/"
        },
        "id": "5Kb3-qZfMMzI",
        "outputId": "461ffcde-09ac-47d6-dd9a-2c7daf5cb205"
      },
      "execution_count": 12,
      "outputs": [
        {
          "output_type": "stream",
          "name": "stdout",
          "text": [
            "주민등록번호: 821010-1635210\n",
            "남자\n"
          ]
        }
      ]
    },
    {
      "cell_type": "code",
      "source": [
        "# 128. 주민등록번호의 뒷 자리 7자리 중 두번째와 세번째는 지역코드를 의미한다.\n",
        "#      주민 등록 번호를 입력 받은 후 출생지가 서울인지 아닌지 판단하는 코드를 작성하라\n",
        "'''\n",
        "지역코드\t출생지\n",
        "00 ~ 08\t서울\n",
        "09 ~ 12\t부산\n",
        "'''\n",
        "\n",
        "주민등록번호 = input('주민등록번호: ')\n",
        "area = 주민등록번호.split('-')[1][1:3]\n",
        "\n",
        "if int(area) <= 8:\n",
        "    print('서울 입니다.')\n",
        "else:\n",
        "    print('서울이 아닙니다.')"
      ],
      "metadata": {
        "colab": {
          "base_uri": "https://localhost:8080/"
        },
        "id": "kIm-qXEtMtSV",
        "outputId": "185edcc6-c4e8-433c-b585-d16e7c418dca"
      },
      "execution_count": 17,
      "outputs": [
        {
          "output_type": "stream",
          "name": "stdout",
          "text": [
            "주민등록번호: 861010-1015210\n",
            "서울 입니다.\n"
          ]
        }
      ]
    },
    {
      "cell_type": "code",
      "source": [
        " # 129. 주민등록번호는 13자리로 구성되는데 마지막 자리수는 주민등록번호의 유효성을 체크하는데 사용된다.\n",
        " #      먼저 앞에서부터 12자리의 숫자에 2, 3, 4, 5, 6, 7, 8, 9, 2, 3, 4, 5를 차례로 곱한 뒤 그 값을 전부 더한다.\n",
        " #      연산 결과 값을 11로 나누면 나머지가 나오는데 11에서 나머지를 뺀 값이 주민등록번호의 마지막 번호가 된다.\n",
        "\n",
        " 주민등록번호 = input('주민등록번호: ')\n",
        " 주민등록번호 = 주민등록번호.replace('-','')\n",
        " 유효성검사 = ['2','3','4','5','6','7','8','9','2','3','4','5']\n",
        "\n",
        " 리스트 = list(zip(주민등록번호, 유효성검사))\n",
        "\n",
        " result = 0\n",
        " for i, j in 리스트:\n",
        "    result += int(i) * int(j)\n",
        "\n",
        "result = result / 11\n",
        "number = 11 - result\n",
        "\n",
        "if result == int(주민등록번호[-1:]):\n",
        "    print('유효한 주민등록번호입니다.')\n",
        "else:\n",
        "    print('유효하지 않은 주민등록번호입니다.')\n"
      ],
      "metadata": {
        "colab": {
          "base_uri": "https://localhost:8080/"
        },
        "id": "U5kMVzMsNb61",
        "outputId": "853b001d-1f19-49f6-de17-edb3c02ebe98"
      },
      "execution_count": 9,
      "outputs": [
        {
          "output_type": "stream",
          "name": "stdout",
          "text": [
            "주민등록번호: 821010-1635210\n",
            "유효하지 않은 주민등록번호입니다.\n"
          ]
        }
      ]
    },
    {
      "cell_type": "code",
      "source": [
        "# 130. 아래 코드는 비트코인의 가격 정보를 딕셔너리로 가져오는 코드이다.\n",
        "# btc 딕셔너리 안에는 시가, 종가, 최고가, 최저가 등이 저장되어 있다.\n",
        "# 최고가와 최저가의 차이를 변동폭으로 정의할 때 (시가 + 변동폭)이 최고가 보다 높을 경우 \"상승장\", 그렇지 않은 경우 \"하락장\" 문자열을 출력하라.\n",
        "'''\n",
        "Key Name\t    Description\n",
        "opening_price\t최근 24시간 내 시작 거래금액\n",
        "closing_price\t최근 24시간 내 마지막 거래금액\n",
        "min_price\t    최근 24시간 내 최저 거래금액\n",
        "max_price\t    최근 24시간 내 최고 거래금액\n",
        "'''\n",
        "\n",
        "import requests\n",
        "btc = requests.get(\"https://api.bithumb.com/public/ticker/\").json()['data']"
      ],
      "metadata": {
        "colab": {
          "base_uri": "https://localhost:8080/"
        },
        "id": "LKGMjyKDONYP",
        "outputId": "d7a28f8a-fa00-41c3-b53e-666328fa0ed3"
      },
      "execution_count": 10,
      "outputs": [
        {
          "output_type": "execute_result",
          "data": {
            "text/plain": [
              "{'opening_price': '58952000',\n",
              " 'closing_price': '58880000',\n",
              " 'min_price': '58471000',\n",
              " 'max_price': '59454000',\n",
              " 'units_traded': '4826.30100743',\n",
              " 'acc_trade_value': '284228914682.4751',\n",
              " 'prev_closing_price': '58951000',\n",
              " 'units_traded_24H': '7251.56440213',\n",
              " 'acc_trade_value_24H': '426696088650.7103',\n",
              " 'fluctate_24H': '-240000',\n",
              " 'fluctate_rate_24H': '-0.41',\n",
              " 'date': '1705223760821'}"
            ]
          },
          "metadata": {},
          "execution_count": 10
        }
      ]
    },
    {
      "cell_type": "code",
      "source": [
        "max_price = i\n",
        "min_price = int(btc['min_price'])\n",
        "\n",
        "시가 = float(btc['opening_price'])\n",
        "변동폭 = float(btc['max_price']) - float(btc['min_price'])\n",
        "최고가 = float(btc['max_price'])\n",
        "\n",
        "if (시가 + 변동폭) > 최고가:\n",
        "    print('상승장')\n",
        "else:\n",
        "    print('하락장')\n"
      ],
      "metadata": {
        "colab": {
          "base_uri": "https://localhost:8080/"
        },
        "id": "a8qI0RxSQZ5u",
        "outputId": "2ef0d966-73ed-4fe4-ca61-2a5b157c0a36"
      },
      "execution_count": 13,
      "outputs": [
        {
          "output_type": "stream",
          "name": "stdout",
          "text": [
            "상승장\n"
          ]
        }
      ]
    },
    {
      "cell_type": "code",
      "source": [],
      "metadata": {
        "id": "Pf1C7RaRQ3G-"
      },
      "execution_count": null,
      "outputs": []
    }
  ]
}