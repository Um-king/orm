{
  "nbformat": 4,
  "nbformat_minor": 0,
  "metadata": {
    "colab": {
      "provenance": []
    },
    "kernelspec": {
      "name": "python3",
      "display_name": "Python 3"
    },
    "language_info": {
      "name": "python"
    }
  },
  "cells": [
    {
      "cell_type": "code",
      "execution_count": null,
      "metadata": {
        "id": "J2I18tQTHrOX"
      },
      "outputs": [],
      "source": [
        "# 131. for문의 실행결과를 예측하라.\n",
        "\n",
        "과일 = [\"사과\", \"귤\", \"수박\"]\n",
        "for 변수 in 과일:\n",
        "    print(변수)\n",
        "\n",
        "'''\n",
        ">> 결과\n",
        "사과\n",
        "귤\n",
        "수박\n",
        "'''"
      ]
    },
    {
      "cell_type": "code",
      "source": [
        "# 132. for문의 실행결과를 예측하라.\n",
        "\n",
        "과일 = [\"사과\", \"귤\", \"수박\"]\n",
        "for 변수 in 과일:\n",
        "  print(\"#####\")\n",
        "\n",
        "'''\n",
        ">> 결과\n",
        "#####\n",
        "#####\n",
        "#####\n",
        "'''"
      ],
      "metadata": {
        "id": "mHbmMTGdIEhX"
      },
      "execution_count": null,
      "outputs": []
    },
    {
      "cell_type": "code",
      "source": [
        "# 133. 다음 for 문과 동일한 기능을 수행하는 코드를 작성하세요.\n",
        "'''\n",
        "for 변수 in [\"A\", \"B\", \"C\"]:\n",
        "  print(변수)\n",
        "'''\n",
        "\n",
        "'''\n",
        ">> 결과\n",
        "print(\"A\")\n",
        "print(\"B\")\n",
        "print(\"C\")\n",
        "'''"
      ],
      "metadata": {
        "id": "Mo4YBR6iIT5v"
      },
      "execution_count": null,
      "outputs": []
    },
    {
      "cell_type": "code",
      "source": [
        "# 134. for문을 풀어서 동일한 동작을하는 코드를 작성하라\n",
        "'''\n",
        "for 변수 in [\"A\", \"B\", \"C\"]:\n",
        "  print(\"출력:\", 변수)\n",
        "'''\n",
        "\n",
        "'''\n",
        ">> 결과\n",
        "print(\"출력:\", \"A\")\n",
        "print(\"출력:\", \"B\")\n",
        "print(\"출력:\", \"C\")\n",
        "'''"
      ],
      "metadata": {
        "id": "Of_FC9FSIhaP"
      },
      "execution_count": null,
      "outputs": []
    },
    {
      "cell_type": "code",
      "source": [
        "# 135. for문을 풀어서 동일한 동작을 하는 코드를 작성하라.\n",
        "'''\n",
        "for 변수 in [\"A\", \"B\", \"C\"]:\n",
        "  b = 변수.lower()\n",
        "  print(\"변환:\", b)\n",
        "'''\n",
        "\n",
        "'''\n",
        ">> 결과\n",
        "print('변환', 'A'.lower())\n",
        "print('변환', 'B'.lower())\n",
        "print('변환', 'C'.lower())\n",
        "'''"
      ],
      "metadata": {
        "id": "A6JVIkHYIt6w"
      },
      "execution_count": null,
      "outputs": []
    },
    {
      "cell_type": "code",
      "source": [
        "# 136. 다음 코드를 for문으로 작성하라.\n",
        "\n",
        "'''\n",
        "변수 = 10\n",
        "print(변수)\n",
        "변수 = 20\n",
        "print(변수)\n",
        "변수 = 30\n",
        "print(변수)\n",
        "'''\n",
        "\n",
        "for i in range(10, 40, 10):\n",
        "    print(i)"
      ],
      "metadata": {
        "colab": {
          "base_uri": "https://localhost:8080/"
        },
        "id": "LWvqVW1LI29j",
        "outputId": "33e22eea-ef10-4531-e01b-0da6028d40f6"
      },
      "execution_count": 3,
      "outputs": [
        {
          "output_type": "stream",
          "name": "stdout",
          "text": [
            "10\n",
            "20\n",
            "30\n"
          ]
        }
      ]
    },
    {
      "cell_type": "code",
      "source": [
        "# 138. 다음 코드를 for문으로 작성하라.\n",
        "'''\n",
        "print(10)\n",
        "print(\"-------\")\n",
        "print(20)\n",
        "print(\"-------\")\n",
        "print(30)\n",
        "print(\"-------\")\n",
        "'''\n",
        "for i in range(10, 40, 10):\n",
        "    print(i)\n",
        "    print(\"-------\")"
      ],
      "metadata": {
        "colab": {
          "base_uri": "https://localhost:8080/"
        },
        "id": "EqfEq05XJGHu",
        "outputId": "98d44717-adf4-480a-8805-5f75c97df007"
      },
      "execution_count": 4,
      "outputs": [
        {
          "output_type": "stream",
          "name": "stdout",
          "text": [
            "10\n",
            "-------\n",
            "20\n",
            "-------\n",
            "30\n",
            "-------\n"
          ]
        }
      ]
    },
    {
      "cell_type": "code",
      "source": [
        "# 139. 다음 코드를 for문으로 작성하라.\n",
        "'''\n",
        "print(\"++++\")\n",
        "print(10)\n",
        "print(20)\n",
        "print(30)\n",
        "'''\n",
        "\n",
        "for i in range(10, 40, 10):\n",
        "    if i == 10:\n",
        "        print(\"++++\")\n",
        "    print(i)"
      ],
      "metadata": {
        "colab": {
          "base_uri": "https://localhost:8080/"
        },
        "id": "cgpSXlDxJOMd",
        "outputId": "6d908138-acdb-4895-afeb-2eb41c82e163"
      },
      "execution_count": 5,
      "outputs": [
        {
          "output_type": "stream",
          "name": "stdout",
          "text": [
            "++++\n",
            "10\n",
            "20\n",
            "30\n"
          ]
        }
      ]
    },
    {
      "cell_type": "code",
      "source": [
        "# 140. 다음 코드를 for문으로 작성하라.\n",
        "'''\n",
        "print(\"-------\")\n",
        "print(\"-------\")\n",
        "print(\"-------\")\n",
        "print(\"-------\")\n",
        "'''\n",
        "\n",
        "for i in range(0, 5):\n",
        "    print(\"-------\")"
      ],
      "metadata": {
        "colab": {
          "base_uri": "https://localhost:8080/"
        },
        "id": "o2SbMVluJZOK",
        "outputId": "0f1fdd48-8f69-4c0a-aaed-20282fc1d013"
      },
      "execution_count": 6,
      "outputs": [
        {
          "output_type": "stream",
          "name": "stdout",
          "text": [
            "-------\n",
            "-------\n",
            "-------\n",
            "-------\n",
            "-------\n"
          ]
        }
      ]
    },
    {
      "cell_type": "code",
      "source": [],
      "metadata": {
        "id": "slaYIqQNJf9G"
      },
      "execution_count": null,
      "outputs": []
    }
  ]
}