{
  "nbformat": 4,
  "nbformat_minor": 0,
  "metadata": {
    "colab": {
      "provenance": []
    },
    "kernelspec": {
      "name": "python3",
      "display_name": "Python 3"
    },
    "language_info": {
      "name": "python"
    }
  },
  "cells": [
    {
      "cell_type": "code",
      "execution_count": 1,
      "metadata": {
        "colab": {
          "base_uri": "https://localhost:8080/"
        },
        "id": "gAUwYyrcXdno",
        "outputId": "57f257ea-05f8-46fc-e5d9-91e8779cd1df"
      },
      "outputs": [
        {
          "output_type": "stream",
          "name": "stdout",
          "text": [
            "110\n",
            "210\n",
            "310\n"
          ]
        }
      ],
      "source": [
        "# 141. 다음과 같이 판매가가 저장된 리스트가 있을 때 부가세가 포함된 가격을 for 문을 사용해서 화면에 출력하라. 단 부가세는 10원으로 가정한다.\n",
        "\n",
        "'''\n",
        "리스트 = [100, 200, 300]\n",
        "110\n",
        "210\n",
        "310\n",
        "'''\n",
        "\n",
        "리스트 = [100, 200, 300]\n",
        "\n",
        "for i in 리스트:\n",
        "    print(int(i) + 10)"
      ]
    },
    {
      "cell_type": "code",
      "source": [
        "# 142. for 문을 사용해서 리스트에 저장된 값을 다음과 같이 출력하라.\n",
        "\n",
        "리스트 = [\"김밥\", \"라면\", \"튀김\"]\n",
        "# 오늘의 메뉴: 김밥\n",
        "# 오늘의 메뉴: 라면\n",
        "# 오늘의 메뉴: 튀김\n",
        "\n",
        "for i in 리스트:\n",
        "    print(f'오늘의 메뉴: {i}')"
      ],
      "metadata": {
        "colab": {
          "base_uri": "https://localhost:8080/"
        },
        "id": "btzfAXQBXtLr",
        "outputId": "b2c0d378-c806-4dc7-cc1e-ecc5172f5228"
      },
      "execution_count": 2,
      "outputs": [
        {
          "output_type": "stream",
          "name": "stdout",
          "text": [
            "오늘의 메뉴: 김밥\n",
            "오늘의 메뉴: 라면\n",
            "오늘의 메뉴: 튀김\n"
          ]
        }
      ]
    },
    {
      "cell_type": "code",
      "source": [
        "# 143. 리스트에 주식 종목이름이 저장돼 있다.\n",
        "#      저장된 문자열의 길이를 다음과 같이 출력하라.\n",
        "\n",
        "리스트 = [\"SK하이닉스\", \"삼성전자\", \"LG전자\"]\n",
        "\n",
        "for i in 리스트:\n",
        "    print(len(i))"
      ],
      "metadata": {
        "colab": {
          "base_uri": "https://localhost:8080/"
        },
        "id": "gjNPa0PiX4v5",
        "outputId": "39b082b1-4940-4ec5-8d41-7bb83d5cbdc0"
      },
      "execution_count": 3,
      "outputs": [
        {
          "output_type": "stream",
          "name": "stdout",
          "text": [
            "6\n",
            "4\n",
            "4\n"
          ]
        }
      ]
    },
    {
      "cell_type": "code",
      "source": [
        "# 144. 리스트에는 동물이름이 문자열로 저장돼 있다.\n",
        "#      동물 이름과 글자수를 다음과 같이 출력하라.\n",
        "\n",
        "리스트 = ['dog', 'cat', 'parrot']\n",
        "\n",
        "for i in 리스트:\n",
        "    print(i, len(i))"
      ],
      "metadata": {
        "colab": {
          "base_uri": "https://localhost:8080/"
        },
        "id": "KO6G7Z5RYBpv",
        "outputId": "e22fb309-6be7-49a4-ede9-0bbcaf880693"
      },
      "execution_count": 4,
      "outputs": [
        {
          "output_type": "stream",
          "name": "stdout",
          "text": [
            "dog 3\n",
            "cat 3\n",
            "parrot 6\n"
          ]
        }
      ]
    },
    {
      "cell_type": "code",
      "source": [
        "# 145. 리스트에 동물 이름 저장돼 있다.\n",
        "#      for문을 사용해서 동물 이름의 첫 글자만 출력하라.\n",
        "\n",
        "리스트 = ['dog', 'cat', 'parrot']\n",
        "\n",
        "for i in 리스트:\n",
        "    print(i[0])"
      ],
      "metadata": {
        "colab": {
          "base_uri": "https://localhost:8080/"
        },
        "id": "RgZxseNjYLVO",
        "outputId": "badf2008-c17a-478f-caa1-15b86e40e01a"
      },
      "execution_count": 5,
      "outputs": [
        {
          "output_type": "stream",
          "name": "stdout",
          "text": [
            "d\n",
            "c\n",
            "p\n"
          ]
        }
      ]
    },
    {
      "cell_type": "code",
      "source": [
        "# 146.리스트에는 세 개의 숫자가 바인딩돼 있다.\n",
        "#     for문을 사용해서 다음과 같이 출력하라.\n",
        "'''\n",
        "3 x 1\n",
        "3 x 2\n",
        "3 x 3\n",
        "'''\n",
        "\n",
        "리스트 = [1, 2, 3]\n",
        "for i in 리스트:\n",
        "    print(f'3 x {i}')"
      ],
      "metadata": {
        "colab": {
          "base_uri": "https://localhost:8080/"
        },
        "id": "7hY1SyBEYT1d",
        "outputId": "3616ba79-2107-4fbe-801c-a4f6ded687e2"
      },
      "execution_count": 6,
      "outputs": [
        {
          "output_type": "stream",
          "name": "stdout",
          "text": [
            "3 x 1\n",
            "3 x 2\n",
            "3 x 3\n"
          ]
        }
      ]
    },
    {
      "cell_type": "code",
      "source": [
        "# 147. 리스트에는 세 개의 숫자가 바인딩돼 있다.\n",
        "#      for문을 사용해서 다음과 같이 출력하라.\n",
        "'''\n",
        "3 x 1 = 3\n",
        "3 x 2 = 6\n",
        "3 x 3 = 9\n",
        "'''\n",
        "\n",
        "리스트 = [1, 2, 3]\n",
        "for i in 리스트:\n",
        "    print(f'3 x {i} = {3*i}')"
      ],
      "metadata": {
        "colab": {
          "base_uri": "https://localhost:8080/"
        },
        "id": "tIPohJCVYhp5",
        "outputId": "c76729e2-542c-4725-98c0-caf08f0bd839"
      },
      "execution_count": 7,
      "outputs": [
        {
          "output_type": "stream",
          "name": "stdout",
          "text": [
            "3 x 1 = 3\n",
            "3 x 2 = 6\n",
            "3 x 3 = 9\n"
          ]
        }
      ]
    },
    {
      "cell_type": "code",
      "source": [
        "# 148. 리스트에는 네 개의 문자열이 바인딩돼 있다.\n",
        "#      for문을 사용해서 다음과 같이 출력하라.\n",
        "'''\n",
        "나\n",
        "다\n",
        "라\n",
        "'''\n",
        "\n",
        "리스트 = [\"가\", \"나\", \"다\", \"라\"]\n",
        "\n",
        "for i in 리스트[1:]:\n",
        "    print(i)"
      ],
      "metadata": {
        "colab": {
          "base_uri": "https://localhost:8080/"
        },
        "id": "pZQDg5x6Yt9F",
        "outputId": "312a077e-06a9-4092-97b2-a6db585d47e6"
      },
      "execution_count": 8,
      "outputs": [
        {
          "output_type": "stream",
          "name": "stdout",
          "text": [
            "나\n",
            "다\n",
            "라\n"
          ]
        }
      ]
    },
    {
      "cell_type": "code",
      "source": [
        "# 149. 리스트에는 네 개의 문자열이 바인딩돼 있다.\n",
        "#      for문을 사용해서 다음과 같이 출력하라.\n",
        "'''\n",
        "가\n",
        "다\n",
        "'''\n",
        "\n",
        "리스트 = [\"가\", \"나\", \"다\", \"라\"]\n",
        "\n",
        "for i in 리스트[::2]:\n",
        "    print(i)\n"
      ],
      "metadata": {
        "colab": {
          "base_uri": "https://localhost:8080/"
        },
        "id": "r4O6vRffY6ow",
        "outputId": "1d3fa32b-9a08-43f6-995f-1d36843578b6"
      },
      "execution_count": 9,
      "outputs": [
        {
          "output_type": "stream",
          "name": "stdout",
          "text": [
            "가\n",
            "다\n"
          ]
        }
      ]
    },
    {
      "cell_type": "code",
      "source": [
        "# 150. 리스트에는 네 개의 문자열이 바인딩돼 있다.\n",
        "#      for문을 사용해서 다음과 같이 출력하라.\n",
        "'''\n",
        "라\n",
        "다\n",
        "나\n",
        "가\n",
        "'''\n",
        "\n",
        "리스트 = [\"가\", \"나\", \"다\", \"라\"]\n",
        "\n",
        "for i in 리스트[::-1]:\n",
        "    print(i)"
      ],
      "metadata": {
        "colab": {
          "base_uri": "https://localhost:8080/"
        },
        "id": "wcstQsFCZGQ7",
        "outputId": "e86c615e-3af1-4ba5-8da0-27e653976916"
      },
      "execution_count": 10,
      "outputs": [
        {
          "output_type": "stream",
          "name": "stdout",
          "text": [
            "라\n",
            "다\n",
            "나\n",
            "가\n"
          ]
        }
      ]
    },
    {
      "cell_type": "code",
      "source": [],
      "metadata": {
        "id": "5E6KhuEYZPPx"
      },
      "execution_count": null,
      "outputs": []
    }
  ]
}