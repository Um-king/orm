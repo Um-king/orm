{
  "nbformat": 4,
  "nbformat_minor": 0,
  "metadata": {
    "colab": {
      "provenance": []
    },
    "kernelspec": {
      "name": "python3",
      "display_name": "Python 3"
    },
    "language_info": {
      "name": "python"
    }
  },
  "cells": [
    {
      "cell_type": "code",
      "execution_count": 1,
      "metadata": {
        "colab": {
          "base_uri": "https://localhost:8080/"
        },
        "id": "b5mUNIjb6MbR",
        "outputId": "7faccdac-8862-4114-b4bb-94ccebc6e527"
      },
      "outputs": [
        {
          "output_type": "stream",
          "name": "stdout",
          "text": [
            "-20\n",
            "-3\n"
          ]
        }
      ],
      "source": [
        "# 151. 리스트에는 네 개의 정수가 저장돼 있다.\n",
        "#      for문을 사용해서 리스트의 음수를 출력하라.\n",
        "\n",
        "리스트 = [3, -20, -3, 44]\n",
        "\n",
        "for i in 리스트:\n",
        "    if i < 0:\n",
        "        print(i)"
      ]
    },
    {
      "cell_type": "code",
      "source": [
        "# 152. for문을 사용해서 3의 배수만을 출력하라.\n",
        "\n",
        "리스트 = [3, 100, 23, 44]\n",
        "\n",
        "for i in 리스트:\n",
        "    if i % 3 == 0:\n",
        "        print(i)"
      ],
      "metadata": {
        "colab": {
          "base_uri": "https://localhost:8080/"
        },
        "id": "FTlky6vy6be0",
        "outputId": "b0f4734c-f442-4206-c196-84f011bd6599"
      },
      "execution_count": 2,
      "outputs": [
        {
          "output_type": "stream",
          "name": "stdout",
          "text": [
            "3\n"
          ]
        }
      ]
    },
    {
      "cell_type": "code",
      "source": [
        "# 153. 리스트에서 20 보다 작은 3의 배수를 출력하라\n",
        "\n",
        "리스트 = [13, 21, 12, 14, 30, 18]\n",
        "\n",
        "for i in 리스트:\n",
        "    if i < 20 and i % 3 == 0:\n",
        "        print(i)"
      ],
      "metadata": {
        "colab": {
          "base_uri": "https://localhost:8080/"
        },
        "id": "Cps5O-3b6lf_",
        "outputId": "481814ff-32b3-44fe-c0a7-61b9c970f3b6"
      },
      "execution_count": 3,
      "outputs": [
        {
          "output_type": "stream",
          "name": "stdout",
          "text": [
            "12\n",
            "18\n"
          ]
        }
      ]
    },
    {
      "cell_type": "code",
      "source": [
        "# 154. 리스트에서 세 글자 이상의 문자를 화면에 출력하라\n",
        "\n",
        "리스트 = [\"I\", \"study\", \"python\", \"language\", \"!\"]\n",
        "\n",
        "for i in 리스트:\n",
        "    if len(i) >= 3:\n",
        "        print(i)"
      ],
      "metadata": {
        "colab": {
          "base_uri": "https://localhost:8080/"
        },
        "id": "hspS33gI6tZo",
        "outputId": "750bd3de-9656-4245-e1a6-2b05cd1ed3da"
      },
      "execution_count": 5,
      "outputs": [
        {
          "output_type": "stream",
          "name": "stdout",
          "text": [
            "study\n",
            "python\n",
            "language\n"
          ]
        }
      ]
    },
    {
      "cell_type": "code",
      "source": [
        "# 155. 리스트에서 대문자만 화면에 출력하라.\n",
        "\n",
        "리스트 = [\"A\", \"b\", \"c\", \"D\"]\n",
        "\n",
        "for i in 리스트:\n",
        "    if i.isupper():\n",
        "        print(i)"
      ],
      "metadata": {
        "colab": {
          "base_uri": "https://localhost:8080/"
        },
        "id": "p_llheeW60wb",
        "outputId": "9a43a190-87da-4747-9a6f-14a42e046316"
      },
      "execution_count": 7,
      "outputs": [
        {
          "output_type": "stream",
          "name": "stdout",
          "text": [
            "A\n",
            "D\n"
          ]
        }
      ]
    },
    {
      "cell_type": "code",
      "source": [
        "# 156. 리스트에서 소문자만 화면에 출력하라.\n",
        "\n",
        "리스트 = [\"A\", \"b\", \"c\", \"D\"]\n",
        "\n",
        "for i in 리스트:\n",
        "    if i.islower():\n",
        "        print(i)"
      ],
      "metadata": {
        "colab": {
          "base_uri": "https://localhost:8080/"
        },
        "id": "xmXJMomE69mf",
        "outputId": "9a1d8e1e-2c46-4b6c-fbba-4a0ecedcd911"
      },
      "execution_count": 8,
      "outputs": [
        {
          "output_type": "stream",
          "name": "stdout",
          "text": [
            "b\n",
            "c\n"
          ]
        }
      ]
    },
    {
      "cell_type": "code",
      "source": [
        "# 157. 이름의 첫 글자를 대문자로 변경해서 출력하라.\n",
        "\n",
        "리스트 = ['dog', 'cat', 'parrot']\n",
        "\n",
        "for i in 리스트:\n",
        "    s = i[0].upper()\n",
        "    print(s + i[1:])"
      ],
      "metadata": {
        "colab": {
          "base_uri": "https://localhost:8080/"
        },
        "id": "7_p97vI17EDq",
        "outputId": "21a1a519-b8ab-4d61-afc7-73353ea8d709"
      },
      "execution_count": 9,
      "outputs": [
        {
          "output_type": "stream",
          "name": "stdout",
          "text": [
            "Dog\n",
            "Cat\n",
            "Parrot\n"
          ]
        }
      ]
    },
    {
      "cell_type": "code",
      "source": [
        "# 158. 파일 이름이 저장된 리스트에서 확장자를 제거하고 파일 이름만 화면에 출력하라. (힌트: split() 메서드)\n",
        "\n",
        "리스트 = ['hello.py', 'ex01.py', 'intro.hwp']\n",
        "\n",
        "for i in 리스트:\n",
        "    print(i.split('.')[0])"
      ],
      "metadata": {
        "colab": {
          "base_uri": "https://localhost:8080/"
        },
        "id": "if5CbzQ27dKQ",
        "outputId": "b56d3564-cb1c-4736-b6b7-a331f4cbb7ee"
      },
      "execution_count": 11,
      "outputs": [
        {
          "output_type": "stream",
          "name": "stdout",
          "text": [
            "hello\n",
            "ex01\n",
            "intro\n"
          ]
        }
      ]
    },
    {
      "cell_type": "code",
      "source": [
        "# 159. 파일 이름이 저장된 리스트에서 확장자가 .h인 파일 이름을 출력하라.\n",
        "\n",
        "리스트 = ['intra.h', 'intra.c', 'define.h', 'run.py']\n",
        "\n",
        "for i in 리스트:\n",
        "    if i.split('.')[1] == 'h':\n",
        "        print(i)"
      ],
      "metadata": {
        "colab": {
          "base_uri": "https://localhost:8080/"
        },
        "id": "DZeFjc1o7pYP",
        "outputId": "54ebfda1-bb54-4923-8e30-19cf093b6ef7"
      },
      "execution_count": 13,
      "outputs": [
        {
          "output_type": "stream",
          "name": "stdout",
          "text": [
            "intra.h\n",
            "define.h\n"
          ]
        }
      ]
    },
    {
      "cell_type": "code",
      "source": [
        "# 160. 파일 이름이 저장된 리스트에서 확장자가 .h나 .c인 파일을 화면에 출력하라.\n",
        "\n",
        "리스트 = ['intra.h', 'intra.c', 'define.h', 'run.py']\n",
        "\n",
        "for i in 리스트:\n",
        "    if i.split('.')[1] == 'h' or i.split('.')[1] == 'c':\n",
        "        print(i)"
      ],
      "metadata": {
        "colab": {
          "base_uri": "https://localhost:8080/"
        },
        "id": "wjbs5wfz756z",
        "outputId": "2ebf79db-15db-4412-f085-1698d2e1b070"
      },
      "execution_count": 14,
      "outputs": [
        {
          "output_type": "stream",
          "name": "stdout",
          "text": [
            "intra.h\n",
            "intra.c\n",
            "define.h\n"
          ]
        }
      ]
    },
    {
      "cell_type": "code",
      "source": [],
      "metadata": {
        "id": "xFk_OGst8BfD"
      },
      "execution_count": null,
      "outputs": []
    }
  ]
}