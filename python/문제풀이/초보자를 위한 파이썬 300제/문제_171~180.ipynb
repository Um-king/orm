{
  "nbformat": 4,
  "nbformat_minor": 0,
  "metadata": {
    "colab": {
      "provenance": []
    },
    "kernelspec": {
      "name": "python3",
      "display_name": "Python 3"
    },
    "language_info": {
      "name": "python"
    }
  },
  "cells": [
    {
      "cell_type": "code",
      "execution_count": 2,
      "metadata": {
        "colab": {
          "base_uri": "https://localhost:8080/"
        },
        "id": "EWxCG58XiBLZ",
        "outputId": "19b6ee51-1a73-4ec8-c047-183ea6908317"
      },
      "outputs": [
        {
          "output_type": "stream",
          "name": "stdout",
          "text": [
            "32100\n",
            "32150\n",
            "32000\n",
            "32500\n"
          ]
        }
      ],
      "source": [
        "# 171. 아래와 같이 리스트의 데이터를 출력하라. 단, for문과 range문을 사용하라.\n",
        "'''\n",
        "32100\n",
        "32150\n",
        "32000\n",
        "32500\n",
        "'''\n",
        "\n",
        "price_list = [32100, 32150, 32000, 32500]\n",
        "\n",
        "for i in range(len(price_list)):\n",
        "    print(price_list[i])"
      ]
    },
    {
      "cell_type": "code",
      "source": [
        "# 172. 아래와 같이 리스트의 데이터를 출력하라. 단, for문과 range문을 사용하라.\n",
        "'''\n",
        "0 32100\n",
        "1 32150\n",
        "2 32000\n",
        "3 32500\n",
        "'''\n",
        "\n",
        "price_list = [32100, 32150, 32000, 32500]\n",
        "\n",
        "for i in range(len(price_list)):\n",
        "    print(i, price_list[i])"
      ],
      "metadata": {
        "colab": {
          "base_uri": "https://localhost:8080/"
        },
        "id": "NepEP5XhiRs0",
        "outputId": "cb86100c-80a6-4348-e6e7-30bb230d958a"
      },
      "execution_count": 5,
      "outputs": [
        {
          "output_type": "stream",
          "name": "stdout",
          "text": [
            "0 32100\n",
            "1 32150\n",
            "2 32000\n",
            "3 32500\n",
            "0 32100\n",
            "1 32150\n",
            "2 32000\n",
            "3 32500\n"
          ]
        }
      ]
    },
    {
      "cell_type": "code",
      "source": [
        "# 173. 아래와 같이 리스트의 데이터를 출력하라. 단, for문과 range문을 사용하라.\n",
        "'''\n",
        "3 32100\n",
        "2 32150\n",
        "1 32000\n",
        "0 32500\n",
        "'''\n",
        "\n",
        "price_list = [32100, 32150, 32000, 32500]\n",
        "\n",
        "for i in range(len(price_list)):\n",
        "    print(len(price_list) - 1 - i, price_list[i])"
      ],
      "metadata": {
        "colab": {
          "base_uri": "https://localhost:8080/"
        },
        "id": "cPp80wxniaj9",
        "outputId": "5a6c8c99-2df8-4465-a8c8-3eb96925d7ea"
      },
      "execution_count": 7,
      "outputs": [
        {
          "output_type": "stream",
          "name": "stdout",
          "text": [
            "3 32100\n",
            "2 32150\n",
            "1 32000\n",
            "0 32500\n"
          ]
        }
      ]
    },
    {
      "cell_type": "code",
      "source": [
        "# 174. 아래와 같이 리스트의 데이터를 출력하라. 단, for문과 range문을 사용하라.\n",
        "'''\n",
        "100 32150\n",
        "110 32000\n",
        "120 32500\n",
        "'''\n",
        "\n",
        "price_list = [32100, 32150, 32000, 32500]\n",
        "\n",
        "for i in range(1, len(price_list)):\n",
        "    print(90 + i * 10, price_list[i])"
      ],
      "metadata": {
        "colab": {
          "base_uri": "https://localhost:8080/"
        },
        "id": "UWyamP0ki5Yg",
        "outputId": "47ef1262-354f-468d-8642-e68227588da9"
      },
      "execution_count": 10,
      "outputs": [
        {
          "output_type": "stream",
          "name": "stdout",
          "text": [
            "100 32150\n",
            "110 32000\n",
            "120 32500\n"
          ]
        }
      ]
    },
    {
      "cell_type": "code",
      "source": [
        "# 175. my_list를 아래와 같이 출력하라.\n",
        "'''\n",
        "가 나\n",
        "나 다\n",
        "다 라\n",
        "'''\n",
        "\n",
        "my_list = [\"가\", \"나\", \"다\", \"라\"]\n",
        "my_list_2 = [\"나\", \"다\", \"라\"]\n",
        "\n",
        "l = list(zip(my_list, my_list_2))\n",
        "for i, j in l:\n",
        "    print(i, j)"
      ],
      "metadata": {
        "colab": {
          "base_uri": "https://localhost:8080/"
        },
        "id": "IfBQIyXIjIXL",
        "outputId": "6b0831d7-d260-40e5-a232-5c987ac5feeb"
      },
      "execution_count": 12,
      "outputs": [
        {
          "output_type": "stream",
          "name": "stdout",
          "text": [
            "가 나\n",
            "나 다\n",
            "다 라\n"
          ]
        }
      ]
    },
    {
      "cell_type": "code",
      "source": [
        "# 176. 리스트를 아래와 같이 출력하라.\n",
        "'''\n",
        "가 나 다\n",
        "나 다 라\n",
        "다 라 마\n",
        "'''\n",
        "\n",
        "my_list = [\"가\", \"나\", \"다\", \"라\", \"마\"]\n",
        "\n",
        "for i in range(0, 3):\n",
        "    a,b,c = my_list[i:i+3]\n",
        "    print(a, b, c)\n"
      ],
      "metadata": {
        "colab": {
          "base_uri": "https://localhost:8080/"
        },
        "id": "vz2x8-PJjiND",
        "outputId": "404c8bab-4d69-4397-d4cc-6c18cef6b27c"
      },
      "execution_count": 15,
      "outputs": [
        {
          "output_type": "stream",
          "name": "stdout",
          "text": [
            "가 나 다\n",
            "나 다 라\n",
            "다 라 마\n"
          ]
        }
      ]
    },
    {
      "cell_type": "code",
      "source": [
        "# 177. 반복문과 range 함수를 사용해서 my_list를 아래와 같이 출력하라.\n",
        "'''\n",
        "라 다\n",
        "다 나\n",
        "나 가\n",
        "'''\n",
        "\n",
        "my_list = [\"가\", \"나\", \"다\", \"라\"]\n",
        "num = len(my_list)\n",
        "\n",
        "for i in range(num, 1, -1):\n",
        "    print(my_list[num - 1 - i], my_list[num - 2 - i])\n"
      ],
      "metadata": {
        "colab": {
          "base_uri": "https://localhost:8080/"
        },
        "id": "Di_Q0_MxkEbA",
        "outputId": "b1ab9680-df3f-45a8-cea9-91ee965230c7"
      },
      "execution_count": 18,
      "outputs": [
        {
          "output_type": "stream",
          "name": "stdout",
          "text": [
            "라 다\n",
            "가 라\n",
            "나 가\n"
          ]
        }
      ]
    },
    {
      "cell_type": "code",
      "source": [
        "# 178. 리스트에는 네 개의 정수가 저장되어 있다. 각각의 데이터에 대해서 자신과 우측값과의 차분값을 화면에 출력하라.\n",
        "'''\n",
        "예를들어 100을 기준으로 우측에 위치한 200과의 차분 값를 화면에 출력하고,\n",
        "200을 기준으로 우측에 위치한 400과의 차분값을 화면에 출력한다. 이어서 400을 기준으로 우측에 위치한 800과의 차분값을 화면에 출력한다.\n",
        "\n",
        "100\n",
        "200\n",
        "400\n",
        "'''\n",
        "\n",
        "my_list = [100, 200, 400, 800]\n",
        "\n",
        "for i in range(len(my_list) - 1):\n",
        "    print(my_list[i + 1] - my_list[i])"
      ],
      "metadata": {
        "colab": {
          "base_uri": "https://localhost:8080/"
        },
        "id": "rPltdy7hkpqU",
        "outputId": "89dcf825-0758-4543-ca5e-490acadb5410"
      },
      "execution_count": 19,
      "outputs": [
        {
          "output_type": "stream",
          "name": "stdout",
          "text": [
            "100\n",
            "200\n",
            "400\n"
          ]
        }
      ]
    },
    {
      "cell_type": "code",
      "source": [
        "# 179. 리스트에는 6일 간의 종가 데이터가 저장되어 있다. 종가 데이터의 3일 이동 평균을 계산하고 이를 화면에 출력하라.\n",
        "'''\n",
        "첫 번째 줄에는 100, 200, 400의 평균값이 출력된다.\n",
        "두 번째 줄에는 200, 400, 800의 평균값이 출력된다.\n",
        "같은 방식으로 나머지 데이터의 평균을 출력한다.\n",
        "\n",
        "233.33333333333334\n",
        "466.6666666666667\n",
        "733.3333333333334\n",
        "1033.3333333333333\n",
        "'''\n",
        "\n",
        "my_list = [100, 200, 400, 800, 1000, 1300]\n",
        "\n",
        "for i in range(len(my_list) - 2):\n",
        "    print(sum(my_list[i:i+3]) / 3)"
      ],
      "metadata": {
        "colab": {
          "base_uri": "https://localhost:8080/"
        },
        "id": "TMf1FofflNJJ",
        "outputId": "545a99cb-14af-4560-e33b-7bb566cb8374"
      },
      "execution_count": 23,
      "outputs": [
        {
          "output_type": "stream",
          "name": "stdout",
          "text": [
            "233.33333333333334\n",
            "466.6666666666667\n",
            "733.3333333333334\n",
            "1033.3333333333333\n"
          ]
        }
      ]
    },
    {
      "cell_type": "code",
      "source": [
        "# 180. 리스트에 5일간의 저가, 고가 정보가 저장돼 있다.\n",
        "# 고가와 저가의 차를 변동폭이라고 정의할 때, low, high 두 개의 리스트를 사용해서 5일간의 변동폭을 volatility 리스트에 저장하라.\n",
        "\n",
        "low_prices  = [100, 200, 400, 800, 1000]\n",
        "high_prices = [150, 300, 430, 880, 1000]\n",
        "volatility = []\n",
        "\n",
        "for i in range(len(low_prices)):\n",
        "    volatility.append(high_prices[i] - low_prices[i])"
      ],
      "metadata": {
        "id": "IY0tHnORlm8P"
      },
      "execution_count": 25,
      "outputs": []
    },
    {
      "cell_type": "code",
      "source": [],
      "metadata": {
        "id": "coHcAIlLl0kt"
      },
      "execution_count": null,
      "outputs": []
    }
  ]
}