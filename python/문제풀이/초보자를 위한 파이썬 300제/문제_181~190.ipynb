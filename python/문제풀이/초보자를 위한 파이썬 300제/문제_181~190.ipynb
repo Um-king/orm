{
  "nbformat": 4,
  "nbformat_minor": 0,
  "metadata": {
    "colab": {
      "provenance": []
    },
    "kernelspec": {
      "name": "python3",
      "display_name": "Python 3"
    },
    "language_info": {
      "name": "python"
    }
  },
  "cells": [
    {
      "cell_type": "code",
      "execution_count": null,
      "metadata": {
        "id": "KvVNgiWJmSKl"
      },
      "outputs": [],
      "source": [
        "# 181. 아래 표에서 하나의 행을 하나의 리스트로, 총 3개의 리스트를 갖는 이차원 리스트 apart를 정의하라.\n",
        "'''\n",
        "101호\t102호\n",
        "201호\t202호\n",
        "301호\t302호\n",
        "'''\n",
        "\n",
        "apart = [['101호', '102호'], ['201호', '202호'], ['301호', '302호']]"
      ]
    },
    {
      "cell_type": "code",
      "source": [
        "# 182. 아래 표에서 하나의 열을 하나의 리스트로, 총 2개의 리스트를 갖는 이차원 리스트 stock을 정의하라.\n",
        "'''\n",
        "시가\t종가\n",
        "100\t    80\n",
        "200\t    210\n",
        "300\t    330\n",
        "'''\n",
        "\n",
        "stock = [['시가', 100, 200, 300], ['종가', 80, 210, 330]]"
      ],
      "metadata": {
        "id": "j0KIMizUmgfq"
      },
      "execution_count": null,
      "outputs": []
    },
    {
      "cell_type": "code",
      "source": [
        "# 183. 아래 표를 stock 이름의 딕셔너리로 표현하라.\n",
        "# 시가를 key로 저장하고, 나머지 같은 열의 데이터를 리스트로 저장해서 value로 저장한다.\n",
        "# 종가 역시 key로 저장하고 나머지 같은 열의 데이터를 리스트로 저장해서 value로 저장한다.\n",
        "'''\n",
        "시가\t종가\n",
        "100\t    80\n",
        "200\t    210\n",
        "300\t    330\n",
        "'''\n",
        "\n",
        "stock = {\n",
        "    '시가' : [100, 200, 300],\n",
        "    '종가' : [80, 210, 330]\n",
        "}"
      ],
      "metadata": {
        "id": "nLhtKtchmtzh"
      },
      "execution_count": null,
      "outputs": []
    },
    {
      "cell_type": "code",
      "source": [
        "# 184. 아래 표를 stock 이라는 이름의 딕셔너리로 표현하라.\n",
        "# 날짜를 key로 저장하고, 나머지 같은 행의 데이터를 리스트로 저장해서 value로 저장한다.\n",
        "# 첫 열이 날짜이다.\n",
        "\n",
        "10/10\t80\t110\t70\t90\n",
        "10/11\t210\t230\t190\t200\n",
        "\n",
        "stock = {\n",
        "    \"10/10\": [80, 110, 70, 90],\n",
        "    \"10/11\": [210, 230, 190, 200]\n",
        "}"
      ],
      "metadata": {
        "id": "7UIEWKBinA_t"
      },
      "execution_count": null,
      "outputs": []
    },
    {
      "cell_type": "code",
      "source": [
        "# 185. 리스트에 저장된 데이터를 아래와 같이 출력하라.\n",
        "'''\n",
        "101 호\n",
        "102 호\n",
        "201 호\n",
        "202 호\n",
        "301 호\n",
        "302 호\n",
        "'''\n",
        "\n",
        "apart = [ [101, 102], [201, 202], [301, 302] ]\n",
        "\n",
        "for i in apart:\n",
        "    for j in i:\n",
        "        print(j, '호')"
      ],
      "metadata": {
        "colab": {
          "base_uri": "https://localhost:8080/"
        },
        "id": "0ae9AsmRnLJf",
        "outputId": "a972418f-dfbf-48f5-af94-490b957ea630"
      },
      "execution_count": 1,
      "outputs": [
        {
          "output_type": "stream",
          "name": "stdout",
          "text": [
            "101 호\n",
            "102 호\n",
            "201 호\n",
            "202 호\n",
            "301 호\n",
            "302 호\n"
          ]
        }
      ]
    },
    {
      "cell_type": "code",
      "source": [
        "# 186. 리스트에 저장된 데이터를 아래와 같이 출력하라.\n",
        "'''\n",
        "301 호\n",
        "302 호\n",
        "201 호\n",
        "202 호\n",
        "101 호\n",
        "102 호\n",
        "'''\n",
        "\n",
        "apart = [ [101, 102], [201, 202], [301, 302] ]\n",
        "\n",
        "for i in apart[::-1]:\n",
        "    for j in i:\n",
        "        print(j, '호')"
      ],
      "metadata": {
        "colab": {
          "base_uri": "https://localhost:8080/"
        },
        "id": "fmtb25o3nTdx",
        "outputId": "47599e1b-8ae0-4b9d-e06b-c738a5cec7b5"
      },
      "execution_count": 12,
      "outputs": [
        {
          "output_type": "stream",
          "name": "stdout",
          "text": [
            "301 호\n",
            "302 호\n",
            "201 호\n",
            "202 호\n",
            "101 호\n",
            "102 호\n"
          ]
        }
      ]
    },
    {
      "cell_type": "code",
      "source": [
        "# 187. 리스트에 저장된 데이터를 아래와 같이 출력하라.\n",
        "'''\n",
        "302 호\n",
        "301 호\n",
        "202 호\n",
        "201 호\n",
        "102 호\n",
        "101 호\n",
        "'''\n",
        "\n",
        "apart = [ [101, 102], [201, 202], [301, 302] ]\n",
        "l = sorted(sum(apart, []), reverse=True)\n",
        "\n",
        "for i in l:\n",
        "    print(i, '호')"
      ],
      "metadata": {
        "colab": {
          "base_uri": "https://localhost:8080/"
        },
        "id": "kDSK9x_7nd2Y",
        "outputId": "aa3d3335-b89d-4ff3-dc4e-395ac1daad00"
      },
      "execution_count": 13,
      "outputs": [
        {
          "output_type": "stream",
          "name": "stdout",
          "text": [
            "302 허\n",
            "301 허\n",
            "202 허\n",
            "201 허\n",
            "102 허\n",
            "101 허\n"
          ]
        }
      ]
    },
    {
      "cell_type": "code",
      "source": [
        "# 188. 리스트에 저장된 데이터를 아래와 같이 출력하라.\n",
        "'''\n",
        "101 호\n",
        "-----\n",
        "102 호\n",
        "-----\n",
        "201 호\n",
        "-----\n",
        "202 호\n",
        "-----\n",
        "301 호\n",
        "-----\n",
        "302 호\n",
        "-----\n",
        "'''\n",
        "\n",
        "apart = [ [101, 102], [201, 202], [301, 302] ]\n",
        "\n",
        "for i in apart:\n",
        "    for j in i:\n",
        "        print(j, '호')\n",
        "        print('-'*5)"
      ],
      "metadata": {
        "colab": {
          "base_uri": "https://localhost:8080/"
        },
        "id": "6V-hxXBRoaCB",
        "outputId": "8258b06d-e7be-41bb-853c-38a19ec606ef"
      },
      "execution_count": 15,
      "outputs": [
        {
          "output_type": "stream",
          "name": "stdout",
          "text": [
            "101 호\n",
            "-----\n",
            "102 호\n",
            "-----\n",
            "201 호\n",
            "-----\n",
            "202 호\n",
            "-----\n",
            "301 호\n",
            "-----\n",
            "302 호\n",
            "-----\n"
          ]
        }
      ]
    },
    {
      "cell_type": "code",
      "source": [
        "# 189. 리스트에 저장된 데이터를 아래와 같이 출력하라.\n",
        "'''\n",
        "101 호\n",
        "102 호\n",
        "-----\n",
        "201 호\n",
        "202 호\n",
        "-----\n",
        "301 호\n",
        "302 호\n",
        "-----\n",
        "'''\n",
        "\n",
        "apart = [ [101, 102], [201, 202], [301, 302] ]\n",
        "for i in apart:\n",
        "    for j in i:\n",
        "        print(j, '호')\n",
        "    print('-'*5)"
      ],
      "metadata": {
        "colab": {
          "base_uri": "https://localhost:8080/"
        },
        "id": "9xFPsLRWonSy",
        "outputId": "0d070c04-71e9-4c36-c85a-1dad2a239306"
      },
      "execution_count": 16,
      "outputs": [
        {
          "output_type": "stream",
          "name": "stdout",
          "text": [
            "101 호\n",
            "102 호\n",
            "-----\n",
            "201 호\n",
            "202 호\n",
            "-----\n",
            "301 호\n",
            "302 호\n",
            "-----\n"
          ]
        }
      ]
    },
    {
      "cell_type": "code",
      "source": [
        "# 190. 리스트에 저장된 데이터를 아래와 같이 출력하라.\n",
        "'''\n",
        "101 호\n",
        "102 호\n",
        "201 호\n",
        "202 호\n",
        "301 호\n",
        "302 호\n",
        "-----\n",
        "'''\n",
        "apart = [ [101, 102], [201, 202], [301, 302] ]\n",
        "\n",
        "apart = [ [101, 102], [201, 202], [301, 302] ]\n",
        "for i in apart:\n",
        "    for j in i:\n",
        "        print(j, '호')\n",
        "print('-'*5)"
      ],
      "metadata": {
        "colab": {
          "base_uri": "https://localhost:8080/"
        },
        "id": "v568_1kRoyWT",
        "outputId": "ff8be362-e44b-48c5-9ab5-26d8de4f6f9c"
      },
      "execution_count": 17,
      "outputs": [
        {
          "output_type": "stream",
          "name": "stdout",
          "text": [
            "101 호\n",
            "102 호\n",
            "201 호\n",
            "202 호\n",
            "301 호\n",
            "302 호\n",
            "-----\n"
          ]
        }
      ]
    },
    {
      "cell_type": "code",
      "source": [],
      "metadata": {
        "id": "yQk2Ss9wo4gR"
      },
      "execution_count": null,
      "outputs": []
    }
  ]
}