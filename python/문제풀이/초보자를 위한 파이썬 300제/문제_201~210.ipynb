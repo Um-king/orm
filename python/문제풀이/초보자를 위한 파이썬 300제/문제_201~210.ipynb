{
  "nbformat": 4,
  "nbformat_minor": 0,
  "metadata": {
    "colab": {
      "provenance": []
    },
    "kernelspec": {
      "name": "python3",
      "display_name": "Python 3"
    },
    "language_info": {
      "name": "python"
    }
  },
  "cells": [
    {
      "cell_type": "code",
      "execution_count": null,
      "metadata": {
        "id": "hsQzuoONsK_7"
      },
      "outputs": [],
      "source": [
        "# 201. \"비트코인\" 문자열을 화면에 출력하는 print_coin() 함수를 정의하라.\n",
        "\n",
        "def print_coin():\n",
        "    print(\"비트코인\")"
      ]
    },
    {
      "cell_type": "code",
      "source": [
        "# 202. 201번에서 정의한 함수를 호출하라.\n",
        "\n",
        "print_coin()"
      ],
      "metadata": {
        "colab": {
          "base_uri": "https://localhost:8080/"
        },
        "id": "Hu83XZ1TsaUD",
        "outputId": "6787b5d7-6497-429d-e898-e466ca353d0b"
      },
      "execution_count": 2,
      "outputs": [
        {
          "output_type": "stream",
          "name": "stdout",
          "text": [
            "비트코인\n"
          ]
        }
      ]
    },
    {
      "cell_type": "code",
      "source": [
        "# 203. 201번에서 정의한 print_coin 함수를 100번호출하라.\n",
        "\n",
        "for i in range(100):\n",
        "    print_coin()"
      ],
      "metadata": {
        "id": "drIv0MM8sf5Z"
      },
      "execution_count": null,
      "outputs": []
    },
    {
      "cell_type": "code",
      "source": [
        "# 204. \"비트코인\" 문자열을 100번 화면에 출력하는 print_coins() 함수를 정의하라.\n",
        "\n",
        "def print_coins():\n",
        "    for i in range(100):\n",
        "        print(\"비트코인\")"
      ],
      "metadata": {
        "id": "pzOXM0VcspMf"
      },
      "execution_count": null,
      "outputs": []
    },
    {
      "cell_type": "code",
      "source": [
        "# 205. 아래의 에러가 발생하는 이유에 대해 설명하라.\n",
        "\n",
        "hello()\n",
        "def hello():\n",
        "    print(\"Hi\")\n",
        "\n",
        "'''\n",
        ">> 결과: 함수가 정의되기 전에 호출되어서\n",
        "'''"
      ],
      "metadata": {
        "id": "RDPymk-fsz2F"
      },
      "execution_count": null,
      "outputs": []
    },
    {
      "cell_type": "code",
      "source": [
        "# 206. 아래 코드의 실행 결과를 예측하라.\n",
        "\n",
        "def message() :\n",
        "    print(\"A\")\n",
        "    print(\"B\")\n",
        "\n",
        "message()\n",
        "print(\"C\")\n",
        "message()\n",
        "\n",
        "'''\n",
        ">> 결과\n",
        "A\n",
        "B\n",
        "C\n",
        "A\n",
        "B\n",
        "'''"
      ],
      "metadata": {
        "id": "ZpaLpnLxs6oh"
      },
      "execution_count": null,
      "outputs": []
    },
    {
      "cell_type": "code",
      "source": [
        "# 207. 아래 코드의 실행 결과를 예측하라. (읽기 어려운 코드의 예입니다.)\n",
        "\n",
        "print(\"A\")\n",
        "\n",
        "def message() :\n",
        "    print(\"B\")\n",
        "\n",
        "print(\"C\")\n",
        "message()\n",
        "\n",
        "'''\n",
        ">> 결과\n",
        "A\n",
        "C\n",
        "B\n",
        "'''"
      ],
      "metadata": {
        "id": "E1tqrNcDtChy"
      },
      "execution_count": null,
      "outputs": []
    },
    {
      "cell_type": "code",
      "source": [
        "# 208. 아래 코드의 실행 결과를 예측하라. (읽기 어려운 코드의 예입니다.)\n",
        "\n",
        "print(\"A\")\n",
        "def message1() :\n",
        "    print(\"B\")\n",
        "print(\"C\")\n",
        "def message2() :\n",
        "    print(\"D\")\n",
        "message1()\n",
        "print(\"E\")\n",
        "message2()\n",
        "\n",
        "'''\n",
        ">> 결과\n",
        "A\n",
        "C\n",
        "B\n",
        "E\n",
        "D\n",
        "'''"
      ],
      "metadata": {
        "id": "Stk71JELtJMI"
      },
      "execution_count": null,
      "outputs": []
    },
    {
      "cell_type": "code",
      "source": [
        "# 209. 아래 코드의 실행 결과를 예측하라.\n",
        "\n",
        "def message1():\n",
        "    print(\"A\")\n",
        "\n",
        "def message2():\n",
        "    print(\"B\")\n",
        "    message1()\n",
        "\n",
        "message2()\n",
        "\n",
        "'''\n",
        ">> 결과\n",
        "B\n",
        "A\n",
        "'''"
      ],
      "metadata": {
        "id": "RAp1S1fMtS_6"
      },
      "execution_count": null,
      "outputs": []
    },
    {
      "cell_type": "code",
      "source": [
        "# 210. 아래 코드의 실행 결과를 예측하라.\n",
        "\n",
        "def message1():\n",
        "    print(\"A\")\n",
        "\n",
        "def message2():\n",
        "    print(\"B\")\n",
        "\n",
        "def message3():\n",
        "    for i in range (3) :\n",
        "        message2()\n",
        "        print(\"C\")\n",
        "    message1()\n",
        "\n",
        "message3()\n",
        "\n",
        "'''\n",
        ">> 결과\n",
        "B\n",
        "C\n",
        "B\n",
        "C\n",
        "B\n",
        "C\n",
        "A\n",
        "'''"
      ],
      "metadata": {
        "id": "wjT36syhtauo"
      },
      "execution_count": null,
      "outputs": []
    }
  ]
}