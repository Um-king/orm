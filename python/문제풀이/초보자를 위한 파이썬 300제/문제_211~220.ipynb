{
  "nbformat": 4,
  "nbformat_minor": 0,
  "metadata": {
    "colab": {
      "provenance": []
    },
    "kernelspec": {
      "name": "python3",
      "display_name": "Python 3"
    },
    "language_info": {
      "name": "python"
    }
  },
  "cells": [
    {
      "cell_type": "code",
      "execution_count": null,
      "metadata": {
        "id": "D85x_3Cn2bt6"
      },
      "outputs": [],
      "source": [
        "# 211. 함수의 호출 결과를 예측하라.\n",
        "\n",
        "def 함수(문자열) :\n",
        "    print(문자열)\n",
        "\n",
        "함수(\"안녕\")\n",
        "함수(\"Hi\")\n",
        "\n",
        "'''\n",
        ">> 결과\n",
        "안녕\n",
        "Hi\n",
        "'''"
      ]
    },
    {
      "cell_type": "code",
      "source": [
        "# 212. 함수의 호출 결과를 예측하라.\n",
        "\n",
        "def 함수(a, b) :\n",
        "    print(a + b)\n",
        "\n",
        "함수(3, 4)\n",
        "함수(7, 8)\n",
        "\n",
        "'''\n",
        ">> 결과\n",
        "7\n",
        "15\n",
        "'''"
      ],
      "metadata": {
        "id": "SttGpbUR38Xr"
      },
      "execution_count": null,
      "outputs": []
    },
    {
      "cell_type": "code",
      "source": [
        "# 213 .아래와 같은 에러가 발생하는 원인을 설명하라.\n",
        "\n",
        "def 함수(문자열) :\n",
        "    print(문자열)\n",
        "함수()\n",
        "\n",
        "# TypeError: 함수() missing 1 required positional argument: '문자열'\n",
        "\n",
        "'''\n",
        ">> 결과\n",
        "함수에 정의와 다르게 함수를 호출하고 있다. 함수를 호출할 때 하나의 파라미터를 입력해야한다.\n",
        "'''"
      ],
      "metadata": {
        "id": "YksXhhxq4LnJ"
      },
      "execution_count": null,
      "outputs": []
    },
    {
      "cell_type": "code",
      "source": [
        "# 214. 아래와 같은 에러가 발생하는 원인을 설명하라.\n",
        "\n",
        "def 함수(a, b) :\n",
        "    print(a + b)\n",
        "\n",
        "함수(\"안녕\", 3)\n",
        "\n",
        "# TypeError: must be str, not int\n",
        "\n",
        "'''\n",
        ">> 결과\n",
        "서로 다른 데이터 타입의 연산\n",
        "'''"
      ],
      "metadata": {
        "id": "koRfxl6W4TwV"
      },
      "execution_count": null,
      "outputs": []
    },
    {
      "cell_type": "code",
      "source": [
        "# 215. 하나의 문자를 입력받아 문자열 끝에 \":D\" 스마일 문자열을 이어 붙여 출력하는 print_with_smile 함수를 정의하라.\n",
        "\n",
        "def f(s):\n",
        "    print(str(s), ':D')"
      ],
      "metadata": {
        "colab": {
          "base_uri": "https://localhost:8080/"
        },
        "id": "TwMFr8z14gI9",
        "outputId": "4fd90877-af65-4218-a8b9-74ae00bb66f4"
      },
      "execution_count": 1,
      "outputs": [
        {
          "output_type": "stream",
          "name": "stdout",
          "text": [
            "Hi\n",
            "Hi :D\n"
          ]
        }
      ]
    },
    {
      "cell_type": "code",
      "source": [
        "# 216. 215에서 정의한 함수를 호출하라. 파라미터는 \"안녕하세요\"로 입력하라.\n",
        "\n",
        "f('안녕하세요')"
      ],
      "metadata": {
        "colab": {
          "base_uri": "https://localhost:8080/"
        },
        "id": "R0wR-w8T4tzp",
        "outputId": "44c9abe7-b7bf-495c-9ad1-c3297970fa14"
      },
      "execution_count": 2,
      "outputs": [
        {
          "output_type": "stream",
          "name": "stdout",
          "text": [
            "안녕하세요 :D\n"
          ]
        }
      ]
    },
    {
      "cell_type": "code",
      "source": [
        "# 217. 현재 가격을 입력 받아 상한가 (30%)를 출력하는 print_upper_price 함수를 정의하라.\n",
        "\n",
        "def f(num):\n",
        "    print(num * 1.3)\n",
        "\n",
        "f(1000)"
      ],
      "metadata": {
        "colab": {
          "base_uri": "https://localhost:8080/"
        },
        "id": "wBWMywGm446R",
        "outputId": "38ba7ba2-8a63-4206-c166-3a08d56c130c"
      },
      "execution_count": 3,
      "outputs": [
        {
          "output_type": "stream",
          "name": "stdout",
          "text": [
            "1300.0\n"
          ]
        }
      ]
    },
    {
      "cell_type": "code",
      "source": [
        "# 218. 두 개의 숫자를 입력받아 두 수의 합을 출력하는 print_sum 함수를 정의하라.\n",
        "\n",
        "def print_sum(a, b):\n",
        "    print(a + b)"
      ],
      "metadata": {
        "id": "Ck8Urzbm5B5B"
      },
      "execution_count": null,
      "outputs": []
    },
    {
      "cell_type": "code",
      "source": [
        "# 219. 두 개의 숫자를 입력받아 합/차/곱/나눗셈을 출력하는 print_arithmetic_operation 함수를 작성하라.\n",
        "\n",
        "def print_arithmetic_operation(a, b):\n",
        "    print(f\"{a} + {b} = {a + b}\")\n",
        "    print(f\"{a} - {b} = {a - b}\")\n",
        "    print(f\"{a} * {b} = {a * b}\")\n",
        "    print(f\"{a} / {b} = {a / b}\")\n",
        "\n",
        "print_arithmetic_operation(3, 4)"
      ],
      "metadata": {
        "colab": {
          "base_uri": "https://localhost:8080/"
        },
        "id": "NmtBAQ7s5LCO",
        "outputId": "44f9e664-4875-4819-97c5-5d0f8c6d770c"
      },
      "execution_count": 5,
      "outputs": [
        {
          "output_type": "stream",
          "name": "stdout",
          "text": [
            "3 + 4 = 7\n",
            "3 - 4 = -1\n",
            "3 * 4 = 12\n",
            "3 / 4 = 0.75\n"
          ]
        }
      ]
    },
    {
      "cell_type": "code",
      "source": [
        "# 220. 세 개의 숫자를 입력받아 가장 큰수를 출력하는 print_max 함수를 정의하라. 단 if 문을 사용해서 수를 비교하라.\n",
        "\n",
        "def print_max(a, b, c):\n",
        "    if a > b and a > c:\n",
        "        print(a)\n",
        "    elif b > a and b > c:\n",
        "        print(b)\n",
        "    else:\n",
        "        print(c)\n",
        "\n",
        "print_max(1,2,3)"
      ],
      "metadata": {
        "colab": {
          "base_uri": "https://localhost:8080/"
        },
        "id": "YHc8T3PV5VZL",
        "outputId": "b92bdf24-edb7-40d9-b9b7-5c22d2f8994f"
      },
      "execution_count": 6,
      "outputs": [
        {
          "output_type": "stream",
          "name": "stdout",
          "text": [
            "3\n"
          ]
        }
      ]
    },
    {
      "cell_type": "code",
      "source": [],
      "metadata": {
        "id": "GELKu06u6NYS"
      },
      "execution_count": null,
      "outputs": []
    }
  ]
}