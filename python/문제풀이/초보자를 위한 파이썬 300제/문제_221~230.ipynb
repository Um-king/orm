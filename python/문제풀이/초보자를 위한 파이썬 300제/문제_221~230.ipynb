{
  "nbformat": 4,
  "nbformat_minor": 0,
  "metadata": {
    "colab": {
      "provenance": []
    },
    "kernelspec": {
      "name": "python3",
      "display_name": "Python 3"
    },
    "language_info": {
      "name": "python"
    }
  },
  "cells": [
    {
      "cell_type": "code",
      "execution_count": 1,
      "metadata": {
        "colab": {
          "base_uri": "https://localhost:8080/"
        },
        "id": "Njb48ePJGwqh",
        "outputId": "e3937b03-36dc-464b-c80e-ddc3b02f0fb4"
      },
      "outputs": [
        {
          "output_type": "stream",
          "name": "stdout",
          "text": [
            "nohtyp\n"
          ]
        }
      ],
      "source": [
        "# 221. 입력된 문자열을 역순으로 출력하는 print_reverse 함수를 정의하라.\n",
        "\n",
        "def print_reverse(data):\n",
        "    print(data[::-1])\n",
        "\n",
        "print_reverse(\"python\")"
      ]
    },
    {
      "cell_type": "code",
      "source": [
        "# 222. 성적 리스트를 입력 받아 평균을 출력하는 print_score 함수를 정의하라.\n",
        "\n",
        "def print_score(lst):\n",
        "    print(sum(lst)/len(lst))\n",
        "\n",
        "print_score ([1, 2, 3])"
      ],
      "metadata": {
        "colab": {
          "base_uri": "https://localhost:8080/"
        },
        "id": "y3Lami-bHCXi",
        "outputId": "62c3df21-1c21-4604-e71b-f541127f4d72"
      },
      "execution_count": 2,
      "outputs": [
        {
          "output_type": "stream",
          "name": "stdout",
          "text": [
            "2.0\n"
          ]
        }
      ]
    },
    {
      "cell_type": "code",
      "source": [
        "# 223. 하나의 리스트를 입력받아 짝수만 화면에 출력하는 print_even 함수를 정의하라.\n",
        "\n",
        "def print_even(lst):\n",
        "    for i in lst:\n",
        "        if i % 2 == 0:\n",
        "            print(i)\n",
        "\n",
        "print_even ([1, 3, 2, 10, 12, 11, 15])"
      ],
      "metadata": {
        "colab": {
          "base_uri": "https://localhost:8080/"
        },
        "id": "lRjG51_iHKp7",
        "outputId": "1b9db942-f231-411d-b789-a9846ea9b028"
      },
      "execution_count": 7,
      "outputs": [
        {
          "output_type": "stream",
          "name": "stdout",
          "text": [
            "2\n",
            "10\n",
            "12\n"
          ]
        }
      ]
    },
    {
      "cell_type": "code",
      "source": [
        "# 224. 하나의 딕셔너리를 입력받아 딕셔너리의 key 값을 화면에 출력하는 print_keys 함수를 정의하라.\n",
        "\n",
        "def print_keys(d):\n",
        "    for i in d:\n",
        "        print(i)\n",
        "\n",
        "print_keys ({\"이름\":\"김말똥\", \"나이\":30, \"성별\":0})"
      ],
      "metadata": {
        "colab": {
          "base_uri": "https://localhost:8080/"
        },
        "id": "9yXLhRVFHhmh",
        "outputId": "1ab30317-e1b4-4f2d-a738-c889ecda4644"
      },
      "execution_count": 8,
      "outputs": [
        {
          "output_type": "stream",
          "name": "stdout",
          "text": [
            "이름\n",
            "나이\n",
            "성별\n"
          ]
        }
      ]
    },
    {
      "cell_type": "code",
      "source": [
        "# 225. my_dict에는 날짜를 키값으로 OHLC가 리스트로 저장돼 있다.\n",
        "# my_dict와 날짜 키값을 입력받아 OHLC 리스트를 출력하는 print_value_by_key 함수를 정의하라.\n",
        "\n",
        "def print_value_by_key(d, data):\n",
        "    print(d[data])\n",
        "\n",
        "my_dict = {\"10/26\" : [100, 130, 100, 100],\n",
        "           \"10/27\" : [10, 12, 10, 11]}\n",
        "\n",
        "print_value_by_key (my_dict, '10/26')\n"
      ],
      "metadata": {
        "colab": {
          "base_uri": "https://localhost:8080/"
        },
        "id": "A7t_l5PXIRyi",
        "outputId": "d96daf68-b54b-4688-d482-88feb931f3ff"
      },
      "execution_count": 9,
      "outputs": [
        {
          "output_type": "stream",
          "name": "stdout",
          "text": [
            "[100, 130, 100, 100]\n"
          ]
        }
      ]
    },
    {
      "cell_type": "code",
      "source": [
        "# 226. 입력 문자열을 한 줄에 다섯글자씩 출력하는 print_5xn(string) 함수를 작성하라.\n",
        "\n",
        "def print_5xn(data):\n",
        "    num = int(len(data) / 5)\n",
        "    for i in range(num + 1):\n",
        "        print(data[i * 5: i * 5 + 5])\n",
        "\n",
        "\n",
        "print_5xn(\"아이엠어보이유알어걸\")"
      ],
      "metadata": {
        "colab": {
          "base_uri": "https://localhost:8080/"
        },
        "id": "y0KxZby7Ilkq",
        "outputId": "3b8517e0-908f-4582-ac75-ed3cbf37debf"
      },
      "execution_count": 14,
      "outputs": [
        {
          "output_type": "stream",
          "name": "stdout",
          "text": [
            "아이엠어보\n",
            "이유알어걸\n",
            "\n"
          ]
        }
      ]
    },
    {
      "cell_type": "code",
      "source": [
        "# 227. 문자열과 한줄에 출력될 글자 수를 입력을 받아 한 줄에 입력된 글자 수만큼 출력하는 print_mxn(string) 함수를 작성하라.\n",
        "\n",
        "def printmxn(data, count):\n",
        "    num = int(len(data) / count)\n",
        "    for i in range(num + 1):\n",
        "        print(data[i * count: i * count + count])\n",
        "\n",
        "\n",
        "printmxn(\"아이엠어보이유알어걸\", 3)"
      ],
      "metadata": {
        "colab": {
          "base_uri": "https://localhost:8080/"
        },
        "id": "Tg4E515AKIbK",
        "outputId": "8f80d7b9-1126-440e-a9db-00bc4cd7b819"
      },
      "execution_count": 15,
      "outputs": [
        {
          "output_type": "stream",
          "name": "stdout",
          "text": [
            "아이엠\n",
            "어보이\n",
            "유알어\n",
            "걸\n"
          ]
        }
      ]
    },
    {
      "cell_type": "code",
      "source": [
        "# 228. 연봉을 입력받아 월급을 계산하는 calc_monthly_salary(annual_salary) 함수를 정의하라. 회사는 연봉을 12개월로 나누어 분할 지급하며, 이 때 1원 미만은 버림한다.\n",
        "\n",
        "def calc_monthly_salary(amount):\n",
        "    money = int(amount / 12)\n",
        "    print(money)\n",
        "\n",
        "calc_monthly_salary(12000000)"
      ],
      "metadata": {
        "colab": {
          "base_uri": "https://localhost:8080/"
        },
        "id": "HXepgDaRMtVl",
        "outputId": "e8a5cb1e-00d8-47dc-a729-5790856f298b"
      },
      "execution_count": 17,
      "outputs": [
        {
          "output_type": "stream",
          "name": "stdout",
          "text": [
            "1000000\n"
          ]
        }
      ]
    },
    {
      "cell_type": "code",
      "source": [
        "# 229. 아래 코드의 실행 결과를 예측하라.\n",
        "\n",
        "def my_print (a, b) :\n",
        "    print(\"왼쪽:\", a)\n",
        "    print(\"오른쪽:\", b)\n",
        "\n",
        "my_print(a=100, b=200)\n",
        "\n",
        "'''\n",
        ">> 결과\n",
        "왼쪽: 100\n",
        "오른쪽: 200\n",
        "'''"
      ],
      "metadata": {
        "id": "RvTdel6mOlhB"
      },
      "execution_count": null,
      "outputs": []
    },
    {
      "cell_type": "code",
      "source": [
        "# 230. 아래 코드의 실행 결과를 예측하라.\n",
        "\n",
        "def my_print (a, b) :\n",
        "    print(\"왼쪽:\", a)\n",
        "    print(\"오른쪽:\", b)\n",
        "\n",
        "my_print(b=100, a=200)\n",
        "\n",
        "'''\n",
        ">> 결과\n",
        "왼쪽: 200\n",
        "오른쪽: 100\n",
        "'''"
      ],
      "metadata": {
        "id": "q_4jpsAfPhT5"
      },
      "execution_count": null,
      "outputs": []
    },
    {
      "cell_type": "code",
      "source": [],
      "metadata": {
        "id": "b3LblRmmPmyo"
      },
      "execution_count": null,
      "outputs": []
    }
  ]
}