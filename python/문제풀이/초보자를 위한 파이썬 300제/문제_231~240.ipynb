{
  "nbformat": 4,
  "nbformat_minor": 0,
  "metadata": {
    "colab": {
      "provenance": []
    },
    "kernelspec": {
      "name": "python3",
      "display_name": "Python 3"
    },
    "language_info": {
      "name": "python"
    }
  },
  "cells": [
    {
      "cell_type": "code",
      "execution_count": null,
      "metadata": {
        "id": "VCZzw9U_Q1X_"
      },
      "outputs": [],
      "source": [
        "# 231. 아래 코드를 실행한 결과를 예상하라.\n",
        "\n",
        "def n_plus_1 (n) :\n",
        "    result = n + 1\n",
        "\n",
        "n_plus_1(3)\n",
        "print (result)\n",
        "\n",
        "'''\n",
        ">> 결과\n",
        "Error : result는 함수내 지역변수이다. 호출 불가\n",
        "'''"
      ]
    },
    {
      "cell_type": "code",
      "source": [
        "# 232. 문자열 하나를 입력받아 인터넷 주소를 반환하는 make_url 함수를 정의하라.\n",
        "\n",
        "def make_url(site_name):\n",
        "    return \"www.\" + site_name + \".com\"\n",
        "make_url(\"naver\")"
      ],
      "metadata": {
        "colab": {
          "base_uri": "https://localhost:8080/",
          "height": 35
        },
        "id": "iFSMpc-9TVNp",
        "outputId": "2f6b1d42-5ce3-40f2-9537-354b5649949e"
      },
      "execution_count": 2,
      "outputs": [
        {
          "output_type": "execute_result",
          "data": {
            "text/plain": [
              "'www.naver.com'"
            ],
            "application/vnd.google.colaboratory.intrinsic+json": {
              "type": "string"
            }
          },
          "metadata": {},
          "execution_count": 2
        }
      ]
    },
    {
      "cell_type": "code",
      "source": [
        "# 233. 문자열을 입력받아 각 문자들로 구성된 리스트로 반환하는 make_list 함수를 정의하라.\n",
        "\n",
        "def make_list(data):\n",
        "    return list(data)\n",
        "\n",
        "make_list(\"abcd\")"
      ],
      "metadata": {
        "colab": {
          "base_uri": "https://localhost:8080/"
        },
        "id": "kjCity4GTyNo",
        "outputId": "c72fa7d1-3adc-436c-b2d2-a27ba5dc2a11"
      },
      "execution_count": 5,
      "outputs": [
        {
          "output_type": "execute_result",
          "data": {
            "text/plain": [
              "['a', 'b', 'c', 'd']"
            ]
          },
          "metadata": {},
          "execution_count": 5
        }
      ]
    },
    {
      "cell_type": "code",
      "source": [
        "# 234. 숫자로 구성된 하나의 리스트를 입력받아, 짝수들을 추출하여 리스트로 반환하는 pickup_even 함수를 구현하라.\n",
        "\n",
        "def pickup_even(lst):\n",
        "    return [i for i in lst if i % 2 == 0]\n",
        "\n",
        "pickup_even([3, 4, 5, 6, 7, 8])"
      ],
      "metadata": {
        "colab": {
          "base_uri": "https://localhost:8080/"
        },
        "id": "zEUq2aZhVIHP",
        "outputId": "b2564752-98ba-4579-e24a-a2d571626afd"
      },
      "execution_count": 8,
      "outputs": [
        {
          "output_type": "execute_result",
          "data": {
            "text/plain": [
              "[4, 6, 8]"
            ]
          },
          "metadata": {},
          "execution_count": 8
        }
      ]
    },
    {
      "cell_type": "code",
      "source": [
        "# 235. 콤마가 포함된 문자열 숫자를 입력받아 정수로 변환하는 convert_int 함수를 정의하라.\n",
        "\n",
        "def convert_int(data):\n",
        "    num = int(data.replace(',', ''))\n",
        "    return num\n",
        "\n",
        "convert_int(\"1,234,567\")"
      ],
      "metadata": {
        "colab": {
          "base_uri": "https://localhost:8080/"
        },
        "id": "vi-gtd37VY30",
        "outputId": "1fa2dcdd-a2c8-425f-acdc-de43ca530ca9"
      },
      "execution_count": 9,
      "outputs": [
        {
          "output_type": "execute_result",
          "data": {
            "text/plain": [
              "1234567"
            ]
          },
          "metadata": {},
          "execution_count": 9
        }
      ]
    },
    {
      "cell_type": "code",
      "source": [
        "# 236. 아래 코드의 실행 결과를 예측하라.\n",
        "\n",
        "def 함수(num) :\n",
        "    return num + 4\n",
        "\n",
        "a = 함수(10)\n",
        "b = 함수(a)\n",
        "c = 함수(b)\n",
        "print(c)\n",
        "\n",
        "'''\n",
        ">> 결과\n",
        "22\n",
        "'''"
      ],
      "metadata": {
        "id": "Ms-DtfsCVnGH"
      },
      "execution_count": null,
      "outputs": []
    },
    {
      "cell_type": "code",
      "source": [
        "# 237. 아래 코드의 실행 결과를 예측하라.\n",
        "\n",
        "def 함수(num) :\n",
        "    return num + 4\n",
        "\n",
        "c = 함수(함수(함수(10)))\n",
        "print(c)\n",
        "\n",
        "'''\n",
        ">> 결과\n",
        "22\n",
        "'''"
      ],
      "metadata": {
        "id": "u0TMR7idV11y"
      },
      "execution_count": null,
      "outputs": []
    },
    {
      "cell_type": "code",
      "source": [
        "# 238. 아래 코드의 실행 결과를 예측하라.\n",
        "\n",
        "def 함수1(num) :\n",
        "    return num + 4\n",
        "\n",
        "def 함수2(num) :\n",
        "    return num * 10\n",
        "\n",
        "a = 함수1(10)\n",
        "c = 함수2(a)\n",
        "print(c)\n",
        "\n",
        "'''\n",
        ">> 결과\n",
        "140\n",
        "'''"
      ],
      "metadata": {
        "id": "8dGhZUxjV5JZ"
      },
      "execution_count": null,
      "outputs": []
    },
    {
      "cell_type": "code",
      "source": [
        "# 239. 아래 코드의 실행 결과를 예측하라.\n",
        "\n",
        "def 함수1(num) :\n",
        "    return num + 4\n",
        "\n",
        "def 함수2(num) :\n",
        "    num = num + 2\n",
        "    return 함수1(num)\n",
        "\n",
        "c = 함수2(10)\n",
        "print(c)\n",
        "\n",
        "'''\n",
        ">> 결과\n",
        "16\n",
        "'''"
      ],
      "metadata": {
        "id": "qJXhXz5rV_57"
      },
      "execution_count": null,
      "outputs": []
    },
    {
      "cell_type": "code",
      "source": [
        "# 240. 아래 코드의 실행 결과를 예측하라.\n",
        "\n",
        "def 함수0(num) :\n",
        "    return num * 2\n",
        "\n",
        "def 함수1(num) :\n",
        "    return 함수0(num + 2)\n",
        "\n",
        "def 함수2(num) :\n",
        "    num = num + 10\n",
        "    return 함수1(num)\n",
        "\n",
        "c = 함수2(2)\n",
        "print(c)\n",
        "\n",
        "'''\n",
        ">> 결과\n",
        "28\n",
        "'''"
      ],
      "metadata": {
        "id": "fnsOrdLzWI4F"
      },
      "execution_count": null,
      "outputs": []
    },
    {
      "cell_type": "code",
      "source": [],
      "metadata": {
        "id": "Vf5e78aRWRC5"
      },
      "execution_count": null,
      "outputs": []
    }
  ]
}