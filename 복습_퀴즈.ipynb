{
  "nbformat": 4,
  "nbformat_minor": 0,
  "metadata": {
    "colab": {
      "provenance": [],
      "authorship_tag": "ABX9TyP1qGHx2ap3enCEIry/SFYX",
      "include_colab_link": true
    },
    "kernelspec": {
      "name": "python3",
      "display_name": "Python 3"
    },
    "language_info": {
      "name": "python"
    }
  },
  "cells": [
    {
      "cell_type": "markdown",
      "metadata": {
        "id": "view-in-github",
        "colab_type": "text"
      },
      "source": [
        "<a href=\"https://colab.research.google.com/github/Um-king/orm/blob/main/%EB%B3%B5%EC%8A%B5_%ED%80%B4%EC%A6%88.ipynb\" target=\"_parent\"><img src=\"https://colab.research.google.com/assets/colab-badge.svg\" alt=\"Open In Colab\"/></a>"
      ]
    },
    {
      "cell_type": "code",
      "execution_count": 3,
      "metadata": {
        "colab": {
          "base_uri": "https://localhost:8080/"
        },
        "id": "vJX4zvIcNQFJ",
        "outputId": "700d560b-dcb6-4909-fb9a-d236796a387a"
      },
      "outputs": [
        {
          "output_type": "stream",
          "name": "stdout",
          "text": [
            "2019/04/26 11:34:27\n"
          ]
        }
      ],
      "source": [
        "# 9. sep과 end를활용한 출력방법으로 다음 소스 코드를 완성하여 날짜와 시간을 출력하시오.\n",
        "'''\n",
        "2019/04/26 11:34:27\n",
        "'''\n",
        "\n",
        "year = '2019'\n",
        "month = '04'\n",
        "day = '26'\n",
        "hour = '11'\n",
        "minute = '34'\n",
        "second = '27'\n",
        "\n",
        "print(year, month, day, sep = \"/\", end = \" \")\n",
        "print(hour, minute, second, sep = \":\")"
      ]
    },
    {
      "cell_type": "code",
      "source": [
        "# 15. 만약 입력으로 김다정이라는 이름이 주어지면 \"안녕하세요. 저는 김다정입니다.\" 라고 출력하게 해주세요.\n",
        "\n",
        "name = input('이름을 입력해주세요: ')\n",
        "print(f\"안녕하세요. 저는 {name}입니다.\")"
      ],
      "metadata": {
        "colab": {
          "base_uri": "https://localhost:8080/"
        },
        "id": "UVvDLfBgPQcc",
        "outputId": "a1989039-f828-40b3-9def-423de6d96ea8"
      },
      "execution_count": 4,
      "outputs": [
        {
          "output_type": "stream",
          "name": "stdout",
          "text": [
            "이름을 입력해주세요: 김다정\n",
            "안녕하세요. 저는 김다정입니다.\n"
          ]
        }
      ]
    },
    {
      "cell_type": "code",
      "source": [
        "# 23. print(10/2)의 출력 결과는 5이다.\n",
        "\n",
        "# 정답 X\n",
        "\n",
        "'''\n",
        "정수의 나눗셈은 부동소수점으로 변환되기 때문에 5.0이다.\n",
        "'''"
      ],
      "metadata": {
        "id": "UeSetbt9Pqf5"
      },
      "execution_count": null,
      "outputs": []
    },
    {
      "cell_type": "code",
      "source": [
        "# 39. 문장이 입력되면 모든 q를 e로, b를 n으로 바꾸는 프로그램을 작성해 주세요.\n",
        "# 완성하려는 문장 안에 q나 b가 들어가지 않는다고 가정합니다.\n",
        "\n",
        "str = input('입력: ')\n",
        "\n",
        "str_change = str.replace(\"q\", \"e\").replace(\"b\", \"n\")\n",
        "\n",
        "print(f\"출력: {str_change}\")"
      ],
      "metadata": {
        "colab": {
          "base_uri": "https://localhost:8080/"
        },
        "id": "gZZj9w_uQH0i",
        "outputId": "f685223a-097e-421e-ae53-afb899f8a34a"
      },
      "execution_count": 5,
      "outputs": [
        {
          "output_type": "stream",
          "name": "stdout",
          "text": [
            "입력: hello my bamq is hyqwob\n",
            "출력: hello my name is hyewon\n"
          ]
        }
      ]
    },
    {
      "cell_type": "code",
      "source": [],
      "metadata": {
        "id": "aN2YuFG6Qoz2"
      },
      "execution_count": null,
      "outputs": []
    }
  ]
}