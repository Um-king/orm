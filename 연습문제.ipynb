{
  "nbformat": 4,
  "nbformat_minor": 0,
  "metadata": {
    "colab": {
      "provenance": [],
      "authorship_tag": "ABX9TyM8Y3dcaj4hbixajtH6adRF",
      "include_colab_link": true
    },
    "kernelspec": {
      "name": "python3",
      "display_name": "Python 3"
    },
    "language_info": {
      "name": "python"
    }
  },
  "cells": [
    {
      "cell_type": "markdown",
      "metadata": {
        "id": "view-in-github",
        "colab_type": "text"
      },
      "source": [
        "<a href=\"https://colab.research.google.com/github/Um-king/orm/blob/main/%EC%97%B0%EC%8A%B5%EB%AC%B8%EC%A0%9C.ipynb\" target=\"_parent\"><img src=\"https://colab.research.google.com/assets/colab-badge.svg\" alt=\"Open In Colab\"/></a>"
      ]
    },
    {
      "cell_type": "markdown",
      "source": [
        "# 연습문제 풀이"
      ],
      "metadata": {
        "id": "C0R21alyW0GA"
      }
    },
    {
      "cell_type": "code",
      "source": [
        "# 1. 다음 코드의 실행 결괏값을 예상해보세요\n",
        "'''\n",
        "a = 100\n",
        "(a > 100) and (a < 200)\n",
        "(a > 100) or (a < 200)\n",
        "(a >= 100) and (a <= 200)\n",
        "(a >= 100) or (a <= 200)\n",
        "'''\n",
        "\n",
        "'''\n",
        "결과\n",
        "False : a는 100보다 크지 않으므로 두 조건 모두 만족하지 않아 False\n",
        "True : a가 200보다 작으므로 두 조건 중 하나만 만족해도 True\n",
        "True : a가 100과 같고 200보다 작으므로 두 조건 모두 만족하여 True\n",
        "True : a가 100과 같기 때문에 두 조건 중 하나만 만족해도 True\n",
        "'''\n",
        "\n",
        "a = 100\n",
        "print((a > 100) and (a < 200))\n",
        "print((a > 100) or (a < 200))\n",
        "print((a >= 100) and (a <= 200))\n",
        "print((a >= 100) or (a <= 200))"
      ],
      "metadata": {
        "colab": {
          "base_uri": "https://localhost:8080/"
        },
        "id": "y5TTGjscW2kL",
        "outputId": "e2c4ee7f-42fe-469a-8a98-d643eecc7b3e"
      },
      "execution_count": 2,
      "outputs": [
        {
          "output_type": "stream",
          "name": "stdout",
          "text": [
            "False\n",
            "True\n",
            "True\n",
            "True\n"
          ]
        }
      ]
    },
    {
      "cell_type": "code",
      "source": [
        "# 2. 다음 코드의 실행 결괏값을 예상해보세요\n",
        "'''\n",
        "b = 25\n",
        "(b % 2 == 0) and (b % 5 == 0)\n",
        "'''\n",
        "\n",
        "'''\n",
        "결과\n",
        "False : 25 % 2 의 나머지 값은 1 이므로 False -> and는 두 조건 모두 만족해야함으로 False\n",
        "'''\n",
        "\n",
        "b = 25\n",
        "print((b % 2 == 0) and (b % 5 == 0))"
      ],
      "metadata": {
        "colab": {
          "base_uri": "https://localhost:8080/"
        },
        "id": "0cdBaWc-XCXy",
        "outputId": "7b7bbf7d-6052-4d9d-b547-a0ef3f37ad19"
      },
      "execution_count": 3,
      "outputs": [
        {
          "output_type": "stream",
          "name": "stdout",
          "text": [
            "False\n"
          ]
        }
      ]
    },
    {
      "cell_type": "code",
      "source": [
        "# 3. 변수 c 안에 들어있는 가격을 100원짜리 몇개로 거슬러 줄 수 있는지 출력해주세요\n",
        "\n",
        "c = 1000\n",
        "\n",
        "# 결과 : 10개\n",
        "\n",
        "print(c//100)"
      ],
      "metadata": {
        "colab": {
          "base_uri": "https://localhost:8080/"
        },
        "id": "mWG-8S65Xo49",
        "outputId": "9dfc0ab8-def4-4285-9660-98ae7b9a2542"
      },
      "execution_count": 14,
      "outputs": [
        {
          "output_type": "stream",
          "name": "stdout",
          "text": [
            "10\n"
          ]
        }
      ]
    },
    {
      "cell_type": "code",
      "source": [
        "# 4. (심화문제) 입력한 금액을 5000원, 1000원, 500원, 100원으로 교환하는 프로그램을 만들어주세요.\n",
        "\n",
        "money = int(input(\"금액을 입력해주세요.\"))\n",
        "\n",
        "# 5000원 계산\n",
        "money_5000 = money // 5000\n",
        "money = money % 5000\n",
        "\n",
        "# 1000원 계산\n",
        "money_1000 = money // 1000\n",
        "money = money % 1000\n",
        "\n",
        "# 500원 계산\n",
        "money_500 = money // 500\n",
        "money = money % 500\n",
        "\n",
        "# 100원 계산\n",
        "money_100 = money // 100\n",
        "\n",
        "print(\"5천원:\", money_5000, \"개\\n1천원:\", money_1000, \"개\\n5백원:\", money_500, \"개\\n1백원:\", money_100, \"개\")"
      ],
      "metadata": {
        "colab": {
          "base_uri": "https://localhost:8080/"
        },
        "id": "FsB4GKW5X99u",
        "outputId": "39327e25-5a65-4791-e6ae-d14b1a18788c"
      },
      "execution_count": 13,
      "outputs": [
        {
          "output_type": "stream",
          "name": "stdout",
          "text": [
            "금액을 입력해주세요.16800\n",
            "5천원: 3 개\n",
            "1천원: 1 개\n",
            "5백원: 1 개\n",
            "1백원: 3 개\n"
          ]
        }
      ]
    },
    {
      "cell_type": "code",
      "source": [],
      "metadata": {
        "id": "WGofXo9QYztO"
      },
      "execution_count": null,
      "outputs": []
    }
  ]
}