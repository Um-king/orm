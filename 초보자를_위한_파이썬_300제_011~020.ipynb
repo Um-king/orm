{
  "nbformat": 4,
  "nbformat_minor": 0,
  "metadata": {
    "colab": {
      "provenance": [],
      "authorship_tag": "ABX9TyO91Vv9QdpWWCZsPgpfuHU9",
      "include_colab_link": true
    },
    "kernelspec": {
      "name": "python3",
      "display_name": "Python 3"
    },
    "language_info": {
      "name": "python"
    }
  },
  "cells": [
    {
      "cell_type": "markdown",
      "metadata": {
        "id": "view-in-github",
        "colab_type": "text"
      },
      "source": [
        "<a href=\"https://colab.research.google.com/github/Um-king/orm/blob/main/%EC%B4%88%EB%B3%B4%EC%9E%90%EB%A5%BC_%EC%9C%84%ED%95%9C_%ED%8C%8C%EC%9D%B4%EC%8D%AC_300%EC%A0%9C_011~020.ipynb\" target=\"_parent\"><img src=\"https://colab.research.google.com/assets/colab-badge.svg\" alt=\"Open In Colab\"/></a>"
      ]
    },
    {
      "cell_type": "markdown",
      "source": [
        "# 초보자를 위한 파이썬 300제\n",
        "### 2. 파이썬 변수\n",
        "* 문제 011~020"
      ],
      "metadata": {
        "id": "n4oUvNMtzCPS"
      }
    },
    {
      "cell_type": "code",
      "source": [
        "# 1. 삼성전자라는 변수로 50,000원을 바인딩해보세요. 삼성전자 주식 10주를 보유하고 있을 때 총 평가금액을 출력하세요.\n",
        "\n",
        "# 변수 선언\n",
        "삼성전자 = 50000\n",
        "평가금액 = 삼성전자 * 10\n",
        "\n",
        "print(평가금액)"
      ],
      "metadata": {
        "colab": {
          "base_uri": "https://localhost:8080/"
        },
        "id": "5PKwMFdmzUda",
        "outputId": "fffcec7a-2335-4fed-c655-5a3c521ab660"
      },
      "execution_count": 2,
      "outputs": [
        {
          "output_type": "stream",
          "name": "stdout",
          "text": [
            "500000\n"
          ]
        }
      ]
    },
    {
      "cell_type": "code",
      "source": [
        "# 2. 다음 표는 삼성전자의 일부 투자정보입니다. 변수를 사용해서 시가총액, 현재가, PER 등을 바인딩해보세요.\n",
        "'''\n",
        " 항목\t      값\n",
        "시가총액\t 298조\n",
        " 현재가\t  50,000원\n",
        "  PER\t     15.79\n",
        "'''\n",
        "\n",
        "# 변수 선언\n",
        "시가총액 = 298000000000000\n",
        "현재가 = 50000\n",
        "PER = 15.79\n",
        "\n",
        "print(시가총액)\n",
        "print(현재가)\n",
        "print(PER)"
      ],
      "metadata": {
        "colab": {
          "base_uri": "https://localhost:8080/"
        },
        "id": "E0QaPm5zzh1Y",
        "outputId": "fed7f821-5473-46cb-99fc-bd7d8af32c5a"
      },
      "execution_count": 4,
      "outputs": [
        {
          "output_type": "stream",
          "name": "stdout",
          "text": [
            "298000000000000\n",
            "50000\n",
            "15.79\n"
          ]
        }
      ]
    },
    {
      "cell_type": "code",
      "source": [
        "# 3. 변수 s와 t에는 각각 문자열이 바인딩 되어있습니다. 두 변수를 이용하여 아래와 같이 출력해보세요.\n",
        "'''\n",
        "# 변수\n",
        "s = \"hello\"\n",
        "t = \"python\"\n",
        "\n",
        "# 실행 예:\n",
        "hello! python\n",
        "'''\n",
        "\n",
        "s = \"hello\"\n",
        "t = \"python\"\n",
        "\n",
        "print(s + \"!\", t)\n",
        "print(s + \"! \" + t)"
      ],
      "metadata": {
        "colab": {
          "base_uri": "https://localhost:8080/"
        },
        "id": "VF5wbpyS2bru",
        "outputId": "7c9113a6-c817-4d2c-b73f-034eaed04bcc"
      },
      "execution_count": 10,
      "outputs": [
        {
          "output_type": "stream",
          "name": "stdout",
          "text": [
            "hello! python\n",
            "hello! python\n"
          ]
        }
      ]
    },
    {
      "cell_type": "code",
      "source": [
        "# 4. 아래 코드의 실행 결과를 예상해보세요.\n",
        "# >> 2 + 2 * 3\n",
        "\n",
        "print(8)"
      ],
      "metadata": {
        "colab": {
          "base_uri": "https://localhost:8080/"
        },
        "id": "tJZzRuGD21sv",
        "outputId": "8964d6f0-863f-4414-9f30-9c14d9d12096"
      },
      "execution_count": 11,
      "outputs": [
        {
          "output_type": "stream",
          "name": "stdout",
          "text": [
            "8\n"
          ]
        }
      ]
    },
    {
      "cell_type": "code",
      "source": [
        "# 5. type() 함수는 데이터 타입을 판별합니다. 변수 a에는 128 숫자가 바인딩돼 있어 type 함수가 int (정수)형임을 알려줍니다.\n",
        "\n",
        "'''\n",
        ">> a = 128\n",
        ">> print (type(a))\n",
        "<class 'int'>\n",
        "'''\n",
        "\n",
        "# 아래 변수에 바인딩된 값의 타입을 판별해보세요.\n",
        "'''\n",
        ">> a = \"132\"\n",
        "'''\n",
        "\n",
        "a = \"132\"\n",
        "print(type(a))"
      ],
      "metadata": {
        "colab": {
          "base_uri": "https://localhost:8080/"
        },
        "id": "caXHph7z3OQm",
        "outputId": "d2b275ae-9cb0-4054-9b5c-378b5b449ac5"
      },
      "execution_count": 12,
      "outputs": [
        {
          "output_type": "stream",
          "name": "stdout",
          "text": [
            "<class 'str'>\n"
          ]
        }
      ]
    },
    {
      "cell_type": "code",
      "source": [
        "# 6. 문자열 '720'를 정수형으로 변환해보세요.\n",
        "# >> num_str = \"720\"\n",
        "\n",
        "num_str = \"720\"\n",
        "num_int = int(num_str)\n",
        "print(\"출력값:\", num_int, \"\\n타입:\", type(num_int))\n"
      ],
      "metadata": {
        "colab": {
          "base_uri": "https://localhost:8080/"
        },
        "id": "1rKlaTFm3jqo",
        "outputId": "6b0fdf92-af39-46b4-aa39-9e078ce9791a"
      },
      "execution_count": 17,
      "outputs": [
        {
          "output_type": "stream",
          "name": "stdout",
          "text": [
            "출력값: 720 \n",
            "타입: <class 'int'>\n"
          ]
        }
      ]
    },
    {
      "cell_type": "code",
      "source": [
        "# 7. 정수 100을 문자열 '100'으로 변환해보세요.\n",
        "\n",
        "num = 100\n",
        "num_str = str(100)\n",
        "\n",
        "print(\"출력값:\", num_str, \"\\n타입:\", type(num_str))"
      ],
      "metadata": {
        "colab": {
          "base_uri": "https://localhost:8080/"
        },
        "id": "QOVM1nBQ3q7H",
        "outputId": "e0b86eda-1094-480b-f292-52c96e2f3feb"
      },
      "execution_count": 18,
      "outputs": [
        {
          "output_type": "stream",
          "name": "stdout",
          "text": [
            "출력값: 100 \n",
            "타입: <class 'str'>\n"
          ]
        }
      ]
    },
    {
      "cell_type": "code",
      "source": [
        "# 8. 문자열 \"15.79\"를 실수(float) 타입으로 변환해보세요.\n",
        "\n",
        "num_str = \"15.79\"\n",
        "num_float = float(num_str)\n",
        "\n",
        "print(\"출력값:\", num_float, \"\\n타입:\", type(num_float))"
      ],
      "metadata": {
        "colab": {
          "base_uri": "https://localhost:8080/"
        },
        "id": "5gjeIhoc4b7s",
        "outputId": "a1e2e652-235f-4423-889f-9bb38f30be13"
      },
      "execution_count": 19,
      "outputs": [
        {
          "output_type": "stream",
          "name": "stdout",
          "text": [
            "출력값: 15.79 \n",
            "타입: <class 'float'>\n"
          ]
        }
      ]
    },
    {
      "cell_type": "code",
      "source": [
        "# 9. year라는 변수가 문자열 타입의 연도를 바인딩하고 있습니다. 이를 정수로 변환한 후 최근 3년의 연도를 화면에 출력해보세요.\n",
        "\n",
        "year = \"2020\"\n",
        "yearInt = int(year)\n",
        "\n",
        "for i in range(3, 0, -1):\n",
        "  print(yearInt - i) # 2017, 2018, 2019"
      ],
      "metadata": {
        "colab": {
          "base_uri": "https://localhost:8080/"
        },
        "id": "HlSM9vVT4q44",
        "outputId": "222ba1d7-23a1-4c32-a7e7-d50c1e098191"
      },
      "execution_count": 21,
      "outputs": [
        {
          "output_type": "stream",
          "name": "stdout",
          "text": [
            "2017\n",
            "2018\n",
            "2019\n"
          ]
        }
      ]
    },
    {
      "cell_type": "code",
      "source": [
        "# 10. 에이컨이 월 48,584원에 무이자 36개월의 조건으로 홈쇼핑에서 판매되고 있습니다. 총 금액은 계산한 후 이를 화면에 출력해보세요. (변수사용하기)\n",
        "\n",
        "money = 48584\n",
        "month = 36\n",
        "total = money * month\n",
        "\n",
        "print(total)"
      ],
      "metadata": {
        "colab": {
          "base_uri": "https://localhost:8080/"
        },
        "id": "4e4CKexT5o-K",
        "outputId": "57f9ee12-8875-48a6-88bb-2ff723a6ea61"
      },
      "execution_count": 23,
      "outputs": [
        {
          "output_type": "stream",
          "name": "stdout",
          "text": [
            "1749024\n"
          ]
        }
      ]
    },
    {
      "cell_type": "code",
      "source": [],
      "metadata": {
        "id": "M3mFlnIC55kO"
      },
      "execution_count": null,
      "outputs": []
    }
  ]
}